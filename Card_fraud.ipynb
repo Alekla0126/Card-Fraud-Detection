{
 "cells": [
  {
   "cell_type": "code",
   "execution_count": 1,
   "metadata": {},
   "outputs": [],
   "source": [
    "#               __  ___  _      __                ___              _     ___                    _      ___     _            _   _             \n",
    "#              /__\\/   \\/_\\    / _| ___  _ __    / __\\__ _ _ __ __| |   / __\\ __ __ _ _   _  __| |    /   \\___| |_ ___  ___| |_(_) ___  _ __  \n",
    "#             /_\\ / /\\ //_\\\\  | |_ / _ \\| '__|  / /  / _` | '__/ _` |  / _\\| '__/ _` | | | |/ _` |   / /\\ / _ \\ __/ _ \\/ __| __| |/ _ \\| '_ \\ \n",
    "#            //__/ /_//  _  \\ |  _| (_) | |    / /__| (_| | | | (_| | / /  | | | (_| | |_| | (_| |  / /_//  __/ ||  __/ (__| |_| | (_) | | | |\n",
    "#            \\__/___,'\\_/ \\_/ |_|  \\___/|_|    \\____/\\__,_|_|  \\__,_| \\/   |_|  \\__,_|\\__,_|\\__,_| /___,' \\___|\\__\\___|\\___|\\__|_|\\___/|_| |_|"
   ]
  },
  {
   "attachments": {},
   "cell_type": "markdown",
   "metadata": {},
   "source": [
    "Credit Card Fraud Detection is a classic class-imbalance problem where the number of fraud transactions is much lesser than the number of legitimate transaction for any bank. Most of the approaches involve building model on such imbalanced data, and thus fails to produce results on real-time new data because of overfitting on training data and a bias towards the majoritarian class of legitimate transactions. Thus, we can see this as an anomaly detection problem.\n",
    "\n",
    "1. What time does the Credit Card Frauds usually take place?\n",
    "2. What are the general trends of amounts for Credit Card Fraud Transactions?\n",
    "3. How do we balance the data to not let the model overfit on legitimate transactions?"
   ]
  },
  {
   "cell_type": "code",
   "execution_count": 2,
   "metadata": {},
   "outputs": [],
   "source": [
    "# Libraries are imported.\n",
    "from plotly.subplots import make_subplots\n",
    "from matplotlib import pyplot as plt\n",
    "import plotly.graph_objects as go\n",
    "from datetime import datetime\n",
    "import plotly.express as px\n",
    "import seaborn as sns\n",
    "import pandas as pd\n",
    "import numpy as np\n",
    "import csv"
   ]
  },
  {
   "cell_type": "code",
   "execution_count": 3,
   "metadata": {},
   "outputs": [],
   "source": [
    "# -------------------------------------------------------------------------------------------------------------------------------------------------\n",
    "# -------------------------------------------------------------------> Data pre-processing <-------------------------------------------------------\n",
    "# -------------------------------------------------------------------------------------------------------------------------------------------------"
   ]
  },
  {
   "cell_type": "code",
   "execution_count": 4,
   "metadata": {},
   "outputs": [
    {
     "name": "stderr",
     "output_type": "stream",
     "text": [
      "/var/folders/1p/27jszvps12x14r9hnwf07w240000gn/T/ipykernel_11194/2640238287.py:2: FutureWarning: The error_bad_lines argument has been deprecated and will be removed in a future version. Use on_bad_lines in the future.\n",
      "\n",
      "\n",
      "  df_train = pd.read_csv('/Users/alejandro/Desktop/Life/Credit-Card-Fraud-Detection/Datasets/training.csv', delimiter=',', error_bad_lines=False, encoding='utf-8', index_col=[0])\n"
     ]
    }
   ],
   "source": [
    "# Reading the file.\n",
    "df_train = pd.read_csv('/Users/alejandro/Desktop/Life/Credit-Card-Fraud-Detection/Datasets/training.csv', delimiter=',', on_bad_lines=False, encoding='utf-8', index_col=[0])"
   ]
  },
  {
   "cell_type": "code",
   "execution_count": 5,
   "metadata": {},
   "outputs": [
    {
     "name": "stdout",
     "output_type": "stream",
     "text": [
      "        trans_date_trans_time               cc_num  \\\n",
      "812459    2019-12-07 13:42:16      341546199006537   \n",
      "83440     2019-02-18 20:09:17      213156747557083   \n",
      "1087534   2020-03-28 10:55:40     2297447006766555   \n",
      "551435    2019-08-24 06:48:35  4560395181594436016   \n",
      "1175617   2020-05-05 15:00:05     6011381817520024   \n",
      "669299    2019-10-12 17:23:44      213163860545705   \n",
      "1230631   2020-05-28 21:37:08       30273037698427   \n",
      "184355    2019-04-06 11:31:08     3519232971341141   \n",
      "691670    2019-10-21 20:00:34     4149238353975790   \n",
      "1206001   2020-05-19 02:06:28     3543299015720986   \n",
      "\n",
      "                                   merchant        category     amt    first  \\\n",
      "812459                     fraud_Bednar PLC       kids_pets  102.52     Mark   \n",
      "83440    fraud_Turcotte, Batz and Buckridge  health_fitness   14.77     Adam   \n",
      "1087534             fraud_Bartoletti-Wunsch   gas_transport   63.02    Laura   \n",
      "551435        fraud_Lockman, West and Runte     grocery_pos  237.50   Angela   \n",
      "1175617                fraud_Hilpert-Conroy       kids_pets  126.09  Kristen   \n",
      "669299                     fraud_Little Ltd       kids_pets   52.14     Mark   \n",
      "1230631                  fraud_Koepp-Parker     grocery_pos   68.03   Andrew   \n",
      "184355                    fraud_Kuvalis Ltd   gas_transport   48.48  Michael   \n",
      "691670                 fraud_Schmidt-Larkin            home   79.41   Tanner   \n",
      "1206001                  fraud_Rau and Sons     grocery_pos  215.07   Angela   \n",
      "\n",
      "              last gender                          street       city  ...  \\\n",
      "812459       Brown      M                 8580 Moore Cove      Wales  ...   \n",
      "83440       Santos      M           725 Jo Trace Apt. 102   Glendale  ...   \n",
      "1087534     Walker      F                 611 Michael Rue      Cisco  ...   \n",
      "551435      Taylor      F    6343 Ramirez Skyway Apt. 518   Lakeport  ...   \n",
      "1175617      Allen      F       8619 Lisa Manors Apt. 871   Lagrange  ...   \n",
      "669299       Tyler      M  82201 Bradley Radial Suite 703      Avera  ...   \n",
      "1230631  Patterson      M  06959 Stephen Branch Suite 246      Thida  ...   \n",
      "184355       Jones      M                  754 Smith Isle  Amsterdam  ...   \n",
      "691670     Carroll      M                 494 Burke Ports   Cokeburg  ...   \n",
      "1206001      White      F                   137 Adam Dale    Lebanon  ...   \n",
      "\n",
      "             long  city_pop                                     job  \\\n",
      "812459  -165.6723       145                Administrator, education   \n",
      "83440   -118.2322    172817             Advertising account planner   \n",
      "1087534  -88.6962       478                     Landscape architect   \n",
      "551435  -122.9328     11256                              Podiatrist   \n",
      "1175617 -104.1974       635   Product/process development scientist   \n",
      "669299   -82.5150       741               Claims inspector/assessor   \n",
      "1230631  -91.4539       111             Careers information officer   \n",
      "184355   -80.9596      2208                     Mental health nurse   \n",
      "691670   -80.0652       632                                  Dealer   \n",
      "1206001  -82.0956      9521  Teacher, English as a foreign language   \n",
      "\n",
      "                dob                         trans_num   unix_time  merch_lat  \\\n",
      "812459   1939-11-09  af422cd298cc312a455f76e67d63d189  1354887736  64.268759   \n",
      "83440    1982-07-30  4001452ced6063597c0b7b0ab1e21c86  1329595757  35.032109   \n",
      "1087534  1960-01-13  e4aeb6f94aeaaac4269e3103c68d5158  1364468140  40.677466   \n",
      "551435   1972-10-18  98bbc6c221858b39a428e23472ba0199  1345790915  39.654945   \n",
      "1175617  1973-07-13  bd802a32018f00aa579a7a7856a076e0  1367766005  40.685368   \n",
      "669299   1986-04-28  10d7d25fe1a2a6a5ff5a73dde8aa9b12  1350062624  33.936319   \n",
      "1230631  2000-06-13  6db2c1222f57d74b34f56f996140ad7c  1369777028  35.511999   \n",
      "184355   1961-09-10  c89b510d2eb73ab2f0bc1d69ee2e3f7c  1333711868  39.609515   \n",
      "691670   1989-04-08  27e092144316610f44768c406422c592  1350849634  40.885918   \n",
      "1206001  1977-10-19  7f679fa78ebd6cb656a10eb62e9f47df  1368929188  36.522386   \n",
      "\n",
      "         merch_long  is_fraud  \\\n",
      "812459  -166.305186         0   \n",
      "83440   -118.902714         0   \n",
      "1087534  -89.185419         0   \n",
      "551435  -122.000753         0   \n",
      "1175617 -103.197630         0   \n",
      "669299   -83.009484         0   \n",
      "1230631  -91.698304         0   \n",
      "184355   -81.842114         0   \n",
      "691670   -80.773737         0   \n",
      "1206001  -82.441976         0   \n",
      "\n",
      "                                                      Link  \n",
      "812459   amazon.com/Edison-Invention-Movies-1891-1918-T...  \n",
      "83440          fandango.com/claudejutra/filmography/p96521  \n",
      "1087534                            californiakitchens.com/  \n",
      "551435   nytimes.com/2007/07/17/world/africa/17iht-17el...  \n",
      "1175617                      stonebridgehair.blogspot.com/  \n",
      "669299          digilander.libero.it/ice00/tsid/hvmec.html  \n",
      "1230631  canada.com/topics/sports/story.html?id=e0dff7e...  \n",
      "184355   spirit-of-metal.com/parole-groupe-Uncle_Slam-n...  \n",
      "691670                    ca.linkedin.com/in/kathybakerpmp  \n",
      "1206001  amazon.com/22-Cuz-D-U-Party-Dont-Stop/dp/B0019...  \n",
      "\n",
      "[10 rows x 23 columns]\n"
     ]
    }
   ],
   "source": [
    "# The first 10 rows were printed.\n",
    "print(df_train.head(10))"
   ]
  },
  {
   "cell_type": "code",
   "execution_count": 6,
   "metadata": {},
   "outputs": [
    {
     "name": "stdout",
     "output_type": "stream",
     "text": [
      "Index(['trans_date_trans_time', 'cc_num', 'merchant', 'category', 'amt',\n",
      "       'first', 'last', 'gender', 'street', 'city', 'state', 'zip', 'lat',\n",
      "       'long', 'city_pop', 'job', 'dob', 'trans_num', 'unix_time', 'merch_lat',\n",
      "       'merch_long', 'is_fraud', 'Link'],\n",
      "      dtype='object')\n"
     ]
    }
   ],
   "source": [
    "# The columns were printed.\n",
    "print(df_train.columns)"
   ]
  },
  {
   "cell_type": "code",
   "execution_count": 7,
   "metadata": {},
   "outputs": [
    {
     "name": "stdout",
     "output_type": "stream",
     "text": [
      "Duplicated values dropped successfully\n"
     ]
    }
   ],
   "source": [
    "# First it is necessary to drop all the duplicate values. Although, the shell script is in charge of that.\n",
    "df_train = df_train.copy()\n",
    "df_train.drop_duplicates(inplace = True)\n",
    "print(\"Duplicated values dropped successfully\")"
   ]
  },
  {
   "cell_type": "code",
   "execution_count": 8,
   "metadata": {},
   "outputs": [],
   "source": [
    "# Some columns get renamed.\n",
    "df_train.rename(columns = {'trans_date_trans_time':'transaction_time',\n",
    "                         'cc_num':'credit_card_number',\n",
    "                         'amt':'amount(usd)',\n",
    "                         'trans_num':'transaction_id'},\n",
    "                inplace = True)"
   ]
  },
  {
   "cell_type": "code",
   "execution_count": 9,
   "metadata": {},
   "outputs": [],
   "source": [
    "# The datetime columns were converted.\n",
    "# transaction_time and dob should be in pd.datetime format and we also convert unix_time to exact timestamp\n",
    "df_train['transaction_time'] = pd.to_datetime(df_train['transaction_time'], infer_datetime_format = True)\n",
    "df_train['dob'] = pd.to_datetime(df_train['dob'], infer_datetime_format = True)"
   ]
  },
  {
   "cell_type": "code",
   "execution_count": 10,
   "metadata": {},
   "outputs": [],
   "source": [
    "# A function was applied utcfromtimestamp and was dropped column unix_time\n",
    "df_train['time'] = df_train['unix_time'].apply(datetime.utcfromtimestamp)\n",
    "df_train.drop('unix_time', axis=1)\n",
    "# A column with hour of day was added.\n",
    "df_train['hour_of_day'] = df_train.time.dt.hour"
   ]
  },
  {
   "cell_type": "code",
   "execution_count": 11,
   "metadata": {},
   "outputs": [
    {
     "name": "stdout",
     "output_type": "stream",
     "text": [
      "<class 'pandas.core.frame.DataFrame'>\n",
      "Int64Index: 1481915 entries, 812459 to 599200\n",
      "Data columns (total 25 columns):\n",
      " #   Column              Non-Null Count    Dtype         \n",
      "---  ------              --------------    -----         \n",
      " 0   transaction_time    1481915 non-null  datetime64[ns]\n",
      " 1   credit_card_number  1481915 non-null  category      \n",
      " 2   merchant            1481915 non-null  object        \n",
      " 3   category            1481915 non-null  object        \n",
      " 4   amount(usd)         1481915 non-null  float64       \n",
      " 5   first               1481915 non-null  object        \n",
      " 6   last                1481915 non-null  object        \n",
      " 7   gender              1481915 non-null  object        \n",
      " 8   street              1481915 non-null  object        \n",
      " 9   city                1481915 non-null  object        \n",
      " 10  state               1481915 non-null  object        \n",
      " 11  zip                 1481915 non-null  int64         \n",
      " 12  lat                 1481915 non-null  float64       \n",
      " 13  long                1481915 non-null  float64       \n",
      " 14  city_pop            1481915 non-null  int64         \n",
      " 15  job                 1481915 non-null  object        \n",
      " 16  dob                 1481915 non-null  datetime64[ns]\n",
      " 17  transaction_id      1481915 non-null  object        \n",
      " 18  unix_time           1481915 non-null  int64         \n",
      " 19  merch_lat           1481915 non-null  float64       \n",
      " 20  merch_long          1481915 non-null  float64       \n",
      " 21  is_fraud            1481915 non-null  category      \n",
      " 22  Link                1481915 non-null  object        \n",
      " 23  time                1481915 non-null  datetime64[ns]\n",
      " 24  hour_of_day         1481915 non-null  category      \n",
      "dtypes: category(3), datetime64[ns](3), float64(5), int64(3), object(11)\n",
      "memory usage: 265.7+ MB\n"
     ]
    }
   ],
   "source": [
    "# Credit card number should be integers not dtypes.\n",
    "# Change dtypes\n",
    "df_train.credit_card_number = df_train.credit_card_number.astype('category')\n",
    "df_train.is_fraud = df_train.is_fraud.astype('category')\n",
    "df_train.hour_of_day = df_train.hour_of_day.astype('category')\n",
    "# Check\n",
    "df_train.info()"
   ]
  },
  {
   "cell_type": "code",
   "execution_count": 12,
   "metadata": {},
   "outputs": [],
   "source": [
    "# -------------------------------------------------------------------------------------------------------------------------------------------------\n",
    "# -------------------------------------------------------------------> End or data preprocessing <-------------------------------------------------\n",
    "# -------------------------------------------------------------------------------------------------------------------------------------------------"
   ]
  },
  {
   "cell_type": "code",
   "execution_count": 13,
   "metadata": {},
   "outputs": [],
   "source": [
    "# -------------------------------------------------------------------------------------------------------------------------------------------------\n",
    "# ------------------------------------------------------------------> Unbalanced data check <------------------------------------------------------\n",
    "# -------------------------------------------------------------------------------------------------------------------------------------------------"
   ]
  },
  {
   "cell_type": "code",
   "execution_count": 14,
   "metadata": {},
   "outputs": [
    {
     "data": {
      "text/plain": [
       "0    1474161\n",
       "1       7754\n",
       "Name: is_fraud, dtype: int64"
      ]
     },
     "execution_count": 14,
     "metadata": {},
     "output_type": "execute_result"
    }
   ],
   "source": [
    "# The  number of classes got counted, in this case, fraudulent or not.\n",
    "df_train['is_fraud'].value_counts()"
   ]
  },
  {
   "cell_type": "code",
   "execution_count": 15,
   "metadata": {},
   "outputs": [
    {
     "data": {
      "application/vnd.plotly.v1+json": {
       "config": {
        "plotlyServerURL": "https://plot.ly"
       },
       "data": [
        {
         "domain": {
          "x": [
           0,
           1
          ],
          "y": [
           0,
           1
          ]
         },
         "hovertemplate": "label=%{label}<br>value=%{value}<extra></extra>",
         "labels": [
          "Genuine",
          "Fraud"
         ],
         "legendgroup": "",
         "name": "",
         "showlegend": true,
         "type": "pie",
         "values": [
          1474161,
          7754
         ]
        }
       ],
       "layout": {
        "height": 400,
        "legend": {
         "tracegroupgap": 0
        },
        "piecolorway": [
         "skyblue",
         "black"
        ],
        "template": {
         "data": {
          "bar": [
           {
            "error_x": {
             "color": "#2a3f5f"
            },
            "error_y": {
             "color": "#2a3f5f"
            },
            "marker": {
             "line": {
              "color": "#E5ECF6",
              "width": 0.5
             },
             "pattern": {
              "fillmode": "overlay",
              "size": 10,
              "solidity": 0.2
             }
            },
            "type": "bar"
           }
          ],
          "barpolar": [
           {
            "marker": {
             "line": {
              "color": "#E5ECF6",
              "width": 0.5
             },
             "pattern": {
              "fillmode": "overlay",
              "size": 10,
              "solidity": 0.2
             }
            },
            "type": "barpolar"
           }
          ],
          "carpet": [
           {
            "aaxis": {
             "endlinecolor": "#2a3f5f",
             "gridcolor": "white",
             "linecolor": "white",
             "minorgridcolor": "white",
             "startlinecolor": "#2a3f5f"
            },
            "baxis": {
             "endlinecolor": "#2a3f5f",
             "gridcolor": "white",
             "linecolor": "white",
             "minorgridcolor": "white",
             "startlinecolor": "#2a3f5f"
            },
            "type": "carpet"
           }
          ],
          "choropleth": [
           {
            "colorbar": {
             "outlinewidth": 0,
             "ticks": ""
            },
            "type": "choropleth"
           }
          ],
          "contour": [
           {
            "colorbar": {
             "outlinewidth": 0,
             "ticks": ""
            },
            "colorscale": [
             [
              0,
              "#0d0887"
             ],
             [
              0.1111111111111111,
              "#46039f"
             ],
             [
              0.2222222222222222,
              "#7201a8"
             ],
             [
              0.3333333333333333,
              "#9c179e"
             ],
             [
              0.4444444444444444,
              "#bd3786"
             ],
             [
              0.5555555555555556,
              "#d8576b"
             ],
             [
              0.6666666666666666,
              "#ed7953"
             ],
             [
              0.7777777777777778,
              "#fb9f3a"
             ],
             [
              0.8888888888888888,
              "#fdca26"
             ],
             [
              1,
              "#f0f921"
             ]
            ],
            "type": "contour"
           }
          ],
          "contourcarpet": [
           {
            "colorbar": {
             "outlinewidth": 0,
             "ticks": ""
            },
            "type": "contourcarpet"
           }
          ],
          "heatmap": [
           {
            "colorbar": {
             "outlinewidth": 0,
             "ticks": ""
            },
            "colorscale": [
             [
              0,
              "#0d0887"
             ],
             [
              0.1111111111111111,
              "#46039f"
             ],
             [
              0.2222222222222222,
              "#7201a8"
             ],
             [
              0.3333333333333333,
              "#9c179e"
             ],
             [
              0.4444444444444444,
              "#bd3786"
             ],
             [
              0.5555555555555556,
              "#d8576b"
             ],
             [
              0.6666666666666666,
              "#ed7953"
             ],
             [
              0.7777777777777778,
              "#fb9f3a"
             ],
             [
              0.8888888888888888,
              "#fdca26"
             ],
             [
              1,
              "#f0f921"
             ]
            ],
            "type": "heatmap"
           }
          ],
          "heatmapgl": [
           {
            "colorbar": {
             "outlinewidth": 0,
             "ticks": ""
            },
            "colorscale": [
             [
              0,
              "#0d0887"
             ],
             [
              0.1111111111111111,
              "#46039f"
             ],
             [
              0.2222222222222222,
              "#7201a8"
             ],
             [
              0.3333333333333333,
              "#9c179e"
             ],
             [
              0.4444444444444444,
              "#bd3786"
             ],
             [
              0.5555555555555556,
              "#d8576b"
             ],
             [
              0.6666666666666666,
              "#ed7953"
             ],
             [
              0.7777777777777778,
              "#fb9f3a"
             ],
             [
              0.8888888888888888,
              "#fdca26"
             ],
             [
              1,
              "#f0f921"
             ]
            ],
            "type": "heatmapgl"
           }
          ],
          "histogram": [
           {
            "marker": {
             "pattern": {
              "fillmode": "overlay",
              "size": 10,
              "solidity": 0.2
             }
            },
            "type": "histogram"
           }
          ],
          "histogram2d": [
           {
            "colorbar": {
             "outlinewidth": 0,
             "ticks": ""
            },
            "colorscale": [
             [
              0,
              "#0d0887"
             ],
             [
              0.1111111111111111,
              "#46039f"
             ],
             [
              0.2222222222222222,
              "#7201a8"
             ],
             [
              0.3333333333333333,
              "#9c179e"
             ],
             [
              0.4444444444444444,
              "#bd3786"
             ],
             [
              0.5555555555555556,
              "#d8576b"
             ],
             [
              0.6666666666666666,
              "#ed7953"
             ],
             [
              0.7777777777777778,
              "#fb9f3a"
             ],
             [
              0.8888888888888888,
              "#fdca26"
             ],
             [
              1,
              "#f0f921"
             ]
            ],
            "type": "histogram2d"
           }
          ],
          "histogram2dcontour": [
           {
            "colorbar": {
             "outlinewidth": 0,
             "ticks": ""
            },
            "colorscale": [
             [
              0,
              "#0d0887"
             ],
             [
              0.1111111111111111,
              "#46039f"
             ],
             [
              0.2222222222222222,
              "#7201a8"
             ],
             [
              0.3333333333333333,
              "#9c179e"
             ],
             [
              0.4444444444444444,
              "#bd3786"
             ],
             [
              0.5555555555555556,
              "#d8576b"
             ],
             [
              0.6666666666666666,
              "#ed7953"
             ],
             [
              0.7777777777777778,
              "#fb9f3a"
             ],
             [
              0.8888888888888888,
              "#fdca26"
             ],
             [
              1,
              "#f0f921"
             ]
            ],
            "type": "histogram2dcontour"
           }
          ],
          "mesh3d": [
           {
            "colorbar": {
             "outlinewidth": 0,
             "ticks": ""
            },
            "type": "mesh3d"
           }
          ],
          "parcoords": [
           {
            "line": {
             "colorbar": {
              "outlinewidth": 0,
              "ticks": ""
             }
            },
            "type": "parcoords"
           }
          ],
          "pie": [
           {
            "automargin": true,
            "type": "pie"
           }
          ],
          "scatter": [
           {
            "fillpattern": {
             "fillmode": "overlay",
             "size": 10,
             "solidity": 0.2
            },
            "type": "scatter"
           }
          ],
          "scatter3d": [
           {
            "line": {
             "colorbar": {
              "outlinewidth": 0,
              "ticks": ""
             }
            },
            "marker": {
             "colorbar": {
              "outlinewidth": 0,
              "ticks": ""
             }
            },
            "type": "scatter3d"
           }
          ],
          "scattercarpet": [
           {
            "marker": {
             "colorbar": {
              "outlinewidth": 0,
              "ticks": ""
             }
            },
            "type": "scattercarpet"
           }
          ],
          "scattergeo": [
           {
            "marker": {
             "colorbar": {
              "outlinewidth": 0,
              "ticks": ""
             }
            },
            "type": "scattergeo"
           }
          ],
          "scattergl": [
           {
            "marker": {
             "colorbar": {
              "outlinewidth": 0,
              "ticks": ""
             }
            },
            "type": "scattergl"
           }
          ],
          "scattermapbox": [
           {
            "marker": {
             "colorbar": {
              "outlinewidth": 0,
              "ticks": ""
             }
            },
            "type": "scattermapbox"
           }
          ],
          "scatterpolar": [
           {
            "marker": {
             "colorbar": {
              "outlinewidth": 0,
              "ticks": ""
             }
            },
            "type": "scatterpolar"
           }
          ],
          "scatterpolargl": [
           {
            "marker": {
             "colorbar": {
              "outlinewidth": 0,
              "ticks": ""
             }
            },
            "type": "scatterpolargl"
           }
          ],
          "scatterternary": [
           {
            "marker": {
             "colorbar": {
              "outlinewidth": 0,
              "ticks": ""
             }
            },
            "type": "scatterternary"
           }
          ],
          "surface": [
           {
            "colorbar": {
             "outlinewidth": 0,
             "ticks": ""
            },
            "colorscale": [
             [
              0,
              "#0d0887"
             ],
             [
              0.1111111111111111,
              "#46039f"
             ],
             [
              0.2222222222222222,
              "#7201a8"
             ],
             [
              0.3333333333333333,
              "#9c179e"
             ],
             [
              0.4444444444444444,
              "#bd3786"
             ],
             [
              0.5555555555555556,
              "#d8576b"
             ],
             [
              0.6666666666666666,
              "#ed7953"
             ],
             [
              0.7777777777777778,
              "#fb9f3a"
             ],
             [
              0.8888888888888888,
              "#fdca26"
             ],
             [
              1,
              "#f0f921"
             ]
            ],
            "type": "surface"
           }
          ],
          "table": [
           {
            "cells": {
             "fill": {
              "color": "#EBF0F8"
             },
             "line": {
              "color": "white"
             }
            },
            "header": {
             "fill": {
              "color": "#C8D4E3"
             },
             "line": {
              "color": "white"
             }
            },
            "type": "table"
           }
          ]
         },
         "layout": {
          "annotationdefaults": {
           "arrowcolor": "#2a3f5f",
           "arrowhead": 0,
           "arrowwidth": 1
          },
          "autotypenumbers": "strict",
          "coloraxis": {
           "colorbar": {
            "outlinewidth": 0,
            "ticks": ""
           }
          },
          "colorscale": {
           "diverging": [
            [
             0,
             "#8e0152"
            ],
            [
             0.1,
             "#c51b7d"
            ],
            [
             0.2,
             "#de77ae"
            ],
            [
             0.3,
             "#f1b6da"
            ],
            [
             0.4,
             "#fde0ef"
            ],
            [
             0.5,
             "#f7f7f7"
            ],
            [
             0.6,
             "#e6f5d0"
            ],
            [
             0.7,
             "#b8e186"
            ],
            [
             0.8,
             "#7fbc41"
            ],
            [
             0.9,
             "#4d9221"
            ],
            [
             1,
             "#276419"
            ]
           ],
           "sequential": [
            [
             0,
             "#0d0887"
            ],
            [
             0.1111111111111111,
             "#46039f"
            ],
            [
             0.2222222222222222,
             "#7201a8"
            ],
            [
             0.3333333333333333,
             "#9c179e"
            ],
            [
             0.4444444444444444,
             "#bd3786"
            ],
            [
             0.5555555555555556,
             "#d8576b"
            ],
            [
             0.6666666666666666,
             "#ed7953"
            ],
            [
             0.7777777777777778,
             "#fb9f3a"
            ],
            [
             0.8888888888888888,
             "#fdca26"
            ],
            [
             1,
             "#f0f921"
            ]
           ],
           "sequentialminus": [
            [
             0,
             "#0d0887"
            ],
            [
             0.1111111111111111,
             "#46039f"
            ],
            [
             0.2222222222222222,
             "#7201a8"
            ],
            [
             0.3333333333333333,
             "#9c179e"
            ],
            [
             0.4444444444444444,
             "#bd3786"
            ],
            [
             0.5555555555555556,
             "#d8576b"
            ],
            [
             0.6666666666666666,
             "#ed7953"
            ],
            [
             0.7777777777777778,
             "#fb9f3a"
            ],
            [
             0.8888888888888888,
             "#fdca26"
            ],
            [
             1,
             "#f0f921"
            ]
           ]
          },
          "colorway": [
           "#636efa",
           "#EF553B",
           "#00cc96",
           "#ab63fa",
           "#FFA15A",
           "#19d3f3",
           "#FF6692",
           "#B6E880",
           "#FF97FF",
           "#FECB52"
          ],
          "font": {
           "color": "#2a3f5f"
          },
          "geo": {
           "bgcolor": "white",
           "lakecolor": "white",
           "landcolor": "#E5ECF6",
           "showlakes": true,
           "showland": true,
           "subunitcolor": "white"
          },
          "hoverlabel": {
           "align": "left"
          },
          "hovermode": "closest",
          "mapbox": {
           "style": "light"
          },
          "paper_bgcolor": "white",
          "plot_bgcolor": "#E5ECF6",
          "polar": {
           "angularaxis": {
            "gridcolor": "white",
            "linecolor": "white",
            "ticks": ""
           },
           "bgcolor": "#E5ECF6",
           "radialaxis": {
            "gridcolor": "white",
            "linecolor": "white",
            "ticks": ""
           }
          },
          "scene": {
           "xaxis": {
            "backgroundcolor": "#E5ECF6",
            "gridcolor": "white",
            "gridwidth": 2,
            "linecolor": "white",
            "showbackground": true,
            "ticks": "",
            "zerolinecolor": "white"
           },
           "yaxis": {
            "backgroundcolor": "#E5ECF6",
            "gridcolor": "white",
            "gridwidth": 2,
            "linecolor": "white",
            "showbackground": true,
            "ticks": "",
            "zerolinecolor": "white"
           },
           "zaxis": {
            "backgroundcolor": "#E5ECF6",
            "gridcolor": "white",
            "gridwidth": 2,
            "linecolor": "white",
            "showbackground": true,
            "ticks": "",
            "zerolinecolor": "white"
           }
          },
          "shapedefaults": {
           "line": {
            "color": "#2a3f5f"
           }
          },
          "ternary": {
           "aaxis": {
            "gridcolor": "white",
            "linecolor": "white",
            "ticks": ""
           },
           "baxis": {
            "gridcolor": "white",
            "linecolor": "white",
            "ticks": ""
           },
           "bgcolor": "#E5ECF6",
           "caxis": {
            "gridcolor": "white",
            "linecolor": "white",
            "ticks": ""
           }
          },
          "title": {
           "x": 0.05
          },
          "xaxis": {
           "automargin": true,
           "gridcolor": "white",
           "linecolor": "white",
           "ticks": "",
           "title": {
            "standoff": 15
           },
           "zerolinecolor": "white",
           "zerolinewidth": 2
          },
          "yaxis": {
           "automargin": true,
           "gridcolor": "white",
           "linecolor": "white",
           "ticks": "",
           "title": {
            "standoff": 15
           },
           "zerolinecolor": "white",
           "zerolinewidth": 2
          }
         }
        },
        "title": {
         "text": "Fraud vs Genuine transactions"
        },
        "width": 700
       }
      }
     },
     "metadata": {},
     "output_type": "display_data"
    }
   ],
   "source": [
    "# Labeling the data in genuine and fraudulent transactions, this way it is easier to observe that the data is unbalanced.\n",
    "labels=[\"Genuine\", \"Fraud\"]\n",
    "fraud_or_not = df_train['is_fraud'].value_counts().tolist()\n",
    "values = [fraud_or_not[0], fraud_or_not[1]]\n",
    "# Plotting the values.\n",
    "fig = px.pie(values = df_train['is_fraud'].value_counts(), names = labels , width = 700, height = 400, color_discrete_sequence = [\"skyblue\", \"black\"]\n",
    "             ,title = \"Fraud vs Genuine transactions\")\n",
    "fig.show()"
   ]
  },
  {
   "cell_type": "code",
   "execution_count": 16,
   "metadata": {},
   "outputs": [
    {
     "data": {
      "image/png": "[encoded data removed]",
      "text/plain": [
       "<Figure size 300x400 with 1 Axes>"
      ]
     },
     "metadata": {},
     "output_type": "display_data"
    }
   ],
   "source": [
    "# Unbalance data represented with bars.\n",
    "plt.figure(figsize = (3,4))\n",
    "ax = sns.countplot(x = 'is_fraud', data = df_train, palette = \"pastel\")\n",
    "for i in ax.containers:\n",
    "    ax.bar_label(i,)"
   ]
  },
  {
   "cell_type": "code",
   "execution_count": 17,
   "metadata": {},
   "outputs": [
    {
     "name": "stdout",
     "output_type": "stream",
     "text": [
      "Genuine transactions: 99.48 % of the dataset\n",
      "Fraudulent transactions: 0.52 % of the dataset\n"
     ]
    }
   ],
   "source": [
    "# Percentage of data.\n",
    "print('Genuine transactions:', round(df_train['is_fraud'].value_counts()[0]/len(df_train) * 100,2), '% of the dataset')\n",
    "print('Fraudulent transactions:', round(df_train['is_fraud'].value_counts()[1]/len(df_train) * 100,2), '% of the dataset')"
   ]
  },
  {
   "cell_type": "code",
   "execution_count": 18,
   "metadata": {},
   "outputs": [],
   "source": [
    "# -------------------------------------------------------------------------------------------------------------------------------------------------\n",
    "# ---------------------------------------------------------> Unbalanced data check was finished <--------------------------------------------------\n",
    "# -------------------------------------------------------------------------------------------------------------------------------------------------"
   ]
  },
  {
   "cell_type": "code",
   "execution_count": 19,
   "metadata": {},
   "outputs": [],
   "source": [
    "# -------------------------------------------------------------------------------------------------------------------------------------------------\n",
    "# --------------------------------------------------------------> Exploratory Data Analysis <------------------------------------------------------\n",
    "# -------------------------------------------------------------------------------------------------------------------------------------------------"
   ]
  },
  {
   "cell_type": "code",
   "execution_count": 20,
   "metadata": {},
   "outputs": [
    {
     "data": {
      "text/html": [
       "<div>\n",
       "<style scoped>\n",
       "    .dataframe tbody tr th:only-of-type {\n",
       "        vertical-align: middle;\n",
       "    }\n",
       "\n",
       "    .dataframe tbody tr th {\n",
       "        vertical-align: top;\n",
       "    }\n",
       "\n",
       "    .dataframe thead th {\n",
       "        text-align: right;\n",
       "    }\n",
       "</style>\n",
       "<table border=\"1\" class=\"dataframe\">\n",
       "  <thead>\n",
       "    <tr style=\"text-align: right;\">\n",
       "      <th></th>\n",
       "      <th>amount(usd)</th>\n",
       "      <th>zip</th>\n",
       "      <th>lat</th>\n",
       "      <th>long</th>\n",
       "      <th>city_pop</th>\n",
       "      <th>unix_time</th>\n",
       "      <th>merch_lat</th>\n",
       "      <th>merch_long</th>\n",
       "    </tr>\n",
       "  </thead>\n",
       "  <tbody>\n",
       "    <tr>\n",
       "      <th>count</th>\n",
       "      <td>1481915.00</td>\n",
       "      <td>1481915.00</td>\n",
       "      <td>1481915.00</td>\n",
       "      <td>1481915.00</td>\n",
       "      <td>1481915.00</td>\n",
       "      <td>1.481915e+06</td>\n",
       "      <td>1481915.00</td>\n",
       "      <td>1481915.00</td>\n",
       "    </tr>\n",
       "    <tr>\n",
       "      <th>mean</th>\n",
       "      <td>70.00</td>\n",
       "      <td>48810.92</td>\n",
       "      <td>38.54</td>\n",
       "      <td>-90.23</td>\n",
       "      <td>88464.35</td>\n",
       "      <td>1.358672e+09</td>\n",
       "      <td>38.54</td>\n",
       "      <td>-90.23</td>\n",
       "    </tr>\n",
       "    <tr>\n",
       "      <th>std</th>\n",
       "      <td>156.88</td>\n",
       "      <td>26882.64</td>\n",
       "      <td>5.07</td>\n",
       "      <td>13.75</td>\n",
       "      <td>301060.17</td>\n",
       "      <td>1.819529e+07</td>\n",
       "      <td>5.11</td>\n",
       "      <td>13.76</td>\n",
       "    </tr>\n",
       "    <tr>\n",
       "      <th>min</th>\n",
       "      <td>1.00</td>\n",
       "      <td>1257.00</td>\n",
       "      <td>20.03</td>\n",
       "      <td>-165.67</td>\n",
       "      <td>23.00</td>\n",
       "      <td>1.325376e+09</td>\n",
       "      <td>19.03</td>\n",
       "      <td>-166.67</td>\n",
       "    </tr>\n",
       "    <tr>\n",
       "      <th>25%</th>\n",
       "      <td>9.65</td>\n",
       "      <td>26237.00</td>\n",
       "      <td>34.67</td>\n",
       "      <td>-96.80</td>\n",
       "      <td>743.00</td>\n",
       "      <td>1.343012e+09</td>\n",
       "      <td>34.74</td>\n",
       "      <td>-96.90</td>\n",
       "    </tr>\n",
       "    <tr>\n",
       "      <th>50%</th>\n",
       "      <td>47.44</td>\n",
       "      <td>48174.00</td>\n",
       "      <td>39.35</td>\n",
       "      <td>-87.48</td>\n",
       "      <td>2443.00</td>\n",
       "      <td>1.357081e+09</td>\n",
       "      <td>39.37</td>\n",
       "      <td>-87.44</td>\n",
       "    </tr>\n",
       "    <tr>\n",
       "      <th>75%</th>\n",
       "      <td>83.09</td>\n",
       "      <td>72011.00</td>\n",
       "      <td>41.94</td>\n",
       "      <td>-80.16</td>\n",
       "      <td>20328.00</td>\n",
       "      <td>1.374578e+09</td>\n",
       "      <td>41.96</td>\n",
       "      <td>-80.24</td>\n",
       "    </tr>\n",
       "    <tr>\n",
       "      <th>max</th>\n",
       "      <td>27390.12</td>\n",
       "      <td>99921.00</td>\n",
       "      <td>66.69</td>\n",
       "      <td>-67.95</td>\n",
       "      <td>2906700.00</td>\n",
       "      <td>1.388534e+09</td>\n",
       "      <td>67.51</td>\n",
       "      <td>-66.95</td>\n",
       "    </tr>\n",
       "  </tbody>\n",
       "</table>\n",
       "</div>"
      ],
      "text/plain": [
       "       amount(usd)         zip         lat        long    city_pop  \\\n",
       "count   1481915.00  1481915.00  1481915.00  1481915.00  1481915.00   \n",
       "mean         70.00    48810.92       38.54      -90.23    88464.35   \n",
       "std         156.88    26882.64        5.07       13.75   301060.17   \n",
       "min           1.00     1257.00       20.03     -165.67       23.00   \n",
       "25%           9.65    26237.00       34.67      -96.80      743.00   \n",
       "50%          47.44    48174.00       39.35      -87.48     2443.00   \n",
       "75%          83.09    72011.00       41.94      -80.16    20328.00   \n",
       "max       27390.12    99921.00       66.69      -67.95  2906700.00   \n",
       "\n",
       "          unix_time   merch_lat  merch_long  \n",
       "count  1.481915e+06  1481915.00  1481915.00  \n",
       "mean   1.358672e+09       38.54      -90.23  \n",
       "std    1.819529e+07        5.11       13.76  \n",
       "min    1.325376e+09       19.03     -166.67  \n",
       "25%    1.343012e+09       34.74      -96.90  \n",
       "50%    1.357081e+09       39.37      -87.44  \n",
       "75%    1.374578e+09       41.96      -80.24  \n",
       "max    1.388534e+09       67.51      -66.95  "
      ]
     },
     "execution_count": 20,
     "metadata": {},
     "output_type": "execute_result"
    }
   ],
   "source": [
    "# A quick statistical summary of the columns was made.\n",
    "np.round(df_train.describe(), 2)"
   ]
  },
  {
   "cell_type": "code",
   "execution_count": 21,
   "metadata": {},
   "outputs": [],
   "source": [
    "# Quick Summarize using pandas_profiling was realized.\n",
    "groups = [pd.Grouper(key=\"transaction_time\", freq=\"1W\"), \"is_fraud\"]\n",
    "df_ = df_train.groupby(by=groups).agg({\"amount(usd)\":'mean',\"transaction_id\":\"count\"}).reset_index()"
   ]
  },
  {
   "cell_type": "code",
   "execution_count": 22,
   "metadata": {},
   "outputs": [],
   "source": [
    "def add_traces(df, x, y,hue, mode, cmap, showlegend=None):\n",
    "    name_map = {1:\"Yes\", 0:\"No\"}\n",
    "    traces = []\n",
    "    for flag in df[hue].unique():\n",
    "        traces.append(\n",
    "            go.Scatter(\n",
    "                x=df[df[hue]==flag][x],\n",
    "                y=df[df[hue]==flag][y],\n",
    "                mode=mode,\n",
    "                marker=dict(color=cmap[flag]),\n",
    "                showlegend=showlegend,\n",
    "                name=name_map[flag]\n",
    "            )\n",
    "        )\n",
    "    return traces"
   ]
  },
  {
   "cell_type": "code",
   "execution_count": 23,
   "metadata": {},
   "outputs": [
    {
     "data": {
      "application/vnd.plotly.v1+json": {
       "config": {
        "plotlyServerURL": "https://plot.ly"
       },
       "data": [
        {
         "marker": {
          "color": "#61E50F"
         },
         "mode": "lines",
         "name": "No",
         "showlegend": true,
         "type": "scatter",
         "x": [
          "2019-01-06T00:00:00",
          "2019-01-13T00:00:00",
          "2019-01-20T00:00:00",
          "2019-01-27T00:00:00",
          "2019-02-03T00:00:00",
          "2019-02-10T00:00:00",
          "2019-02-17T00:00:00",
          "2019-02-24T00:00:00",
          "2019-03-03T00:00:00",
          "2019-03-10T00:00:00",
          "2019-03-17T00:00:00",
          "2019-03-24T00:00:00",
          "2019-03-31T00:00:00",
          "2019-04-07T00:00:00",
          "2019-04-14T00:00:00",
          "2019-04-21T00:00:00",
          "2019-04-28T00:00:00",
          "2019-05-05T00:00:00",
          "2019-05-12T00:00:00",
          "2019-05-19T00:00:00",
          "2019-05-26T00:00:00",
          "2019-06-02T00:00:00",
          "2019-06-09T00:00:00",
          "2019-06-16T00:00:00",
          "2019-06-23T00:00:00",
          "2019-06-30T00:00:00",
          "2019-07-07T00:00:00",
          "2019-07-14T00:00:00",
          "2019-07-21T00:00:00",
          "2019-07-28T00:00:00",
          "2019-08-04T00:00:00",
          "2019-08-11T00:00:00",
          "2019-08-18T00:00:00",
          "2019-08-25T00:00:00",
          "2019-09-01T00:00:00",
          "2019-09-08T00:00:00",
          "2019-09-15T00:00:00",
          "2019-09-22T00:00:00",
          "2019-09-29T00:00:00",
          "2019-10-06T00:00:00",
          "2019-10-13T00:00:00",
          "2019-10-20T00:00:00",
          "2019-10-27T00:00:00",
          "2019-11-03T00:00:00",
          "2019-11-10T00:00:00",
          "2019-11-17T00:00:00",
          "2019-11-24T00:00:00",
          "2019-12-01T00:00:00",
          "2019-12-08T00:00:00",
          "2019-12-15T00:00:00",
          "2019-12-22T00:00:00",
          "2019-12-29T00:00:00",
          "2020-01-05T00:00:00",
          "2020-01-12T00:00:00",
          "2020-01-19T00:00:00",
          "2020-01-26T00:00:00",
          "2020-02-02T00:00:00",
          "2020-02-09T00:00:00",
          "2020-02-16T00:00:00",
          "2020-02-23T00:00:00",
          "2020-03-01T00:00:00",
          "2020-03-08T00:00:00",
          "2020-03-15T00:00:00",
          "2020-03-22T00:00:00",
          "2020-03-29T00:00:00",
          "2020-04-05T00:00:00",
          "2020-04-12T00:00:00",
          "2020-04-19T00:00:00",
          "2020-04-26T00:00:00",
          "2020-05-03T00:00:00",
          "2020-05-10T00:00:00",
          "2020-05-17T00:00:00",
          "2020-05-24T00:00:00",
          "2020-05-31T00:00:00",
          "2020-06-07T00:00:00",
          "2020-06-14T00:00:00",
          "2020-06-21T00:00:00",
          "2020-06-28T00:00:00",
          "2020-07-05T00:00:00",
          "2020-07-12T00:00:00",
          "2020-07-19T00:00:00",
          "2020-07-26T00:00:00",
          "2020-08-02T00:00:00",
          "2020-08-09T00:00:00",
          "2020-08-16T00:00:00",
          "2020-08-23T00:00:00",
          "2020-08-30T00:00:00",
          "2020-09-06T00:00:00",
          "2020-09-13T00:00:00",
          "2020-09-20T00:00:00",
          "2020-09-27T00:00:00",
          "2020-10-04T00:00:00",
          "2020-10-11T00:00:00",
          "2020-10-18T00:00:00",
          "2020-10-25T00:00:00",
          "2020-11-01T00:00:00",
          "2020-11-08T00:00:00",
          "2020-11-15T00:00:00",
          "2020-11-22T00:00:00",
          "2020-11-29T00:00:00",
          "2020-12-06T00:00:00",
          "2020-12-13T00:00:00",
          "2020-12-20T00:00:00",
          "2020-12-27T00:00:00",
          "2021-01-03T00:00:00"
         ],
         "xaxis": "x",
         "y": [
          66.10316673124112,
          67.140211851075,
          67.56416551724138,
          66.21694046482011,
          67.31273795781298,
          68.12257389292101,
          67.72403442485306,
          66.18163025031821,
          68.26196952293438,
          68.99724102725202,
          68.9781779284734,
          66.09006231027321,
          69.15073129929101,
          67.47150478147475,
          65.8616240530303,
          66.42920375631313,
          67.5862994011976,
          68.17981563126253,
          68.05492580899764,
          67.39179740928473,
          66.89493795280109,
          68.03508217526493,
          65.87993513513513,
          70.00242929292929,
          68.62110387121503,
          68.3681070537827,
          67.81303760356916,
          68.02522295833865,
          68.79238162272844,
          66.80346950554735,
          66.58609342625729,
          66.23447014830776,
          67.08863837033299,
          67.16270484525621,
          67.42954751987884,
          67.57949247379621,
          68.9068005098789,
          69.38957932881677,
          66.12241063678687,
          67.44770115848372,
          66.26780743565301,
          68.5248653185197,
          66.6183281978352,
          66.13979977928425,
          67.60289186193793,
          68.83230622466014,
          65.01769371957545,
          69.30801598795111,
          69.53984564454372,
          68.21342223102833,
          66.95951378868045,
          67.57007235308305,
          68.51412624154311,
          70.07746079866193,
          68.47162506420133,
          65.87238948250575,
          65.14756970015782,
          65.78864812834225,
          66.26233396385035,
          65.9198093934288,
          68.67301905227163,
          68.87650830221658,
          67.84348155156101,
          68.45547122471382,
          67.31385284122342,
          68.17095791232397,
          66.37691590237836,
          67.65670758577274,
          68.77351267336202,
          69.27067171391752,
          67.39369831424936,
          66.21766580127449,
          66.3293538508651,
          68.64011636084649,
          65.62917798742139,
          67.82296609101222,
          68.89335437046387,
          67.99257144643862,
          66.94067685726867,
          67.3204053296806,
          68.95742348709535,
          66.62427717664822,
          69.00544795113261,
          67.67295773764737,
          67.14059794214715,
          66.62099348225021,
          65.45724012041248,
          67.25960105061404,
          67.92903853549727,
          67.176221559705,
          69.25286547863112,
          66.88823598588789,
          66.81271051595117,
          67.84665854425404,
          68.44351597811435,
          69.34371800910661,
          68.00063087991145,
          65.95081009296149,
          67.23942001274698,
          69.57794256838052,
          66.13303237735552,
          66.52464383992452,
          69.7896161703465,
          66.69415800167324,
          66.73058388863231
         ],
         "yaxis": "y"
        },
        {
         "marker": {
          "color": "#D93C1D"
         },
         "mode": "lines",
         "name": "Yes",
         "showlegend": true,
         "type": "scatter",
         "x": [
          "2019-01-06T00:00:00",
          "2019-01-13T00:00:00",
          "2019-01-20T00:00:00",
          "2019-01-27T00:00:00",
          "2019-02-03T00:00:00",
          "2019-02-10T00:00:00",
          "2019-02-17T00:00:00",
          "2019-02-24T00:00:00",
          "2019-03-03T00:00:00",
          "2019-03-10T00:00:00",
          "2019-03-17T00:00:00",
          "2019-03-24T00:00:00",
          "2019-03-31T00:00:00",
          "2019-04-07T00:00:00",
          "2019-04-14T00:00:00",
          "2019-04-21T00:00:00",
          "2019-04-28T00:00:00",
          "2019-05-05T00:00:00",
          "2019-05-12T00:00:00",
          "2019-05-19T00:00:00",
          "2019-05-26T00:00:00",
          "2019-06-02T00:00:00",
          "2019-06-09T00:00:00",
          "2019-06-16T00:00:00",
          "2019-06-23T00:00:00",
          "2019-06-30T00:00:00",
          "2019-07-07T00:00:00",
          "2019-07-14T00:00:00",
          "2019-07-21T00:00:00",
          "2019-07-28T00:00:00",
          "2019-08-04T00:00:00",
          "2019-08-11T00:00:00",
          "2019-08-18T00:00:00",
          "2019-08-25T00:00:00",
          "2019-09-01T00:00:00",
          "2019-09-08T00:00:00",
          "2019-09-15T00:00:00",
          "2019-09-22T00:00:00",
          "2019-09-29T00:00:00",
          "2019-10-06T00:00:00",
          "2019-10-13T00:00:00",
          "2019-10-20T00:00:00",
          "2019-10-27T00:00:00",
          "2019-11-03T00:00:00",
          "2019-11-10T00:00:00",
          "2019-11-17T00:00:00",
          "2019-11-24T00:00:00",
          "2019-12-01T00:00:00",
          "2019-12-08T00:00:00",
          "2019-12-15T00:00:00",
          "2019-12-22T00:00:00",
          "2019-12-29T00:00:00",
          "2020-01-05T00:00:00",
          "2020-01-12T00:00:00",
          "2020-01-19T00:00:00",
          "2020-01-26T00:00:00",
          "2020-02-02T00:00:00",
          "2020-02-09T00:00:00",
          "2020-02-16T00:00:00",
          "2020-02-23T00:00:00",
          "2020-03-01T00:00:00",
          "2020-03-08T00:00:00",
          "2020-03-15T00:00:00",
          "2020-03-22T00:00:00",
          "2020-03-29T00:00:00",
          "2020-04-05T00:00:00",
          "2020-04-12T00:00:00",
          "2020-04-19T00:00:00",
          "2020-04-26T00:00:00",
          "2020-05-03T00:00:00",
          "2020-05-10T00:00:00",
          "2020-05-17T00:00:00",
          "2020-05-24T00:00:00",
          "2020-05-31T00:00:00",
          "2020-06-07T00:00:00",
          "2020-06-14T00:00:00",
          "2020-06-21T00:00:00",
          "2020-06-28T00:00:00",
          "2020-07-05T00:00:00",
          "2020-07-12T00:00:00",
          "2020-07-19T00:00:00",
          "2020-07-26T00:00:00",
          "2020-08-02T00:00:00",
          "2020-08-09T00:00:00",
          "2020-08-16T00:00:00",
          "2020-08-23T00:00:00",
          "2020-08-30T00:00:00",
          "2020-09-06T00:00:00",
          "2020-09-13T00:00:00",
          "2020-09-20T00:00:00",
          "2020-09-27T00:00:00",
          "2020-10-04T00:00:00",
          "2020-10-11T00:00:00",
          "2020-10-18T00:00:00",
          "2020-10-25T00:00:00",
          "2020-11-01T00:00:00",
          "2020-11-08T00:00:00",
          "2020-11-15T00:00:00",
          "2020-11-22T00:00:00",
          "2020-11-29T00:00:00",
          "2020-12-06T00:00:00",
          "2020-12-13T00:00:00",
          "2020-12-20T00:00:00",
          "2020-12-27T00:00:00",
          "2021-01-03T00:00:00"
         ],
         "xaxis": "x",
         "y": [
          542.4243902439025,
          545.0909278350515,
          484.9603649635037,
          540.2970491803279,
          518.8079487179488,
          565.6711494252874,
          590.9636893203884,
          449.529746835443,
          468.04229508196727,
          453.27821782178216,
          571.1035483870968,
          442.6809375,
          523.5621212121212,
          542.5210204081633,
          517.4138095238095,
          657.0803125,
          555.7959420289855,
          529.6810975609756,
          437.5219047619048,
          585.3239772727273,
          509.0134126984127,
          473.72444444444443,
          490.4698,
          524.602,
          472.657536231884,
          520.3390410958904,
          580.1420689655172,
          683.7085135135135,
          384.42952380952386,
          506.3682795698925,
          548.7976785714286,
          547.3774137931034,
          592.468,
          447.1153333333333,
          485.69234234234233,
          530.5821428571429,
          451.2310743801653,
          485.4573134328358,
          551.917619047619,
          512.0205479452055,
          562.1360674157304,
          603.9890384615385,
          563.788,
          510.60853932584274,
          601.9365853658537,
          505.51163636363634,
          526.4143333333334,
          517.3471698113207,
          557.7965137614678,
          537.1890000000001,
          638.8605376344086,
          534.4809848484849,
          515.6110869565217,
          609.8215714285715,
          528.2182089552239,
          520.2016666666667,
          510.7015584415584,
          472.8445283018868,
          618.4582142857143,
          568.3724691358025,
          539.2268831168832,
          503.06783333333334,
          595.1074725274725,
          458.29253731343283,
          582.6066666666667,
          535.60078125,
          413.0572413793103,
          534.1564788732394,
          486.25578947368416,
          472.4663043478261,
          539.7935398230088,
          601.4460273972602,
          526.9696739130435,
          548.1178160919541,
          672.5553731343283,
          570.2445333333333,
          463.3499236641221,
          619.2263829787233,
          448.608,
          540.9635897435898,
          523.7659183673469,
          454.52916666666664,
          586.7649019607843,
          431.33230088495577,
          559.6329411764706,
          520.5926785714286,
          530.665974025974,
          582.2047142857143,
          620.0683333333333,
          632.1347727272728,
          499.0476404494382,
          544.0794666666667,
          491.2689473684211,
          524.1832584269663,
          610.278431372549,
          505.47999999999996,
          487.19913793103444,
          505.71549999999996,
          523.2588888888889,
          588.5274647887323,
          570.3845901639344,
          508.0127472527472,
          618.4517307692308,
          543.2638461538462,
          null
         ],
         "yaxis": "y"
        },
        {
         "marker": {
          "color": "#61E50F"
         },
         "mode": "lines",
         "name": "No",
         "showlegend": false,
         "type": "scatter",
         "x": [
          "2019-01-06T00:00:00",
          "2019-01-13T00:00:00",
          "2019-01-20T00:00:00",
          "2019-01-27T00:00:00",
          "2019-02-03T00:00:00",
          "2019-02-10T00:00:00",
          "2019-02-17T00:00:00",
          "2019-02-24T00:00:00",
          "2019-03-03T00:00:00",
          "2019-03-10T00:00:00",
          "2019-03-17T00:00:00",
          "2019-03-24T00:00:00",
          "2019-03-31T00:00:00",
          "2019-04-07T00:00:00",
          "2019-04-14T00:00:00",
          "2019-04-21T00:00:00",
          "2019-04-28T00:00:00",
          "2019-05-05T00:00:00",
          "2019-05-12T00:00:00",
          "2019-05-19T00:00:00",
          "2019-05-26T00:00:00",
          "2019-06-02T00:00:00",
          "2019-06-09T00:00:00",
          "2019-06-16T00:00:00",
          "2019-06-23T00:00:00",
          "2019-06-30T00:00:00",
          "2019-07-07T00:00:00",
          "2019-07-14T00:00:00",
          "2019-07-21T00:00:00",
          "2019-07-28T00:00:00",
          "2019-08-04T00:00:00",
          "2019-08-11T00:00:00",
          "2019-08-18T00:00:00",
          "2019-08-25T00:00:00",
          "2019-09-01T00:00:00",
          "2019-09-08T00:00:00",
          "2019-09-15T00:00:00",
          "2019-09-22T00:00:00",
          "2019-09-29T00:00:00",
          "2019-10-06T00:00:00",
          "2019-10-13T00:00:00",
          "2019-10-20T00:00:00",
          "2019-10-27T00:00:00",
          "2019-11-03T00:00:00",
          "2019-11-10T00:00:00",
          "2019-11-17T00:00:00",
          "2019-11-24T00:00:00",
          "2019-12-01T00:00:00",
          "2019-12-08T00:00:00",
          "2019-12-15T00:00:00",
          "2019-12-22T00:00:00",
          "2019-12-29T00:00:00",
          "2020-01-05T00:00:00",
          "2020-01-12T00:00:00",
          "2020-01-19T00:00:00",
          "2020-01-26T00:00:00",
          "2020-02-02T00:00:00",
          "2020-02-09T00:00:00",
          "2020-02-16T00:00:00",
          "2020-02-23T00:00:00",
          "2020-03-01T00:00:00",
          "2020-03-08T00:00:00",
          "2020-03-15T00:00:00",
          "2020-03-22T00:00:00",
          "2020-03-29T00:00:00",
          "2020-04-05T00:00:00",
          "2020-04-12T00:00:00",
          "2020-04-19T00:00:00",
          "2020-04-26T00:00:00",
          "2020-05-03T00:00:00",
          "2020-05-10T00:00:00",
          "2020-05-17T00:00:00",
          "2020-05-24T00:00:00",
          "2020-05-31T00:00:00",
          "2020-06-07T00:00:00",
          "2020-06-14T00:00:00",
          "2020-06-21T00:00:00",
          "2020-06-28T00:00:00",
          "2020-07-05T00:00:00",
          "2020-07-12T00:00:00",
          "2020-07-19T00:00:00",
          "2020-07-26T00:00:00",
          "2020-08-02T00:00:00",
          "2020-08-09T00:00:00",
          "2020-08-16T00:00:00",
          "2020-08-23T00:00:00",
          "2020-08-30T00:00:00",
          "2020-09-06T00:00:00",
          "2020-09-13T00:00:00",
          "2020-09-20T00:00:00",
          "2020-09-27T00:00:00",
          "2020-10-04T00:00:00",
          "2020-10-11T00:00:00",
          "2020-10-18T00:00:00",
          "2020-10-25T00:00:00",
          "2020-11-01T00:00:00",
          "2020-11-08T00:00:00",
          "2020-11-15T00:00:00",
          "2020-11-22T00:00:00",
          "2020-11-29T00:00:00",
          "2020-12-06T00:00:00",
          "2020-12-13T00:00:00",
          "2020-12-20T00:00:00",
          "2020-12-27T00:00:00",
          "2021-01-03T00:00:00"
         ],
         "xaxis": "x2",
         "y": [
          7743,
          9535,
          9425,
          9423,
          9529,
          9507,
          9528,
          9428,
          13059,
          12733,
          12387,
          12518,
          12553,
          12653,
          12672,
          12672,
          12525,
          12475,
          12670,
          12429,
          13941,
          15759,
          15725,
          15840,
          15654,
          15637,
          15690,
          15698,
          15628,
          15593,
          15927,
          15778,
          15856,
          15768,
          15846,
          12689,
          12552,
          12694,
          12673,
          12689,
          12588,
          12511,
          12657,
          12686,
          12632,
          12579,
          12531,
          17263,
          25072,
          25235,
          24948,
          24878,
          13894,
          9566,
          9735,
          9546,
          9505,
          9350,
          9516,
          9496,
          8188,
          12587,
          12684,
          12754,
          12653,
          12569,
          12866,
          12708,
          12546,
          12416,
          12576,
          12711,
          13062,
          15641,
          15900,
          15866,
          15845,
          15991,
          15897,
          16061,
          15847,
          15896,
          15716,
          15948,
          15453,
          15803,
          15613,
          14087,
          13001,
          12746,
          12682,
          12755,
          12695,
          12722,
          12611,
          12738,
          12649,
          12801,
          12552,
          12467,
          25419,
          25438,
          25454,
          25101,
          15157
         ],
         "yaxis": "y2"
        },
        {
         "marker": {
          "color": "#D93C1D"
         },
         "mode": "lines",
         "name": "Yes",
         "showlegend": false,
         "type": "scatter",
         "x": [
          "2019-01-06T00:00:00",
          "2019-01-13T00:00:00",
          "2019-01-20T00:00:00",
          "2019-01-27T00:00:00",
          "2019-02-03T00:00:00",
          "2019-02-10T00:00:00",
          "2019-02-17T00:00:00",
          "2019-02-24T00:00:00",
          "2019-03-03T00:00:00",
          "2019-03-10T00:00:00",
          "2019-03-17T00:00:00",
          "2019-03-24T00:00:00",
          "2019-03-31T00:00:00",
          "2019-04-07T00:00:00",
          "2019-04-14T00:00:00",
          "2019-04-21T00:00:00",
          "2019-04-28T00:00:00",
          "2019-05-05T00:00:00",
          "2019-05-12T00:00:00",
          "2019-05-19T00:00:00",
          "2019-05-26T00:00:00",
          "2019-06-02T00:00:00",
          "2019-06-09T00:00:00",
          "2019-06-16T00:00:00",
          "2019-06-23T00:00:00",
          "2019-06-30T00:00:00",
          "2019-07-07T00:00:00",
          "2019-07-14T00:00:00",
          "2019-07-21T00:00:00",
          "2019-07-28T00:00:00",
          "2019-08-04T00:00:00",
          "2019-08-11T00:00:00",
          "2019-08-18T00:00:00",
          "2019-08-25T00:00:00",
          "2019-09-01T00:00:00",
          "2019-09-08T00:00:00",
          "2019-09-15T00:00:00",
          "2019-09-22T00:00:00",
          "2019-09-29T00:00:00",
          "2019-10-06T00:00:00",
          "2019-10-13T00:00:00",
          "2019-10-20T00:00:00",
          "2019-10-27T00:00:00",
          "2019-11-03T00:00:00",
          "2019-11-10T00:00:00",
          "2019-11-17T00:00:00",
          "2019-11-24T00:00:00",
          "2019-12-01T00:00:00",
          "2019-12-08T00:00:00",
          "2019-12-15T00:00:00",
          "2019-12-22T00:00:00",
          "2019-12-29T00:00:00",
          "2020-01-05T00:00:00",
          "2020-01-12T00:00:00",
          "2020-01-19T00:00:00",
          "2020-01-26T00:00:00",
          "2020-02-02T00:00:00",
          "2020-02-09T00:00:00",
          "2020-02-16T00:00:00",
          "2020-02-23T00:00:00",
          "2020-03-01T00:00:00",
          "2020-03-08T00:00:00",
          "2020-03-15T00:00:00",
          "2020-03-22T00:00:00",
          "2020-03-29T00:00:00",
          "2020-04-05T00:00:00",
          "2020-04-12T00:00:00",
          "2020-04-19T00:00:00",
          "2020-04-26T00:00:00",
          "2020-05-03T00:00:00",
          "2020-05-10T00:00:00",
          "2020-05-17T00:00:00",
          "2020-05-24T00:00:00",
          "2020-05-31T00:00:00",
          "2020-06-07T00:00:00",
          "2020-06-14T00:00:00",
          "2020-06-21T00:00:00",
          "2020-06-28T00:00:00",
          "2020-07-05T00:00:00",
          "2020-07-12T00:00:00",
          "2020-07-19T00:00:00",
          "2020-07-26T00:00:00",
          "2020-08-02T00:00:00",
          "2020-08-09T00:00:00",
          "2020-08-16T00:00:00",
          "2020-08-23T00:00:00",
          "2020-08-30T00:00:00",
          "2020-09-06T00:00:00",
          "2020-09-13T00:00:00",
          "2020-09-20T00:00:00",
          "2020-09-27T00:00:00",
          "2020-10-04T00:00:00",
          "2020-10-11T00:00:00",
          "2020-10-18T00:00:00",
          "2020-10-25T00:00:00",
          "2020-11-01T00:00:00",
          "2020-11-08T00:00:00",
          "2020-11-15T00:00:00",
          "2020-11-22T00:00:00",
          "2020-11-29T00:00:00",
          "2020-12-06T00:00:00",
          "2020-12-13T00:00:00",
          "2020-12-20T00:00:00",
          "2020-12-27T00:00:00",
          "2021-01-03T00:00:00"
         ],
         "xaxis": "x2",
         "y": [
          41,
          97,
          137,
          61,
          117,
          87,
          103,
          79,
          122,
          101,
          124,
          96,
          66,
          49,
          63,
          64,
          69,
          82,
          42,
          88,
          126,
          27,
          50,
          85,
          69,
          73,
          58,
          74,
          21,
          93,
          56,
          58,
          75,
          45,
          111,
          42,
          121,
          67,
          84,
          73,
          89,
          104,
          50,
          89,
          41,
          55,
          60,
          106,
          109,
          90,
          93,
          132,
          92,
          70,
          67,
          48,
          77,
          53,
          56,
          81,
          77,
          60,
          91,
          134,
          30,
          64,
          58,
          71,
          57,
          92,
          113,
          73,
          92,
          87,
          67,
          75,
          131,
          47,
          85,
          78,
          49,
          72,
          51,
          113,
          68,
          56,
          77,
          70,
          60,
          44,
          89,
          75,
          76,
          89,
          51,
          43,
          58,
          40,
          45,
          71,
          61,
          91,
          52,
          13,
          0
         ],
         "yaxis": "y2"
        },
        {
         "marker": {
          "color": "#61E50F"
         },
         "mode": "markers",
         "name": "No",
         "showlegend": true,
         "type": "scatter",
         "x": [
          7743,
          9535,
          9425,
          9423,
          9529,
          9507,
          9528,
          9428,
          13059,
          12733,
          12387,
          12518,
          12553,
          12653,
          12672,
          12672,
          12525,
          12475,
          12670,
          12429,
          13941,
          15759,
          15725,
          15840,
          15654,
          15637,
          15690,
          15698,
          15628,
          15593,
          15927,
          15778,
          15856,
          15768,
          15846,
          12689,
          12552,
          12694,
          12673,
          12689,
          12588,
          12511,
          12657,
          12686,
          12632,
          12579,
          12531,
          17263,
          25072,
          25235,
          24948,
          24878,
          13894,
          9566,
          9735,
          9546,
          9505,
          9350,
          9516,
          9496,
          8188,
          12587,
          12684,
          12754,
          12653,
          12569,
          12866,
          12708,
          12546,
          12416,
          12576,
          12711,
          13062,
          15641,
          15900,
          15866,
          15845,
          15991,
          15897,
          16061,
          15847,
          15896,
          15716,
          15948,
          15453,
          15803,
          15613,
          14087,
          13001,
          12746,
          12682,
          12755,
          12695,
          12722,
          12611,
          12738,
          12649,
          12801,
          12552,
          12467,
          25419,
          25438,
          25454,
          25101,
          15157
         ],
         "xaxis": "x3",
         "y": [
          66.10316673124112,
          67.140211851075,
          67.56416551724138,
          66.21694046482011,
          67.31273795781298,
          68.12257389292101,
          67.72403442485306,
          66.18163025031821,
          68.26196952293438,
          68.99724102725202,
          68.9781779284734,
          66.09006231027321,
          69.15073129929101,
          67.47150478147475,
          65.8616240530303,
          66.42920375631313,
          67.5862994011976,
          68.17981563126253,
          68.05492580899764,
          67.39179740928473,
          66.89493795280109,
          68.03508217526493,
          65.87993513513513,
          70.00242929292929,
          68.62110387121503,
          68.3681070537827,
          67.81303760356916,
          68.02522295833865,
          68.79238162272844,
          66.80346950554735,
          66.58609342625729,
          66.23447014830776,
          67.08863837033299,
          67.16270484525621,
          67.42954751987884,
          67.57949247379621,
          68.9068005098789,
          69.38957932881677,
          66.12241063678687,
          67.44770115848372,
          66.26780743565301,
          68.5248653185197,
          66.6183281978352,
          66.13979977928425,
          67.60289186193793,
          68.83230622466014,
          65.01769371957545,
          69.30801598795111,
          69.53984564454372,
          68.21342223102833,
          66.95951378868045,
          67.57007235308305,
          68.51412624154311,
          70.07746079866193,
          68.47162506420133,
          65.87238948250575,
          65.14756970015782,
          65.78864812834225,
          66.26233396385035,
          65.9198093934288,
          68.67301905227163,
          68.87650830221658,
          67.84348155156101,
          68.45547122471382,
          67.31385284122342,
          68.17095791232397,
          66.37691590237836,
          67.65670758577274,
          68.77351267336202,
          69.27067171391752,
          67.39369831424936,
          66.21766580127449,
          66.3293538508651,
          68.64011636084649,
          65.62917798742139,
          67.82296609101222,
          68.89335437046387,
          67.99257144643862,
          66.94067685726867,
          67.3204053296806,
          68.95742348709535,
          66.62427717664822,
          69.00544795113261,
          67.67295773764737,
          67.14059794214715,
          66.62099348225021,
          65.45724012041248,
          67.25960105061404,
          67.92903853549727,
          67.176221559705,
          69.25286547863112,
          66.88823598588789,
          66.81271051595117,
          67.84665854425404,
          68.44351597811435,
          69.34371800910661,
          68.00063087991145,
          65.95081009296149,
          67.23942001274698,
          69.57794256838052,
          66.13303237735552,
          66.52464383992452,
          69.7896161703465,
          66.69415800167324,
          66.73058388863231
         ],
         "yaxis": "y3"
        },
        {
         "marker": {
          "color": "#D93C1D"
         },
         "mode": "markers",
         "name": "Yes",
         "showlegend": true,
         "type": "scatter",
         "x": [
          41,
          97,
          137,
          61,
          117,
          87,
          103,
          79,
          122,
          101,
          124,
          96,
          66,
          49,
          63,
          64,
          69,
          82,
          42,
          88,
          126,
          27,
          50,
          85,
          69,
          73,
          58,
          74,
          21,
          93,
          56,
          58,
          75,
          45,
          111,
          42,
          121,
          67,
          84,
          73,
          89,
          104,
          50,
          89,
          41,
          55,
          60,
          106,
          109,
          90,
          93,
          132,
          92,
          70,
          67,
          48,
          77,
          53,
          56,
          81,
          77,
          60,
          91,
          134,
          30,
          64,
          58,
          71,
          57,
          92,
          113,
          73,
          92,
          87,
          67,
          75,
          131,
          47,
          85,
          78,
          49,
          72,
          51,
          113,
          68,
          56,
          77,
          70,
          60,
          44,
          89,
          75,
          76,
          89,
          51,
          43,
          58,
          40,
          45,
          71,
          61,
          91,
          52,
          13,
          0
         ],
         "xaxis": "x3",
         "y": [
          542.4243902439025,
          545.0909278350515,
          484.9603649635037,
          540.2970491803279,
          518.8079487179488,
          565.6711494252874,
          590.9636893203884,
          449.529746835443,
          468.04229508196727,
          453.27821782178216,
          571.1035483870968,
          442.6809375,
          523.5621212121212,
          542.5210204081633,
          517.4138095238095,
          657.0803125,
          555.7959420289855,
          529.6810975609756,
          437.5219047619048,
          585.3239772727273,
          509.0134126984127,
          473.72444444444443,
          490.4698,
          524.602,
          472.657536231884,
          520.3390410958904,
          580.1420689655172,
          683.7085135135135,
          384.42952380952386,
          506.3682795698925,
          548.7976785714286,
          547.3774137931034,
          592.468,
          447.1153333333333,
          485.69234234234233,
          530.5821428571429,
          451.2310743801653,
          485.4573134328358,
          551.917619047619,
          512.0205479452055,
          562.1360674157304,
          603.9890384615385,
          563.788,
          510.60853932584274,
          601.9365853658537,
          505.51163636363634,
          526.4143333333334,
          517.3471698113207,
          557.7965137614678,
          537.1890000000001,
          638.8605376344086,
          534.4809848484849,
          515.6110869565217,
          609.8215714285715,
          528.2182089552239,
          520.2016666666667,
          510.7015584415584,
          472.8445283018868,
          618.4582142857143,
          568.3724691358025,
          539.2268831168832,
          503.06783333333334,
          595.1074725274725,
          458.29253731343283,
          582.6066666666667,
          535.60078125,
          413.0572413793103,
          534.1564788732394,
          486.25578947368416,
          472.4663043478261,
          539.7935398230088,
          601.4460273972602,
          526.9696739130435,
          548.1178160919541,
          672.5553731343283,
          570.2445333333333,
          463.3499236641221,
          619.2263829787233,
          448.608,
          540.9635897435898,
          523.7659183673469,
          454.52916666666664,
          586.7649019607843,
          431.33230088495577,
          559.6329411764706,
          520.5926785714286,
          530.665974025974,
          582.2047142857143,
          620.0683333333333,
          632.1347727272728,
          499.0476404494382,
          544.0794666666667,
          491.2689473684211,
          524.1832584269663,
          610.278431372549,
          505.47999999999996,
          487.19913793103444,
          505.71549999999996,
          523.2588888888889,
          588.5274647887323,
          570.3845901639344,
          508.0127472527472,
          618.4517307692308,
          543.2638461538462,
          null
         ],
         "yaxis": "y3"
        }
       ],
       "layout": {
        "annotations": [
         {
          "font": {
           "size": 16
          },
          "showarrow": false,
          "text": "Amount(usd) over time",
          "x": 0.225,
          "xanchor": "center",
          "xref": "paper",
          "y": 1,
          "yanchor": "bottom",
          "yref": "paper"
         },
         {
          "font": {
           "size": 16
          },
          "showarrow": false,
          "text": "Number of transactions overtime",
          "x": 0.775,
          "xanchor": "center",
          "xref": "paper",
          "y": 1,
          "yanchor": "bottom",
          "yref": "paper"
         },
         {
          "font": {
           "size": 16
          },
          "showarrow": false,
          "text": "Number of transaction by amount(usd)",
          "x": 0.5,
          "xanchor": "center",
          "xref": "paper",
          "y": 0.375,
          "yanchor": "bottom",
          "yref": "paper"
         }
        ],
        "height": 780,
        "legend": {
         "title": {
          "text": "Is fraud?"
         }
        },
        "plot_bgcolor": "#fafafa",
        "template": {
         "data": {
          "bar": [
           {
            "error_x": {
             "color": "#2a3f5f"
            },
            "error_y": {
             "color": "#2a3f5f"
            },
            "marker": {
             "line": {
              "color": "#E5ECF6",
              "width": 0.5
             },
             "pattern": {
              "fillmode": "overlay",
              "size": 10,
              "solidity": 0.2
             }
            },
            "type": "bar"
           }
          ],
          "barpolar": [
           {
            "marker": {
             "line": {
              "color": "#E5ECF6",
              "width": 0.5
             },
             "pattern": {
              "fillmode": "overlay",
              "size": 10,
              "solidity": 0.2
             }
            },
            "type": "barpolar"
           }
          ],
          "carpet": [
           {
            "aaxis": {
             "endlinecolor": "#2a3f5f",
             "gridcolor": "white",
             "linecolor": "white",
             "minorgridcolor": "white",
             "startlinecolor": "#2a3f5f"
            },
            "baxis": {
             "endlinecolor": "#2a3f5f",
             "gridcolor": "white",
             "linecolor": "white",
             "minorgridcolor": "white",
             "startlinecolor": "#2a3f5f"
            },
            "type": "carpet"
           }
          ],
          "choropleth": [
           {
            "colorbar": {
             "outlinewidth": 0,
             "ticks": ""
            },
            "type": "choropleth"
           }
          ],
          "contour": [
           {
            "colorbar": {
             "outlinewidth": 0,
             "ticks": ""
            },
            "colorscale": [
             [
              0,
              "#0d0887"
             ],
             [
              0.1111111111111111,
              "#46039f"
             ],
             [
              0.2222222222222222,
              "#7201a8"
             ],
             [
              0.3333333333333333,
              "#9c179e"
             ],
             [
              0.4444444444444444,
              "#bd3786"
             ],
             [
              0.5555555555555556,
              "#d8576b"
             ],
             [
              0.6666666666666666,
              "#ed7953"
             ],
             [
              0.7777777777777778,
              "#fb9f3a"
             ],
             [
              0.8888888888888888,
              "#fdca26"
             ],
             [
              1,
              "#f0f921"
             ]
            ],
            "type": "contour"
           }
          ],
          "contourcarpet": [
           {
            "colorbar": {
             "outlinewidth": 0,
             "ticks": ""
            },
            "type": "contourcarpet"
           }
          ],
          "heatmap": [
           {
            "colorbar": {
             "outlinewidth": 0,
             "ticks": ""
            },
            "colorscale": [
             [
              0,
              "#0d0887"
             ],
             [
              0.1111111111111111,
              "#46039f"
             ],
             [
              0.2222222222222222,
              "#7201a8"
             ],
             [
              0.3333333333333333,
              "#9c179e"
             ],
             [
              0.4444444444444444,
              "#bd3786"
             ],
             [
              0.5555555555555556,
              "#d8576b"
             ],
             [
              0.6666666666666666,
              "#ed7953"
             ],
             [
              0.7777777777777778,
              "#fb9f3a"
             ],
             [
              0.8888888888888888,
              "#fdca26"
             ],
             [
              1,
              "#f0f921"
             ]
            ],
            "type": "heatmap"
           }
          ],
          "heatmapgl": [
           {
            "colorbar": {
             "outlinewidth": 0,
             "ticks": ""
            },
            "colorscale": [
             [
              0,
              "#0d0887"
             ],
             [
              0.1111111111111111,
              "#46039f"
             ],
             [
              0.2222222222222222,
              "#7201a8"
             ],
             [
              0.3333333333333333,
              "#9c179e"
             ],
             [
              0.4444444444444444,
              "#bd3786"
             ],
             [
              0.5555555555555556,
              "#d8576b"
             ],
             [
              0.6666666666666666,
              "#ed7953"
             ],
             [
              0.7777777777777778,
              "#fb9f3a"
             ],
             [
              0.8888888888888888,
              "#fdca26"
             ],
             [
              1,
              "#f0f921"
             ]
            ],
            "type": "heatmapgl"
           }
          ],
          "histogram": [
           {
            "marker": {
             "pattern": {
              "fillmode": "overlay",
              "size": 10,
              "solidity": 0.2
             }
            },
            "type": "histogram"
           }
          ],
          "histogram2d": [
           {
            "colorbar": {
             "outlinewidth": 0,
             "ticks": ""
            },
            "colorscale": [
             [
              0,
              "#0d0887"
             ],
             [
              0.1111111111111111,
              "#46039f"
             ],
             [
              0.2222222222222222,
              "#7201a8"
             ],
             [
              0.3333333333333333,
              "#9c179e"
             ],
             [
              0.4444444444444444,
              "#bd3786"
             ],
             [
              0.5555555555555556,
              "#d8576b"
             ],
             [
              0.6666666666666666,
              "#ed7953"
             ],
             [
              0.7777777777777778,
              "#fb9f3a"
             ],
             [
              0.8888888888888888,
              "#fdca26"
             ],
             [
              1,
              "#f0f921"
             ]
            ],
            "type": "histogram2d"
           }
          ],
          "histogram2dcontour": [
           {
            "colorbar": {
             "outlinewidth": 0,
             "ticks": ""
            },
            "colorscale": [
             [
              0,
              "#0d0887"
             ],
             [
              0.1111111111111111,
              "#46039f"
             ],
             [
              0.2222222222222222,
              "#7201a8"
             ],
             [
              0.3333333333333333,
              "#9c179e"
             ],
             [
              0.4444444444444444,
              "#bd3786"
             ],
             [
              0.5555555555555556,
              "#d8576b"
             ],
             [
              0.6666666666666666,
              "#ed7953"
             ],
             [
              0.7777777777777778,
              "#fb9f3a"
             ],
             [
              0.8888888888888888,
              "#fdca26"
             ],
             [
              1,
              "#f0f921"
             ]
            ],
            "type": "histogram2dcontour"
           }
          ],
          "mesh3d": [
           {
            "colorbar": {
             "outlinewidth": 0,
             "ticks": ""
            },
            "type": "mesh3d"
           }
          ],
          "parcoords": [
           {
            "line": {
             "colorbar": {
              "outlinewidth": 0,
              "ticks": ""
             }
            },
            "type": "parcoords"
           }
          ],
          "pie": [
           {
            "automargin": true,
            "type": "pie"
           }
          ],
          "scatter": [
           {
            "fillpattern": {
             "fillmode": "overlay",
             "size": 10,
             "solidity": 0.2
            },
            "type": "scatter"
           }
          ],
          "scatter3d": [
           {
            "line": {
             "colorbar": {
              "outlinewidth": 0,
              "ticks": ""
             }
            },
            "marker": {
             "colorbar": {
              "outlinewidth": 0,
              "ticks": ""
             }
            },
            "type": "scatter3d"
           }
          ],
          "scattercarpet": [
           {
            "marker": {
             "colorbar": {
              "outlinewidth": 0,
              "ticks": ""
             }
            },
            "type": "scattercarpet"
           }
          ],
          "scattergeo": [
           {
            "marker": {
             "colorbar": {
              "outlinewidth": 0,
              "ticks": ""
             }
            },
            "type": "scattergeo"
           }
          ],
          "scattergl": [
           {
            "marker": {
             "colorbar": {
              "outlinewidth": 0,
              "ticks": ""
             }
            },
            "type": "scattergl"
           }
          ],
          "scattermapbox": [
           {
            "marker": {
             "colorbar": {
              "outlinewidth": 0,
              "ticks": ""
             }
            },
            "type": "scattermapbox"
           }
          ],
          "scatterpolar": [
           {
            "marker": {
             "colorbar": {
              "outlinewidth": 0,
              "ticks": ""
             }
            },
            "type": "scatterpolar"
           }
          ],
          "scatterpolargl": [
           {
            "marker": {
             "colorbar": {
              "outlinewidth": 0,
              "ticks": ""
             }
            },
            "type": "scatterpolargl"
           }
          ],
          "scatterternary": [
           {
            "marker": {
             "colorbar": {
              "outlinewidth": 0,
              "ticks": ""
             }
            },
            "type": "scatterternary"
           }
          ],
          "surface": [
           {
            "colorbar": {
             "outlinewidth": 0,
             "ticks": ""
            },
            "colorscale": [
             [
              0,
              "#0d0887"
             ],
             [
              0.1111111111111111,
              "#46039f"
             ],
             [
              0.2222222222222222,
              "#7201a8"
             ],
             [
              0.3333333333333333,
              "#9c179e"
             ],
             [
              0.4444444444444444,
              "#bd3786"
             ],
             [
              0.5555555555555556,
              "#d8576b"
             ],
             [
              0.6666666666666666,
              "#ed7953"
             ],
             [
              0.7777777777777778,
              "#fb9f3a"
             ],
             [
              0.8888888888888888,
              "#fdca26"
             ],
             [
              1,
              "#f0f921"
             ]
            ],
            "type": "surface"
           }
          ],
          "table": [
           {
            "cells": {
             "fill": {
              "color": "#EBF0F8"
             },
             "line": {
              "color": "white"
             }
            },
            "header": {
             "fill": {
              "color": "#C8D4E3"
             },
             "line": {
              "color": "white"
             }
            },
            "type": "table"
           }
          ]
         },
         "layout": {
          "annotationdefaults": {
           "arrowcolor": "#2a3f5f",
           "arrowhead": 0,
           "arrowwidth": 1
          },
          "autotypenumbers": "strict",
          "coloraxis": {
           "colorbar": {
            "outlinewidth": 0,
            "ticks": ""
           }
          },
          "colorscale": {
           "diverging": [
            [
             0,
             "#8e0152"
            ],
            [
             0.1,
             "#c51b7d"
            ],
            [
             0.2,
             "#de77ae"
            ],
            [
             0.3,
             "#f1b6da"
            ],
            [
             0.4,
             "#fde0ef"
            ],
            [
             0.5,
             "#f7f7f7"
            ],
            [
             0.6,
             "#e6f5d0"
            ],
            [
             0.7,
             "#b8e186"
            ],
            [
             0.8,
             "#7fbc41"
            ],
            [
             0.9,
             "#4d9221"
            ],
            [
             1,
             "#276419"
            ]
           ],
           "sequential": [
            [
             0,
             "#0d0887"
            ],
            [
             0.1111111111111111,
             "#46039f"
            ],
            [
             0.2222222222222222,
             "#7201a8"
            ],
            [
             0.3333333333333333,
             "#9c179e"
            ],
            [
             0.4444444444444444,
             "#bd3786"
            ],
            [
             0.5555555555555556,
             "#d8576b"
            ],
            [
             0.6666666666666666,
             "#ed7953"
            ],
            [
             0.7777777777777778,
             "#fb9f3a"
            ],
            [
             0.8888888888888888,
             "#fdca26"
            ],
            [
             1,
             "#f0f921"
            ]
           ],
           "sequentialminus": [
            [
             0,
             "#0d0887"
            ],
            [
             0.1111111111111111,
             "#46039f"
            ],
            [
             0.2222222222222222,
             "#7201a8"
            ],
            [
             0.3333333333333333,
             "#9c179e"
            ],
            [
             0.4444444444444444,
             "#bd3786"
            ],
            [
             0.5555555555555556,
             "#d8576b"
            ],
            [
             0.6666666666666666,
             "#ed7953"
            ],
            [
             0.7777777777777778,
             "#fb9f3a"
            ],
            [
             0.8888888888888888,
             "#fdca26"
            ],
            [
             1,
             "#f0f921"
            ]
           ]
          },
          "colorway": [
           "#636efa",
           "#EF553B",
           "#00cc96",
           "#ab63fa",
           "#FFA15A",
           "#19d3f3",
           "#FF6692",
           "#B6E880",
           "#FF97FF",
           "#FECB52"
          ],
          "font": {
           "color": "#2a3f5f"
          },
          "geo": {
           "bgcolor": "white",
           "lakecolor": "white",
           "landcolor": "#E5ECF6",
           "showlakes": true,
           "showland": true,
           "subunitcolor": "white"
          },
          "hoverlabel": {
           "align": "left"
          },
          "hovermode": "closest",
          "mapbox": {
           "style": "light"
          },
          "paper_bgcolor": "white",
          "plot_bgcolor": "#E5ECF6",
          "polar": {
           "angularaxis": {
            "gridcolor": "white",
            "linecolor": "white",
            "ticks": ""
           },
           "bgcolor": "#E5ECF6",
           "radialaxis": {
            "gridcolor": "white",
            "linecolor": "white",
            "ticks": ""
           }
          },
          "scene": {
           "xaxis": {
            "backgroundcolor": "#E5ECF6",
            "gridcolor": "white",
            "gridwidth": 2,
            "linecolor": "white",
            "showbackground": true,
            "ticks": "",
            "zerolinecolor": "white"
           },
           "yaxis": {
            "backgroundcolor": "#E5ECF6",
            "gridcolor": "white",
            "gridwidth": 2,
            "linecolor": "white",
            "showbackground": true,
            "ticks": "",
            "zerolinecolor": "white"
           },
           "zaxis": {
            "backgroundcolor": "#E5ECF6",
            "gridcolor": "white",
            "gridwidth": 2,
            "linecolor": "white",
            "showbackground": true,
            "ticks": "",
            "zerolinecolor": "white"
           }
          },
          "shapedefaults": {
           "line": {
            "color": "#2a3f5f"
           }
          },
          "ternary": {
           "aaxis": {
            "gridcolor": "white",
            "linecolor": "white",
            "ticks": ""
           },
           "baxis": {
            "gridcolor": "white",
            "linecolor": "white",
            "ticks": ""
           },
           "bgcolor": "#E5ECF6",
           "caxis": {
            "gridcolor": "white",
            "linecolor": "white",
            "ticks": ""
           }
          },
          "title": {
           "x": 0.05
          },
          "xaxis": {
           "automargin": true,
           "gridcolor": "white",
           "linecolor": "white",
           "ticks": "",
           "title": {
            "standoff": 15
           },
           "zerolinecolor": "white",
           "zerolinewidth": 2
          },
          "yaxis": {
           "automargin": true,
           "gridcolor": "white",
           "linecolor": "white",
           "ticks": "",
           "title": {
            "standoff": 15
           },
           "zerolinecolor": "white",
           "zerolinewidth": 2
          }
         }
        },
        "title": {
         "text": "Overview"
        },
        "width": 960,
        "xaxis": {
         "anchor": "y",
         "domain": [
          0,
          0.45
         ]
        },
        "xaxis2": {
         "anchor": "y2",
         "domain": [
          0.55,
          1
         ]
        },
        "xaxis3": {
         "anchor": "y3",
         "domain": [
          0,
          1
         ]
        },
        "yaxis": {
         "anchor": "x",
         "domain": [
          0.625,
          1
         ]
        },
        "yaxis2": {
         "anchor": "x2",
         "domain": [
          0.625,
          1
         ]
        },
        "yaxis3": {
         "anchor": "x3",
         "domain": [
          0,
          0.375
         ]
        }
       }
      }
     },
     "metadata": {},
     "output_type": "display_data"
    }
   ],
   "source": [
    "fig = make_subplots(rows=2, cols=2,\n",
    "                    specs=[\n",
    "                        [{}, {}],\n",
    "                        [{\"colspan\":2}, None]\n",
    "                    ],\n",
    "                    subplot_titles=(\"Amount(usd) over time\", \"Number of transactions overtime\",\n",
    "                                    \"Number of transaction by amount(usd)\")\n",
    "                   )\n",
    "\n",
    "ntraces = add_traces(df=df_,x='transaction_time',y='amount(usd)',hue='is_fraud',mode='lines',\n",
    "                    showlegend=True, cmap=['#61E50F','#D93C1D'])\n",
    "\n",
    "for trace in ntraces:\n",
    "    fig.add_trace(\n",
    "        trace,\n",
    "        row=1,col=1\n",
    "    )\n",
    "    \n",
    "ntraces = add_traces(df=df_,x='transaction_time',y='transaction_id',hue='is_fraud',mode='lines',\n",
    "                    showlegend=False, cmap=['#61E50F','#D93C1D'])\n",
    "for trace in ntraces:\n",
    "    fig.add_trace(\n",
    "        trace,\n",
    "        row=1,col=2\n",
    "    )\n",
    "\n",
    "ntraces = add_traces(df=df_,x='transaction_id',y='amount(usd)',hue='is_fraud',mode='markers',\n",
    "                    showlegend=True, cmap=['#61E50F','#D93C1D'])\n",
    "for trace in ntraces:\n",
    "    fig.add_trace(\n",
    "        trace,\n",
    "        row=2,col=1\n",
    "    )\n",
    "\n",
    "fig.update_layout(height=780,\n",
    "                  width=960,\n",
    "                  legend=dict(title='Is fraud?'),\n",
    "                  plot_bgcolor='#fafafa',\n",
    "                  title='Overview'\n",
    "                 )\n",
    "\n",
    "fig.show()"
   ]
  },
  {
   "cell_type": "code",
   "execution_count": 24,
   "metadata": {},
   "outputs": [
    {
     "data": {
      "application/vnd.plotly.v1+json": {
       "config": {
        "plotlyServerURL": "https://plot.ly"
       },
       "data": [
        {
         "hovertemplate": "is_fraud=0<br>category=entertainment<br>transaction_time=%{x}<br>amount(usd)=%{y}<extra></extra>",
         "legendgroup": "0",
         "marker": {
          "color": "#61E50F",
          "symbol": "circle"
         },
         "mode": "markers",
         "name": "0",
         "showlegend": true,
         "type": "scattergl",
         "x": [
          "2019-01-06T00:00:00",
          "2019-01-13T00:00:00",
          "2019-01-20T00:00:00",
          "2019-01-27T00:00:00",
          "2019-02-03T00:00:00",
          "2019-02-10T00:00:00",
          "2019-02-17T00:00:00",
          "2019-02-24T00:00:00",
          "2019-03-03T00:00:00",
          "2019-03-10T00:00:00",
          "2019-03-17T00:00:00",
          "2019-03-24T00:00:00",
          "2019-03-31T00:00:00",
          "2019-04-07T00:00:00",
          "2019-04-14T00:00:00",
          "2019-04-21T00:00:00",
          "2019-04-28T00:00:00",
          "2019-05-05T00:00:00",
          "2019-05-12T00:00:00",
          "2019-05-19T00:00:00",
          "2019-05-26T00:00:00",
          "2019-06-02T00:00:00",
          "2019-06-09T00:00:00",
          "2019-06-16T00:00:00",
          "2019-06-23T00:00:00",
          "2019-06-30T00:00:00",
          "2019-07-07T00:00:00",
          "2019-07-14T00:00:00",
          "2019-07-21T00:00:00",
          "2019-07-28T00:00:00",
          "2019-08-04T00:00:00",
          "2019-08-11T00:00:00",
          "2019-08-18T00:00:00",
          "2019-08-25T00:00:00",
          "2019-09-01T00:00:00",
          "2019-09-08T00:00:00",
          "2019-09-15T00:00:00",
          "2019-09-22T00:00:00",
          "2019-09-29T00:00:00",
          "2019-10-06T00:00:00",
          "2019-10-13T00:00:00",
          "2019-10-20T00:00:00",
          "2019-10-27T00:00:00",
          "2019-11-03T00:00:00",
          "2019-11-10T00:00:00",
          "2019-11-17T00:00:00",
          "2019-11-24T00:00:00",
          "2019-12-01T00:00:00",
          "2019-12-08T00:00:00",
          "2019-12-15T00:00:00",
          "2019-12-22T00:00:00",
          "2019-12-29T00:00:00",
          "2020-01-05T00:00:00",
          "2020-01-12T00:00:00",
          "2020-01-19T00:00:00",
          "2020-01-26T00:00:00",
          "2020-02-02T00:00:00",
          "2020-02-09T00:00:00",
          "2020-02-16T00:00:00",
          "2020-02-23T00:00:00",
          "2020-03-01T00:00:00",
          "2020-03-08T00:00:00",
          "2020-03-15T00:00:00",
          "2020-03-22T00:00:00",
          "2020-03-29T00:00:00",
          "2020-04-05T00:00:00",
          "2020-04-12T00:00:00",
          "2020-04-19T00:00:00",
          "2020-04-26T00:00:00",
          "2020-05-03T00:00:00",
          "2020-05-10T00:00:00",
          "2020-05-17T00:00:00",
          "2020-05-24T00:00:00",
          "2020-05-31T00:00:00",
          "2020-06-07T00:00:00",
          "2020-06-14T00:00:00",
          "2020-06-21T00:00:00",
          "2020-06-28T00:00:00",
          "2020-07-05T00:00:00",
          "2020-07-12T00:00:00",
          "2020-07-19T00:00:00",
          "2020-07-26T00:00:00",
          "2020-08-02T00:00:00",
          "2020-08-09T00:00:00",
          "2020-08-16T00:00:00",
          "2020-08-23T00:00:00",
          "2020-08-30T00:00:00",
          "2020-09-06T00:00:00",
          "2020-09-13T00:00:00",
          "2020-09-20T00:00:00",
          "2020-09-27T00:00:00",
          "2020-10-04T00:00:00",
          "2020-10-11T00:00:00",
          "2020-10-18T00:00:00",
          "2020-10-25T00:00:00",
          "2020-11-01T00:00:00",
          "2020-11-08T00:00:00",
          "2020-11-15T00:00:00",
          "2020-11-22T00:00:00",
          "2020-11-29T00:00:00",
          "2020-12-06T00:00:00",
          "2020-12-13T00:00:00",
          "2020-12-20T00:00:00",
          "2020-12-27T00:00:00",
          "2021-01-03T00:00:00"
         ],
         "xaxis": "x13",
         "y": [
          62.82290613718411,
          63.79516788321168,
          67.5278640776699,
          66.88892187500001,
          60.624523121387284,
          65.90696661828737,
          64.75574647887325,
          61.15538686131387,
          64.5602918918919,
          61.33586387434555,
          57.56890380313199,
          63.763571428571424,
          62.491499448732085,
          64.73377562028047,
          62.30789968652038,
          63.07902105263158,
          66.36277517564403,
          65.77895833333334,
          60.563135775862065,
          61.00262765957447,
          61.66142028985507,
          66.47195748449955,
          58.453131313131315,
          60.86665243381726,
          62.85957295373666,
          63.740334476843906,
          63.99178242677824,
          58.30492691315563,
          63.1097619047619,
          60.50825411334552,
          63.10055889939811,
          61.243308395677474,
          64.5266385135135,
          63.6690248075278,
          64.4788717948718,
          65.00648863636364,
          63.56659502262444,
          65.21798076923076,
          62.804165769644776,
          61.95730125523013,
          65.77983940042827,
          64.81202718006794,
          65.27384,
          61.32153927813163,
          61.5296802646086,
          59.08392575928009,
          63.42747757847533,
          64.47424000000001,
          66.69078801331854,
          61.97420305102578,
          62.90394505494505,
          62.937585089141,
          62.2368431372549,
          65.29694520547945,
          63.07258875739645,
          63.82837535014006,
          62.13391891891892,
          61.10367127496159,
          62.164403927068726,
          61.06017118402283,
          63.62924786324786,
          65.16181208053692,
          64.60689427312775,
          64.04525128205128,
          64.60465442764578,
          62.45071204188482,
          62.7608202247191,
          62.710084925690026,
          65.59354874041621,
          58.13138335287221,
          59.78330128205128,
          64.63522826086957,
          61.72733191035219,
          66.25812553011026,
          64.59458260869566,
          62.39234309623431,
          67.88901907356949,
          63.45633628318584,
          61.026465076661,
          64.16763865546218,
          64.64545774647888,
          64.463893728223,
          62.38872302158273,
          65.59513440860215,
          60.80447879858657,
          60.49389380530974,
          62.69059405940594,
          66.13217601547389,
          65.10504864864865,
          63.21896256684492,
          63.589410430839,
          68.29881922675027,
          63.86249221183801,
          62.883405572755414,
          61.16962242562929,
          64.0030353200883,
          63.32610112359551,
          63.09067653276956,
          64.36818799547,
          62.906460905349796,
          66.74021459227467,
          63.126211699164344,
          63.64467145223633,
          62.34951029493601,
          62.25484902309059
         ],
         "yaxis": "y13"
        },
        {
         "hovertemplate": "is_fraud=0<br>category=food_dining<br>transaction_time=%{x}<br>amount(usd)=%{y}<extra></extra>",
         "legendgroup": "0",
         "marker": {
          "color": "#61E50F",
          "symbol": "circle"
         },
         "mode": "markers",
         "name": "0",
         "showlegend": false,
         "type": "scattergl",
         "x": [
          "2019-01-06T00:00:00",
          "2019-01-13T00:00:00",
          "2019-01-20T00:00:00",
          "2019-01-27T00:00:00",
          "2019-02-03T00:00:00",
          "2019-02-10T00:00:00",
          "2019-02-17T00:00:00",
          "2019-02-24T00:00:00",
          "2019-03-03T00:00:00",
          "2019-03-10T00:00:00",
          "2019-03-17T00:00:00",
          "2019-03-24T00:00:00",
          "2019-03-31T00:00:00",
          "2019-04-07T00:00:00",
          "2019-04-14T00:00:00",
          "2019-04-21T00:00:00",
          "2019-04-28T00:00:00",
          "2019-05-05T00:00:00",
          "2019-05-12T00:00:00",
          "2019-05-19T00:00:00",
          "2019-05-26T00:00:00",
          "2019-06-02T00:00:00",
          "2019-06-09T00:00:00",
          "2019-06-16T00:00:00",
          "2019-06-23T00:00:00",
          "2019-06-30T00:00:00",
          "2019-07-07T00:00:00",
          "2019-07-14T00:00:00",
          "2019-07-21T00:00:00",
          "2019-07-28T00:00:00",
          "2019-08-04T00:00:00",
          "2019-08-11T00:00:00",
          "2019-08-18T00:00:00",
          "2019-08-25T00:00:00",
          "2019-09-01T00:00:00",
          "2019-09-08T00:00:00",
          "2019-09-15T00:00:00",
          "2019-09-22T00:00:00",
          "2019-09-29T00:00:00",
          "2019-10-06T00:00:00",
          "2019-10-13T00:00:00",
          "2019-10-20T00:00:00",
          "2019-10-27T00:00:00",
          "2019-11-03T00:00:00",
          "2019-11-10T00:00:00",
          "2019-11-17T00:00:00",
          "2019-11-24T00:00:00",
          "2019-12-01T00:00:00",
          "2019-12-08T00:00:00",
          "2019-12-15T00:00:00",
          "2019-12-22T00:00:00",
          "2019-12-29T00:00:00",
          "2020-01-05T00:00:00",
          "2020-01-12T00:00:00",
          "2020-01-19T00:00:00",
          "2020-01-26T00:00:00",
          "2020-02-02T00:00:00",
          "2020-02-09T00:00:00",
          "2020-02-16T00:00:00",
          "2020-02-23T00:00:00",
          "2020-03-01T00:00:00",
          "2020-03-08T00:00:00",
          "2020-03-15T00:00:00",
          "2020-03-22T00:00:00",
          "2020-03-29T00:00:00",
          "2020-04-05T00:00:00",
          "2020-04-12T00:00:00",
          "2020-04-19T00:00:00",
          "2020-04-26T00:00:00",
          "2020-05-03T00:00:00",
          "2020-05-10T00:00:00",
          "2020-05-17T00:00:00",
          "2020-05-24T00:00:00",
          "2020-05-31T00:00:00",
          "2020-06-07T00:00:00",
          "2020-06-14T00:00:00",
          "2020-06-21T00:00:00",
          "2020-06-28T00:00:00",
          "2020-07-05T00:00:00",
          "2020-07-12T00:00:00",
          "2020-07-19T00:00:00",
          "2020-07-26T00:00:00",
          "2020-08-02T00:00:00",
          "2020-08-09T00:00:00",
          "2020-08-16T00:00:00",
          "2020-08-23T00:00:00",
          "2020-08-30T00:00:00",
          "2020-09-06T00:00:00",
          "2020-09-13T00:00:00",
          "2020-09-20T00:00:00",
          "2020-09-27T00:00:00",
          "2020-10-04T00:00:00",
          "2020-10-11T00:00:00",
          "2020-10-18T00:00:00",
          "2020-10-25T00:00:00",
          "2020-11-01T00:00:00",
          "2020-11-08T00:00:00",
          "2020-11-15T00:00:00",
          "2020-11-22T00:00:00",
          "2020-11-29T00:00:00",
          "2020-12-06T00:00:00",
          "2020-12-13T00:00:00",
          "2020-12-20T00:00:00",
          "2020-12-27T00:00:00",
          "2021-01-03T00:00:00"
         ],
         "xaxis": "x14",
         "y": [
          50.53410122164049,
          50.58473163841808,
          49.925135135135136,
          50.55136627906976,
          52.324095092024535,
          49.827597597597595,
          49.372874828060525,
          51.60420268256333,
          52.875932754880694,
          48.88226579520697,
          52.896053550640275,
          52.15876557191393,
          50.77827859569649,
          52.648412514484356,
          50.28835706462212,
          49.57170097508126,
          51.04410147991543,
          52.99291576673866,
          48.24036076662908,
          50.7754808806489,
          52.13906976744186,
          49.97369150779896,
          48.6550625,
          53.09714022140221,
          51.82100925925926,
          50.835319531953196,
          51.1156018957346,
          52.97080835603997,
          51.53578055307761,
          49.6925791433892,
          50.27853962600178,
          52.38625334522747,
          51.411856392294226,
          50.06994464944649,
          50.19021720243267,
          50.036622662266225,
          49.94417040358744,
          50.034396082698585,
          54.50138006571742,
          51.51138089758343,
          51.230219298245615,
          49.3837417218543,
          51.739059459459455,
          51.391925078043705,
          52.669000000000004,
          49.72374295377678,
          49.76135164835165,
          49.53972591362126,
          50.745259593679464,
          51.33391304347826,
          50.67232062780269,
          51.572847990681424,
          52.31133113311331,
          50.64790830945559,
          50.70168067226891,
          49.97663663663664,
          50.544368650217706,
          51.07953242835596,
          50.94371641791045,
          51.05581967213114,
          51.23804537521815,
          49.22601635514019,
          52.053953488372095,
          48.581695095948824,
          52.37343915343916,
          51.1793281075028,
          52.959271739130436,
          49.63273356401384,
          51.82873015873016,
          51.874748603351954,
          52.160173010380625,
          49.03138826185101,
          48.43468061674009,
          49.87310498220641,
          50.41288789237668,
          49.93427923844062,
          51.14974499089253,
          50.52303430079156,
          51.73826677994902,
          47.56120629370629,
          49.67234685073339,
          49.841444241316275,
          50.53860986547085,
          51.905409282700425,
          52.43522241992883,
          52.84010869565218,
          49.2051094890511,
          51.86817629179331,
          52.839516129032255,
          52.20830034924331,
          50.881247311827956,
          50.3719757174393,
          51.041418994413405,
          49.19477146042363,
          52.803008658008665,
          52.58437360178971,
          48.974861751152076,
          49.28658227848101,
          50.823130990415336,
          51.65702517162471,
          50.43568994889267,
          50.16442492917847,
          50.22371749408983,
          50.14935320584927,
          50.889933206106875
         ],
         "yaxis": "y14"
        },
        {
         "hovertemplate": "is_fraud=0<br>category=gas_transport<br>transaction_time=%{x}<br>amount(usd)=%{y}<extra></extra>",
         "legendgroup": "0",
         "marker": {
          "color": "#61E50F",
          "symbol": "circle"
         },
         "mode": "markers",
         "name": "0",
         "showlegend": false,
         "type": "scattergl",
         "x": [
          "2019-01-06T00:00:00",
          "2019-01-13T00:00:00",
          "2019-01-20T00:00:00",
          "2019-01-27T00:00:00",
          "2019-02-03T00:00:00",
          "2019-02-10T00:00:00",
          "2019-02-17T00:00:00",
          "2019-02-24T00:00:00",
          "2019-03-03T00:00:00",
          "2019-03-10T00:00:00",
          "2019-03-17T00:00:00",
          "2019-03-24T00:00:00",
          "2019-03-31T00:00:00",
          "2019-04-07T00:00:00",
          "2019-04-14T00:00:00",
          "2019-04-21T00:00:00",
          "2019-04-28T00:00:00",
          "2019-05-05T00:00:00",
          "2019-05-12T00:00:00",
          "2019-05-19T00:00:00",
          "2019-05-26T00:00:00",
          "2019-06-02T00:00:00",
          "2019-06-09T00:00:00",
          "2019-06-16T00:00:00",
          "2019-06-23T00:00:00",
          "2019-06-30T00:00:00",
          "2019-07-07T00:00:00",
          "2019-07-14T00:00:00",
          "2019-07-21T00:00:00",
          "2019-07-28T00:00:00",
          "2019-08-04T00:00:00",
          "2019-08-11T00:00:00",
          "2019-08-18T00:00:00",
          "2019-08-25T00:00:00",
          "2019-09-01T00:00:00",
          "2019-09-08T00:00:00",
          "2019-09-15T00:00:00",
          "2019-09-22T00:00:00",
          "2019-09-29T00:00:00",
          "2019-10-06T00:00:00",
          "2019-10-13T00:00:00",
          "2019-10-20T00:00:00",
          "2019-10-27T00:00:00",
          "2019-11-03T00:00:00",
          "2019-11-10T00:00:00",
          "2019-11-17T00:00:00",
          "2019-11-24T00:00:00",
          "2019-12-01T00:00:00",
          "2019-12-08T00:00:00",
          "2019-12-15T00:00:00",
          "2019-12-22T00:00:00",
          "2019-12-29T00:00:00",
          "2020-01-05T00:00:00",
          "2020-01-12T00:00:00",
          "2020-01-19T00:00:00",
          "2020-01-26T00:00:00",
          "2020-02-02T00:00:00",
          "2020-02-09T00:00:00",
          "2020-02-16T00:00:00",
          "2020-02-23T00:00:00",
          "2020-03-01T00:00:00",
          "2020-03-08T00:00:00",
          "2020-03-15T00:00:00",
          "2020-03-22T00:00:00",
          "2020-03-29T00:00:00",
          "2020-04-05T00:00:00",
          "2020-04-12T00:00:00",
          "2020-04-19T00:00:00",
          "2020-04-26T00:00:00",
          "2020-05-03T00:00:00",
          "2020-05-10T00:00:00",
          "2020-05-17T00:00:00",
          "2020-05-24T00:00:00",
          "2020-05-31T00:00:00",
          "2020-06-07T00:00:00",
          "2020-06-14T00:00:00",
          "2020-06-21T00:00:00",
          "2020-06-28T00:00:00",
          "2020-07-05T00:00:00",
          "2020-07-12T00:00:00",
          "2020-07-19T00:00:00",
          "2020-07-26T00:00:00",
          "2020-08-02T00:00:00",
          "2020-08-09T00:00:00",
          "2020-08-16T00:00:00",
          "2020-08-23T00:00:00",
          "2020-08-30T00:00:00",
          "2020-09-06T00:00:00",
          "2020-09-13T00:00:00",
          "2020-09-20T00:00:00",
          "2020-09-27T00:00:00",
          "2020-10-04T00:00:00",
          "2020-10-11T00:00:00",
          "2020-10-18T00:00:00",
          "2020-10-25T00:00:00",
          "2020-11-01T00:00:00",
          "2020-11-08T00:00:00",
          "2020-11-15T00:00:00",
          "2020-11-22T00:00:00",
          "2020-11-29T00:00:00",
          "2020-12-06T00:00:00",
          "2020-12-13T00:00:00",
          "2020-12-20T00:00:00",
          "2020-12-27T00:00:00",
          "2021-01-03T00:00:00"
         ],
         "xaxis": "x15",
         "y": [
          64.17350189633375,
          63.99695020746888,
          64.20316810344828,
          64.19908141962422,
          63.93567103935419,
          63.55818181818182,
          64.28166334661354,
          63.6285,
          62.87538235294118,
          64.10859537110935,
          63.76385314155943,
          63.474360228198854,
          63.50834697217676,
          63.6707265917603,
          63.584306402439026,
          63.830080645161296,
          63.418706548100246,
          64.436944,
          63.68141398271799,
          63.71832696715049,
          63.52677205882353,
          63.98076573653472,
          63.45247277386291,
          62.94273159144893,
          64.34817391304348,
          63.18089285714286,
          63.867193846153846,
          63.153219047619054,
          63.65510383889239,
          63.4796875,
          63.26979939209727,
          63.23328175370729,
          63.06963603818616,
          63.24072472594397,
          63.635285285285285,
          63.86573228346457,
          63.33325,
          63.31685647425898,
          63.40469841269841,
          63.42543408360129,
          64.04118989405052,
          63.750691573926865,
          63.987552395209576,
          64.25499600957701,
          63.43095129375951,
          64.14090981012659,
          63.8527382753404,
          63.36022714036109,
          63.37936653386454,
          63.23694736842105,
          63.18704994192799,
          63.63646480534801,
          63.22242424242424,
          64.90872432432433,
          63.213066271018796,
          64.25309108527132,
          63.137884210526316,
          63.77275210084034,
          63.77637826961771,
          63.53369696969697,
          63.1027037037037,
          63.309580364212195,
          63.68399841017488,
          63.33726762820513,
          63.51769053117783,
          63.74401090342679,
          64.1265835222978,
          64.17135488837567,
          63.468829953198124,
          64.0843865276664,
          63.05988005997002,
          64.01975667189953,
          64.28754038179149,
          63.36393805309734,
          63.67166666666667,
          64.00256722151089,
          64.01131546134663,
          63.07509385113269,
          64.29427126710291,
          64.0013887240356,
          63.83092734790313,
          64.589105490438,
          64.07669131238447,
          63.611759201497186,
          63.18136334812936,
          62.80121682847897,
          63.24903105590062,
          64.11439024390243,
          64.25230122324159,
          63.76428237129485,
          63.379904610492844,
          64.14839700374532,
          63.56924267100977,
          63.443809141940655,
          63.78005054759899,
          63.37123880597015,
          63.83077513430545,
          64.1425385802469,
          62.966,
          64.07687304075235,
          63.53892259821082,
          64.13499999999999,
          63.727490608564985,
          63.526617532971294,
          63.39208026755853
         ],
         "yaxis": "y15"
        },
        {
         "hovertemplate": "is_fraud=0<br>category=grocery_net<br>transaction_time=%{x}<br>amount(usd)=%{y}<extra></extra>",
         "legendgroup": "0",
         "marker": {
          "color": "#61E50F",
          "symbol": "circle"
         },
         "mode": "markers",
         "name": "0",
         "showlegend": false,
         "type": "scattergl",
         "x": [
          "2019-01-06T00:00:00",
          "2019-01-13T00:00:00",
          "2019-01-20T00:00:00",
          "2019-01-27T00:00:00",
          "2019-02-03T00:00:00",
          "2019-02-10T00:00:00",
          "2019-02-17T00:00:00",
          "2019-02-24T00:00:00",
          "2019-03-03T00:00:00",
          "2019-03-10T00:00:00",
          "2019-03-17T00:00:00",
          "2019-03-24T00:00:00",
          "2019-03-31T00:00:00",
          "2019-04-07T00:00:00",
          "2019-04-14T00:00:00",
          "2019-04-21T00:00:00",
          "2019-04-28T00:00:00",
          "2019-05-05T00:00:00",
          "2019-05-12T00:00:00",
          "2019-05-19T00:00:00",
          "2019-05-26T00:00:00",
          "2019-06-02T00:00:00",
          "2019-06-09T00:00:00",
          "2019-06-16T00:00:00",
          "2019-06-23T00:00:00",
          "2019-06-30T00:00:00",
          "2019-07-07T00:00:00",
          "2019-07-14T00:00:00",
          "2019-07-21T00:00:00",
          "2019-07-28T00:00:00",
          "2019-08-04T00:00:00",
          "2019-08-11T00:00:00",
          "2019-08-18T00:00:00",
          "2019-08-25T00:00:00",
          "2019-09-01T00:00:00",
          "2019-09-08T00:00:00",
          "2019-09-15T00:00:00",
          "2019-09-22T00:00:00",
          "2019-09-29T00:00:00",
          "2019-10-06T00:00:00",
          "2019-10-13T00:00:00",
          "2019-10-20T00:00:00",
          "2019-10-27T00:00:00",
          "2019-11-03T00:00:00",
          "2019-11-10T00:00:00",
          "2019-11-17T00:00:00",
          "2019-11-24T00:00:00",
          "2019-12-01T00:00:00",
          "2019-12-08T00:00:00",
          "2019-12-15T00:00:00",
          "2019-12-22T00:00:00",
          "2019-12-29T00:00:00",
          "2020-01-05T00:00:00",
          "2020-01-12T00:00:00",
          "2020-01-19T00:00:00",
          "2020-01-26T00:00:00",
          "2020-02-02T00:00:00",
          "2020-02-09T00:00:00",
          "2020-02-16T00:00:00",
          "2020-02-23T00:00:00",
          "2020-03-01T00:00:00",
          "2020-03-08T00:00:00",
          "2020-03-15T00:00:00",
          "2020-03-22T00:00:00",
          "2020-03-29T00:00:00",
          "2020-04-05T00:00:00",
          "2020-04-12T00:00:00",
          "2020-04-19T00:00:00",
          "2020-04-26T00:00:00",
          "2020-05-03T00:00:00",
          "2020-05-10T00:00:00",
          "2020-05-17T00:00:00",
          "2020-05-24T00:00:00",
          "2020-05-31T00:00:00",
          "2020-06-07T00:00:00",
          "2020-06-14T00:00:00",
          "2020-06-21T00:00:00",
          "2020-06-28T00:00:00",
          "2020-07-05T00:00:00",
          "2020-07-12T00:00:00",
          "2020-07-19T00:00:00",
          "2020-07-26T00:00:00",
          "2020-08-02T00:00:00",
          "2020-08-09T00:00:00",
          "2020-08-16T00:00:00",
          "2020-08-23T00:00:00",
          "2020-08-30T00:00:00",
          "2020-09-06T00:00:00",
          "2020-09-13T00:00:00",
          "2020-09-20T00:00:00",
          "2020-09-27T00:00:00",
          "2020-10-04T00:00:00",
          "2020-10-11T00:00:00",
          "2020-10-18T00:00:00",
          "2020-10-25T00:00:00",
          "2020-11-01T00:00:00",
          "2020-11-08T00:00:00",
          "2020-11-15T00:00:00",
          "2020-11-22T00:00:00",
          "2020-11-29T00:00:00",
          "2020-12-06T00:00:00",
          "2020-12-13T00:00:00",
          "2020-12-20T00:00:00",
          "2020-12-27T00:00:00",
          "2021-01-03T00:00:00"
         ],
         "xaxis": "x10",
         "y": [
          54.458104089219326,
          55.77233333333333,
          56.191152737752155,
          53.40913173652695,
          52.98322368421052,
          56.49074850299401,
          53.768359621451104,
          52.37670769230769,
          53.61241610738255,
          54.41271762208068,
          54.87292270531401,
          51.7280504587156,
          53.03031180400891,
          53.09851774530271,
          53.37399543378996,
          55.82046666666667,
          53.0818410041841,
          54.666294642857146,
          53.68152272727273,
          54.53550691244239,
          53.223736263736264,
          53.93594356261023,
          54.11234714003945,
          52.73498168498168,
          54.726258620689656,
          53.889259259259255,
          53.7394425087108,
          51.98996197718631,
          54.90842718446602,
          53.22392727272727,
          54.70064236111111,
          52.87133333333333,
          54.25590825688074,
          54.09090592334495,
          54.424833625218916,
          54.07885780885781,
          54.13552995391705,
          53.37514476614699,
          52.8399322799097,
          54.39482456140351,
          55.0722891566265,
          53.22232258064516,
          53.42606280193237,
          55.13878378378378,
          53.989734513274335,
          53.77556306306306,
          54.568531317494596,
          54.96911222780569,
          54.906939226519334,
          53.79151685393258,
          53.19186608122942,
          53.64630484988452,
          54.65427672955975,
          52.19415151515152,
          51.84708737864078,
          55.6371686746988,
          52.753923705722066,
          52.69864779874213,
          54.05188034188034,
          54.307364341085275,
          52.670899653979234,
          53.4723600973236,
          52.21408388520971,
          53.323294392523366,
          53.73995423340961,
          52.446055684454755,
          53.09480434782609,
          54.098872901678654,
          53.48990867579909,
          53.048867102396514,
          53.93809012875537,
          52.88255319148936,
          53.850550847457626,
          53.32785198555957,
          54.29103825136612,
          52.965310924369746,
          54.6860546875,
          54.05235993208829,
          53.796927374301674,
          53.65380514705882,
          54.35345794392523,
          54.1323754789272,
          54.24578571428572,
          53.562764084507045,
          53.592423076923076,
          54.06097378277154,
          53.56628227194492,
          54.35305447470817,
          53.572922755741125,
          54.438293269230776,
          53.04981651376147,
          55.45324503311258,
          54.29833740831296,
          53.712165178571425,
          52.780447761194026,
          54.99278867102396,
          52.67995464852608,
          54.41173333333333,
          53.98134199134199,
          54.122565217391305,
          53.773236607142856,
          53.822409909909915,
          52.49890315052509,
          54.15749737118822,
          54.54314126394052
         ],
         "yaxis": "y10"
        },
        {
         "hovertemplate": "is_fraud=0<br>category=grocery_pos<br>transaction_time=%{x}<br>amount(usd)=%{y}<extra></extra>",
         "legendgroup": "0",
         "marker": {
          "color": "#61E50F",
          "symbol": "circle"
         },
         "mode": "markers",
         "name": "0",
         "showlegend": false,
         "type": "scattergl",
         "x": [
          "2019-01-06T00:00:00",
          "2019-01-13T00:00:00",
          "2019-01-20T00:00:00",
          "2019-01-27T00:00:00",
          "2019-02-03T00:00:00",
          "2019-02-10T00:00:00",
          "2019-02-17T00:00:00",
          "2019-02-24T00:00:00",
          "2019-03-03T00:00:00",
          "2019-03-10T00:00:00",
          "2019-03-17T00:00:00",
          "2019-03-24T00:00:00",
          "2019-03-31T00:00:00",
          "2019-04-07T00:00:00",
          "2019-04-14T00:00:00",
          "2019-04-21T00:00:00",
          "2019-04-28T00:00:00",
          "2019-05-05T00:00:00",
          "2019-05-12T00:00:00",
          "2019-05-19T00:00:00",
          "2019-05-26T00:00:00",
          "2019-06-02T00:00:00",
          "2019-06-09T00:00:00",
          "2019-06-16T00:00:00",
          "2019-06-23T00:00:00",
          "2019-06-30T00:00:00",
          "2019-07-07T00:00:00",
          "2019-07-14T00:00:00",
          "2019-07-21T00:00:00",
          "2019-07-28T00:00:00",
          "2019-08-04T00:00:00",
          "2019-08-11T00:00:00",
          "2019-08-18T00:00:00",
          "2019-08-25T00:00:00",
          "2019-09-01T00:00:00",
          "2019-09-08T00:00:00",
          "2019-09-15T00:00:00",
          "2019-09-22T00:00:00",
          "2019-09-29T00:00:00",
          "2019-10-06T00:00:00",
          "2019-10-13T00:00:00",
          "2019-10-20T00:00:00",
          "2019-10-27T00:00:00",
          "2019-11-03T00:00:00",
          "2019-11-10T00:00:00",
          "2019-11-17T00:00:00",
          "2019-11-24T00:00:00",
          "2019-12-01T00:00:00",
          "2019-12-08T00:00:00",
          "2019-12-15T00:00:00",
          "2019-12-22T00:00:00",
          "2019-12-29T00:00:00",
          "2020-01-05T00:00:00",
          "2020-01-12T00:00:00",
          "2020-01-19T00:00:00",
          "2020-01-26T00:00:00",
          "2020-02-02T00:00:00",
          "2020-02-09T00:00:00",
          "2020-02-16T00:00:00",
          "2020-02-23T00:00:00",
          "2020-03-01T00:00:00",
          "2020-03-08T00:00:00",
          "2020-03-15T00:00:00",
          "2020-03-22T00:00:00",
          "2020-03-29T00:00:00",
          "2020-04-05T00:00:00",
          "2020-04-12T00:00:00",
          "2020-04-19T00:00:00",
          "2020-04-26T00:00:00",
          "2020-05-03T00:00:00",
          "2020-05-10T00:00:00",
          "2020-05-17T00:00:00",
          "2020-05-24T00:00:00",
          "2020-05-31T00:00:00",
          "2020-06-07T00:00:00",
          "2020-06-14T00:00:00",
          "2020-06-21T00:00:00",
          "2020-06-28T00:00:00",
          "2020-07-05T00:00:00",
          "2020-07-12T00:00:00",
          "2020-07-19T00:00:00",
          "2020-07-26T00:00:00",
          "2020-08-02T00:00:00",
          "2020-08-09T00:00:00",
          "2020-08-16T00:00:00",
          "2020-08-23T00:00:00",
          "2020-08-30T00:00:00",
          "2020-09-06T00:00:00",
          "2020-09-13T00:00:00",
          "2020-09-20T00:00:00",
          "2020-09-27T00:00:00",
          "2020-10-04T00:00:00",
          "2020-10-11T00:00:00",
          "2020-10-18T00:00:00",
          "2020-10-25T00:00:00",
          "2020-11-01T00:00:00",
          "2020-11-08T00:00:00",
          "2020-11-15T00:00:00",
          "2020-11-22T00:00:00",
          "2020-11-29T00:00:00",
          "2020-12-06T00:00:00",
          "2020-12-13T00:00:00",
          "2020-12-20T00:00:00",
          "2020-12-27T00:00:00",
          "2021-01-03T00:00:00"
         ],
         "xaxis": "x11",
         "y": [
          111.37617021276597,
          113.65308235294117,
          114.44755555555555,
          114.22303695150114,
          117.64832142857142,
          113.40973952434881,
          115.29023836549375,
          115.42759299781183,
          114.51003286770747,
          113.79478367346938,
          115.22811188811188,
          115.92445544554455,
          113.36170230263157,
          113.58267402376912,
          115.15942355889723,
          111.79485525227462,
          112.31736753574432,
          113.89400333611343,
          113.72946666666667,
          113.36211685012701,
          113.73192956713133,
          113.47944335297969,
          115.50261569416499,
          114.52738833746898,
          112.46832759807296,
          113.33039780521263,
          114.03323446327684,
          112.7987077922078,
          114.27443292287752,
          113.94839273705448,
          113.98259310344828,
          113.93928619079385,
          113.76148817802503,
          117.02446404341927,
          115.57209633649931,
          112.51912178956088,
          111.48240072202167,
          115.81521853146852,
          111.90305721605465,
          114.51572839506171,
          114.96118096856415,
          114.0577142857143,
          113.81674576271188,
          115.74614166666666,
          113.07400166389353,
          114.43383906119028,
          111.68144691780822,
          114.65143382352942,
          113.59539232781168,
          114.73903439701616,
          114.12653631284917,
          114.90973075305006,
          115.09079672375279,
          118.7735231316726,
          114.07083427282977,
          114.44303783783784,
          113.13699669966996,
          112.4541,
          111.90954138702462,
          116.34100220264318,
          117.66696315120711,
          115.9304497991968,
          114.94906040268457,
          112.84381729200652,
          114.15488607594938,
          113.90958927074603,
          113.86188634569851,
          113.47505537974683,
          116.2206501283148,
          115.32621778886119,
          112.32893379191746,
          114.36868263473053,
          115.75345786963435,
          113.72275461380725,
          114.49033647375504,
          112.97544226873734,
          113.75838404327247,
          113.39591577540108,
          114.01259774685222,
          112.98493885869564,
          113.47034217877095,
          114.49985714285714,
          114.83715665976536,
          113.57360721442886,
          111.59380561259411,
          111.99380597014925,
          112.91094905792046,
          115.0531814730448,
          112.66138349514563,
          114.61294166666667,
          115.75653908794789,
          113.78191878980891,
          116.00264516129032,
          112.43492168178071,
          112.85336393989982,
          116.14136480686696,
          114.40838655462186,
          115.08134914145543,
          113.19385774058577,
          115.457,
          113.14259707724426,
          114.29752030782386,
          115.03471867007673,
          114.90692701664533,
          116.03895178197064
         ],
         "yaxis": "y11"
        },
        {
         "hovertemplate": "is_fraud=0<br>category=health_fitness<br>transaction_time=%{x}<br>amount(usd)=%{y}<extra></extra>",
         "legendgroup": "0",
         "marker": {
          "color": "#61E50F",
          "symbol": "circle"
         },
         "mode": "markers",
         "name": "0",
         "showlegend": false,
         "type": "scattergl",
         "x": [
          "2019-01-06T00:00:00",
          "2019-01-13T00:00:00",
          "2019-01-20T00:00:00",
          "2019-01-27T00:00:00",
          "2019-02-03T00:00:00",
          "2019-02-10T00:00:00",
          "2019-02-17T00:00:00",
          "2019-02-24T00:00:00",
          "2019-03-03T00:00:00",
          "2019-03-10T00:00:00",
          "2019-03-17T00:00:00",
          "2019-03-24T00:00:00",
          "2019-03-31T00:00:00",
          "2019-04-07T00:00:00",
          "2019-04-14T00:00:00",
          "2019-04-21T00:00:00",
          "2019-04-28T00:00:00",
          "2019-05-05T00:00:00",
          "2019-05-12T00:00:00",
          "2019-05-19T00:00:00",
          "2019-05-26T00:00:00",
          "2019-06-02T00:00:00",
          "2019-06-09T00:00:00",
          "2019-06-16T00:00:00",
          "2019-06-23T00:00:00",
          "2019-06-30T00:00:00",
          "2019-07-07T00:00:00",
          "2019-07-14T00:00:00",
          "2019-07-21T00:00:00",
          "2019-07-28T00:00:00",
          "2019-08-04T00:00:00",
          "2019-08-11T00:00:00",
          "2019-08-18T00:00:00",
          "2019-08-25T00:00:00",
          "2019-09-01T00:00:00",
          "2019-09-08T00:00:00",
          "2019-09-15T00:00:00",
          "2019-09-22T00:00:00",
          "2019-09-29T00:00:00",
          "2019-10-06T00:00:00",
          "2019-10-13T00:00:00",
          "2019-10-20T00:00:00",
          "2019-10-27T00:00:00",
          "2019-11-03T00:00:00",
          "2019-11-10T00:00:00",
          "2019-11-17T00:00:00",
          "2019-11-24T00:00:00",
          "2019-12-01T00:00:00",
          "2019-12-08T00:00:00",
          "2019-12-15T00:00:00",
          "2019-12-22T00:00:00",
          "2019-12-29T00:00:00",
          "2020-01-05T00:00:00",
          "2020-01-12T00:00:00",
          "2020-01-19T00:00:00",
          "2020-01-26T00:00:00",
          "2020-02-02T00:00:00",
          "2020-02-09T00:00:00",
          "2020-02-16T00:00:00",
          "2020-02-23T00:00:00",
          "2020-03-01T00:00:00",
          "2020-03-08T00:00:00",
          "2020-03-15T00:00:00",
          "2020-03-22T00:00:00",
          "2020-03-29T00:00:00",
          "2020-04-05T00:00:00",
          "2020-04-12T00:00:00",
          "2020-04-19T00:00:00",
          "2020-04-26T00:00:00",
          "2020-05-03T00:00:00",
          "2020-05-10T00:00:00",
          "2020-05-17T00:00:00",
          "2020-05-24T00:00:00",
          "2020-05-31T00:00:00",
          "2020-06-07T00:00:00",
          "2020-06-14T00:00:00",
          "2020-06-21T00:00:00",
          "2020-06-28T00:00:00",
          "2020-07-05T00:00:00",
          "2020-07-12T00:00:00",
          "2020-07-19T00:00:00",
          "2020-07-26T00:00:00",
          "2020-08-02T00:00:00",
          "2020-08-09T00:00:00",
          "2020-08-16T00:00:00",
          "2020-08-23T00:00:00",
          "2020-08-30T00:00:00",
          "2020-09-06T00:00:00",
          "2020-09-13T00:00:00",
          "2020-09-20T00:00:00",
          "2020-09-27T00:00:00",
          "2020-10-04T00:00:00",
          "2020-10-11T00:00:00",
          "2020-10-18T00:00:00",
          "2020-10-25T00:00:00",
          "2020-11-01T00:00:00",
          "2020-11-08T00:00:00",
          "2020-11-15T00:00:00",
          "2020-11-22T00:00:00",
          "2020-11-29T00:00:00",
          "2020-12-06T00:00:00",
          "2020-12-13T00:00:00",
          "2020-12-20T00:00:00",
          "2020-12-27T00:00:00",
          "2021-01-03T00:00:00"
         ],
         "xaxis": "x12",
         "y": [
          53.63589494163424,
          51.75831230283911,
          57.15854838709678,
          53.39940184049079,
          53.25175115207373,
          51.29106194690265,
          55.9877950310559,
          57.155966257668716,
          54.648390804597696,
          55.78076023391813,
          53.71673969072165,
          51.12060961313013,
          52.05585365853659,
          53.44001146788991,
          56.46810933940775,
          56.33070294784581,
          52.90218362282879,
          55.470461538461535,
          55.185265017667845,
          53.1698743718593,
          55.62049272116461,
          54.4435619047619,
          53.18712815715622,
          54.48461971830986,
          54.104298418972334,
          51.69963099630996,
          54.190984555984556,
          53.936707431796805,
          53.882084168336675,
          57.342365692742696,
          52.69031876138433,
          55.66196589769308,
          54.362681231380336,
          54.3072358490566,
          52.66819981149859,
          52.92237187127533,
          53.87009900990099,
          56.19273838630807,
          54.00414285714286,
          54.268713789107764,
          55.189662398137365,
          52.45448905109489,
          53.53532013969732,
          53.443744186046516,
          52.92441031941032,
          54.270942895086314,
          53.713461538461544,
          56.00296931407942,
          53.77874469375379,
          55.49333333333333,
          52.605296999387626,
          54.294784406379215,
          54.34822863027806,
          51.86626984126984,
          56.42642519685039,
          52.73724550898204,
          56.87395604395604,
          57.489705400982,
          54.02294770206023,
          54.32367816091954,
          54.2541155234657,
          54.94050767414404,
          54.84177615571777,
          57.50508214676889,
          54.77958628841608,
          55.26320665083136,
          57.56991860465116,
          52.53433574879227,
          55.23570559610705,
          56.37678983833719,
          53.884765906362546,
          53.23065060240964,
          52.86634482758621,
          51.5281316553727,
          51.72620593692022,
          54.62731356693621,
          54.974445479962725,
          54.34858536585366,
          53.685765765765765,
          56.28342883548983,
          52.88824803149606,
          54.14699443413729,
          55.02308199811498,
          54.43028627838105,
          56.32056852791878,
          56.197713472485766,
          50.898943089430894,
          52.48754859611231,
          53.00439862542955,
          51.95822815533981,
          51.71982100238663,
          53.32753846153846,
          51.50057347670251,
          56.24938356164383,
          52.261399276236425,
          54.297979214780604,
          52.37478855721393,
          54.39332904884319,
          54.241243902439024,
          54.097110849056605,
          52.78800931315483,
          52.88575866188769,
          54.62887966804979,
          52.90518159806295,
          54.03589692765114
         ],
         "yaxis": "y12"
        },
        {
         "hovertemplate": "is_fraud=0<br>category=home<br>transaction_time=%{x}<br>amount(usd)=%{y}<extra></extra>",
         "legendgroup": "0",
         "marker": {
          "color": "#61E50F",
          "symbol": "circle"
         },
         "mode": "markers",
         "name": "0",
         "showlegend": false,
         "type": "scattergl",
         "x": [
          "2019-01-06T00:00:00",
          "2019-01-13T00:00:00",
          "2019-01-20T00:00:00",
          "2019-01-27T00:00:00",
          "2019-02-03T00:00:00",
          "2019-02-10T00:00:00",
          "2019-02-17T00:00:00",
          "2019-02-24T00:00:00",
          "2019-03-03T00:00:00",
          "2019-03-10T00:00:00",
          "2019-03-17T00:00:00",
          "2019-03-24T00:00:00",
          "2019-03-31T00:00:00",
          "2019-04-07T00:00:00",
          "2019-04-14T00:00:00",
          "2019-04-21T00:00:00",
          "2019-04-28T00:00:00",
          "2019-05-05T00:00:00",
          "2019-05-12T00:00:00",
          "2019-05-19T00:00:00",
          "2019-05-26T00:00:00",
          "2019-06-02T00:00:00",
          "2019-06-09T00:00:00",
          "2019-06-16T00:00:00",
          "2019-06-23T00:00:00",
          "2019-06-30T00:00:00",
          "2019-07-07T00:00:00",
          "2019-07-14T00:00:00",
          "2019-07-21T00:00:00",
          "2019-07-28T00:00:00",
          "2019-08-04T00:00:00",
          "2019-08-11T00:00:00",
          "2019-08-18T00:00:00",
          "2019-08-25T00:00:00",
          "2019-09-01T00:00:00",
          "2019-09-08T00:00:00",
          "2019-09-15T00:00:00",
          "2019-09-22T00:00:00",
          "2019-09-29T00:00:00",
          "2019-10-06T00:00:00",
          "2019-10-13T00:00:00",
          "2019-10-20T00:00:00",
          "2019-10-27T00:00:00",
          "2019-11-03T00:00:00",
          "2019-11-10T00:00:00",
          "2019-11-17T00:00:00",
          "2019-11-24T00:00:00",
          "2019-12-01T00:00:00",
          "2019-12-08T00:00:00",
          "2019-12-15T00:00:00",
          "2019-12-22T00:00:00",
          "2019-12-29T00:00:00",
          "2020-01-05T00:00:00",
          "2020-01-12T00:00:00",
          "2020-01-19T00:00:00",
          "2020-01-26T00:00:00",
          "2020-02-02T00:00:00",
          "2020-02-09T00:00:00",
          "2020-02-16T00:00:00",
          "2020-02-23T00:00:00",
          "2020-03-01T00:00:00",
          "2020-03-08T00:00:00",
          "2020-03-15T00:00:00",
          "2020-03-22T00:00:00",
          "2020-03-29T00:00:00",
          "2020-04-05T00:00:00",
          "2020-04-12T00:00:00",
          "2020-04-19T00:00:00",
          "2020-04-26T00:00:00",
          "2020-05-03T00:00:00",
          "2020-05-10T00:00:00",
          "2020-05-17T00:00:00",
          "2020-05-24T00:00:00",
          "2020-05-31T00:00:00",
          "2020-06-07T00:00:00",
          "2020-06-14T00:00:00",
          "2020-06-21T00:00:00",
          "2020-06-28T00:00:00",
          "2020-07-05T00:00:00",
          "2020-07-12T00:00:00",
          "2020-07-19T00:00:00",
          "2020-07-26T00:00:00",
          "2020-08-02T00:00:00",
          "2020-08-09T00:00:00",
          "2020-08-16T00:00:00",
          "2020-08-23T00:00:00",
          "2020-08-30T00:00:00",
          "2020-09-06T00:00:00",
          "2020-09-13T00:00:00",
          "2020-09-20T00:00:00",
          "2020-09-27T00:00:00",
          "2020-10-04T00:00:00",
          "2020-10-11T00:00:00",
          "2020-10-18T00:00:00",
          "2020-10-25T00:00:00",
          "2020-11-01T00:00:00",
          "2020-11-08T00:00:00",
          "2020-11-15T00:00:00",
          "2020-11-22T00:00:00",
          "2020-11-29T00:00:00",
          "2020-12-06T00:00:00",
          "2020-12-13T00:00:00",
          "2020-12-20T00:00:00",
          "2020-12-27T00:00:00",
          "2021-01-03T00:00:00"
         ],
         "xaxis": "x7",
         "y": [
          56.879192708333335,
          57.12956475583864,
          57.58890365448505,
          58.74284199363733,
          60.45396061269147,
          60.64634573304158,
          59.870817884405675,
          56.64191764705882,
          59.27823825503356,
          56.59750411861614,
          58.067831526271895,
          57.26449447748513,
          57.28492116182573,
          57.05379537953795,
          57.87101265822784,
          56.488107667210436,
          58.645149999999994,
          57.047790994052676,
          57.810101180438444,
          57.32764150943396,
          58.793454810495625,
          58.96227663798809,
          56.609487525286575,
          59.04158644067796,
          57.035604681404415,
          56.27951369863013,
          57.81202498356344,
          58.20062541583499,
          56.75391393442623,
          58.48006915629322,
          57.087950191570876,
          56.46599046970728,
          58.235602369980256,
          56.73207341944256,
          58.35445816186557,
          56.38222807017544,
          59.1719209039548,
          57.2001140994295,
          58.43470877768663,
          58.31449879711307,
          60.488125000000004,
          58.70541559554413,
          57.83411716171617,
          59.07741749174917,
          57.57228523769808,
          59.48994466403162,
          58.536505823627294,
          58.28992718446602,
          57.45667221990837,
          58.484778651220516,
          58.27630481055769,
          57.03901796907647,
          56.37965361445782,
          59.37868958109559,
          57.172330097087375,
          58.69841435185185,
          58.2149678111588,
          55.48292397660819,
          56.09253638253638,
          54.59465292841648,
          60.18895274584929,
          58.70648784576697,
          57.96143780290791,
          58.010958268933535,
          60.50290322580645,
          57.22686454849499,
          58.97015548281506,
          58.07736706689538,
          55.86411522633745,
          58.51549356223176,
          60.02725573491929,
          56.885554649265906,
          58.091155480033976,
          56.845927694406555,
          57.762709424083766,
          59.232914210870995,
          58.44363110539845,
          56.98976635514018,
          55.36365787694388,
          57.69918573351279,
          57.701471200555176,
          56.71339084273391,
          58.072871012482665,
          57.986057629338575,
          56.00469559132261,
          57.99492734478204,
          58.12445881552076,
          55.67476691729323,
          58.74685087719298,
          58.78419301164726,
          57.23811677631579,
          56.24086738949124,
          61.31947767481045,
          58.56571666666667,
          58.154012588512984,
          59.11871279163314,
          55.92846727423364,
          57.9459102244389,
          60.02661276595745,
          59.37076854334227,
          56.04574842767295,
          57.85504184100418,
          58.24326226870475,
          58.32182089552239,
          57.00826937002172
         ],
         "yaxis": "y7"
        },
        {
         "hovertemplate": "is_fraud=0<br>category=kids_pets<br>transaction_time=%{x}<br>amount(usd)=%{y}<extra></extra>",
         "legendgroup": "0",
         "marker": {
          "color": "#61E50F",
          "symbol": "circle"
         },
         "mode": "markers",
         "name": "0",
         "showlegend": false,
         "type": "scattergl",
         "x": [
          "2019-01-06T00:00:00",
          "2019-01-13T00:00:00",
          "2019-01-20T00:00:00",
          "2019-01-27T00:00:00",
          "2019-02-03T00:00:00",
          "2019-02-10T00:00:00",
          "2019-02-17T00:00:00",
          "2019-02-24T00:00:00",
          "2019-03-03T00:00:00",
          "2019-03-10T00:00:00",
          "2019-03-17T00:00:00",
          "2019-03-24T00:00:00",
          "2019-03-31T00:00:00",
          "2019-04-07T00:00:00",
          "2019-04-14T00:00:00",
          "2019-04-21T00:00:00",
          "2019-04-28T00:00:00",
          "2019-05-05T00:00:00",
          "2019-05-12T00:00:00",
          "2019-05-19T00:00:00",
          "2019-05-26T00:00:00",
          "2019-06-02T00:00:00",
          "2019-06-09T00:00:00",
          "2019-06-16T00:00:00",
          "2019-06-23T00:00:00",
          "2019-06-30T00:00:00",
          "2019-07-07T00:00:00",
          "2019-07-14T00:00:00",
          "2019-07-21T00:00:00",
          "2019-07-28T00:00:00",
          "2019-08-04T00:00:00",
          "2019-08-11T00:00:00",
          "2019-08-18T00:00:00",
          "2019-08-25T00:00:00",
          "2019-09-01T00:00:00",
          "2019-09-08T00:00:00",
          "2019-09-15T00:00:00",
          "2019-09-22T00:00:00",
          "2019-09-29T00:00:00",
          "2019-10-06T00:00:00",
          "2019-10-13T00:00:00",
          "2019-10-20T00:00:00",
          "2019-10-27T00:00:00",
          "2019-11-03T00:00:00",
          "2019-11-10T00:00:00",
          "2019-11-17T00:00:00",
          "2019-11-24T00:00:00",
          "2019-12-01T00:00:00",
          "2019-12-08T00:00:00",
          "2019-12-15T00:00:00",
          "2019-12-22T00:00:00",
          "2019-12-29T00:00:00",
          "2020-01-05T00:00:00",
          "2020-01-12T00:00:00",
          "2020-01-19T00:00:00",
          "2020-01-26T00:00:00",
          "2020-02-02T00:00:00",
          "2020-02-09T00:00:00",
          "2020-02-16T00:00:00",
          "2020-02-23T00:00:00",
          "2020-03-01T00:00:00",
          "2020-03-08T00:00:00",
          "2020-03-15T00:00:00",
          "2020-03-22T00:00:00",
          "2020-03-29T00:00:00",
          "2020-04-05T00:00:00",
          "2020-04-12T00:00:00",
          "2020-04-19T00:00:00",
          "2020-04-26T00:00:00",
          "2020-05-03T00:00:00",
          "2020-05-10T00:00:00",
          "2020-05-17T00:00:00",
          "2020-05-24T00:00:00",
          "2020-05-31T00:00:00",
          "2020-06-07T00:00:00",
          "2020-06-14T00:00:00",
          "2020-06-21T00:00:00",
          "2020-06-28T00:00:00",
          "2020-07-05T00:00:00",
          "2020-07-12T00:00:00",
          "2020-07-19T00:00:00",
          "2020-07-26T00:00:00",
          "2020-08-02T00:00:00",
          "2020-08-09T00:00:00",
          "2020-08-16T00:00:00",
          "2020-08-23T00:00:00",
          "2020-08-30T00:00:00",
          "2020-09-06T00:00:00",
          "2020-09-13T00:00:00",
          "2020-09-20T00:00:00",
          "2020-09-27T00:00:00",
          "2020-10-04T00:00:00",
          "2020-10-11T00:00:00",
          "2020-10-18T00:00:00",
          "2020-10-25T00:00:00",
          "2020-11-01T00:00:00",
          "2020-11-08T00:00:00",
          "2020-11-15T00:00:00",
          "2020-11-22T00:00:00",
          "2020-11-29T00:00:00",
          "2020-12-06T00:00:00",
          "2020-12-13T00:00:00",
          "2020-12-20T00:00:00",
          "2020-12-27T00:00:00",
          "2021-01-03T00:00:00"
         ],
         "xaxis": "x8",
         "y": [
          55.455509893455094,
          57.64928229665072,
          59.25751552795031,
          54.71906172839506,
          58.41509202453988,
          61.40815533980582,
          58.61085956416465,
          59.45557022809123,
          56.78929639401935,
          58.104527595884,
          56.86261996161228,
          57.30540389972145,
          56.62595567867036,
          57.12209447415329,
          59.418973172987975,
          57.67210666666667,
          58.02835252435784,
          56.327755289788406,
          57.474101825168106,
          58.968062442607895,
          57.32209134615385,
          55.24177543859649,
          59.168693759071125,
          55.806622710622705,
          57.88451066961001,
          57.87517343173432,
          59.110152063721934,
          57.889881393624904,
          57.32224112426035,
          57.8276532769556,
          57.48367215461704,
          57.57065359477124,
          55.58450631031923,
          56.15870084269663,
          59.52652266288952,
          55.21475255972697,
          58.01294117647059,
          58.340231729055255,
          57.16057399103139,
          59.77116216216217,
          58.07951818181818,
          55.50181985294118,
          57.11561545372866,
          59.2989829059829,
          57.23534317984362,
          58.692400354295835,
          56.7911701170117,
          59.156644693473964,
          58.74015574896931,
          58.211317582916855,
          56.91197319778188,
          58.02907337723424,
          56.46971682847897,
          56.549952550415185,
          60.05447527141134,
          56.40092995169082,
          59.817987730061354,
          54.07385731559855,
          56.38379022646007,
          57.50384792626728,
          55.95169252468265,
          57.4773652173913,
          58.026142086330935,
          58.19034450651769,
          57.72502299908003,
          59.50781990521327,
          57.013952673093776,
          56.78424297370807,
          57.42694727104533,
          59.13856382978724,
          55.3360199456029,
          56.71274527452746,
          59.05441637630662,
          57.31294550810014,
          58.345862329803325,
          58.56222934472934,
          57.415775165319616,
          59.272462173315,
          57.41643212508884,
          56.73357818181818,
          60.04947735191637,
          55.92037444933921,
          57.69405191059841,
          54.20996376811594,
          57.7434829833454,
          57.33985805535841,
          58.2512,
          60.40075082508251,
          56.28420494699647,
          57.81285467128028,
          60.24465095194923,
          60.28258620689655,
          56.48375335120643,
          57.18196678321678,
          55.33595412844037,
          57.292103773584905,
          59.72959147424512,
          58.173324786324784,
          57.31591266375546,
          57.380334883720934,
          55.97205410362219,
          56.67749089253188,
          57.49126773049645,
          55.85702554744526,
          58.15032452830188
         ],
         "yaxis": "y8"
        },
        {
         "hovertemplate": "is_fraud=0<br>category=misc_net<br>transaction_time=%{x}<br>amount(usd)=%{y}<extra></extra>",
         "legendgroup": "0",
         "marker": {
          "color": "#61E50F",
          "symbol": "circle"
         },
         "mode": "markers",
         "name": "0",
         "showlegend": false,
         "type": "scattergl",
         "x": [
          "2019-01-06T00:00:00",
          "2019-01-13T00:00:00",
          "2019-01-20T00:00:00",
          "2019-01-27T00:00:00",
          "2019-02-03T00:00:00",
          "2019-02-10T00:00:00",
          "2019-02-17T00:00:00",
          "2019-02-24T00:00:00",
          "2019-03-03T00:00:00",
          "2019-03-10T00:00:00",
          "2019-03-17T00:00:00",
          "2019-03-24T00:00:00",
          "2019-03-31T00:00:00",
          "2019-04-07T00:00:00",
          "2019-04-14T00:00:00",
          "2019-04-21T00:00:00",
          "2019-04-28T00:00:00",
          "2019-05-05T00:00:00",
          "2019-05-12T00:00:00",
          "2019-05-19T00:00:00",
          "2019-05-26T00:00:00",
          "2019-06-02T00:00:00",
          "2019-06-09T00:00:00",
          "2019-06-16T00:00:00",
          "2019-06-23T00:00:00",
          "2019-06-30T00:00:00",
          "2019-07-07T00:00:00",
          "2019-07-14T00:00:00",
          "2019-07-21T00:00:00",
          "2019-07-28T00:00:00",
          "2019-08-04T00:00:00",
          "2019-08-11T00:00:00",
          "2019-08-18T00:00:00",
          "2019-08-25T00:00:00",
          "2019-09-01T00:00:00",
          "2019-09-08T00:00:00",
          "2019-09-15T00:00:00",
          "2019-09-22T00:00:00",
          "2019-09-29T00:00:00",
          "2019-10-06T00:00:00",
          "2019-10-13T00:00:00",
          "2019-10-20T00:00:00",
          "2019-10-27T00:00:00",
          "2019-11-03T00:00:00",
          "2019-11-10T00:00:00",
          "2019-11-17T00:00:00",
          "2019-11-24T00:00:00",
          "2019-12-01T00:00:00",
          "2019-12-08T00:00:00",
          "2019-12-15T00:00:00",
          "2019-12-22T00:00:00",
          "2019-12-29T00:00:00",
          "2020-01-05T00:00:00",
          "2020-01-12T00:00:00",
          "2020-01-19T00:00:00",
          "2020-01-26T00:00:00",
          "2020-02-02T00:00:00",
          "2020-02-09T00:00:00",
          "2020-02-16T00:00:00",
          "2020-02-23T00:00:00",
          "2020-03-01T00:00:00",
          "2020-03-08T00:00:00",
          "2020-03-15T00:00:00",
          "2020-03-22T00:00:00",
          "2020-03-29T00:00:00",
          "2020-04-05T00:00:00",
          "2020-04-12T00:00:00",
          "2020-04-19T00:00:00",
          "2020-04-26T00:00:00",
          "2020-05-03T00:00:00",
          "2020-05-10T00:00:00",
          "2020-05-17T00:00:00",
          "2020-05-24T00:00:00",
          "2020-05-31T00:00:00",
          "2020-06-07T00:00:00",
          "2020-06-14T00:00:00",
          "2020-06-21T00:00:00",
          "2020-06-28T00:00:00",
          "2020-07-05T00:00:00",
          "2020-07-12T00:00:00",
          "2020-07-19T00:00:00",
          "2020-07-26T00:00:00",
          "2020-08-02T00:00:00",
          "2020-08-09T00:00:00",
          "2020-08-16T00:00:00",
          "2020-08-23T00:00:00",
          "2020-08-30T00:00:00",
          "2020-09-06T00:00:00",
          "2020-09-13T00:00:00",
          "2020-09-20T00:00:00",
          "2020-09-27T00:00:00",
          "2020-10-04T00:00:00",
          "2020-10-11T00:00:00",
          "2020-10-18T00:00:00",
          "2020-10-25T00:00:00",
          "2020-11-01T00:00:00",
          "2020-11-08T00:00:00",
          "2020-11-15T00:00:00",
          "2020-11-22T00:00:00",
          "2020-11-29T00:00:00",
          "2020-12-06T00:00:00",
          "2020-12-13T00:00:00",
          "2020-12-20T00:00:00",
          "2020-12-27T00:00:00",
          "2021-01-03T00:00:00"
         ],
         "xaxis": "x9",
         "y": [
          74.72881748071978,
          64.75071583514101,
          63.56800433839479,
          70.40012820512821,
          70.59911205073995,
          63.466420824295014,
          67.24495412844037,
          64.74079069767443,
          78.57071082390952,
          82.5584,
          71.39717703349282,
          67.7029344262295,
          74.46927215189874,
          77.06347442680776,
          62.211319796954314,
          63.90383333333334,
          60.6117747440273,
          70.47869009584664,
          76.22238709677418,
          65.33207177814029,
          72.63011869436201,
          76.77662077596996,
          72.12342070773263,
          79.48372311827957,
          69.53405114401077,
          70.0614747736093,
          71.99972074468086,
          80.41625163826998,
          70.67800514800514,
          72.28231393775371,
          62.77204633204633,
          68.02003764115433,
          78.11696315120712,
          66.68566204287517,
          70.8271095890411,
          68.2753822152886,
          76.2529359430605,
          61.74554093567251,
          59.322651646447135,
          63.06448854961832,
          69.34458053691276,
          76.4449093904448,
          63.36515570934256,
          74.51514331210191,
          80.11468120805368,
          65.46385642737896,
          75.64109797297297,
          60.43355712603062,
          67.2230567315834,
          68.06357565511412,
          70.99467165419783,
          72.4609090909091,
          74.82691489361702,
          79.61141592920355,
          74.73269565217392,
          87.21849775784753,
          67.24280623608018,
          73.96738636363636,
          76.95367346938775,
          72.00995412844037,
          67.43595061728395,
          70.74964110929854,
          74.85228434504792,
          63.02170491803278,
          71.82315699658703,
          61.460623052959505,
          74.94102521008404,
          81.31486440677966,
          75.60774299835255,
          64.44131534569982,
          62.028462757527734,
          67.73116987179488,
          71.20469879518072,
          79.9433118556701,
          60.4784988179669,
          67.32811320754718,
          66.00369897959183,
          74.19303105590062,
          64.04675033025099,
          71.25119266055046,
          60.909849812265335,
          71.71156488549619,
          71.92750952986023,
          75.57203517587939,
          77.59540245566167,
          76.20557089084065,
          67.37031766200762,
          65.36266483516484,
          65.36548136645963,
          64.26031353135313,
          78.41913522012578,
          61.425858585858585,
          73.51238759689922,
          70.24986599664992,
          77.22320512820512,
          72.90826484018265,
          75.9391141141141,
          69.13921696574225,
          66.9617384370016,
          81.31710569105691,
          66.9249441786284,
          71.15586507936509,
          73.49369477911647,
          74.86972929936306,
          78.74722677595629
         ],
         "yaxis": "y9"
        },
        {
         "hovertemplate": "is_fraud=0<br>category=misc_pos<br>transaction_time=%{x}<br>amount(usd)=%{y}<extra></extra>",
         "legendgroup": "0",
         "marker": {
          "color": "#61E50F",
          "symbol": "circle"
         },
         "mode": "markers",
         "name": "0",
         "showlegend": false,
         "type": "scattergl",
         "x": [
          "2019-01-06T00:00:00",
          "2019-01-13T00:00:00",
          "2019-01-20T00:00:00",
          "2019-01-27T00:00:00",
          "2019-02-03T00:00:00",
          "2019-02-10T00:00:00",
          "2019-02-17T00:00:00",
          "2019-02-24T00:00:00",
          "2019-03-03T00:00:00",
          "2019-03-10T00:00:00",
          "2019-03-17T00:00:00",
          "2019-03-24T00:00:00",
          "2019-03-31T00:00:00",
          "2019-04-07T00:00:00",
          "2019-04-14T00:00:00",
          "2019-04-21T00:00:00",
          "2019-04-28T00:00:00",
          "2019-05-05T00:00:00",
          "2019-05-12T00:00:00",
          "2019-05-19T00:00:00",
          "2019-05-26T00:00:00",
          "2019-06-02T00:00:00",
          "2019-06-09T00:00:00",
          "2019-06-16T00:00:00",
          "2019-06-23T00:00:00",
          "2019-06-30T00:00:00",
          "2019-07-07T00:00:00",
          "2019-07-14T00:00:00",
          "2019-07-21T00:00:00",
          "2019-07-28T00:00:00",
          "2019-08-04T00:00:00",
          "2019-08-11T00:00:00",
          "2019-08-18T00:00:00",
          "2019-08-25T00:00:00",
          "2019-09-01T00:00:00",
          "2019-09-08T00:00:00",
          "2019-09-15T00:00:00",
          "2019-09-22T00:00:00",
          "2019-09-29T00:00:00",
          "2019-10-06T00:00:00",
          "2019-10-13T00:00:00",
          "2019-10-20T00:00:00",
          "2019-10-27T00:00:00",
          "2019-11-03T00:00:00",
          "2019-11-10T00:00:00",
          "2019-11-17T00:00:00",
          "2019-11-24T00:00:00",
          "2019-12-01T00:00:00",
          "2019-12-08T00:00:00",
          "2019-12-15T00:00:00",
          "2019-12-22T00:00:00",
          "2019-12-29T00:00:00",
          "2020-01-05T00:00:00",
          "2020-01-12T00:00:00",
          "2020-01-19T00:00:00",
          "2020-01-26T00:00:00",
          "2020-02-02T00:00:00",
          "2020-02-09T00:00:00",
          "2020-02-16T00:00:00",
          "2020-02-23T00:00:00",
          "2020-03-01T00:00:00",
          "2020-03-08T00:00:00",
          "2020-03-15T00:00:00",
          "2020-03-22T00:00:00",
          "2020-03-29T00:00:00",
          "2020-04-05T00:00:00",
          "2020-04-12T00:00:00",
          "2020-04-19T00:00:00",
          "2020-04-26T00:00:00",
          "2020-05-03T00:00:00",
          "2020-05-10T00:00:00",
          "2020-05-17T00:00:00",
          "2020-05-24T00:00:00",
          "2020-05-31T00:00:00",
          "2020-06-07T00:00:00",
          "2020-06-14T00:00:00",
          "2020-06-21T00:00:00",
          "2020-06-28T00:00:00",
          "2020-07-05T00:00:00",
          "2020-07-12T00:00:00",
          "2020-07-19T00:00:00",
          "2020-07-26T00:00:00",
          "2020-08-02T00:00:00",
          "2020-08-09T00:00:00",
          "2020-08-16T00:00:00",
          "2020-08-23T00:00:00",
          "2020-08-30T00:00:00",
          "2020-09-06T00:00:00",
          "2020-09-13T00:00:00",
          "2020-09-20T00:00:00",
          "2020-09-27T00:00:00",
          "2020-10-04T00:00:00",
          "2020-10-11T00:00:00",
          "2020-10-18T00:00:00",
          "2020-10-25T00:00:00",
          "2020-11-01T00:00:00",
          "2020-11-08T00:00:00",
          "2020-11-15T00:00:00",
          "2020-11-22T00:00:00",
          "2020-11-29T00:00:00",
          "2020-12-06T00:00:00",
          "2020-12-13T00:00:00",
          "2020-12-20T00:00:00",
          "2020-12-27T00:00:00",
          "2021-01-03T00:00:00"
         ],
         "xaxis": "x4",
         "y": [
          58.716585903083704,
          59.96821052631579,
          56.79742808798646,
          51.06646536412079,
          60.34053511705685,
          74.80660808435852,
          63.08675579322638,
          54.54676470588235,
          60.25980369515011,
          70.81966931216931,
          60.31287192755498,
          56.88307482993197,
          60.824168900804295,
          59.55347881899871,
          56.09510718789407,
          59.79065963060686,
          62.79382051282051,
          55.59900793650793,
          62.864358288770056,
          62.96836734693878,
          61.49711785297549,
          57.94992407809111,
          67.72341153470185,
          67.71601464435146,
          64.72125,
          59.87071942446043,
          62.46507337526206,
          60.00186983471074,
          63.99276260504202,
          64.30514373716632,
          67.00371227364185,
          65.38780208333334,
          61.96415752741775,
          60.23350580781415,
          65.39270611057226,
          56.74413793103448,
          58.76529880478087,
          63.150486842105266,
          59.15623441396509,
          63.09526383526383,
          55.13228886168911,
          61.51263979193758,
          61.955216819973714,
          57.32915455746367,
          66.54465145754119,
          65.86503121098626,
          60.598515625000005,
          65.17431597528685,
          73.4219771137953,
          69.66721342621912,
          59.057369758576876,
          55.65226159793814,
          67.78484662576687,
          69.71610648918468,
          62.51382875605815,
          58.508906249999995,
          59.22594178082191,
          54.30450946643718,
          56.2143,
          59.390680272108845,
          64.59644628099174,
          62.38388440860215,
          71.38411533420708,
          56.509572538860105,
          67.4130112923463,
          59.72138957816377,
          57.90744389027431,
          60.97245569620253,
          67.22436477987422,
          65.76045698924732,
          62.229288437102916,
          60.55569587628866,
          56.21051311288484,
          62.285015806111694,
          66.77136942675159,
          65.42268470343392,
          65.97274,
          65.7016814159292,
          61.31462264150944,
          68.05186226964112,
          75.6667824310521,
          59.635605911330046,
          57.64618556701031,
          58.8884553660983,
          60.46958710976838,
          58.056956087824354,
          54.257040714995036,
          57.87698324022347,
          58.390533980582525,
          69.16836144578313,
          58.15202898550724,
          52.82909803921569,
          69.61302564102564,
          68.23319496855346,
          58.07810983397191,
          63.570052631578946,
          67.39547892720307,
          68.84319496855345,
          58.423337801608575,
          62.47630606860159,
          55.87417512690355,
          58.100770688566016,
          70.36597162245528,
          60.667827455919394,
          63.77774678111588
         ],
         "yaxis": "y4"
        },
        {
         "hovertemplate": "is_fraud=0<br>category=personal_care<br>transaction_time=%{x}<br>amount(usd)=%{y}<extra></extra>",
         "legendgroup": "0",
         "marker": {
          "color": "#61E50F",
          "symbol": "circle"
         },
         "mode": "markers",
         "name": "0",
         "showlegend": false,
         "type": "scattergl",
         "x": [
          "2019-01-06T00:00:00",
          "2019-01-13T00:00:00",
          "2019-01-20T00:00:00",
          "2019-01-27T00:00:00",
          "2019-02-03T00:00:00",
          "2019-02-10T00:00:00",
          "2019-02-17T00:00:00",
          "2019-02-24T00:00:00",
          "2019-03-03T00:00:00",
          "2019-03-10T00:00:00",
          "2019-03-17T00:00:00",
          "2019-03-24T00:00:00",
          "2019-03-31T00:00:00",
          "2019-04-07T00:00:00",
          "2019-04-14T00:00:00",
          "2019-04-21T00:00:00",
          "2019-04-28T00:00:00",
          "2019-05-05T00:00:00",
          "2019-05-12T00:00:00",
          "2019-05-19T00:00:00",
          "2019-05-26T00:00:00",
          "2019-06-02T00:00:00",
          "2019-06-09T00:00:00",
          "2019-06-16T00:00:00",
          "2019-06-23T00:00:00",
          "2019-06-30T00:00:00",
          "2019-07-07T00:00:00",
          "2019-07-14T00:00:00",
          "2019-07-21T00:00:00",
          "2019-07-28T00:00:00",
          "2019-08-04T00:00:00",
          "2019-08-11T00:00:00",
          "2019-08-18T00:00:00",
          "2019-08-25T00:00:00",
          "2019-09-01T00:00:00",
          "2019-09-08T00:00:00",
          "2019-09-15T00:00:00",
          "2019-09-22T00:00:00",
          "2019-09-29T00:00:00",
          "2019-10-06T00:00:00",
          "2019-10-13T00:00:00",
          "2019-10-20T00:00:00",
          "2019-10-27T00:00:00",
          "2019-11-03T00:00:00",
          "2019-11-10T00:00:00",
          "2019-11-17T00:00:00",
          "2019-11-24T00:00:00",
          "2019-12-01T00:00:00",
          "2019-12-08T00:00:00",
          "2019-12-15T00:00:00",
          "2019-12-22T00:00:00",
          "2019-12-29T00:00:00",
          "2020-01-05T00:00:00",
          "2020-01-12T00:00:00",
          "2020-01-19T00:00:00",
          "2020-01-26T00:00:00",
          "2020-02-02T00:00:00",
          "2020-02-09T00:00:00",
          "2020-02-16T00:00:00",
          "2020-02-23T00:00:00",
          "2020-03-01T00:00:00",
          "2020-03-08T00:00:00",
          "2020-03-15T00:00:00",
          "2020-03-22T00:00:00",
          "2020-03-29T00:00:00",
          "2020-04-05T00:00:00",
          "2020-04-12T00:00:00",
          "2020-04-19T00:00:00",
          "2020-04-26T00:00:00",
          "2020-05-03T00:00:00",
          "2020-05-10T00:00:00",
          "2020-05-17T00:00:00",
          "2020-05-24T00:00:00",
          "2020-05-31T00:00:00",
          "2020-06-07T00:00:00",
          "2020-06-14T00:00:00",
          "2020-06-21T00:00:00",
          "2020-06-28T00:00:00",
          "2020-07-05T00:00:00",
          "2020-07-12T00:00:00",
          "2020-07-19T00:00:00",
          "2020-07-26T00:00:00",
          "2020-08-02T00:00:00",
          "2020-08-09T00:00:00",
          "2020-08-16T00:00:00",
          "2020-08-23T00:00:00",
          "2020-08-30T00:00:00",
          "2020-09-06T00:00:00",
          "2020-09-13T00:00:00",
          "2020-09-20T00:00:00",
          "2020-09-27T00:00:00",
          "2020-10-04T00:00:00",
          "2020-10-11T00:00:00",
          "2020-10-18T00:00:00",
          "2020-10-25T00:00:00",
          "2020-11-01T00:00:00",
          "2020-11-08T00:00:00",
          "2020-11-15T00:00:00",
          "2020-11-22T00:00:00",
          "2020-11-29T00:00:00",
          "2020-12-06T00:00:00",
          "2020-12-13T00:00:00",
          "2020-12-20T00:00:00",
          "2020-12-27T00:00:00",
          "2021-01-03T00:00:00"
         ],
         "xaxis": "x5",
         "y": [
          48.58127845884413,
          48.28582712369598,
          46.08815431164902,
          48.234170274170275,
          49.43575498575499,
          46.64947289156626,
          51.15417159763314,
          50.71842105263158,
          49.04003246753246,
          47.12736175115208,
          45.082863741339494,
          43.690551643192485,
          47.83852183650616,
          49.44830489192264,
          46.75924944812362,
          52.39754345307069,
          49.00202964652223,
          46.91288329519451,
          50.929309173272934,
          51.06809290953545,
          48.384969879518074,
          46.15083562901745,
          46.78208443271768,
          48.86541406945681,
          47.47457216940363,
          47.51184672206833,
          45.953751072961374,
          48.34899082568808,
          47.86698412698413,
          47.2716563876652,
          45.58392370572207,
          48.28171146953405,
          47.49362799263352,
          51.97784101174345,
          49.20523580365736,
          47.959601722282024,
          46.18922826086956,
          47.148323699421965,
          49.10638592750533,
          47.37752860411899,
          43.614095563139934,
          51.26571428571429,
          49.61028446389497,
          49.77221453287198,
          45.69586046511628,
          50.85237172177879,
          46.35975663716814,
          46.676663927691045,
          47.25947065592636,
          49.18479883381924,
          46.894480812641085,
          47.141291079812206,
          47.45189054726368,
          48.788510948905106,
          48.825601131541724,
          51.479936908517345,
          49.58897396630934,
          46.12659824046921,
          46.84679069767442,
          48.63803767660911,
          47.91698466780239,
          49.60522502744237,
          49.931936218678814,
          48.04416666666666,
          45.8923112659698,
          46.083310810810815,
          47.295335533553356,
          48.551232394366195,
          46.009321058688144,
          51.40136150234742,
          47.84490654205607,
          46.771046119235095,
          48.08570446735395,
          46.55765306122449,
          49.689494773519165,
          48.37317822651449,
          46.39025962399283,
          48.37860254083485,
          48.20819081908191,
          47.89127510917031,
          49.0617962466488,
          47.94183876811594,
          48.84520462633452,
          48.212974217311235,
          47.926552346570396,
          46.85372282608696,
          50.91656502242152,
          47.824692387904065,
          51.757736670293795,
          48.28784090909091,
          47.536640711902116,
          48.311264994547436,
          48.13315846994535,
          46.792065573770486,
          47.83506564551422,
          51.23590075512406,
          50.51862569832402,
          47.28432967032967,
          49.08436893203883,
          46.77,
          46.24791184573003,
          49.17576662908681,
          47.80365646258503,
          48.30138669673055,
          49.417288428324696
         ],
         "yaxis": "y5"
        },
        {
         "hovertemplate": "is_fraud=0<br>category=shopping_net<br>transaction_time=%{x}<br>amount(usd)=%{y}<extra></extra>",
         "legendgroup": "0",
         "marker": {
          "color": "#61E50F",
          "symbol": "circle"
         },
         "mode": "markers",
         "name": "0",
         "showlegend": false,
         "type": "scattergl",
         "x": [
          "2019-01-06T00:00:00",
          "2019-01-13T00:00:00",
          "2019-01-20T00:00:00",
          "2019-01-27T00:00:00",
          "2019-02-03T00:00:00",
          "2019-02-10T00:00:00",
          "2019-02-17T00:00:00",
          "2019-02-24T00:00:00",
          "2019-03-03T00:00:00",
          "2019-03-10T00:00:00",
          "2019-03-17T00:00:00",
          "2019-03-24T00:00:00",
          "2019-03-31T00:00:00",
          "2019-04-07T00:00:00",
          "2019-04-14T00:00:00",
          "2019-04-21T00:00:00",
          "2019-04-28T00:00:00",
          "2019-05-05T00:00:00",
          "2019-05-12T00:00:00",
          "2019-05-19T00:00:00",
          "2019-05-26T00:00:00",
          "2019-06-02T00:00:00",
          "2019-06-09T00:00:00",
          "2019-06-16T00:00:00",
          "2019-06-23T00:00:00",
          "2019-06-30T00:00:00",
          "2019-07-07T00:00:00",
          "2019-07-14T00:00:00",
          "2019-07-21T00:00:00",
          "2019-07-28T00:00:00",
          "2019-08-04T00:00:00",
          "2019-08-11T00:00:00",
          "2019-08-18T00:00:00",
          "2019-08-25T00:00:00",
          "2019-09-01T00:00:00",
          "2019-09-08T00:00:00",
          "2019-09-15T00:00:00",
          "2019-09-22T00:00:00",
          "2019-09-29T00:00:00",
          "2019-10-06T00:00:00",
          "2019-10-13T00:00:00",
          "2019-10-20T00:00:00",
          "2019-10-27T00:00:00",
          "2019-11-03T00:00:00",
          "2019-11-10T00:00:00",
          "2019-11-17T00:00:00",
          "2019-11-24T00:00:00",
          "2019-12-01T00:00:00",
          "2019-12-08T00:00:00",
          "2019-12-15T00:00:00",
          "2019-12-22T00:00:00",
          "2019-12-29T00:00:00",
          "2020-01-05T00:00:00",
          "2020-01-12T00:00:00",
          "2020-01-19T00:00:00",
          "2020-01-26T00:00:00",
          "2020-02-02T00:00:00",
          "2020-02-09T00:00:00",
          "2020-02-16T00:00:00",
          "2020-02-23T00:00:00",
          "2020-03-01T00:00:00",
          "2020-03-08T00:00:00",
          "2020-03-15T00:00:00",
          "2020-03-22T00:00:00",
          "2020-03-29T00:00:00",
          "2020-04-05T00:00:00",
          "2020-04-12T00:00:00",
          "2020-04-19T00:00:00",
          "2020-04-26T00:00:00",
          "2020-05-03T00:00:00",
          "2020-05-10T00:00:00",
          "2020-05-17T00:00:00",
          "2020-05-24T00:00:00",
          "2020-05-31T00:00:00",
          "2020-06-07T00:00:00",
          "2020-06-14T00:00:00",
          "2020-06-21T00:00:00",
          "2020-06-28T00:00:00",
          "2020-07-05T00:00:00",
          "2020-07-12T00:00:00",
          "2020-07-19T00:00:00",
          "2020-07-26T00:00:00",
          "2020-08-02T00:00:00",
          "2020-08-09T00:00:00",
          "2020-08-16T00:00:00",
          "2020-08-23T00:00:00",
          "2020-08-30T00:00:00",
          "2020-09-06T00:00:00",
          "2020-09-13T00:00:00",
          "2020-09-20T00:00:00",
          "2020-09-27T00:00:00",
          "2020-10-04T00:00:00",
          "2020-10-11T00:00:00",
          "2020-10-18T00:00:00",
          "2020-10-25T00:00:00",
          "2020-11-01T00:00:00",
          "2020-11-08T00:00:00",
          "2020-11-15T00:00:00",
          "2020-11-22T00:00:00",
          "2020-11-29T00:00:00",
          "2020-12-06T00:00:00",
          "2020-12-13T00:00:00",
          "2020-12-20T00:00:00",
          "2020-12-27T00:00:00",
          "2021-01-03T00:00:00"
         ],
         "xaxis": "x6",
         "y": [
          73.31855855855856,
          72.62911080711353,
          85.4429368575624,
          63.79474482758621,
          81.68572016460905,
          69.50084815321478,
          88.29362068965517,
          80.62638680659671,
          62.50364850976362,
          77.56959555106168,
          59.096871686108166,
          64.31569529652351,
          75.61425053533192,
          68.43965593784684,
          63.16331937172775,
          71.5699170984456,
          71.53869989165764,
          73.22325159914712,
          81.35527777777779,
          65.01358947368422,
          78.81470077220077,
          80.33318181818181,
          68.94986853637161,
          73.59525000000001,
          74.26388374052232,
          77.72972468916518,
          78.85285333333334,
          79.38982308340354,
          70.8021452991453,
          76.00909807355517,
          70.48857754927164,
          66.08094372294373,
          72.82175553732567,
          81.61980458793542,
          67.9190345438441,
          76.66097894736843,
          61.59394652406417,
          82.96276341948311,
          75.76544799176106,
          70.02651735722284,
          67.37970244420829,
          86.1674647887324,
          75.18369819341126,
          64.67193406593407,
          67.83456066945607,
          64.64842159916927,
          60.97723739495798,
          75.19859044635865,
          80.15985922836288,
          67.66598317560462,
          74.55069003285871,
          67.30009600000001,
          89.93421407907425,
          91.85838134430726,
          80.64162790697674,
          55.74896952104499,
          62.777248322147656,
          65.53273775216138,
          69.37175856929954,
          75.18174351585014,
          68.92144927536232,
          67.10488935721813,
          62.65608333333333,
          71.76817021276597,
          59.50424050632911,
          73.43901895206244,
          73.33830687830688,
          70.52428272251309,
          78.33142857142857,
          79.65728888888889,
          73.36535353535353,
          66.8190297029703,
          77.97596874999999,
          68.7488399661304,
          66.46432523051132,
          68.74800869565217,
          70.37975234842015,
          83.61812703583061,
          72.35076198630138,
          73.28024086378738,
          68.27869230769231,
          66.64217537942665,
          82.69312449145647,
          76.05227983539095,
          71.22419327731092,
          71.73226666666666,
          73.93656198347108,
          72.69468405215648,
          72.99694560669457,
          78.14336438923397,
          66.66777435897436,
          75.43055737704918,
          63.6036256684492,
          78.24911764705882,
          68.62049723756907,
          79.9452400835073,
          65.08711682743836,
          61.354081408140814,
          69.3300773480663,
          68.41985106382978,
          73.10839116719244,
          66.7513019529294,
          83.46582097457627,
          71.34638110928061,
          56.260828300258844
         ],
         "yaxis": "y6"
        },
        {
         "hovertemplate": "is_fraud=0<br>category=shopping_pos<br>transaction_time=%{x}<br>amount(usd)=%{y}<extra></extra>",
         "legendgroup": "0",
         "marker": {
          "color": "#61E50F",
          "symbol": "circle"
         },
         "mode": "markers",
         "name": "0",
         "showlegend": false,
         "type": "scattergl",
         "x": [
          "2019-01-06T00:00:00",
          "2019-01-13T00:00:00",
          "2019-01-20T00:00:00",
          "2019-01-27T00:00:00",
          "2019-02-03T00:00:00",
          "2019-02-10T00:00:00",
          "2019-02-17T00:00:00",
          "2019-02-24T00:00:00",
          "2019-03-03T00:00:00",
          "2019-03-10T00:00:00",
          "2019-03-17T00:00:00",
          "2019-03-24T00:00:00",
          "2019-03-31T00:00:00",
          "2019-04-07T00:00:00",
          "2019-04-14T00:00:00",
          "2019-04-21T00:00:00",
          "2019-04-28T00:00:00",
          "2019-05-05T00:00:00",
          "2019-05-12T00:00:00",
          "2019-05-19T00:00:00",
          "2019-05-26T00:00:00",
          "2019-06-02T00:00:00",
          "2019-06-09T00:00:00",
          "2019-06-16T00:00:00",
          "2019-06-23T00:00:00",
          "2019-06-30T00:00:00",
          "2019-07-07T00:00:00",
          "2019-07-14T00:00:00",
          "2019-07-21T00:00:00",
          "2019-07-28T00:00:00",
          "2019-08-04T00:00:00",
          "2019-08-11T00:00:00",
          "2019-08-18T00:00:00",
          "2019-08-25T00:00:00",
          "2019-09-01T00:00:00",
          "2019-09-08T00:00:00",
          "2019-09-15T00:00:00",
          "2019-09-22T00:00:00",
          "2019-09-29T00:00:00",
          "2019-10-06T00:00:00",
          "2019-10-13T00:00:00",
          "2019-10-20T00:00:00",
          "2019-10-27T00:00:00",
          "2019-11-03T00:00:00",
          "2019-11-10T00:00:00",
          "2019-11-17T00:00:00",
          "2019-11-24T00:00:00",
          "2019-12-01T00:00:00",
          "2019-12-08T00:00:00",
          "2019-12-15T00:00:00",
          "2019-12-22T00:00:00",
          "2019-12-29T00:00:00",
          "2020-01-05T00:00:00",
          "2020-01-12T00:00:00",
          "2020-01-19T00:00:00",
          "2020-01-26T00:00:00",
          "2020-02-02T00:00:00",
          "2020-02-09T00:00:00",
          "2020-02-16T00:00:00",
          "2020-02-23T00:00:00",
          "2020-03-01T00:00:00",
          "2020-03-08T00:00:00",
          "2020-03-15T00:00:00",
          "2020-03-22T00:00:00",
          "2020-03-29T00:00:00",
          "2020-04-05T00:00:00",
          "2020-04-12T00:00:00",
          "2020-04-19T00:00:00",
          "2020-04-26T00:00:00",
          "2020-05-03T00:00:00",
          "2020-05-10T00:00:00",
          "2020-05-17T00:00:00",
          "2020-05-24T00:00:00",
          "2020-05-31T00:00:00",
          "2020-06-07T00:00:00",
          "2020-06-14T00:00:00",
          "2020-06-21T00:00:00",
          "2020-06-28T00:00:00",
          "2020-07-05T00:00:00",
          "2020-07-12T00:00:00",
          "2020-07-19T00:00:00",
          "2020-07-26T00:00:00",
          "2020-08-02T00:00:00",
          "2020-08-09T00:00:00",
          "2020-08-16T00:00:00",
          "2020-08-23T00:00:00",
          "2020-08-30T00:00:00",
          "2020-09-06T00:00:00",
          "2020-09-13T00:00:00",
          "2020-09-20T00:00:00",
          "2020-09-27T00:00:00",
          "2020-10-04T00:00:00",
          "2020-10-11T00:00:00",
          "2020-10-18T00:00:00",
          "2020-10-25T00:00:00",
          "2020-11-01T00:00:00",
          "2020-11-08T00:00:00",
          "2020-11-15T00:00:00",
          "2020-11-22T00:00:00",
          "2020-11-29T00:00:00",
          "2020-12-06T00:00:00",
          "2020-12-13T00:00:00",
          "2020-12-20T00:00:00",
          "2020-12-27T00:00:00",
          "2021-01-03T00:00:00"
         ],
         "xaxis": "x",
         "y": [
          71.26041979010495,
          81.56413194444445,
          71.7518931475029,
          63.88126674786845,
          69.75031542056074,
          68.03613122171946,
          59.88172248803828,
          73.21787209302326,
          73.72327688399662,
          74.5148158131177,
          80.88786231884058,
          60.82051194539249,
          64.26325044404973,
          72.94375213675214,
          68.55208982584784,
          60.99583408476105,
          63.999529307282415,
          76.09966666666666,
          74.7720621225194,
          79.80111688311688,
          70.3178612244898,
          66.77851360781577,
          67.39716588314305,
          81.29285509325682,
          74.51588489208633,
          92.51267794221282,
          66.08520459440058,
          63.74269370021724,
          72.02448727272727,
          69.81586376404493,
          68.76123277737491,
          62.92180958811613,
          74.9524586628325,
          71.99947687642153,
          74.35078729281769,
          76.53453378956372,
          75.07733558178752,
          83.90803473491773,
          69.15452229299362,
          72.70831421006179,
          74.64622466216217,
          71.67691555555555,
          68.6322859589041,
          71.18762969588552,
          86.47636363636363,
          81.57136736554239,
          72.22434456928839,
          81.22064453125,
          74.99629941126997,
          78.22804899777283,
          78.51143377332727,
          80.62024003623188,
          66.39929644268774,
          77.76852594339623,
          77.56800875273524,
          69.44236559139785,
          67.67154981549815,
          70.18730285714285,
          75.04265454545455,
          63.118795749704844,
          83.58823607427055,
          83.82095067264574,
          82.0188547008547,
          90.58906507791018,
          77.72,
          75.85485212569316,
          59.57437172774869,
          69.2750124069479,
          68.39788869257951,
          86.44849471830986,
          82.19787197231834,
          70.87241659152389,
          66.6559366980325,
          73.42290714285714,
          68.89661029411765,
          88.55675857431069,
          79.53265060240963,
          73.23995856353591,
          79.23512536873156,
          69.190317679558,
          71.66740972222222,
          60.348915662650604,
          81.62731494920175,
          68.96674498963372,
          79.88018881626725,
          71.70235294117647,
          67.44488805970148,
          72.87712955779674,
          77.41172981878088,
          75.58653149266608,
          72.0345050878816,
          66.14878679750223,
          73.40770330652369,
          71.06176727909012,
          85.83357522123895,
          74.32594229035166,
          80.67749783549783,
          67.34818405916188,
          74.32135416666667,
          73.13538598047914,
          77.25818915284626,
          73.51214439192093,
          68.81452031114952,
          67.92132540730955,
          77.64050108932462
         ],
         "yaxis": "y"
        },
        {
         "hovertemplate": "is_fraud=0<br>category=travel<br>transaction_time=%{x}<br>amount(usd)=%{y}<extra></extra>",
         "legendgroup": "0",
         "marker": {
          "color": "#61E50F",
          "symbol": "circle"
         },
         "mode": "markers",
         "name": "0",
         "showlegend": false,
         "type": "scattergl",
         "x": [
          "2019-01-06T00:00:00",
          "2019-01-13T00:00:00",
          "2019-01-20T00:00:00",
          "2019-01-27T00:00:00",
          "2019-02-03T00:00:00",
          "2019-02-10T00:00:00",
          "2019-02-17T00:00:00",
          "2019-02-24T00:00:00",
          "2019-03-03T00:00:00",
          "2019-03-10T00:00:00",
          "2019-03-17T00:00:00",
          "2019-03-24T00:00:00",
          "2019-03-31T00:00:00",
          "2019-04-07T00:00:00",
          "2019-04-14T00:00:00",
          "2019-04-21T00:00:00",
          "2019-04-28T00:00:00",
          "2019-05-05T00:00:00",
          "2019-05-12T00:00:00",
          "2019-05-19T00:00:00",
          "2019-05-26T00:00:00",
          "2019-06-02T00:00:00",
          "2019-06-09T00:00:00",
          "2019-06-16T00:00:00",
          "2019-06-23T00:00:00",
          "2019-06-30T00:00:00",
          "2019-07-07T00:00:00",
          "2019-07-14T00:00:00",
          "2019-07-21T00:00:00",
          "2019-07-28T00:00:00",
          "2019-08-04T00:00:00",
          "2019-08-11T00:00:00",
          "2019-08-18T00:00:00",
          "2019-08-25T00:00:00",
          "2019-09-01T00:00:00",
          "2019-09-08T00:00:00",
          "2019-09-15T00:00:00",
          "2019-09-22T00:00:00",
          "2019-09-29T00:00:00",
          "2019-10-06T00:00:00",
          "2019-10-13T00:00:00",
          "2019-10-20T00:00:00",
          "2019-10-27T00:00:00",
          "2019-11-03T00:00:00",
          "2019-11-10T00:00:00",
          "2019-11-17T00:00:00",
          "2019-11-24T00:00:00",
          "2019-12-01T00:00:00",
          "2019-12-08T00:00:00",
          "2019-12-15T00:00:00",
          "2019-12-22T00:00:00",
          "2019-12-29T00:00:00",
          "2020-01-05T00:00:00",
          "2020-01-12T00:00:00",
          "2020-01-19T00:00:00",
          "2020-01-26T00:00:00",
          "2020-02-02T00:00:00",
          "2020-02-09T00:00:00",
          "2020-02-16T00:00:00",
          "2020-02-23T00:00:00",
          "2020-03-01T00:00:00",
          "2020-03-08T00:00:00",
          "2020-03-15T00:00:00",
          "2020-03-22T00:00:00",
          "2020-03-29T00:00:00",
          "2020-04-05T00:00:00",
          "2020-04-12T00:00:00",
          "2020-04-19T00:00:00",
          "2020-04-26T00:00:00",
          "2020-05-03T00:00:00",
          "2020-05-10T00:00:00",
          "2020-05-17T00:00:00",
          "2020-05-24T00:00:00",
          "2020-05-31T00:00:00",
          "2020-06-07T00:00:00",
          "2020-06-14T00:00:00",
          "2020-06-21T00:00:00",
          "2020-06-28T00:00:00",
          "2020-07-05T00:00:00",
          "2020-07-12T00:00:00",
          "2020-07-19T00:00:00",
          "2020-07-26T00:00:00",
          "2020-08-02T00:00:00",
          "2020-08-09T00:00:00",
          "2020-08-16T00:00:00",
          "2020-08-23T00:00:00",
          "2020-08-30T00:00:00",
          "2020-09-06T00:00:00",
          "2020-09-13T00:00:00",
          "2020-09-20T00:00:00",
          "2020-09-27T00:00:00",
          "2020-10-04T00:00:00",
          "2020-10-11T00:00:00",
          "2020-10-18T00:00:00",
          "2020-10-25T00:00:00",
          "2020-11-01T00:00:00",
          "2020-11-08T00:00:00",
          "2020-11-15T00:00:00",
          "2020-11-22T00:00:00",
          "2020-11-29T00:00:00",
          "2020-12-06T00:00:00",
          "2020-12-13T00:00:00",
          "2020-12-20T00:00:00",
          "2020-12-27T00:00:00",
          "2021-01-03T00:00:00"
         ],
         "xaxis": "x2",
         "y": [
          85.30982532751092,
          100.84612456747405,
          95.94086805555555,
          151.75740458015267,
          83.6463782051282,
          126.11175084175085,
          101.26417508417508,
          54.56087542087542,
          134.59981220657275,
          107.87898104265403,
          171.15628235294116,
          136.4669268292683,
          186.73941919191918,
          118.25948509485094,
          115.45805333333334,
          127.07354838709678,
          152.52781725888326,
          122.2879336734694,
          81.51095354523228,
          105.45763157894737,
          73.18979452054795,
          122.889140625,
          84.89911392405064,
          129.36854291417166,
          140.55734279918866,
          89.30502024291498,
          128.00184738955824,
          130.67384458077711,
          146.12109126984126,
          84.3059375,
          121.3911201629328,
          113.35559356136821,
          84.90658203125,
          82.44481973434534,
          95.25668639053254,
          124.7211320754717,
          182.9034988179669,
          124.4843556701031,
          95.69502525252526,
          117.01997481108313,
          80.51544303797468,
          103.06419098143235,
          96.13333333333334,
          80.43898351648352,
          76.94415143603133,
          136.47839712918662,
          73.97008042895442,
          133.07114186851211,
          130.30265625,
          105.85487684729064,
          89.87188819875776,
          109.78091731266149,
          106.29041362530414,
          93.78816199376946,
          96.73901898734177,
          78.07298892988929,
          76.5333445945946,
          109.86514950166112,
          99.95832142857144,
          87.6366889632107,
          110.88846153846153,
          114.89674242424242,
          78.39199501246883,
          117.8877690288714,
          97.9130238095238,
          140.57014814814815,
          97.60362694300518,
          107.6600234741784,
          125.72087804878048,
          97.38386666666666,
          107.53960106382979,
          107.48901678657076,
          83.94656330749353,
          147.68841365461847,
          80.80236893203883,
          84.93078260869565,
          127.15583838383839,
          83.82754352030948,
          100.33117400419287,
          111.16406504065041,
          158.90687626774846,
          128.78994252873565,
          113.38077244258872,
          116.22799227799227,
          88.4510158013544,
          94.14845714285715,
          88.52135353535354,
          105.44211206896551,
          110.05743467933492,
          65.2062180974478,
          160.63120181405895,
          115.87582051282051,
          71.92851063829787,
          115.27038888888887,
          123.96573849878935,
          124.05675126903553,
          101.4965206185567,
          83.88447867298578,
          111.75530343007917,
          170.73325068870523,
          82.21603448275862,
          101.85785166240409,
          143.41756363636364,
          108.00376158940396,
          92.1762331838565
         ],
         "yaxis": "y2"
        },
        {
         "hovertemplate": "is_fraud=1<br>category=entertainment<br>transaction_time=%{x}<br>amount(usd)=%{y}<extra></extra>",
         "legendgroup": "1",
         "marker": {
          "color": "#D93C1D",
          "symbol": "circle"
         },
         "mode": "markers",
         "name": "1",
         "showlegend": true,
         "type": "scattergl",
         "x": [
          "2019-01-06T00:00:00",
          "2019-01-13T00:00:00",
          "2019-01-20T00:00:00",
          "2019-01-27T00:00:00",
          "2019-02-03T00:00:00",
          "2019-02-10T00:00:00",
          "2019-02-17T00:00:00",
          "2019-02-24T00:00:00",
          "2019-03-03T00:00:00",
          "2019-03-10T00:00:00",
          "2019-03-17T00:00:00",
          "2019-03-24T00:00:00",
          "2019-03-31T00:00:00",
          "2019-04-07T00:00:00",
          "2019-04-14T00:00:00",
          "2019-04-21T00:00:00",
          "2019-04-28T00:00:00",
          "2019-05-05T00:00:00",
          "2019-05-12T00:00:00",
          "2019-05-19T00:00:00",
          "2019-05-26T00:00:00",
          "2019-06-02T00:00:00",
          "2019-06-09T00:00:00",
          "2019-06-16T00:00:00",
          "2019-06-23T00:00:00",
          "2019-06-30T00:00:00",
          "2019-07-07T00:00:00",
          "2019-07-14T00:00:00",
          "2019-07-21T00:00:00",
          "2019-07-28T00:00:00",
          "2019-08-04T00:00:00",
          "2019-08-11T00:00:00",
          "2019-08-18T00:00:00",
          "2019-08-25T00:00:00",
          "2019-09-01T00:00:00",
          "2019-09-08T00:00:00",
          "2019-09-15T00:00:00",
          "2019-09-22T00:00:00",
          "2019-09-29T00:00:00",
          "2019-10-06T00:00:00",
          "2019-10-13T00:00:00",
          "2019-10-20T00:00:00",
          "2019-10-27T00:00:00",
          "2019-11-03T00:00:00",
          "2019-11-10T00:00:00",
          "2019-11-17T00:00:00",
          "2019-11-24T00:00:00",
          "2019-12-01T00:00:00",
          "2019-12-08T00:00:00",
          "2019-12-15T00:00:00",
          "2019-12-22T00:00:00",
          "2019-12-29T00:00:00",
          "2020-01-05T00:00:00",
          "2020-01-12T00:00:00",
          "2020-01-19T00:00:00",
          "2020-01-26T00:00:00",
          "2020-02-02T00:00:00",
          "2020-02-09T00:00:00",
          "2020-02-16T00:00:00",
          "2020-02-23T00:00:00",
          "2020-03-01T00:00:00",
          "2020-03-08T00:00:00",
          "2020-03-15T00:00:00",
          "2020-03-22T00:00:00",
          "2020-03-29T00:00:00",
          "2020-04-05T00:00:00",
          "2020-04-12T00:00:00",
          "2020-04-19T00:00:00",
          "2020-04-26T00:00:00",
          "2020-05-03T00:00:00",
          "2020-05-10T00:00:00",
          "2020-05-17T00:00:00",
          "2020-05-24T00:00:00",
          "2020-05-31T00:00:00",
          "2020-06-07T00:00:00",
          "2020-06-14T00:00:00",
          "2020-06-21T00:00:00",
          "2020-06-28T00:00:00",
          "2020-07-05T00:00:00",
          "2020-07-12T00:00:00",
          "2020-07-19T00:00:00",
          "2020-07-26T00:00:00",
          "2020-08-02T00:00:00",
          "2020-08-09T00:00:00",
          "2020-08-16T00:00:00",
          "2020-08-23T00:00:00",
          "2020-08-30T00:00:00",
          "2020-09-06T00:00:00",
          "2020-09-13T00:00:00",
          "2020-09-20T00:00:00",
          "2020-09-27T00:00:00",
          "2020-10-04T00:00:00",
          "2020-10-11T00:00:00",
          "2020-10-18T00:00:00",
          "2020-10-25T00:00:00",
          "2020-11-01T00:00:00",
          "2020-11-08T00:00:00",
          "2020-11-15T00:00:00",
          "2020-11-22T00:00:00",
          "2020-11-29T00:00:00",
          "2020-12-06T00:00:00",
          "2020-12-13T00:00:00",
          "2020-12-20T00:00:00",
          "2020-12-27T00:00:00",
          "2021-01-03T00:00:00"
         ],
         "xaxis": "x13",
         "y": [
          null,
          487.72666666666663,
          455.14750000000004,
          609.41,
          486.75,
          null,
          593.0233333333333,
          479.42,
          576.6800000000001,
          454.308,
          551.104,
          501.86199999999997,
          554.4749999999999,
          null,
          574.9300000000001,
          536.365,
          557.02,
          554.94,
          541.3733333333333,
          495.83,
          503.5316666666667,
          null,
          430.735,
          539.05,
          508.1675,
          398.84,
          513.0233333333333,
          501.78,
          497.01,
          521.825,
          569.64,
          null,
          458.3059999999999,
          469.92499999999995,
          476.9533333333334,
          468.095,
          438.7925,
          449.4166666666667,
          494.83,
          439.89333333333326,
          553.0450000000001,
          454.95,
          493.14000000000004,
          581.4933333333333,
          477.6025,
          573.7850000000001,
          null,
          549.2575,
          512.7275,
          430.765,
          559.49,
          529.7171428571429,
          478.75,
          542.85,
          456.81,
          502.91999999999996,
          449.735,
          null,
          530.53,
          470.75,
          458.41,
          476.62,
          530.1175000000001,
          474.95599999999996,
          483.02,
          383.42,
          547.1700000000001,
          474.0233333333333,
          422.32,
          449.9075,
          427.02,
          471.35,
          432.445,
          487.94,
          null,
          548.9275,
          556.5766666666667,
          614.72,
          520.38,
          576.52,
          536.63,
          547.99,
          577.155,
          513.9066666666666,
          498.01,
          500.34,
          495.06333333333333,
          473.88,
          539.665,
          null,
          463.948,
          669.67,
          608.22,
          493.54999999999995,
          386.54,
          null,
          null,
          507.07,
          464.99,
          null,
          511.3,
          485.99,
          null,
          null,
          null
         ],
         "yaxis": "y13"
        },
        {
         "hovertemplate": "is_fraud=1<br>category=food_dining<br>transaction_time=%{x}<br>amount(usd)=%{y}<extra></extra>",
         "legendgroup": "1",
         "marker": {
          "color": "#D93C1D",
          "symbol": "circle"
         },
         "mode": "markers",
         "name": "1",
         "showlegend": false,
         "type": "scattergl",
         "x": [
          "2019-01-06T00:00:00",
          "2019-01-13T00:00:00",
          "2019-01-20T00:00:00",
          "2019-01-27T00:00:00",
          "2019-02-03T00:00:00",
          "2019-02-10T00:00:00",
          "2019-02-17T00:00:00",
          "2019-02-24T00:00:00",
          "2019-03-03T00:00:00",
          "2019-03-10T00:00:00",
          "2019-03-17T00:00:00",
          "2019-03-24T00:00:00",
          "2019-03-31T00:00:00",
          "2019-04-07T00:00:00",
          "2019-04-14T00:00:00",
          "2019-04-21T00:00:00",
          "2019-04-28T00:00:00",
          "2019-05-05T00:00:00",
          "2019-05-12T00:00:00",
          "2019-05-19T00:00:00",
          "2019-05-26T00:00:00",
          "2019-06-02T00:00:00",
          "2019-06-09T00:00:00",
          "2019-06-16T00:00:00",
          "2019-06-23T00:00:00",
          "2019-06-30T00:00:00",
          "2019-07-07T00:00:00",
          "2019-07-14T00:00:00",
          "2019-07-21T00:00:00",
          "2019-07-28T00:00:00",
          "2019-08-04T00:00:00",
          "2019-08-11T00:00:00",
          "2019-08-18T00:00:00",
          "2019-08-25T00:00:00",
          "2019-09-01T00:00:00",
          "2019-09-08T00:00:00",
          "2019-09-15T00:00:00",
          "2019-09-22T00:00:00",
          "2019-09-29T00:00:00",
          "2019-10-06T00:00:00",
          "2019-10-13T00:00:00",
          "2019-10-20T00:00:00",
          "2019-10-27T00:00:00",
          "2019-11-03T00:00:00",
          "2019-11-10T00:00:00",
          "2019-11-17T00:00:00",
          "2019-11-24T00:00:00",
          "2019-12-01T00:00:00",
          "2019-12-08T00:00:00",
          "2019-12-15T00:00:00",
          "2019-12-22T00:00:00",
          "2019-12-29T00:00:00",
          "2020-01-05T00:00:00",
          "2020-01-12T00:00:00",
          "2020-01-19T00:00:00",
          "2020-01-26T00:00:00",
          "2020-02-02T00:00:00",
          "2020-02-09T00:00:00",
          "2020-02-16T00:00:00",
          "2020-02-23T00:00:00",
          "2020-03-01T00:00:00",
          "2020-03-08T00:00:00",
          "2020-03-15T00:00:00",
          "2020-03-22T00:00:00",
          "2020-03-29T00:00:00",
          "2020-04-05T00:00:00",
          "2020-04-12T00:00:00",
          "2020-04-19T00:00:00",
          "2020-04-26T00:00:00",
          "2020-05-03T00:00:00",
          "2020-05-10T00:00:00",
          "2020-05-17T00:00:00",
          "2020-05-24T00:00:00",
          "2020-05-31T00:00:00",
          "2020-06-07T00:00:00",
          "2020-06-14T00:00:00",
          "2020-06-21T00:00:00",
          "2020-06-28T00:00:00",
          "2020-07-05T00:00:00",
          "2020-07-12T00:00:00",
          "2020-07-19T00:00:00",
          "2020-07-26T00:00:00",
          "2020-08-02T00:00:00",
          "2020-08-09T00:00:00",
          "2020-08-16T00:00:00",
          "2020-08-23T00:00:00",
          "2020-08-30T00:00:00",
          "2020-09-06T00:00:00",
          "2020-09-13T00:00:00",
          "2020-09-20T00:00:00",
          "2020-09-27T00:00:00",
          "2020-10-04T00:00:00",
          "2020-10-11T00:00:00",
          "2020-10-18T00:00:00",
          "2020-10-25T00:00:00",
          "2020-11-01T00:00:00",
          "2020-11-08T00:00:00",
          "2020-11-15T00:00:00",
          "2020-11-22T00:00:00",
          "2020-11-29T00:00:00",
          "2020-12-06T00:00:00",
          "2020-12-13T00:00:00",
          "2020-12-20T00:00:00",
          "2020-12-27T00:00:00",
          "2021-01-03T00:00:00"
         ],
         "xaxis": "x14",
         "y": [
          null,
          108.25999999999999,
          114.14166666666667,
          109.69,
          118.69666666666666,
          null,
          123.61,
          117.66,
          115.58500000000001,
          115.02250000000001,
          null,
          122.99666666666667,
          null,
          113.595,
          103.9,
          110.39,
          null,
          null,
          null,
          126.78,
          126.96,
          130.16,
          108.035,
          132.49333333333334,
          96.97,
          120.75,
          null,
          null,
          null,
          122.53,
          113.32,
          104.82,
          null,
          null,
          122.91,
          null,
          121.15166666666666,
          132.08666666666667,
          123.35666666666667,
          134.62,
          null,
          116.42,
          null,
          127.425,
          120.57,
          null,
          123.78999999999999,
          122.29666666666667,
          118.91499999999999,
          125.89,
          120.42,
          106.43,
          123.00333333333333,
          null,
          115.64,
          129.5533333333333,
          124.99,
          null,
          112.09,
          124.56,
          null,
          118.93,
          123.13,
          104.08,
          null,
          122.93,
          123.49333333333334,
          null,
          124.25333333333333,
          116.95,
          null,
          132.82,
          null,
          111.87666666666667,
          127.14500000000001,
          125.21,
          112.06,
          135.82,
          128.18,
          102.42,
          139.84,
          119.4325,
          null,
          129.682,
          97.93,
          128.135,
          116.06333333333333,
          126.86000000000001,
          null,
          null,
          114.62,
          119.38666666666666,
          109.77000000000001,
          118.4,
          null,
          140.13,
          137.61,
          117.23,
          null,
          null,
          133.43,
          117.6825,
          null,
          123.58,
          null
         ],
         "yaxis": "y14"
        },
        {
         "hovertemplate": "is_fraud=1<br>category=gas_transport<br>transaction_time=%{x}<br>amount(usd)=%{y}<extra></extra>",
         "legendgroup": "1",
         "marker": {
          "color": "#D93C1D",
          "symbol": "circle"
         },
         "mode": "markers",
         "name": "1",
         "showlegend": false,
         "type": "scattergl",
         "x": [
          "2019-01-06T00:00:00",
          "2019-01-13T00:00:00",
          "2019-01-20T00:00:00",
          "2019-01-27T00:00:00",
          "2019-02-03T00:00:00",
          "2019-02-10T00:00:00",
          "2019-02-17T00:00:00",
          "2019-02-24T00:00:00",
          "2019-03-03T00:00:00",
          "2019-03-10T00:00:00",
          "2019-03-17T00:00:00",
          "2019-03-24T00:00:00",
          "2019-03-31T00:00:00",
          "2019-04-07T00:00:00",
          "2019-04-14T00:00:00",
          "2019-04-21T00:00:00",
          "2019-04-28T00:00:00",
          "2019-05-05T00:00:00",
          "2019-05-12T00:00:00",
          "2019-05-19T00:00:00",
          "2019-05-26T00:00:00",
          "2019-06-02T00:00:00",
          "2019-06-09T00:00:00",
          "2019-06-16T00:00:00",
          "2019-06-23T00:00:00",
          "2019-06-30T00:00:00",
          "2019-07-07T00:00:00",
          "2019-07-14T00:00:00",
          "2019-07-21T00:00:00",
          "2019-07-28T00:00:00",
          "2019-08-04T00:00:00",
          "2019-08-11T00:00:00",
          "2019-08-18T00:00:00",
          "2019-08-25T00:00:00",
          "2019-09-01T00:00:00",
          "2019-09-08T00:00:00",
          "2019-09-15T00:00:00",
          "2019-09-22T00:00:00",
          "2019-09-29T00:00:00",
          "2019-10-06T00:00:00",
          "2019-10-13T00:00:00",
          "2019-10-20T00:00:00",
          "2019-10-27T00:00:00",
          "2019-11-03T00:00:00",
          "2019-11-10T00:00:00",
          "2019-11-17T00:00:00",
          "2019-11-24T00:00:00",
          "2019-12-01T00:00:00",
          "2019-12-08T00:00:00",
          "2019-12-15T00:00:00",
          "2019-12-22T00:00:00",
          "2019-12-29T00:00:00",
          "2020-01-05T00:00:00",
          "2020-01-12T00:00:00",
          "2020-01-19T00:00:00",
          "2020-01-26T00:00:00",
          "2020-02-02T00:00:00",
          "2020-02-09T00:00:00",
          "2020-02-16T00:00:00",
          "2020-02-23T00:00:00",
          "2020-03-01T00:00:00",
          "2020-03-08T00:00:00",
          "2020-03-15T00:00:00",
          "2020-03-22T00:00:00",
          "2020-03-29T00:00:00",
          "2020-04-05T00:00:00",
          "2020-04-12T00:00:00",
          "2020-04-19T00:00:00",
          "2020-04-26T00:00:00",
          "2020-05-03T00:00:00",
          "2020-05-10T00:00:00",
          "2020-05-17T00:00:00",
          "2020-05-24T00:00:00",
          "2020-05-31T00:00:00",
          "2020-06-07T00:00:00",
          "2020-06-14T00:00:00",
          "2020-06-21T00:00:00",
          "2020-06-28T00:00:00",
          "2020-07-05T00:00:00",
          "2020-07-12T00:00:00",
          "2020-07-19T00:00:00",
          "2020-07-26T00:00:00",
          "2020-08-02T00:00:00",
          "2020-08-09T00:00:00",
          "2020-08-16T00:00:00",
          "2020-08-23T00:00:00",
          "2020-08-30T00:00:00",
          "2020-09-06T00:00:00",
          "2020-09-13T00:00:00",
          "2020-09-20T00:00:00",
          "2020-09-27T00:00:00",
          "2020-10-04T00:00:00",
          "2020-10-11T00:00:00",
          "2020-10-18T00:00:00",
          "2020-10-25T00:00:00",
          "2020-11-01T00:00:00",
          "2020-11-08T00:00:00",
          "2020-11-15T00:00:00",
          "2020-11-22T00:00:00",
          "2020-11-29T00:00:00",
          "2020-12-06T00:00:00",
          "2020-12-13T00:00:00",
          "2020-12-20T00:00:00",
          "2020-12-27T00:00:00",
          "2021-01-03T00:00:00"
         ],
         "xaxis": "x15",
         "y": [
          11.875,
          10.621111111111112,
          14.341818181818182,
          11.583333333333334,
          10.75875,
          10.267272727272728,
          9.674999999999999,
          9.9825,
          11.610000000000001,
          9.26,
          16.45909090909091,
          9.513636363636364,
          10.653333333333334,
          12.549999999999999,
          19.81625,
          9.326666666666666,
          13.63888888888889,
          14.205714285714285,
          9.745,
          12.917272727272728,
          12.04076923076923,
          8.662,
          10.144,
          10.691666666666668,
          16.353333333333335,
          13.888,
          13.06,
          10.23,
          10.3475,
          14.489999999999998,
          16.5425,
          13,
          11.46,
          13.05,
          12.875294117647059,
          9.784,
          11.65,
          9.923333333333334,
          11.347999999999999,
          12.893,
          10.44,
          12.865714285714287,
          10.915,
          14.615,
          10.89,
          16.52285714285714,
          8.945714285714287,
          13.71,
          13.0625,
          11.11,
          14.431999999999999,
          13.952222222222222,
          10.1525,
          9.928571428571429,
          8.948,
          11,
          15.059999999999999,
          8.950000000000001,
          13.34,
          12.714444444444444,
          15.13,
          16.396666666666665,
          10.290000000000001,
          14.971,
          8.976666666666667,
          10.412857142857144,
          11.504285714285714,
          10.1475,
          15.11,
          11.67875,
          10.108,
          9.69,
          11.365833333333333,
          12.084166666666667,
          12.33,
          15.22,
          13.823333333333332,
          15.035,
          10.9125,
          13.166666666666666,
          9.672,
          12.486666666666666,
          12.766666666666666,
          11.23875,
          15.103333333333333,
          15.129999999999999,
          15.245000000000001,
          11.647499999999999,
          13.176666666666668,
          19.23,
          9.418,
          12.565999999999999,
          10.971428571428572,
          9.858333333333333,
          12.126666666666667,
          8.08,
          13.441666666666668,
          17.03333333333333,
          10.653333333333334,
          10.111666666666666,
          11.485714285714286,
          10.908000000000001,
          12.475714285714286,
          11.79,
          null
         ],
         "yaxis": "y15"
        },
        {
         "hovertemplate": "is_fraud=1<br>category=grocery_net<br>transaction_time=%{x}<br>amount(usd)=%{y}<extra></extra>",
         "legendgroup": "1",
         "marker": {
          "color": "#D93C1D",
          "symbol": "circle"
         },
         "mode": "markers",
         "name": "1",
         "showlegend": false,
         "type": "scattergl",
         "x": [
          "2019-01-06T00:00:00",
          "2019-01-13T00:00:00",
          "2019-01-20T00:00:00",
          "2019-01-27T00:00:00",
          "2019-02-03T00:00:00",
          "2019-02-10T00:00:00",
          "2019-02-17T00:00:00",
          "2019-02-24T00:00:00",
          "2019-03-03T00:00:00",
          "2019-03-10T00:00:00",
          "2019-03-17T00:00:00",
          "2019-03-24T00:00:00",
          "2019-03-31T00:00:00",
          "2019-04-07T00:00:00",
          "2019-04-14T00:00:00",
          "2019-04-21T00:00:00",
          "2019-04-28T00:00:00",
          "2019-05-05T00:00:00",
          "2019-05-12T00:00:00",
          "2019-05-19T00:00:00",
          "2019-05-26T00:00:00",
          "2019-06-02T00:00:00",
          "2019-06-09T00:00:00",
          "2019-06-16T00:00:00",
          "2019-06-23T00:00:00",
          "2019-06-30T00:00:00",
          "2019-07-07T00:00:00",
          "2019-07-14T00:00:00",
          "2019-07-21T00:00:00",
          "2019-07-28T00:00:00",
          "2019-08-04T00:00:00",
          "2019-08-11T00:00:00",
          "2019-08-18T00:00:00",
          "2019-08-25T00:00:00",
          "2019-09-01T00:00:00",
          "2019-09-08T00:00:00",
          "2019-09-15T00:00:00",
          "2019-09-22T00:00:00",
          "2019-09-29T00:00:00",
          "2019-10-06T00:00:00",
          "2019-10-13T00:00:00",
          "2019-10-20T00:00:00",
          "2019-10-27T00:00:00",
          "2019-11-03T00:00:00",
          "2019-11-10T00:00:00",
          "2019-11-17T00:00:00",
          "2019-11-24T00:00:00",
          "2019-12-01T00:00:00",
          "2019-12-08T00:00:00",
          "2019-12-15T00:00:00",
          "2019-12-22T00:00:00",
          "2019-12-29T00:00:00",
          "2020-01-05T00:00:00",
          "2020-01-12T00:00:00",
          "2020-01-19T00:00:00",
          "2020-01-26T00:00:00",
          "2020-02-02T00:00:00",
          "2020-02-09T00:00:00",
          "2020-02-16T00:00:00",
          "2020-02-23T00:00:00",
          "2020-03-01T00:00:00",
          "2020-03-08T00:00:00",
          "2020-03-15T00:00:00",
          "2020-03-22T00:00:00",
          "2020-03-29T00:00:00",
          "2020-04-05T00:00:00",
          "2020-04-12T00:00:00",
          "2020-04-19T00:00:00",
          "2020-04-26T00:00:00",
          "2020-05-03T00:00:00",
          "2020-05-10T00:00:00",
          "2020-05-17T00:00:00",
          "2020-05-24T00:00:00",
          "2020-05-31T00:00:00",
          "2020-06-07T00:00:00",
          "2020-06-14T00:00:00",
          "2020-06-21T00:00:00",
          "2020-06-28T00:00:00",
          "2020-07-05T00:00:00",
          "2020-07-12T00:00:00",
          "2020-07-19T00:00:00",
          "2020-07-26T00:00:00",
          "2020-08-02T00:00:00",
          "2020-08-09T00:00:00",
          "2020-08-16T00:00:00",
          "2020-08-23T00:00:00",
          "2020-08-30T00:00:00",
          "2020-09-06T00:00:00",
          "2020-09-13T00:00:00",
          "2020-09-20T00:00:00",
          "2020-09-27T00:00:00",
          "2020-10-04T00:00:00",
          "2020-10-11T00:00:00",
          "2020-10-18T00:00:00",
          "2020-10-25T00:00:00",
          "2020-11-01T00:00:00",
          "2020-11-08T00:00:00",
          "2020-11-15T00:00:00",
          "2020-11-22T00:00:00",
          "2020-11-29T00:00:00",
          "2020-12-06T00:00:00",
          "2020-12-13T00:00:00",
          "2020-12-20T00:00:00",
          "2020-12-27T00:00:00",
          "2021-01-03T00:00:00"
         ],
         "xaxis": "x10",
         "y": [
          14.37,
          null,
          13.931666666666667,
          null,
          13.13,
          15.99,
          16.73,
          7.83,
          13.575,
          9.213333333333333,
          13.799999999999999,
          null,
          17.005000000000003,
          13.53,
          14.78,
          null,
          15.61,
          14.55,
          11.16,
          null,
          11.5825,
          15.95,
          12.62,
          12.393333333333333,
          null,
          17.61,
          13.8675,
          13.04,
          null,
          12.515,
          null,
          9.605,
          13.6,
          null,
          null,
          7.21,
          null,
          13.22,
          14.76,
          11.32,
          10.325,
          null,
          15.33,
          13.13,
          null,
          13.435,
          null,
          13.476666666666667,
          12.409999999999998,
          9.49,
          7.54,
          13.565,
          12.3,
          null,
          null,
          10.59,
          9.51,
          13.28,
          15.55,
          15.46,
          12.672,
          10.35,
          7.41,
          10.9725,
          null,
          9.25,
          8.59,
          6.48,
          12.3,
          10.33,
          10.8,
          null,
          null,
          8.285,
          null,
          12.66,
          14.734,
          13.25,
          13.13,
          11.926666666666668,
          null,
          10.95,
          null,
          10.35,
          null,
          null,
          14.31,
          11.325,
          15.83,
          7.88,
          null,
          15.990000000000002,
          15.48,
          8.52,
          11.43,
          null,
          12.105,
          10.27,
          11.82,
          11.02,
          null,
          null,
          7.76,
          null,
          null
         ],
         "yaxis": "y10"
        },
        {
         "hovertemplate": "is_fraud=1<br>category=grocery_pos<br>transaction_time=%{x}<br>amount(usd)=%{y}<extra></extra>",
         "legendgroup": "1",
         "marker": {
          "color": "#D93C1D",
          "symbol": "circle"
         },
         "mode": "markers",
         "name": "1",
         "showlegend": false,
         "type": "scattergl",
         "x": [
          "2019-01-06T00:00:00",
          "2019-01-13T00:00:00",
          "2019-01-20T00:00:00",
          "2019-01-27T00:00:00",
          "2019-02-03T00:00:00",
          "2019-02-10T00:00:00",
          "2019-02-17T00:00:00",
          "2019-02-24T00:00:00",
          "2019-03-03T00:00:00",
          "2019-03-10T00:00:00",
          "2019-03-17T00:00:00",
          "2019-03-24T00:00:00",
          "2019-03-31T00:00:00",
          "2019-04-07T00:00:00",
          "2019-04-14T00:00:00",
          "2019-04-21T00:00:00",
          "2019-04-28T00:00:00",
          "2019-05-05T00:00:00",
          "2019-05-12T00:00:00",
          "2019-05-19T00:00:00",
          "2019-05-26T00:00:00",
          "2019-06-02T00:00:00",
          "2019-06-09T00:00:00",
          "2019-06-16T00:00:00",
          "2019-06-23T00:00:00",
          "2019-06-30T00:00:00",
          "2019-07-07T00:00:00",
          "2019-07-14T00:00:00",
          "2019-07-21T00:00:00",
          "2019-07-28T00:00:00",
          "2019-08-04T00:00:00",
          "2019-08-11T00:00:00",
          "2019-08-18T00:00:00",
          "2019-08-25T00:00:00",
          "2019-09-01T00:00:00",
          "2019-09-08T00:00:00",
          "2019-09-15T00:00:00",
          "2019-09-22T00:00:00",
          "2019-09-29T00:00:00",
          "2019-10-06T00:00:00",
          "2019-10-13T00:00:00",
          "2019-10-20T00:00:00",
          "2019-10-27T00:00:00",
          "2019-11-03T00:00:00",
          "2019-11-10T00:00:00",
          "2019-11-17T00:00:00",
          "2019-11-24T00:00:00",
          "2019-12-01T00:00:00",
          "2019-12-08T00:00:00",
          "2019-12-15T00:00:00",
          "2019-12-22T00:00:00",
          "2019-12-29T00:00:00",
          "2020-01-05T00:00:00",
          "2020-01-12T00:00:00",
          "2020-01-19T00:00:00",
          "2020-01-26T00:00:00",
          "2020-02-02T00:00:00",
          "2020-02-09T00:00:00",
          "2020-02-16T00:00:00",
          "2020-02-23T00:00:00",
          "2020-03-01T00:00:00",
          "2020-03-08T00:00:00",
          "2020-03-15T00:00:00",
          "2020-03-22T00:00:00",
          "2020-03-29T00:00:00",
          "2020-04-05T00:00:00",
          "2020-04-12T00:00:00",
          "2020-04-19T00:00:00",
          "2020-04-26T00:00:00",
          "2020-05-03T00:00:00",
          "2020-05-10T00:00:00",
          "2020-05-17T00:00:00",
          "2020-05-24T00:00:00",
          "2020-05-31T00:00:00",
          "2020-06-07T00:00:00",
          "2020-06-14T00:00:00",
          "2020-06-21T00:00:00",
          "2020-06-28T00:00:00",
          "2020-07-05T00:00:00",
          "2020-07-12T00:00:00",
          "2020-07-19T00:00:00",
          "2020-07-26T00:00:00",
          "2020-08-02T00:00:00",
          "2020-08-09T00:00:00",
          "2020-08-16T00:00:00",
          "2020-08-23T00:00:00",
          "2020-08-30T00:00:00",
          "2020-09-06T00:00:00",
          "2020-09-13T00:00:00",
          "2020-09-20T00:00:00",
          "2020-09-27T00:00:00",
          "2020-10-04T00:00:00",
          "2020-10-11T00:00:00",
          "2020-10-18T00:00:00",
          "2020-10-25T00:00:00",
          "2020-11-01T00:00:00",
          "2020-11-08T00:00:00",
          "2020-11-15T00:00:00",
          "2020-11-22T00:00:00",
          "2020-11-29T00:00:00",
          "2020-12-06T00:00:00",
          "2020-12-13T00:00:00",
          "2020-12-20T00:00:00",
          "2020-12-27T00:00:00",
          "2021-01-03T00:00:00"
         ],
         "xaxis": "x11",
         "y": [
          309.0846153846154,
          307.3710714285714,
          314.9687096774194,
          316.2708333333333,
          295.6525,
          298.93041666666664,
          309.21333333333337,
          319.41999999999996,
          309.6564,
          322.2022727272727,
          307.52606060606064,
          307.1090476190476,
          308.358,
          315.65,
          321.50142857142856,
          299.3523076923077,
          302.7353333333333,
          314.02750000000003,
          310.28333333333336,
          309.7732,
          319.3359259259259,
          308.42,
          325.56666666666666,
          305.7635294117647,
          328.87416666666667,
          315.4292,
          315.14,
          313.16125,
          312.5185714285714,
          320.2082352941176,
          326.3576923076923,
          315.3372727272727,
          334.9372727272727,
          316.342,
          310.1865384615385,
          296.04625,
          312.34722222222223,
          296.58214285714286,
          322.53333333333336,
          310.41954545454547,
          309.22111111111116,
          320.9286956521739,
          307.09499999999997,
          317.27476190476193,
          314.2575,
          305.31888888888886,
          304.5133333333333,
          321.53049999999996,
          307.0126923076923,
          301.14,
          308.35833333333335,
          320.4978571428572,
          302.91214285714284,
          294.9061111111111,
          332.4993333333333,
          313.1385714285714,
          309.31157894736845,
          300.82666666666665,
          313.461,
          304.30611111111114,
          316.8442857142857,
          327.4216666666667,
          317.06954545454545,
          311.6688461538462,
          311.76714285714286,
          308.7942857142857,
          319.9846153846154,
          316.7272222222222,
          311.7721052631579,
          309.3996153846154,
          303.00624999999997,
          307.8694117647059,
          312.64375,
          316.0625,
          308.06928571428574,
          307.42545454545456,
          327.0866666666667,
          305.081,
          321.20478260869567,
          314.73333333333335,
          310.8977777777778,
          316.5464705882353,
          310.983125,
          323.9548,
          312.65142857142854,
          333.241,
          306.408947368421,
          304.95307692307694,
          315.9329411764706,
          307.6769230769231,
          310.5957894736842,
          325.1788235294118,
          322.8829411764706,
          303.5861111111111,
          294.7782352941176,
          313.215,
          305.93916666666667,
          318.09999999999997,
          300.3354545454545,
          303.58947368421053,
          316.3861538461539,
          325.4955,
          288.1516666666667,
          328.7033333333333,
          null
         ],
         "yaxis": "y11"
        },
        {
         "hovertemplate": "is_fraud=1<br>category=health_fitness<br>transaction_time=%{x}<br>amount(usd)=%{y}<extra></extra>",
         "legendgroup": "1",
         "marker": {
          "color": "#D93C1D",
          "symbol": "circle"
         },
         "mode": "markers",
         "name": "1",
         "showlegend": false,
         "type": "scattergl",
         "x": [
          "2019-01-06T00:00:00",
          "2019-01-13T00:00:00",
          "2019-01-20T00:00:00",
          "2019-01-27T00:00:00",
          "2019-02-03T00:00:00",
          "2019-02-10T00:00:00",
          "2019-02-17T00:00:00",
          "2019-02-24T00:00:00",
          "2019-03-03T00:00:00",
          "2019-03-10T00:00:00",
          "2019-03-17T00:00:00",
          "2019-03-24T00:00:00",
          "2019-03-31T00:00:00",
          "2019-04-07T00:00:00",
          "2019-04-14T00:00:00",
          "2019-04-21T00:00:00",
          "2019-04-28T00:00:00",
          "2019-05-05T00:00:00",
          "2019-05-12T00:00:00",
          "2019-05-19T00:00:00",
          "2019-05-26T00:00:00",
          "2019-06-02T00:00:00",
          "2019-06-09T00:00:00",
          "2019-06-16T00:00:00",
          "2019-06-23T00:00:00",
          "2019-06-30T00:00:00",
          "2019-07-07T00:00:00",
          "2019-07-14T00:00:00",
          "2019-07-21T00:00:00",
          "2019-07-28T00:00:00",
          "2019-08-04T00:00:00",
          "2019-08-11T00:00:00",
          "2019-08-18T00:00:00",
          "2019-08-25T00:00:00",
          "2019-09-01T00:00:00",
          "2019-09-08T00:00:00",
          "2019-09-15T00:00:00",
          "2019-09-22T00:00:00",
          "2019-09-29T00:00:00",
          "2019-10-06T00:00:00",
          "2019-10-13T00:00:00",
          "2019-10-20T00:00:00",
          "2019-10-27T00:00:00",
          "2019-11-03T00:00:00",
          "2019-11-10T00:00:00",
          "2019-11-17T00:00:00",
          "2019-11-24T00:00:00",
          "2019-12-01T00:00:00",
          "2019-12-08T00:00:00",
          "2019-12-15T00:00:00",
          "2019-12-22T00:00:00",
          "2019-12-29T00:00:00",
          "2020-01-05T00:00:00",
          "2020-01-12T00:00:00",
          "2020-01-19T00:00:00",
          "2020-01-26T00:00:00",
          "2020-02-02T00:00:00",
          "2020-02-09T00:00:00",
          "2020-02-16T00:00:00",
          "2020-02-23T00:00:00",
          "2020-03-01T00:00:00",
          "2020-03-08T00:00:00",
          "2020-03-15T00:00:00",
          "2020-03-22T00:00:00",
          "2020-03-29T00:00:00",
          "2020-04-05T00:00:00",
          "2020-04-12T00:00:00",
          "2020-04-19T00:00:00",
          "2020-04-26T00:00:00",
          "2020-05-03T00:00:00",
          "2020-05-10T00:00:00",
          "2020-05-17T00:00:00",
          "2020-05-24T00:00:00",
          "2020-05-31T00:00:00",
          "2020-06-07T00:00:00",
          "2020-06-14T00:00:00",
          "2020-06-21T00:00:00",
          "2020-06-28T00:00:00",
          "2020-07-05T00:00:00",
          "2020-07-12T00:00:00",
          "2020-07-19T00:00:00",
          "2020-07-26T00:00:00",
          "2020-08-02T00:00:00",
          "2020-08-09T00:00:00",
          "2020-08-16T00:00:00",
          "2020-08-23T00:00:00",
          "2020-08-30T00:00:00",
          "2020-09-06T00:00:00",
          "2020-09-13T00:00:00",
          "2020-09-20T00:00:00",
          "2020-09-27T00:00:00",
          "2020-10-04T00:00:00",
          "2020-10-11T00:00:00",
          "2020-10-18T00:00:00",
          "2020-10-25T00:00:00",
          "2020-11-01T00:00:00",
          "2020-11-08T00:00:00",
          "2020-11-15T00:00:00",
          "2020-11-22T00:00:00",
          "2020-11-29T00:00:00",
          "2020-12-06T00:00:00",
          "2020-12-13T00:00:00",
          "2020-12-20T00:00:00",
          "2020-12-27T00:00:00",
          "2021-01-03T00:00:00"
         ],
         "xaxis": "x12",
         "y": [
          null,
          19.51,
          21.47,
          21.365000000000002,
          19.326666666666668,
          null,
          null,
          18.287499999999998,
          20.73,
          19.604999999999997,
          null,
          21.975,
          18.75,
          19.3,
          null,
          null,
          20.58,
          null,
          21.835,
          26.47,
          20.549999999999997,
          null,
          18.04,
          21.05333333333333,
          18.762,
          null,
          24.09,
          null,
          23.83,
          20.585,
          22.585,
          19.905,
          null,
          null,
          21.42,
          null,
          null,
          22.86,
          20.145,
          null,
          18.79,
          22.873333333333335,
          null,
          18.82,
          null,
          null,
          null,
          20.375,
          22.75,
          18.66,
          19.113999999999997,
          19.503999999999998,
          null,
          null,
          20.81,
          null,
          20.21,
          20.94,
          null,
          null,
          null,
          19.06,
          20.68,
          18.55,
          null,
          null,
          21.3,
          18.96,
          20.995,
          20.833333333333332,
          18.56,
          20.845,
          18.913333333333334,
          null,
          null,
          21.96,
          21.72666666666667,
          21.74,
          19.4525,
          null,
          20.706666666666667,
          16.91,
          18.155,
          20.876666666666665,
          20.186666666666667,
          20.585,
          19.653333333333336,
          25.43,
          null,
          19.64,
          null,
          null,
          20.244999999999997,
          19.2175,
          null,
          null,
          18.44,
          null,
          null,
          null,
          17.45,
          19.3775,
          null,
          null,
          null
         ],
         "yaxis": "y12"
        },
        {
         "hovertemplate": "is_fraud=1<br>category=home<br>transaction_time=%{x}<br>amount(usd)=%{y}<extra></extra>",
         "legendgroup": "1",
         "marker": {
          "color": "#D93C1D",
          "symbol": "circle"
         },
         "mode": "markers",
         "name": "1",
         "showlegend": false,
         "type": "scattergl",
         "x": [
          "2019-01-06T00:00:00",
          "2019-01-13T00:00:00",
          "2019-01-20T00:00:00",
          "2019-01-27T00:00:00",
          "2019-02-03T00:00:00",
          "2019-02-10T00:00:00",
          "2019-02-17T00:00:00",
          "2019-02-24T00:00:00",
          "2019-03-03T00:00:00",
          "2019-03-10T00:00:00",
          "2019-03-17T00:00:00",
          "2019-03-24T00:00:00",
          "2019-03-31T00:00:00",
          "2019-04-07T00:00:00",
          "2019-04-14T00:00:00",
          "2019-04-21T00:00:00",
          "2019-04-28T00:00:00",
          "2019-05-05T00:00:00",
          "2019-05-12T00:00:00",
          "2019-05-19T00:00:00",
          "2019-05-26T00:00:00",
          "2019-06-02T00:00:00",
          "2019-06-09T00:00:00",
          "2019-06-16T00:00:00",
          "2019-06-23T00:00:00",
          "2019-06-30T00:00:00",
          "2019-07-07T00:00:00",
          "2019-07-14T00:00:00",
          "2019-07-21T00:00:00",
          "2019-07-28T00:00:00",
          "2019-08-04T00:00:00",
          "2019-08-11T00:00:00",
          "2019-08-18T00:00:00",
          "2019-08-25T00:00:00",
          "2019-09-01T00:00:00",
          "2019-09-08T00:00:00",
          "2019-09-15T00:00:00",
          "2019-09-22T00:00:00",
          "2019-09-29T00:00:00",
          "2019-10-06T00:00:00",
          "2019-10-13T00:00:00",
          "2019-10-20T00:00:00",
          "2019-10-27T00:00:00",
          "2019-11-03T00:00:00",
          "2019-11-10T00:00:00",
          "2019-11-17T00:00:00",
          "2019-11-24T00:00:00",
          "2019-12-01T00:00:00",
          "2019-12-08T00:00:00",
          "2019-12-15T00:00:00",
          "2019-12-22T00:00:00",
          "2019-12-29T00:00:00",
          "2020-01-05T00:00:00",
          "2020-01-12T00:00:00",
          "2020-01-19T00:00:00",
          "2020-01-26T00:00:00",
          "2020-02-02T00:00:00",
          "2020-02-09T00:00:00",
          "2020-02-16T00:00:00",
          "2020-02-23T00:00:00",
          "2020-03-01T00:00:00",
          "2020-03-08T00:00:00",
          "2020-03-15T00:00:00",
          "2020-03-22T00:00:00",
          "2020-03-29T00:00:00",
          "2020-04-05T00:00:00",
          "2020-04-12T00:00:00",
          "2020-04-19T00:00:00",
          "2020-04-26T00:00:00",
          "2020-05-03T00:00:00",
          "2020-05-10T00:00:00",
          "2020-05-17T00:00:00",
          "2020-05-24T00:00:00",
          "2020-05-31T00:00:00",
          "2020-06-07T00:00:00",
          "2020-06-14T00:00:00",
          "2020-06-21T00:00:00",
          "2020-06-28T00:00:00",
          "2020-07-05T00:00:00",
          "2020-07-12T00:00:00",
          "2020-07-19T00:00:00",
          "2020-07-26T00:00:00",
          "2020-08-02T00:00:00",
          "2020-08-09T00:00:00",
          "2020-08-16T00:00:00",
          "2020-08-23T00:00:00",
          "2020-08-30T00:00:00",
          "2020-09-06T00:00:00",
          "2020-09-13T00:00:00",
          "2020-09-20T00:00:00",
          "2020-09-27T00:00:00",
          "2020-10-04T00:00:00",
          "2020-10-11T00:00:00",
          "2020-10-18T00:00:00",
          "2020-10-25T00:00:00",
          "2020-11-01T00:00:00",
          "2020-11-08T00:00:00",
          "2020-11-15T00:00:00",
          "2020-11-22T00:00:00",
          "2020-11-29T00:00:00",
          "2020-12-06T00:00:00",
          "2020-12-13T00:00:00",
          "2020-12-20T00:00:00",
          "2020-12-27T00:00:00",
          "2021-01-03T00:00:00"
         ],
         "xaxis": "x7",
         "y": [
          null,
          null,
          244.68,
          null,
          269.17,
          320.61,
          244.065,
          200.47,
          245.66000000000003,
          258.24333333333334,
          272.25,
          242.85,
          253.575,
          336.895,
          390.85,
          null,
          266.59,
          239.8,
          233.95,
          null,
          248.62,
          null,
          255.18666666666664,
          261.455,
          255.20499999999998,
          null,
          223.89,
          415.74,
          null,
          410.94,
          null,
          258.84666666666664,
          248.88000000000002,
          256.06666666666666,
          236.76999999999998,
          242.24,
          238.70999999999998,
          256.0675,
          252.462,
          null,
          238.59666666666666,
          245.965,
          null,
          262.89,
          277.15,
          265.39,
          239.26999999999998,
          270.84000000000003,
          270.54999999999995,
          265.8566666666666,
          197.33,
          290.65833333333336,
          252.1,
          285.88,
          223.49,
          255.3,
          244.96666666666667,
          217.24,
          246.5,
          null,
          252.04666666666665,
          270.36,
          276.28499999999997,
          247.6357142857143,
          null,
          null,
          238.41,
          243.49333333333334,
          null,
          241.11,
          248.64333333333335,
          null,
          307.82,
          null,
          null,
          257.09999999999997,
          271.39,
          250.32,
          276.1925,
          242.1225,
          236.185,
          259.2625,
          241.34,
          264.65333333333336,
          254.11,
          343.835,
          246.3,
          268.62,
          316.105,
          null,
          251.35000000000002,
          253.76,
          null,
          269.962,
          null,
          237.995,
          322.25,
          null,
          null,
          null,
          255.83,
          232.54,
          225.14000000000001,
          214.47500000000002,
          null
         ],
         "yaxis": "y7"
        },
        {
         "hovertemplate": "is_fraud=1<br>category=kids_pets<br>transaction_time=%{x}<br>amount(usd)=%{y}<extra></extra>",
         "legendgroup": "1",
         "marker": {
          "color": "#D93C1D",
          "symbol": "circle"
         },
         "mode": "markers",
         "name": "1",
         "showlegend": false,
         "type": "scattergl",
         "x": [
          "2019-01-06T00:00:00",
          "2019-01-13T00:00:00",
          "2019-01-20T00:00:00",
          "2019-01-27T00:00:00",
          "2019-02-03T00:00:00",
          "2019-02-10T00:00:00",
          "2019-02-17T00:00:00",
          "2019-02-24T00:00:00",
          "2019-03-03T00:00:00",
          "2019-03-10T00:00:00",
          "2019-03-17T00:00:00",
          "2019-03-24T00:00:00",
          "2019-03-31T00:00:00",
          "2019-04-07T00:00:00",
          "2019-04-14T00:00:00",
          "2019-04-21T00:00:00",
          "2019-04-28T00:00:00",
          "2019-05-05T00:00:00",
          "2019-05-12T00:00:00",
          "2019-05-19T00:00:00",
          "2019-05-26T00:00:00",
          "2019-06-02T00:00:00",
          "2019-06-09T00:00:00",
          "2019-06-16T00:00:00",
          "2019-06-23T00:00:00",
          "2019-06-30T00:00:00",
          "2019-07-07T00:00:00",
          "2019-07-14T00:00:00",
          "2019-07-21T00:00:00",
          "2019-07-28T00:00:00",
          "2019-08-04T00:00:00",
          "2019-08-11T00:00:00",
          "2019-08-18T00:00:00",
          "2019-08-25T00:00:00",
          "2019-09-01T00:00:00",
          "2019-09-08T00:00:00",
          "2019-09-15T00:00:00",
          "2019-09-22T00:00:00",
          "2019-09-29T00:00:00",
          "2019-10-06T00:00:00",
          "2019-10-13T00:00:00",
          "2019-10-20T00:00:00",
          "2019-10-27T00:00:00",
          "2019-11-03T00:00:00",
          "2019-11-10T00:00:00",
          "2019-11-17T00:00:00",
          "2019-11-24T00:00:00",
          "2019-12-01T00:00:00",
          "2019-12-08T00:00:00",
          "2019-12-15T00:00:00",
          "2019-12-22T00:00:00",
          "2019-12-29T00:00:00",
          "2020-01-05T00:00:00",
          "2020-01-12T00:00:00",
          "2020-01-19T00:00:00",
          "2020-01-26T00:00:00",
          "2020-02-02T00:00:00",
          "2020-02-09T00:00:00",
          "2020-02-16T00:00:00",
          "2020-02-23T00:00:00",
          "2020-03-01T00:00:00",
          "2020-03-08T00:00:00",
          "2020-03-15T00:00:00",
          "2020-03-22T00:00:00",
          "2020-03-29T00:00:00",
          "2020-04-05T00:00:00",
          "2020-04-12T00:00:00",
          "2020-04-19T00:00:00",
          "2020-04-26T00:00:00",
          "2020-05-03T00:00:00",
          "2020-05-10T00:00:00",
          "2020-05-17T00:00:00",
          "2020-05-24T00:00:00",
          "2020-05-31T00:00:00",
          "2020-06-07T00:00:00",
          "2020-06-14T00:00:00",
          "2020-06-21T00:00:00",
          "2020-06-28T00:00:00",
          "2020-07-05T00:00:00",
          "2020-07-12T00:00:00",
          "2020-07-19T00:00:00",
          "2020-07-26T00:00:00",
          "2020-08-02T00:00:00",
          "2020-08-09T00:00:00",
          "2020-08-16T00:00:00",
          "2020-08-23T00:00:00",
          "2020-08-30T00:00:00",
          "2020-09-06T00:00:00",
          "2020-09-13T00:00:00",
          "2020-09-20T00:00:00",
          "2020-09-27T00:00:00",
          "2020-10-04T00:00:00",
          "2020-10-11T00:00:00",
          "2020-10-18T00:00:00",
          "2020-10-25T00:00:00",
          "2020-11-01T00:00:00",
          "2020-11-08T00:00:00",
          "2020-11-15T00:00:00",
          "2020-11-22T00:00:00",
          "2020-11-29T00:00:00",
          "2020-12-06T00:00:00",
          "2020-12-13T00:00:00",
          "2020-12-20T00:00:00",
          "2020-12-27T00:00:00",
          "2021-01-03T00:00:00"
         ],
         "xaxis": "x8",
         "y": [
          4.58,
          21.236666666666668,
          15.026,
          17.9875,
          20.3,
          null,
          19.825,
          20.4875,
          20.353333333333335,
          18.755,
          20.08,
          21.675,
          20.166666666666668,
          21.04,
          null,
          18.62,
          16.936666666666667,
          16.580000000000002,
          20.444,
          7.18,
          21.98,
          null,
          21.959999999999997,
          20.625,
          18.97,
          21.17,
          null,
          4.24,
          null,
          17.263333333333332,
          20.34,
          19.85,
          10.97,
          19.698,
          15.19,
          20.125,
          20.669999999999998,
          10.879999999999999,
          null,
          19.74,
          17.016,
          20.013333333333332,
          18.6,
          9.906666666666666,
          null,
          null,
          19.52,
          18.96,
          16.366666666666667,
          17.42,
          null,
          18.62,
          21.67,
          15.71,
          20.15,
          null,
          19.78,
          null,
          6.76,
          19.095,
          20.066666666666666,
          19.19,
          null,
          17.662222222222223,
          19.44,
          null,
          19.918,
          20.23,
          19.32,
          19.55,
          17.02857142857143,
          19.13,
          16.38,
          null,
          null,
          22.735,
          19.842857142857145,
          null,
          19.323333333333334,
          21.075000000000003,
          18.134999999999998,
          17.79,
          19.63,
          20.1875,
          null,
          21.47,
          3.15,
          19.01,
          null,
          21.78,
          20.03333333333333,
          21.22,
          19.84,
          21.116666666666664,
          null,
          22.026666666666667,
          19.57,
          null,
          19.89,
          18.645,
          null,
          19.39,
          22.18,
          null,
          null
         ],
         "yaxis": "y8"
        },
        {
         "hovertemplate": "is_fraud=1<br>category=misc_net<br>transaction_time=%{x}<br>amount(usd)=%{y}<extra></extra>",
         "legendgroup": "1",
         "marker": {
          "color": "#D93C1D",
          "symbol": "circle"
         },
         "mode": "markers",
         "name": "1",
         "showlegend": false,
         "type": "scattergl",
         "x": [
          "2019-01-06T00:00:00",
          "2019-01-13T00:00:00",
          "2019-01-20T00:00:00",
          "2019-01-27T00:00:00",
          "2019-02-03T00:00:00",
          "2019-02-10T00:00:00",
          "2019-02-17T00:00:00",
          "2019-02-24T00:00:00",
          "2019-03-03T00:00:00",
          "2019-03-10T00:00:00",
          "2019-03-17T00:00:00",
          "2019-03-24T00:00:00",
          "2019-03-31T00:00:00",
          "2019-04-07T00:00:00",
          "2019-04-14T00:00:00",
          "2019-04-21T00:00:00",
          "2019-04-28T00:00:00",
          "2019-05-05T00:00:00",
          "2019-05-12T00:00:00",
          "2019-05-19T00:00:00",
          "2019-05-26T00:00:00",
          "2019-06-02T00:00:00",
          "2019-06-09T00:00:00",
          "2019-06-16T00:00:00",
          "2019-06-23T00:00:00",
          "2019-06-30T00:00:00",
          "2019-07-07T00:00:00",
          "2019-07-14T00:00:00",
          "2019-07-21T00:00:00",
          "2019-07-28T00:00:00",
          "2019-08-04T00:00:00",
          "2019-08-11T00:00:00",
          "2019-08-18T00:00:00",
          "2019-08-25T00:00:00",
          "2019-09-01T00:00:00",
          "2019-09-08T00:00:00",
          "2019-09-15T00:00:00",
          "2019-09-22T00:00:00",
          "2019-09-29T00:00:00",
          "2019-10-06T00:00:00",
          "2019-10-13T00:00:00",
          "2019-10-20T00:00:00",
          "2019-10-27T00:00:00",
          "2019-11-03T00:00:00",
          "2019-11-10T00:00:00",
          "2019-11-17T00:00:00",
          "2019-11-24T00:00:00",
          "2019-12-01T00:00:00",
          "2019-12-08T00:00:00",
          "2019-12-15T00:00:00",
          "2019-12-22T00:00:00",
          "2019-12-29T00:00:00",
          "2020-01-05T00:00:00",
          "2020-01-12T00:00:00",
          "2020-01-19T00:00:00",
          "2020-01-26T00:00:00",
          "2020-02-02T00:00:00",
          "2020-02-09T00:00:00",
          "2020-02-16T00:00:00",
          "2020-02-23T00:00:00",
          "2020-03-01T00:00:00",
          "2020-03-08T00:00:00",
          "2020-03-15T00:00:00",
          "2020-03-22T00:00:00",
          "2020-03-29T00:00:00",
          "2020-04-05T00:00:00",
          "2020-04-12T00:00:00",
          "2020-04-19T00:00:00",
          "2020-04-26T00:00:00",
          "2020-05-03T00:00:00",
          "2020-05-10T00:00:00",
          "2020-05-17T00:00:00",
          "2020-05-24T00:00:00",
          "2020-05-31T00:00:00",
          "2020-06-07T00:00:00",
          "2020-06-14T00:00:00",
          "2020-06-21T00:00:00",
          "2020-06-28T00:00:00",
          "2020-07-05T00:00:00",
          "2020-07-12T00:00:00",
          "2020-07-19T00:00:00",
          "2020-07-26T00:00:00",
          "2020-08-02T00:00:00",
          "2020-08-09T00:00:00",
          "2020-08-16T00:00:00",
          "2020-08-23T00:00:00",
          "2020-08-30T00:00:00",
          "2020-09-06T00:00:00",
          "2020-09-13T00:00:00",
          "2020-09-20T00:00:00",
          "2020-09-27T00:00:00",
          "2020-10-04T00:00:00",
          "2020-10-11T00:00:00",
          "2020-10-18T00:00:00",
          "2020-10-25T00:00:00",
          "2020-11-01T00:00:00",
          "2020-11-08T00:00:00",
          "2020-11-15T00:00:00",
          "2020-11-22T00:00:00",
          "2020-11-29T00:00:00",
          "2020-12-06T00:00:00",
          "2020-12-13T00:00:00",
          "2020-12-20T00:00:00",
          "2020-12-27T00:00:00",
          "2021-01-03T00:00:00"
         ],
         "xaxis": "x9",
         "y": [
          783.76,
          810.35,
          781.34,
          815.3700000000001,
          807.1227272727273,
          739.2435714285714,
          824.9616666666666,
          817.9185714285715,
          789.0471428571428,
          768.2155555555555,
          839.5633333333334,
          781.2325000000001,
          797.3116666666666,
          843.765,
          827.3853846153846,
          744.2572727272727,
          808.2149999999999,
          852.8625,
          837.3900000000001,
          784.274,
          795.1746153846154,
          869.215,
          811.4275,
          807.5609090909091,
          776.3649999999999,
          801.154,
          822.425,
          772.435,
          799.6633333333333,
          813.6322222222223,
          809.767,
          790.39,
          774.9572727272728,
          780.194,
          801.6633333333333,
          773.2066666666666,
          809.7278571428571,
          775.345,
          782.895,
          821.33,
          787.4300000000001,
          782.8249999999999,
          761.79,
          749.4037500000001,
          808.8225,
          797.09375,
          781.19125,
          768.3907692307693,
          795.2714285714285,
          792.8877777777777,
          782.28,
          828.2900000000001,
          792.0975,
          810.5407692307692,
          823.0325,
          817.8766666666667,
          789.68125,
          823.18,
          795.6715384615384,
          791.5828571428572,
          778.0753846153846,
          843.01375,
          819.6415384615385,
          782.7845454545454,
          760.458,
          749.196,
          853.475,
          788.19125,
          856.85,
          811.545,
          765.7185714285714,
          841.5154545454545,
          809.089375,
          835.1544444444445,
          768.0245454545455,
          777.08,
          792.22,
          752.0699999999999,
          796.5809999999999,
          769.4316666666667,
          761.175,
          790.85625,
          793.1,
          794.2650000000001,
          794.8042857142857,
          916.5880000000001,
          779.184,
          805.3654545454546,
          809.5563636363637,
          825.6442857142857,
          852.7593333333334,
          819.0683333333333,
          763.5428571428572,
          804.2442105263158,
          803.4050000000001,
          804.1733333333333,
          794.16,
          753.3140000000001,
          756.0699999999999,
          842.2307692307693,
          776.0557142857142,
          777.3585714285715,
          832.97375,
          766.38,
          null
         ],
         "yaxis": "y9"
        },
        {
         "hovertemplate": "is_fraud=1<br>category=misc_pos<br>transaction_time=%{x}<br>amount(usd)=%{y}<extra></extra>",
         "legendgroup": "1",
         "marker": {
          "color": "#D93C1D",
          "symbol": "circle"
         },
         "mode": "markers",
         "name": "1",
         "showlegend": false,
         "type": "scattergl",
         "x": [
          "2019-01-06T00:00:00",
          "2019-01-13T00:00:00",
          "2019-01-20T00:00:00",
          "2019-01-27T00:00:00",
          "2019-02-03T00:00:00",
          "2019-02-10T00:00:00",
          "2019-02-17T00:00:00",
          "2019-02-24T00:00:00",
          "2019-03-03T00:00:00",
          "2019-03-10T00:00:00",
          "2019-03-17T00:00:00",
          "2019-03-24T00:00:00",
          "2019-03-31T00:00:00",
          "2019-04-07T00:00:00",
          "2019-04-14T00:00:00",
          "2019-04-21T00:00:00",
          "2019-04-28T00:00:00",
          "2019-05-05T00:00:00",
          "2019-05-12T00:00:00",
          "2019-05-19T00:00:00",
          "2019-05-26T00:00:00",
          "2019-06-02T00:00:00",
          "2019-06-09T00:00:00",
          "2019-06-16T00:00:00",
          "2019-06-23T00:00:00",
          "2019-06-30T00:00:00",
          "2019-07-07T00:00:00",
          "2019-07-14T00:00:00",
          "2019-07-21T00:00:00",
          "2019-07-28T00:00:00",
          "2019-08-04T00:00:00",
          "2019-08-11T00:00:00",
          "2019-08-18T00:00:00",
          "2019-08-25T00:00:00",
          "2019-09-01T00:00:00",
          "2019-09-08T00:00:00",
          "2019-09-15T00:00:00",
          "2019-09-22T00:00:00",
          "2019-09-29T00:00:00",
          "2019-10-06T00:00:00",
          "2019-10-13T00:00:00",
          "2019-10-20T00:00:00",
          "2019-10-27T00:00:00",
          "2019-11-03T00:00:00",
          "2019-11-10T00:00:00",
          "2019-11-17T00:00:00",
          "2019-11-24T00:00:00",
          "2019-12-01T00:00:00",
          "2019-12-08T00:00:00",
          "2019-12-15T00:00:00",
          "2019-12-22T00:00:00",
          "2019-12-29T00:00:00",
          "2020-01-05T00:00:00",
          "2020-01-12T00:00:00",
          "2020-01-19T00:00:00",
          "2020-01-26T00:00:00",
          "2020-02-02T00:00:00",
          "2020-02-09T00:00:00",
          "2020-02-16T00:00:00",
          "2020-02-23T00:00:00",
          "2020-03-01T00:00:00",
          "2020-03-08T00:00:00",
          "2020-03-15T00:00:00",
          "2020-03-22T00:00:00",
          "2020-03-29T00:00:00",
          "2020-04-05T00:00:00",
          "2020-04-12T00:00:00",
          "2020-04-19T00:00:00",
          "2020-04-26T00:00:00",
          "2020-05-03T00:00:00",
          "2020-05-10T00:00:00",
          "2020-05-17T00:00:00",
          "2020-05-24T00:00:00",
          "2020-05-31T00:00:00",
          "2020-06-07T00:00:00",
          "2020-06-14T00:00:00",
          "2020-06-21T00:00:00",
          "2020-06-28T00:00:00",
          "2020-07-05T00:00:00",
          "2020-07-12T00:00:00",
          "2020-07-19T00:00:00",
          "2020-07-26T00:00:00",
          "2020-08-02T00:00:00",
          "2020-08-09T00:00:00",
          "2020-08-16T00:00:00",
          "2020-08-23T00:00:00",
          "2020-08-30T00:00:00",
          "2020-09-06T00:00:00",
          "2020-09-13T00:00:00",
          "2020-09-20T00:00:00",
          "2020-09-27T00:00:00",
          "2020-10-04T00:00:00",
          "2020-10-11T00:00:00",
          "2020-10-18T00:00:00",
          "2020-10-25T00:00:00",
          "2020-11-01T00:00:00",
          "2020-11-08T00:00:00",
          "2020-11-15T00:00:00",
          "2020-11-22T00:00:00",
          "2020-11-29T00:00:00",
          "2020-12-06T00:00:00",
          "2020-12-13T00:00:00",
          "2020-12-20T00:00:00",
          "2020-12-27T00:00:00",
          "2021-01-03T00:00:00"
         ],
         "xaxis": "x4",
         "y": [
          49.61,
          747.655,
          18.4375,
          311.68,
          463.06428571428575,
          7.72,
          29.822499999999998,
          7.826666666666667,
          7.875,
          221.525,
          29.1475,
          214.71500000000003,
          7.52,
          null,
          49.83,
          7.765000000000001,
          8.57,
          50.21,
          304.06666666666666,
          464.945,
          14.207142857142857,
          null,
          851.05,
          256.835,
          601.926,
          179.798,
          null,
          null,
          null,
          18.61,
          null,
          7.04,
          7.64,
          7.21,
          7.6933333333333325,
          8.78,
          104.44333333333333,
          28.35,
          219.3025,
          51.13,
          8.206666666666667,
          22.41333333333333,
          9.12,
          8.05,
          null,
          50.35,
          8.75,
          297.092,
          921.7349999999999,
          7.196666666666666,
          444.92,
          525.6133333333333,
          51.41,
          null,
          485.29200000000003,
          50.68,
          7.25,
          7.73,
          null,
          338.58,
          428.675,
          404.84499999999997,
          8.925,
          227.4418181818182,
          null,
          8.91,
          9.235,
          829.475,
          null,
          393.22499999999997,
          7.755,
          337.06,
          263.51666666666665,
          50.57,
          50.53,
          507.71999999999997,
          406.25333333333333,
          49.18,
          19.1375,
          22.373333333333335,
          null,
          283.28000000000003,
          null,
          255.01999999999998,
          812.95,
          472.1333333333334,
          714.87,
          null,
          48.95,
          null,
          16.392000000000003,
          25.080000000000002,
          18.96,
          288.43333333333334,
          8.45,
          8.053333333333333,
          22.723333333333333,
          52.18,
          null,
          9.43,
          461.03,
          490.5933333333333,
          null,
          null,
          null
         ],
         "yaxis": "y4"
        },
        {
         "hovertemplate": "is_fraud=1<br>category=personal_care<br>transaction_time=%{x}<br>amount(usd)=%{y}<extra></extra>",
         "legendgroup": "1",
         "marker": {
          "color": "#D93C1D",
          "symbol": "circle"
         },
         "mode": "markers",
         "name": "1",
         "showlegend": false,
         "type": "scattergl",
         "x": [
          "2019-01-06T00:00:00",
          "2019-01-13T00:00:00",
          "2019-01-20T00:00:00",
          "2019-01-27T00:00:00",
          "2019-02-03T00:00:00",
          "2019-02-10T00:00:00",
          "2019-02-17T00:00:00",
          "2019-02-24T00:00:00",
          "2019-03-03T00:00:00",
          "2019-03-10T00:00:00",
          "2019-03-17T00:00:00",
          "2019-03-24T00:00:00",
          "2019-03-31T00:00:00",
          "2019-04-07T00:00:00",
          "2019-04-14T00:00:00",
          "2019-04-21T00:00:00",
          "2019-04-28T00:00:00",
          "2019-05-05T00:00:00",
          "2019-05-12T00:00:00",
          "2019-05-19T00:00:00",
          "2019-05-26T00:00:00",
          "2019-06-02T00:00:00",
          "2019-06-09T00:00:00",
          "2019-06-16T00:00:00",
          "2019-06-23T00:00:00",
          "2019-06-30T00:00:00",
          "2019-07-07T00:00:00",
          "2019-07-14T00:00:00",
          "2019-07-21T00:00:00",
          "2019-07-28T00:00:00",
          "2019-08-04T00:00:00",
          "2019-08-11T00:00:00",
          "2019-08-18T00:00:00",
          "2019-08-25T00:00:00",
          "2019-09-01T00:00:00",
          "2019-09-08T00:00:00",
          "2019-09-15T00:00:00",
          "2019-09-22T00:00:00",
          "2019-09-29T00:00:00",
          "2019-10-06T00:00:00",
          "2019-10-13T00:00:00",
          "2019-10-20T00:00:00",
          "2019-10-27T00:00:00",
          "2019-11-03T00:00:00",
          "2019-11-10T00:00:00",
          "2019-11-17T00:00:00",
          "2019-11-24T00:00:00",
          "2019-12-01T00:00:00",
          "2019-12-08T00:00:00",
          "2019-12-15T00:00:00",
          "2019-12-22T00:00:00",
          "2019-12-29T00:00:00",
          "2020-01-05T00:00:00",
          "2020-01-12T00:00:00",
          "2020-01-19T00:00:00",
          "2020-01-26T00:00:00",
          "2020-02-02T00:00:00",
          "2020-02-09T00:00:00",
          "2020-02-16T00:00:00",
          "2020-02-23T00:00:00",
          "2020-03-01T00:00:00",
          "2020-03-08T00:00:00",
          "2020-03-15T00:00:00",
          "2020-03-22T00:00:00",
          "2020-03-29T00:00:00",
          "2020-04-05T00:00:00",
          "2020-04-12T00:00:00",
          "2020-04-19T00:00:00",
          "2020-04-26T00:00:00",
          "2020-05-03T00:00:00",
          "2020-05-10T00:00:00",
          "2020-05-17T00:00:00",
          "2020-05-24T00:00:00",
          "2020-05-31T00:00:00",
          "2020-06-07T00:00:00",
          "2020-06-14T00:00:00",
          "2020-06-21T00:00:00",
          "2020-06-28T00:00:00",
          "2020-07-05T00:00:00",
          "2020-07-12T00:00:00",
          "2020-07-19T00:00:00",
          "2020-07-26T00:00:00",
          "2020-08-02T00:00:00",
          "2020-08-09T00:00:00",
          "2020-08-16T00:00:00",
          "2020-08-23T00:00:00",
          "2020-08-30T00:00:00",
          "2020-09-06T00:00:00",
          "2020-09-13T00:00:00",
          "2020-09-20T00:00:00",
          "2020-09-27T00:00:00",
          "2020-10-04T00:00:00",
          "2020-10-11T00:00:00",
          "2020-10-18T00:00:00",
          "2020-10-25T00:00:00",
          "2020-11-01T00:00:00",
          "2020-11-08T00:00:00",
          "2020-11-15T00:00:00",
          "2020-11-22T00:00:00",
          "2020-11-29T00:00:00",
          "2020-12-06T00:00:00",
          "2020-12-13T00:00:00",
          "2020-12-20T00:00:00",
          "2020-12-27T00:00:00",
          "2021-01-03T00:00:00"
         ],
         "xaxis": "x5",
         "y": [
          null,
          null,
          27.612000000000002,
          34.089999999999996,
          20.139999999999997,
          45.24,
          20.615000000000002,
          18.523333333333337,
          26.55,
          18.123333333333335,
          42.7175,
          20.84,
          21.96,
          35.739999999999995,
          null,
          19.41,
          null,
          21.99,
          21.88,
          null,
          21.14166666666667,
          19.79,
          35.995,
          53.19,
          27.118571428571425,
          50.8,
          20.439999999999998,
          null,
          17.95,
          49.8,
          22.24,
          19.02,
          17.005,
          19.055,
          18.965,
          17.49,
          18.38,
          null,
          37.08,
          35.225,
          25.986,
          null,
          20.01,
          39.25,
          23.09,
          null,
          null,
          29.76,
          27.5075,
          19.765,
          25.4725,
          21.475,
          25.880000000000003,
          19.54,
          21.21,
          20.816666666666666,
          18.17,
          47.23,
          50.43,
          49.04,
          null,
          20.57,
          22.76,
          19.564285714285713,
          null,
          48.8,
          19.94,
          20.400000000000002,
          20.04,
          28.49,
          50.080000000000005,
          22.323333333333334,
          33.69,
          47.97,
          null,
          20.674999999999997,
          24.1,
          46.36,
          20.576666666666668,
          17.77,
          22.85,
          20.335,
          null,
          27.172000000000004,
          20.180000000000003,
          49.25,
          20.5075,
          18.273333333333333,
          null,
          null,
          20.572,
          20.355,
          19.205,
          52.83,
          20.94,
          21.630000000000003,
          34.625,
          null,
          null,
          null,
          30.826666666666668,
          20.955,
          21.595,
          null,
          null
         ],
         "yaxis": "y5"
        },
        {
         "hovertemplate": "is_fraud=1<br>category=shopping_net<br>transaction_time=%{x}<br>amount(usd)=%{y}<extra></extra>",
         "legendgroup": "1",
         "marker": {
          "color": "#D93C1D",
          "symbol": "circle"
         },
         "mode": "markers",
         "name": "1",
         "showlegend": false,
         "type": "scattergl",
         "x": [
          "2019-01-06T00:00:00",
          "2019-01-13T00:00:00",
          "2019-01-20T00:00:00",
          "2019-01-27T00:00:00",
          "2019-02-03T00:00:00",
          "2019-02-10T00:00:00",
          "2019-02-17T00:00:00",
          "2019-02-24T00:00:00",
          "2019-03-03T00:00:00",
          "2019-03-10T00:00:00",
          "2019-03-17T00:00:00",
          "2019-03-24T00:00:00",
          "2019-03-31T00:00:00",
          "2019-04-07T00:00:00",
          "2019-04-14T00:00:00",
          "2019-04-21T00:00:00",
          "2019-04-28T00:00:00",
          "2019-05-05T00:00:00",
          "2019-05-12T00:00:00",
          "2019-05-19T00:00:00",
          "2019-05-26T00:00:00",
          "2019-06-02T00:00:00",
          "2019-06-09T00:00:00",
          "2019-06-16T00:00:00",
          "2019-06-23T00:00:00",
          "2019-06-30T00:00:00",
          "2019-07-07T00:00:00",
          "2019-07-14T00:00:00",
          "2019-07-21T00:00:00",
          "2019-07-28T00:00:00",
          "2019-08-04T00:00:00",
          "2019-08-11T00:00:00",
          "2019-08-18T00:00:00",
          "2019-08-25T00:00:00",
          "2019-09-01T00:00:00",
          "2019-09-08T00:00:00",
          "2019-09-15T00:00:00",
          "2019-09-22T00:00:00",
          "2019-09-29T00:00:00",
          "2019-10-06T00:00:00",
          "2019-10-13T00:00:00",
          "2019-10-20T00:00:00",
          "2019-10-27T00:00:00",
          "2019-11-03T00:00:00",
          "2019-11-10T00:00:00",
          "2019-11-17T00:00:00",
          "2019-11-24T00:00:00",
          "2019-12-01T00:00:00",
          "2019-12-08T00:00:00",
          "2019-12-15T00:00:00",
          "2019-12-22T00:00:00",
          "2019-12-29T00:00:00",
          "2020-01-05T00:00:00",
          "2020-01-12T00:00:00",
          "2020-01-19T00:00:00",
          "2020-01-26T00:00:00",
          "2020-02-02T00:00:00",
          "2020-02-09T00:00:00",
          "2020-02-16T00:00:00",
          "2020-02-23T00:00:00",
          "2020-03-01T00:00:00",
          "2020-03-08T00:00:00",
          "2020-03-15T00:00:00",
          "2020-03-22T00:00:00",
          "2020-03-29T00:00:00",
          "2020-04-05T00:00:00",
          "2020-04-12T00:00:00",
          "2020-04-19T00:00:00",
          "2020-04-26T00:00:00",
          "2020-05-03T00:00:00",
          "2020-05-10T00:00:00",
          "2020-05-17T00:00:00",
          "2020-05-24T00:00:00",
          "2020-05-31T00:00:00",
          "2020-06-07T00:00:00",
          "2020-06-14T00:00:00",
          "2020-06-21T00:00:00",
          "2020-06-28T00:00:00",
          "2020-07-05T00:00:00",
          "2020-07-12T00:00:00",
          "2020-07-19T00:00:00",
          "2020-07-26T00:00:00",
          "2020-08-02T00:00:00",
          "2020-08-09T00:00:00",
          "2020-08-16T00:00:00",
          "2020-08-23T00:00:00",
          "2020-08-30T00:00:00",
          "2020-09-06T00:00:00",
          "2020-09-13T00:00:00",
          "2020-09-20T00:00:00",
          "2020-09-27T00:00:00",
          "2020-10-04T00:00:00",
          "2020-10-11T00:00:00",
          "2020-10-18T00:00:00",
          "2020-10-25T00:00:00",
          "2020-11-01T00:00:00",
          "2020-11-08T00:00:00",
          "2020-11-15T00:00:00",
          "2020-11-22T00:00:00",
          "2020-11-29T00:00:00",
          "2020-12-06T00:00:00",
          "2020-12-13T00:00:00",
          "2020-12-20T00:00:00",
          "2020-12-27T00:00:00",
          "2021-01-03T00:00:00"
         ],
         "xaxis": "x6",
         "y": [
          1009.7863636363636,
          1001.0795833333333,
          1018.1438709677419,
          1056.1435714285715,
          1009.9625,
          1010.9865,
          1000.6992307692308,
          1000.7742857142857,
          981.0831818181819,
          1014.5414285714286,
          992.7537142857142,
          1043.6307692307694,
          995.0133333333332,
          968.2593333333333,
          993.4922222222223,
          998.3204545454545,
          997.2731249999999,
          999.9380952380952,
          996.0755555555556,
          1012.8224,
          986.1426666666667,
          1036.2016666666666,
          976.155,
          986.0245000000001,
          1009.7214285714286,
          973.3576923076923,
          989.6719999999999,
          992.6395,
          963.425,
          996.2434782608696,
          1018.9423076923077,
          992.7338461538462,
          990.5526315789474,
          1048.36125,
          979.59875,
          1012.333,
          977.4659090909091,
          1010.8783333333334,
          992.82,
          996.7086666666667,
          985.4508333333333,
          1022.4994117647058,
          1016.0107142857142,
          1016.3361111111111,
          1025.190769230769,
          970.1408333333334,
          962.7313333333333,
          982.0692307692308,
          991.1830769230769,
          1009.7630434782608,
          1028.455806451613,
          1007.5096428571429,
          1002.8931578947369,
          1015.3711764705884,
          973.51875,
          929.0309090909091,
          989.2935,
          959.9862499999999,
          939.3038461538462,
          1014.7128571428572,
          1046.2566666666667,
          978.11,
          1034.9927272727273,
          991.27,
          972.0250000000001,
          978.59625,
          1027.2954545454545,
          971.9933333333333,
          1007.766,
          980.9,
          1028.2344,
          1029.2058823529412,
          964.20375,
          973.7155555555556,
          1001.9809523809523,
          987.8454545454545,
          1001.168,
          1034.395,
          1019.7907692307692,
          1002.1857894736842,
          989.07125,
          1002.7523076923078,
          1018.4433333333333,
          986.875,
          994.8733333333333,
          976.8716666666668,
          997.233076923077,
          1025.2745,
          985.3347368421053,
          964.9293333333334,
          1037.372,
          992.1304166666667,
          1002.6809999999999,
          961.9449999999999,
          978.5088888888889,
          974.2399999999999,
          988.14625,
          1018.39375,
          983.3738461538462,
          971.539,
          989.6546153846155,
          980.7147368421051,
          946.9033333333334,
          969.3824999999999,
          null
         ],
         "yaxis": "y6"
        },
        {
         "hovertemplate": "is_fraud=1<br>category=shopping_pos<br>transaction_time=%{x}<br>amount(usd)=%{y}<extra></extra>",
         "legendgroup": "1",
         "marker": {
          "color": "#D93C1D",
          "symbol": "circle"
         },
         "mode": "markers",
         "name": "1",
         "showlegend": false,
         "type": "scattergl",
         "x": [
          "2019-01-06T00:00:00",
          "2019-01-13T00:00:00",
          "2019-01-20T00:00:00",
          "2019-01-27T00:00:00",
          "2019-02-03T00:00:00",
          "2019-02-10T00:00:00",
          "2019-02-17T00:00:00",
          "2019-02-24T00:00:00",
          "2019-03-03T00:00:00",
          "2019-03-10T00:00:00",
          "2019-03-17T00:00:00",
          "2019-03-24T00:00:00",
          "2019-03-31T00:00:00",
          "2019-04-07T00:00:00",
          "2019-04-14T00:00:00",
          "2019-04-21T00:00:00",
          "2019-04-28T00:00:00",
          "2019-05-05T00:00:00",
          "2019-05-12T00:00:00",
          "2019-05-19T00:00:00",
          "2019-05-26T00:00:00",
          "2019-06-02T00:00:00",
          "2019-06-09T00:00:00",
          "2019-06-16T00:00:00",
          "2019-06-23T00:00:00",
          "2019-06-30T00:00:00",
          "2019-07-07T00:00:00",
          "2019-07-14T00:00:00",
          "2019-07-21T00:00:00",
          "2019-07-28T00:00:00",
          "2019-08-04T00:00:00",
          "2019-08-11T00:00:00",
          "2019-08-18T00:00:00",
          "2019-08-25T00:00:00",
          "2019-09-01T00:00:00",
          "2019-09-08T00:00:00",
          "2019-09-15T00:00:00",
          "2019-09-22T00:00:00",
          "2019-09-29T00:00:00",
          "2019-10-06T00:00:00",
          "2019-10-13T00:00:00",
          "2019-10-20T00:00:00",
          "2019-10-27T00:00:00",
          "2019-11-03T00:00:00",
          "2019-11-10T00:00:00",
          "2019-11-17T00:00:00",
          "2019-11-24T00:00:00",
          "2019-12-01T00:00:00",
          "2019-12-08T00:00:00",
          "2019-12-15T00:00:00",
          "2019-12-22T00:00:00",
          "2019-12-29T00:00:00",
          "2020-01-05T00:00:00",
          "2020-01-12T00:00:00",
          "2020-01-19T00:00:00",
          "2020-01-26T00:00:00",
          "2020-02-02T00:00:00",
          "2020-02-09T00:00:00",
          "2020-02-16T00:00:00",
          "2020-02-23T00:00:00",
          "2020-03-01T00:00:00",
          "2020-03-08T00:00:00",
          "2020-03-15T00:00:00",
          "2020-03-22T00:00:00",
          "2020-03-29T00:00:00",
          "2020-04-05T00:00:00",
          "2020-04-12T00:00:00",
          "2020-04-19T00:00:00",
          "2020-04-26T00:00:00",
          "2020-05-03T00:00:00",
          "2020-05-10T00:00:00",
          "2020-05-17T00:00:00",
          "2020-05-24T00:00:00",
          "2020-05-31T00:00:00",
          "2020-06-07T00:00:00",
          "2020-06-14T00:00:00",
          "2020-06-21T00:00:00",
          "2020-06-28T00:00:00",
          "2020-07-05T00:00:00",
          "2020-07-12T00:00:00",
          "2020-07-19T00:00:00",
          "2020-07-26T00:00:00",
          "2020-08-02T00:00:00",
          "2020-08-09T00:00:00",
          "2020-08-16T00:00:00",
          "2020-08-23T00:00:00",
          "2020-08-30T00:00:00",
          "2020-09-06T00:00:00",
          "2020-09-13T00:00:00",
          "2020-09-20T00:00:00",
          "2020-09-27T00:00:00",
          "2020-10-04T00:00:00",
          "2020-10-11T00:00:00",
          "2020-10-18T00:00:00",
          "2020-10-25T00:00:00",
          "2020-11-01T00:00:00",
          "2020-11-08T00:00:00",
          "2020-11-15T00:00:00",
          "2020-11-22T00:00:00",
          "2020-11-29T00:00:00",
          "2020-12-06T00:00:00",
          "2020-12-13T00:00:00",
          "2020-12-20T00:00:00",
          "2020-12-27T00:00:00",
          "2021-01-03T00:00:00"
         ],
         "xaxis": "x",
         "y": [
          771.61,
          876.6333333333333,
          906.8683333333333,
          838.283,
          929.7073333333334,
          886.4091666666667,
          897.626,
          847.9155555555556,
          905.7099999999999,
          920.0723076923077,
          888.1836363636364,
          916.4744444444445,
          858.0725,
          885.29,
          853.1139999999999,
          843.3774999999999,
          871.7520000000001,
          957.9616666666667,
          759.2059999999999,
          886.2130000000001,
          951.9116666666667,
          1014.095,
          943.7666666666668,
          936.1125,
          838.4761538461539,
          867.27,
          803.3266666666667,
          935.909375,
          967.75,
          838.4890909090908,
          888.7575,
          930.7183333333334,
          849.5433333333334,
          914.3633333333333,
          846.8983333333334,
          960.9124999999999,
          936.4499999999999,
          884.85,
          818.8175,
          900.1266666666667,
          844.445,
          887.72,
          831.665,
          856.0684615384615,
          804.2249999999999,
          890.4033333333333,
          871.368,
          821.02,
          838.9684615384615,
          946.3275,
          898.48875,
          864.5376470588235,
          849.9066666666668,
          957.5644444444445,
          815.2800000000001,
          795.6814285714287,
          882.95,
          933.77125,
          873.5199999999999,
          824.08875,
          847.2775,
          824.7639999999999,
          853.3808333333333,
          834.9878571428571,
          897.9733333333334,
          951.52625,
          865.958,
          830.7216666666667,
          861.78,
          849.0664285714286,
          870.3083333333333,
          904.876,
          914.2818181818183,
          842.0675,
          906.6308333333333,
          956.54375,
          800.2925,
          877.7279999999998,
          828.62125,
          914.1666666666666,
          833.734,
          808.4716666666667,
          924.8871428571429,
          992.54125,
          897.8383333333333,
          879.076,
          893.639090909091,
          909.952,
          794.39,
          872.54,
          931.0228571428571,
          993.0880000000001,
          777.37,
          927.4366666666667,
          1071.8799999999999,
          838.8399999999999,
          798.6075000000001,
          776.1424999999999,
          768.6700000000001,
          911.7916666666666,
          960.2460000000001,
          851.2361538461538,
          873.1128571428571,
          868.09,
          null
         ],
         "yaxis": "y"
        },
        {
         "hovertemplate": "is_fraud=1<br>category=travel<br>transaction_time=%{x}<br>amount(usd)=%{y}<extra></extra>",
         "legendgroup": "1",
         "marker": {
          "color": "#D93C1D",
          "symbol": "circle"
         },
         "mode": "markers",
         "name": "1",
         "showlegend": false,
         "type": "scattergl",
         "x": [
          "2019-01-06T00:00:00",
          "2019-01-13T00:00:00",
          "2019-01-20T00:00:00",
          "2019-01-27T00:00:00",
          "2019-02-03T00:00:00",
          "2019-02-10T00:00:00",
          "2019-02-17T00:00:00",
          "2019-02-24T00:00:00",
          "2019-03-03T00:00:00",
          "2019-03-10T00:00:00",
          "2019-03-17T00:00:00",
          "2019-03-24T00:00:00",
          "2019-03-31T00:00:00",
          "2019-04-07T00:00:00",
          "2019-04-14T00:00:00",
          "2019-04-21T00:00:00",
          "2019-04-28T00:00:00",
          "2019-05-05T00:00:00",
          "2019-05-12T00:00:00",
          "2019-05-19T00:00:00",
          "2019-05-26T00:00:00",
          "2019-06-02T00:00:00",
          "2019-06-09T00:00:00",
          "2019-06-16T00:00:00",
          "2019-06-23T00:00:00",
          "2019-06-30T00:00:00",
          "2019-07-07T00:00:00",
          "2019-07-14T00:00:00",
          "2019-07-21T00:00:00",
          "2019-07-28T00:00:00",
          "2019-08-04T00:00:00",
          "2019-08-11T00:00:00",
          "2019-08-18T00:00:00",
          "2019-08-25T00:00:00",
          "2019-09-01T00:00:00",
          "2019-09-08T00:00:00",
          "2019-09-15T00:00:00",
          "2019-09-22T00:00:00",
          "2019-09-29T00:00:00",
          "2019-10-06T00:00:00",
          "2019-10-13T00:00:00",
          "2019-10-20T00:00:00",
          "2019-10-27T00:00:00",
          "2019-11-03T00:00:00",
          "2019-11-10T00:00:00",
          "2019-11-17T00:00:00",
          "2019-11-24T00:00:00",
          "2019-12-01T00:00:00",
          "2019-12-08T00:00:00",
          "2019-12-15T00:00:00",
          "2019-12-22T00:00:00",
          "2019-12-29T00:00:00",
          "2020-01-05T00:00:00",
          "2020-01-12T00:00:00",
          "2020-01-19T00:00:00",
          "2020-01-26T00:00:00",
          "2020-02-02T00:00:00",
          "2020-02-09T00:00:00",
          "2020-02-16T00:00:00",
          "2020-02-23T00:00:00",
          "2020-03-01T00:00:00",
          "2020-03-08T00:00:00",
          "2020-03-15T00:00:00",
          "2020-03-22T00:00:00",
          "2020-03-29T00:00:00",
          "2020-04-05T00:00:00",
          "2020-04-12T00:00:00",
          "2020-04-19T00:00:00",
          "2020-04-26T00:00:00",
          "2020-05-03T00:00:00",
          "2020-05-10T00:00:00",
          "2020-05-17T00:00:00",
          "2020-05-24T00:00:00",
          "2020-05-31T00:00:00",
          "2020-06-07T00:00:00",
          "2020-06-14T00:00:00",
          "2020-06-21T00:00:00",
          "2020-06-28T00:00:00",
          "2020-07-05T00:00:00",
          "2020-07-12T00:00:00",
          "2020-07-19T00:00:00",
          "2020-07-26T00:00:00",
          "2020-08-02T00:00:00",
          "2020-08-09T00:00:00",
          "2020-08-16T00:00:00",
          "2020-08-23T00:00:00",
          "2020-08-30T00:00:00",
          "2020-09-06T00:00:00",
          "2020-09-13T00:00:00",
          "2020-09-20T00:00:00",
          "2020-09-27T00:00:00",
          "2020-10-04T00:00:00",
          "2020-10-11T00:00:00",
          "2020-10-18T00:00:00",
          "2020-10-25T00:00:00",
          "2020-11-01T00:00:00",
          "2020-11-08T00:00:00",
          "2020-11-15T00:00:00",
          "2020-11-22T00:00:00",
          "2020-11-29T00:00:00",
          "2020-12-06T00:00:00",
          "2020-12-13T00:00:00",
          "2020-12-20T00:00:00",
          "2020-12-27T00:00:00",
          "2021-01-03T00:00:00"
         ],
         "xaxis": "x2",
         "y": [
          4.5,
          10.219999999999999,
          9.83,
          10.68,
          9.22,
          9.9,
          10.99,
          null,
          9.84,
          9.11,
          7.335000000000001,
          9.833333333333334,
          7.55,
          null,
          null,
          null,
          10.92,
          4.955,
          1.91,
          10.51,
          9.52,
          null,
          10.13,
          null,
          10.065000000000001,
          null,
          null,
          9.79,
          11.62,
          6.47,
          6.41,
          null,
          11.433333333333332,
          10.879999999999999,
          10.09,
          null,
          8.77,
          6.176666666666667,
          10.23,
          null,
          null,
          10.92,
          5.1,
          10.29,
          null,
          11.91,
          null,
          11.58,
          9.42,
          10.875,
          8.73,
          null,
          null,
          9.76,
          10.16,
          8.93,
          11.129999999999999,
          7.82,
          3.1,
          null,
          8.58,
          10.62,
          11.56,
          6.05,
          11.01,
          null,
          10.76,
          5.87,
          9.82,
          9.09,
          10.64,
          10.96,
          null,
          9.23,
          null,
          10.263333333333334,
          null,
          4.64,
          10.333333333333334,
          8.155000000000001,
          9,
          9.09,
          5.26,
          10.535,
          9.469999999999999,
          10.23,
          9.89,
          10.344999999999999,
          7.74,
          1.99,
          11.76,
          7.736666666666667,
          1.78,
          9.04,
          null,
          null,
          7.15,
          8.81,
          9.515,
          null,
          null,
          8.42,
          null,
          null,
          null
         ],
         "yaxis": "y2"
        }
       ],
       "layout": {
        "annotations": [
         {
          "font": {},
          "showarrow": false,
          "text": "category=shopping_pos",
          "x": 0.15333333333333332,
          "xanchor": "center",
          "xref": "paper",
          "y": 0.144,
          "yanchor": "bottom",
          "yref": "paper"
         },
         {
          "font": {},
          "showarrow": false,
          "text": "category=travel",
          "x": 0.5,
          "xanchor": "center",
          "xref": "paper",
          "y": 0.144,
          "yanchor": "bottom",
          "yref": "paper"
         },
         {
          "font": {},
          "showarrow": false,
          "text": "category=misc_pos",
          "x": 0.15333333333333332,
          "xanchor": "center",
          "xref": "paper",
          "y": 0.358,
          "yanchor": "bottom",
          "yref": "paper"
         },
         {
          "font": {},
          "showarrow": false,
          "text": "category=personal_care",
          "x": 0.5,
          "xanchor": "center",
          "xref": "paper",
          "y": 0.358,
          "yanchor": "bottom",
          "yref": "paper"
         },
         {
          "font": {},
          "showarrow": false,
          "text": "category=shopping_net",
          "x": 0.8466666666666666,
          "xanchor": "center",
          "xref": "paper",
          "y": 0.358,
          "yanchor": "bottom",
          "yref": "paper"
         },
         {
          "font": {},
          "showarrow": false,
          "text": "category=home",
          "x": 0.15333333333333332,
          "xanchor": "center",
          "xref": "paper",
          "y": 0.572,
          "yanchor": "bottom",
          "yref": "paper"
         },
         {
          "font": {},
          "showarrow": false,
          "text": "category=kids_pets",
          "x": 0.5,
          "xanchor": "center",
          "xref": "paper",
          "y": 0.572,
          "yanchor": "bottom",
          "yref": "paper"
         },
         {
          "font": {},
          "showarrow": false,
          "text": "category=misc_net",
          "x": 0.8466666666666666,
          "xanchor": "center",
          "xref": "paper",
          "y": 0.572,
          "yanchor": "bottom",
          "yref": "paper"
         },
         {
          "font": {},
          "showarrow": false,
          "text": "category=grocery_net",
          "x": 0.15333333333333332,
          "xanchor": "center",
          "xref": "paper",
          "y": 0.7859999999999999,
          "yanchor": "bottom",
          "yref": "paper"
         },
         {
          "font": {},
          "showarrow": false,
          "text": "category=grocery_pos",
          "x": 0.5,
          "xanchor": "center",
          "xref": "paper",
          "y": 0.7859999999999999,
          "yanchor": "bottom",
          "yref": "paper"
         },
         {
          "font": {},
          "showarrow": false,
          "text": "category=health_fitness",
          "x": 0.8466666666666666,
          "xanchor": "center",
          "xref": "paper",
          "y": 0.7859999999999999,
          "yanchor": "bottom",
          "yref": "paper"
         },
         {
          "font": {},
          "showarrow": false,
          "text": "category=entertainment",
          "x": 0.15333333333333332,
          "xanchor": "center",
          "xref": "paper",
          "y": 1,
          "yanchor": "bottom",
          "yref": "paper"
         },
         {
          "font": {},
          "showarrow": false,
          "text": "category=food_dining",
          "x": 0.5,
          "xanchor": "center",
          "xref": "paper",
          "y": 1,
          "yanchor": "bottom",
          "yref": "paper"
         },
         {
          "font": {},
          "showarrow": false,
          "text": "category=gas_transport",
          "x": 0.8466666666666666,
          "xanchor": "center",
          "xref": "paper",
          "y": 1,
          "yanchor": "bottom",
          "yref": "paper"
         }
        ],
        "height": 1400,
        "legend": {
         "title": {
          "text": "Is fraud?"
         },
         "tracegroupgap": 0
        },
        "margin": {
         "t": 60
        },
        "plot_bgcolor": "#fafafa",
        "template": {
         "data": {
          "bar": [
           {
            "error_x": {
             "color": "#2a3f5f"
            },
            "error_y": {
             "color": "#2a3f5f"
            },
            "marker": {
             "line": {
              "color": "#E5ECF6",
              "width": 0.5
             },
             "pattern": {
              "fillmode": "overlay",
              "size": 10,
              "solidity": 0.2
             }
            },
            "type": "bar"
           }
          ],
          "barpolar": [
           {
            "marker": {
             "line": {
              "color": "#E5ECF6",
              "width": 0.5
             },
             "pattern": {
              "fillmode": "overlay",
              "size": 10,
              "solidity": 0.2
             }
            },
            "type": "barpolar"
           }
          ],
          "carpet": [
           {
            "aaxis": {
             "endlinecolor": "#2a3f5f",
             "gridcolor": "white",
             "linecolor": "white",
             "minorgridcolor": "white",
             "startlinecolor": "#2a3f5f"
            },
            "baxis": {
             "endlinecolor": "#2a3f5f",
             "gridcolor": "white",
             "linecolor": "white",
             "minorgridcolor": "white",
             "startlinecolor": "#2a3f5f"
            },
            "type": "carpet"
           }
          ],
          "choropleth": [
           {
            "colorbar": {
             "outlinewidth": 0,
             "ticks": ""
            },
            "type": "choropleth"
           }
          ],
          "contour": [
           {
            "colorbar": {
             "outlinewidth": 0,
             "ticks": ""
            },
            "colorscale": [
             [
              0,
              "#0d0887"
             ],
             [
              0.1111111111111111,
              "#46039f"
             ],
             [
              0.2222222222222222,
              "#7201a8"
             ],
             [
              0.3333333333333333,
              "#9c179e"
             ],
             [
              0.4444444444444444,
              "#bd3786"
             ],
             [
              0.5555555555555556,
              "#d8576b"
             ],
             [
              0.6666666666666666,
              "#ed7953"
             ],
             [
              0.7777777777777778,
              "#fb9f3a"
             ],
             [
              0.8888888888888888,
              "#fdca26"
             ],
             [
              1,
              "#f0f921"
             ]
            ],
            "type": "contour"
           }
          ],
          "contourcarpet": [
           {
            "colorbar": {
             "outlinewidth": 0,
             "ticks": ""
            },
            "type": "contourcarpet"
           }
          ],
          "heatmap": [
           {
            "colorbar": {
             "outlinewidth": 0,
             "ticks": ""
            },
            "colorscale": [
             [
              0,
              "#0d0887"
             ],
             [
              0.1111111111111111,
              "#46039f"
             ],
             [
              0.2222222222222222,
              "#7201a8"
             ],
             [
              0.3333333333333333,
              "#9c179e"
             ],
             [
              0.4444444444444444,
              "#bd3786"
             ],
             [
              0.5555555555555556,
              "#d8576b"
             ],
             [
              0.6666666666666666,
              "#ed7953"
             ],
             [
              0.7777777777777778,
              "#fb9f3a"
             ],
             [
              0.8888888888888888,
              "#fdca26"
             ],
             [
              1,
              "#f0f921"
             ]
            ],
            "type": "heatmap"
           }
          ],
          "heatmapgl": [
           {
            "colorbar": {
             "outlinewidth": 0,
             "ticks": ""
            },
            "colorscale": [
             [
              0,
              "#0d0887"
             ],
             [
              0.1111111111111111,
              "#46039f"
             ],
             [
              0.2222222222222222,
              "#7201a8"
             ],
             [
              0.3333333333333333,
              "#9c179e"
             ],
             [
              0.4444444444444444,
              "#bd3786"
             ],
             [
              0.5555555555555556,
              "#d8576b"
             ],
             [
              0.6666666666666666,
              "#ed7953"
             ],
             [
              0.7777777777777778,
              "#fb9f3a"
             ],
             [
              0.8888888888888888,
              "#fdca26"
             ],
             [
              1,
              "#f0f921"
             ]
            ],
            "type": "heatmapgl"
           }
          ],
          "histogram": [
           {
            "marker": {
             "pattern": {
              "fillmode": "overlay",
              "size": 10,
              "solidity": 0.2
             }
            },
            "type": "histogram"
           }
          ],
          "histogram2d": [
           {
            "colorbar": {
             "outlinewidth": 0,
             "ticks": ""
            },
            "colorscale": [
             [
              0,
              "#0d0887"
             ],
             [
              0.1111111111111111,
              "#46039f"
             ],
             [
              0.2222222222222222,
              "#7201a8"
             ],
             [
              0.3333333333333333,
              "#9c179e"
             ],
             [
              0.4444444444444444,
              "#bd3786"
             ],
             [
              0.5555555555555556,
              "#d8576b"
             ],
             [
              0.6666666666666666,
              "#ed7953"
             ],
             [
              0.7777777777777778,
              "#fb9f3a"
             ],
             [
              0.8888888888888888,
              "#fdca26"
             ],
             [
              1,
              "#f0f921"
             ]
            ],
            "type": "histogram2d"
           }
          ],
          "histogram2dcontour": [
           {
            "colorbar": {
             "outlinewidth": 0,
             "ticks": ""
            },
            "colorscale": [
             [
              0,
              "#0d0887"
             ],
             [
              0.1111111111111111,
              "#46039f"
             ],
             [
              0.2222222222222222,
              "#7201a8"
             ],
             [
              0.3333333333333333,
              "#9c179e"
             ],
             [
              0.4444444444444444,
              "#bd3786"
             ],
             [
              0.5555555555555556,
              "#d8576b"
             ],
             [
              0.6666666666666666,
              "#ed7953"
             ],
             [
              0.7777777777777778,
              "#fb9f3a"
             ],
             [
              0.8888888888888888,
              "#fdca26"
             ],
             [
              1,
              "#f0f921"
             ]
            ],
            "type": "histogram2dcontour"
           }
          ],
          "mesh3d": [
           {
            "colorbar": {
             "outlinewidth": 0,
             "ticks": ""
            },
            "type": "mesh3d"
           }
          ],
          "parcoords": [
           {
            "line": {
             "colorbar": {
              "outlinewidth": 0,
              "ticks": ""
             }
            },
            "type": "parcoords"
           }
          ],
          "pie": [
           {
            "automargin": true,
            "type": "pie"
           }
          ],
          "scatter": [
           {
            "fillpattern": {
             "fillmode": "overlay",
             "size": 10,
             "solidity": 0.2
            },
            "type": "scatter"
           }
          ],
          "scatter3d": [
           {
            "line": {
             "colorbar": {
              "outlinewidth": 0,
              "ticks": ""
             }
            },
            "marker": {
             "colorbar": {
              "outlinewidth": 0,
              "ticks": ""
             }
            },
            "type": "scatter3d"
           }
          ],
          "scattercarpet": [
           {
            "marker": {
             "colorbar": {
              "outlinewidth": 0,
              "ticks": ""
             }
            },
            "type": "scattercarpet"
           }
          ],
          "scattergeo": [
           {
            "marker": {
             "colorbar": {
              "outlinewidth": 0,
              "ticks": ""
             }
            },
            "type": "scattergeo"
           }
          ],
          "scattergl": [
           {
            "marker": {
             "colorbar": {
              "outlinewidth": 0,
              "ticks": ""
             }
            },
            "type": "scattergl"
           }
          ],
          "scattermapbox": [
           {
            "marker": {
             "colorbar": {
              "outlinewidth": 0,
              "ticks": ""
             }
            },
            "type": "scattermapbox"
           }
          ],
          "scatterpolar": [
           {
            "marker": {
             "colorbar": {
              "outlinewidth": 0,
              "ticks": ""
             }
            },
            "type": "scatterpolar"
           }
          ],
          "scatterpolargl": [
           {
            "marker": {
             "colorbar": {
              "outlinewidth": 0,
              "ticks": ""
             }
            },
            "type": "scatterpolargl"
           }
          ],
          "scatterternary": [
           {
            "marker": {
             "colorbar": {
              "outlinewidth": 0,
              "ticks": ""
             }
            },
            "type": "scatterternary"
           }
          ],
          "surface": [
           {
            "colorbar": {
             "outlinewidth": 0,
             "ticks": ""
            },
            "colorscale": [
             [
              0,
              "#0d0887"
             ],
             [
              0.1111111111111111,
              "#46039f"
             ],
             [
              0.2222222222222222,
              "#7201a8"
             ],
             [
              0.3333333333333333,
              "#9c179e"
             ],
             [
              0.4444444444444444,
              "#bd3786"
             ],
             [
              0.5555555555555556,
              "#d8576b"
             ],
             [
              0.6666666666666666,
              "#ed7953"
             ],
             [
              0.7777777777777778,
              "#fb9f3a"
             ],
             [
              0.8888888888888888,
              "#fdca26"
             ],
             [
              1,
              "#f0f921"
             ]
            ],
            "type": "surface"
           }
          ],
          "table": [
           {
            "cells": {
             "fill": {
              "color": "#EBF0F8"
             },
             "line": {
              "color": "white"
             }
            },
            "header": {
             "fill": {
              "color": "#C8D4E3"
             },
             "line": {
              "color": "white"
             }
            },
            "type": "table"
           }
          ]
         },
         "layout": {
          "annotationdefaults": {
           "arrowcolor": "#2a3f5f",
           "arrowhead": 0,
           "arrowwidth": 1
          },
          "autotypenumbers": "strict",
          "coloraxis": {
           "colorbar": {
            "outlinewidth": 0,
            "ticks": ""
           }
          },
          "colorscale": {
           "diverging": [
            [
             0,
             "#8e0152"
            ],
            [
             0.1,
             "#c51b7d"
            ],
            [
             0.2,
             "#de77ae"
            ],
            [
             0.3,
             "#f1b6da"
            ],
            [
             0.4,
             "#fde0ef"
            ],
            [
             0.5,
             "#f7f7f7"
            ],
            [
             0.6,
             "#e6f5d0"
            ],
            [
             0.7,
             "#b8e186"
            ],
            [
             0.8,
             "#7fbc41"
            ],
            [
             0.9,
             "#4d9221"
            ],
            [
             1,
             "#276419"
            ]
           ],
           "sequential": [
            [
             0,
             "#0d0887"
            ],
            [
             0.1111111111111111,
             "#46039f"
            ],
            [
             0.2222222222222222,
             "#7201a8"
            ],
            [
             0.3333333333333333,
             "#9c179e"
            ],
            [
             0.4444444444444444,
             "#bd3786"
            ],
            [
             0.5555555555555556,
             "#d8576b"
            ],
            [
             0.6666666666666666,
             "#ed7953"
            ],
            [
             0.7777777777777778,
             "#fb9f3a"
            ],
            [
             0.8888888888888888,
             "#fdca26"
            ],
            [
             1,
             "#f0f921"
            ]
           ],
           "sequentialminus": [
            [
             0,
             "#0d0887"
            ],
            [
             0.1111111111111111,
             "#46039f"
            ],
            [
             0.2222222222222222,
             "#7201a8"
            ],
            [
             0.3333333333333333,
             "#9c179e"
            ],
            [
             0.4444444444444444,
             "#bd3786"
            ],
            [
             0.5555555555555556,
             "#d8576b"
            ],
            [
             0.6666666666666666,
             "#ed7953"
            ],
            [
             0.7777777777777778,
             "#fb9f3a"
            ],
            [
             0.8888888888888888,
             "#fdca26"
            ],
            [
             1,
             "#f0f921"
            ]
           ]
          },
          "colorway": [
           "#636efa",
           "#EF553B",
           "#00cc96",
           "#ab63fa",
           "#FFA15A",
           "#19d3f3",
           "#FF6692",
           "#B6E880",
           "#FF97FF",
           "#FECB52"
          ],
          "font": {
           "color": "#2a3f5f"
          },
          "geo": {
           "bgcolor": "white",
           "lakecolor": "white",
           "landcolor": "#E5ECF6",
           "showlakes": true,
           "showland": true,
           "subunitcolor": "white"
          },
          "hoverlabel": {
           "align": "left"
          },
          "hovermode": "closest",
          "mapbox": {
           "style": "light"
          },
          "paper_bgcolor": "white",
          "plot_bgcolor": "#E5ECF6",
          "polar": {
           "angularaxis": {
            "gridcolor": "white",
            "linecolor": "white",
            "ticks": ""
           },
           "bgcolor": "#E5ECF6",
           "radialaxis": {
            "gridcolor": "white",
            "linecolor": "white",
            "ticks": ""
           }
          },
          "scene": {
           "xaxis": {
            "backgroundcolor": "#E5ECF6",
            "gridcolor": "white",
            "gridwidth": 2,
            "linecolor": "white",
            "showbackground": true,
            "ticks": "",
            "zerolinecolor": "white"
           },
           "yaxis": {
            "backgroundcolor": "#E5ECF6",
            "gridcolor": "white",
            "gridwidth": 2,
            "linecolor": "white",
            "showbackground": true,
            "ticks": "",
            "zerolinecolor": "white"
           },
           "zaxis": {
            "backgroundcolor": "#E5ECF6",
            "gridcolor": "white",
            "gridwidth": 2,
            "linecolor": "white",
            "showbackground": true,
            "ticks": "",
            "zerolinecolor": "white"
           }
          },
          "shapedefaults": {
           "line": {
            "color": "#2a3f5f"
           }
          },
          "ternary": {
           "aaxis": {
            "gridcolor": "white",
            "linecolor": "white",
            "ticks": ""
           },
           "baxis": {
            "gridcolor": "white",
            "linecolor": "white",
            "ticks": ""
           },
           "bgcolor": "#E5ECF6",
           "caxis": {
            "gridcolor": "white",
            "linecolor": "white",
            "ticks": ""
           }
          },
          "title": {
           "x": 0.05
          },
          "xaxis": {
           "automargin": true,
           "gridcolor": "white",
           "linecolor": "white",
           "ticks": "",
           "title": {
            "standoff": 15
           },
           "zerolinecolor": "white",
           "zerolinewidth": 2
          },
          "yaxis": {
           "automargin": true,
           "gridcolor": "white",
           "linecolor": "white",
           "ticks": "",
           "title": {
            "standoff": 15
           },
           "zerolinecolor": "white",
           "zerolinewidth": 2
          }
         }
        },
        "width": 960,
        "xaxis": {
         "anchor": "y",
         "domain": [
          0,
          0.30666666666666664
         ],
         "showticklabels": true,
         "title": {
          "text": ""
         }
        },
        "xaxis10": {
         "anchor": "y10",
         "domain": [
          0,
          0.30666666666666664
         ],
         "matches": "x",
         "showticklabels": true,
         "title": {
          "text": ""
         }
        },
        "xaxis11": {
         "anchor": "y11",
         "domain": [
          0.3466666666666666,
          0.6533333333333333
         ],
         "matches": "x",
         "showticklabels": true,
         "title": {
          "text": ""
         }
        },
        "xaxis12": {
         "anchor": "y12",
         "domain": [
          0.6933333333333332,
          0.9999999999999999
         ],
         "matches": "x",
         "showticklabels": true,
         "title": {
          "text": ""
         }
        },
        "xaxis13": {
         "anchor": "y13",
         "domain": [
          0,
          0.30666666666666664
         ],
         "matches": "x",
         "showticklabels": true,
         "title": {
          "text": ""
         }
        },
        "xaxis14": {
         "anchor": "y14",
         "domain": [
          0.3466666666666666,
          0.6533333333333333
         ],
         "matches": "x",
         "showticklabels": true,
         "title": {
          "text": ""
         }
        },
        "xaxis15": {
         "anchor": "y15",
         "domain": [
          0.6933333333333332,
          0.9999999999999999
         ],
         "matches": "x",
         "showticklabels": true,
         "title": {
          "text": ""
         }
        },
        "xaxis2": {
         "anchor": "y2",
         "domain": [
          0.3466666666666666,
          0.6533333333333333
         ],
         "matches": "x",
         "showticklabels": true,
         "title": {
          "text": ""
         }
        },
        "xaxis3": {
         "anchor": "y3",
         "domain": [
          0.6933333333333332,
          0.9999999999999999
         ],
         "matches": "x",
         "showticklabels": true,
         "title": {
          "text": ""
         }
        },
        "xaxis4": {
         "anchor": "y4",
         "domain": [
          0,
          0.30666666666666664
         ],
         "matches": "x",
         "showticklabels": true,
         "title": {
          "text": ""
         }
        },
        "xaxis5": {
         "anchor": "y5",
         "domain": [
          0.3466666666666666,
          0.6533333333333333
         ],
         "matches": "x",
         "showticklabels": true,
         "title": {
          "text": ""
         }
        },
        "xaxis6": {
         "anchor": "y6",
         "domain": [
          0.6933333333333332,
          0.9999999999999999
         ],
         "matches": "x",
         "showticklabels": true,
         "title": {
          "text": ""
         }
        },
        "xaxis7": {
         "anchor": "y7",
         "domain": [
          0,
          0.30666666666666664
         ],
         "matches": "x",
         "showticklabels": true,
         "title": {
          "text": ""
         }
        },
        "xaxis8": {
         "anchor": "y8",
         "domain": [
          0.3466666666666666,
          0.6533333333333333
         ],
         "matches": "x",
         "showticklabels": true,
         "title": {
          "text": ""
         }
        },
        "xaxis9": {
         "anchor": "y9",
         "domain": [
          0.6933333333333332,
          0.9999999999999999
         ],
         "matches": "x",
         "showticklabels": true,
         "title": {
          "text": ""
         }
        },
        "yaxis": {
         "anchor": "x",
         "domain": [
          0,
          0.144
         ],
         "showticklabels": true,
         "title": {
          "text": "amount(usd)"
         }
        },
        "yaxis10": {
         "anchor": "x10",
         "domain": [
          0.6419999999999999,
          0.7859999999999999
         ],
         "showticklabels": true,
         "title": {
          "text": "amount(usd)"
         }
        },
        "yaxis11": {
         "anchor": "x11",
         "domain": [
          0.6419999999999999,
          0.7859999999999999
         ],
         "showticklabels": true
        },
        "yaxis12": {
         "anchor": "x12",
         "domain": [
          0.6419999999999999,
          0.7859999999999999
         ],
         "showticklabels": true
        },
        "yaxis13": {
         "anchor": "x13",
         "domain": [
          0.856,
          1
         ],
         "showticklabels": true,
         "title": {
          "text": "amount(usd)"
         }
        },
        "yaxis14": {
         "anchor": "x14",
         "domain": [
          0.856,
          1
         ],
         "showticklabels": true
        },
        "yaxis15": {
         "anchor": "x15",
         "domain": [
          0.856,
          1
         ],
         "showticklabels": true
        },
        "yaxis2": {
         "anchor": "x2",
         "domain": [
          0,
          0.144
         ],
         "showticklabels": true
        },
        "yaxis3": {
         "anchor": "x3",
         "domain": [
          0,
          0.144
         ],
         "showticklabels": true
        },
        "yaxis4": {
         "anchor": "x4",
         "domain": [
          0.214,
          0.358
         ],
         "showticklabels": true,
         "title": {
          "text": "amount(usd)"
         }
        },
        "yaxis5": {
         "anchor": "x5",
         "domain": [
          0.214,
          0.358
         ],
         "showticklabels": true
        },
        "yaxis6": {
         "anchor": "x6",
         "domain": [
          0.214,
          0.358
         ],
         "showticklabels": true
        },
        "yaxis7": {
         "anchor": "x7",
         "domain": [
          0.428,
          0.572
         ],
         "showticklabels": true,
         "title": {
          "text": "amount(usd)"
         }
        },
        "yaxis8": {
         "anchor": "x8",
         "domain": [
          0.428,
          0.572
         ],
         "showticklabels": true
        },
        "yaxis9": {
         "anchor": "x9",
         "domain": [
          0.428,
          0.572
         ],
         "showticklabels": true
        }
       }
      }
     },
     "metadata": {},
     "output_type": "display_data"
    }
   ],
   "source": [
    "# The category of the fraudulent transactions was plotted.\n",
    "df_ = df_train.groupby(by=[pd.Grouper(key=\"transaction_time\", freq=\"1W\"),\n",
    "                           'is_fraud','category']).agg({\"amount(usd)\":'mean',\"transaction_id\":\"count\"}).reset_index()\n",
    "fig = px.scatter(df_,\n",
    "        x='transaction_time',\n",
    "        y='amount(usd)',\n",
    "        color='is_fraud',\n",
    "        facet_col ='category',\n",
    "        facet_col_wrap=3,\n",
    "        facet_col_spacing=.04,\n",
    "        color_discrete_map={0:'#61E50F', 1:'#D93C1D'}\n",
    ")\n",
    "fig.update_layout(height=1400,\n",
    "                  width=960,\n",
    "                  legend=dict(title='Is fraud?'),\n",
    "                  plot_bgcolor='#fafafa'\n",
    "                 )\n",
    "fig.update_yaxes(matches=None)\n",
    "fig.for_each_yaxis(lambda yaxis: yaxis.update(showticklabels=True))\n",
    "fig.for_each_xaxis(lambda xaxis: xaxis.update(showticklabels=True, title=''))\n",
    "fig.show();"
   ]
  },
  {
   "cell_type": "code",
   "execution_count": 25,
   "metadata": {},
   "outputs": [
    {
     "data": {
      "application/vnd.plotly.v1+json": {
       "config": {
        "plotlyServerURL": "https://plot.ly"
       },
       "data": [
        {
         "fillpattern": {
          "shape": ""
         },
         "hovertemplate": "category=entertainment<br>transaction_time=%{x}<br>amount(usd)=%{y}<extra></extra>",
         "legendgroup": "entertainment",
         "line": {
          "color": "#2E91E5"
         },
         "marker": {
          "symbol": "circle"
         },
         "mode": "lines",
         "name": "entertainment",
         "orientation": "v",
         "showlegend": true,
         "stackgroup": "1",
         "type": "scatter",
         "x": [
          "2019-01-31T00:00:00",
          "2019-02-28T00:00:00",
          "2019-03-31T00:00:00",
          "2019-04-30T00:00:00",
          "2019-05-31T00:00:00",
          "2019-06-30T00:00:00",
          "2019-07-31T00:00:00",
          "2019-08-31T00:00:00",
          "2019-09-30T00:00:00",
          "2019-10-31T00:00:00",
          "2019-11-30T00:00:00",
          "2019-12-31T00:00:00",
          "2020-01-31T00:00:00",
          "2020-02-29T00:00:00",
          "2020-03-31T00:00:00",
          "2020-04-30T00:00:00",
          "2020-05-31T00:00:00",
          "2020-06-30T00:00:00",
          "2020-07-31T00:00:00",
          "2020-08-31T00:00:00",
          "2020-09-30T00:00:00",
          "2020-10-31T00:00:00",
          "2020-11-30T00:00:00",
          "2020-12-31T00:00:00"
         ],
         "xaxis": "x",
         "y": [
          5353.43,
          2817.76,
          9239.41,
          3334.55,
          5141.139999999999,
          3832.03,
          4083.29,
          5364.74,
          5960.88,
          5270.04,
          6999.49,
          9719.95,
          4720.5599999999995,
          3549.4700000000003,
          6321.33,
          4259.1,
          5542.71,
          5000.18,
          2739.34,
          6623.469999999999,
          5294.59,
          3753.3,
          972.06,
          1994.58
         ],
         "yaxis": "y"
        },
        {
         "fillpattern": {
          "shape": ""
         },
         "hovertemplate": "category=food_dining<br>transaction_time=%{x}<br>amount(usd)=%{y}<extra></extra>",
         "legendgroup": "food_dining",
         "line": {
          "color": "#E15F99"
         },
         "marker": {
          "symbol": "circle"
         },
         "mode": "lines",
         "name": "food_dining",
         "orientation": "v",
         "showlegend": true,
         "stackgroup": "1",
         "type": "scatter",
         "x": [
          "2019-01-31T00:00:00",
          "2019-02-28T00:00:00",
          "2019-03-31T00:00:00",
          "2019-04-30T00:00:00",
          "2019-05-31T00:00:00",
          "2019-06-30T00:00:00",
          "2019-07-31T00:00:00",
          "2019-08-31T00:00:00",
          "2019-09-30T00:00:00",
          "2019-10-31T00:00:00",
          "2019-11-30T00:00:00",
          "2019-12-31T00:00:00",
          "2020-01-31T00:00:00",
          "2020-02-29T00:00:00",
          "2020-03-31T00:00:00",
          "2020-04-30T00:00:00",
          "2020-05-31T00:00:00",
          "2020-06-30T00:00:00",
          "2020-07-31T00:00:00",
          "2020-08-31T00:00:00",
          "2020-09-30T00:00:00",
          "2020-10-31T00:00:00",
          "2020-11-30T00:00:00",
          "2020-12-31T00:00:00"
         ],
         "xaxis": "x",
         "y": [
          1367.15,
          589.4,
          1060.95,
          441.48,
          514.06,
          831.27,
          471.7,
          350.64,
          1627.86,
          338.81,
          1035.22,
          1254.25,
          988.9499999999999,
          361.64,
          696.24,
          1227.71,
          468.45,
          877.8,
          1104.53,
          1350.8,
          712.2,
          836.23,
          254.84000000000003,
          727.74
         ],
         "yaxis": "y"
        },
        {
         "fillpattern": {
          "shape": ""
         },
         "hovertemplate": "category=gas_transport<br>transaction_time=%{x}<br>amount(usd)=%{y}<extra></extra>",
         "legendgroup": "gas_transport",
         "line": {
          "color": "#1CA71C"
         },
         "marker": {
          "symbol": "circle"
         },
         "mode": "lines",
         "name": "gas_transport",
         "orientation": "v",
         "showlegend": true,
         "stackgroup": "1",
         "type": "scatter",
         "x": [
          "2019-01-31T00:00:00",
          "2019-02-28T00:00:00",
          "2019-03-31T00:00:00",
          "2019-04-30T00:00:00",
          "2019-05-31T00:00:00",
          "2019-06-30T00:00:00",
          "2019-07-31T00:00:00",
          "2019-08-31T00:00:00",
          "2019-09-30T00:00:00",
          "2019-10-31T00:00:00",
          "2019-11-30T00:00:00",
          "2019-12-31T00:00:00",
          "2020-01-31T00:00:00",
          "2020-02-29T00:00:00",
          "2020-03-31T00:00:00",
          "2020-04-30T00:00:00",
          "2020-05-31T00:00:00",
          "2020-06-30T00:00:00",
          "2020-07-31T00:00:00",
          "2020-08-31T00:00:00",
          "2020-09-30T00:00:00",
          "2020-10-31T00:00:00",
          "2020-11-30T00:00:00",
          "2020-12-31T00:00:00"
         ],
         "xaxis": "x",
         "y": [
          438.82,
          387.34000000000003,
          418.7,
          446.7,
          437.7,
          233.37,
          304.90999999999997,
          311.81,
          334.54,
          336.55,
          409.59,
          404.84000000000003,
          257.25,
          261.73,
          333.83,
          216.95999999999998,
          505.9,
          326,
          245.53,
          226.46,
          193.16,
          194.44,
          264.42,
          234.06
         ],
         "yaxis": "y"
        },
        {
         "fillpattern": {
          "shape": ""
         },
         "hovertemplate": "category=grocery_net<br>transaction_time=%{x}<br>amount(usd)=%{y}<extra></extra>",
         "legendgroup": "grocery_net",
         "line": {
          "color": "#FB0D0D"
         },
         "marker": {
          "symbol": "circle"
         },
         "mode": "lines",
         "name": "grocery_net",
         "orientation": "v",
         "showlegend": true,
         "stackgroup": "1",
         "type": "scatter",
         "x": [
          "2019-01-31T00:00:00",
          "2019-02-28T00:00:00",
          "2019-03-31T00:00:00",
          "2019-04-30T00:00:00",
          "2019-05-31T00:00:00",
          "2019-06-30T00:00:00",
          "2019-07-31T00:00:00",
          "2019-08-31T00:00:00",
          "2019-09-30T00:00:00",
          "2019-10-31T00:00:00",
          "2019-11-30T00:00:00",
          "2019-12-31T00:00:00",
          "2020-01-31T00:00:00",
          "2020-02-29T00:00:00",
          "2020-03-31T00:00:00",
          "2020-04-30T00:00:00",
          "2020-05-31T00:00:00",
          "2020-06-30T00:00:00",
          "2020-07-31T00:00:00",
          "2020-08-31T00:00:00",
          "2020-09-30T00:00:00",
          "2020-10-31T00:00:00",
          "2020-11-30T00:00:00",
          "2020-12-31T00:00:00"
         ],
         "xaxis": "x",
         "y": [
          97.96,
          68.37,
          101.71000000000001,
          58.699999999999996,
          102.53999999999999,
          67.41,
          118.57000000000001,
          60.01,
          35.19,
          58.62,
          54.97,
          114.39,
          42.99,
          95.93,
          92.97,
          39.67,
          37.7,
          99.58,
          106.59,
          55.71,
          46.36,
          67.41,
          90.43,
          7.76
         ],
         "yaxis": "y"
        },
        {
         "fillpattern": {
          "shape": ""
         },
         "hovertemplate": "category=grocery_pos<br>transaction_time=%{x}<br>amount(usd)=%{y}<extra></extra>",
         "legendgroup": "grocery_pos",
         "line": {
          "color": "#DA16FF"
         },
         "marker": {
          "symbol": "circle"
         },
         "mode": "lines",
         "name": "grocery_pos",
         "orientation": "v",
         "showlegend": true,
         "stackgroup": "1",
         "type": "scatter",
         "x": [
          "2019-01-31T00:00:00",
          "2019-02-28T00:00:00",
          "2019-03-31T00:00:00",
          "2019-04-30T00:00:00",
          "2019-05-31T00:00:00",
          "2019-06-30T00:00:00",
          "2019-07-31T00:00:00",
          "2019-08-31T00:00:00",
          "2019-09-30T00:00:00",
          "2019-10-31T00:00:00",
          "2019-11-30T00:00:00",
          "2019-12-31T00:00:00",
          "2020-01-31T00:00:00",
          "2020-02-29T00:00:00",
          "2020-03-31T00:00:00",
          "2020-04-30T00:00:00",
          "2020-05-31T00:00:00",
          "2020-06-30T00:00:00",
          "2020-07-31T00:00:00",
          "2020-08-31T00:00:00",
          "2020-09-30T00:00:00",
          "2020-10-31T00:00:00",
          "2020-11-30T00:00:00",
          "2020-12-31T00:00:00"
         ],
         "xaxis": "x",
         "y": [
          30052.61,
          33199.14,
          26769.68,
          22497.19,
          24400.83,
          19960.3,
          17760.02,
          20714.73,
          24143.24,
          25150.85,
          23632.14,
          33049.26,
          19195.17,
          21221.89,
          26310.98,
          23759.670000000002,
          30658.62,
          25429.06,
          20065.29,
          22901.89,
          20460.51,
          23036.58,
          18187.25,
          13337.95
         ],
         "yaxis": "y"
        },
        {
         "fillpattern": {
          "shape": ""
         },
         "hovertemplate": "category=health_fitness<br>transaction_time=%{x}<br>amount(usd)=%{y}<extra></extra>",
         "legendgroup": "health_fitness",
         "line": {
          "color": "#222A2A"
         },
         "marker": {
          "symbol": "circle"
         },
         "mode": "lines",
         "name": "health_fitness",
         "orientation": "v",
         "showlegend": true,
         "stackgroup": "1",
         "type": "scatter",
         "x": [
          "2019-01-31T00:00:00",
          "2019-02-28T00:00:00",
          "2019-03-31T00:00:00",
          "2019-04-30T00:00:00",
          "2019-05-31T00:00:00",
          "2019-06-30T00:00:00",
          "2019-07-31T00:00:00",
          "2019-08-31T00:00:00",
          "2019-09-30T00:00:00",
          "2019-10-31T00:00:00",
          "2019-11-30T00:00:00",
          "2019-12-31T00:00:00",
          "2020-01-31T00:00:00",
          "2020-02-29T00:00:00",
          "2020-03-31T00:00:00",
          "2020-04-30T00:00:00",
          "2020-05-31T00:00:00",
          "2020-06-30T00:00:00",
          "2020-07-31T00:00:00",
          "2020-08-31T00:00:00",
          "2020-09-30T00:00:00",
          "2020-10-31T00:00:00",
          "2020-11-30T00:00:00",
          "2020-12-31T00:00:00"
         ],
         "xaxis": "x",
         "y": [
          83.71000000000001,
          152.42,
          241.03,
          39.879999999999995,
          111.24,
          175.01,
          111.64999999999999,
          80.81,
          87.6,
          106.16,
          59.64,
          234.5,
          62.43,
          61.36,
          58.29,
          126.38,
          175.22,
          237.78,
          134.1,
          367.77,
          19.64,
          157.85,
          18.44,
          94.96000000000001
         ],
         "yaxis": "y"
        },
        {
         "fillpattern": {
          "shape": ""
         },
         "hovertemplate": "category=home<br>transaction_time=%{x}<br>amount(usd)=%{y}<extra></extra>",
         "legendgroup": "home",
         "line": {
          "color": "#B68100"
         },
         "marker": {
          "symbol": "circle"
         },
         "mode": "lines",
         "name": "home",
         "orientation": "v",
         "showlegend": true,
         "stackgroup": "1",
         "type": "scatter",
         "x": [
          "2019-01-31T00:00:00",
          "2019-02-28T00:00:00",
          "2019-03-31T00:00:00",
          "2019-04-30T00:00:00",
          "2019-05-31T00:00:00",
          "2019-06-30T00:00:00",
          "2019-07-31T00:00:00",
          "2019-08-31T00:00:00",
          "2019-09-30T00:00:00",
          "2019-10-31T00:00:00",
          "2019-11-30T00:00:00",
          "2019-12-31T00:00:00",
          "2020-01-31T00:00:00",
          "2020-02-29T00:00:00",
          "2020-03-31T00:00:00",
          "2020-04-30T00:00:00",
          "2020-05-31T00:00:00",
          "2020-06-30T00:00:00",
          "2020-07-31T00:00:00",
          "2020-08-31T00:00:00",
          "2020-09-30T00:00:00",
          "2020-10-31T00:00:00",
          "2020-11-30T00:00:00",
          "2020-12-31T00:00:00"
         ],
         "xaxis": "x",
         "y": [
          2055.4,
          2007.97,
          2787.64,
          1331.23,
          970.99,
          1798.8799999999999,
          1050.57,
          3541.46,
          3722.37,
          1996.3899999999999,
          2343.71,
          3279.95,
          2236.83,
          1712.11,
          3649.67,
          2176.19,
          1843.79,
          3541.39,
          2962.64,
          2731.6,
          1925.9099999999999,
          1825.8,
          322.25,
          2786.13
         ],
         "yaxis": "y"
        },
        {
         "fillpattern": {
          "shape": ""
         },
         "hovertemplate": "category=kids_pets<br>transaction_time=%{x}<br>amount(usd)=%{y}<extra></extra>",
         "legendgroup": "kids_pets",
         "line": {
          "color": "#750D86"
         },
         "marker": {
          "symbol": "circle"
         },
         "mode": "lines",
         "name": "kids_pets",
         "orientation": "v",
         "showlegend": true,
         "stackgroup": "1",
         "type": "scatter",
         "x": [
          "2019-01-31T00:00:00",
          "2019-02-28T00:00:00",
          "2019-03-31T00:00:00",
          "2019-04-30T00:00:00",
          "2019-05-31T00:00:00",
          "2019-06-30T00:00:00",
          "2019-07-31T00:00:00",
          "2019-08-31T00:00:00",
          "2019-09-30T00:00:00",
          "2019-10-31T00:00:00",
          "2019-11-30T00:00:00",
          "2019-12-31T00:00:00",
          "2020-01-31T00:00:00",
          "2020-02-29T00:00:00",
          "2020-03-31T00:00:00",
          "2020-04-30T00:00:00",
          "2020-05-31T00:00:00",
          "2020-06-30T00:00:00",
          "2020-07-31T00:00:00",
          "2020-08-31T00:00:00",
          "2020-09-30T00:00:00",
          "2020-10-31T00:00:00",
          "2020-11-30T00:00:00",
          "2020-12-31T00:00:00"
         ],
         "xaxis": "x",
         "y": [
          400.88,
          224.49,
          336.55,
          90.47,
          219.68,
          207.49,
          56.03,
          241.72,
          206.7,
          209.74,
          41.92,
          178.24,
          139.09,
          140.64,
          275.57,
          139.14000000000001,
          174.26,
          222.9,
          115.65,
          270.15999999999997,
          160.99,
          164.76,
          159.45,
          99.74000000000001
         ],
         "yaxis": "y"
        },
        {
         "fillpattern": {
          "shape": ""
         },
         "hovertemplate": "category=misc_net<br>transaction_time=%{x}<br>amount(usd)=%{y}<extra></extra>",
         "legendgroup": "misc_net",
         "line": {
          "color": "#EB663B"
         },
         "marker": {
          "symbol": "circle"
         },
         "mode": "lines",
         "name": "misc_net",
         "orientation": "v",
         "showlegend": true,
         "stackgroup": "1",
         "type": "scatter",
         "x": [
          "2019-01-31T00:00:00",
          "2019-02-28T00:00:00",
          "2019-03-31T00:00:00",
          "2019-04-30T00:00:00",
          "2019-05-31T00:00:00",
          "2019-06-30T00:00:00",
          "2019-07-31T00:00:00",
          "2019-08-31T00:00:00",
          "2019-09-30T00:00:00",
          "2019-10-31T00:00:00",
          "2019-11-30T00:00:00",
          "2019-12-31T00:00:00",
          "2020-01-31T00:00:00",
          "2020-02-29T00:00:00",
          "2020-03-31T00:00:00",
          "2020-04-30T00:00:00",
          "2020-05-31T00:00:00",
          "2020-06-30T00:00:00",
          "2020-07-31T00:00:00",
          "2020-08-31T00:00:00",
          "2020-09-30T00:00:00",
          "2020-10-31T00:00:00",
          "2020-11-30T00:00:00",
          "2020-12-31T00:00:00"
         ],
         "xaxis": "x",
         "y": [
          32742.21,
          42727.1,
          35329.06,
          34692.06,
          24124.11,
          24798.61,
          23206.59,
          28453.7,
          30010.17,
          35178.1,
          28157.35,
          43057.18,
          28197.9,
          36603.03,
          33619.42,
          13716.32,
          53657.53,
          35115.25,
          20389.95,
          30601.07,
          36390.46,
          32733.649999999998,
          24068.86,
          18304.07
         ],
         "yaxis": "y"
        },
        {
         "fillpattern": {
          "shape": ""
         },
         "hovertemplate": "category=misc_pos<br>transaction_time=%{x}<br>amount(usd)=%{y}<extra></extra>",
         "legendgroup": "misc_pos",
         "line": {
          "color": "#511CFB"
         },
         "marker": {
          "symbol": "circle"
         },
         "mode": "lines",
         "name": "misc_pos",
         "orientation": "v",
         "showlegend": true,
         "stackgroup": "1",
         "type": "scatter",
         "x": [
          "2019-01-31T00:00:00",
          "2019-02-28T00:00:00",
          "2019-03-31T00:00:00",
          "2019-04-30T00:00:00",
          "2019-05-31T00:00:00",
          "2019-06-30T00:00:00",
          "2019-07-31T00:00:00",
          "2019-08-31T00:00:00",
          "2019-09-30T00:00:00",
          "2019-10-31T00:00:00",
          "2019-11-30T00:00:00",
          "2019-12-31T00:00:00",
          "2020-01-31T00:00:00",
          "2020-02-29T00:00:00",
          "2020-03-31T00:00:00",
          "2020-04-30T00:00:00",
          "2020-05-31T00:00:00",
          "2020-06-30T00:00:00",
          "2020-07-31T00:00:00",
          "2020-08-31T00:00:00",
          "2020-09-30T00:00:00",
          "2020-10-31T00:00:00",
          "2020-11-30T00:00:00",
          "2020-12-31T00:00:00"
         ],
         "xaxis": "x",
         "y": [
          4120,
          1857.15,
          2762.69,
          73.93,
          1991.75,
          6300.68,
          74.44,
          44.97,
          1891.46,
          152.11,
          1568.71,
          4383.15,
          2484.39,
          1565.43,
          3338.15,
          4185.97,
          3065.08,
          5083.96,
          985.38,
          6669.14,
          130.91,
          1082.82,
          146.11,
          2393.84
         ],
         "yaxis": "y"
        },
        {
         "fillpattern": {
          "shape": ""
         },
         "hovertemplate": "category=personal_care<br>transaction_time=%{x}<br>amount(usd)=%{y}<extra></extra>",
         "legendgroup": "personal_care",
         "line": {
          "color": "#00A08B"
         },
         "marker": {
          "symbol": "circle"
         },
         "mode": "lines",
         "name": "personal_care",
         "orientation": "v",
         "showlegend": true,
         "stackgroup": "1",
         "type": "scatter",
         "x": [
          "2019-01-31T00:00:00",
          "2019-02-28T00:00:00",
          "2019-03-31T00:00:00",
          "2019-04-30T00:00:00",
          "2019-05-31T00:00:00",
          "2019-06-30T00:00:00",
          "2019-07-31T00:00:00",
          "2019-08-31T00:00:00",
          "2019-09-30T00:00:00",
          "2019-10-31T00:00:00",
          "2019-11-30T00:00:00",
          "2019-12-31T00:00:00",
          "2020-01-31T00:00:00",
          "2020-02-29T00:00:00",
          "2020-03-31T00:00:00",
          "2020-04-30T00:00:00",
          "2020-05-31T00:00:00",
          "2020-06-30T00:00:00",
          "2020-07-31T00:00:00",
          "2020-08-31T00:00:00",
          "2020-09-30T00:00:00",
          "2020-10-31T00:00:00",
          "2020-11-30T00:00:00",
          "2020-12-31T00:00:00"
         ],
         "xaxis": "x",
         "y": [
          265.5,
          276.66,
          370.13,
          90.89,
          190.51,
          416.61,
          222.13,
          191.99,
          110.03,
          220.39000000000001,
          230.12,
          485.40999999999997,
          200.9,
          214.32,
          272.40999999999997,
          168.41,
          350.8,
          303.42,
          142.96,
          327.68,
          157.68,
          174.76,
          159.89,
          177.57999999999998
         ],
         "yaxis": "y"
        },
        {
         "fillpattern": {
          "shape": ""
         },
         "hovertemplate": "category=shopping_net<br>transaction_time=%{x}<br>amount(usd)=%{y}<extra></extra>",
         "legendgroup": "shopping_net",
         "line": {
          "color": "#FB00D1"
         },
         "marker": {
          "symbol": "circle"
         },
         "mode": "lines",
         "name": "shopping_net",
         "orientation": "v",
         "showlegend": true,
         "stackgroup": "1",
         "type": "scatter",
         "x": [
          "2019-01-31T00:00:00",
          "2019-02-28T00:00:00",
          "2019-03-31T00:00:00",
          "2019-04-30T00:00:00",
          "2019-05-31T00:00:00",
          "2019-06-30T00:00:00",
          "2019-07-31T00:00:00",
          "2019-08-31T00:00:00",
          "2019-09-30T00:00:00",
          "2019-10-31T00:00:00",
          "2019-11-30T00:00:00",
          "2019-12-31T00:00:00",
          "2020-01-31T00:00:00",
          "2020-02-29T00:00:00",
          "2020-03-31T00:00:00",
          "2020-04-30T00:00:00",
          "2020-05-31T00:00:00",
          "2020-06-30T00:00:00",
          "2020-07-31T00:00:00",
          "2020-08-31T00:00:00",
          "2020-09-30T00:00:00",
          "2020-10-31T00:00:00",
          "2020-11-30T00:00:00",
          "2020-12-31T00:00:00"
         ],
         "xaxis": "x",
         "y": [
          91558.39,
          93918.81,
          82503.91,
          66087.41,
          84159.55,
          51426.95,
          68649.84,
          70871.17,
          69376.51,
          93967.09,
          70857.22,
          125440.93,
          61619.15,
          60522.75,
          82205.3,
          48822.68,
          81908.62,
          90530.51,
          59245.64,
          62472.84,
          78568.53,
          72225.34,
          59117.99,
          52420.88
         ],
         "yaxis": "y"
        },
        {
         "fillpattern": {
          "shape": ""
         },
         "hovertemplate": "category=shopping_pos<br>transaction_time=%{x}<br>amount(usd)=%{y}<extra></extra>",
         "legendgroup": "shopping_pos",
         "line": {
          "color": "#FC0080"
         },
         "marker": {
          "symbol": "circle"
         },
         "mode": "lines",
         "name": "shopping_pos",
         "orientation": "v",
         "showlegend": true,
         "stackgroup": "1",
         "type": "scatter",
         "x": [
          "2019-01-31T00:00:00",
          "2019-02-28T00:00:00",
          "2019-03-31T00:00:00",
          "2019-04-30T00:00:00",
          "2019-05-31T00:00:00",
          "2019-06-30T00:00:00",
          "2019-07-31T00:00:00",
          "2019-08-31T00:00:00",
          "2019-09-30T00:00:00",
          "2019-10-31T00:00:00",
          "2019-11-30T00:00:00",
          "2019-12-31T00:00:00",
          "2020-01-31T00:00:00",
          "2020-02-29T00:00:00",
          "2020-03-31T00:00:00",
          "2020-04-30T00:00:00",
          "2020-05-31T00:00:00",
          "2020-06-30T00:00:00",
          "2020-07-31T00:00:00",
          "2020-08-31T00:00:00",
          "2020-09-30T00:00:00",
          "2020-10-31T00:00:00",
          "2020-11-30T00:00:00",
          "2020-12-31T00:00:00"
         ],
         "xaxis": "x",
         "y": [
          38480.77,
          44556.85,
          39594.86,
          26270.26,
          29743.36,
          31857.12,
          30998.47,
          34337.11,
          29764.559999999998,
          32015.47,
          21248.68,
          52545.97,
          25080.42,
          28558.39,
          34463.18,
          24311.82,
          48210.77,
          35324.44,
          23647.739999999998,
          36383.2,
          19204.88,
          19792.49,
          16425.89,
          27648.41
         ],
         "yaxis": "y"
        },
        {
         "fillpattern": {
          "shape": ""
         },
         "hovertemplate": "category=travel<br>transaction_time=%{x}<br>amount(usd)=%{y}<extra></extra>",
         "legendgroup": "travel",
         "line": {
          "color": "#B2828D"
         },
         "marker": {
          "symbol": "circle"
         },
         "mode": "lines",
         "name": "travel",
         "orientation": "v",
         "showlegend": true,
         "stackgroup": "1",
         "type": "scatter",
         "x": [
          "2019-01-31T00:00:00",
          "2019-02-28T00:00:00",
          "2019-03-31T00:00:00",
          "2019-04-30T00:00:00",
          "2019-05-31T00:00:00",
          "2019-06-30T00:00:00",
          "2019-07-31T00:00:00",
          "2019-08-31T00:00:00",
          "2019-09-30T00:00:00",
          "2019-10-31T00:00:00",
          "2019-11-30T00:00:00",
          "2019-12-31T00:00:00",
          "2020-01-31T00:00:00",
          "2020-02-29T00:00:00",
          "2020-03-31T00:00:00",
          "2020-04-30T00:00:00",
          "2020-05-31T00:00:00",
          "2020-06-30T00:00:00",
          "2020-07-31T00:00:00",
          "2020-08-31T00:00:00",
          "2020-09-30T00:00:00",
          "2020-10-31T00:00:00",
          "2020-11-30T00:00:00",
          "2020-12-31T00:00:00"
         ],
         "xaxis": "x",
         "y": [
          93.2,
          69.65,
          79.05,
          10.92,
          31.85,
          30.26,
          34.349999999999994,
          72.94,
          73.55,
          37.23,
          35.07,
          39.9,
          51.11,
          26.56,
          53.87,
          35.54,
          30.830000000000002,
          44.28,
          61.81,
          60.129999999999995,
          52.21,
          33.04,
          34.99,
          16.84
         ],
         "yaxis": "y"
        }
       ],
       "layout": {
        "height": 600,
        "legend": {
         "title": {
          "text": "Type of business"
         },
         "tracegroupgap": 0
        },
        "margin": {
         "t": 60
        },
        "plot_bgcolor": "#fafafa",
        "template": {
         "data": {
          "bar": [
           {
            "error_x": {
             "color": "#2a3f5f"
            },
            "error_y": {
             "color": "#2a3f5f"
            },
            "marker": {
             "line": {
              "color": "#E5ECF6",
              "width": 0.5
             },
             "pattern": {
              "fillmode": "overlay",
              "size": 10,
              "solidity": 0.2
             }
            },
            "type": "bar"
           }
          ],
          "barpolar": [
           {
            "marker": {
             "line": {
              "color": "#E5ECF6",
              "width": 0.5
             },
             "pattern": {
              "fillmode": "overlay",
              "size": 10,
              "solidity": 0.2
             }
            },
            "type": "barpolar"
           }
          ],
          "carpet": [
           {
            "aaxis": {
             "endlinecolor": "#2a3f5f",
             "gridcolor": "white",
             "linecolor": "white",
             "minorgridcolor": "white",
             "startlinecolor": "#2a3f5f"
            },
            "baxis": {
             "endlinecolor": "#2a3f5f",
             "gridcolor": "white",
             "linecolor": "white",
             "minorgridcolor": "white",
             "startlinecolor": "#2a3f5f"
            },
            "type": "carpet"
           }
          ],
          "choropleth": [
           {
            "colorbar": {
             "outlinewidth": 0,
             "ticks": ""
            },
            "type": "choropleth"
           }
          ],
          "contour": [
           {
            "colorbar": {
             "outlinewidth": 0,
             "ticks": ""
            },
            "colorscale": [
             [
              0,
              "#0d0887"
             ],
             [
              0.1111111111111111,
              "#46039f"
             ],
             [
              0.2222222222222222,
              "#7201a8"
             ],
             [
              0.3333333333333333,
              "#9c179e"
             ],
             [
              0.4444444444444444,
              "#bd3786"
             ],
             [
              0.5555555555555556,
              "#d8576b"
             ],
             [
              0.6666666666666666,
              "#ed7953"
             ],
             [
              0.7777777777777778,
              "#fb9f3a"
             ],
             [
              0.8888888888888888,
              "#fdca26"
             ],
             [
              1,
              "#f0f921"
             ]
            ],
            "type": "contour"
           }
          ],
          "contourcarpet": [
           {
            "colorbar": {
             "outlinewidth": 0,
             "ticks": ""
            },
            "type": "contourcarpet"
           }
          ],
          "heatmap": [
           {
            "colorbar": {
             "outlinewidth": 0,
             "ticks": ""
            },
            "colorscale": [
             [
              0,
              "#0d0887"
             ],
             [
              0.1111111111111111,
              "#46039f"
             ],
             [
              0.2222222222222222,
              "#7201a8"
             ],
             [
              0.3333333333333333,
              "#9c179e"
             ],
             [
              0.4444444444444444,
              "#bd3786"
             ],
             [
              0.5555555555555556,
              "#d8576b"
             ],
             [
              0.6666666666666666,
              "#ed7953"
             ],
             [
              0.7777777777777778,
              "#fb9f3a"
             ],
             [
              0.8888888888888888,
              "#fdca26"
             ],
             [
              1,
              "#f0f921"
             ]
            ],
            "type": "heatmap"
           }
          ],
          "heatmapgl": [
           {
            "colorbar": {
             "outlinewidth": 0,
             "ticks": ""
            },
            "colorscale": [
             [
              0,
              "#0d0887"
             ],
             [
              0.1111111111111111,
              "#46039f"
             ],
             [
              0.2222222222222222,
              "#7201a8"
             ],
             [
              0.3333333333333333,
              "#9c179e"
             ],
             [
              0.4444444444444444,
              "#bd3786"
             ],
             [
              0.5555555555555556,
              "#d8576b"
             ],
             [
              0.6666666666666666,
              "#ed7953"
             ],
             [
              0.7777777777777778,
              "#fb9f3a"
             ],
             [
              0.8888888888888888,
              "#fdca26"
             ],
             [
              1,
              "#f0f921"
             ]
            ],
            "type": "heatmapgl"
           }
          ],
          "histogram": [
           {
            "marker": {
             "pattern": {
              "fillmode": "overlay",
              "size": 10,
              "solidity": 0.2
             }
            },
            "type": "histogram"
           }
          ],
          "histogram2d": [
           {
            "colorbar": {
             "outlinewidth": 0,
             "ticks": ""
            },
            "colorscale": [
             [
              0,
              "#0d0887"
             ],
             [
              0.1111111111111111,
              "#46039f"
             ],
             [
              0.2222222222222222,
              "#7201a8"
             ],
             [
              0.3333333333333333,
              "#9c179e"
             ],
             [
              0.4444444444444444,
              "#bd3786"
             ],
             [
              0.5555555555555556,
              "#d8576b"
             ],
             [
              0.6666666666666666,
              "#ed7953"
             ],
             [
              0.7777777777777778,
              "#fb9f3a"
             ],
             [
              0.8888888888888888,
              "#fdca26"
             ],
             [
              1,
              "#f0f921"
             ]
            ],
            "type": "histogram2d"
           }
          ],
          "histogram2dcontour": [
           {
            "colorbar": {
             "outlinewidth": 0,
             "ticks": ""
            },
            "colorscale": [
             [
              0,
              "#0d0887"
             ],
             [
              0.1111111111111111,
              "#46039f"
             ],
             [
              0.2222222222222222,
              "#7201a8"
             ],
             [
              0.3333333333333333,
              "#9c179e"
             ],
             [
              0.4444444444444444,
              "#bd3786"
             ],
             [
              0.5555555555555556,
              "#d8576b"
             ],
             [
              0.6666666666666666,
              "#ed7953"
             ],
             [
              0.7777777777777778,
              "#fb9f3a"
             ],
             [
              0.8888888888888888,
              "#fdca26"
             ],
             [
              1,
              "#f0f921"
             ]
            ],
            "type": "histogram2dcontour"
           }
          ],
          "mesh3d": [
           {
            "colorbar": {
             "outlinewidth": 0,
             "ticks": ""
            },
            "type": "mesh3d"
           }
          ],
          "parcoords": [
           {
            "line": {
             "colorbar": {
              "outlinewidth": 0,
              "ticks": ""
             }
            },
            "type": "parcoords"
           }
          ],
          "pie": [
           {
            "automargin": true,
            "type": "pie"
           }
          ],
          "scatter": [
           {
            "fillpattern": {
             "fillmode": "overlay",
             "size": 10,
             "solidity": 0.2
            },
            "type": "scatter"
           }
          ],
          "scatter3d": [
           {
            "line": {
             "colorbar": {
              "outlinewidth": 0,
              "ticks": ""
             }
            },
            "marker": {
             "colorbar": {
              "outlinewidth": 0,
              "ticks": ""
             }
            },
            "type": "scatter3d"
           }
          ],
          "scattercarpet": [
           {
            "marker": {
             "colorbar": {
              "outlinewidth": 0,
              "ticks": ""
             }
            },
            "type": "scattercarpet"
           }
          ],
          "scattergeo": [
           {
            "marker": {
             "colorbar": {
              "outlinewidth": 0,
              "ticks": ""
             }
            },
            "type": "scattergeo"
           }
          ],
          "scattergl": [
           {
            "marker": {
             "colorbar": {
              "outlinewidth": 0,
              "ticks": ""
             }
            },
            "type": "scattergl"
           }
          ],
          "scattermapbox": [
           {
            "marker": {
             "colorbar": {
              "outlinewidth": 0,
              "ticks": ""
             }
            },
            "type": "scattermapbox"
           }
          ],
          "scatterpolar": [
           {
            "marker": {
             "colorbar": {
              "outlinewidth": 0,
              "ticks": ""
             }
            },
            "type": "scatterpolar"
           }
          ],
          "scatterpolargl": [
           {
            "marker": {
             "colorbar": {
              "outlinewidth": 0,
              "ticks": ""
             }
            },
            "type": "scatterpolargl"
           }
          ],
          "scatterternary": [
           {
            "marker": {
             "colorbar": {
              "outlinewidth": 0,
              "ticks": ""
             }
            },
            "type": "scatterternary"
           }
          ],
          "surface": [
           {
            "colorbar": {
             "outlinewidth": 0,
             "ticks": ""
            },
            "colorscale": [
             [
              0,
              "#0d0887"
             ],
             [
              0.1111111111111111,
              "#46039f"
             ],
             [
              0.2222222222222222,
              "#7201a8"
             ],
             [
              0.3333333333333333,
              "#9c179e"
             ],
             [
              0.4444444444444444,
              "#bd3786"
             ],
             [
              0.5555555555555556,
              "#d8576b"
             ],
             [
              0.6666666666666666,
              "#ed7953"
             ],
             [
              0.7777777777777778,
              "#fb9f3a"
             ],
             [
              0.8888888888888888,
              "#fdca26"
             ],
             [
              1,
              "#f0f921"
             ]
            ],
            "type": "surface"
           }
          ],
          "table": [
           {
            "cells": {
             "fill": {
              "color": "#EBF0F8"
             },
             "line": {
              "color": "white"
             }
            },
            "header": {
             "fill": {
              "color": "#C8D4E3"
             },
             "line": {
              "color": "white"
             }
            },
            "type": "table"
           }
          ]
         },
         "layout": {
          "annotationdefaults": {
           "arrowcolor": "#2a3f5f",
           "arrowhead": 0,
           "arrowwidth": 1
          },
          "autotypenumbers": "strict",
          "coloraxis": {
           "colorbar": {
            "outlinewidth": 0,
            "ticks": ""
           }
          },
          "colorscale": {
           "diverging": [
            [
             0,
             "#8e0152"
            ],
            [
             0.1,
             "#c51b7d"
            ],
            [
             0.2,
             "#de77ae"
            ],
            [
             0.3,
             "#f1b6da"
            ],
            [
             0.4,
             "#fde0ef"
            ],
            [
             0.5,
             "#f7f7f7"
            ],
            [
             0.6,
             "#e6f5d0"
            ],
            [
             0.7,
             "#b8e186"
            ],
            [
             0.8,
             "#7fbc41"
            ],
            [
             0.9,
             "#4d9221"
            ],
            [
             1,
             "#276419"
            ]
           ],
           "sequential": [
            [
             0,
             "#0d0887"
            ],
            [
             0.1111111111111111,
             "#46039f"
            ],
            [
             0.2222222222222222,
             "#7201a8"
            ],
            [
             0.3333333333333333,
             "#9c179e"
            ],
            [
             0.4444444444444444,
             "#bd3786"
            ],
            [
             0.5555555555555556,
             "#d8576b"
            ],
            [
             0.6666666666666666,
             "#ed7953"
            ],
            [
             0.7777777777777778,
             "#fb9f3a"
            ],
            [
             0.8888888888888888,
             "#fdca26"
            ],
            [
             1,
             "#f0f921"
            ]
           ],
           "sequentialminus": [
            [
             0,
             "#0d0887"
            ],
            [
             0.1111111111111111,
             "#46039f"
            ],
            [
             0.2222222222222222,
             "#7201a8"
            ],
            [
             0.3333333333333333,
             "#9c179e"
            ],
            [
             0.4444444444444444,
             "#bd3786"
            ],
            [
             0.5555555555555556,
             "#d8576b"
            ],
            [
             0.6666666666666666,
             "#ed7953"
            ],
            [
             0.7777777777777778,
             "#fb9f3a"
            ],
            [
             0.8888888888888888,
             "#fdca26"
            ],
            [
             1,
             "#f0f921"
            ]
           ]
          },
          "colorway": [
           "#636efa",
           "#EF553B",
           "#00cc96",
           "#ab63fa",
           "#FFA15A",
           "#19d3f3",
           "#FF6692",
           "#B6E880",
           "#FF97FF",
           "#FECB52"
          ],
          "font": {
           "color": "#2a3f5f"
          },
          "geo": {
           "bgcolor": "white",
           "lakecolor": "white",
           "landcolor": "#E5ECF6",
           "showlakes": true,
           "showland": true,
           "subunitcolor": "white"
          },
          "hoverlabel": {
           "align": "left"
          },
          "hovermode": "closest",
          "mapbox": {
           "style": "light"
          },
          "paper_bgcolor": "white",
          "plot_bgcolor": "#E5ECF6",
          "polar": {
           "angularaxis": {
            "gridcolor": "white",
            "linecolor": "white",
            "ticks": ""
           },
           "bgcolor": "#E5ECF6",
           "radialaxis": {
            "gridcolor": "white",
            "linecolor": "white",
            "ticks": ""
           }
          },
          "scene": {
           "xaxis": {
            "backgroundcolor": "#E5ECF6",
            "gridcolor": "white",
            "gridwidth": 2,
            "linecolor": "white",
            "showbackground": true,
            "ticks": "",
            "zerolinecolor": "white"
           },
           "yaxis": {
            "backgroundcolor": "#E5ECF6",
            "gridcolor": "white",
            "gridwidth": 2,
            "linecolor": "white",
            "showbackground": true,
            "ticks": "",
            "zerolinecolor": "white"
           },
           "zaxis": {
            "backgroundcolor": "#E5ECF6",
            "gridcolor": "white",
            "gridwidth": 2,
            "linecolor": "white",
            "showbackground": true,
            "ticks": "",
            "zerolinecolor": "white"
           }
          },
          "shapedefaults": {
           "line": {
            "color": "#2a3f5f"
           }
          },
          "ternary": {
           "aaxis": {
            "gridcolor": "white",
            "linecolor": "white",
            "ticks": ""
           },
           "baxis": {
            "gridcolor": "white",
            "linecolor": "white",
            "ticks": ""
           },
           "bgcolor": "#E5ECF6",
           "caxis": {
            "gridcolor": "white",
            "linecolor": "white",
            "ticks": ""
           }
          },
          "title": {
           "x": 0.05
          },
          "xaxis": {
           "automargin": true,
           "gridcolor": "white",
           "linecolor": "white",
           "ticks": "",
           "title": {
            "standoff": 15
           },
           "zerolinecolor": "white",
           "zerolinewidth": 2
          },
          "yaxis": {
           "automargin": true,
           "gridcolor": "white",
           "linecolor": "white",
           "ticks": "",
           "title": {
            "standoff": 15
           },
           "zerolinecolor": "white",
           "zerolinewidth": 2
          }
         }
        },
        "width": 960,
        "xaxis": {
         "anchor": "y",
         "domain": [
          0,
          1
         ],
         "title": {
          "text": "transaction_time"
         }
        },
        "yaxis": {
         "anchor": "x",
         "domain": [
          0,
          1
         ],
         "title": {
          "text": "amount(usd)"
         }
        }
       }
      }
     },
     "metadata": {},
     "output_type": "display_data"
    }
   ],
   "source": [
    "df_ = df_train.groupby(by=[pd.Grouper(key=\"transaction_time\", freq=\"1M\"),\n",
    "                           'is_fraud','category']).agg({\"amount(usd)\":'sum',\"transaction_id\":\"count\"}).reset_index()\n",
    "fig = px.area(\n",
    "    df_[df_.is_fraud==1],\n",
    "    x='transaction_time',\n",
    "    y='amount(usd)',\n",
    "    color='category',\n",
    "    color_discrete_sequence=px.colors.qualitative.Dark24\n",
    ")\n",
    "\n",
    "fig.update_layout(height=600,\n",
    "                  width=960,\n",
    "                  legend=dict(title='Type of business'),\n",
    "                  plot_bgcolor='#fafafa'\n",
    "                 )\n",
    "fig.show();"
   ]
  },
  {
   "cell_type": "code",
   "execution_count": 26,
   "metadata": {},
   "outputs": [
    {
     "data": {
      "application/vnd.plotly.v1+json": {
       "config": {
        "plotlyServerURL": "https://plot.ly"
       },
       "data": [
        {
         "hovertemplate": "is_fraud=0<br>merchant=fraud_Kilback LLC<br>transaction_time=%{x}<br>amount(usd)=%{y}<extra></extra>",
         "legendgroup": "0",
         "marker": {
          "color": "#D93C1D",
          "symbol": "circle"
         },
         "mode": "markers",
         "name": "0",
         "showlegend": true,
         "type": "scattergl",
         "x": [
          "2019-01-06T00:00:00",
          "2019-01-13T00:00:00",
          "2019-01-20T00:00:00",
          "2019-01-27T00:00:00",
          "2019-02-03T00:00:00",
          "2019-02-10T00:00:00",
          "2019-02-17T00:00:00",
          "2019-02-24T00:00:00",
          "2019-03-03T00:00:00",
          "2019-03-10T00:00:00",
          "2019-03-17T00:00:00",
          "2019-03-24T00:00:00",
          "2019-03-31T00:00:00",
          "2019-04-07T00:00:00",
          "2019-04-14T00:00:00",
          "2019-04-21T00:00:00",
          "2019-04-28T00:00:00",
          "2019-05-05T00:00:00",
          "2019-05-12T00:00:00",
          "2019-05-19T00:00:00",
          "2019-05-26T00:00:00",
          "2019-06-02T00:00:00",
          "2019-06-09T00:00:00",
          "2019-06-16T00:00:00",
          "2019-06-23T00:00:00",
          "2019-06-30T00:00:00",
          "2019-07-07T00:00:00",
          "2019-07-14T00:00:00",
          "2019-07-21T00:00:00",
          "2019-07-28T00:00:00",
          "2019-08-04T00:00:00",
          "2019-08-11T00:00:00",
          "2019-08-18T00:00:00",
          "2019-08-25T00:00:00",
          "2019-09-01T00:00:00",
          "2019-09-08T00:00:00",
          "2019-09-15T00:00:00",
          "2019-09-22T00:00:00",
          "2019-09-29T00:00:00",
          "2019-10-06T00:00:00",
          "2019-10-13T00:00:00",
          "2019-10-20T00:00:00",
          "2019-10-27T00:00:00",
          "2019-11-03T00:00:00",
          "2019-11-10T00:00:00",
          "2019-11-17T00:00:00",
          "2019-11-24T00:00:00",
          "2019-12-01T00:00:00",
          "2019-12-08T00:00:00",
          "2019-12-15T00:00:00",
          "2019-12-22T00:00:00",
          "2019-12-29T00:00:00",
          "2020-01-05T00:00:00",
          "2020-01-12T00:00:00",
          "2020-01-19T00:00:00",
          "2020-01-26T00:00:00",
          "2020-02-02T00:00:00",
          "2020-02-09T00:00:00",
          "2020-02-16T00:00:00",
          "2020-02-23T00:00:00",
          "2020-03-01T00:00:00",
          "2020-03-08T00:00:00",
          "2020-03-15T00:00:00",
          "2020-03-22T00:00:00",
          "2020-03-29T00:00:00",
          "2020-04-05T00:00:00",
          "2020-04-12T00:00:00",
          "2020-04-19T00:00:00",
          "2020-04-26T00:00:00",
          "2020-05-03T00:00:00",
          "2020-05-10T00:00:00",
          "2020-05-17T00:00:00",
          "2020-05-24T00:00:00",
          "2020-05-31T00:00:00",
          "2020-06-07T00:00:00",
          "2020-06-14T00:00:00",
          "2020-06-21T00:00:00",
          "2020-06-28T00:00:00",
          "2020-07-05T00:00:00",
          "2020-07-12T00:00:00",
          "2020-07-19T00:00:00",
          "2020-07-26T00:00:00",
          "2020-08-02T00:00:00",
          "2020-08-09T00:00:00",
          "2020-08-16T00:00:00",
          "2020-08-23T00:00:00",
          "2020-08-30T00:00:00",
          "2020-09-06T00:00:00",
          "2020-09-13T00:00:00",
          "2020-09-20T00:00:00",
          "2020-09-27T00:00:00",
          "2020-10-04T00:00:00",
          "2020-10-11T00:00:00",
          "2020-10-18T00:00:00",
          "2020-10-25T00:00:00",
          "2020-11-01T00:00:00",
          "2020-11-08T00:00:00",
          "2020-11-15T00:00:00",
          "2020-11-22T00:00:00",
          "2020-11-29T00:00:00",
          "2020-12-06T00:00:00",
          "2020-12-13T00:00:00",
          "2020-12-20T00:00:00",
          "2020-12-27T00:00:00",
          "2021-01-03T00:00:00"
         ],
         "xaxis": "x10",
         "y": [
          80.855,
          84.45882352941176,
          86.91730769230769,
          87.59071428571428,
          81.29458333333334,
          75.41416666666666,
          88.31692307692308,
          99.5171875,
          68.37177777777778,
          84.62977777777778,
          82.53877551020409,
          81.2718918918919,
          76.33645833333334,
          84.42150000000001,
          84.59227272727273,
          87.5591891891892,
          89.30428571428571,
          88.08936170212766,
          76.1525,
          91.05285714285714,
          82.17560975609756,
          102.73347826086956,
          97.93636363636364,
          94.31038461538462,
          78.27088888888889,
          71.34574468085107,
          78.66680000000001,
          83.83030303030303,
          97.11603448275861,
          91.63095238095238,
          82.4503448275862,
          86.61098039215686,
          93.9757627118644,
          85.2932786885246,
          83.15826923076922,
          76.17322580645161,
          84.92121212121212,
          81.49425531914893,
          98.43510638297872,
          96.33142857142857,
          86.79230769230769,
          70.8490243902439,
          94.08702702702702,
          92.38681818181819,
          83.91829268292683,
          86.79586956521739,
          81.19757575757576,
          89.94999999999999,
          94.11872340425532,
          83.87761904761905,
          89.51951219512196,
          83.44696629213483,
          102.03888888888889,
          85.89391304347826,
          84.54714285714286,
          83.75473684210526,
          85.21586206896552,
          81.35548387096775,
          90.72818181818182,
          97.18648648648649,
          79.27333333333334,
          93.7228,
          82.58583333333333,
          83.85304347826086,
          83.61054545454546,
          95.5755,
          82.01673913043479,
          84.05,
          83.61853658536586,
          83.55827586206897,
          81.8,
          86.42,
          78.51466666666667,
          86.56021276595744,
          92.42661016949152,
          78.38985714285714,
          85.28500000000001,
          74.51386363636364,
          83.19877551020407,
          80.28224137931035,
          100.61931034482758,
          76.83814814814815,
          101.75466666666667,
          81.21377358490565,
          85.80568627450981,
          82.75419354838711,
          80.38550000000001,
          84.21078947368422,
          93.41596153846154,
          91.0695,
          81.59131578947368,
          85.45153846153846,
          94.12200000000001,
          79.6828947368421,
          86.81179487179487,
          87.90891304347826,
          71.98076923076923,
          91.1565306122449,
          82.06853658536585,
          93.75918918918919,
          78.03204545454545,
          79.08545454545454,
          106.642625,
          87.99988235294117,
          109.93414634146342
         ],
         "yaxis": "y10"
        },
        {
         "hovertemplate": "is_fraud=0<br>merchant=fraud_Cormier LLC<br>transaction_time=%{x}<br>amount(usd)=%{y}<extra></extra>",
         "legendgroup": "0",
         "marker": {
          "color": "#D93C1D",
          "symbol": "circle"
         },
         "mode": "markers",
         "name": "0",
         "showlegend": false,
         "type": "scattergl",
         "x": [
          "2019-01-06T00:00:00",
          "2019-01-13T00:00:00",
          "2019-01-20T00:00:00",
          "2019-01-27T00:00:00",
          "2019-02-03T00:00:00",
          "2019-02-10T00:00:00",
          "2019-02-17T00:00:00",
          "2019-02-24T00:00:00",
          "2019-03-03T00:00:00",
          "2019-03-10T00:00:00",
          "2019-03-17T00:00:00",
          "2019-03-24T00:00:00",
          "2019-03-31T00:00:00",
          "2019-04-07T00:00:00",
          "2019-04-14T00:00:00",
          "2019-04-21T00:00:00",
          "2019-04-28T00:00:00",
          "2019-05-05T00:00:00",
          "2019-05-12T00:00:00",
          "2019-05-19T00:00:00",
          "2019-05-26T00:00:00",
          "2019-06-02T00:00:00",
          "2019-06-09T00:00:00",
          "2019-06-16T00:00:00",
          "2019-06-23T00:00:00",
          "2019-06-30T00:00:00",
          "2019-07-07T00:00:00",
          "2019-07-14T00:00:00",
          "2019-07-21T00:00:00",
          "2019-07-28T00:00:00",
          "2019-08-04T00:00:00",
          "2019-08-11T00:00:00",
          "2019-08-18T00:00:00",
          "2019-08-25T00:00:00",
          "2019-09-01T00:00:00",
          "2019-09-08T00:00:00",
          "2019-09-15T00:00:00",
          "2019-09-22T00:00:00",
          "2019-09-29T00:00:00",
          "2019-10-06T00:00:00",
          "2019-10-13T00:00:00",
          "2019-10-20T00:00:00",
          "2019-10-27T00:00:00",
          "2019-11-03T00:00:00",
          "2019-11-10T00:00:00",
          "2019-11-17T00:00:00",
          "2019-11-24T00:00:00",
          "2019-12-01T00:00:00",
          "2019-12-08T00:00:00",
          "2019-12-15T00:00:00",
          "2019-12-22T00:00:00",
          "2019-12-29T00:00:00",
          "2020-01-05T00:00:00",
          "2020-01-12T00:00:00",
          "2020-01-19T00:00:00",
          "2020-01-26T00:00:00",
          "2020-02-02T00:00:00",
          "2020-02-09T00:00:00",
          "2020-02-16T00:00:00",
          "2020-02-23T00:00:00",
          "2020-03-01T00:00:00",
          "2020-03-08T00:00:00",
          "2020-03-15T00:00:00",
          "2020-03-22T00:00:00",
          "2020-03-29T00:00:00",
          "2020-04-05T00:00:00",
          "2020-04-12T00:00:00",
          "2020-04-19T00:00:00",
          "2020-04-26T00:00:00",
          "2020-05-03T00:00:00",
          "2020-05-10T00:00:00",
          "2020-05-17T00:00:00",
          "2020-05-24T00:00:00",
          "2020-05-31T00:00:00",
          "2020-06-07T00:00:00",
          "2020-06-14T00:00:00",
          "2020-06-21T00:00:00",
          "2020-06-28T00:00:00",
          "2020-07-05T00:00:00",
          "2020-07-12T00:00:00",
          "2020-07-19T00:00:00",
          "2020-07-26T00:00:00",
          "2020-08-02T00:00:00",
          "2020-08-09T00:00:00",
          "2020-08-16T00:00:00",
          "2020-08-23T00:00:00",
          "2020-08-30T00:00:00",
          "2020-09-06T00:00:00",
          "2020-09-13T00:00:00",
          "2020-09-20T00:00:00",
          "2020-09-27T00:00:00",
          "2020-10-04T00:00:00",
          "2020-10-11T00:00:00",
          "2020-10-18T00:00:00",
          "2020-10-25T00:00:00",
          "2020-11-01T00:00:00",
          "2020-11-08T00:00:00",
          "2020-11-15T00:00:00",
          "2020-11-22T00:00:00",
          "2020-11-29T00:00:00",
          "2020-12-06T00:00:00",
          "2020-12-13T00:00:00",
          "2020-12-20T00:00:00",
          "2020-12-27T00:00:00",
          "2021-01-03T00:00:00"
         ],
         "xaxis": "x11",
         "y": [
          71.87217391304348,
          84.25666666666666,
          72.9184375,
          53.29032258064516,
          45.25473684210527,
          38.73684210526316,
          50.290909090909096,
          51.184347826086956,
          130.97447368421052,
          32.66060606060606,
          83.87541666666667,
          49.57208333333333,
          60.19738095238095,
          34.595555555555556,
          55.516,
          43.18685714285714,
          63.836216216216215,
          57.65241379310345,
          46.06861111111111,
          68.57475000000001,
          78.51571428571428,
          42.15538461538461,
          57.105714285714285,
          73.27282051282052,
          35.90654545454545,
          69.79555555555557,
          85.44000000000001,
          67.91363636363636,
          68.93083333333333,
          59.90057692307692,
          52.36068181818182,
          122.78033333333333,
          41.156363636363636,
          62.582666666666675,
          59.3285,
          53.235789473684214,
          56.6375,
          62.95441176470589,
          52.97142857142857,
          51.416862745098044,
          67.86225806451613,
          69.806,
          63.09282051282051,
          72.72463414634146,
          71.205,
          117.73848484848486,
          54.62148148148148,
          55.30385964912281,
          74.22150684931506,
          59.57753846153846,
          64.61913043478262,
          66.81716417910448,
          37.919444444444444,
          47.837916666666665,
          32.18083333333333,
          44.90636363636363,
          39.62695652173913,
          49.41285714285714,
          51.31689655172414,
          82.49241379310345,
          64.24714285714286,
          36.61348837209302,
          94.0344,
          99.0178125,
          40.97657142857143,
          88.68884615384614,
          61.12057142857144,
          69.1462962962963,
          44.99444444444444,
          72.89750000000001,
          45.53638888888889,
          30.756410256410255,
          59.981162790697674,
          56.76146341463414,
          48.84655172413793,
          58.417692307692306,
          49.24444444444445,
          43.85326923076923,
          66.90428571428572,
          66.87340909090909,
          47.93851063829788,
          46.18604651162791,
          79.8470731707317,
          58.61571428571429,
          51.7825641025641,
          42.921800000000005,
          44.12396226415095,
          38.43193548387097,
          34.63787878787878,
          75.29025641025642,
          38.43404761904762,
          86.12545454545455,
          42.176829268292686,
          51.81304347826087,
          30.182499999999997,
          88.39340909090909,
          40.66275862068966,
          47.32666666666667,
          73.24236842105263,
          36.22447368421052,
          58.88582278481013,
          71.34573333333334,
          43.05833333333333,
          51.03295774647888,
          48.493953488372085
         ],
         "yaxis": "y11"
        },
        {
         "hovertemplate": "is_fraud=0<br>merchant=fraud_Schumm PLC<br>transaction_time=%{x}<br>amount(usd)=%{y}<extra></extra>",
         "legendgroup": "0",
         "marker": {
          "color": "#D93C1D",
          "symbol": "circle"
         },
         "mode": "markers",
         "name": "0",
         "showlegend": false,
         "type": "scattergl",
         "x": [
          "2019-01-06T00:00:00",
          "2019-01-13T00:00:00",
          "2019-01-20T00:00:00",
          "2019-01-27T00:00:00",
          "2019-02-03T00:00:00",
          "2019-02-10T00:00:00",
          "2019-02-17T00:00:00",
          "2019-02-24T00:00:00",
          "2019-03-03T00:00:00",
          "2019-03-10T00:00:00",
          "2019-03-17T00:00:00",
          "2019-03-24T00:00:00",
          "2019-03-31T00:00:00",
          "2019-04-07T00:00:00",
          "2019-04-14T00:00:00",
          "2019-04-21T00:00:00",
          "2019-04-28T00:00:00",
          "2019-05-05T00:00:00",
          "2019-05-12T00:00:00",
          "2019-05-19T00:00:00",
          "2019-05-26T00:00:00",
          "2019-06-02T00:00:00",
          "2019-06-09T00:00:00",
          "2019-06-16T00:00:00",
          "2019-06-23T00:00:00",
          "2019-06-30T00:00:00",
          "2019-07-07T00:00:00",
          "2019-07-14T00:00:00",
          "2019-07-21T00:00:00",
          "2019-07-28T00:00:00",
          "2019-08-04T00:00:00",
          "2019-08-11T00:00:00",
          "2019-08-18T00:00:00",
          "2019-08-25T00:00:00",
          "2019-09-01T00:00:00",
          "2019-09-08T00:00:00",
          "2019-09-15T00:00:00",
          "2019-09-22T00:00:00",
          "2019-09-29T00:00:00",
          "2019-10-06T00:00:00",
          "2019-10-13T00:00:00",
          "2019-10-20T00:00:00",
          "2019-10-27T00:00:00",
          "2019-11-03T00:00:00",
          "2019-11-10T00:00:00",
          "2019-11-17T00:00:00",
          "2019-11-24T00:00:00",
          "2019-12-01T00:00:00",
          "2019-12-08T00:00:00",
          "2019-12-15T00:00:00",
          "2019-12-22T00:00:00",
          "2019-12-29T00:00:00",
          "2020-01-05T00:00:00",
          "2020-01-12T00:00:00",
          "2020-01-19T00:00:00",
          "2020-01-26T00:00:00",
          "2020-02-02T00:00:00",
          "2020-02-09T00:00:00",
          "2020-02-16T00:00:00",
          "2020-02-23T00:00:00",
          "2020-03-01T00:00:00",
          "2020-03-08T00:00:00",
          "2020-03-15T00:00:00",
          "2020-03-22T00:00:00",
          "2020-03-29T00:00:00",
          "2020-04-05T00:00:00",
          "2020-04-12T00:00:00",
          "2020-04-19T00:00:00",
          "2020-04-26T00:00:00",
          "2020-05-03T00:00:00",
          "2020-05-10T00:00:00",
          "2020-05-17T00:00:00",
          "2020-05-24T00:00:00",
          "2020-05-31T00:00:00",
          "2020-06-07T00:00:00",
          "2020-06-14T00:00:00",
          "2020-06-21T00:00:00",
          "2020-06-28T00:00:00",
          "2020-07-05T00:00:00",
          "2020-07-12T00:00:00",
          "2020-07-19T00:00:00",
          "2020-07-26T00:00:00",
          "2020-08-02T00:00:00",
          "2020-08-09T00:00:00",
          "2020-08-16T00:00:00",
          "2020-08-23T00:00:00",
          "2020-08-30T00:00:00",
          "2020-09-06T00:00:00",
          "2020-09-13T00:00:00",
          "2020-09-20T00:00:00",
          "2020-09-27T00:00:00",
          "2020-10-04T00:00:00",
          "2020-10-11T00:00:00",
          "2020-10-18T00:00:00",
          "2020-10-25T00:00:00",
          "2020-11-01T00:00:00",
          "2020-11-08T00:00:00",
          "2020-11-15T00:00:00",
          "2020-11-22T00:00:00",
          "2020-11-29T00:00:00",
          "2020-12-06T00:00:00",
          "2020-12-13T00:00:00",
          "2020-12-20T00:00:00",
          "2020-12-27T00:00:00",
          "2021-01-03T00:00:00"
         ],
         "xaxis": "x12",
         "y": [
          100.23133333333332,
          74.1504347826087,
          36.78181818181818,
          38.95466666666667,
          66.39375,
          52.47159090909091,
          97.33999999999999,
          110.23966666666666,
          47.152325581395345,
          60.993,
          36.0880487804878,
          55.614871794871796,
          62.16272727272727,
          74.41780487804878,
          52.96678571428571,
          45.24333333333333,
          59.236969696969695,
          34.820689655172416,
          52.471282051282046,
          39.61386363636364,
          43.816315789473684,
          48.769999999999996,
          44.6492,
          57.49684210526316,
          69.2363888888889,
          58.145357142857144,
          83.81755102040815,
          56.48682926829268,
          58.79294117647059,
          58.872926829268295,
          60.13054545454545,
          50.00760869565217,
          67.28309523809523,
          50.50918367346939,
          53.455,
          101.42511111111111,
          74.82121212121211,
          34.93578947368421,
          50.422285714285714,
          44.58387096774193,
          79.91511627906976,
          72.49088235294118,
          92.20212121212121,
          54.312272727272735,
          63.6680487804878,
          31.601071428571426,
          45.204750000000004,
          56.74148936170213,
          108.30597014925372,
          71.99948717948718,
          56.79527777777778,
          58.08098591549296,
          84.42025,
          49.657878787878786,
          43.38291666666667,
          82.71642857142857,
          56.26357142857143,
          66.45793103448275,
          124.54826086956523,
          46.60375,
          69.18440000000001,
          73.73813953488371,
          39.2025,
          45.285625,
          50.62155555555555,
          63.94435897435897,
          62.02548387096774,
          45.28111111111111,
          94.48214285714286,
          90.30022222222222,
          111.8628125,
          66.3148717948718,
          60.012307692307694,
          51.24857142857143,
          70.68975609756097,
          67.02391304347826,
          61.12073170731707,
          73.74387096774193,
          98.02,
          112.2493023255814,
          50.849,
          37.70543859649123,
          53.50488372093023,
          72.993125,
          95.83933333333333,
          69.99075,
          52.21933333333333,
          46.25666666666667,
          39.74666666666667,
          40.58923076923077,
          87.49142857142859,
          95.64961538461537,
          61.60756756756757,
          95.01057142857142,
          30.117777777777775,
          78.02324324324324,
          37.83886363636364,
          54.67666666666667,
          72.16978723404256,
          78.88250000000001,
          76.31734374999999,
          79.30354430379747,
          61.131410256410255,
          69.48515625,
          56.97853658536585
         ],
         "yaxis": "y12"
        },
        {
         "hovertemplate": "is_fraud=0<br>merchant=fraud_Kuhn LLC<br>transaction_time=%{x}<br>amount(usd)=%{y}<extra></extra>",
         "legendgroup": "0",
         "marker": {
          "color": "#D93C1D",
          "symbol": "circle"
         },
         "mode": "markers",
         "name": "0",
         "showlegend": false,
         "type": "scattergl",
         "x": [
          "2019-01-06T00:00:00",
          "2019-01-13T00:00:00",
          "2019-01-20T00:00:00",
          "2019-01-27T00:00:00",
          "2019-02-03T00:00:00",
          "2019-02-10T00:00:00",
          "2019-02-17T00:00:00",
          "2019-02-24T00:00:00",
          "2019-03-03T00:00:00",
          "2019-03-10T00:00:00",
          "2019-03-17T00:00:00",
          "2019-03-24T00:00:00",
          "2019-03-31T00:00:00",
          "2019-04-07T00:00:00",
          "2019-04-14T00:00:00",
          "2019-04-21T00:00:00",
          "2019-04-28T00:00:00",
          "2019-05-05T00:00:00",
          "2019-05-12T00:00:00",
          "2019-05-19T00:00:00",
          "2019-05-26T00:00:00",
          "2019-06-02T00:00:00",
          "2019-06-09T00:00:00",
          "2019-06-16T00:00:00",
          "2019-06-23T00:00:00",
          "2019-06-30T00:00:00",
          "2019-07-07T00:00:00",
          "2019-07-14T00:00:00",
          "2019-07-21T00:00:00",
          "2019-07-28T00:00:00",
          "2019-08-04T00:00:00",
          "2019-08-11T00:00:00",
          "2019-08-18T00:00:00",
          "2019-08-25T00:00:00",
          "2019-09-01T00:00:00",
          "2019-09-08T00:00:00",
          "2019-09-15T00:00:00",
          "2019-09-22T00:00:00",
          "2019-09-29T00:00:00",
          "2019-10-06T00:00:00",
          "2019-10-13T00:00:00",
          "2019-10-20T00:00:00",
          "2019-10-27T00:00:00",
          "2019-11-03T00:00:00",
          "2019-11-10T00:00:00",
          "2019-11-17T00:00:00",
          "2019-11-24T00:00:00",
          "2019-12-01T00:00:00",
          "2019-12-08T00:00:00",
          "2019-12-15T00:00:00",
          "2019-12-22T00:00:00",
          "2019-12-29T00:00:00",
          "2020-01-05T00:00:00",
          "2020-01-12T00:00:00",
          "2020-01-19T00:00:00",
          "2020-01-26T00:00:00",
          "2020-02-02T00:00:00",
          "2020-02-09T00:00:00",
          "2020-02-16T00:00:00",
          "2020-02-23T00:00:00",
          "2020-03-01T00:00:00",
          "2020-03-08T00:00:00",
          "2020-03-15T00:00:00",
          "2020-03-22T00:00:00",
          "2020-03-29T00:00:00",
          "2020-04-05T00:00:00",
          "2020-04-12T00:00:00",
          "2020-04-19T00:00:00",
          "2020-04-26T00:00:00",
          "2020-05-03T00:00:00",
          "2020-05-10T00:00:00",
          "2020-05-17T00:00:00",
          "2020-05-24T00:00:00",
          "2020-05-31T00:00:00",
          "2020-06-07T00:00:00",
          "2020-06-14T00:00:00",
          "2020-06-21T00:00:00",
          "2020-06-28T00:00:00",
          "2020-07-05T00:00:00",
          "2020-07-12T00:00:00",
          "2020-07-19T00:00:00",
          "2020-07-26T00:00:00",
          "2020-08-02T00:00:00",
          "2020-08-09T00:00:00",
          "2020-08-16T00:00:00",
          "2020-08-23T00:00:00",
          "2020-08-30T00:00:00",
          "2020-09-06T00:00:00",
          "2020-09-13T00:00:00",
          "2020-09-20T00:00:00",
          "2020-09-27T00:00:00",
          "2020-10-04T00:00:00",
          "2020-10-11T00:00:00",
          "2020-10-18T00:00:00",
          "2020-10-25T00:00:00",
          "2020-11-01T00:00:00",
          "2020-11-08T00:00:00",
          "2020-11-15T00:00:00",
          "2020-11-22T00:00:00",
          "2020-11-29T00:00:00",
          "2020-12-06T00:00:00",
          "2020-12-13T00:00:00",
          "2020-12-20T00:00:00",
          "2020-12-27T00:00:00",
          "2021-01-03T00:00:00"
         ],
         "xaxis": "x7",
         "y": [
          63.24444444444445,
          72.45608695652174,
          68.6671875,
          75.01761904761904,
          103.81085714285715,
          46.355909090909094,
          67.06318181818182,
          75.86842105263158,
          46.82806451612903,
          41.650625,
          178.6609090909091,
          71.12806451612903,
          62.244642857142864,
          124.1730303030303,
          60.798965517241385,
          49.24758620689656,
          63.5753488372093,
          57.17625,
          33.39714285714286,
          78.2990243902439,
          75.86756756756756,
          57.497555555555564,
          75.66499999999999,
          63.22432432432433,
          70.63111111111111,
          85.544,
          53.25260869565217,
          126.08250000000001,
          58.315185185185186,
          52.79111111111111,
          50.6084375,
          44.75060606060606,
          42.7021052631579,
          39.78967741935484,
          45.485,
          59.25847826086956,
          35.345625,
          28.944375,
          55.836875,
          68.44428571428573,
          50.49285714285714,
          48.684666666666665,
          47.5653488372093,
          110.36595238095238,
          110.08235294117647,
          169.52045454545453,
          77.40878787878788,
          74.42652173913044,
          79.19788235294118,
          98.69138888888888,
          67.19945945945946,
          77.67379310344828,
          61.455,
          86.21636363636364,
          52.887241379310346,
          58.74242424242424,
          79.37966666666667,
          24.625454545454545,
          82.45862068965518,
          155.5796,
          146.22857142857143,
          67.03853658536585,
          34.36366666666667,
          101.0871875,
          143.83358974358976,
          131.34176470588235,
          51.09193548387096,
          174.77733333333336,
          50.22181818181818,
          56.31,
          77.04513513513514,
          61.343823529411765,
          45.99128205128205,
          38.875744680851064,
          47.7795,
          58.04048780487805,
          78.86611111111112,
          68.87166666666667,
          46.6075,
          27.51060606060606,
          49.85515151515152,
          47.64571428571429,
          92.24574468085106,
          87.38714285714286,
          45.39452830188679,
          55.39717391304348,
          75.40416666666667,
          70.8736842105263,
          29.945249999999998,
          58.714615384615385,
          68.99821428571428,
          113.77275862068964,
          38.255531914893616,
          56.766666666666666,
          80.92333333333333,
          79.53857142857143,
          47.60515151515152,
          58.84057142857143,
          75.32027777777778,
          56.207142857142856,
          60.867014925373134,
          70.97028985507247,
          66.68507936507936,
          58.70912280701754,
          82.15280000000001
         ],
         "yaxis": "y7"
        },
        {
         "hovertemplate": "is_fraud=0<br>merchant=fraud_Boyer PLC<br>transaction_time=%{x}<br>amount(usd)=%{y}<extra></extra>",
         "legendgroup": "0",
         "marker": {
          "color": "#D93C1D",
          "symbol": "circle"
         },
         "mode": "markers",
         "name": "0",
         "showlegend": false,
         "type": "scattergl",
         "x": [
          "2019-01-06T00:00:00",
          "2019-01-13T00:00:00",
          "2019-01-20T00:00:00",
          "2019-01-27T00:00:00",
          "2019-02-03T00:00:00",
          "2019-02-10T00:00:00",
          "2019-02-17T00:00:00",
          "2019-02-24T00:00:00",
          "2019-03-03T00:00:00",
          "2019-03-10T00:00:00",
          "2019-03-17T00:00:00",
          "2019-03-24T00:00:00",
          "2019-03-31T00:00:00",
          "2019-04-07T00:00:00",
          "2019-04-14T00:00:00",
          "2019-04-21T00:00:00",
          "2019-04-28T00:00:00",
          "2019-05-05T00:00:00",
          "2019-05-12T00:00:00",
          "2019-05-19T00:00:00",
          "2019-05-26T00:00:00",
          "2019-06-02T00:00:00",
          "2019-06-09T00:00:00",
          "2019-06-16T00:00:00",
          "2019-06-23T00:00:00",
          "2019-06-30T00:00:00",
          "2019-07-07T00:00:00",
          "2019-07-14T00:00:00",
          "2019-07-21T00:00:00",
          "2019-07-28T00:00:00",
          "2019-08-04T00:00:00",
          "2019-08-11T00:00:00",
          "2019-08-18T00:00:00",
          "2019-08-25T00:00:00",
          "2019-09-01T00:00:00",
          "2019-09-08T00:00:00",
          "2019-09-15T00:00:00",
          "2019-09-22T00:00:00",
          "2019-09-29T00:00:00",
          "2019-10-06T00:00:00",
          "2019-10-13T00:00:00",
          "2019-10-20T00:00:00",
          "2019-10-27T00:00:00",
          "2019-11-03T00:00:00",
          "2019-11-10T00:00:00",
          "2019-11-17T00:00:00",
          "2019-11-24T00:00:00",
          "2019-12-01T00:00:00",
          "2019-12-08T00:00:00",
          "2019-12-15T00:00:00",
          "2019-12-22T00:00:00",
          "2019-12-29T00:00:00",
          "2020-01-05T00:00:00",
          "2020-01-12T00:00:00",
          "2020-01-19T00:00:00",
          "2020-01-26T00:00:00",
          "2020-02-02T00:00:00",
          "2020-02-09T00:00:00",
          "2020-02-16T00:00:00",
          "2020-02-23T00:00:00",
          "2020-03-01T00:00:00",
          "2020-03-08T00:00:00",
          "2020-03-15T00:00:00",
          "2020-03-22T00:00:00",
          "2020-03-29T00:00:00",
          "2020-04-05T00:00:00",
          "2020-04-12T00:00:00",
          "2020-04-19T00:00:00",
          "2020-04-26T00:00:00",
          "2020-05-03T00:00:00",
          "2020-05-10T00:00:00",
          "2020-05-17T00:00:00",
          "2020-05-24T00:00:00",
          "2020-05-31T00:00:00",
          "2020-06-07T00:00:00",
          "2020-06-14T00:00:00",
          "2020-06-21T00:00:00",
          "2020-06-28T00:00:00",
          "2020-07-05T00:00:00",
          "2020-07-12T00:00:00",
          "2020-07-19T00:00:00",
          "2020-07-26T00:00:00",
          "2020-08-02T00:00:00",
          "2020-08-09T00:00:00",
          "2020-08-16T00:00:00",
          "2020-08-23T00:00:00",
          "2020-08-30T00:00:00",
          "2020-09-06T00:00:00",
          "2020-09-13T00:00:00",
          "2020-09-20T00:00:00",
          "2020-09-27T00:00:00",
          "2020-10-04T00:00:00",
          "2020-10-11T00:00:00",
          "2020-10-18T00:00:00",
          "2020-10-25T00:00:00",
          "2020-11-01T00:00:00",
          "2020-11-08T00:00:00",
          "2020-11-15T00:00:00",
          "2020-11-22T00:00:00",
          "2020-11-29T00:00:00",
          "2020-12-06T00:00:00",
          "2020-12-13T00:00:00",
          "2020-12-20T00:00:00",
          "2020-12-27T00:00:00",
          "2021-01-03T00:00:00"
         ],
         "xaxis": "x8",
         "y": [
          57.778888888888886,
          40.697419354838715,
          71.4718181818182,
          73.48774193548387,
          55.49333333333333,
          117.18518518518519,
          118.78555555555556,
          42.75444444444444,
          144.55694444444444,
          37.27815789473684,
          45.94814814814814,
          46.6075,
          40.721612903225804,
          49.28969696969697,
          62.21741935483871,
          68.88545454545454,
          35.18741935483871,
          66.72315789473684,
          97.10763157894738,
          54.52967741935484,
          77.4096875,
          82.11473684210526,
          46.023823529411764,
          94.76,
          67.10976744186047,
          61.203571428571436,
          83.72625,
          55.80275,
          133.89634146341464,
          56.07209302325581,
          88.23459999999999,
          51.521034482758616,
          37.138717948717954,
          47.573181818181816,
          47.4,
          192.99178571428573,
          80.8440625,
          41.02823529411765,
          68.17714285714285,
          85.04947368421053,
          62.888214285714284,
          60.075937499999995,
          67.32000000000001,
          47.04894736842105,
          39.27774193548387,
          57.74642857142857,
          62.05714285714286,
          48.30340425531915,
          89.95800000000001,
          84.55484375,
          72.29833333333333,
          74.43513157894736,
          72.62131578947368,
          78.56967741935485,
          45.426923076923075,
          24.34142857142857,
          42.25060606060606,
          75.47310344827585,
          46.033076923076926,
          27.52235294117647,
          87.99714285714286,
          34.513888888888886,
          90.27999999999999,
          104.5559090909091,
          72.05542857142858,
          60.41241379310345,
          41.03771428571429,
          46.847500000000004,
          64.20666666666666,
          105.2925,
          62.01692307692308,
          48.2751724137931,
          64.97131578947368,
          40.45909090909091,
          41.46511627906977,
          41.39102564102564,
          41.98960784313725,
          58.66675,
          78.74095238095238,
          65.61999999999999,
          80.46225000000001,
          90.25333333333333,
          50.59090909090909,
          29.09292682926829,
          87.52432432432433,
          119.82809523809523,
          47.67063829787234,
          94.91,
          83.13153846153847,
          47.91,
          49.7590625,
          64.70838709677419,
          86.3484375,
          45.10638888888889,
          30.265333333333334,
          58.13259259259259,
          98.07307692307693,
          36.33714285714286,
          54.34189189189189,
          87.01942857142856,
          83.92216666666667,
          121.77810126582277,
          54.15970149253731,
          52.39,
          55.4846875
         ],
         "yaxis": "y8"
        },
        {
         "hovertemplate": "is_fraud=0<br>merchant=fraud_Dickinson Ltd<br>transaction_time=%{x}<br>amount(usd)=%{y}<extra></extra>",
         "legendgroup": "0",
         "marker": {
          "color": "#D93C1D",
          "symbol": "circle"
         },
         "mode": "markers",
         "name": "0",
         "showlegend": false,
         "type": "scattergl",
         "x": [
          "2019-01-06T00:00:00",
          "2019-01-13T00:00:00",
          "2019-01-20T00:00:00",
          "2019-01-27T00:00:00",
          "2019-02-03T00:00:00",
          "2019-02-10T00:00:00",
          "2019-02-17T00:00:00",
          "2019-02-24T00:00:00",
          "2019-03-03T00:00:00",
          "2019-03-10T00:00:00",
          "2019-03-17T00:00:00",
          "2019-03-24T00:00:00",
          "2019-03-31T00:00:00",
          "2019-04-07T00:00:00",
          "2019-04-14T00:00:00",
          "2019-04-21T00:00:00",
          "2019-04-28T00:00:00",
          "2019-05-05T00:00:00",
          "2019-05-12T00:00:00",
          "2019-05-19T00:00:00",
          "2019-05-26T00:00:00",
          "2019-06-02T00:00:00",
          "2019-06-09T00:00:00",
          "2019-06-16T00:00:00",
          "2019-06-23T00:00:00",
          "2019-06-30T00:00:00",
          "2019-07-07T00:00:00",
          "2019-07-14T00:00:00",
          "2019-07-21T00:00:00",
          "2019-07-28T00:00:00",
          "2019-08-04T00:00:00",
          "2019-08-11T00:00:00",
          "2019-08-18T00:00:00",
          "2019-08-25T00:00:00",
          "2019-09-01T00:00:00",
          "2019-09-08T00:00:00",
          "2019-09-15T00:00:00",
          "2019-09-22T00:00:00",
          "2019-09-29T00:00:00",
          "2019-10-06T00:00:00",
          "2019-10-13T00:00:00",
          "2019-10-20T00:00:00",
          "2019-10-27T00:00:00",
          "2019-11-03T00:00:00",
          "2019-11-10T00:00:00",
          "2019-11-17T00:00:00",
          "2019-11-24T00:00:00",
          "2019-12-01T00:00:00",
          "2019-12-08T00:00:00",
          "2019-12-15T00:00:00",
          "2019-12-22T00:00:00",
          "2019-12-29T00:00:00",
          "2020-01-05T00:00:00",
          "2020-01-12T00:00:00",
          "2020-01-19T00:00:00",
          "2020-01-26T00:00:00",
          "2020-02-02T00:00:00",
          "2020-02-09T00:00:00",
          "2020-02-16T00:00:00",
          "2020-02-23T00:00:00",
          "2020-03-01T00:00:00",
          "2020-03-08T00:00:00",
          "2020-03-15T00:00:00",
          "2020-03-22T00:00:00",
          "2020-03-29T00:00:00",
          "2020-04-05T00:00:00",
          "2020-04-12T00:00:00",
          "2020-04-19T00:00:00",
          "2020-04-26T00:00:00",
          "2020-05-03T00:00:00",
          "2020-05-10T00:00:00",
          "2020-05-17T00:00:00",
          "2020-05-24T00:00:00",
          "2020-05-31T00:00:00",
          "2020-06-07T00:00:00",
          "2020-06-14T00:00:00",
          "2020-06-21T00:00:00",
          "2020-06-28T00:00:00",
          "2020-07-05T00:00:00",
          "2020-07-12T00:00:00",
          "2020-07-19T00:00:00",
          "2020-07-26T00:00:00",
          "2020-08-02T00:00:00",
          "2020-08-09T00:00:00",
          "2020-08-16T00:00:00",
          "2020-08-23T00:00:00",
          "2020-08-30T00:00:00",
          "2020-09-06T00:00:00",
          "2020-09-13T00:00:00",
          "2020-09-20T00:00:00",
          "2020-09-27T00:00:00",
          "2020-10-04T00:00:00",
          "2020-10-11T00:00:00",
          "2020-10-18T00:00:00",
          "2020-10-25T00:00:00",
          "2020-11-01T00:00:00",
          "2020-11-08T00:00:00",
          "2020-11-15T00:00:00",
          "2020-11-22T00:00:00",
          "2020-11-29T00:00:00",
          "2020-12-06T00:00:00",
          "2020-12-13T00:00:00",
          "2020-12-20T00:00:00",
          "2020-12-27T00:00:00",
          "2021-01-03T00:00:00"
         ],
         "xaxis": "x9",
         "y": [
          51.6268,
          80.94655172413792,
          56.895,
          60.09947368421052,
          52.20090909090909,
          84.25285714285714,
          55.68464285714286,
          42.93681818181818,
          63.1970588235294,
          87.07666666666667,
          43.5,
          59.46380952380952,
          68.834375,
          57.32545454545455,
          36.85228571428571,
          77.03516129032259,
          64.2790625,
          41.35769230769231,
          47.307804878048785,
          50.90962962962963,
          39.81857142857143,
          60.88609756097561,
          42.09936170212766,
          61.777058823529416,
          64.99888888888889,
          60.15513513513514,
          54.64102564102564,
          61.99232558139535,
          95.24176470588235,
          84.454375,
          36.1934375,
          40.276060606060604,
          45.56769230769231,
          41.87372549019608,
          38.928245614035085,
          59.474878048780496,
          51.2751724137931,
          54.343714285714285,
          73.79545454545455,
          30.664499999999997,
          43.458717948717954,
          33.36421052631579,
          63.657000000000004,
          54.290952380952376,
          34.208666666666666,
          40.24407407407407,
          55.395625,
          70.807,
          58.978333333333325,
          59.35106666666667,
          50.150877192982456,
          64.01403508771931,
          62.69388888888889,
          58.03967741935484,
          49.090476190476195,
          56.71896551724138,
          57.434999999999995,
          63.51275862068965,
          52.36846153846154,
          40.77172413793103,
          48.26615384615385,
          71.12864864864864,
          57.9637037037037,
          53.53184210526316,
          76.15567567567568,
          58.203125,
          64.55244444444445,
          76.92038461538462,
          57.04742857142857,
          62.35363636363636,
          33.803823529411765,
          63.27487804878049,
          41.664468085106385,
          86.02133333333333,
          89.02926829268293,
          43.66457142857143,
          53.86736842105263,
          41.276315789473685,
          71.09219512195122,
          61.27736842105263,
          58.2395,
          41.066274509803925,
          42.764545454545456,
          35.41787234042553,
          53.229166666666664,
          39.806326530612246,
          66.22581395348837,
          45.282,
          64.76021739130434,
          40.71,
          74.57142857142857,
          37.432702702702706,
          44.63243243243244,
          90.79962962962964,
          65.51466666666667,
          75.6463888888889,
          72.88545454545454,
          66.84425,
          62.538000000000004,
          47.64586206896552,
          69.77444444444444,
          59.326231884057975,
          69.46151898734178,
          69.49344827586206,
          60.76605263157895
         ],
         "yaxis": "y9"
        },
        {
         "hovertemplate": "is_fraud=0<br>merchant=fraud_Cummerata-Jones<br>transaction_time=%{x}<br>amount(usd)=%{y}<extra></extra>",
         "legendgroup": "0",
         "marker": {
          "color": "#D93C1D",
          "symbol": "circle"
         },
         "mode": "markers",
         "name": "0",
         "showlegend": false,
         "type": "scattergl",
         "x": [
          "2019-01-06T00:00:00",
          "2019-01-13T00:00:00",
          "2019-01-20T00:00:00",
          "2019-01-27T00:00:00",
          "2019-02-03T00:00:00",
          "2019-02-10T00:00:00",
          "2019-02-17T00:00:00",
          "2019-02-24T00:00:00",
          "2019-03-03T00:00:00",
          "2019-03-10T00:00:00",
          "2019-03-17T00:00:00",
          "2019-03-24T00:00:00",
          "2019-03-31T00:00:00",
          "2019-04-07T00:00:00",
          "2019-04-14T00:00:00",
          "2019-04-21T00:00:00",
          "2019-04-28T00:00:00",
          "2019-05-05T00:00:00",
          "2019-05-12T00:00:00",
          "2019-05-19T00:00:00",
          "2019-05-26T00:00:00",
          "2019-06-02T00:00:00",
          "2019-06-09T00:00:00",
          "2019-06-16T00:00:00",
          "2019-06-23T00:00:00",
          "2019-06-30T00:00:00",
          "2019-07-07T00:00:00",
          "2019-07-14T00:00:00",
          "2019-07-21T00:00:00",
          "2019-07-28T00:00:00",
          "2019-08-04T00:00:00",
          "2019-08-11T00:00:00",
          "2019-08-18T00:00:00",
          "2019-08-25T00:00:00",
          "2019-09-01T00:00:00",
          "2019-09-08T00:00:00",
          "2019-09-15T00:00:00",
          "2019-09-22T00:00:00",
          "2019-09-29T00:00:00",
          "2019-10-06T00:00:00",
          "2019-10-13T00:00:00",
          "2019-10-20T00:00:00",
          "2019-10-27T00:00:00",
          "2019-11-03T00:00:00",
          "2019-11-10T00:00:00",
          "2019-11-17T00:00:00",
          "2019-11-24T00:00:00",
          "2019-12-01T00:00:00",
          "2019-12-08T00:00:00",
          "2019-12-15T00:00:00",
          "2019-12-22T00:00:00",
          "2019-12-29T00:00:00",
          "2020-01-05T00:00:00",
          "2020-01-12T00:00:00",
          "2020-01-19T00:00:00",
          "2020-01-26T00:00:00",
          "2020-02-02T00:00:00",
          "2020-02-09T00:00:00",
          "2020-02-16T00:00:00",
          "2020-02-23T00:00:00",
          "2020-03-01T00:00:00",
          "2020-03-08T00:00:00",
          "2020-03-15T00:00:00",
          "2020-03-22T00:00:00",
          "2020-03-29T00:00:00",
          "2020-04-05T00:00:00",
          "2020-04-12T00:00:00",
          "2020-04-19T00:00:00",
          "2020-04-26T00:00:00",
          "2020-05-03T00:00:00",
          "2020-05-10T00:00:00",
          "2020-05-17T00:00:00",
          "2020-05-24T00:00:00",
          "2020-05-31T00:00:00",
          "2020-06-07T00:00:00",
          "2020-06-14T00:00:00",
          "2020-06-21T00:00:00",
          "2020-06-28T00:00:00",
          "2020-07-05T00:00:00",
          "2020-07-12T00:00:00",
          "2020-07-19T00:00:00",
          "2020-07-26T00:00:00",
          "2020-08-02T00:00:00",
          "2020-08-09T00:00:00",
          "2020-08-16T00:00:00",
          "2020-08-23T00:00:00",
          "2020-08-30T00:00:00",
          "2020-09-06T00:00:00",
          "2020-09-13T00:00:00",
          "2020-09-20T00:00:00",
          "2020-09-27T00:00:00",
          "2020-10-04T00:00:00",
          "2020-10-11T00:00:00",
          "2020-10-18T00:00:00",
          "2020-10-25T00:00:00",
          "2020-11-01T00:00:00",
          "2020-11-08T00:00:00",
          "2020-11-15T00:00:00",
          "2020-11-22T00:00:00",
          "2020-11-29T00:00:00",
          "2020-12-06T00:00:00",
          "2020-12-13T00:00:00",
          "2020-12-20T00:00:00",
          "2020-12-27T00:00:00",
          "2021-01-03T00:00:00"
         ],
         "xaxis": "x4",
         "y": [
          69.91882352941175,
          60.790476190476184,
          66.94444444444444,
          62.93578947368421,
          63.38882352941177,
          59.71764705882353,
          65.58800000000001,
          61.83560000000001,
          65.53461538461538,
          66.45772727272727,
          62.88230769230769,
          62.763235294117656,
          65.71055555555556,
          64.60448275862069,
          59.397600000000004,
          66.54777777777778,
          61.353199999999994,
          58.224999999999994,
          60.725151515151516,
          68.09222222222222,
          62.905,
          64.66916666666667,
          63.0865625,
          60.19576923076923,
          62.7011111111111,
          63.80428571428571,
          62.986666666666665,
          63.778666666666666,
          68.47314285714286,
          65.426875,
          58.90769230769231,
          62.252758620689654,
          63.521025641025645,
          62.435769230769225,
          65.10648648648649,
          62.36666666666666,
          65.8441935483871,
          64.49451612903225,
          67.40903225806451,
          68.60130434782609,
          62.79625,
          66.69,
          62.8014705882353,
          61.9725,
          65.92375,
          61.52625,
          68.65884615384616,
          67.35625,
          65.94541666666667,
          65.60425925925927,
          59.0155737704918,
          62.99796296296296,
          63.273999999999994,
          64.78666666666668,
          68.84913043478261,
          66.48545454545454,
          65.37615384615384,
          61.80894736842106,
          58.43666666666666,
          70.97263157894737,
          57.88157894736842,
          59.502916666666664,
          57.483809523809526,
          62.4696,
          65.77151515151515,
          61.31153846153846,
          70.03625,
          64.37128205128205,
          62.12612903225807,
          64.71166666666666,
          64.34,
          60.820689655172416,
          61.851724137931036,
          64.64947368421052,
          60.566562499999996,
          62.20625,
          61.9495,
          61.9972972972973,
          62.69615384615385,
          60.34085714285714,
          64.43276595744682,
          61.2875,
          65.724,
          65.6953125,
          58.626296296296296,
          62.79416666666666,
          64.61972972972973,
          65.59071428571428,
          60.99666666666667,
          59.49315789473684,
          61.38636363636363,
          62.44777777777777,
          65.53923076923077,
          65.00333333333333,
          62.026923076923076,
          60.33291666666667,
          65.77814814814815,
          68.23653846153846,
          59.71,
          66.83375,
          59.85860465116279,
          64.02092592592592,
          66.45387096774193,
          66.76049180327868,
          63.54151515151515
         ],
         "yaxis": "y4"
        },
        {
         "hovertemplate": "is_fraud=0<br>merchant=fraud_Stroman, Hudson and Erdman<br>transaction_time=%{x}<br>amount(usd)=%{y}<extra></extra>",
         "legendgroup": "0",
         "marker": {
          "color": "#D93C1D",
          "symbol": "circle"
         },
         "mode": "markers",
         "name": "0",
         "showlegend": false,
         "type": "scattergl",
         "x": [
          "2019-01-06T00:00:00",
          "2019-01-13T00:00:00",
          "2019-01-20T00:00:00",
          "2019-01-27T00:00:00",
          "2019-02-03T00:00:00",
          "2019-02-10T00:00:00",
          "2019-02-17T00:00:00",
          "2019-02-24T00:00:00",
          "2019-03-03T00:00:00",
          "2019-03-10T00:00:00",
          "2019-03-17T00:00:00",
          "2019-03-24T00:00:00",
          "2019-03-31T00:00:00",
          "2019-04-07T00:00:00",
          "2019-04-14T00:00:00",
          "2019-04-21T00:00:00",
          "2019-04-28T00:00:00",
          "2019-05-05T00:00:00",
          "2019-05-12T00:00:00",
          "2019-05-19T00:00:00",
          "2019-05-26T00:00:00",
          "2019-06-02T00:00:00",
          "2019-06-09T00:00:00",
          "2019-06-16T00:00:00",
          "2019-06-23T00:00:00",
          "2019-06-30T00:00:00",
          "2019-07-07T00:00:00",
          "2019-07-14T00:00:00",
          "2019-07-21T00:00:00",
          "2019-07-28T00:00:00",
          "2019-08-04T00:00:00",
          "2019-08-11T00:00:00",
          "2019-08-18T00:00:00",
          "2019-08-25T00:00:00",
          "2019-09-01T00:00:00",
          "2019-09-08T00:00:00",
          "2019-09-15T00:00:00",
          "2019-09-22T00:00:00",
          "2019-09-29T00:00:00",
          "2019-10-06T00:00:00",
          "2019-10-13T00:00:00",
          "2019-10-20T00:00:00",
          "2019-10-27T00:00:00",
          "2019-11-03T00:00:00",
          "2019-11-10T00:00:00",
          "2019-11-17T00:00:00",
          "2019-11-24T00:00:00",
          "2019-12-01T00:00:00",
          "2019-12-08T00:00:00",
          "2019-12-15T00:00:00",
          "2019-12-22T00:00:00",
          "2019-12-29T00:00:00",
          "2020-01-05T00:00:00",
          "2020-01-12T00:00:00",
          "2020-01-19T00:00:00",
          "2020-01-26T00:00:00",
          "2020-02-02T00:00:00",
          "2020-02-09T00:00:00",
          "2020-02-16T00:00:00",
          "2020-02-23T00:00:00",
          "2020-03-01T00:00:00",
          "2020-03-08T00:00:00",
          "2020-03-15T00:00:00",
          "2020-03-22T00:00:00",
          "2020-03-29T00:00:00",
          "2020-04-05T00:00:00",
          "2020-04-12T00:00:00",
          "2020-04-19T00:00:00",
          "2020-04-26T00:00:00",
          "2020-05-03T00:00:00",
          "2020-05-10T00:00:00",
          "2020-05-17T00:00:00",
          "2020-05-24T00:00:00",
          "2020-05-31T00:00:00",
          "2020-06-07T00:00:00",
          "2020-06-14T00:00:00",
          "2020-06-21T00:00:00",
          "2020-06-28T00:00:00",
          "2020-07-05T00:00:00",
          "2020-07-12T00:00:00",
          "2020-07-19T00:00:00",
          "2020-07-26T00:00:00",
          "2020-08-02T00:00:00",
          "2020-08-09T00:00:00",
          "2020-08-16T00:00:00",
          "2020-08-23T00:00:00",
          "2020-08-30T00:00:00",
          "2020-09-06T00:00:00",
          "2020-09-13T00:00:00",
          "2020-09-20T00:00:00",
          "2020-09-27T00:00:00",
          "2020-10-04T00:00:00",
          "2020-10-11T00:00:00",
          "2020-10-18T00:00:00",
          "2020-10-25T00:00:00",
          "2020-11-01T00:00:00",
          "2020-11-08T00:00:00",
          "2020-11-15T00:00:00",
          "2020-11-22T00:00:00",
          "2020-11-29T00:00:00",
          "2020-12-06T00:00:00",
          "2020-12-13T00:00:00",
          "2020-12-20T00:00:00",
          "2020-12-27T00:00:00",
          "2021-01-03T00:00:00"
         ],
         "xaxis": "x5",
         "y": [
          72.96176470588235,
          61.69199999999999,
          63.915,
          59.826875,
          58.908076923076926,
          60.86833333333334,
          58.5304,
          64.14095238095238,
          61.0321875,
          70.03125,
          65.49391304347827,
          63.38842105263157,
          64.6753125,
          71.35178571428571,
          67.49071428571429,
          62.962,
          66.99862068965517,
          61.331923076923076,
          60.05964285714286,
          63.08769230769231,
          67.30148148148149,
          70.83722222222222,
          66.75916666666666,
          65.01209302325582,
          65.46536585365854,
          63.972,
          68.33636363636363,
          62.6490625,
          67.61724137931034,
          62.33736842105264,
          61.703947368421055,
          59.910740740740735,
          64.17685714285714,
          61.197,
          59.62931034482759,
          67.48,
          62.48066666666667,
          68.52695652173912,
          59.6441935483871,
          67.33655172413793,
          64.64045454545455,
          58.981153846153845,
          61.38529411764706,
          70.1975,
          68.45884615384615,
          65.5262962962963,
          64.58923076923077,
          65.56666666666666,
          68.55430769230769,
          61.15934426229508,
          67.5903125,
          66.13557692307693,
          62.4778125,
          65.45733333333334,
          59.644705882352945,
          64.059,
          67.48684210526316,
          62.388421052631585,
          60.050000000000004,
          56.548,
          56.355384615384615,
          64.2325,
          61.150999999999996,
          60.53210526315789,
          59.43304347826087,
          64.51807692307692,
          62.04416666666666,
          61.27421052631579,
          62.07478260869566,
          68.36129032258064,
          67.21000000000001,
          72.99249999999999,
          66.058,
          62.05435897435897,
          64.22487179487179,
          65.25485714285715,
          61.972972972972975,
          63.32,
          69.71676470588235,
          63.042,
          63.96970588235295,
          68.4932258064516,
          68.798,
          65.09208333333333,
          63.13470588235294,
          61.782000000000004,
          59.50777777777778,
          64.84380952380953,
          65.0391304347826,
          62.724705882352936,
          64.00666666666667,
          61.967333333333336,
          67.69619047619047,
          65.23041666666667,
          63.11807692307692,
          60.50428571428572,
          63.704736842105255,
          64.18909090909091,
          67.54074074074073,
          66.02961538461538,
          60.81464285714286,
          65.49183333333333,
          67.00237288135592,
          63.41444444444445,
          59.6371052631579
         ],
         "yaxis": "y5"
        },
        {
         "hovertemplate": "is_fraud=0<br>merchant=fraud_Parisian and Sons<br>transaction_time=%{x}<br>amount(usd)=%{y}<extra></extra>",
         "legendgroup": "0",
         "marker": {
          "color": "#D93C1D",
          "symbol": "circle"
         },
         "mode": "markers",
         "name": "0",
         "showlegend": false,
         "type": "scattergl",
         "x": [
          "2019-01-06T00:00:00",
          "2019-01-13T00:00:00",
          "2019-01-20T00:00:00",
          "2019-01-27T00:00:00",
          "2019-02-03T00:00:00",
          "2019-02-10T00:00:00",
          "2019-02-17T00:00:00",
          "2019-02-24T00:00:00",
          "2019-03-03T00:00:00",
          "2019-03-10T00:00:00",
          "2019-03-17T00:00:00",
          "2019-03-24T00:00:00",
          "2019-03-31T00:00:00",
          "2019-04-07T00:00:00",
          "2019-04-14T00:00:00",
          "2019-04-21T00:00:00",
          "2019-04-28T00:00:00",
          "2019-05-05T00:00:00",
          "2019-05-12T00:00:00",
          "2019-05-19T00:00:00",
          "2019-05-26T00:00:00",
          "2019-06-02T00:00:00",
          "2019-06-09T00:00:00",
          "2019-06-16T00:00:00",
          "2019-06-23T00:00:00",
          "2019-06-30T00:00:00",
          "2019-07-07T00:00:00",
          "2019-07-14T00:00:00",
          "2019-07-21T00:00:00",
          "2019-07-28T00:00:00",
          "2019-08-04T00:00:00",
          "2019-08-11T00:00:00",
          "2019-08-18T00:00:00",
          "2019-08-25T00:00:00",
          "2019-09-01T00:00:00",
          "2019-09-08T00:00:00",
          "2019-09-15T00:00:00",
          "2019-09-22T00:00:00",
          "2019-09-29T00:00:00",
          "2019-10-06T00:00:00",
          "2019-10-13T00:00:00",
          "2019-10-20T00:00:00",
          "2019-10-27T00:00:00",
          "2019-11-03T00:00:00",
          "2019-11-10T00:00:00",
          "2019-11-17T00:00:00",
          "2019-11-24T00:00:00",
          "2019-12-01T00:00:00",
          "2019-12-08T00:00:00",
          "2019-12-15T00:00:00",
          "2019-12-22T00:00:00",
          "2019-12-29T00:00:00",
          "2020-01-05T00:00:00",
          "2020-01-12T00:00:00",
          "2020-01-19T00:00:00",
          "2020-01-26T00:00:00",
          "2020-02-02T00:00:00",
          "2020-02-09T00:00:00",
          "2020-02-16T00:00:00",
          "2020-02-23T00:00:00",
          "2020-03-01T00:00:00",
          "2020-03-08T00:00:00",
          "2020-03-15T00:00:00",
          "2020-03-22T00:00:00",
          "2020-03-29T00:00:00",
          "2020-04-05T00:00:00",
          "2020-04-12T00:00:00",
          "2020-04-19T00:00:00",
          "2020-04-26T00:00:00",
          "2020-05-03T00:00:00",
          "2020-05-10T00:00:00",
          "2020-05-17T00:00:00",
          "2020-05-24T00:00:00",
          "2020-05-31T00:00:00",
          "2020-06-07T00:00:00",
          "2020-06-14T00:00:00",
          "2020-06-21T00:00:00",
          "2020-06-28T00:00:00",
          "2020-07-05T00:00:00",
          "2020-07-12T00:00:00",
          "2020-07-19T00:00:00",
          "2020-07-26T00:00:00",
          "2020-08-02T00:00:00",
          "2020-08-09T00:00:00",
          "2020-08-16T00:00:00",
          "2020-08-23T00:00:00",
          "2020-08-30T00:00:00",
          "2020-09-06T00:00:00",
          "2020-09-13T00:00:00",
          "2020-09-20T00:00:00",
          "2020-09-27T00:00:00",
          "2020-10-04T00:00:00",
          "2020-10-11T00:00:00",
          "2020-10-18T00:00:00",
          "2020-10-25T00:00:00",
          "2020-11-01T00:00:00",
          "2020-11-08T00:00:00",
          "2020-11-15T00:00:00",
          "2020-11-22T00:00:00",
          "2020-11-29T00:00:00",
          "2020-12-06T00:00:00",
          "2020-12-13T00:00:00",
          "2020-12-20T00:00:00",
          "2020-12-27T00:00:00",
          "2021-01-03T00:00:00"
         ],
         "xaxis": "x6",
         "y": [
          62.94388888888889,
          60.68055555555556,
          64.8796,
          64.25083333333333,
          60.51,
          66.3725,
          62.816923076923075,
          71.72666666666666,
          65.6,
          59.3395652173913,
          62.25028571428571,
          61.806896551724144,
          65.17999999999999,
          67.35115384615385,
          67.0316129032258,
          63.23,
          58.853125,
          61.03210526315789,
          67.69071428571428,
          65.11321428571429,
          61.567096774193544,
          60.063793103448276,
          61.4690625,
          62.469210526315784,
          67.18344827586208,
          65.45827586206896,
          67.587,
          67.08823529411765,
          65.77185185185185,
          65.9534375,
          68.87034482758621,
          60.06857142857143,
          57.6046875,
          62.162962962962965,
          63.470606060606066,
          62.69620689655173,
          62.43272727272727,
          61.05391304347826,
          61.72777777777778,
          66.84214285714286,
          68.13703703703703,
          59.69,
          72.38739130434783,
          67.19760000000001,
          62.84457142857143,
          65.678,
          62.66346153846154,
          64.0575,
          59.753461538461536,
          61.45837209302326,
          61.63472727272727,
          59.17345454545455,
          61.12047619047619,
          61.655,
          60.91833333333333,
          62.44633333333333,
          61.15714285714286,
          68.13066666666667,
          62.5804,
          62.82473684210527,
          63.68,
          61.96884615384616,
          58.920344827586206,
          64.78333333333333,
          63.86034482758621,
          64.8596551724138,
          60.592083333333335,
          63.64037037037037,
          64.55583333333333,
          65.84304347826087,
          63.4492,
          69.53103448275863,
          63.10516129032258,
          62.879062499999996,
          62.83121212121212,
          71.63583333333334,
          57.04032258064516,
          62.80117647058823,
          58.4745,
          64.84058823529412,
          64.03388888888888,
          65.00435897435898,
          65.65413793103448,
          64.25612903225807,
          68.10363636363637,
          66.49529411764706,
          61.245,
          64.73542857142857,
          63.998333333333335,
          70.22166666666666,
          62.2252,
          62.763333333333335,
          63.169666666666664,
          62.99285714285714,
          63.953529411764706,
          65.35727272727273,
          60.45333333333333,
          63.37807692307692,
          60.904722222222226,
          61.13222222222222,
          61.28390243902439,
          64.10736111111112,
          61.20755555555556,
          60.635737704918036,
          65.02307692307691
         ],
         "yaxis": "y6"
        },
        {
         "hovertemplate": "is_fraud=0<br>merchant=fraud_Jenkins, Hauck and Friesen<br>transaction_time=%{x}<br>amount(usd)=%{y}<extra></extra>",
         "legendgroup": "0",
         "marker": {
          "color": "#D93C1D",
          "symbol": "circle"
         },
         "mode": "markers",
         "name": "0",
         "showlegend": false,
         "type": "scattergl",
         "x": [
          "2019-01-06T00:00:00",
          "2019-01-13T00:00:00",
          "2019-01-20T00:00:00",
          "2019-01-27T00:00:00",
          "2019-02-03T00:00:00",
          "2019-02-10T00:00:00",
          "2019-02-17T00:00:00",
          "2019-02-24T00:00:00",
          "2019-03-03T00:00:00",
          "2019-03-10T00:00:00",
          "2019-03-17T00:00:00",
          "2019-03-24T00:00:00",
          "2019-03-31T00:00:00",
          "2019-04-07T00:00:00",
          "2019-04-14T00:00:00",
          "2019-04-21T00:00:00",
          "2019-04-28T00:00:00",
          "2019-05-05T00:00:00",
          "2019-05-12T00:00:00",
          "2019-05-19T00:00:00",
          "2019-05-26T00:00:00",
          "2019-06-02T00:00:00",
          "2019-06-09T00:00:00",
          "2019-06-16T00:00:00",
          "2019-06-23T00:00:00",
          "2019-06-30T00:00:00",
          "2019-07-07T00:00:00",
          "2019-07-14T00:00:00",
          "2019-07-21T00:00:00",
          "2019-07-28T00:00:00",
          "2019-08-04T00:00:00",
          "2019-08-11T00:00:00",
          "2019-08-18T00:00:00",
          "2019-08-25T00:00:00",
          "2019-09-01T00:00:00",
          "2019-09-08T00:00:00",
          "2019-09-15T00:00:00",
          "2019-09-22T00:00:00",
          "2019-09-29T00:00:00",
          "2019-10-06T00:00:00",
          "2019-10-13T00:00:00",
          "2019-10-20T00:00:00",
          "2019-10-27T00:00:00",
          "2019-11-03T00:00:00",
          "2019-11-10T00:00:00",
          "2019-11-17T00:00:00",
          "2019-11-24T00:00:00",
          "2019-12-01T00:00:00",
          "2019-12-08T00:00:00",
          "2019-12-15T00:00:00",
          "2019-12-22T00:00:00",
          "2019-12-29T00:00:00",
          "2020-01-05T00:00:00",
          "2020-01-12T00:00:00",
          "2020-01-19T00:00:00",
          "2020-01-26T00:00:00",
          "2020-02-02T00:00:00",
          "2020-02-09T00:00:00",
          "2020-02-16T00:00:00",
          "2020-02-23T00:00:00",
          "2020-03-01T00:00:00",
          "2020-03-08T00:00:00",
          "2020-03-15T00:00:00",
          "2020-03-22T00:00:00",
          "2020-03-29T00:00:00",
          "2020-04-05T00:00:00",
          "2020-04-12T00:00:00",
          "2020-04-19T00:00:00",
          "2020-04-26T00:00:00",
          "2020-05-03T00:00:00",
          "2020-05-10T00:00:00",
          "2020-05-17T00:00:00",
          "2020-05-24T00:00:00",
          "2020-05-31T00:00:00",
          "2020-06-07T00:00:00",
          "2020-06-14T00:00:00",
          "2020-06-21T00:00:00",
          "2020-06-28T00:00:00",
          "2020-07-05T00:00:00",
          "2020-07-12T00:00:00",
          "2020-07-19T00:00:00",
          "2020-07-26T00:00:00",
          "2020-08-02T00:00:00",
          "2020-08-09T00:00:00",
          "2020-08-16T00:00:00",
          "2020-08-23T00:00:00",
          "2020-08-30T00:00:00",
          "2020-09-06T00:00:00",
          "2020-09-13T00:00:00",
          "2020-09-20T00:00:00",
          "2020-09-27T00:00:00",
          "2020-10-04T00:00:00",
          "2020-10-11T00:00:00",
          "2020-10-18T00:00:00",
          "2020-10-25T00:00:00",
          "2020-11-01T00:00:00",
          "2020-11-08T00:00:00",
          "2020-11-15T00:00:00",
          "2020-11-22T00:00:00",
          "2020-11-29T00:00:00",
          "2020-12-06T00:00:00",
          "2020-12-13T00:00:00",
          "2020-12-20T00:00:00",
          "2020-12-27T00:00:00",
          "2021-01-03T00:00:00"
         ],
         "xaxis": "x",
         "y": [
          59.00388888888889,
          67.97307692307692,
          58.804117647058824,
          65.1315,
          67.75304347826086,
          67.95722222222223,
          62.481500000000004,
          65.88166666666667,
          66.48137931034483,
          64.86421052631579,
          63.564,
          62.375,
          61.50846153846154,
          70.42576923076923,
          63.91545454545455,
          66.60555555555555,
          62.743793103448276,
          62.800000000000004,
          70.39461538461538,
          63.9940625,
          63.836999999999996,
          57.48142857142857,
          62.16241379310345,
          66.86833333333333,
          63.4375,
          64.17323529411765,
          61.141,
          64.761,
          62.345,
          63.542307692307695,
          61.71137931034483,
          62.08290322580645,
          61.87452380952381,
          62.90142857142856,
          62.59034482758621,
          66.5696875,
          62.112758620689654,
          67.922,
          67.2455,
          62.285,
          65.7705,
          67.4504761904762,
          61.06909090909091,
          61.929655172413796,
          60.39545454545454,
          64.39359999999999,
          63.0428,
          61.01244444444444,
          62.98893617021277,
          64.11037735849057,
          63.74566037735849,
          64.54857142857142,
          67.33434782608695,
          65.85708333333334,
          70.2915,
          65.15535714285714,
          64.831,
          63.14416666666667,
          60.495000000000005,
          62.82,
          63.81699999999999,
          66.83911764705883,
          61.76478260869565,
          67.49095238095238,
          64.09105263157895,
          65.76290322580645,
          63.5453125,
          58.6184,
          61.701875,
          60.16057142857142,
          57.6968,
          59.65620689655172,
          61.50083333333333,
          65.50148148148148,
          61.30475,
          63.69199999999999,
          66.48971428571429,
          61.47676470588235,
          62.53076923076923,
          63.82685714285714,
          65.29375,
          57.25269230769231,
          63.799142857142854,
          64.94,
          67.009375,
          60.91444444444445,
          64.55352941176471,
          63.21636363636363,
          64.08592592592593,
          63.516363636363636,
          62.770645161290325,
          62.58166666666667,
          69.77136363636363,
          63.0995652173913,
          66.5704347826087,
          65.17194444444445,
          66.95115384615384,
          64.15107142857143,
          63.52357142857143,
          65.6716,
          62.974444444444444,
          62.53697674418605,
          61.73478260869565,
          68.75874999999999,
          62.07121212121212
         ],
         "yaxis": "y"
        },
        {
         "hovertemplate": "is_fraud=0<br>merchant=fraud_Huels-Hahn<br>transaction_time=%{x}<br>amount(usd)=%{y}<extra></extra>",
         "legendgroup": "0",
         "marker": {
          "color": "#D93C1D",
          "symbol": "circle"
         },
         "mode": "markers",
         "name": "0",
         "showlegend": false,
         "type": "scattergl",
         "x": [
          "2019-01-06T00:00:00",
          "2019-01-13T00:00:00",
          "2019-01-20T00:00:00",
          "2019-01-27T00:00:00",
          "2019-02-03T00:00:00",
          "2019-02-10T00:00:00",
          "2019-02-17T00:00:00",
          "2019-02-24T00:00:00",
          "2019-03-03T00:00:00",
          "2019-03-10T00:00:00",
          "2019-03-17T00:00:00",
          "2019-03-24T00:00:00",
          "2019-03-31T00:00:00",
          "2019-04-07T00:00:00",
          "2019-04-14T00:00:00",
          "2019-04-21T00:00:00",
          "2019-04-28T00:00:00",
          "2019-05-05T00:00:00",
          "2019-05-12T00:00:00",
          "2019-05-19T00:00:00",
          "2019-05-26T00:00:00",
          "2019-06-02T00:00:00",
          "2019-06-09T00:00:00",
          "2019-06-16T00:00:00",
          "2019-06-23T00:00:00",
          "2019-06-30T00:00:00",
          "2019-07-07T00:00:00",
          "2019-07-14T00:00:00",
          "2019-07-21T00:00:00",
          "2019-07-28T00:00:00",
          "2019-08-04T00:00:00",
          "2019-08-11T00:00:00",
          "2019-08-18T00:00:00",
          "2019-08-25T00:00:00",
          "2019-09-01T00:00:00",
          "2019-09-08T00:00:00",
          "2019-09-15T00:00:00",
          "2019-09-22T00:00:00",
          "2019-09-29T00:00:00",
          "2019-10-06T00:00:00",
          "2019-10-13T00:00:00",
          "2019-10-20T00:00:00",
          "2019-10-27T00:00:00",
          "2019-11-03T00:00:00",
          "2019-11-10T00:00:00",
          "2019-11-17T00:00:00",
          "2019-11-24T00:00:00",
          "2019-12-01T00:00:00",
          "2019-12-08T00:00:00",
          "2019-12-15T00:00:00",
          "2019-12-22T00:00:00",
          "2019-12-29T00:00:00",
          "2020-01-05T00:00:00",
          "2020-01-12T00:00:00",
          "2020-01-19T00:00:00",
          "2020-01-26T00:00:00",
          "2020-02-02T00:00:00",
          "2020-02-09T00:00:00",
          "2020-02-16T00:00:00",
          "2020-02-23T00:00:00",
          "2020-03-01T00:00:00",
          "2020-03-08T00:00:00",
          "2020-03-15T00:00:00",
          "2020-03-22T00:00:00",
          "2020-03-29T00:00:00",
          "2020-04-05T00:00:00",
          "2020-04-12T00:00:00",
          "2020-04-19T00:00:00",
          "2020-04-26T00:00:00",
          "2020-05-03T00:00:00",
          "2020-05-10T00:00:00",
          "2020-05-17T00:00:00",
          "2020-05-24T00:00:00",
          "2020-05-31T00:00:00",
          "2020-06-07T00:00:00",
          "2020-06-14T00:00:00",
          "2020-06-21T00:00:00",
          "2020-06-28T00:00:00",
          "2020-07-05T00:00:00",
          "2020-07-12T00:00:00",
          "2020-07-19T00:00:00",
          "2020-07-26T00:00:00",
          "2020-08-02T00:00:00",
          "2020-08-09T00:00:00",
          "2020-08-16T00:00:00",
          "2020-08-23T00:00:00",
          "2020-08-30T00:00:00",
          "2020-09-06T00:00:00",
          "2020-09-13T00:00:00",
          "2020-09-20T00:00:00",
          "2020-09-27T00:00:00",
          "2020-10-04T00:00:00",
          "2020-10-11T00:00:00",
          "2020-10-18T00:00:00",
          "2020-10-25T00:00:00",
          "2020-11-01T00:00:00",
          "2020-11-08T00:00:00",
          "2020-11-15T00:00:00",
          "2020-11-22T00:00:00",
          "2020-11-29T00:00:00",
          "2020-12-06T00:00:00",
          "2020-12-13T00:00:00",
          "2020-12-20T00:00:00",
          "2020-12-27T00:00:00",
          "2021-01-03T00:00:00"
         ],
         "xaxis": "x2",
         "y": [
          64.108,
          59.92411764705883,
          60.177,
          61.470000000000006,
          69.36055555555555,
          60.064166666666665,
          67.8255,
          59.376,
          60.57217391304348,
          60.63346153846154,
          58.27541666666667,
          60.8925,
          65.6725925925926,
          63.7678125,
          65.07413793103449,
          57.08727272727273,
          62.69375,
          65.833125,
          63.1508,
          66.3415625,
          66.83512820512821,
          66.70333333333333,
          67.50045454545455,
          62.17818181818182,
          63.72678571428571,
          60.336216216216215,
          64.11375,
          65.16,
          62.175357142857145,
          59.85310344827586,
          65.95488888888889,
          66.39178571428572,
          61.60142857142858,
          66.76529411764706,
          64.529,
          66.12347826086958,
          64.49379310344827,
          66.468125,
          62.4392,
          65.20038461538462,
          65.65230769230769,
          65.20166666666667,
          69.48533333333333,
          65.49818181818182,
          63.964642857142856,
          66.90307692307692,
          66.85636363636364,
          61.99972222222223,
          63.61418604651163,
          63.395624999999995,
          62.02777777777778,
          64.42758620689655,
          62.22354838709678,
          63.720588235294116,
          66.575,
          64.25304347826086,
          59.56066666666667,
          66.95304347826087,
          61.9295,
          63.06736842105263,
          58.16958333333333,
          64.14636363636363,
          61.02913043478261,
          61.329130434782606,
          64.181875,
          57.75842105263158,
          64.64755555555556,
          61.537222222222226,
          65.14956521739131,
          64.24235294117648,
          62.31703703703703,
          62.877272727272725,
          65.81538461538462,
          62.11261904761905,
          63.66,
          62.3978125,
          65.344,
          64.21068965517242,
          67.17029411764706,
          68.60259259259259,
          62.976410256410254,
          66.7375,
          61.73935483870968,
          59.48172413793104,
          65.71926829268293,
          62.25928571428572,
          61.09448275862069,
          61.07886363636364,
          64.96461538461539,
          61.92677419354839,
          72.72347826086956,
          66.66809523809523,
          60.78130434782609,
          65.28758620689655,
          62.81166666666667,
          69.01523809523809,
          65.15962962962963,
          63.70777777777778,
          61.59625,
          64.180625,
          67.82764705882353,
          65.71894736842106,
          61.527903225806455,
          64.29320754716981,
          63.67707317073171
         ],
         "yaxis": "y2"
        },
        {
         "hovertemplate": "is_fraud=0<br>merchant=fraud_Kling Inc<br>transaction_time=%{x}<br>amount(usd)=%{y}<extra></extra>",
         "legendgroup": "0",
         "marker": {
          "color": "#D93C1D",
          "symbol": "circle"
         },
         "mode": "markers",
         "name": "0",
         "showlegend": false,
         "type": "scattergl",
         "x": [
          "2019-01-06T00:00:00",
          "2019-01-13T00:00:00",
          "2019-01-20T00:00:00",
          "2019-01-27T00:00:00",
          "2019-02-03T00:00:00",
          "2019-02-10T00:00:00",
          "2019-02-17T00:00:00",
          "2019-02-24T00:00:00",
          "2019-03-03T00:00:00",
          "2019-03-10T00:00:00",
          "2019-03-17T00:00:00",
          "2019-03-24T00:00:00",
          "2019-03-31T00:00:00",
          "2019-04-07T00:00:00",
          "2019-04-14T00:00:00",
          "2019-04-21T00:00:00",
          "2019-04-28T00:00:00",
          "2019-05-05T00:00:00",
          "2019-05-12T00:00:00",
          "2019-05-19T00:00:00",
          "2019-05-26T00:00:00",
          "2019-06-02T00:00:00",
          "2019-06-09T00:00:00",
          "2019-06-16T00:00:00",
          "2019-06-23T00:00:00",
          "2019-06-30T00:00:00",
          "2019-07-07T00:00:00",
          "2019-07-14T00:00:00",
          "2019-07-21T00:00:00",
          "2019-07-28T00:00:00",
          "2019-08-04T00:00:00",
          "2019-08-11T00:00:00",
          "2019-08-18T00:00:00",
          "2019-08-25T00:00:00",
          "2019-09-01T00:00:00",
          "2019-09-08T00:00:00",
          "2019-09-15T00:00:00",
          "2019-09-22T00:00:00",
          "2019-09-29T00:00:00",
          "2019-10-06T00:00:00",
          "2019-10-13T00:00:00",
          "2019-10-20T00:00:00",
          "2019-10-27T00:00:00",
          "2019-11-03T00:00:00",
          "2019-11-10T00:00:00",
          "2019-11-17T00:00:00",
          "2019-11-24T00:00:00",
          "2019-12-01T00:00:00",
          "2019-12-08T00:00:00",
          "2019-12-15T00:00:00",
          "2019-12-22T00:00:00",
          "2019-12-29T00:00:00",
          "2020-01-05T00:00:00",
          "2020-01-12T00:00:00",
          "2020-01-19T00:00:00",
          "2020-01-26T00:00:00",
          "2020-02-02T00:00:00",
          "2020-02-09T00:00:00",
          "2020-02-16T00:00:00",
          "2020-02-23T00:00:00",
          "2020-03-01T00:00:00",
          "2020-03-08T00:00:00",
          "2020-03-15T00:00:00",
          "2020-03-22T00:00:00",
          "2020-03-29T00:00:00",
          "2020-04-05T00:00:00",
          "2020-04-12T00:00:00",
          "2020-04-19T00:00:00",
          "2020-04-26T00:00:00",
          "2020-05-03T00:00:00",
          "2020-05-10T00:00:00",
          "2020-05-17T00:00:00",
          "2020-05-24T00:00:00",
          "2020-05-31T00:00:00",
          "2020-06-07T00:00:00",
          "2020-06-14T00:00:00",
          "2020-06-21T00:00:00",
          "2020-06-28T00:00:00",
          "2020-07-05T00:00:00",
          "2020-07-12T00:00:00",
          "2020-07-19T00:00:00",
          "2020-07-26T00:00:00",
          "2020-08-02T00:00:00",
          "2020-08-09T00:00:00",
          "2020-08-16T00:00:00",
          "2020-08-23T00:00:00",
          "2020-08-30T00:00:00",
          "2020-09-06T00:00:00",
          "2020-09-13T00:00:00",
          "2020-09-20T00:00:00",
          "2020-09-27T00:00:00",
          "2020-10-04T00:00:00",
          "2020-10-11T00:00:00",
          "2020-10-18T00:00:00",
          "2020-10-25T00:00:00",
          "2020-11-01T00:00:00",
          "2020-11-08T00:00:00",
          "2020-11-15T00:00:00",
          "2020-11-22T00:00:00",
          "2020-11-29T00:00:00",
          "2020-12-06T00:00:00",
          "2020-12-13T00:00:00",
          "2020-12-20T00:00:00",
          "2020-12-27T00:00:00",
          "2021-01-03T00:00:00"
         ],
         "xaxis": "x3",
         "y": [
          59.360769230769236,
          64.54538461538462,
          61.87227272727273,
          70.04933333333334,
          69.22882352941177,
          66.27526315789474,
          65.413,
          61.02368421052632,
          62.71124999999999,
          65.1548,
          64.4504347826087,
          61.19521739130435,
          63.568000000000005,
          63.861999999999995,
          63.43805555555556,
          66.72399999999999,
          62.2765625,
          66.9528,
          62.2765,
          62.99407407407407,
          62.11037037037037,
          65.39085714285714,
          62.933846153846154,
          64.3825,
          72.17681818181819,
          65.42848484848484,
          64.01566666666666,
          68.2858695652174,
          66.11592592592594,
          64.11103448275863,
          60.2814705882353,
          63.266000000000005,
          63.592727272727274,
          63.18864864864865,
          65.39823529411764,
          64.16709677419355,
          63.889230769230764,
          59.53875000000001,
          59.48142857142857,
          68.16181818181818,
          61.058571428571426,
          63.88575757575757,
          61.93939393939394,
          61.16285714285715,
          63.140625,
          61.625365853658536,
          63.645,
          62.20233333333333,
          60.22056603773585,
          61.38533333333333,
          61.01704545454545,
          65.74482142857143,
          65.28484848484848,
          65.12588235294118,
          62.319500000000005,
          67.8029411764706,
          61.67434782608696,
          63.16,
          64.4738888888889,
          55.885000000000005,
          66.92071428571428,
          59.91952380952381,
          59.293461538461536,
          66.91038461538461,
          65.265,
          66.87407407407407,
          64.82212121212122,
          59.212857142857146,
          62.182272727272725,
          58.194117647058825,
          64.41642857142857,
          67.44428571428571,
          65.1916,
          64.23521739130435,
          69.26344827586207,
          63.657631578947374,
          67.5255172413793,
          62.8034375,
          60.754333333333335,
          61.21971428571429,
          60.07857142857143,
          67.81121951219512,
          64.6674358974359,
          61.776774193548384,
          65.76411764705882,
          57.572916666666664,
          67.86310344827587,
          62.14142857142857,
          65.915,
          66.20966666666666,
          61.504482758620696,
          61.204193548387096,
          57.28476190476191,
          65.56260869565217,
          62.19,
          63.09892857142857,
          68.17214285714286,
          68.92363636363636,
          65.59171428571429,
          70.16866666666667,
          65.99932203389831,
          64.2133962264151,
          65.14962962962963,
          62.980444444444444,
          63.853170731707316
         ],
         "yaxis": "y3"
        },
        {
         "hovertemplate": "is_fraud=1<br>merchant=fraud_Kilback LLC<br>transaction_time=%{x}<br>amount(usd)=%{y}<extra></extra>",
         "legendgroup": "1",
         "marker": {
          "color": "#61E50F",
          "symbol": "circle"
         },
         "mode": "markers",
         "name": "1",
         "showlegend": true,
         "type": "scattergl",
         "x": [
          "2019-01-06T00:00:00",
          "2019-01-13T00:00:00",
          "2019-01-20T00:00:00",
          "2019-01-27T00:00:00",
          "2019-02-03T00:00:00",
          "2019-02-10T00:00:00",
          "2019-02-17T00:00:00",
          "2019-02-24T00:00:00",
          "2019-03-03T00:00:00",
          "2019-03-10T00:00:00",
          "2019-03-17T00:00:00",
          "2019-03-24T00:00:00",
          "2019-03-31T00:00:00",
          "2019-04-07T00:00:00",
          "2019-04-14T00:00:00",
          "2019-04-21T00:00:00",
          "2019-04-28T00:00:00",
          "2019-05-05T00:00:00",
          "2019-05-12T00:00:00",
          "2019-05-19T00:00:00",
          "2019-05-26T00:00:00",
          "2019-06-02T00:00:00",
          "2019-06-09T00:00:00",
          "2019-06-16T00:00:00",
          "2019-06-23T00:00:00",
          "2019-06-30T00:00:00",
          "2019-07-07T00:00:00",
          "2019-07-14T00:00:00",
          "2019-07-21T00:00:00",
          "2019-07-28T00:00:00",
          "2019-08-04T00:00:00",
          "2019-08-11T00:00:00",
          "2019-08-18T00:00:00",
          "2019-08-25T00:00:00",
          "2019-09-01T00:00:00",
          "2019-09-08T00:00:00",
          "2019-09-15T00:00:00",
          "2019-09-22T00:00:00",
          "2019-09-29T00:00:00",
          "2019-10-06T00:00:00",
          "2019-10-13T00:00:00",
          "2019-10-20T00:00:00",
          "2019-10-27T00:00:00",
          "2019-11-03T00:00:00",
          "2019-11-10T00:00:00",
          "2019-11-17T00:00:00",
          "2019-11-24T00:00:00",
          "2019-12-01T00:00:00",
          "2019-12-08T00:00:00",
          "2019-12-15T00:00:00",
          "2019-12-22T00:00:00",
          "2019-12-29T00:00:00",
          "2020-01-05T00:00:00",
          "2020-01-12T00:00:00",
          "2020-01-19T00:00:00",
          "2020-01-26T00:00:00",
          "2020-02-02T00:00:00",
          "2020-02-09T00:00:00",
          "2020-02-16T00:00:00",
          "2020-02-23T00:00:00",
          "2020-03-01T00:00:00",
          "2020-03-08T00:00:00",
          "2020-03-15T00:00:00",
          "2020-03-22T00:00:00",
          "2020-03-29T00:00:00",
          "2020-04-05T00:00:00",
          "2020-04-12T00:00:00",
          "2020-04-19T00:00:00",
          "2020-04-26T00:00:00",
          "2020-05-03T00:00:00",
          "2020-05-10T00:00:00",
          "2020-05-17T00:00:00",
          "2020-05-24T00:00:00",
          "2020-05-31T00:00:00",
          "2020-06-07T00:00:00",
          "2020-06-14T00:00:00",
          "2020-06-21T00:00:00",
          "2020-06-28T00:00:00",
          "2020-07-05T00:00:00",
          "2020-07-12T00:00:00",
          "2020-07-19T00:00:00",
          "2020-07-26T00:00:00",
          "2020-08-02T00:00:00",
          "2020-08-09T00:00:00",
          "2020-08-16T00:00:00",
          "2020-08-23T00:00:00",
          "2020-08-30T00:00:00",
          "2020-09-06T00:00:00",
          "2020-09-13T00:00:00",
          "2020-09-20T00:00:00",
          "2020-09-27T00:00:00",
          "2020-10-04T00:00:00",
          "2020-10-11T00:00:00",
          "2020-10-18T00:00:00",
          "2020-10-25T00:00:00",
          "2020-11-01T00:00:00",
          "2020-11-08T00:00:00",
          "2020-11-15T00:00:00",
          "2020-11-22T00:00:00",
          "2020-11-29T00:00:00",
          "2020-12-06T00:00:00",
          "2020-12-13T00:00:00",
          "2020-12-20T00:00:00",
          "2020-12-27T00:00:00",
          "2021-01-03T00:00:00"
         ],
         "xaxis": "x10",
         "y": [
          null,
          null,
          null,
          null,
          294.86,
          null,
          293.97333333333336,
          232.01,
          null,
          281.28,
          null,
          115.73,
          320.93,
          null,
          340.41,
          307.42,
          304.1,
          341.8,
          null,
          259.24,
          null,
          null,
          null,
          238.78,
          null,
          null,
          null,
          null,
          null,
          333.31,
          367.28,
          null,
          null,
          null,
          311.63,
          null,
          247.85000000000002,
          null,
          null,
          null,
          null,
          329.83,
          null,
          null,
          null,
          301.63,
          null,
          323.16,
          259.55333333333334,
          297.42,
          null,
          null,
          null,
          null,
          117.75,
          null,
          null,
          298.98,
          null,
          null,
          null,
          null,
          null,
          null,
          null,
          null,
          345.7,
          277.51,
          278.37,
          null,
          324.8,
          278.62,
          null,
          320.85,
          null,
          null,
          262.15,
          315.72,
          null,
          102.42,
          null,
          314.36,
          291.8,
          null,
          262.6,
          336.94,
          312.87,
          null,
          null,
          310.355,
          null,
          null,
          342.03,
          null,
          null,
          140.13,
          null,
          null,
          null,
          null,
          296.27,
          null,
          null,
          null,
          null
         ],
         "yaxis": "y10"
        },
        {
         "hovertemplate": "is_fraud=1<br>merchant=fraud_Cormier LLC<br>transaction_time=%{x}<br>amount(usd)=%{y}<extra></extra>",
         "legendgroup": "1",
         "marker": {
          "color": "#61E50F",
          "symbol": "circle"
         },
         "mode": "markers",
         "name": "1",
         "showlegend": false,
         "type": "scattergl",
         "x": [
          "2019-01-06T00:00:00",
          "2019-01-13T00:00:00",
          "2019-01-20T00:00:00",
          "2019-01-27T00:00:00",
          "2019-02-03T00:00:00",
          "2019-02-10T00:00:00",
          "2019-02-17T00:00:00",
          "2019-02-24T00:00:00",
          "2019-03-03T00:00:00",
          "2019-03-10T00:00:00",
          "2019-03-17T00:00:00",
          "2019-03-24T00:00:00",
          "2019-03-31T00:00:00",
          "2019-04-07T00:00:00",
          "2019-04-14T00:00:00",
          "2019-04-21T00:00:00",
          "2019-04-28T00:00:00",
          "2019-05-05T00:00:00",
          "2019-05-12T00:00:00",
          "2019-05-19T00:00:00",
          "2019-05-26T00:00:00",
          "2019-06-02T00:00:00",
          "2019-06-09T00:00:00",
          "2019-06-16T00:00:00",
          "2019-06-23T00:00:00",
          "2019-06-30T00:00:00",
          "2019-07-07T00:00:00",
          "2019-07-14T00:00:00",
          "2019-07-21T00:00:00",
          "2019-07-28T00:00:00",
          "2019-08-04T00:00:00",
          "2019-08-11T00:00:00",
          "2019-08-18T00:00:00",
          "2019-08-25T00:00:00",
          "2019-09-01T00:00:00",
          "2019-09-08T00:00:00",
          "2019-09-15T00:00:00",
          "2019-09-22T00:00:00",
          "2019-09-29T00:00:00",
          "2019-10-06T00:00:00",
          "2019-10-13T00:00:00",
          "2019-10-20T00:00:00",
          "2019-10-27T00:00:00",
          "2019-11-03T00:00:00",
          "2019-11-10T00:00:00",
          "2019-11-17T00:00:00",
          "2019-11-24T00:00:00",
          "2019-12-01T00:00:00",
          "2019-12-08T00:00:00",
          "2019-12-15T00:00:00",
          "2019-12-22T00:00:00",
          "2019-12-29T00:00:00",
          "2020-01-05T00:00:00",
          "2020-01-12T00:00:00",
          "2020-01-19T00:00:00",
          "2020-01-26T00:00:00",
          "2020-02-02T00:00:00",
          "2020-02-09T00:00:00",
          "2020-02-16T00:00:00",
          "2020-02-23T00:00:00",
          "2020-03-01T00:00:00",
          "2020-03-08T00:00:00",
          "2020-03-15T00:00:00",
          "2020-03-22T00:00:00",
          "2020-03-29T00:00:00",
          "2020-04-05T00:00:00",
          "2020-04-12T00:00:00",
          "2020-04-19T00:00:00",
          "2020-04-26T00:00:00",
          "2020-05-03T00:00:00",
          "2020-05-10T00:00:00",
          "2020-05-17T00:00:00",
          "2020-05-24T00:00:00",
          "2020-05-31T00:00:00",
          "2020-06-07T00:00:00",
          "2020-06-14T00:00:00",
          "2020-06-21T00:00:00",
          "2020-06-28T00:00:00",
          "2020-07-05T00:00:00",
          "2020-07-12T00:00:00",
          "2020-07-19T00:00:00",
          "2020-07-26T00:00:00",
          "2020-08-02T00:00:00",
          "2020-08-09T00:00:00",
          "2020-08-16T00:00:00",
          "2020-08-23T00:00:00",
          "2020-08-30T00:00:00",
          "2020-09-06T00:00:00",
          "2020-09-13T00:00:00",
          "2020-09-20T00:00:00",
          "2020-09-27T00:00:00",
          "2020-10-04T00:00:00",
          "2020-10-11T00:00:00",
          "2020-10-18T00:00:00",
          "2020-10-25T00:00:00",
          "2020-11-01T00:00:00",
          "2020-11-08T00:00:00",
          "2020-11-15T00:00:00",
          "2020-11-22T00:00:00",
          "2020-11-29T00:00:00",
          "2020-12-06T00:00:00",
          "2020-12-13T00:00:00",
          "2020-12-20T00:00:00",
          "2020-12-27T00:00:00",
          "2021-01-03T00:00:00"
         ],
         "xaxis": "x11",
         "y": [
          null,
          1065.6399999999999,
          null,
          1155.71,
          null,
          null,
          null,
          17.7,
          1061.1366666666665,
          null,
          null,
          null,
          null,
          null,
          null,
          1082.005,
          942.855,
          null,
          993.66,
          null,
          null,
          null,
          null,
          null,
          null,
          935.03,
          null,
          887.08,
          null,
          936.56,
          null,
          null,
          null,
          null,
          null,
          null,
          1063.42,
          22.86,
          1022.215,
          null,
          891.9749999999999,
          null,
          944.06,
          null,
          1091.03,
          null,
          null,
          null,
          null,
          null,
          974.87,
          null,
          null,
          null,
          902.1,
          null,
          null,
          1001.38,
          null,
          null,
          null,
          null,
          938.92,
          1044.445,
          938.98,
          null,
          null,
          null,
          1020.51,
          null,
          null,
          1129.4,
          null,
          977.39,
          null,
          916.28,
          null,
          null,
          null,
          null,
          null,
          null,
          null,
          987.01,
          null,
          null,
          null,
          null,
          957.83,
          null,
          null,
          null,
          null,
          null,
          null,
          null,
          null,
          null,
          null,
          963.57,
          null,
          1044.34,
          982.07,
          null,
          null
         ],
         "yaxis": "y11"
        },
        {
         "hovertemplate": "is_fraud=1<br>merchant=fraud_Schumm PLC<br>transaction_time=%{x}<br>amount(usd)=%{y}<extra></extra>",
         "legendgroup": "1",
         "marker": {
          "color": "#61E50F",
          "symbol": "circle"
         },
         "mode": "markers",
         "name": "1",
         "showlegend": false,
         "type": "scattergl",
         "x": [
          "2019-01-06T00:00:00",
          "2019-01-13T00:00:00",
          "2019-01-20T00:00:00",
          "2019-01-27T00:00:00",
          "2019-02-03T00:00:00",
          "2019-02-10T00:00:00",
          "2019-02-17T00:00:00",
          "2019-02-24T00:00:00",
          "2019-03-03T00:00:00",
          "2019-03-10T00:00:00",
          "2019-03-17T00:00:00",
          "2019-03-24T00:00:00",
          "2019-03-31T00:00:00",
          "2019-04-07T00:00:00",
          "2019-04-14T00:00:00",
          "2019-04-21T00:00:00",
          "2019-04-28T00:00:00",
          "2019-05-05T00:00:00",
          "2019-05-12T00:00:00",
          "2019-05-19T00:00:00",
          "2019-05-26T00:00:00",
          "2019-06-02T00:00:00",
          "2019-06-09T00:00:00",
          "2019-06-16T00:00:00",
          "2019-06-23T00:00:00",
          "2019-06-30T00:00:00",
          "2019-07-07T00:00:00",
          "2019-07-14T00:00:00",
          "2019-07-21T00:00:00",
          "2019-07-28T00:00:00",
          "2019-08-04T00:00:00",
          "2019-08-11T00:00:00",
          "2019-08-18T00:00:00",
          "2019-08-25T00:00:00",
          "2019-09-01T00:00:00",
          "2019-09-08T00:00:00",
          "2019-09-15T00:00:00",
          "2019-09-22T00:00:00",
          "2019-09-29T00:00:00",
          "2019-10-06T00:00:00",
          "2019-10-13T00:00:00",
          "2019-10-20T00:00:00",
          "2019-10-27T00:00:00",
          "2019-11-03T00:00:00",
          "2019-11-10T00:00:00",
          "2019-11-17T00:00:00",
          "2019-11-24T00:00:00",
          "2019-12-01T00:00:00",
          "2019-12-08T00:00:00",
          "2019-12-15T00:00:00",
          "2019-12-22T00:00:00",
          "2019-12-29T00:00:00",
          "2020-01-05T00:00:00",
          "2020-01-12T00:00:00",
          "2020-01-19T00:00:00",
          "2020-01-26T00:00:00",
          "2020-02-02T00:00:00",
          "2020-02-09T00:00:00",
          "2020-02-16T00:00:00",
          "2020-02-23T00:00:00",
          "2020-03-01T00:00:00",
          "2020-03-08T00:00:00",
          "2020-03-15T00:00:00",
          "2020-03-22T00:00:00",
          "2020-03-29T00:00:00",
          "2020-04-05T00:00:00",
          "2020-04-12T00:00:00",
          "2020-04-19T00:00:00",
          "2020-04-26T00:00:00",
          "2020-05-03T00:00:00",
          "2020-05-10T00:00:00",
          "2020-05-17T00:00:00",
          "2020-05-24T00:00:00",
          "2020-05-31T00:00:00",
          "2020-06-07T00:00:00",
          "2020-06-14T00:00:00",
          "2020-06-21T00:00:00",
          "2020-06-28T00:00:00",
          "2020-07-05T00:00:00",
          "2020-07-12T00:00:00",
          "2020-07-19T00:00:00",
          "2020-07-26T00:00:00",
          "2020-08-02T00:00:00",
          "2020-08-09T00:00:00",
          "2020-08-16T00:00:00",
          "2020-08-23T00:00:00",
          "2020-08-30T00:00:00",
          "2020-09-06T00:00:00",
          "2020-09-13T00:00:00",
          "2020-09-20T00:00:00",
          "2020-09-27T00:00:00",
          "2020-10-04T00:00:00",
          "2020-10-11T00:00:00",
          "2020-10-18T00:00:00",
          "2020-10-25T00:00:00",
          "2020-11-01T00:00:00",
          "2020-11-08T00:00:00",
          "2020-11-15T00:00:00",
          "2020-11-22T00:00:00",
          "2020-11-29T00:00:00",
          "2020-12-06T00:00:00",
          "2020-12-13T00:00:00",
          "2020-12-20T00:00:00",
          "2020-12-27T00:00:00",
          "2021-01-03T00:00:00"
         ],
         "xaxis": "x12",
         "y": [
          null,
          null,
          1022.11,
          917.52,
          null,
          1286.27,
          1292.21,
          18.79,
          null,
          null,
          null,
          null,
          null,
          null,
          null,
          null,
          null,
          null,
          null,
          null,
          null,
          null,
          null,
          null,
          null,
          822.01,
          null,
          968.99,
          null,
          null,
          null,
          null,
          926.13,
          null,
          null,
          null,
          1005.22,
          null,
          1003.92,
          null,
          1066.31,
          null,
          null,
          null,
          null,
          null,
          null,
          null,
          null,
          1122.06,
          965.24,
          null,
          null,
          null,
          null,
          null,
          1001.9,
          null,
          1036.15,
          1121.57,
          null,
          null,
          1065.73,
          null,
          null,
          null,
          null,
          null,
          null,
          1009.39,
          1070.8249999999998,
          null,
          992.74,
          null,
          null,
          1050.5,
          null,
          942.485,
          null,
          null,
          null,
          null,
          null,
          918.58,
          null,
          null,
          834.55,
          null,
          null,
          null,
          null,
          null,
          1012.1,
          null,
          null,
          null,
          null,
          null,
          null,
          null,
          null,
          null,
          1093.47,
          null,
          null
         ],
         "yaxis": "y12"
        },
        {
         "hovertemplate": "is_fraud=1<br>merchant=fraud_Kuhn LLC<br>transaction_time=%{x}<br>amount(usd)=%{y}<extra></extra>",
         "legendgroup": "1",
         "marker": {
          "color": "#61E50F",
          "symbol": "circle"
         },
         "mode": "markers",
         "name": "1",
         "showlegend": false,
         "type": "scattergl",
         "x": [
          "2019-01-06T00:00:00",
          "2019-01-13T00:00:00",
          "2019-01-20T00:00:00",
          "2019-01-27T00:00:00",
          "2019-02-03T00:00:00",
          "2019-02-10T00:00:00",
          "2019-02-17T00:00:00",
          "2019-02-24T00:00:00",
          "2019-03-03T00:00:00",
          "2019-03-10T00:00:00",
          "2019-03-17T00:00:00",
          "2019-03-24T00:00:00",
          "2019-03-31T00:00:00",
          "2019-04-07T00:00:00",
          "2019-04-14T00:00:00",
          "2019-04-21T00:00:00",
          "2019-04-28T00:00:00",
          "2019-05-05T00:00:00",
          "2019-05-12T00:00:00",
          "2019-05-19T00:00:00",
          "2019-05-26T00:00:00",
          "2019-06-02T00:00:00",
          "2019-06-09T00:00:00",
          "2019-06-16T00:00:00",
          "2019-06-23T00:00:00",
          "2019-06-30T00:00:00",
          "2019-07-07T00:00:00",
          "2019-07-14T00:00:00",
          "2019-07-21T00:00:00",
          "2019-07-28T00:00:00",
          "2019-08-04T00:00:00",
          "2019-08-11T00:00:00",
          "2019-08-18T00:00:00",
          "2019-08-25T00:00:00",
          "2019-09-01T00:00:00",
          "2019-09-08T00:00:00",
          "2019-09-15T00:00:00",
          "2019-09-22T00:00:00",
          "2019-09-29T00:00:00",
          "2019-10-06T00:00:00",
          "2019-10-13T00:00:00",
          "2019-10-20T00:00:00",
          "2019-10-27T00:00:00",
          "2019-11-03T00:00:00",
          "2019-11-10T00:00:00",
          "2019-11-17T00:00:00",
          "2019-11-24T00:00:00",
          "2019-12-01T00:00:00",
          "2019-12-08T00:00:00",
          "2019-12-15T00:00:00",
          "2019-12-22T00:00:00",
          "2019-12-29T00:00:00",
          "2020-01-05T00:00:00",
          "2020-01-12T00:00:00",
          "2020-01-19T00:00:00",
          "2020-01-26T00:00:00",
          "2020-02-02T00:00:00",
          "2020-02-09T00:00:00",
          "2020-02-16T00:00:00",
          "2020-02-23T00:00:00",
          "2020-03-01T00:00:00",
          "2020-03-08T00:00:00",
          "2020-03-15T00:00:00",
          "2020-03-22T00:00:00",
          "2020-03-29T00:00:00",
          "2020-04-05T00:00:00",
          "2020-04-12T00:00:00",
          "2020-04-19T00:00:00",
          "2020-04-26T00:00:00",
          "2020-05-03T00:00:00",
          "2020-05-10T00:00:00",
          "2020-05-17T00:00:00",
          "2020-05-24T00:00:00",
          "2020-05-31T00:00:00",
          "2020-06-07T00:00:00",
          "2020-06-14T00:00:00",
          "2020-06-21T00:00:00",
          "2020-06-28T00:00:00",
          "2020-07-05T00:00:00",
          "2020-07-12T00:00:00",
          "2020-07-19T00:00:00",
          "2020-07-26T00:00:00",
          "2020-08-02T00:00:00",
          "2020-08-09T00:00:00",
          "2020-08-16T00:00:00",
          "2020-08-23T00:00:00",
          "2020-08-30T00:00:00",
          "2020-09-06T00:00:00",
          "2020-09-13T00:00:00",
          "2020-09-20T00:00:00",
          "2020-09-27T00:00:00",
          "2020-10-04T00:00:00",
          "2020-10-11T00:00:00",
          "2020-10-18T00:00:00",
          "2020-10-25T00:00:00",
          "2020-11-01T00:00:00",
          "2020-11-08T00:00:00",
          "2020-11-15T00:00:00",
          "2020-11-22T00:00:00",
          "2020-11-29T00:00:00",
          "2020-12-06T00:00:00",
          "2020-12-13T00:00:00",
          "2020-12-20T00:00:00",
          "2020-12-27T00:00:00",
          "2021-01-03T00:00:00"
         ],
         "xaxis": "x7",
         "y": [
          null,
          null,
          null,
          null,
          905.96,
          802.15,
          null,
          null,
          749.98,
          null,
          null,
          null,
          917.64,
          907.76,
          null,
          765.365,
          776.37,
          null,
          714.34,
          null,
          1145.9,
          null,
          null,
          791.6,
          null,
          null,
          null,
          843.3,
          null,
          null,
          780.63,
          null,
          654.83,
          null,
          854.0799999999999,
          825.33,
          953.49,
          null,
          null,
          null,
          null,
          799.5,
          692.24,
          null,
          null,
          694.82,
          null,
          null,
          678.9,
          940.02,
          null,
          null,
          814.54,
          974.01,
          null,
          833.54,
          null,
          null,
          null,
          null,
          905.07,
          null,
          null,
          null,
          null,
          null,
          null,
          null,
          970.97,
          null,
          778.53,
          884.7133333333333,
          null,
          656,
          810.62,
          1376.04,
          null,
          777.45,
          null,
          null,
          null,
          null,
          720.24,
          null,
          590.22,
          null,
          null,
          null,
          935.6,
          914.68,
          805.5250000000001,
          null,
          814.7,
          null,
          null,
          null,
          null,
          null,
          null,
          null,
          null,
          null,
          777.27,
          868.09,
          null
         ],
         "yaxis": "y7"
        },
        {
         "hovertemplate": "is_fraud=1<br>merchant=fraud_Boyer PLC<br>transaction_time=%{x}<br>amount(usd)=%{y}<extra></extra>",
         "legendgroup": "1",
         "marker": {
          "color": "#61E50F",
          "symbol": "circle"
         },
         "mode": "markers",
         "name": "1",
         "showlegend": false,
         "type": "scattergl",
         "x": [
          "2019-01-06T00:00:00",
          "2019-01-13T00:00:00",
          "2019-01-20T00:00:00",
          "2019-01-27T00:00:00",
          "2019-02-03T00:00:00",
          "2019-02-10T00:00:00",
          "2019-02-17T00:00:00",
          "2019-02-24T00:00:00",
          "2019-03-03T00:00:00",
          "2019-03-10T00:00:00",
          "2019-03-17T00:00:00",
          "2019-03-24T00:00:00",
          "2019-03-31T00:00:00",
          "2019-04-07T00:00:00",
          "2019-04-14T00:00:00",
          "2019-04-21T00:00:00",
          "2019-04-28T00:00:00",
          "2019-05-05T00:00:00",
          "2019-05-12T00:00:00",
          "2019-05-19T00:00:00",
          "2019-05-26T00:00:00",
          "2019-06-02T00:00:00",
          "2019-06-09T00:00:00",
          "2019-06-16T00:00:00",
          "2019-06-23T00:00:00",
          "2019-06-30T00:00:00",
          "2019-07-07T00:00:00",
          "2019-07-14T00:00:00",
          "2019-07-21T00:00:00",
          "2019-07-28T00:00:00",
          "2019-08-04T00:00:00",
          "2019-08-11T00:00:00",
          "2019-08-18T00:00:00",
          "2019-08-25T00:00:00",
          "2019-09-01T00:00:00",
          "2019-09-08T00:00:00",
          "2019-09-15T00:00:00",
          "2019-09-22T00:00:00",
          "2019-09-29T00:00:00",
          "2019-10-06T00:00:00",
          "2019-10-13T00:00:00",
          "2019-10-20T00:00:00",
          "2019-10-27T00:00:00",
          "2019-11-03T00:00:00",
          "2019-11-10T00:00:00",
          "2019-11-17T00:00:00",
          "2019-11-24T00:00:00",
          "2019-12-01T00:00:00",
          "2019-12-08T00:00:00",
          "2019-12-15T00:00:00",
          "2019-12-22T00:00:00",
          "2019-12-29T00:00:00",
          "2020-01-05T00:00:00",
          "2020-01-12T00:00:00",
          "2020-01-19T00:00:00",
          "2020-01-26T00:00:00",
          "2020-02-02T00:00:00",
          "2020-02-09T00:00:00",
          "2020-02-16T00:00:00",
          "2020-02-23T00:00:00",
          "2020-03-01T00:00:00",
          "2020-03-08T00:00:00",
          "2020-03-15T00:00:00",
          "2020-03-22T00:00:00",
          "2020-03-29T00:00:00",
          "2020-04-05T00:00:00",
          "2020-04-12T00:00:00",
          "2020-04-19T00:00:00",
          "2020-04-26T00:00:00",
          "2020-05-03T00:00:00",
          "2020-05-10T00:00:00",
          "2020-05-17T00:00:00",
          "2020-05-24T00:00:00",
          "2020-05-31T00:00:00",
          "2020-06-07T00:00:00",
          "2020-06-14T00:00:00",
          "2020-06-21T00:00:00",
          "2020-06-28T00:00:00",
          "2020-07-05T00:00:00",
          "2020-07-12T00:00:00",
          "2020-07-19T00:00:00",
          "2020-07-26T00:00:00",
          "2020-08-02T00:00:00",
          "2020-08-09T00:00:00",
          "2020-08-16T00:00:00",
          "2020-08-23T00:00:00",
          "2020-08-30T00:00:00",
          "2020-09-06T00:00:00",
          "2020-09-13T00:00:00",
          "2020-09-20T00:00:00",
          "2020-09-27T00:00:00",
          "2020-10-04T00:00:00",
          "2020-10-11T00:00:00",
          "2020-10-18T00:00:00",
          "2020-10-25T00:00:00",
          "2020-11-01T00:00:00",
          "2020-11-08T00:00:00",
          "2020-11-15T00:00:00",
          "2020-11-22T00:00:00",
          "2020-11-29T00:00:00",
          "2020-12-06T00:00:00",
          "2020-12-13T00:00:00",
          "2020-12-20T00:00:00",
          "2020-12-27T00:00:00",
          "2021-01-03T00:00:00"
         ],
         "xaxis": "x8",
         "y": [
          null,
          847.72,
          978.96,
          null,
          null,
          901.63,
          null,
          null,
          901.2,
          1039.27,
          null,
          null,
          null,
          null,
          null,
          974.335,
          944.92,
          null,
          null,
          984.26,
          null,
          null,
          null,
          null,
          null,
          null,
          1086.75,
          null,
          null,
          null,
          null,
          1120.05,
          935.22,
          null,
          977.82,
          1191.33,
          941.63,
          null,
          1012.31,
          null,
          null,
          1105.82,
          983.28,
          null,
          null,
          null,
          null,
          989.81,
          1089.82,
          521.02,
          null,
          885.44,
          877.23,
          1136.81,
          null,
          null,
          1011.34,
          null,
          null,
          null,
          1140.22,
          null,
          null,
          964.42,
          null,
          931.21,
          null,
          null,
          null,
          958.27,
          null,
          null,
          956.23,
          null,
          null,
          null,
          null,
          935.06,
          null,
          null,
          null,
          null,
          null,
          null,
          null,
          1017.67,
          null,
          1159.44,
          null,
          null,
          1203.92,
          8.22,
          null,
          null,
          null,
          1046.08,
          992.26,
          1013.2,
          null,
          1082.63,
          null,
          null,
          null,
          null,
          null
         ],
         "yaxis": "y8"
        },
        {
         "hovertemplate": "is_fraud=1<br>merchant=fraud_Dickinson Ltd<br>transaction_time=%{x}<br>amount(usd)=%{y}<extra></extra>",
         "legendgroup": "1",
         "marker": {
          "color": "#61E50F",
          "symbol": "circle"
         },
         "mode": "markers",
         "name": "1",
         "showlegend": false,
         "type": "scattergl",
         "x": [
          "2019-01-06T00:00:00",
          "2019-01-13T00:00:00",
          "2019-01-20T00:00:00",
          "2019-01-27T00:00:00",
          "2019-02-03T00:00:00",
          "2019-02-10T00:00:00",
          "2019-02-17T00:00:00",
          "2019-02-24T00:00:00",
          "2019-03-03T00:00:00",
          "2019-03-10T00:00:00",
          "2019-03-17T00:00:00",
          "2019-03-24T00:00:00",
          "2019-03-31T00:00:00",
          "2019-04-07T00:00:00",
          "2019-04-14T00:00:00",
          "2019-04-21T00:00:00",
          "2019-04-28T00:00:00",
          "2019-05-05T00:00:00",
          "2019-05-12T00:00:00",
          "2019-05-19T00:00:00",
          "2019-05-26T00:00:00",
          "2019-06-02T00:00:00",
          "2019-06-09T00:00:00",
          "2019-06-16T00:00:00",
          "2019-06-23T00:00:00",
          "2019-06-30T00:00:00",
          "2019-07-07T00:00:00",
          "2019-07-14T00:00:00",
          "2019-07-21T00:00:00",
          "2019-07-28T00:00:00",
          "2019-08-04T00:00:00",
          "2019-08-11T00:00:00",
          "2019-08-18T00:00:00",
          "2019-08-25T00:00:00",
          "2019-09-01T00:00:00",
          "2019-09-08T00:00:00",
          "2019-09-15T00:00:00",
          "2019-09-22T00:00:00",
          "2019-09-29T00:00:00",
          "2019-10-06T00:00:00",
          "2019-10-13T00:00:00",
          "2019-10-20T00:00:00",
          "2019-10-27T00:00:00",
          "2019-11-03T00:00:00",
          "2019-11-10T00:00:00",
          "2019-11-17T00:00:00",
          "2019-11-24T00:00:00",
          "2019-12-01T00:00:00",
          "2019-12-08T00:00:00",
          "2019-12-15T00:00:00",
          "2019-12-22T00:00:00",
          "2019-12-29T00:00:00",
          "2020-01-05T00:00:00",
          "2020-01-12T00:00:00",
          "2020-01-19T00:00:00",
          "2020-01-26T00:00:00",
          "2020-02-02T00:00:00",
          "2020-02-09T00:00:00",
          "2020-02-16T00:00:00",
          "2020-02-23T00:00:00",
          "2020-03-01T00:00:00",
          "2020-03-08T00:00:00",
          "2020-03-15T00:00:00",
          "2020-03-22T00:00:00",
          "2020-03-29T00:00:00",
          "2020-04-05T00:00:00",
          "2020-04-12T00:00:00",
          "2020-04-19T00:00:00",
          "2020-04-26T00:00:00",
          "2020-05-03T00:00:00",
          "2020-05-10T00:00:00",
          "2020-05-17T00:00:00",
          "2020-05-24T00:00:00",
          "2020-05-31T00:00:00",
          "2020-06-07T00:00:00",
          "2020-06-14T00:00:00",
          "2020-06-21T00:00:00",
          "2020-06-28T00:00:00",
          "2020-07-05T00:00:00",
          "2020-07-12T00:00:00",
          "2020-07-19T00:00:00",
          "2020-07-26T00:00:00",
          "2020-08-02T00:00:00",
          "2020-08-09T00:00:00",
          "2020-08-16T00:00:00",
          "2020-08-23T00:00:00",
          "2020-08-30T00:00:00",
          "2020-09-06T00:00:00",
          "2020-09-13T00:00:00",
          "2020-09-20T00:00:00",
          "2020-09-27T00:00:00",
          "2020-10-04T00:00:00",
          "2020-10-11T00:00:00",
          "2020-10-18T00:00:00",
          "2020-10-25T00:00:00",
          "2020-11-01T00:00:00",
          "2020-11-08T00:00:00",
          "2020-11-15T00:00:00",
          "2020-11-22T00:00:00",
          "2020-11-29T00:00:00",
          "2020-12-06T00:00:00",
          "2020-12-13T00:00:00",
          "2020-12-20T00:00:00",
          "2020-12-27T00:00:00",
          "2021-01-03T00:00:00"
         ],
         "xaxis": "x9",
         "y": [
          null,
          null,
          null,
          null,
          null,
          null,
          null,
          null,
          null,
          null,
          null,
          null,
          null,
          null,
          null,
          null,
          null,
          null,
          null,
          null,
          null,
          null,
          null,
          null,
          null,
          null,
          null,
          null,
          null,
          null,
          null,
          null,
          null,
          null,
          null,
          null,
          null,
          null,
          22.46,
          null,
          null,
          null,
          null,
          null,
          null,
          null,
          null,
          50.24,
          null,
          null,
          null,
          null,
          null,
          null,
          7.99,
          null,
          null,
          null,
          null,
          null,
          null,
          null,
          null,
          null,
          null,
          null,
          null,
          null,
          null,
          717.73,
          null,
          null,
          null,
          null,
          null,
          939.91,
          null,
          null,
          null,
          null,
          null,
          null,
          null,
          52.82,
          null,
          null,
          null,
          null,
          null,
          null,
          null,
          null,
          null,
          null,
          null,
          null,
          null,
          null,
          null,
          null,
          null,
          null,
          null,
          null,
          null
         ],
         "yaxis": "y9"
        },
        {
         "hovertemplate": "is_fraud=1<br>merchant=fraud_Cummerata-Jones<br>transaction_time=%{x}<br>amount(usd)=%{y}<extra></extra>",
         "legendgroup": "1",
         "marker": {
          "color": "#61E50F",
          "symbol": "circle"
         },
         "mode": "markers",
         "name": "1",
         "showlegend": false,
         "type": "scattergl",
         "x": [
          "2019-01-06T00:00:00",
          "2019-01-13T00:00:00",
          "2019-01-20T00:00:00",
          "2019-01-27T00:00:00",
          "2019-02-03T00:00:00",
          "2019-02-10T00:00:00",
          "2019-02-17T00:00:00",
          "2019-02-24T00:00:00",
          "2019-03-03T00:00:00",
          "2019-03-10T00:00:00",
          "2019-03-17T00:00:00",
          "2019-03-24T00:00:00",
          "2019-03-31T00:00:00",
          "2019-04-07T00:00:00",
          "2019-04-14T00:00:00",
          "2019-04-21T00:00:00",
          "2019-04-28T00:00:00",
          "2019-05-05T00:00:00",
          "2019-05-12T00:00:00",
          "2019-05-19T00:00:00",
          "2019-05-26T00:00:00",
          "2019-06-02T00:00:00",
          "2019-06-09T00:00:00",
          "2019-06-16T00:00:00",
          "2019-06-23T00:00:00",
          "2019-06-30T00:00:00",
          "2019-07-07T00:00:00",
          "2019-07-14T00:00:00",
          "2019-07-21T00:00:00",
          "2019-07-28T00:00:00",
          "2019-08-04T00:00:00",
          "2019-08-11T00:00:00",
          "2019-08-18T00:00:00",
          "2019-08-25T00:00:00",
          "2019-09-01T00:00:00",
          "2019-09-08T00:00:00",
          "2019-09-15T00:00:00",
          "2019-09-22T00:00:00",
          "2019-09-29T00:00:00",
          "2019-10-06T00:00:00",
          "2019-10-13T00:00:00",
          "2019-10-20T00:00:00",
          "2019-10-27T00:00:00",
          "2019-11-03T00:00:00",
          "2019-11-10T00:00:00",
          "2019-11-17T00:00:00",
          "2019-11-24T00:00:00",
          "2019-12-01T00:00:00",
          "2019-12-08T00:00:00",
          "2019-12-15T00:00:00",
          "2019-12-22T00:00:00",
          "2019-12-29T00:00:00",
          "2020-01-05T00:00:00",
          "2020-01-12T00:00:00",
          "2020-01-19T00:00:00",
          "2020-01-26T00:00:00",
          "2020-02-02T00:00:00",
          "2020-02-09T00:00:00",
          "2020-02-16T00:00:00",
          "2020-02-23T00:00:00",
          "2020-03-01T00:00:00",
          "2020-03-08T00:00:00",
          "2020-03-15T00:00:00",
          "2020-03-22T00:00:00",
          "2020-03-29T00:00:00",
          "2020-04-05T00:00:00",
          "2020-04-12T00:00:00",
          "2020-04-19T00:00:00",
          "2020-04-26T00:00:00",
          "2020-05-03T00:00:00",
          "2020-05-10T00:00:00",
          "2020-05-17T00:00:00",
          "2020-05-24T00:00:00",
          "2020-05-31T00:00:00",
          "2020-06-07T00:00:00",
          "2020-06-14T00:00:00",
          "2020-06-21T00:00:00",
          "2020-06-28T00:00:00",
          "2020-07-05T00:00:00",
          "2020-07-12T00:00:00",
          "2020-07-19T00:00:00",
          "2020-07-26T00:00:00",
          "2020-08-02T00:00:00",
          "2020-08-09T00:00:00",
          "2020-08-16T00:00:00",
          "2020-08-23T00:00:00",
          "2020-08-30T00:00:00",
          "2020-09-06T00:00:00",
          "2020-09-13T00:00:00",
          "2020-09-20T00:00:00",
          "2020-09-27T00:00:00",
          "2020-10-04T00:00:00",
          "2020-10-11T00:00:00",
          "2020-10-18T00:00:00",
          "2020-10-25T00:00:00",
          "2020-11-01T00:00:00",
          "2020-11-08T00:00:00",
          "2020-11-15T00:00:00",
          "2020-11-22T00:00:00",
          "2020-11-29T00:00:00",
          "2020-12-06T00:00:00",
          "2020-12-13T00:00:00",
          "2020-12-20T00:00:00",
          "2020-12-27T00:00:00",
          "2021-01-03T00:00:00"
         ],
         "xaxis": "x4",
         "y": [
          null,
          9.15,
          null,
          null,
          null,
          null,
          9.4,
          6.78,
          null,
          null,
          null,
          null,
          null,
          null,
          null,
          null,
          null,
          9.71,
          null,
          null,
          null,
          null,
          null,
          11.62,
          null,
          9.68,
          null,
          null,
          null,
          null,
          null,
          null,
          null,
          null,
          13.78,
          9.18,
          null,
          null,
          null,
          null,
          null,
          null,
          null,
          null,
          null,
          null,
          null,
          null,
          null,
          null,
          null,
          null,
          null,
          null,
          null,
          null,
          null,
          null,
          null,
          null,
          null,
          null,
          null,
          9.33,
          null,
          10.84,
          null,
          9.36,
          null,
          null,
          null,
          null,
          null,
          null,
          null,
          null,
          null,
          null,
          null,
          10.77,
          null,
          null,
          null,
          null,
          11.17,
          null,
          null,
          8.44,
          null,
          null,
          null,
          null,
          11.82,
          null,
          13.98,
          null,
          null,
          null,
          null,
          10.34,
          10.75,
          null,
          null,
          null,
          null
         ],
         "yaxis": "y4"
        },
        {
         "hovertemplate": "is_fraud=1<br>merchant=fraud_Stroman, Hudson and Erdman<br>transaction_time=%{x}<br>amount(usd)=%{y}<extra></extra>",
         "legendgroup": "1",
         "marker": {
          "color": "#61E50F",
          "symbol": "circle"
         },
         "mode": "markers",
         "name": "1",
         "showlegend": false,
         "type": "scattergl",
         "x": [
          "2019-01-06T00:00:00",
          "2019-01-13T00:00:00",
          "2019-01-20T00:00:00",
          "2019-01-27T00:00:00",
          "2019-02-03T00:00:00",
          "2019-02-10T00:00:00",
          "2019-02-17T00:00:00",
          "2019-02-24T00:00:00",
          "2019-03-03T00:00:00",
          "2019-03-10T00:00:00",
          "2019-03-17T00:00:00",
          "2019-03-24T00:00:00",
          "2019-03-31T00:00:00",
          "2019-04-07T00:00:00",
          "2019-04-14T00:00:00",
          "2019-04-21T00:00:00",
          "2019-04-28T00:00:00",
          "2019-05-05T00:00:00",
          "2019-05-12T00:00:00",
          "2019-05-19T00:00:00",
          "2019-05-26T00:00:00",
          "2019-06-02T00:00:00",
          "2019-06-09T00:00:00",
          "2019-06-16T00:00:00",
          "2019-06-23T00:00:00",
          "2019-06-30T00:00:00",
          "2019-07-07T00:00:00",
          "2019-07-14T00:00:00",
          "2019-07-21T00:00:00",
          "2019-07-28T00:00:00",
          "2019-08-04T00:00:00",
          "2019-08-11T00:00:00",
          "2019-08-18T00:00:00",
          "2019-08-25T00:00:00",
          "2019-09-01T00:00:00",
          "2019-09-08T00:00:00",
          "2019-09-15T00:00:00",
          "2019-09-22T00:00:00",
          "2019-09-29T00:00:00",
          "2019-10-06T00:00:00",
          "2019-10-13T00:00:00",
          "2019-10-20T00:00:00",
          "2019-10-27T00:00:00",
          "2019-11-03T00:00:00",
          "2019-11-10T00:00:00",
          "2019-11-17T00:00:00",
          "2019-11-24T00:00:00",
          "2019-12-01T00:00:00",
          "2019-12-08T00:00:00",
          "2019-12-15T00:00:00",
          "2019-12-22T00:00:00",
          "2019-12-29T00:00:00",
          "2020-01-05T00:00:00",
          "2020-01-12T00:00:00",
          "2020-01-19T00:00:00",
          "2020-01-26T00:00:00",
          "2020-02-02T00:00:00",
          "2020-02-09T00:00:00",
          "2020-02-16T00:00:00",
          "2020-02-23T00:00:00",
          "2020-03-01T00:00:00",
          "2020-03-08T00:00:00",
          "2020-03-15T00:00:00",
          "2020-03-22T00:00:00",
          "2020-03-29T00:00:00",
          "2020-04-05T00:00:00",
          "2020-04-12T00:00:00",
          "2020-04-19T00:00:00",
          "2020-04-26T00:00:00",
          "2020-05-03T00:00:00",
          "2020-05-10T00:00:00",
          "2020-05-17T00:00:00",
          "2020-05-24T00:00:00",
          "2020-05-31T00:00:00",
          "2020-06-07T00:00:00",
          "2020-06-14T00:00:00",
          "2020-06-21T00:00:00",
          "2020-06-28T00:00:00",
          "2020-07-05T00:00:00",
          "2020-07-12T00:00:00",
          "2020-07-19T00:00:00",
          "2020-07-26T00:00:00",
          "2020-08-02T00:00:00",
          "2020-08-09T00:00:00",
          "2020-08-16T00:00:00",
          "2020-08-23T00:00:00",
          "2020-08-30T00:00:00",
          "2020-09-06T00:00:00",
          "2020-09-13T00:00:00",
          "2020-09-20T00:00:00",
          "2020-09-27T00:00:00",
          "2020-10-04T00:00:00",
          "2020-10-11T00:00:00",
          "2020-10-18T00:00:00",
          "2020-10-25T00:00:00",
          "2020-11-01T00:00:00",
          "2020-11-08T00:00:00",
          "2020-11-15T00:00:00",
          "2020-11-22T00:00:00",
          "2020-11-29T00:00:00",
          "2020-12-06T00:00:00",
          "2020-12-13T00:00:00",
          "2020-12-20T00:00:00",
          "2020-12-27T00:00:00",
          "2021-01-03T00:00:00"
         ],
         "xaxis": "x5",
         "y": [
          null,
          null,
          null,
          null,
          12.34,
          null,
          null,
          null,
          null,
          null,
          16.895,
          null,
          null,
          null,
          null,
          null,
          null,
          null,
          9.48,
          null,
          null,
          null,
          null,
          null,
          null,
          null,
          null,
          null,
          null,
          null,
          null,
          10.57,
          null,
          null,
          null,
          null,
          null,
          null,
          null,
          7.44,
          null,
          null,
          null,
          null,
          null,
          null,
          null,
          null,
          null,
          null,
          null,
          9.82,
          8.97,
          null,
          9.05,
          null,
          null,
          null,
          null,
          null,
          null,
          null,
          null,
          null,
          null,
          null,
          null,
          null,
          null,
          null,
          null,
          null,
          null,
          null,
          null,
          null,
          null,
          18.25,
          null,
          null,
          null,
          null,
          null,
          null,
          null,
          null,
          23.27,
          null,
          null,
          null,
          null,
          null,
          null,
          null,
          null,
          null,
          null,
          null,
          null,
          null,
          null,
          null,
          null,
          11.79,
          null
         ],
         "yaxis": "y5"
        },
        {
         "hovertemplate": "is_fraud=1<br>merchant=fraud_Parisian and Sons<br>transaction_time=%{x}<br>amount(usd)=%{y}<extra></extra>",
         "legendgroup": "1",
         "marker": {
          "color": "#61E50F",
          "symbol": "circle"
         },
         "mode": "markers",
         "name": "1",
         "showlegend": false,
         "type": "scattergl",
         "x": [
          "2019-01-06T00:00:00",
          "2019-01-13T00:00:00",
          "2019-01-20T00:00:00",
          "2019-01-27T00:00:00",
          "2019-02-03T00:00:00",
          "2019-02-10T00:00:00",
          "2019-02-17T00:00:00",
          "2019-02-24T00:00:00",
          "2019-03-03T00:00:00",
          "2019-03-10T00:00:00",
          "2019-03-17T00:00:00",
          "2019-03-24T00:00:00",
          "2019-03-31T00:00:00",
          "2019-04-07T00:00:00",
          "2019-04-14T00:00:00",
          "2019-04-21T00:00:00",
          "2019-04-28T00:00:00",
          "2019-05-05T00:00:00",
          "2019-05-12T00:00:00",
          "2019-05-19T00:00:00",
          "2019-05-26T00:00:00",
          "2019-06-02T00:00:00",
          "2019-06-09T00:00:00",
          "2019-06-16T00:00:00",
          "2019-06-23T00:00:00",
          "2019-06-30T00:00:00",
          "2019-07-07T00:00:00",
          "2019-07-14T00:00:00",
          "2019-07-21T00:00:00",
          "2019-07-28T00:00:00",
          "2019-08-04T00:00:00",
          "2019-08-11T00:00:00",
          "2019-08-18T00:00:00",
          "2019-08-25T00:00:00",
          "2019-09-01T00:00:00",
          "2019-09-08T00:00:00",
          "2019-09-15T00:00:00",
          "2019-09-22T00:00:00",
          "2019-09-29T00:00:00",
          "2019-10-06T00:00:00",
          "2019-10-13T00:00:00",
          "2019-10-20T00:00:00",
          "2019-10-27T00:00:00",
          "2019-11-03T00:00:00",
          "2019-11-10T00:00:00",
          "2019-11-17T00:00:00",
          "2019-11-24T00:00:00",
          "2019-12-01T00:00:00",
          "2019-12-08T00:00:00",
          "2019-12-15T00:00:00",
          "2019-12-22T00:00:00",
          "2019-12-29T00:00:00",
          "2020-01-05T00:00:00",
          "2020-01-12T00:00:00",
          "2020-01-19T00:00:00",
          "2020-01-26T00:00:00",
          "2020-02-02T00:00:00",
          "2020-02-09T00:00:00",
          "2020-02-16T00:00:00",
          "2020-02-23T00:00:00",
          "2020-03-01T00:00:00",
          "2020-03-08T00:00:00",
          "2020-03-15T00:00:00",
          "2020-03-22T00:00:00",
          "2020-03-29T00:00:00",
          "2020-04-05T00:00:00",
          "2020-04-12T00:00:00",
          "2020-04-19T00:00:00",
          "2020-04-26T00:00:00",
          "2020-05-03T00:00:00",
          "2020-05-10T00:00:00",
          "2020-05-17T00:00:00",
          "2020-05-24T00:00:00",
          "2020-05-31T00:00:00",
          "2020-06-07T00:00:00",
          "2020-06-14T00:00:00",
          "2020-06-21T00:00:00",
          "2020-06-28T00:00:00",
          "2020-07-05T00:00:00",
          "2020-07-12T00:00:00",
          "2020-07-19T00:00:00",
          "2020-07-26T00:00:00",
          "2020-08-02T00:00:00",
          "2020-08-09T00:00:00",
          "2020-08-16T00:00:00",
          "2020-08-23T00:00:00",
          "2020-08-30T00:00:00",
          "2020-09-06T00:00:00",
          "2020-09-13T00:00:00",
          "2020-09-20T00:00:00",
          "2020-09-27T00:00:00",
          "2020-10-04T00:00:00",
          "2020-10-11T00:00:00",
          "2020-10-18T00:00:00",
          "2020-10-25T00:00:00",
          "2020-11-01T00:00:00",
          "2020-11-08T00:00:00",
          "2020-11-15T00:00:00",
          "2020-11-22T00:00:00",
          "2020-11-29T00:00:00",
          "2020-12-06T00:00:00",
          "2020-12-13T00:00:00",
          "2020-12-20T00:00:00",
          "2020-12-27T00:00:00",
          "2021-01-03T00:00:00"
         ],
         "xaxis": "x6",
         "y": [
          null,
          null,
          null,
          null,
          null,
          12.515,
          null,
          null,
          null,
          null,
          19.96,
          null,
          null,
          9.36,
          null,
          null,
          16.423333333333332,
          null,
          null,
          null,
          null,
          null,
          null,
          null,
          null,
          null,
          null,
          null,
          null,
          null,
          null,
          null,
          null,
          null,
          17.053333333333335,
          null,
          null,
          null,
          null,
          null,
          null,
          null,
          null,
          null,
          null,
          null,
          null,
          null,
          null,
          12.93,
          null,
          null,
          null,
          7.13,
          null,
          null,
          null,
          null,
          null,
          null,
          null,
          null,
          null,
          null,
          null,
          null,
          null,
          12.17,
          null,
          null,
          null,
          null,
          10.74,
          null,
          null,
          null,
          null,
          null,
          null,
          null,
          10.19,
          null,
          null,
          21.44,
          null,
          null,
          null,
          null,
          9.71,
          null,
          11.19,
          null,
          null,
          null,
          null,
          null,
          null,
          null,
          7.86,
          10.25,
          null,
          14.14,
          null,
          null,
          null
         ],
         "yaxis": "y6"
        },
        {
         "hovertemplate": "is_fraud=1<br>merchant=fraud_Jenkins, Hauck and Friesen<br>transaction_time=%{x}<br>amount(usd)=%{y}<extra></extra>",
         "legendgroup": "1",
         "marker": {
          "color": "#61E50F",
          "symbol": "circle"
         },
         "mode": "markers",
         "name": "1",
         "showlegend": false,
         "type": "scattergl",
         "x": [
          "2019-01-06T00:00:00",
          "2019-01-13T00:00:00",
          "2019-01-20T00:00:00",
          "2019-01-27T00:00:00",
          "2019-02-03T00:00:00",
          "2019-02-10T00:00:00",
          "2019-02-17T00:00:00",
          "2019-02-24T00:00:00",
          "2019-03-03T00:00:00",
          "2019-03-10T00:00:00",
          "2019-03-17T00:00:00",
          "2019-03-24T00:00:00",
          "2019-03-31T00:00:00",
          "2019-04-07T00:00:00",
          "2019-04-14T00:00:00",
          "2019-04-21T00:00:00",
          "2019-04-28T00:00:00",
          "2019-05-05T00:00:00",
          "2019-05-12T00:00:00",
          "2019-05-19T00:00:00",
          "2019-05-26T00:00:00",
          "2019-06-02T00:00:00",
          "2019-06-09T00:00:00",
          "2019-06-16T00:00:00",
          "2019-06-23T00:00:00",
          "2019-06-30T00:00:00",
          "2019-07-07T00:00:00",
          "2019-07-14T00:00:00",
          "2019-07-21T00:00:00",
          "2019-07-28T00:00:00",
          "2019-08-04T00:00:00",
          "2019-08-11T00:00:00",
          "2019-08-18T00:00:00",
          "2019-08-25T00:00:00",
          "2019-09-01T00:00:00",
          "2019-09-08T00:00:00",
          "2019-09-15T00:00:00",
          "2019-09-22T00:00:00",
          "2019-09-29T00:00:00",
          "2019-10-06T00:00:00",
          "2019-10-13T00:00:00",
          "2019-10-20T00:00:00",
          "2019-10-27T00:00:00",
          "2019-11-03T00:00:00",
          "2019-11-10T00:00:00",
          "2019-11-17T00:00:00",
          "2019-11-24T00:00:00",
          "2019-12-01T00:00:00",
          "2019-12-08T00:00:00",
          "2019-12-15T00:00:00",
          "2019-12-22T00:00:00",
          "2019-12-29T00:00:00",
          "2020-01-05T00:00:00",
          "2020-01-12T00:00:00",
          "2020-01-19T00:00:00",
          "2020-01-26T00:00:00",
          "2020-02-02T00:00:00",
          "2020-02-09T00:00:00",
          "2020-02-16T00:00:00",
          "2020-02-23T00:00:00",
          "2020-03-01T00:00:00",
          "2020-03-08T00:00:00",
          "2020-03-15T00:00:00",
          "2020-03-22T00:00:00",
          "2020-03-29T00:00:00",
          "2020-04-05T00:00:00",
          "2020-04-12T00:00:00",
          "2020-04-19T00:00:00",
          "2020-04-26T00:00:00",
          "2020-05-03T00:00:00",
          "2020-05-10T00:00:00",
          "2020-05-17T00:00:00",
          "2020-05-24T00:00:00",
          "2020-05-31T00:00:00",
          "2020-06-07T00:00:00",
          "2020-06-14T00:00:00",
          "2020-06-21T00:00:00",
          "2020-06-28T00:00:00",
          "2020-07-05T00:00:00",
          "2020-07-12T00:00:00",
          "2020-07-19T00:00:00",
          "2020-07-26T00:00:00",
          "2020-08-02T00:00:00",
          "2020-08-09T00:00:00",
          "2020-08-16T00:00:00",
          "2020-08-23T00:00:00",
          "2020-08-30T00:00:00",
          "2020-09-06T00:00:00",
          "2020-09-13T00:00:00",
          "2020-09-20T00:00:00",
          "2020-09-27T00:00:00",
          "2020-10-04T00:00:00",
          "2020-10-11T00:00:00",
          "2020-10-18T00:00:00",
          "2020-10-25T00:00:00",
          "2020-11-01T00:00:00",
          "2020-11-08T00:00:00",
          "2020-11-15T00:00:00",
          "2020-11-22T00:00:00",
          "2020-11-29T00:00:00",
          "2020-12-06T00:00:00",
          "2020-12-13T00:00:00",
          "2020-12-20T00:00:00",
          "2020-12-27T00:00:00",
          "2021-01-03T00:00:00"
         ],
         "xaxis": "x",
         "y": [
          11.52,
          15.82,
          8.25,
          null,
          null,
          8.31,
          null,
          null,
          null,
          null,
          null,
          8.1,
          null,
          11.7,
          null,
          null,
          null,
          null,
          null,
          21.11,
          null,
          null,
          null,
          null,
          null,
          null,
          null,
          null,
          null,
          11.47,
          null,
          null,
          null,
          null,
          18.07,
          null,
          9.84,
          null,
          11.02,
          null,
          null,
          null,
          null,
          null,
          10.21,
          null,
          9.49,
          null,
          null,
          null,
          null,
          null,
          null,
          null,
          null,
          null,
          20.86,
          null,
          null,
          11.92,
          null,
          null,
          null,
          null,
          null,
          null,
          null,
          null,
          null,
          null,
          null,
          null,
          null,
          null,
          null,
          null,
          null,
          null,
          null,
          5.62,
          null,
          null,
          null,
          null,
          null,
          null,
          null,
          null,
          null,
          null,
          9.54,
          null,
          null,
          null,
          null,
          null,
          null,
          null,
          null,
          null,
          13.69,
          null,
          7.05,
          null,
          null
         ],
         "yaxis": "y"
        },
        {
         "hovertemplate": "is_fraud=1<br>merchant=fraud_Huels-Hahn<br>transaction_time=%{x}<br>amount(usd)=%{y}<extra></extra>",
         "legendgroup": "1",
         "marker": {
          "color": "#61E50F",
          "symbol": "circle"
         },
         "mode": "markers",
         "name": "1",
         "showlegend": false,
         "type": "scattergl",
         "x": [
          "2019-01-06T00:00:00",
          "2019-01-13T00:00:00",
          "2019-01-20T00:00:00",
          "2019-01-27T00:00:00",
          "2019-02-03T00:00:00",
          "2019-02-10T00:00:00",
          "2019-02-17T00:00:00",
          "2019-02-24T00:00:00",
          "2019-03-03T00:00:00",
          "2019-03-10T00:00:00",
          "2019-03-17T00:00:00",
          "2019-03-24T00:00:00",
          "2019-03-31T00:00:00",
          "2019-04-07T00:00:00",
          "2019-04-14T00:00:00",
          "2019-04-21T00:00:00",
          "2019-04-28T00:00:00",
          "2019-05-05T00:00:00",
          "2019-05-12T00:00:00",
          "2019-05-19T00:00:00",
          "2019-05-26T00:00:00",
          "2019-06-02T00:00:00",
          "2019-06-09T00:00:00",
          "2019-06-16T00:00:00",
          "2019-06-23T00:00:00",
          "2019-06-30T00:00:00",
          "2019-07-07T00:00:00",
          "2019-07-14T00:00:00",
          "2019-07-21T00:00:00",
          "2019-07-28T00:00:00",
          "2019-08-04T00:00:00",
          "2019-08-11T00:00:00",
          "2019-08-18T00:00:00",
          "2019-08-25T00:00:00",
          "2019-09-01T00:00:00",
          "2019-09-08T00:00:00",
          "2019-09-15T00:00:00",
          "2019-09-22T00:00:00",
          "2019-09-29T00:00:00",
          "2019-10-06T00:00:00",
          "2019-10-13T00:00:00",
          "2019-10-20T00:00:00",
          "2019-10-27T00:00:00",
          "2019-11-03T00:00:00",
          "2019-11-10T00:00:00",
          "2019-11-17T00:00:00",
          "2019-11-24T00:00:00",
          "2019-12-01T00:00:00",
          "2019-12-08T00:00:00",
          "2019-12-15T00:00:00",
          "2019-12-22T00:00:00",
          "2019-12-29T00:00:00",
          "2020-01-05T00:00:00",
          "2020-01-12T00:00:00",
          "2020-01-19T00:00:00",
          "2020-01-26T00:00:00",
          "2020-02-02T00:00:00",
          "2020-02-09T00:00:00",
          "2020-02-16T00:00:00",
          "2020-02-23T00:00:00",
          "2020-03-01T00:00:00",
          "2020-03-08T00:00:00",
          "2020-03-15T00:00:00",
          "2020-03-22T00:00:00",
          "2020-03-29T00:00:00",
          "2020-04-05T00:00:00",
          "2020-04-12T00:00:00",
          "2020-04-19T00:00:00",
          "2020-04-26T00:00:00",
          "2020-05-03T00:00:00",
          "2020-05-10T00:00:00",
          "2020-05-17T00:00:00",
          "2020-05-24T00:00:00",
          "2020-05-31T00:00:00",
          "2020-06-07T00:00:00",
          "2020-06-14T00:00:00",
          "2020-06-21T00:00:00",
          "2020-06-28T00:00:00",
          "2020-07-05T00:00:00",
          "2020-07-12T00:00:00",
          "2020-07-19T00:00:00",
          "2020-07-26T00:00:00",
          "2020-08-02T00:00:00",
          "2020-08-09T00:00:00",
          "2020-08-16T00:00:00",
          "2020-08-23T00:00:00",
          "2020-08-30T00:00:00",
          "2020-09-06T00:00:00",
          "2020-09-13T00:00:00",
          "2020-09-20T00:00:00",
          "2020-09-27T00:00:00",
          "2020-10-04T00:00:00",
          "2020-10-11T00:00:00",
          "2020-10-18T00:00:00",
          "2020-10-25T00:00:00",
          "2020-11-01T00:00:00",
          "2020-11-08T00:00:00",
          "2020-11-15T00:00:00",
          "2020-11-22T00:00:00",
          "2020-11-29T00:00:00",
          "2020-12-06T00:00:00",
          "2020-12-13T00:00:00",
          "2020-12-20T00:00:00",
          "2020-12-27T00:00:00",
          "2021-01-03T00:00:00"
         ],
         "xaxis": "x2",
         "y": [
          null,
          null,
          null,
          null,
          12.41,
          9.13,
          null,
          null,
          null,
          11.08,
          10.86,
          null,
          null,
          null,
          null,
          9.07,
          null,
          null,
          null,
          null,
          null,
          null,
          null,
          null,
          null,
          null,
          null,
          null,
          null,
          null,
          null,
          null,
          null,
          null,
          null,
          null,
          null,
          null,
          null,
          null,
          null,
          null,
          14.39,
          null,
          null,
          null,
          null,
          null,
          null,
          null,
          null,
          null,
          null,
          null,
          null,
          null,
          null,
          null,
          null,
          null,
          null,
          null,
          null,
          null,
          null,
          null,
          null,
          null,
          null,
          null,
          null,
          10.32,
          8.37,
          null,
          null,
          18.32,
          null,
          null,
          null,
          null,
          null,
          null,
          null,
          null,
          null,
          null,
          null,
          null,
          null,
          null,
          null,
          null,
          null,
          null,
          null,
          null,
          null,
          null,
          null,
          null,
          null,
          null,
          null,
          null,
          null
         ],
         "yaxis": "y2"
        },
        {
         "hovertemplate": "is_fraud=1<br>merchant=fraud_Kling Inc<br>transaction_time=%{x}<br>amount(usd)=%{y}<extra></extra>",
         "legendgroup": "1",
         "marker": {
          "color": "#61E50F",
          "symbol": "circle"
         },
         "mode": "markers",
         "name": "1",
         "showlegend": false,
         "type": "scattergl",
         "x": [
          "2019-01-06T00:00:00",
          "2019-01-13T00:00:00",
          "2019-01-20T00:00:00",
          "2019-01-27T00:00:00",
          "2019-02-03T00:00:00",
          "2019-02-10T00:00:00",
          "2019-02-17T00:00:00",
          "2019-02-24T00:00:00",
          "2019-03-03T00:00:00",
          "2019-03-10T00:00:00",
          "2019-03-17T00:00:00",
          "2019-03-24T00:00:00",
          "2019-03-31T00:00:00",
          "2019-04-07T00:00:00",
          "2019-04-14T00:00:00",
          "2019-04-21T00:00:00",
          "2019-04-28T00:00:00",
          "2019-05-05T00:00:00",
          "2019-05-12T00:00:00",
          "2019-05-19T00:00:00",
          "2019-05-26T00:00:00",
          "2019-06-02T00:00:00",
          "2019-06-09T00:00:00",
          "2019-06-16T00:00:00",
          "2019-06-23T00:00:00",
          "2019-06-30T00:00:00",
          "2019-07-07T00:00:00",
          "2019-07-14T00:00:00",
          "2019-07-21T00:00:00",
          "2019-07-28T00:00:00",
          "2019-08-04T00:00:00",
          "2019-08-11T00:00:00",
          "2019-08-18T00:00:00",
          "2019-08-25T00:00:00",
          "2019-09-01T00:00:00",
          "2019-09-08T00:00:00",
          "2019-09-15T00:00:00",
          "2019-09-22T00:00:00",
          "2019-09-29T00:00:00",
          "2019-10-06T00:00:00",
          "2019-10-13T00:00:00",
          "2019-10-20T00:00:00",
          "2019-10-27T00:00:00",
          "2019-11-03T00:00:00",
          "2019-11-10T00:00:00",
          "2019-11-17T00:00:00",
          "2019-11-24T00:00:00",
          "2019-12-01T00:00:00",
          "2019-12-08T00:00:00",
          "2019-12-15T00:00:00",
          "2019-12-22T00:00:00",
          "2019-12-29T00:00:00",
          "2020-01-05T00:00:00",
          "2020-01-12T00:00:00",
          "2020-01-19T00:00:00",
          "2020-01-26T00:00:00",
          "2020-02-02T00:00:00",
          "2020-02-09T00:00:00",
          "2020-02-16T00:00:00",
          "2020-02-23T00:00:00",
          "2020-03-01T00:00:00",
          "2020-03-08T00:00:00",
          "2020-03-15T00:00:00",
          "2020-03-22T00:00:00",
          "2020-03-29T00:00:00",
          "2020-04-05T00:00:00",
          "2020-04-12T00:00:00",
          "2020-04-19T00:00:00",
          "2020-04-26T00:00:00",
          "2020-05-03T00:00:00",
          "2020-05-10T00:00:00",
          "2020-05-17T00:00:00",
          "2020-05-24T00:00:00",
          "2020-05-31T00:00:00",
          "2020-06-07T00:00:00",
          "2020-06-14T00:00:00",
          "2020-06-21T00:00:00",
          "2020-06-28T00:00:00",
          "2020-07-05T00:00:00",
          "2020-07-12T00:00:00",
          "2020-07-19T00:00:00",
          "2020-07-26T00:00:00",
          "2020-08-02T00:00:00",
          "2020-08-09T00:00:00",
          "2020-08-16T00:00:00",
          "2020-08-23T00:00:00",
          "2020-08-30T00:00:00",
          "2020-09-06T00:00:00",
          "2020-09-13T00:00:00",
          "2020-09-20T00:00:00",
          "2020-09-27T00:00:00",
          "2020-10-04T00:00:00",
          "2020-10-11T00:00:00",
          "2020-10-18T00:00:00",
          "2020-10-25T00:00:00",
          "2020-11-01T00:00:00",
          "2020-11-08T00:00:00",
          "2020-11-15T00:00:00",
          "2020-11-22T00:00:00",
          "2020-11-29T00:00:00",
          "2020-12-06T00:00:00",
          "2020-12-13T00:00:00",
          "2020-12-20T00:00:00",
          "2020-12-27T00:00:00",
          "2021-01-03T00:00:00"
         ],
         "xaxis": "x3",
         "y": [
          null,
          null,
          null,
          null,
          null,
          null,
          null,
          null,
          null,
          10.87,
          null,
          null,
          null,
          null,
          null,
          null,
          11.87,
          null,
          8.52,
          null,
          null,
          null,
          null,
          null,
          null,
          null,
          null,
          null,
          null,
          19.04,
          null,
          null,
          null,
          null,
          7.41,
          null,
          null,
          null,
          null,
          null,
          null,
          null,
          null,
          null,
          null,
          20.57,
          null,
          null,
          null,
          null,
          null,
          null,
          null,
          null,
          null,
          null,
          null,
          null,
          null,
          null,
          null,
          null,
          null,
          null,
          null,
          null,
          null,
          null,
          13.12,
          null,
          8.66,
          null,
          null,
          null,
          null,
          null,
          7.24,
          null,
          null,
          null,
          null,
          null,
          null,
          null,
          null,
          null,
          null,
          null,
          null,
          null,
          null,
          null,
          9.85,
          null,
          null,
          null,
          null,
          null,
          null,
          null,
          null,
          8.67,
          null,
          null,
          null
         ],
         "yaxis": "y3"
        }
       ],
       "layout": {
        "annotations": [
         {
          "font": {},
          "showarrow": false,
          "text": "merchant=fraud_Jenkins, Hauck and Friesen",
          "x": 0.14666666666666667,
          "xanchor": "center",
          "xref": "paper",
          "y": 0.1975,
          "yanchor": "bottom",
          "yref": "paper"
         },
         {
          "font": {},
          "showarrow": false,
          "text": "merchant=fraud_Huels-Hahn",
          "x": 0.5,
          "xanchor": "center",
          "xref": "paper",
          "y": 0.1975,
          "yanchor": "bottom",
          "yref": "paper"
         },
         {
          "font": {},
          "showarrow": false,
          "text": "merchant=fraud_Kling Inc",
          "x": 0.8533333333333333,
          "xanchor": "center",
          "xref": "paper",
          "y": 0.1975,
          "yanchor": "bottom",
          "yref": "paper"
         },
         {
          "font": {},
          "showarrow": false,
          "text": "merchant=fraud_Cummerata-Jones",
          "x": 0.14666666666666667,
          "xanchor": "center",
          "xref": "paper",
          "y": 0.465,
          "yanchor": "bottom",
          "yref": "paper"
         },
         {
          "font": {},
          "showarrow": false,
          "text": "merchant=fraud_Stroman, Hudson and Erdman",
          "x": 0.5,
          "xanchor": "center",
          "xref": "paper",
          "y": 0.465,
          "yanchor": "bottom",
          "yref": "paper"
         },
         {
          "font": {},
          "showarrow": false,
          "text": "merchant=fraud_Parisian and Sons",
          "x": 0.8533333333333333,
          "xanchor": "center",
          "xref": "paper",
          "y": 0.465,
          "yanchor": "bottom",
          "yref": "paper"
         },
         {
          "font": {},
          "showarrow": false,
          "text": "merchant=fraud_Kuhn LLC",
          "x": 0.14666666666666667,
          "xanchor": "center",
          "xref": "paper",
          "y": 0.7325,
          "yanchor": "bottom",
          "yref": "paper"
         },
         {
          "font": {},
          "showarrow": false,
          "text": "merchant=fraud_Boyer PLC",
          "x": 0.5,
          "xanchor": "center",
          "xref": "paper",
          "y": 0.7325,
          "yanchor": "bottom",
          "yref": "paper"
         },
         {
          "font": {},
          "showarrow": false,
          "text": "merchant=fraud_Dickinson Ltd",
          "x": 0.8533333333333333,
          "xanchor": "center",
          "xref": "paper",
          "y": 0.7325,
          "yanchor": "bottom",
          "yref": "paper"
         },
         {
          "font": {},
          "showarrow": false,
          "text": "merchant=fraud_Kilback LLC",
          "x": 0.14666666666666667,
          "xanchor": "center",
          "xref": "paper",
          "y": 1,
          "yanchor": "bottom",
          "yref": "paper"
         },
         {
          "font": {},
          "showarrow": false,
          "text": "merchant=fraud_Cormier LLC",
          "x": 0.5,
          "xanchor": "center",
          "xref": "paper",
          "y": 1,
          "yanchor": "bottom",
          "yref": "paper"
         },
         {
          "font": {},
          "showarrow": false,
          "text": "merchant=fraud_Schumm PLC",
          "x": 0.8533333333333333,
          "xanchor": "center",
          "xref": "paper",
          "y": 1,
          "yanchor": "bottom",
          "yref": "paper"
         }
        ],
        "height": 1200,
        "legend": {
         "title": {
          "text": "Is fraud?"
         },
         "tracegroupgap": 0
        },
        "margin": {
         "t": 60
        },
        "plot_bgcolor": "#fafafa",
        "template": {
         "data": {
          "bar": [
           {
            "error_x": {
             "color": "#2a3f5f"
            },
            "error_y": {
             "color": "#2a3f5f"
            },
            "marker": {
             "line": {
              "color": "#E5ECF6",
              "width": 0.5
             },
             "pattern": {
              "fillmode": "overlay",
              "size": 10,
              "solidity": 0.2
             }
            },
            "type": "bar"
           }
          ],
          "barpolar": [
           {
            "marker": {
             "line": {
              "color": "#E5ECF6",
              "width": 0.5
             },
             "pattern": {
              "fillmode": "overlay",
              "size": 10,
              "solidity": 0.2
             }
            },
            "type": "barpolar"
           }
          ],
          "carpet": [
           {
            "aaxis": {
             "endlinecolor": "#2a3f5f",
             "gridcolor": "white",
             "linecolor": "white",
             "minorgridcolor": "white",
             "startlinecolor": "#2a3f5f"
            },
            "baxis": {
             "endlinecolor": "#2a3f5f",
             "gridcolor": "white",
             "linecolor": "white",
             "minorgridcolor": "white",
             "startlinecolor": "#2a3f5f"
            },
            "type": "carpet"
           }
          ],
          "choropleth": [
           {
            "colorbar": {
             "outlinewidth": 0,
             "ticks": ""
            },
            "type": "choropleth"
           }
          ],
          "contour": [
           {
            "colorbar": {
             "outlinewidth": 0,
             "ticks": ""
            },
            "colorscale": [
             [
              0,
              "#0d0887"
             ],
             [
              0.1111111111111111,
              "#46039f"
             ],
             [
              0.2222222222222222,
              "#7201a8"
             ],
             [
              0.3333333333333333,
              "#9c179e"
             ],
             [
              0.4444444444444444,
              "#bd3786"
             ],
             [
              0.5555555555555556,
              "#d8576b"
             ],
             [
              0.6666666666666666,
              "#ed7953"
             ],
             [
              0.7777777777777778,
              "#fb9f3a"
             ],
             [
              0.8888888888888888,
              "#fdca26"
             ],
             [
              1,
              "#f0f921"
             ]
            ],
            "type": "contour"
           }
          ],
          "contourcarpet": [
           {
            "colorbar": {
             "outlinewidth": 0,
             "ticks": ""
            },
            "type": "contourcarpet"
           }
          ],
          "heatmap": [
           {
            "colorbar": {
             "outlinewidth": 0,
             "ticks": ""
            },
            "colorscale": [
             [
              0,
              "#0d0887"
             ],
             [
              0.1111111111111111,
              "#46039f"
             ],
             [
              0.2222222222222222,
              "#7201a8"
             ],
             [
              0.3333333333333333,
              "#9c179e"
             ],
             [
              0.4444444444444444,
              "#bd3786"
             ],
             [
              0.5555555555555556,
              "#d8576b"
             ],
             [
              0.6666666666666666,
              "#ed7953"
             ],
             [
              0.7777777777777778,
              "#fb9f3a"
             ],
             [
              0.8888888888888888,
              "#fdca26"
             ],
             [
              1,
              "#f0f921"
             ]
            ],
            "type": "heatmap"
           }
          ],
          "heatmapgl": [
           {
            "colorbar": {
             "outlinewidth": 0,
             "ticks": ""
            },
            "colorscale": [
             [
              0,
              "#0d0887"
             ],
             [
              0.1111111111111111,
              "#46039f"
             ],
             [
              0.2222222222222222,
              "#7201a8"
             ],
             [
              0.3333333333333333,
              "#9c179e"
             ],
             [
              0.4444444444444444,
              "#bd3786"
             ],
             [
              0.5555555555555556,
              "#d8576b"
             ],
             [
              0.6666666666666666,
              "#ed7953"
             ],
             [
              0.7777777777777778,
              "#fb9f3a"
             ],
             [
              0.8888888888888888,
              "#fdca26"
             ],
             [
              1,
              "#f0f921"
             ]
            ],
            "type": "heatmapgl"
           }
          ],
          "histogram": [
           {
            "marker": {
             "pattern": {
              "fillmode": "overlay",
              "size": 10,
              "solidity": 0.2
             }
            },
            "type": "histogram"
           }
          ],
          "histogram2d": [
           {
            "colorbar": {
             "outlinewidth": 0,
             "ticks": ""
            },
            "colorscale": [
             [
              0,
              "#0d0887"
             ],
             [
              0.1111111111111111,
              "#46039f"
             ],
             [
              0.2222222222222222,
              "#7201a8"
             ],
             [
              0.3333333333333333,
              "#9c179e"
             ],
             [
              0.4444444444444444,
              "#bd3786"
             ],
             [
              0.5555555555555556,
              "#d8576b"
             ],
             [
              0.6666666666666666,
              "#ed7953"
             ],
             [
              0.7777777777777778,
              "#fb9f3a"
             ],
             [
              0.8888888888888888,
              "#fdca26"
             ],
             [
              1,
              "#f0f921"
             ]
            ],
            "type": "histogram2d"
           }
          ],
          "histogram2dcontour": [
           {
            "colorbar": {
             "outlinewidth": 0,
             "ticks": ""
            },
            "colorscale": [
             [
              0,
              "#0d0887"
             ],
             [
              0.1111111111111111,
              "#46039f"
             ],
             [
              0.2222222222222222,
              "#7201a8"
             ],
             [
              0.3333333333333333,
              "#9c179e"
             ],
             [
              0.4444444444444444,
              "#bd3786"
             ],
             [
              0.5555555555555556,
              "#d8576b"
             ],
             [
              0.6666666666666666,
              "#ed7953"
             ],
             [
              0.7777777777777778,
              "#fb9f3a"
             ],
             [
              0.8888888888888888,
              "#fdca26"
             ],
             [
              1,
              "#f0f921"
             ]
            ],
            "type": "histogram2dcontour"
           }
          ],
          "mesh3d": [
           {
            "colorbar": {
             "outlinewidth": 0,
             "ticks": ""
            },
            "type": "mesh3d"
           }
          ],
          "parcoords": [
           {
            "line": {
             "colorbar": {
              "outlinewidth": 0,
              "ticks": ""
             }
            },
            "type": "parcoords"
           }
          ],
          "pie": [
           {
            "automargin": true,
            "type": "pie"
           }
          ],
          "scatter": [
           {
            "fillpattern": {
             "fillmode": "overlay",
             "size": 10,
             "solidity": 0.2
            },
            "type": "scatter"
           }
          ],
          "scatter3d": [
           {
            "line": {
             "colorbar": {
              "outlinewidth": 0,
              "ticks": ""
             }
            },
            "marker": {
             "colorbar": {
              "outlinewidth": 0,
              "ticks": ""
             }
            },
            "type": "scatter3d"
           }
          ],
          "scattercarpet": [
           {
            "marker": {
             "colorbar": {
              "outlinewidth": 0,
              "ticks": ""
             }
            },
            "type": "scattercarpet"
           }
          ],
          "scattergeo": [
           {
            "marker": {
             "colorbar": {
              "outlinewidth": 0,
              "ticks": ""
             }
            },
            "type": "scattergeo"
           }
          ],
          "scattergl": [
           {
            "marker": {
             "colorbar": {
              "outlinewidth": 0,
              "ticks": ""
             }
            },
            "type": "scattergl"
           }
          ],
          "scattermapbox": [
           {
            "marker": {
             "colorbar": {
              "outlinewidth": 0,
              "ticks": ""
             }
            },
            "type": "scattermapbox"
           }
          ],
          "scatterpolar": [
           {
            "marker": {
             "colorbar": {
              "outlinewidth": 0,
              "ticks": ""
             }
            },
            "type": "scatterpolar"
           }
          ],
          "scatterpolargl": [
           {
            "marker": {
             "colorbar": {
              "outlinewidth": 0,
              "ticks": ""
             }
            },
            "type": "scatterpolargl"
           }
          ],
          "scatterternary": [
           {
            "marker": {
             "colorbar": {
              "outlinewidth": 0,
              "ticks": ""
             }
            },
            "type": "scatterternary"
           }
          ],
          "surface": [
           {
            "colorbar": {
             "outlinewidth": 0,
             "ticks": ""
            },
            "colorscale": [
             [
              0,
              "#0d0887"
             ],
             [
              0.1111111111111111,
              "#46039f"
             ],
             [
              0.2222222222222222,
              "#7201a8"
             ],
             [
              0.3333333333333333,
              "#9c179e"
             ],
             [
              0.4444444444444444,
              "#bd3786"
             ],
             [
              0.5555555555555556,
              "#d8576b"
             ],
             [
              0.6666666666666666,
              "#ed7953"
             ],
             [
              0.7777777777777778,
              "#fb9f3a"
             ],
             [
              0.8888888888888888,
              "#fdca26"
             ],
             [
              1,
              "#f0f921"
             ]
            ],
            "type": "surface"
           }
          ],
          "table": [
           {
            "cells": {
             "fill": {
              "color": "#EBF0F8"
             },
             "line": {
              "color": "white"
             }
            },
            "header": {
             "fill": {
              "color": "#C8D4E3"
             },
             "line": {
              "color": "white"
             }
            },
            "type": "table"
           }
          ]
         },
         "layout": {
          "annotationdefaults": {
           "arrowcolor": "#2a3f5f",
           "arrowhead": 0,
           "arrowwidth": 1
          },
          "autotypenumbers": "strict",
          "coloraxis": {
           "colorbar": {
            "outlinewidth": 0,
            "ticks": ""
           }
          },
          "colorscale": {
           "diverging": [
            [
             0,
             "#8e0152"
            ],
            [
             0.1,
             "#c51b7d"
            ],
            [
             0.2,
             "#de77ae"
            ],
            [
             0.3,
             "#f1b6da"
            ],
            [
             0.4,
             "#fde0ef"
            ],
            [
             0.5,
             "#f7f7f7"
            ],
            [
             0.6,
             "#e6f5d0"
            ],
            [
             0.7,
             "#b8e186"
            ],
            [
             0.8,
             "#7fbc41"
            ],
            [
             0.9,
             "#4d9221"
            ],
            [
             1,
             "#276419"
            ]
           ],
           "sequential": [
            [
             0,
             "#0d0887"
            ],
            [
             0.1111111111111111,
             "#46039f"
            ],
            [
             0.2222222222222222,
             "#7201a8"
            ],
            [
             0.3333333333333333,
             "#9c179e"
            ],
            [
             0.4444444444444444,
             "#bd3786"
            ],
            [
             0.5555555555555556,
             "#d8576b"
            ],
            [
             0.6666666666666666,
             "#ed7953"
            ],
            [
             0.7777777777777778,
             "#fb9f3a"
            ],
            [
             0.8888888888888888,
             "#fdca26"
            ],
            [
             1,
             "#f0f921"
            ]
           ],
           "sequentialminus": [
            [
             0,
             "#0d0887"
            ],
            [
             0.1111111111111111,
             "#46039f"
            ],
            [
             0.2222222222222222,
             "#7201a8"
            ],
            [
             0.3333333333333333,
             "#9c179e"
            ],
            [
             0.4444444444444444,
             "#bd3786"
            ],
            [
             0.5555555555555556,
             "#d8576b"
            ],
            [
             0.6666666666666666,
             "#ed7953"
            ],
            [
             0.7777777777777778,
             "#fb9f3a"
            ],
            [
             0.8888888888888888,
             "#fdca26"
            ],
            [
             1,
             "#f0f921"
            ]
           ]
          },
          "colorway": [
           "#636efa",
           "#EF553B",
           "#00cc96",
           "#ab63fa",
           "#FFA15A",
           "#19d3f3",
           "#FF6692",
           "#B6E880",
           "#FF97FF",
           "#FECB52"
          ],
          "font": {
           "color": "#2a3f5f"
          },
          "geo": {
           "bgcolor": "white",
           "lakecolor": "white",
           "landcolor": "#E5ECF6",
           "showlakes": true,
           "showland": true,
           "subunitcolor": "white"
          },
          "hoverlabel": {
           "align": "left"
          },
          "hovermode": "closest",
          "mapbox": {
           "style": "light"
          },
          "paper_bgcolor": "white",
          "plot_bgcolor": "#E5ECF6",
          "polar": {
           "angularaxis": {
            "gridcolor": "white",
            "linecolor": "white",
            "ticks": ""
           },
           "bgcolor": "#E5ECF6",
           "radialaxis": {
            "gridcolor": "white",
            "linecolor": "white",
            "ticks": ""
           }
          },
          "scene": {
           "xaxis": {
            "backgroundcolor": "#E5ECF6",
            "gridcolor": "white",
            "gridwidth": 2,
            "linecolor": "white",
            "showbackground": true,
            "ticks": "",
            "zerolinecolor": "white"
           },
           "yaxis": {
            "backgroundcolor": "#E5ECF6",
            "gridcolor": "white",
            "gridwidth": 2,
            "linecolor": "white",
            "showbackground": true,
            "ticks": "",
            "zerolinecolor": "white"
           },
           "zaxis": {
            "backgroundcolor": "#E5ECF6",
            "gridcolor": "white",
            "gridwidth": 2,
            "linecolor": "white",
            "showbackground": true,
            "ticks": "",
            "zerolinecolor": "white"
           }
          },
          "shapedefaults": {
           "line": {
            "color": "#2a3f5f"
           }
          },
          "ternary": {
           "aaxis": {
            "gridcolor": "white",
            "linecolor": "white",
            "ticks": ""
           },
           "baxis": {
            "gridcolor": "white",
            "linecolor": "white",
            "ticks": ""
           },
           "bgcolor": "#E5ECF6",
           "caxis": {
            "gridcolor": "white",
            "linecolor": "white",
            "ticks": ""
           }
          },
          "title": {
           "x": 0.05
          },
          "xaxis": {
           "automargin": true,
           "gridcolor": "white",
           "linecolor": "white",
           "ticks": "",
           "title": {
            "standoff": 15
           },
           "zerolinecolor": "white",
           "zerolinewidth": 2
          },
          "yaxis": {
           "automargin": true,
           "gridcolor": "white",
           "linecolor": "white",
           "ticks": "",
           "title": {
            "standoff": 15
           },
           "zerolinecolor": "white",
           "zerolinewidth": 2
          }
         }
        },
        "title": {
         "text": "Top 12 merchants with highest number of transactions per week"
        },
        "width": 960,
        "xaxis": {
         "anchor": "y",
         "domain": [
          0,
          0.29333333333333333
         ],
         "showticklabels": true,
         "title": {
          "text": ""
         }
        },
        "xaxis10": {
         "anchor": "y10",
         "domain": [
          0,
          0.29333333333333333
         ],
         "matches": "x",
         "showticklabels": true,
         "title": {
          "text": ""
         }
        },
        "xaxis11": {
         "anchor": "y11",
         "domain": [
          0.35333333333333333,
          0.6466666666666667
         ],
         "matches": "x",
         "showticklabels": true,
         "title": {
          "text": ""
         }
        },
        "xaxis12": {
         "anchor": "y12",
         "domain": [
          0.7066666666666667,
          1
         ],
         "matches": "x",
         "showticklabels": true,
         "title": {
          "text": ""
         }
        },
        "xaxis2": {
         "anchor": "y2",
         "domain": [
          0.35333333333333333,
          0.6466666666666667
         ],
         "matches": "x",
         "showticklabels": true,
         "title": {
          "text": ""
         }
        },
        "xaxis3": {
         "anchor": "y3",
         "domain": [
          0.7066666666666667,
          1
         ],
         "matches": "x",
         "showticklabels": true,
         "title": {
          "text": ""
         }
        },
        "xaxis4": {
         "anchor": "y4",
         "domain": [
          0,
          0.29333333333333333
         ],
         "matches": "x",
         "showticklabels": true,
         "title": {
          "text": ""
         }
        },
        "xaxis5": {
         "anchor": "y5",
         "domain": [
          0.35333333333333333,
          0.6466666666666667
         ],
         "matches": "x",
         "showticklabels": true,
         "title": {
          "text": ""
         }
        },
        "xaxis6": {
         "anchor": "y6",
         "domain": [
          0.7066666666666667,
          1
         ],
         "matches": "x",
         "showticklabels": true,
         "title": {
          "text": ""
         }
        },
        "xaxis7": {
         "anchor": "y7",
         "domain": [
          0,
          0.29333333333333333
         ],
         "matches": "x",
         "showticklabels": true,
         "title": {
          "text": ""
         }
        },
        "xaxis8": {
         "anchor": "y8",
         "domain": [
          0.35333333333333333,
          0.6466666666666667
         ],
         "matches": "x",
         "showticklabels": true,
         "title": {
          "text": ""
         }
        },
        "xaxis9": {
         "anchor": "y9",
         "domain": [
          0.7066666666666667,
          1
         ],
         "matches": "x",
         "showticklabels": true,
         "title": {
          "text": ""
         }
        },
        "yaxis": {
         "anchor": "x",
         "domain": [
          0,
          0.1975
         ],
         "showticklabels": true,
         "title": {
          "text": "amount(usd)"
         }
        },
        "yaxis10": {
         "anchor": "x10",
         "domain": [
          0.8025,
          1
         ],
         "showticklabels": true,
         "title": {
          "text": "amount(usd)"
         }
        },
        "yaxis11": {
         "anchor": "x11",
         "domain": [
          0.8025,
          1
         ],
         "showticklabels": true
        },
        "yaxis12": {
         "anchor": "x12",
         "domain": [
          0.8025,
          1
         ],
         "showticklabels": true
        },
        "yaxis2": {
         "anchor": "x2",
         "domain": [
          0,
          0.1975
         ],
         "showticklabels": true
        },
        "yaxis3": {
         "anchor": "x3",
         "domain": [
          0,
          0.1975
         ],
         "showticklabels": true
        },
        "yaxis4": {
         "anchor": "x4",
         "domain": [
          0.2675,
          0.465
         ],
         "showticklabels": true,
         "title": {
          "text": "amount(usd)"
         }
        },
        "yaxis5": {
         "anchor": "x5",
         "domain": [
          0.2675,
          0.465
         ],
         "showticklabels": true
        },
        "yaxis6": {
         "anchor": "x6",
         "domain": [
          0.2675,
          0.465
         ],
         "showticklabels": true
        },
        "yaxis7": {
         "anchor": "x7",
         "domain": [
          0.535,
          0.7325
         ],
         "showticklabels": true,
         "title": {
          "text": "amount(usd)"
         }
        },
        "yaxis8": {
         "anchor": "x8",
         "domain": [
          0.535,
          0.7325
         ],
         "showticklabels": true
        },
        "yaxis9": {
         "anchor": "x9",
         "domain": [
          0.535,
          0.7325
         ],
         "showticklabels": true
        }
       }
      }
     },
     "metadata": {},
     "output_type": "display_data"
    }
   ],
   "source": [
    "# Specified list of 10 business with the highest number of transactions.\n",
    "top12_merchants = df_train.merchant.value_counts()[:12]\n",
    "df_ = df_train.groupby(by=[pd.Grouper(key=\"transaction_time\", freq=\"1W\"),'is_fraud',\n",
    "                           'merchant']).agg({\"amount(usd)\":'mean',\"transaction_id\":\"count\"}).reset_index()\n",
    "df_ = df_[df_.merchant.isin(top12_merchants.index)]\n",
    "fig = px.scatter(df_,\n",
    "        x='transaction_time',\n",
    "        y='amount(usd)',\n",
    "        color='is_fraud',\n",
    "        facet_col ='merchant',\n",
    "        facet_col_wrap=3,\n",
    "        facet_col_spacing=.06,\n",
    "        category_orders={'merchant': top12_merchants.index}, # order the subplots\n",
    "        color_discrete_map={1:'#61E50F', 0:'#D93C1D'}\n",
    ")\n",
    "fig.update_layout(height=1200,\n",
    "                  width=960,\n",
    "                  title='Top 12 merchants with highest number of transactions per week',\n",
    "                  legend=dict(title='Is fraud?'),\n",
    "                  plot_bgcolor='#fafafa'\n",
    "                 )\n",
    "fig.update_yaxes(matches=None)\n",
    "fig.for_each_yaxis(lambda yaxis: yaxis.update(showticklabels=True))\n",
    "fig.for_each_xaxis(lambda xaxis: xaxis.update(showticklabels=True, title=''))\n",
    "fig.show();"
   ]
  },
  {
   "cell_type": "code",
   "execution_count": 27,
   "metadata": {},
   "outputs": [
    {
     "data": {
      "text/html": [
       "<div>\n",
       "<style scoped>\n",
       "    .dataframe tbody tr th:only-of-type {\n",
       "        vertical-align: middle;\n",
       "    }\n",
       "\n",
       "    .dataframe tbody tr th {\n",
       "        vertical-align: top;\n",
       "    }\n",
       "\n",
       "    .dataframe thead th {\n",
       "        text-align: right;\n",
       "    }\n",
       "</style>\n",
       "<table border=\"1\" class=\"dataframe\">\n",
       "  <thead>\n",
       "    <tr style=\"text-align: right;\">\n",
       "      <th></th>\n",
       "      <th>is_fraud</th>\n",
       "      <th>job</th>\n",
       "      <th>amount(usd)</th>\n",
       "      <th>transaction_id</th>\n",
       "    </tr>\n",
       "  </thead>\n",
       "  <tbody>\n",
       "    <tr>\n",
       "      <th>806</th>\n",
       "      <td>1</td>\n",
       "      <td>Naval architect</td>\n",
       "      <td>615.893462</td>\n",
       "      <td>52</td>\n",
       "    </tr>\n",
       "    <tr>\n",
       "      <th>880</th>\n",
       "      <td>1</td>\n",
       "      <td>Quantity surveyor</td>\n",
       "      <td>621.307600</td>\n",
       "      <td>50</td>\n",
       "    </tr>\n",
       "    <tr>\n",
       "      <th>784</th>\n",
       "      <td>1</td>\n",
       "      <td>Materials engineer</td>\n",
       "      <td>544.603404</td>\n",
       "      <td>47</td>\n",
       "    </tr>\n",
       "    <tr>\n",
       "      <th>918</th>\n",
       "      <td>1</td>\n",
       "      <td>Senior tax professional/tax inspector</td>\n",
       "      <td>562.001111</td>\n",
       "      <td>45</td>\n",
       "    </tr>\n",
       "    <tr>\n",
       "      <th>539</th>\n",
       "      <td>1</td>\n",
       "      <td>Audiological scientist</td>\n",
       "      <td>653.637111</td>\n",
       "      <td>45</td>\n",
       "    </tr>\n",
       "    <tr>\n",
       "      <th>977</th>\n",
       "      <td>1</td>\n",
       "      <td>Trading standards officer</td>\n",
       "      <td>497.333864</td>\n",
       "      <td>44</td>\n",
       "    </tr>\n",
       "    <tr>\n",
       "      <th>939</th>\n",
       "      <td>1</td>\n",
       "      <td>Surveyor, land/geomatics</td>\n",
       "      <td>503.585814</td>\n",
       "      <td>43</td>\n",
       "    </tr>\n",
       "    <tr>\n",
       "      <th>691</th>\n",
       "      <td>1</td>\n",
       "      <td>Film/video editor</td>\n",
       "      <td>533.244884</td>\n",
       "      <td>43</td>\n",
       "    </tr>\n",
       "    <tr>\n",
       "      <th>589</th>\n",
       "      <td>1</td>\n",
       "      <td>Colour technologist</td>\n",
       "      <td>493.670732</td>\n",
       "      <td>41</td>\n",
       "    </tr>\n",
       "    <tr>\n",
       "      <th>599</th>\n",
       "      <td>1</td>\n",
       "      <td>Comptroller</td>\n",
       "      <td>532.219250</td>\n",
       "      <td>40</td>\n",
       "    </tr>\n",
       "  </tbody>\n",
       "</table>\n",
       "</div>"
      ],
      "text/plain": [
       "    is_fraud                                    job  amount(usd)  \\\n",
       "806        1                        Naval architect   615.893462   \n",
       "880        1                      Quantity surveyor   621.307600   \n",
       "784        1                     Materials engineer   544.603404   \n",
       "918        1  Senior tax professional/tax inspector   562.001111   \n",
       "539        1                 Audiological scientist   653.637111   \n",
       "977        1              Trading standards officer   497.333864   \n",
       "939        1               Surveyor, land/geomatics   503.585814   \n",
       "691        1                      Film/video editor   533.244884   \n",
       "589        1                    Colour technologist   493.670732   \n",
       "599        1                            Comptroller   532.219250   \n",
       "\n",
       "     transaction_id  \n",
       "806              52  \n",
       "880              50  \n",
       "784              47  \n",
       "918              45  \n",
       "539              45  \n",
       "977              44  \n",
       "939              43  \n",
       "691              43  \n",
       "589              41  \n",
       "599              40  "
      ]
     },
     "execution_count": 27,
     "metadata": {},
     "output_type": "execute_result"
    }
   ],
   "source": [
    "# Top 10 jobs had most fraud transactions.\n",
    "groups = ['is_fraud','job']\n",
    "df_ = df_train.groupby(by=groups).agg({\"amount(usd)\":'mean',\"transaction_id\":\"count\"}).fillna(0).reset_index()\n",
    "df_ = df_[df_.is_fraud==1].sort_values(by='transaction_id',\n",
    "                                       ascending=False).drop_duplicates('job', keep='first').iloc[:10, :]\n",
    "df_"
   ]
  },
  {
   "cell_type": "code",
   "execution_count": 28,
   "metadata": {},
   "outputs": [
    {
     "data": {
      "application/vnd.plotly.v1+json": {
       "config": {
        "plotlyServerURL": "https://plot.ly"
       },
       "data": [
        {
         "alignmentgroup": "True",
         "hovertemplate": "Number of fraud transactions=%{x}<br>Job title=%{y}<br>amount(usd)=%{marker.color}<extra></extra>",
         "legendgroup": "",
         "marker": {
          "color": [
           615.8934615384616,
           621.3076,
           544.6034042553191,
           562.0011111111111,
           653.637111111111,
           497.3338636363636,
           503.58581395348835,
           533.2448837209303,
           493.6707317073171,
           532.21925
          ],
          "coloraxis": "coloraxis",
          "pattern": {
           "shape": ""
          }
         },
         "name": "",
         "offsetgroup": "",
         "orientation": "h",
         "showlegend": false,
         "textposition": "auto",
         "type": "bar",
         "x": [
          52,
          50,
          47,
          45,
          45,
          44,
          43,
          43,
          41,
          40
         ],
         "xaxis": "x",
         "y": [
          "Naval architect",
          "Quantity surveyor",
          "Materials engineer",
          "Senior tax professional/tax inspector",
          "Audiological scientist",
          "Trading standards officer",
          "Surveyor, land/geomatics",
          "Film/video editor",
          "Colour technologist",
          "Comptroller"
         ],
         "yaxis": "y"
        }
       ],
       "layout": {
        "barmode": "relative",
        "coloraxis": {
         "colorbar": {
          "orientation": "h",
          "title": {
           "text": "Amount(usd) of transactions"
          },
          "x": 1
         },
         "colorscale": [
          [
           0,
           "#000004"
          ],
          [
           0.1111111111111111,
           "#180f3d"
          ],
          [
           0.2222222222222222,
           "#440f76"
          ],
          [
           0.3333333333333333,
           "#721f81"
          ],
          [
           0.4444444444444444,
           "#9e2f7f"
          ],
          [
           0.5555555555555556,
           "#cd4071"
          ],
          [
           0.6666666666666666,
           "#f1605d"
          ],
          [
           0.7777777777777778,
           "#fd9668"
          ],
          [
           0.8888888888888888,
           "#feca8d"
          ],
          [
           1,
           "#fcfdbf"
          ]
         ],
         "reversescale": true
        },
        "height": 600,
        "legend": {
         "tracegroupgap": 0
        },
        "margin": {
         "t": 60
        },
        "plot_bgcolor": "#fafafa",
        "template": {
         "data": {
          "bar": [
           {
            "error_x": {
             "color": "#2a3f5f"
            },
            "error_y": {
             "color": "#2a3f5f"
            },
            "marker": {
             "line": {
              "color": "#E5ECF6",
              "width": 0.5
             },
             "pattern": {
              "fillmode": "overlay",
              "size": 10,
              "solidity": 0.2
             }
            },
            "type": "bar"
           }
          ],
          "barpolar": [
           {
            "marker": {
             "line": {
              "color": "#E5ECF6",
              "width": 0.5
             },
             "pattern": {
              "fillmode": "overlay",
              "size": 10,
              "solidity": 0.2
             }
            },
            "type": "barpolar"
           }
          ],
          "carpet": [
           {
            "aaxis": {
             "endlinecolor": "#2a3f5f",
             "gridcolor": "white",
             "linecolor": "white",
             "minorgridcolor": "white",
             "startlinecolor": "#2a3f5f"
            },
            "baxis": {
             "endlinecolor": "#2a3f5f",
             "gridcolor": "white",
             "linecolor": "white",
             "minorgridcolor": "white",
             "startlinecolor": "#2a3f5f"
            },
            "type": "carpet"
           }
          ],
          "choropleth": [
           {
            "colorbar": {
             "outlinewidth": 0,
             "ticks": ""
            },
            "type": "choropleth"
           }
          ],
          "contour": [
           {
            "colorbar": {
             "outlinewidth": 0,
             "ticks": ""
            },
            "colorscale": [
             [
              0,
              "#0d0887"
             ],
             [
              0.1111111111111111,
              "#46039f"
             ],
             [
              0.2222222222222222,
              "#7201a8"
             ],
             [
              0.3333333333333333,
              "#9c179e"
             ],
             [
              0.4444444444444444,
              "#bd3786"
             ],
             [
              0.5555555555555556,
              "#d8576b"
             ],
             [
              0.6666666666666666,
              "#ed7953"
             ],
             [
              0.7777777777777778,
              "#fb9f3a"
             ],
             [
              0.8888888888888888,
              "#fdca26"
             ],
             [
              1,
              "#f0f921"
             ]
            ],
            "type": "contour"
           }
          ],
          "contourcarpet": [
           {
            "colorbar": {
             "outlinewidth": 0,
             "ticks": ""
            },
            "type": "contourcarpet"
           }
          ],
          "heatmap": [
           {
            "colorbar": {
             "outlinewidth": 0,
             "ticks": ""
            },
            "colorscale": [
             [
              0,
              "#0d0887"
             ],
             [
              0.1111111111111111,
              "#46039f"
             ],
             [
              0.2222222222222222,
              "#7201a8"
             ],
             [
              0.3333333333333333,
              "#9c179e"
             ],
             [
              0.4444444444444444,
              "#bd3786"
             ],
             [
              0.5555555555555556,
              "#d8576b"
             ],
             [
              0.6666666666666666,
              "#ed7953"
             ],
             [
              0.7777777777777778,
              "#fb9f3a"
             ],
             [
              0.8888888888888888,
              "#fdca26"
             ],
             [
              1,
              "#f0f921"
             ]
            ],
            "type": "heatmap"
           }
          ],
          "heatmapgl": [
           {
            "colorbar": {
             "outlinewidth": 0,
             "ticks": ""
            },
            "colorscale": [
             [
              0,
              "#0d0887"
             ],
             [
              0.1111111111111111,
              "#46039f"
             ],
             [
              0.2222222222222222,
              "#7201a8"
             ],
             [
              0.3333333333333333,
              "#9c179e"
             ],
             [
              0.4444444444444444,
              "#bd3786"
             ],
             [
              0.5555555555555556,
              "#d8576b"
             ],
             [
              0.6666666666666666,
              "#ed7953"
             ],
             [
              0.7777777777777778,
              "#fb9f3a"
             ],
             [
              0.8888888888888888,
              "#fdca26"
             ],
             [
              1,
              "#f0f921"
             ]
            ],
            "type": "heatmapgl"
           }
          ],
          "histogram": [
           {
            "marker": {
             "pattern": {
              "fillmode": "overlay",
              "size": 10,
              "solidity": 0.2
             }
            },
            "type": "histogram"
           }
          ],
          "histogram2d": [
           {
            "colorbar": {
             "outlinewidth": 0,
             "ticks": ""
            },
            "colorscale": [
             [
              0,
              "#0d0887"
             ],
             [
              0.1111111111111111,
              "#46039f"
             ],
             [
              0.2222222222222222,
              "#7201a8"
             ],
             [
              0.3333333333333333,
              "#9c179e"
             ],
             [
              0.4444444444444444,
              "#bd3786"
             ],
             [
              0.5555555555555556,
              "#d8576b"
             ],
             [
              0.6666666666666666,
              "#ed7953"
             ],
             [
              0.7777777777777778,
              "#fb9f3a"
             ],
             [
              0.8888888888888888,
              "#fdca26"
             ],
             [
              1,
              "#f0f921"
             ]
            ],
            "type": "histogram2d"
           }
          ],
          "histogram2dcontour": [
           {
            "colorbar": {
             "outlinewidth": 0,
             "ticks": ""
            },
            "colorscale": [
             [
              0,
              "#0d0887"
             ],
             [
              0.1111111111111111,
              "#46039f"
             ],
             [
              0.2222222222222222,
              "#7201a8"
             ],
             [
              0.3333333333333333,
              "#9c179e"
             ],
             [
              0.4444444444444444,
              "#bd3786"
             ],
             [
              0.5555555555555556,
              "#d8576b"
             ],
             [
              0.6666666666666666,
              "#ed7953"
             ],
             [
              0.7777777777777778,
              "#fb9f3a"
             ],
             [
              0.8888888888888888,
              "#fdca26"
             ],
             [
              1,
              "#f0f921"
             ]
            ],
            "type": "histogram2dcontour"
           }
          ],
          "mesh3d": [
           {
            "colorbar": {
             "outlinewidth": 0,
             "ticks": ""
            },
            "type": "mesh3d"
           }
          ],
          "parcoords": [
           {
            "line": {
             "colorbar": {
              "outlinewidth": 0,
              "ticks": ""
             }
            },
            "type": "parcoords"
           }
          ],
          "pie": [
           {
            "automargin": true,
            "type": "pie"
           }
          ],
          "scatter": [
           {
            "fillpattern": {
             "fillmode": "overlay",
             "size": 10,
             "solidity": 0.2
            },
            "type": "scatter"
           }
          ],
          "scatter3d": [
           {
            "line": {
             "colorbar": {
              "outlinewidth": 0,
              "ticks": ""
             }
            },
            "marker": {
             "colorbar": {
              "outlinewidth": 0,
              "ticks": ""
             }
            },
            "type": "scatter3d"
           }
          ],
          "scattercarpet": [
           {
            "marker": {
             "colorbar": {
              "outlinewidth": 0,
              "ticks": ""
             }
            },
            "type": "scattercarpet"
           }
          ],
          "scattergeo": [
           {
            "marker": {
             "colorbar": {
              "outlinewidth": 0,
              "ticks": ""
             }
            },
            "type": "scattergeo"
           }
          ],
          "scattergl": [
           {
            "marker": {
             "colorbar": {
              "outlinewidth": 0,
              "ticks": ""
             }
            },
            "type": "scattergl"
           }
          ],
          "scattermapbox": [
           {
            "marker": {
             "colorbar": {
              "outlinewidth": 0,
              "ticks": ""
             }
            },
            "type": "scattermapbox"
           }
          ],
          "scatterpolar": [
           {
            "marker": {
             "colorbar": {
              "outlinewidth": 0,
              "ticks": ""
             }
            },
            "type": "scatterpolar"
           }
          ],
          "scatterpolargl": [
           {
            "marker": {
             "colorbar": {
              "outlinewidth": 0,
              "ticks": ""
             }
            },
            "type": "scatterpolargl"
           }
          ],
          "scatterternary": [
           {
            "marker": {
             "colorbar": {
              "outlinewidth": 0,
              "ticks": ""
             }
            },
            "type": "scatterternary"
           }
          ],
          "surface": [
           {
            "colorbar": {
             "outlinewidth": 0,
             "ticks": ""
            },
            "colorscale": [
             [
              0,
              "#0d0887"
             ],
             [
              0.1111111111111111,
              "#46039f"
             ],
             [
              0.2222222222222222,
              "#7201a8"
             ],
             [
              0.3333333333333333,
              "#9c179e"
             ],
             [
              0.4444444444444444,
              "#bd3786"
             ],
             [
              0.5555555555555556,
              "#d8576b"
             ],
             [
              0.6666666666666666,
              "#ed7953"
             ],
             [
              0.7777777777777778,
              "#fb9f3a"
             ],
             [
              0.8888888888888888,
              "#fdca26"
             ],
             [
              1,
              "#f0f921"
             ]
            ],
            "type": "surface"
           }
          ],
          "table": [
           {
            "cells": {
             "fill": {
              "color": "#EBF0F8"
             },
             "line": {
              "color": "white"
             }
            },
            "header": {
             "fill": {
              "color": "#C8D4E3"
             },
             "line": {
              "color": "white"
             }
            },
            "type": "table"
           }
          ]
         },
         "layout": {
          "annotationdefaults": {
           "arrowcolor": "#2a3f5f",
           "arrowhead": 0,
           "arrowwidth": 1
          },
          "autotypenumbers": "strict",
          "coloraxis": {
           "colorbar": {
            "outlinewidth": 0,
            "ticks": ""
           }
          },
          "colorscale": {
           "diverging": [
            [
             0,
             "#8e0152"
            ],
            [
             0.1,
             "#c51b7d"
            ],
            [
             0.2,
             "#de77ae"
            ],
            [
             0.3,
             "#f1b6da"
            ],
            [
             0.4,
             "#fde0ef"
            ],
            [
             0.5,
             "#f7f7f7"
            ],
            [
             0.6,
             "#e6f5d0"
            ],
            [
             0.7,
             "#b8e186"
            ],
            [
             0.8,
             "#7fbc41"
            ],
            [
             0.9,
             "#4d9221"
            ],
            [
             1,
             "#276419"
            ]
           ],
           "sequential": [
            [
             0,
             "#0d0887"
            ],
            [
             0.1111111111111111,
             "#46039f"
            ],
            [
             0.2222222222222222,
             "#7201a8"
            ],
            [
             0.3333333333333333,
             "#9c179e"
            ],
            [
             0.4444444444444444,
             "#bd3786"
            ],
            [
             0.5555555555555556,
             "#d8576b"
            ],
            [
             0.6666666666666666,
             "#ed7953"
            ],
            [
             0.7777777777777778,
             "#fb9f3a"
            ],
            [
             0.8888888888888888,
             "#fdca26"
            ],
            [
             1,
             "#f0f921"
            ]
           ],
           "sequentialminus": [
            [
             0,
             "#0d0887"
            ],
            [
             0.1111111111111111,
             "#46039f"
            ],
            [
             0.2222222222222222,
             "#7201a8"
            ],
            [
             0.3333333333333333,
             "#9c179e"
            ],
            [
             0.4444444444444444,
             "#bd3786"
            ],
            [
             0.5555555555555556,
             "#d8576b"
            ],
            [
             0.6666666666666666,
             "#ed7953"
            ],
            [
             0.7777777777777778,
             "#fb9f3a"
            ],
            [
             0.8888888888888888,
             "#fdca26"
            ],
            [
             1,
             "#f0f921"
            ]
           ]
          },
          "colorway": [
           "#636efa",
           "#EF553B",
           "#00cc96",
           "#ab63fa",
           "#FFA15A",
           "#19d3f3",
           "#FF6692",
           "#B6E880",
           "#FF97FF",
           "#FECB52"
          ],
          "font": {
           "color": "#2a3f5f"
          },
          "geo": {
           "bgcolor": "white",
           "lakecolor": "white",
           "landcolor": "#E5ECF6",
           "showlakes": true,
           "showland": true,
           "subunitcolor": "white"
          },
          "hoverlabel": {
           "align": "left"
          },
          "hovermode": "closest",
          "mapbox": {
           "style": "light"
          },
          "paper_bgcolor": "white",
          "plot_bgcolor": "#E5ECF6",
          "polar": {
           "angularaxis": {
            "gridcolor": "white",
            "linecolor": "white",
            "ticks": ""
           },
           "bgcolor": "#E5ECF6",
           "radialaxis": {
            "gridcolor": "white",
            "linecolor": "white",
            "ticks": ""
           }
          },
          "scene": {
           "xaxis": {
            "backgroundcolor": "#E5ECF6",
            "gridcolor": "white",
            "gridwidth": 2,
            "linecolor": "white",
            "showbackground": true,
            "ticks": "",
            "zerolinecolor": "white"
           },
           "yaxis": {
            "backgroundcolor": "#E5ECF6",
            "gridcolor": "white",
            "gridwidth": 2,
            "linecolor": "white",
            "showbackground": true,
            "ticks": "",
            "zerolinecolor": "white"
           },
           "zaxis": {
            "backgroundcolor": "#E5ECF6",
            "gridcolor": "white",
            "gridwidth": 2,
            "linecolor": "white",
            "showbackground": true,
            "ticks": "",
            "zerolinecolor": "white"
           }
          },
          "shapedefaults": {
           "line": {
            "color": "#2a3f5f"
           }
          },
          "ternary": {
           "aaxis": {
            "gridcolor": "white",
            "linecolor": "white",
            "ticks": ""
           },
           "baxis": {
            "gridcolor": "white",
            "linecolor": "white",
            "ticks": ""
           },
           "bgcolor": "#E5ECF6",
           "caxis": {
            "gridcolor": "white",
            "linecolor": "white",
            "ticks": ""
           }
          },
          "title": {
           "x": 0.05
          },
          "xaxis": {
           "automargin": true,
           "gridcolor": "white",
           "linecolor": "white",
           "ticks": "",
           "title": {
            "standoff": 15
           },
           "zerolinecolor": "white",
           "zerolinewidth": 2
          },
          "yaxis": {
           "automargin": true,
           "gridcolor": "white",
           "linecolor": "white",
           "ticks": "",
           "title": {
            "standoff": 15
           },
           "zerolinecolor": "white",
           "zerolinewidth": 2
          }
         }
        },
        "title": {
         "text": "Amount in USD among top 10 jobs with the most fraud transactions"
        },
        "width": 960,
        "xaxis": {
         "anchor": "y",
         "domain": [
          0,
          1
         ],
         "title": {
          "text": "Number of fraud transactions"
         }
        },
        "yaxis": {
         "anchor": "x",
         "categoryarray": [
          "Comptroller",
          "Colour technologist",
          "Film/video editor",
          "Surveyor, land/geomatics",
          "Trading standards officer",
          "Audiological scientist",
          "Senior tax professional/tax inspector",
          "Materials engineer",
          "Quantity surveyor",
          "Naval architect"
         ],
         "categoryorder": "array",
         "domain": [
          0,
          1
         ],
         "title": {
          "text": "Job title"
         }
        }
       }
      }
     },
     "metadata": {},
     "output_type": "display_data"
    }
   ],
   "source": [
    "# The professions with the highest amount of fraudulent transactions were plotted.\n",
    "fig = px.bar(df_,\n",
    "             y='job', x='transaction_id',\n",
    "             color='amount(usd)',\n",
    "             color_continuous_scale=px.colors.sequential.Magma,\n",
    "             labels={'job':'Job title', \n",
    "                     'transaction_id': 'Number of fraud transactions'},\n",
    "             category_orders = {\"job\": df_.job.values},\n",
    "             width=960,\n",
    "             height=600)\n",
    "\n",
    "fig.update_layout(\n",
    "    title=dict(\n",
    "        text='Amount in USD among top 10 jobs with the most fraud transactions'\n",
    "    ),\n",
    "    plot_bgcolor='#fafafa'\n",
    ")\n",
    "\n",
    "fig.update_coloraxes(\n",
    "    colorbar=dict(\n",
    "        title='Amount(usd) of transactions',\n",
    "        orientation='h',\n",
    "        x=1\n",
    "    ),\n",
    "    reversescale=True\n",
    ")\n",
    "\n",
    "fig.show()"
   ]
  },
  {
   "cell_type": "code",
   "execution_count": 29,
   "metadata": {},
   "outputs": [],
   "source": [
    "# Plotting the credit card numbers and card holders with the highest amount of fraudulent transactions.\n",
    "groups = ['credit_card_number']\n",
    "df_ = df_train.groupby(by=groups).agg({\"amount(usd)\":'mean',\"transaction_id\":\"count\"}).fillna(0).reset_index()\n",
    "df_.sort_values('transaction_id', ascending=False, inplace=True)\n",
    "df_ = df_.head(10)"
   ]
  },
  {
   "cell_type": "code",
   "execution_count": 30,
   "metadata": {},
   "outputs": [
    {
     "data": {
      "application/vnd.plotly.v1+json": {
       "config": {
        "plotlyServerURL": "https://plot.ly"
       },
       "data": [
        {
         "alignmentgroup": "True",
         "hovertemplate": "hour_of_day=%{x}<br>Number of transaction=%{y}<extra></extra>",
         "legendgroup": "",
         "marker": {
          "color": "#636efa",
          "pattern": {
           "shape": ""
          }
         },
         "name": "",
         "offsetgroup": "",
         "orientation": "v",
         "showlegend": false,
         "textposition": "auto",
         "type": "bar",
         "x": [
          0,
          1,
          2,
          3,
          4,
          5,
          6,
          7,
          8,
          9,
          10,
          11,
          12,
          13,
          14,
          15,
          16,
          17,
          18,
          19,
          20,
          21,
          22,
          23
         ],
         "xaxis": "x",
         "y": [
          685,
          675,
          649,
          658,
          51,
          69,
          43,
          48,
          50,
          45,
          42,
          46,
          64,
          76,
          77,
          74,
          78,
          78,
          82,
          89,
          77,
          86,
          2000,
          1912
         ],
         "yaxis": "y"
        }
       ],
       "layout": {
        "barmode": "relative",
        "legend": {
         "tracegroupgap": 0
        },
        "margin": {
         "t": 60
        },
        "plot_bgcolor": "#fafafa",
        "template": {
         "data": {
          "bar": [
           {
            "error_x": {
             "color": "#2a3f5f"
            },
            "error_y": {
             "color": "#2a3f5f"
            },
            "marker": {
             "line": {
              "color": "#E5ECF6",
              "width": 0.5
             },
             "pattern": {
              "fillmode": "overlay",
              "size": 10,
              "solidity": 0.2
             }
            },
            "type": "bar"
           }
          ],
          "barpolar": [
           {
            "marker": {
             "line": {
              "color": "#E5ECF6",
              "width": 0.5
             },
             "pattern": {
              "fillmode": "overlay",
              "size": 10,
              "solidity": 0.2
             }
            },
            "type": "barpolar"
           }
          ],
          "carpet": [
           {
            "aaxis": {
             "endlinecolor": "#2a3f5f",
             "gridcolor": "white",
             "linecolor": "white",
             "minorgridcolor": "white",
             "startlinecolor": "#2a3f5f"
            },
            "baxis": {
             "endlinecolor": "#2a3f5f",
             "gridcolor": "white",
             "linecolor": "white",
             "minorgridcolor": "white",
             "startlinecolor": "#2a3f5f"
            },
            "type": "carpet"
           }
          ],
          "choropleth": [
           {
            "colorbar": {
             "outlinewidth": 0,
             "ticks": ""
            },
            "type": "choropleth"
           }
          ],
          "contour": [
           {
            "colorbar": {
             "outlinewidth": 0,
             "ticks": ""
            },
            "colorscale": [
             [
              0,
              "#0d0887"
             ],
             [
              0.1111111111111111,
              "#46039f"
             ],
             [
              0.2222222222222222,
              "#7201a8"
             ],
             [
              0.3333333333333333,
              "#9c179e"
             ],
             [
              0.4444444444444444,
              "#bd3786"
             ],
             [
              0.5555555555555556,
              "#d8576b"
             ],
             [
              0.6666666666666666,
              "#ed7953"
             ],
             [
              0.7777777777777778,
              "#fb9f3a"
             ],
             [
              0.8888888888888888,
              "#fdca26"
             ],
             [
              1,
              "#f0f921"
             ]
            ],
            "type": "contour"
           }
          ],
          "contourcarpet": [
           {
            "colorbar": {
             "outlinewidth": 0,
             "ticks": ""
            },
            "type": "contourcarpet"
           }
          ],
          "heatmap": [
           {
            "colorbar": {
             "outlinewidth": 0,
             "ticks": ""
            },
            "colorscale": [
             [
              0,
              "#0d0887"
             ],
             [
              0.1111111111111111,
              "#46039f"
             ],
             [
              0.2222222222222222,
              "#7201a8"
             ],
             [
              0.3333333333333333,
              "#9c179e"
             ],
             [
              0.4444444444444444,
              "#bd3786"
             ],
             [
              0.5555555555555556,
              "#d8576b"
             ],
             [
              0.6666666666666666,
              "#ed7953"
             ],
             [
              0.7777777777777778,
              "#fb9f3a"
             ],
             [
              0.8888888888888888,
              "#fdca26"
             ],
             [
              1,
              "#f0f921"
             ]
            ],
            "type": "heatmap"
           }
          ],
          "heatmapgl": [
           {
            "colorbar": {
             "outlinewidth": 0,
             "ticks": ""
            },
            "colorscale": [
             [
              0,
              "#0d0887"
             ],
             [
              0.1111111111111111,
              "#46039f"
             ],
             [
              0.2222222222222222,
              "#7201a8"
             ],
             [
              0.3333333333333333,
              "#9c179e"
             ],
             [
              0.4444444444444444,
              "#bd3786"
             ],
             [
              0.5555555555555556,
              "#d8576b"
             ],
             [
              0.6666666666666666,
              "#ed7953"
             ],
             [
              0.7777777777777778,
              "#fb9f3a"
             ],
             [
              0.8888888888888888,
              "#fdca26"
             ],
             [
              1,
              "#f0f921"
             ]
            ],
            "type": "heatmapgl"
           }
          ],
          "histogram": [
           {
            "marker": {
             "pattern": {
              "fillmode": "overlay",
              "size": 10,
              "solidity": 0.2
             }
            },
            "type": "histogram"
           }
          ],
          "histogram2d": [
           {
            "colorbar": {
             "outlinewidth": 0,
             "ticks": ""
            },
            "colorscale": [
             [
              0,
              "#0d0887"
             ],
             [
              0.1111111111111111,
              "#46039f"
             ],
             [
              0.2222222222222222,
              "#7201a8"
             ],
             [
              0.3333333333333333,
              "#9c179e"
             ],
             [
              0.4444444444444444,
              "#bd3786"
             ],
             [
              0.5555555555555556,
              "#d8576b"
             ],
             [
              0.6666666666666666,
              "#ed7953"
             ],
             [
              0.7777777777777778,
              "#fb9f3a"
             ],
             [
              0.8888888888888888,
              "#fdca26"
             ],
             [
              1,
              "#f0f921"
             ]
            ],
            "type": "histogram2d"
           }
          ],
          "histogram2dcontour": [
           {
            "colorbar": {
             "outlinewidth": 0,
             "ticks": ""
            },
            "colorscale": [
             [
              0,
              "#0d0887"
             ],
             [
              0.1111111111111111,
              "#46039f"
             ],
             [
              0.2222222222222222,
              "#7201a8"
             ],
             [
              0.3333333333333333,
              "#9c179e"
             ],
             [
              0.4444444444444444,
              "#bd3786"
             ],
             [
              0.5555555555555556,
              "#d8576b"
             ],
             [
              0.6666666666666666,
              "#ed7953"
             ],
             [
              0.7777777777777778,
              "#fb9f3a"
             ],
             [
              0.8888888888888888,
              "#fdca26"
             ],
             [
              1,
              "#f0f921"
             ]
            ],
            "type": "histogram2dcontour"
           }
          ],
          "mesh3d": [
           {
            "colorbar": {
             "outlinewidth": 0,
             "ticks": ""
            },
            "type": "mesh3d"
           }
          ],
          "parcoords": [
           {
            "line": {
             "colorbar": {
              "outlinewidth": 0,
              "ticks": ""
             }
            },
            "type": "parcoords"
           }
          ],
          "pie": [
           {
            "automargin": true,
            "type": "pie"
           }
          ],
          "scatter": [
           {
            "fillpattern": {
             "fillmode": "overlay",
             "size": 10,
             "solidity": 0.2
            },
            "type": "scatter"
           }
          ],
          "scatter3d": [
           {
            "line": {
             "colorbar": {
              "outlinewidth": 0,
              "ticks": ""
             }
            },
            "marker": {
             "colorbar": {
              "outlinewidth": 0,
              "ticks": ""
             }
            },
            "type": "scatter3d"
           }
          ],
          "scattercarpet": [
           {
            "marker": {
             "colorbar": {
              "outlinewidth": 0,
              "ticks": ""
             }
            },
            "type": "scattercarpet"
           }
          ],
          "scattergeo": [
           {
            "marker": {
             "colorbar": {
              "outlinewidth": 0,
              "ticks": ""
             }
            },
            "type": "scattergeo"
           }
          ],
          "scattergl": [
           {
            "marker": {
             "colorbar": {
              "outlinewidth": 0,
              "ticks": ""
             }
            },
            "type": "scattergl"
           }
          ],
          "scattermapbox": [
           {
            "marker": {
             "colorbar": {
              "outlinewidth": 0,
              "ticks": ""
             }
            },
            "type": "scattermapbox"
           }
          ],
          "scatterpolar": [
           {
            "marker": {
             "colorbar": {
              "outlinewidth": 0,
              "ticks": ""
             }
            },
            "type": "scatterpolar"
           }
          ],
          "scatterpolargl": [
           {
            "marker": {
             "colorbar": {
              "outlinewidth": 0,
              "ticks": ""
             }
            },
            "type": "scatterpolargl"
           }
          ],
          "scatterternary": [
           {
            "marker": {
             "colorbar": {
              "outlinewidth": 0,
              "ticks": ""
             }
            },
            "type": "scatterternary"
           }
          ],
          "surface": [
           {
            "colorbar": {
             "outlinewidth": 0,
             "ticks": ""
            },
            "colorscale": [
             [
              0,
              "#0d0887"
             ],
             [
              0.1111111111111111,
              "#46039f"
             ],
             [
              0.2222222222222222,
              "#7201a8"
             ],
             [
              0.3333333333333333,
              "#9c179e"
             ],
             [
              0.4444444444444444,
              "#bd3786"
             ],
             [
              0.5555555555555556,
              "#d8576b"
             ],
             [
              0.6666666666666666,
              "#ed7953"
             ],
             [
              0.7777777777777778,
              "#fb9f3a"
             ],
             [
              0.8888888888888888,
              "#fdca26"
             ],
             [
              1,
              "#f0f921"
             ]
            ],
            "type": "surface"
           }
          ],
          "table": [
           {
            "cells": {
             "fill": {
              "color": "#EBF0F8"
             },
             "line": {
              "color": "white"
             }
            },
            "header": {
             "fill": {
              "color": "#C8D4E3"
             },
             "line": {
              "color": "white"
             }
            },
            "type": "table"
           }
          ]
         },
         "layout": {
          "annotationdefaults": {
           "arrowcolor": "#2a3f5f",
           "arrowhead": 0,
           "arrowwidth": 1
          },
          "autotypenumbers": "strict",
          "coloraxis": {
           "colorbar": {
            "outlinewidth": 0,
            "ticks": ""
           }
          },
          "colorscale": {
           "diverging": [
            [
             0,
             "#8e0152"
            ],
            [
             0.1,
             "#c51b7d"
            ],
            [
             0.2,
             "#de77ae"
            ],
            [
             0.3,
             "#f1b6da"
            ],
            [
             0.4,
             "#fde0ef"
            ],
            [
             0.5,
             "#f7f7f7"
            ],
            [
             0.6,
             "#e6f5d0"
            ],
            [
             0.7,
             "#b8e186"
            ],
            [
             0.8,
             "#7fbc41"
            ],
            [
             0.9,
             "#4d9221"
            ],
            [
             1,
             "#276419"
            ]
           ],
           "sequential": [
            [
             0,
             "#0d0887"
            ],
            [
             0.1111111111111111,
             "#46039f"
            ],
            [
             0.2222222222222222,
             "#7201a8"
            ],
            [
             0.3333333333333333,
             "#9c179e"
            ],
            [
             0.4444444444444444,
             "#bd3786"
            ],
            [
             0.5555555555555556,
             "#d8576b"
            ],
            [
             0.6666666666666666,
             "#ed7953"
            ],
            [
             0.7777777777777778,
             "#fb9f3a"
            ],
            [
             0.8888888888888888,
             "#fdca26"
            ],
            [
             1,
             "#f0f921"
            ]
           ],
           "sequentialminus": [
            [
             0,
             "#0d0887"
            ],
            [
             0.1111111111111111,
             "#46039f"
            ],
            [
             0.2222222222222222,
             "#7201a8"
            ],
            [
             0.3333333333333333,
             "#9c179e"
            ],
            [
             0.4444444444444444,
             "#bd3786"
            ],
            [
             0.5555555555555556,
             "#d8576b"
            ],
            [
             0.6666666666666666,
             "#ed7953"
            ],
            [
             0.7777777777777778,
             "#fb9f3a"
            ],
            [
             0.8888888888888888,
             "#fdca26"
            ],
            [
             1,
             "#f0f921"
            ]
           ]
          },
          "colorway": [
           "#636efa",
           "#EF553B",
           "#00cc96",
           "#ab63fa",
           "#FFA15A",
           "#19d3f3",
           "#FF6692",
           "#B6E880",
           "#FF97FF",
           "#FECB52"
          ],
          "font": {
           "color": "#2a3f5f"
          },
          "geo": {
           "bgcolor": "white",
           "lakecolor": "white",
           "landcolor": "#E5ECF6",
           "showlakes": true,
           "showland": true,
           "subunitcolor": "white"
          },
          "hoverlabel": {
           "align": "left"
          },
          "hovermode": "closest",
          "mapbox": {
           "style": "light"
          },
          "paper_bgcolor": "white",
          "plot_bgcolor": "#E5ECF6",
          "polar": {
           "angularaxis": {
            "gridcolor": "white",
            "linecolor": "white",
            "ticks": ""
           },
           "bgcolor": "#E5ECF6",
           "radialaxis": {
            "gridcolor": "white",
            "linecolor": "white",
            "ticks": ""
           }
          },
          "scene": {
           "xaxis": {
            "backgroundcolor": "#E5ECF6",
            "gridcolor": "white",
            "gridwidth": 2,
            "linecolor": "white",
            "showbackground": true,
            "ticks": "",
            "zerolinecolor": "white"
           },
           "yaxis": {
            "backgroundcolor": "#E5ECF6",
            "gridcolor": "white",
            "gridwidth": 2,
            "linecolor": "white",
            "showbackground": true,
            "ticks": "",
            "zerolinecolor": "white"
           },
           "zaxis": {
            "backgroundcolor": "#E5ECF6",
            "gridcolor": "white",
            "gridwidth": 2,
            "linecolor": "white",
            "showbackground": true,
            "ticks": "",
            "zerolinecolor": "white"
           }
          },
          "shapedefaults": {
           "line": {
            "color": "#2a3f5f"
           }
          },
          "ternary": {
           "aaxis": {
            "gridcolor": "white",
            "linecolor": "white",
            "ticks": ""
           },
           "baxis": {
            "gridcolor": "white",
            "linecolor": "white",
            "ticks": ""
           },
           "bgcolor": "#E5ECF6",
           "caxis": {
            "gridcolor": "white",
            "linecolor": "white",
            "ticks": ""
           }
          },
          "title": {
           "x": 0.05
          },
          "xaxis": {
           "automargin": true,
           "gridcolor": "white",
           "linecolor": "white",
           "ticks": "",
           "title": {
            "standoff": 15
           },
           "zerolinecolor": "white",
           "zerolinewidth": 2
          },
          "yaxis": {
           "automargin": true,
           "gridcolor": "white",
           "linecolor": "white",
           "ticks": "",
           "title": {
            "standoff": 15
           },
           "zerolinecolor": "white",
           "zerolinewidth": 2
          }
         }
        },
        "title": {
         "text": "Number of FRAUD transactions by hours of day"
        },
        "xaxis": {
         "anchor": "y",
         "domain": [
          0,
          1
         ],
         "title": {
          "text": "hour_of_day"
         },
         "type": "category"
        },
        "yaxis": {
         "anchor": "x",
         "domain": [
          0,
          1
         ],
         "title": {
          "text": "Number of transaction"
         }
        }
       }
      }
     },
     "metadata": {},
     "output_type": "display_data"
    }
   ],
   "source": [
    "df_ = df_train[df_train.is_fraud==1].groupby(by='hour_of_day').agg({'transaction_id':'count'}).reset_index()\n",
    "\n",
    "fig = px.bar(data_frame=df_,\n",
    "       x='hour_of_day',\n",
    "       y='transaction_id',\n",
    "       labels={'transaction_id':'Number of transaction'})\n",
    "\n",
    "fig.update_layout(\n",
    "    title=dict(\n",
    "        text='Number of FRAUD transactions by hours of day'\n",
    "    ),\n",
    "    plot_bgcolor='#fafafa'\n",
    ")\n",
    "\n",
    "fig.update_xaxes(type='category')"
   ]
  },
  {
   "cell_type": "code",
   "execution_count": 31,
   "metadata": {},
   "outputs": [],
   "source": [
    "# The correlations of each variable were checked."
   ]
  },
  {
   "cell_type": "code",
   "execution_count": 32,
   "metadata": {},
   "outputs": [
    {
     "name": "stderr",
     "output_type": "stream",
     "text": [
      "/var/folders/1p/27jszvps12x14r9hnwf07w240000gn/T/ipykernel_11194/60512005.py:3: FutureWarning:\n",
      "\n",
      "The default value of numeric_only in DataFrame.corr is deprecated. In a future version, it will default to False. Select only valid columns or specify the value of numeric_only to silence this warning.\n",
      "\n",
      "/var/folders/1p/27jszvps12x14r9hnwf07w240000gn/T/ipykernel_11194/60512005.py:4: FutureWarning:\n",
      "\n",
      "The default value of numeric_only in DataFrame.corr is deprecated. In a future version, it will default to False. Select only valid columns or specify the value of numeric_only to silence this warning.\n",
      "\n"
     ]
    },
    {
     "data": {
      "text/plain": [
       "<Axes: >"
      ]
     },
     "execution_count": 32,
     "metadata": {},
     "output_type": "execute_result"
    },
    {
     "data": {
      "image/png": "[encoded data removed]",
      "text/plain": [
       "<Figure size 1800x900 with 2 Axes>"
      ]
     },
     "metadata": {},
     "output_type": "display_data"
    }
   ],
   "source": [
    "%matplotlib inline\n",
    "fig = plt.figure(figsize = (18,9))\n",
    "mask = np.triu(np.ones_like(df_train.corr()))\n",
    "sns.heatmap(df_train.corr(), mask = mask, cmap = 'coolwarm', annot = True)"
   ]
  }
 ],
 "metadata": {
  "kernelspec": {
   "display_name": "Python 3",
   "language": "python",
   "name": "python3"
  },
  "language_info": {
   "codemirror_mode": {
    "name": "ipython",
    "version": 3
   },
   "file_extension": ".py",
   "mimetype": "text/x-python",
   "name": "python",
   "nbconvert_exporter": "python",
   "pygments_lexer": "ipython3",
   "version": "3.11.2"
  },
  "orig_nbformat": 4,
  "vscode": {
   "interpreter": {
    "hash": "31f2aee4e71d21fbe5cf8b01ff0e069b9275f58929596ceb00d14d90e3e16cd6"
   }
  }
 },
 "nbformat": 4,
 "nbformat_minor": 2
}
