{
 "cells": [
  {
   "cell_type": "code",
   "execution_count": 23,
   "metadata": {},
   "outputs": [],
   "source": [
    "#               __  ___  _      __                ___              _     ___                    _      ___     _            _   _             \n",
    "#              /__\\/   \\/_\\    / _| ___  _ __    / __\\__ _ _ __ __| |   / __\\ __ __ _ _   _  __| |    /   \\___| |_ ___  ___| |_(_) ___  _ __  \n",
    "#             /_\\ / /\\ //_\\\\  | |_ / _ \\| '__|  / /  / _` | '__/ _` |  / _\\| '__/ _` | | | |/ _` |   / /\\ / _ \\ __/ _ \\/ __| __| |/ _ \\| '_ \\ \n",
    "#            //__/ /_//  _  \\ |  _| (_) | |    / /__| (_| | | | (_| | / /  | | | (_| | |_| | (_| |  / /_//  __/ ||  __/ (__| |_| | (_) | | | |\n",
    "#            \\__/___,'\\_/ \\_/ |_|  \\___/|_|    \\____/\\__,_|_|  \\__,_| \\/   |_|  \\__,_|\\__,_|\\__,_| /___,' \\___|\\__\\___|\\___|\\__|_|\\___/|_| |_|"
   ]
  },
  {
   "attachments": {},
   "cell_type": "markdown",
   "metadata": {},
   "source": [
    "Credit Card Fraud Detection is a classic class-imbalance problem where the number of fraud transactions is much lesser than the number of legitimate transaction for any bank. Most of the approaches involve building model on such imbalanced data, and thus fails to produce results on real-time new data because of overfitting on training data and a bias towards the majoritarian class of legitimate transactions. Thus, we can see this as an anomaly detection problem.\n",
    "\n",
    "1. What time does the Credit Card Frauds usually take place?\n",
    "2. What are the general trends of amounts for Credit Card Fraud Transactions?\n",
    "3. How do we balance the data to not let the model overfit on legitimate transactions?"
   ]
  },
  {
   "cell_type": "code",
   "execution_count": 24,
   "metadata": {},
   "outputs": [],
   "source": [
    "# Libraries are imported.\n",
    "from plotly.subplots import make_subplots\n",
    "from matplotlib import pyplot as plt\n",
    "import plotly.graph_objects as go\n",
    "from datetime import datetime\n",
    "import plotly.express as px\n",
    "import seaborn as sns\n",
    "import pandas as pd\n",
    "import numpy as np\n",
    "import csv"
   ]
  },
  {
   "cell_type": "code",
   "execution_count": 25,
   "metadata": {},
   "outputs": [],
   "source": [
    "# -------------------------------------------------------------------------------------------------------------------------------------------------\n",
    "# -------------------------------------------------------------------> Data pre-processing <-------------------------------------------------------\n",
    "# -------------------------------------------------------------------------------------------------------------------------------------------------"
   ]
  },
  {
   "cell_type": "code",
   "execution_count": 26,
   "metadata": {},
   "outputs": [
    {
     "name": "stderr",
     "output_type": "stream",
     "text": [
      "/var/folders/1p/27jszvps12x14r9hnwf07w240000gn/T/ipykernel_88371/3751845789.py:2: FutureWarning: The error_bad_lines argument has been deprecated and will be removed in a future version. Use on_bad_lines in the future.\n",
      "\n",
      "\n",
      "  df_train = pd.read_csv('/Users/alejandro/Desktop/Life/Credit-Card-Fraud-Detection/Datasets/training.csv', delimiter=',', quotechar='\"', error_bad_lines=False, encoding='utf-8')\n",
      "Skipping line 99069: expected 24 fields, saw 45\n",
      "Skipping line 120702: expected 24 fields, saw 45\n",
      "\n",
      "Skipping line 145084: expected 24 fields, saw 45\n",
      "Skipping line 151910: expected 24 fields, saw 45\n",
      "Skipping line 162210: expected 24 fields, saw 45\n",
      "\n",
      "Skipping line 327913: expected 24 fields, saw 32\n",
      "Skipping line 330011: expected 24 fields, saw 45\n",
      "\n",
      "Skipping line 497019: expected 24 fields, saw 45\n",
      "\n",
      "Skipping line 649066: expected 24 fields, saw 45\n",
      "\n",
      "Skipping line 673156: expected 24 fields, saw 32\n",
      "Skipping line 681350: expected 24 fields, saw 45\n",
      "\n",
      "Skipping line 720422: expected 24 fields, saw 45\n",
      "\n",
      "Skipping line 765924: expected 24 fields, saw 32\n",
      "\n",
      "Skipping line 852364: expected 24 fields, saw 32\n",
      "Skipping line 861776: expected 24 fields, saw 45\n",
      "Skipping line 868581: expected 24 fields, saw 45\n",
      "\n",
      "Skipping line 968025: expected 24 fields, saw 45\n",
      "\n",
      "Skipping line 1021715: expected 24 fields, saw 32\n",
      "Skipping line 1044168: expected 24 fields, saw 45\n",
      "\n",
      "Skipping line 1085400: expected 24 fields, saw 45\n",
      "\n",
      "Skipping line 1240596: expected 24 fields, saw 45\n",
      "\n",
      "Skipping line 1311581: expected 24 fields, saw 45\n",
      "\n",
      "Skipping line 1352257: expected 24 fields, saw 32\n",
      "\n",
      "Skipping line 1442018: expected 24 fields, saw 32\n",
      "Skipping line 1447081: expected 24 fields, saw 45\n",
      "Skipping line 1472948: expected 24 fields, saw 32\n",
      "\n",
      "/var/folders/1p/27jszvps12x14r9hnwf07w240000gn/T/ipykernel_88371/3751845789.py:2: DtypeWarning: Columns (0,2) have mixed types. Specify dtype option on import or set low_memory=False.\n",
      "  df_train = pd.read_csv('/Users/alejandro/Desktop/Life/Credit-Card-Fraud-Detection/Datasets/training.csv', delimiter=',', quotechar='\"', error_bad_lines=False, encoding='utf-8')\n"
     ]
    }
   ],
   "source": [
    "# Reading the file.\n",
    "df_train = pd.read_csv('/Users/alejandro/Desktop/Life/Credit-Card-Fraud-Detection/Datasets/training.csv', delimiter=',', quotechar='\"', error_bad_lines=False, encoding='utf-8')"
   ]
  },
  {
   "cell_type": "code",
   "execution_count": 27,
   "metadata": {},
   "outputs": [
    {
     "name": "stdout",
     "output_type": "stream",
     "text": [
      "  Unnamed: 0 trans_date_trans_time                 cc_num  \\\n",
      "0    1123078   2020-04-12 21:54:18       30273037698427.0   \n",
      "1     633617   2019-09-26 22:00:19  4906628655840914432.0   \n",
      "2     259995   2020-09-25 01:02:28     3533800906065217.0   \n",
      "3     976282   2020-01-31 13:26:26         571365235126.0   \n",
      "4    1048650   2020-03-10 16:43:00     6011367958204270.0   \n",
      "5     227122   2020-09-10 15:55:13       38295635583927.0   \n",
      "6     533391   2020-12-27 10:57:20     2266735643685262.0   \n",
      "7     908233   2019-12-28 19:14:11        4481131401752.0   \n",
      "8      69507   2019-02-10 23:36:05     4800395067176717.0   \n",
      "9      46760   2020-07-07 04:41:15     3521815216091574.0   \n",
      "\n",
      "                      merchant        category     amt    first       last  \\\n",
      "0           fraud_Connelly PLC     food_dining    1.34   Andrew  Patterson   \n",
      "1            fraud_Gerlach Inc    shopping_net    9.62  Charles     Moreno   \n",
      "2              fraud_Price Inc    shopping_net   45.17    Amber   Thornton   \n",
      "3          fraud_Keeling-Crist        misc_pos    4.98  Barbara     Taylor   \n",
      "4             fraud_Schumm PLC  health_fitness  124.42    Tammy      Ayers   \n",
      "5              fraud_Brown PLC        misc_net   44.09  Candice      Brown   \n",
      "6          fraud_Padberg-Welch     grocery_pos   37.80   Carlos      Chung   \n",
      "7  fraud_Metz, Russel and Metz       kids_pets   95.36    Frank     Foster   \n",
      "8              fraud_Rau-Grant       kids_pets  104.08   Daniel      Owens   \n",
      "9      fraud_Emmerich-Luettgen     grocery_net   43.43    Wayne      Marsh   \n",
      "\n",
      "  gender                          street  ...      long city_pop  \\\n",
      "0      M  06959 Stephen Branch Suite 246  ...  -91.4539    111.0   \n",
      "1      M   838 Franklin Prairie Apt. 902  ...  -81.3824  32891.0   \n",
      "2      F        840 Werner Lock Apt. 852  ...  -98.7370    493.0   \n",
      "3      F      0069 Robin Brooks Apt. 695  ...  -86.2141    372.0   \n",
      "4      F                 1652 James Mews  ...  -81.7453   7646.0   \n",
      "5      F                9412 Harris Mews  ...  -99.8473    178.0   \n",
      "6      M                8957 Russell Key  ...  -86.2590   5901.0   \n",
      "7      M               37910 Ward Lights  ...  -71.7205  35299.0   \n",
      "8      M      88794 Mandy Lodge Apt. 874  ...  -96.9858   1063.0   \n",
      "9      M              172 Leonard Island  ... -105.6356    565.0   \n",
      "\n",
      "                                    job         dob  \\\n",
      "0           Careers information officer  2000-06-13   \n",
      "1                          Town planner  1987-02-13   \n",
      "2                    Surveyor, minerals  1940-09-13   \n",
      "3   Exhibitions officer, museum/gallery  1995-07-12   \n",
      "4          Medical sales representative  1988-09-15   \n",
      "5                         Warden/ranger  1983-06-14   \n",
      "6                               Curator  1972-07-25   \n",
      "7  English as a second language teacher  1975-04-30   \n",
      "8            Research scientist (maths)  1928-04-02   \n",
      "9                   Mental health nurse  1978-08-27   \n",
      "\n",
      "                          trans_num     unix_time  merch_lat  merch_long  \\\n",
      "0  84493b1691952886736aa8b6e40be515  1.365804e+09  36.421956  -90.886673   \n",
      "1  d151ed2235020ebef082872861d80b30  1.348697e+09  24.335732  -81.021317   \n",
      "2  17ab4d43f4b0ef68d8e0f9b1b2dc35da  1.380071e+09  41.270077  -98.698897   \n",
      "3  6beb1e30b69f2c2ce99dcddc299c4d1f  1.359639e+09  45.570999  -86.359618   \n",
      "4  d25af666331df48ffcd8c31c69006aa3  1.362934e+09  41.993817  -80.836079   \n",
      "5  abca8537b13b0f373f5e434db623bace  1.378829e+09  33.739960 -100.292427   \n",
      "6  0fd4ba94469554eefea0996d30623a71  1.388142e+09  35.113035  -86.129098   \n",
      "7  7a2e3bbaf42ce5e4e0bb1a61dbc31d9a  1.356722e+09  42.094433  -71.359548   \n",
      "8  c69cfca9f1c60dfeceb76df1bdd07fbc  1.328917e+09  41.069434  -97.654421   \n",
      "9  61966cb972b81113b3857166f770eb12  1.373172e+09  39.330309 -106.089892   \n",
      "\n",
      "  is_fraud                                               Link  \n",
      "0      0.0  homepages.rootsweb.ancestry.com/~donkelly/RUTL...  \n",
      "1      0.0  www.elsevier.com/wps/find/journaldescription.c...  \n",
      "2      0.0                            heartmindsoulbooks.com/  \n",
      "3      0.0  thecanadianencyclopedia.com/index.cfm?PgNm=TCE...  \n",
      "4      0.0                             jetbrains.com/teamcity  \n",
      "5      0.0  e-yearbook.com/yearbooks/Bishop_O_Dowd_High_Sc...  \n",
      "6      0.0  ppgdocs.org/Physician.aspx?PHN=Cathy%20L.%20Ca...  \n",
      "7      0.0                linkedin.com/jobs/at-Hallmark-Cards  \n",
      "8      0.0      epodunk.com/cgi-bin/genInfo.php?locIndex=9770  \n",
      "9      0.0                         www.skaro.com/larpdex.html  \n",
      "\n",
      "[10 rows x 24 columns]\n"
     ]
    }
   ],
   "source": [
    "# The first 10 rows were printed.\n",
    "print(df_train.head(10))"
   ]
  },
  {
   "cell_type": "code",
   "execution_count": 28,
   "metadata": {},
   "outputs": [
    {
     "name": "stdout",
     "output_type": "stream",
     "text": [
      "Index(['Unnamed: 0', 'trans_date_trans_time', 'cc_num', 'merchant', 'category',\n",
      "       'amt', 'first', 'last', 'gender', 'street', 'city', 'state', 'zip',\n",
      "       'lat', 'long', 'city_pop', 'job', 'dob', 'trans_num', 'unix_time',\n",
      "       'merch_lat', 'merch_long', 'is_fraud', 'Link'],\n",
      "      dtype='object')\n"
     ]
    }
   ],
   "source": [
    "# The columns were printed.\n",
    "print(df_train.columns)"
   ]
  },
  {
   "cell_type": "code",
   "execution_count": 29,
   "metadata": {},
   "outputs": [
    {
     "name": "stdout",
     "output_type": "stream",
     "text": [
      "Duplicated values dropped successfully\n"
     ]
    }
   ],
   "source": [
    "# First it is necessary to drop all the duplicate values. Although, the shell script is in charge of that.\n",
    "df_train = df_train.copy()\n",
    "df_train.drop_duplicates(inplace = True)\n",
    "print(\"Duplicated values dropped successfully\")"
   ]
  },
  {
   "cell_type": "code",
   "execution_count": 30,
   "metadata": {},
   "outputs": [],
   "source": [
    "# Some columns get renamed.\n",
    "df_train.rename(columns = {'trans_date_trans_time':'transaction_time',\n",
    "                         'cc_num':'credit_card_number',\n",
    "                         'amt':'amount(usd)',\n",
    "                         'trans_num':'transaction_id'},\n",
    "                inplace = True)"
   ]
  },
  {
   "cell_type": "code",
   "execution_count": 31,
   "metadata": {},
   "outputs": [
    {
     "ename": "ParserError",
     "evalue": "Unknown string format: cÔ¡æ>1\bHÇÕ\u001bdì³)e>e<E\u0016_Ö<e%Ä>ñâ\u0017û×HËY¥Uu´\u00187Ùm\u0012â?Já¥`Ó`¤µ÷ïvºbsÔÉ¦§+\u0014»ó¼:Uÿ\u00025kPÚG9àYàk\u0017Õ_DS\u0004g3`\b4\u0005ëeÏ®ºx­ä{~£OnÁÓHµÔAi¡ý\u001c]û¦Pövr\u0017\u001fÃ2\u0007¨ÛY\u0015Äðè7®/\" present at position 824",
     "output_type": "error",
     "traceback": [
      "\u001b[0;31m---------------------------------------------------------------------------\u001b[0m",
      "\u001b[0;31mParserError\u001b[0m                               Traceback (most recent call last)",
      "File \u001b[0;32m/opt/homebrew/lib/python3.11/site-packages/pandas/_libs/tslib.pyx:605\u001b[0m, in \u001b[0;36mpandas._libs.tslib.array_to_datetime\u001b[0;34m()\u001b[0m\n",
      "File \u001b[0;32m/opt/homebrew/lib/python3.11/site-packages/pandas/_libs/tslibs/parsing.pyx:318\u001b[0m, in \u001b[0;36mpandas._libs.tslibs.parsing.parse_datetime_string\u001b[0;34m()\u001b[0m\n",
      "File \u001b[0;32m~/Library/Python/3.11/lib/python/site-packages/dateutil/parser/_parser.py:1368\u001b[0m, in \u001b[0;36mparse\u001b[0;34m(timestr, parserinfo, **kwargs)\u001b[0m\n\u001b[1;32m   1367\u001b[0m \u001b[39melse\u001b[39;00m:\n\u001b[0;32m-> 1368\u001b[0m     \u001b[39mreturn\u001b[39;00m DEFAULTPARSER\u001b[39m.\u001b[39;49mparse(timestr, \u001b[39m*\u001b[39;49m\u001b[39m*\u001b[39;49mkwargs)\n",
      "File \u001b[0;32m~/Library/Python/3.11/lib/python/site-packages/dateutil/parser/_parser.py:643\u001b[0m, in \u001b[0;36mparser.parse\u001b[0;34m(self, timestr, default, ignoretz, tzinfos, **kwargs)\u001b[0m\n\u001b[1;32m    642\u001b[0m \u001b[39mif\u001b[39;00m res \u001b[39mis\u001b[39;00m \u001b[39mNone\u001b[39;00m:\n\u001b[0;32m--> 643\u001b[0m     \u001b[39mraise\u001b[39;00m ParserError(\u001b[39m\"\u001b[39m\u001b[39mUnknown string format: \u001b[39m\u001b[39m%s\u001b[39;00m\u001b[39m\"\u001b[39m, timestr)\n\u001b[1;32m    645\u001b[0m \u001b[39mif\u001b[39;00m \u001b[39mlen\u001b[39m(res) \u001b[39m==\u001b[39m \u001b[39m0\u001b[39m:\n",
      "\u001b[0;31mParserError\u001b[0m: Unknown string format: cÔ¡æ>1\bHÇÕ\u001bdì³)e>e<E\u0016_Ö<e%Ä>ñâ\u0017û×HËY¥Uu´\u00187Ùm\u0012â?Já¥`Ó`¤µ÷ïvºbsÔÉ¦§+\u0014»ó¼:Uÿ\u00025kPÚG9àYàk\u0017Õ_DS\u0004g3`\b4\u0005ëeÏ®ºx­ä{~£OnÁÓHµÔAi¡ý\u001c]û¦Pövr\u0017\u001fÃ2\u0007¨ÛY\u0015Äðè7®/\"",
      "\nDuring handling of the above exception, another exception occurred:\n",
      "\u001b[0;31mTypeError\u001b[0m                                 Traceback (most recent call last)",
      "File \u001b[0;32m/opt/homebrew/lib/python3.11/site-packages/pandas/_libs/tslib.pyx:616\u001b[0m, in \u001b[0;36mpandas._libs.tslib.array_to_datetime\u001b[0;34m()\u001b[0m\n",
      "\u001b[0;31mTypeError\u001b[0m: invalid string coercion to datetime for \"cÔ¡æ>1\bHÇÕ\u001bdì³)e>e<E\u0016_Ö<e%Ä>ñâ\u0017û×HËY¥Uu´\u00187Ùm\u0012â?Já¥`Ó`¤µ÷ïvºbsÔÉ¦§+\u0014»ó¼:Uÿ\u00025kPÚG9àYàk\u0017Õ_DS\u0004g3`\b4\u0005ëeÏ®ºx­ä{~£OnÁÓHµÔAi¡ý\u001c]û¦Pövr\u0017\u001fÃ2\u0007¨ÛY\u0015Äðè7®/\"\" at position 824",
      "\nDuring handling of the above exception, another exception occurred:\n",
      "\u001b[0;31mParserError\u001b[0m                               Traceback (most recent call last)",
      "Cell \u001b[0;32mIn[31], line 3\u001b[0m\n\u001b[1;32m      1\u001b[0m \u001b[39m# The datetime columns were converted.\u001b[39;00m\n\u001b[1;32m      2\u001b[0m \u001b[39m# transaction_time and dob should be in pd.datetime format and we also convert unix_time to exact timestamp\u001b[39;00m\n\u001b[0;32m----> 3\u001b[0m df_train[\u001b[39m'\u001b[39m\u001b[39mtransaction_time\u001b[39m\u001b[39m'\u001b[39m] \u001b[39m=\u001b[39m pd\u001b[39m.\u001b[39;49mto_datetime(df_train[\u001b[39m'\u001b[39;49m\u001b[39mtransaction_time\u001b[39;49m\u001b[39m'\u001b[39;49m], infer_datetime_format \u001b[39m=\u001b[39;49m \u001b[39mTrue\u001b[39;49;00m)\n\u001b[1;32m      4\u001b[0m df_train[\u001b[39m'\u001b[39m\u001b[39mdob\u001b[39m\u001b[39m'\u001b[39m] \u001b[39m=\u001b[39m pd\u001b[39m.\u001b[39mto_datetime(df_train[\u001b[39m'\u001b[39m\u001b[39mdob\u001b[39m\u001b[39m'\u001b[39m], infer_datetime_format \u001b[39m=\u001b[39m \u001b[39mTrue\u001b[39;00m)\n",
      "File \u001b[0;32m/opt/homebrew/lib/python3.11/site-packages/pandas/core/tools/datetimes.py:1068\u001b[0m, in \u001b[0;36mto_datetime\u001b[0;34m(arg, errors, dayfirst, yearfirst, utc, format, exact, unit, infer_datetime_format, origin, cache)\u001b[0m\n\u001b[1;32m   1066\u001b[0m         result \u001b[39m=\u001b[39m arg\u001b[39m.\u001b[39mmap(cache_array)\n\u001b[1;32m   1067\u001b[0m     \u001b[39melse\u001b[39;00m:\n\u001b[0;32m-> 1068\u001b[0m         values \u001b[39m=\u001b[39m convert_listlike(arg\u001b[39m.\u001b[39;49m_values, \u001b[39mformat\u001b[39;49m)\n\u001b[1;32m   1069\u001b[0m         result \u001b[39m=\u001b[39m arg\u001b[39m.\u001b[39m_constructor(values, index\u001b[39m=\u001b[39marg\u001b[39m.\u001b[39mindex, name\u001b[39m=\u001b[39marg\u001b[39m.\u001b[39mname)\n\u001b[1;32m   1070\u001b[0m \u001b[39melif\u001b[39;00m \u001b[39misinstance\u001b[39m(arg, (ABCDataFrame, abc\u001b[39m.\u001b[39mMutableMapping)):\n",
      "File \u001b[0;32m/opt/homebrew/lib/python3.11/site-packages/pandas/core/tools/datetimes.py:438\u001b[0m, in \u001b[0;36m_convert_listlike_datetimes\u001b[0;34m(arg, format, name, tz, unit, errors, infer_datetime_format, dayfirst, yearfirst, exact)\u001b[0m\n\u001b[1;32m    436\u001b[0m \u001b[39massert\u001b[39;00m \u001b[39mformat\u001b[39m \u001b[39mis\u001b[39;00m \u001b[39mNone\u001b[39;00m \u001b[39mor\u001b[39;00m infer_datetime_format\n\u001b[1;32m    437\u001b[0m utc \u001b[39m=\u001b[39m tz \u001b[39m==\u001b[39m \u001b[39m\"\u001b[39m\u001b[39mutc\u001b[39m\u001b[39m\"\u001b[39m\n\u001b[0;32m--> 438\u001b[0m result, tz_parsed \u001b[39m=\u001b[39m objects_to_datetime64ns(\n\u001b[1;32m    439\u001b[0m     arg,\n\u001b[1;32m    440\u001b[0m     dayfirst\u001b[39m=\u001b[39;49mdayfirst,\n\u001b[1;32m    441\u001b[0m     yearfirst\u001b[39m=\u001b[39;49myearfirst,\n\u001b[1;32m    442\u001b[0m     utc\u001b[39m=\u001b[39;49mutc,\n\u001b[1;32m    443\u001b[0m     errors\u001b[39m=\u001b[39;49merrors,\n\u001b[1;32m    444\u001b[0m     require_iso8601\u001b[39m=\u001b[39;49mrequire_iso8601,\n\u001b[1;32m    445\u001b[0m     allow_object\u001b[39m=\u001b[39;49m\u001b[39mTrue\u001b[39;49;00m,\n\u001b[1;32m    446\u001b[0m )\n\u001b[1;32m    448\u001b[0m \u001b[39mif\u001b[39;00m tz_parsed \u001b[39mis\u001b[39;00m \u001b[39mnot\u001b[39;00m \u001b[39mNone\u001b[39;00m:\n\u001b[1;32m    449\u001b[0m     \u001b[39m# We can take a shortcut since the datetime64 numpy array\u001b[39;00m\n\u001b[1;32m    450\u001b[0m     \u001b[39m# is in UTC\u001b[39;00m\n\u001b[1;32m    451\u001b[0m     dta \u001b[39m=\u001b[39m DatetimeArray(result, dtype\u001b[39m=\u001b[39mtz_to_dtype(tz_parsed))\n",
      "File \u001b[0;32m/opt/homebrew/lib/python3.11/site-packages/pandas/core/arrays/datetimes.py:2177\u001b[0m, in \u001b[0;36mobjects_to_datetime64ns\u001b[0;34m(data, dayfirst, yearfirst, utc, errors, require_iso8601, allow_object, allow_mixed)\u001b[0m\n\u001b[1;32m   2175\u001b[0m order: Literal[\u001b[39m\"\u001b[39m\u001b[39mF\u001b[39m\u001b[39m\"\u001b[39m, \u001b[39m\"\u001b[39m\u001b[39mC\u001b[39m\u001b[39m\"\u001b[39m] \u001b[39m=\u001b[39m \u001b[39m\"\u001b[39m\u001b[39mF\u001b[39m\u001b[39m\"\u001b[39m \u001b[39mif\u001b[39;00m flags\u001b[39m.\u001b[39mf_contiguous \u001b[39melse\u001b[39;00m \u001b[39m\"\u001b[39m\u001b[39mC\u001b[39m\u001b[39m\"\u001b[39m\n\u001b[1;32m   2176\u001b[0m \u001b[39mtry\u001b[39;00m:\n\u001b[0;32m-> 2177\u001b[0m     result, tz_parsed \u001b[39m=\u001b[39m tslib\u001b[39m.\u001b[39;49marray_to_datetime(\n\u001b[1;32m   2178\u001b[0m         data\u001b[39m.\u001b[39;49mravel(\u001b[39m\"\u001b[39;49m\u001b[39mK\u001b[39;49m\u001b[39m\"\u001b[39;49m),\n\u001b[1;32m   2179\u001b[0m         errors\u001b[39m=\u001b[39;49merrors,\n\u001b[1;32m   2180\u001b[0m         utc\u001b[39m=\u001b[39;49mutc,\n\u001b[1;32m   2181\u001b[0m         dayfirst\u001b[39m=\u001b[39;49mdayfirst,\n\u001b[1;32m   2182\u001b[0m         yearfirst\u001b[39m=\u001b[39;49myearfirst,\n\u001b[1;32m   2183\u001b[0m         require_iso8601\u001b[39m=\u001b[39;49mrequire_iso8601,\n\u001b[1;32m   2184\u001b[0m         allow_mixed\u001b[39m=\u001b[39;49mallow_mixed,\n\u001b[1;32m   2185\u001b[0m     )\n\u001b[1;32m   2186\u001b[0m     result \u001b[39m=\u001b[39m result\u001b[39m.\u001b[39mreshape(data\u001b[39m.\u001b[39mshape, order\u001b[39m=\u001b[39morder)\n\u001b[1;32m   2187\u001b[0m \u001b[39mexcept\u001b[39;00m \u001b[39mOverflowError\u001b[39;00m \u001b[39mas\u001b[39;00m err:\n\u001b[1;32m   2188\u001b[0m     \u001b[39m# Exception is raised when a part of date is greater than 32 bit signed int\u001b[39;00m\n",
      "File \u001b[0;32m/opt/homebrew/lib/python3.11/site-packages/pandas/_libs/tslib.pyx:427\u001b[0m, in \u001b[0;36mpandas._libs.tslib.array_to_datetime\u001b[0;34m()\u001b[0m\n",
      "File \u001b[0;32m/opt/homebrew/lib/python3.11/site-packages/pandas/_libs/tslib.pyx:683\u001b[0m, in \u001b[0;36mpandas._libs.tslib.array_to_datetime\u001b[0;34m()\u001b[0m\n",
      "File \u001b[0;32m/opt/homebrew/lib/python3.11/site-packages/pandas/_libs/tslib.pyx:829\u001b[0m, in \u001b[0;36mpandas._libs.tslib._array_to_datetime_object\u001b[0;34m()\u001b[0m\n",
      "File \u001b[0;32m/opt/homebrew/lib/python3.11/site-packages/pandas/_libs/tslib.pyx:819\u001b[0m, in \u001b[0;36mpandas._libs.tslib._array_to_datetime_object\u001b[0;34m()\u001b[0m\n",
      "File \u001b[0;32m/opt/homebrew/lib/python3.11/site-packages/pandas/_libs/tslibs/parsing.pyx:318\u001b[0m, in \u001b[0;36mpandas._libs.tslibs.parsing.parse_datetime_string\u001b[0;34m()\u001b[0m\n",
      "File \u001b[0;32m~/Library/Python/3.11/lib/python/site-packages/dateutil/parser/_parser.py:1368\u001b[0m, in \u001b[0;36mparse\u001b[0;34m(timestr, parserinfo, **kwargs)\u001b[0m\n\u001b[1;32m   1366\u001b[0m     \u001b[39mreturn\u001b[39;00m parser(parserinfo)\u001b[39m.\u001b[39mparse(timestr, \u001b[39m*\u001b[39m\u001b[39m*\u001b[39mkwargs)\n\u001b[1;32m   1367\u001b[0m \u001b[39melse\u001b[39;00m:\n\u001b[0;32m-> 1368\u001b[0m     \u001b[39mreturn\u001b[39;00m DEFAULTPARSER\u001b[39m.\u001b[39;49mparse(timestr, \u001b[39m*\u001b[39;49m\u001b[39m*\u001b[39;49mkwargs)\n",
      "File \u001b[0;32m~/Library/Python/3.11/lib/python/site-packages/dateutil/parser/_parser.py:643\u001b[0m, in \u001b[0;36mparser.parse\u001b[0;34m(self, timestr, default, ignoretz, tzinfos, **kwargs)\u001b[0m\n\u001b[1;32m    640\u001b[0m res, skipped_tokens \u001b[39m=\u001b[39m \u001b[39mself\u001b[39m\u001b[39m.\u001b[39m_parse(timestr, \u001b[39m*\u001b[39m\u001b[39m*\u001b[39mkwargs)\n\u001b[1;32m    642\u001b[0m \u001b[39mif\u001b[39;00m res \u001b[39mis\u001b[39;00m \u001b[39mNone\u001b[39;00m:\n\u001b[0;32m--> 643\u001b[0m     \u001b[39mraise\u001b[39;00m ParserError(\u001b[39m\"\u001b[39m\u001b[39mUnknown string format: \u001b[39m\u001b[39m%s\u001b[39;00m\u001b[39m\"\u001b[39m, timestr)\n\u001b[1;32m    645\u001b[0m \u001b[39mif\u001b[39;00m \u001b[39mlen\u001b[39m(res) \u001b[39m==\u001b[39m \u001b[39m0\u001b[39m:\n\u001b[1;32m    646\u001b[0m     \u001b[39mraise\u001b[39;00m ParserError(\u001b[39m\"\u001b[39m\u001b[39mString does not contain a date: \u001b[39m\u001b[39m%s\u001b[39;00m\u001b[39m\"\u001b[39m, timestr)\n",
      "\u001b[0;31mParserError\u001b[0m: Unknown string format: cÔ¡æ>1\bHÇÕ\u001bdì³)e>e<E\u0016_Ö<e%Ä>ñâ\u0017û×HËY¥Uu´\u00187Ùm\u0012â?Já¥`Ó`¤µ÷ïvºbsÔÉ¦§+\u0014»ó¼:Uÿ\u00025kPÚG9àYàk\u0017Õ_DS\u0004g3`\b4\u0005ëeÏ®ºx­ä{~£OnÁÓHµÔAi¡ý\u001c]û¦Pövr\u0017\u001fÃ2\u0007¨ÛY\u0015Äðè7®/\" present at position 824"
     ]
    }
   ],
   "source": [
    "# The datetime columns were converted.\n",
    "# transaction_time and dob should be in pd.datetime format and we also convert unix_time to exact timestamp\n",
    "df_train['transaction_time'] = pd.to_datetime(df_train['transaction_time'], infer_datetime_format = True)\n",
    "df_train['dob'] = pd.to_datetime(df_train['dob'], infer_datetime_format = True)"
   ]
  },
  {
   "cell_type": "code",
   "execution_count": null,
   "metadata": {},
   "outputs": [],
   "source": [
    "# A function was applied utcfromtimestamp and was dropped column unix_time\n",
    "df_train['time'] = df_train['unix_time'].apply(datetime.utcfromtimestamp)\n",
    "df_train.drop('unix_time', axis=1)\n",
    "# A column with hour of day was added.\n",
    "df_train['hour_of_day'] = df_train.time.dt.hour"
   ]
  },
  {
   "cell_type": "code",
   "execution_count": null,
   "metadata": {},
   "outputs": [
    {
     "name": "stdout",
     "output_type": "stream",
     "text": [
      "<class 'pandas.core.frame.DataFrame'>\n",
      "Int64Index: 1481915 entries, 0 to 1481914\n",
      "Data columns (total 24 columns):\n",
      " #   Column              Non-Null Count    Dtype         \n",
      "---  ------              --------------    -----         \n",
      " 0   transaction_time    1481915 non-null  datetime64[ns]\n",
      " 1   credit_card_number  1481915 non-null  category      \n",
      " 2   merchant            1481915 non-null  object        \n",
      " 3   category            1481915 non-null  object        \n",
      " 4   amount(usd)         1481915 non-null  float64       \n",
      " 5   first               1481915 non-null  object        \n",
      " 6   last                1481915 non-null  object        \n",
      " 7   gender              1481915 non-null  object        \n",
      " 8   street              1481915 non-null  object        \n",
      " 9   city                1481915 non-null  object        \n",
      " 10  state               1481915 non-null  object        \n",
      " 11  zip                 1481915 non-null  int64         \n",
      " 12  lat                 1481915 non-null  float64       \n",
      " 13  long                1481915 non-null  float64       \n",
      " 14  city_pop            1481915 non-null  int64         \n",
      " 15  job                 1481915 non-null  object        \n",
      " 16  dob                 1481915 non-null  datetime64[ns]\n",
      " 17  transaction_id      1481915 non-null  object        \n",
      " 18  unix_time           1481915 non-null  int64         \n",
      " 19  merch_lat           1481915 non-null  float64       \n",
      " 20  merch_long          1481915 non-null  float64       \n",
      " 21  is_fraud            1481915 non-null  category      \n",
      " 22  time                1481915 non-null  datetime64[ns]\n",
      " 23  hour_of_day         1481915 non-null  category      \n",
      "dtypes: category(3), datetime64[ns](3), float64(5), int64(3), object(10)\n",
      "memory usage: 254.4+ MB\n"
     ]
    }
   ],
   "source": [
    "# Credit card number should be integers not dtypes.\n",
    "# Change dtypes\n",
    "df_train.credit_card_number = df_train.credit_card_number.astype('category')\n",
    "df_train.is_fraud = df_train.is_fraud.astype('category')\n",
    "df_train.hour_of_day = df_train.hour_of_day.astype('category')\n",
    "# Check\n",
    "df_train.info()"
   ]
  },
  {
   "cell_type": "code",
   "execution_count": null,
   "metadata": {},
   "outputs": [],
   "source": [
    "# -------------------------------------------------------------------------------------------------------------------------------------------------\n",
    "# -------------------------------------------------------------------> End or data preprocessing <-------------------------------------------------\n",
    "# -------------------------------------------------------------------------------------------------------------------------------------------------"
   ]
  },
  {
   "cell_type": "code",
   "execution_count": null,
   "metadata": {},
   "outputs": [],
   "source": [
    "# -------------------------------------------------------------------------------------------------------------------------------------------------\n",
    "# ------------------------------------------------------------------> Unbalanced data check <------------------------------------------------------\n",
    "# -------------------------------------------------------------------------------------------------------------------------------------------------"
   ]
  },
  {
   "cell_type": "code",
   "execution_count": null,
   "metadata": {},
   "outputs": [
    {
     "data": {
      "text/plain": [
       "0    1474189\n",
       "1       7726\n",
       "Name: is_fraud, dtype: int64"
      ]
     },
     "execution_count": 14,
     "metadata": {},
     "output_type": "execute_result"
    }
   ],
   "source": [
    "# The  number of classes got counted, in this case, fraudulent or not.\n",
    "df_train['is_fraud'].value_counts()"
   ]
  },
  {
   "cell_type": "code",
   "execution_count": null,
   "metadata": {},
   "outputs": [
    {
     "data": {
      "application/vnd.plotly.v1+json": {
       "config": {
        "plotlyServerURL": "https://plot.ly"
       },
       "data": [
        {
         "domain": {
          "x": [
           0,
           1
          ],
          "y": [
           0,
           1
          ]
         },
         "hovertemplate": "label=%{label}<br>value=%{value}<extra></extra>",
         "labels": [
          "Genuine",
          "Fraud"
         ],
         "legendgroup": "",
         "name": "",
         "showlegend": true,
         "type": "pie",
         "values": [
          1474189,
          7726
         ]
        }
       ],
       "layout": {
        "height": 400,
        "legend": {
         "tracegroupgap": 0
        },
        "piecolorway": [
         "skyblue",
         "black"
        ],
        "template": {
         "data": {
          "bar": [
           {
            "error_x": {
             "color": "#2a3f5f"
            },
            "error_y": {
             "color": "#2a3f5f"
            },
            "marker": {
             "line": {
              "color": "#E5ECF6",
              "width": 0.5
             },
             "pattern": {
              "fillmode": "overlay",
              "size": 10,
              "solidity": 0.2
             }
            },
            "type": "bar"
           }
          ],
          "barpolar": [
           {
            "marker": {
             "line": {
              "color": "#E5ECF6",
              "width": 0.5
             },
             "pattern": {
              "fillmode": "overlay",
              "size": 10,
              "solidity": 0.2
             }
            },
            "type": "barpolar"
           }
          ],
          "carpet": [
           {
            "aaxis": {
             "endlinecolor": "#2a3f5f",
             "gridcolor": "white",
             "linecolor": "white",
             "minorgridcolor": "white",
             "startlinecolor": "#2a3f5f"
            },
            "baxis": {
             "endlinecolor": "#2a3f5f",
             "gridcolor": "white",
             "linecolor": "white",
             "minorgridcolor": "white",
             "startlinecolor": "#2a3f5f"
            },
            "type": "carpet"
           }
          ],
          "choropleth": [
           {
            "colorbar": {
             "outlinewidth": 0,
             "ticks": ""
            },
            "type": "choropleth"
           }
          ],
          "contour": [
           {
            "colorbar": {
             "outlinewidth": 0,
             "ticks": ""
            },
            "colorscale": [
             [
              0,
              "#0d0887"
             ],
             [
              0.1111111111111111,
              "#46039f"
             ],
             [
              0.2222222222222222,
              "#7201a8"
             ],
             [
              0.3333333333333333,
              "#9c179e"
             ],
             [
              0.4444444444444444,
              "#bd3786"
             ],
             [
              0.5555555555555556,
              "#d8576b"
             ],
             [
              0.6666666666666666,
              "#ed7953"
             ],
             [
              0.7777777777777778,
              "#fb9f3a"
             ],
             [
              0.8888888888888888,
              "#fdca26"
             ],
             [
              1,
              "#f0f921"
             ]
            ],
            "type": "contour"
           }
          ],
          "contourcarpet": [
           {
            "colorbar": {
             "outlinewidth": 0,
             "ticks": ""
            },
            "type": "contourcarpet"
           }
          ],
          "heatmap": [
           {
            "colorbar": {
             "outlinewidth": 0,
             "ticks": ""
            },
            "colorscale": [
             [
              0,
              "#0d0887"
             ],
             [
              0.1111111111111111,
              "#46039f"
             ],
             [
              0.2222222222222222,
              "#7201a8"
             ],
             [
              0.3333333333333333,
              "#9c179e"
             ],
             [
              0.4444444444444444,
              "#bd3786"
             ],
             [
              0.5555555555555556,
              "#d8576b"
             ],
             [
              0.6666666666666666,
              "#ed7953"
             ],
             [
              0.7777777777777778,
              "#fb9f3a"
             ],
             [
              0.8888888888888888,
              "#fdca26"
             ],
             [
              1,
              "#f0f921"
             ]
            ],
            "type": "heatmap"
           }
          ],
          "heatmapgl": [
           {
            "colorbar": {
             "outlinewidth": 0,
             "ticks": ""
            },
            "colorscale": [
             [
              0,
              "#0d0887"
             ],
             [
              0.1111111111111111,
              "#46039f"
             ],
             [
              0.2222222222222222,
              "#7201a8"
             ],
             [
              0.3333333333333333,
              "#9c179e"
             ],
             [
              0.4444444444444444,
              "#bd3786"
             ],
             [
              0.5555555555555556,
              "#d8576b"
             ],
             [
              0.6666666666666666,
              "#ed7953"
             ],
             [
              0.7777777777777778,
              "#fb9f3a"
             ],
             [
              0.8888888888888888,
              "#fdca26"
             ],
             [
              1,
              "#f0f921"
             ]
            ],
            "type": "heatmapgl"
           }
          ],
          "histogram": [
           {
            "marker": {
             "pattern": {
              "fillmode": "overlay",
              "size": 10,
              "solidity": 0.2
             }
            },
            "type": "histogram"
           }
          ],
          "histogram2d": [
           {
            "colorbar": {
             "outlinewidth": 0,
             "ticks": ""
            },
            "colorscale": [
             [
              0,
              "#0d0887"
             ],
             [
              0.1111111111111111,
              "#46039f"
             ],
             [
              0.2222222222222222,
              "#7201a8"
             ],
             [
              0.3333333333333333,
              "#9c179e"
             ],
             [
              0.4444444444444444,
              "#bd3786"
             ],
             [
              0.5555555555555556,
              "#d8576b"
             ],
             [
              0.6666666666666666,
              "#ed7953"
             ],
             [
              0.7777777777777778,
              "#fb9f3a"
             ],
             [
              0.8888888888888888,
              "#fdca26"
             ],
             [
              1,
              "#f0f921"
             ]
            ],
            "type": "histogram2d"
           }
          ],
          "histogram2dcontour": [
           {
            "colorbar": {
             "outlinewidth": 0,
             "ticks": ""
            },
            "colorscale": [
             [
              0,
              "#0d0887"
             ],
             [
              0.1111111111111111,
              "#46039f"
             ],
             [
              0.2222222222222222,
              "#7201a8"
             ],
             [
              0.3333333333333333,
              "#9c179e"
             ],
             [
              0.4444444444444444,
              "#bd3786"
             ],
             [
              0.5555555555555556,
              "#d8576b"
             ],
             [
              0.6666666666666666,
              "#ed7953"
             ],
             [
              0.7777777777777778,
              "#fb9f3a"
             ],
             [
              0.8888888888888888,
              "#fdca26"
             ],
             [
              1,
              "#f0f921"
             ]
            ],
            "type": "histogram2dcontour"
           }
          ],
          "mesh3d": [
           {
            "colorbar": {
             "outlinewidth": 0,
             "ticks": ""
            },
            "type": "mesh3d"
           }
          ],
          "parcoords": [
           {
            "line": {
             "colorbar": {
              "outlinewidth": 0,
              "ticks": ""
             }
            },
            "type": "parcoords"
           }
          ],
          "pie": [
           {
            "automargin": true,
            "type": "pie"
           }
          ],
          "scatter": [
           {
            "fillpattern": {
             "fillmode": "overlay",
             "size": 10,
             "solidity": 0.2
            },
            "type": "scatter"
           }
          ],
          "scatter3d": [
           {
            "line": {
             "colorbar": {
              "outlinewidth": 0,
              "ticks": ""
             }
            },
            "marker": {
             "colorbar": {
              "outlinewidth": 0,
              "ticks": ""
             }
            },
            "type": "scatter3d"
           }
          ],
          "scattercarpet": [
           {
            "marker": {
             "colorbar": {
              "outlinewidth": 0,
              "ticks": ""
             }
            },
            "type": "scattercarpet"
           }
          ],
          "scattergeo": [
           {
            "marker": {
             "colorbar": {
              "outlinewidth": 0,
              "ticks": ""
             }
            },
            "type": "scattergeo"
           }
          ],
          "scattergl": [
           {
            "marker": {
             "colorbar": {
              "outlinewidth": 0,
              "ticks": ""
             }
            },
            "type": "scattergl"
           }
          ],
          "scattermapbox": [
           {
            "marker": {
             "colorbar": {
              "outlinewidth": 0,
              "ticks": ""
             }
            },
            "type": "scattermapbox"
           }
          ],
          "scatterpolar": [
           {
            "marker": {
             "colorbar": {
              "outlinewidth": 0,
              "ticks": ""
             }
            },
            "type": "scatterpolar"
           }
          ],
          "scatterpolargl": [
           {
            "marker": {
             "colorbar": {
              "outlinewidth": 0,
              "ticks": ""
             }
            },
            "type": "scatterpolargl"
           }
          ],
          "scatterternary": [
           {
            "marker": {
             "colorbar": {
              "outlinewidth": 0,
              "ticks": ""
             }
            },
            "type": "scatterternary"
           }
          ],
          "surface": [
           {
            "colorbar": {
             "outlinewidth": 0,
             "ticks": ""
            },
            "colorscale": [
             [
              0,
              "#0d0887"
             ],
             [
              0.1111111111111111,
              "#46039f"
             ],
             [
              0.2222222222222222,
              "#7201a8"
             ],
             [
              0.3333333333333333,
              "#9c179e"
             ],
             [
              0.4444444444444444,
              "#bd3786"
             ],
             [
              0.5555555555555556,
              "#d8576b"
             ],
             [
              0.6666666666666666,
              "#ed7953"
             ],
             [
              0.7777777777777778,
              "#fb9f3a"
             ],
             [
              0.8888888888888888,
              "#fdca26"
             ],
             [
              1,
              "#f0f921"
             ]
            ],
            "type": "surface"
           }
          ],
          "table": [
           {
            "cells": {
             "fill": {
              "color": "#EBF0F8"
             },
             "line": {
              "color": "white"
             }
            },
            "header": {
             "fill": {
              "color": "#C8D4E3"
             },
             "line": {
              "color": "white"
             }
            },
            "type": "table"
           }
          ]
         },
         "layout": {
          "annotationdefaults": {
           "arrowcolor": "#2a3f5f",
           "arrowhead": 0,
           "arrowwidth": 1
          },
          "autotypenumbers": "strict",
          "coloraxis": {
           "colorbar": {
            "outlinewidth": 0,
            "ticks": ""
           }
          },
          "colorscale": {
           "diverging": [
            [
             0,
             "#8e0152"
            ],
            [
             0.1,
             "#c51b7d"
            ],
            [
             0.2,
             "#de77ae"
            ],
            [
             0.3,
             "#f1b6da"
            ],
            [
             0.4,
             "#fde0ef"
            ],
            [
             0.5,
             "#f7f7f7"
            ],
            [
             0.6,
             "#e6f5d0"
            ],
            [
             0.7,
             "#b8e186"
            ],
            [
             0.8,
             "#7fbc41"
            ],
            [
             0.9,
             "#4d9221"
            ],
            [
             1,
             "#276419"
            ]
           ],
           "sequential": [
            [
             0,
             "#0d0887"
            ],
            [
             0.1111111111111111,
             "#46039f"
            ],
            [
             0.2222222222222222,
             "#7201a8"
            ],
            [
             0.3333333333333333,
             "#9c179e"
            ],
            [
             0.4444444444444444,
             "#bd3786"
            ],
            [
             0.5555555555555556,
             "#d8576b"
            ],
            [
             0.6666666666666666,
             "#ed7953"
            ],
            [
             0.7777777777777778,
             "#fb9f3a"
            ],
            [
             0.8888888888888888,
             "#fdca26"
            ],
            [
             1,
             "#f0f921"
            ]
           ],
           "sequentialminus": [
            [
             0,
             "#0d0887"
            ],
            [
             0.1111111111111111,
             "#46039f"
            ],
            [
             0.2222222222222222,
             "#7201a8"
            ],
            [
             0.3333333333333333,
             "#9c179e"
            ],
            [
             0.4444444444444444,
             "#bd3786"
            ],
            [
             0.5555555555555556,
             "#d8576b"
            ],
            [
             0.6666666666666666,
             "#ed7953"
            ],
            [
             0.7777777777777778,
             "#fb9f3a"
            ],
            [
             0.8888888888888888,
             "#fdca26"
            ],
            [
             1,
             "#f0f921"
            ]
           ]
          },
          "colorway": [
           "#636efa",
           "#EF553B",
           "#00cc96",
           "#ab63fa",
           "#FFA15A",
           "#19d3f3",
           "#FF6692",
           "#B6E880",
           "#FF97FF",
           "#FECB52"
          ],
          "font": {
           "color": "#2a3f5f"
          },
          "geo": {
           "bgcolor": "white",
           "lakecolor": "white",
           "landcolor": "#E5ECF6",
           "showlakes": true,
           "showland": true,
           "subunitcolor": "white"
          },
          "hoverlabel": {
           "align": "left"
          },
          "hovermode": "closest",
          "mapbox": {
           "style": "light"
          },
          "paper_bgcolor": "white",
          "plot_bgcolor": "#E5ECF6",
          "polar": {
           "angularaxis": {
            "gridcolor": "white",
            "linecolor": "white",
            "ticks": ""
           },
           "bgcolor": "#E5ECF6",
           "radialaxis": {
            "gridcolor": "white",
            "linecolor": "white",
            "ticks": ""
           }
          },
          "scene": {
           "xaxis": {
            "backgroundcolor": "#E5ECF6",
            "gridcolor": "white",
            "gridwidth": 2,
            "linecolor": "white",
            "showbackground": true,
            "ticks": "",
            "zerolinecolor": "white"
           },
           "yaxis": {
            "backgroundcolor": "#E5ECF6",
            "gridcolor": "white",
            "gridwidth": 2,
            "linecolor": "white",
            "showbackground": true,
            "ticks": "",
            "zerolinecolor": "white"
           },
           "zaxis": {
            "backgroundcolor": "#E5ECF6",
            "gridcolor": "white",
            "gridwidth": 2,
            "linecolor": "white",
            "showbackground": true,
            "ticks": "",
            "zerolinecolor": "white"
           }
          },
          "shapedefaults": {
           "line": {
            "color": "#2a3f5f"
           }
          },
          "ternary": {
           "aaxis": {
            "gridcolor": "white",
            "linecolor": "white",
            "ticks": ""
           },
           "baxis": {
            "gridcolor": "white",
            "linecolor": "white",
            "ticks": ""
           },
           "bgcolor": "#E5ECF6",
           "caxis": {
            "gridcolor": "white",
            "linecolor": "white",
            "ticks": ""
           }
          },
          "title": {
           "x": 0.05
          },
          "xaxis": {
           "automargin": true,
           "gridcolor": "white",
           "linecolor": "white",
           "ticks": "",
           "title": {
            "standoff": 15
           },
           "zerolinecolor": "white",
           "zerolinewidth": 2
          },
          "yaxis": {
           "automargin": true,
           "gridcolor": "white",
           "linecolor": "white",
           "ticks": "",
           "title": {
            "standoff": 15
           },
           "zerolinecolor": "white",
           "zerolinewidth": 2
          }
         }
        },
        "title": {
         "text": "Fraud vs Genuine transactions"
        },
        "width": 700
       }
      }
     },
     "metadata": {},
     "output_type": "display_data"
    }
   ],
   "source": [
    "# Labeling the data in genuine and fraudulent transactions, this way it is easier to observe that the data is unbalanced.\n",
    "labels=[\"Genuine\", \"Fraud\"]\n",
    "fraud_or_not = df_train['is_fraud'].value_counts().tolist()\n",
    "values = [fraud_or_not[0], fraud_or_not[1]]\n",
    "# Plotting the values.\n",
    "fig = px.pie(values = df_train['is_fraud'].value_counts(), names = labels , width = 700, height = 400, color_discrete_sequence = [\"skyblue\", \"black\"]\n",
    "             ,title = \"Fraud vs Genuine transactions\")\n",
    "fig.show()"
   ]
  },
  {
   "cell_type": "code",
   "execution_count": null,
   "metadata": {},
   "outputs": [
    {
     "data": {
      "image/png": "[encoded data removed]",
      "text/plain": [
       "<Figure size 300x400 with 1 Axes>"
      ]
     },
     "metadata": {},
     "output_type": "display_data"
    }
   ],
   "source": [
    "# Unbalance data represented with bars.\n",
    "plt.figure(figsize = (3,4))\n",
    "ax = sns.countplot(x = 'is_fraud', data = df_train, palette = \"pastel\")\n",
    "for i in ax.containers:\n",
    "    ax.bar_label(i,)"
   ]
  },
  {
   "cell_type": "code",
   "execution_count": null,
   "metadata": {},
   "outputs": [
    {
     "name": "stdout",
     "output_type": "stream",
     "text": [
      "Genuine transactions: 99.48 % of the dataset\n",
      "Fraudulent transactions: 0.52 % of the dataset\n"
     ]
    }
   ],
   "source": [
    "# Percentage of data.\n",
    "print('Genuine transactions:', round(df_train['is_fraud'].value_counts()[0]/len(df_train) * 100,2), '% of the dataset')\n",
    "print('Fraudulent transactions:', round(df_train['is_fraud'].value_counts()[1]/len(df_train) * 100,2), '% of the dataset')"
   ]
  },
  {
   "cell_type": "code",
   "execution_count": null,
   "metadata": {},
   "outputs": [],
   "source": [
    "# -------------------------------------------------------------------------------------------------------------------------------------------------\n",
    "# ---------------------------------------------------------> Unbalanced data check was finished <--------------------------------------------------\n",
    "# -------------------------------------------------------------------------------------------------------------------------------------------------"
   ]
  },
  {
   "cell_type": "code",
   "execution_count": null,
   "metadata": {},
   "outputs": [],
   "source": [
    "# -------------------------------------------------------------------------------------------------------------------------------------------------\n",
    "# --------------------------------------------------------------> Exploratory Data Analysis <------------------------------------------------------\n",
    "# -------------------------------------------------------------------------------------------------------------------------------------------------"
   ]
  },
  {
   "cell_type": "code",
   "execution_count": null,
   "metadata": {},
   "outputs": [
    {
     "data": {
      "text/html": [
       "<div>\n",
       "<style scoped>\n",
       "    .dataframe tbody tr th:only-of-type {\n",
       "        vertical-align: middle;\n",
       "    }\n",
       "\n",
       "    .dataframe tbody tr th {\n",
       "        vertical-align: top;\n",
       "    }\n",
       "\n",
       "    .dataframe thead th {\n",
       "        text-align: right;\n",
       "    }\n",
       "</style>\n",
       "<table border=\"1\" class=\"dataframe\">\n",
       "  <thead>\n",
       "    <tr style=\"text-align: right;\">\n",
       "      <th></th>\n",
       "      <th>amount(usd)</th>\n",
       "      <th>zip</th>\n",
       "      <th>lat</th>\n",
       "      <th>long</th>\n",
       "      <th>city_pop</th>\n",
       "      <th>unix_time</th>\n",
       "      <th>merch_lat</th>\n",
       "      <th>merch_long</th>\n",
       "    </tr>\n",
       "  </thead>\n",
       "  <tbody>\n",
       "    <tr>\n",
       "      <th>count</th>\n",
       "      <td>1481915.00</td>\n",
       "      <td>1481915.00</td>\n",
       "      <td>1481915.00</td>\n",
       "      <td>1481915.00</td>\n",
       "      <td>1481915.00</td>\n",
       "      <td>1.481915e+06</td>\n",
       "      <td>1481915.00</td>\n",
       "      <td>1481915.00</td>\n",
       "    </tr>\n",
       "    <tr>\n",
       "      <th>mean</th>\n",
       "      <td>70.10</td>\n",
       "      <td>48807.52</td>\n",
       "      <td>38.54</td>\n",
       "      <td>-90.22</td>\n",
       "      <td>88719.66</td>\n",
       "      <td>1.358664e+09</td>\n",
       "      <td>38.54</td>\n",
       "      <td>-90.22</td>\n",
       "    </tr>\n",
       "    <tr>\n",
       "      <th>std</th>\n",
       "      <td>157.52</td>\n",
       "      <td>26880.75</td>\n",
       "      <td>5.07</td>\n",
       "      <td>13.75</td>\n",
       "      <td>301748.44</td>\n",
       "      <td>1.820019e+07</td>\n",
       "      <td>5.11</td>\n",
       "      <td>13.76</td>\n",
       "    </tr>\n",
       "    <tr>\n",
       "      <th>min</th>\n",
       "      <td>1.00</td>\n",
       "      <td>1257.00</td>\n",
       "      <td>20.03</td>\n",
       "      <td>-165.67</td>\n",
       "      <td>23.00</td>\n",
       "      <td>1.325376e+09</td>\n",
       "      <td>19.03</td>\n",
       "      <td>-166.67</td>\n",
       "    </tr>\n",
       "    <tr>\n",
       "      <th>25%</th>\n",
       "      <td>9.65</td>\n",
       "      <td>26237.00</td>\n",
       "      <td>34.67</td>\n",
       "      <td>-96.80</td>\n",
       "      <td>741.00</td>\n",
       "      <td>1.342996e+09</td>\n",
       "      <td>34.74</td>\n",
       "      <td>-96.89</td>\n",
       "    </tr>\n",
       "    <tr>\n",
       "      <th>50%</th>\n",
       "      <td>47.49</td>\n",
       "      <td>48174.00</td>\n",
       "      <td>39.35</td>\n",
       "      <td>-87.48</td>\n",
       "      <td>2443.00</td>\n",
       "      <td>1.357082e+09</td>\n",
       "      <td>39.37</td>\n",
       "      <td>-87.44</td>\n",
       "    </tr>\n",
       "    <tr>\n",
       "      <th>75%</th>\n",
       "      <td>83.14</td>\n",
       "      <td>72042.00</td>\n",
       "      <td>41.94</td>\n",
       "      <td>-80.16</td>\n",
       "      <td>20328.00</td>\n",
       "      <td>1.374569e+09</td>\n",
       "      <td>41.96</td>\n",
       "      <td>-80.24</td>\n",
       "    </tr>\n",
       "    <tr>\n",
       "      <th>max</th>\n",
       "      <td>28948.90</td>\n",
       "      <td>99921.00</td>\n",
       "      <td>66.69</td>\n",
       "      <td>-67.95</td>\n",
       "      <td>2906700.00</td>\n",
       "      <td>1.388534e+09</td>\n",
       "      <td>67.51</td>\n",
       "      <td>-66.95</td>\n",
       "    </tr>\n",
       "  </tbody>\n",
       "</table>\n",
       "</div>"
      ],
      "text/plain": [
       "       amount(usd)         zip         lat        long    city_pop  \\\n",
       "count   1481915.00  1481915.00  1481915.00  1481915.00  1481915.00   \n",
       "mean         70.10    48807.52       38.54      -90.22    88719.66   \n",
       "std         157.52    26880.75        5.07       13.75   301748.44   \n",
       "min           1.00     1257.00       20.03     -165.67       23.00   \n",
       "25%           9.65    26237.00       34.67      -96.80      741.00   \n",
       "50%          47.49    48174.00       39.35      -87.48     2443.00   \n",
       "75%          83.14    72042.00       41.94      -80.16    20328.00   \n",
       "max       28948.90    99921.00       66.69      -67.95  2906700.00   \n",
       "\n",
       "          unix_time   merch_lat  merch_long  \n",
       "count  1.481915e+06  1481915.00  1481915.00  \n",
       "mean   1.358664e+09       38.54      -90.22  \n",
       "std    1.820019e+07        5.11       13.76  \n",
       "min    1.325376e+09       19.03     -166.67  \n",
       "25%    1.342996e+09       34.74      -96.89  \n",
       "50%    1.357082e+09       39.37      -87.44  \n",
       "75%    1.374569e+09       41.96      -80.24  \n",
       "max    1.388534e+09       67.51      -66.95  "
      ]
     },
     "execution_count": 20,
     "metadata": {},
     "output_type": "execute_result"
    }
   ],
   "source": [
    "# A quick statistical summary of the columns was made.\n",
    "np.round(df_train.describe(), 2)"
   ]
  },
  {
   "cell_type": "code",
   "execution_count": null,
   "metadata": {},
   "outputs": [],
   "source": [
    "# Quick Summarize using pandas_profiling was realized.\n",
    "groups = [pd.Grouper(key=\"transaction_time\", freq=\"1W\"), \"is_fraud\"]\n",
    "df_ = df_train.groupby(by=groups).agg({\"amount(usd)\":'mean',\"transaction_id\":\"count\"}).reset_index()"
   ]
  },
  {
   "cell_type": "code",
   "execution_count": null,
   "metadata": {},
   "outputs": [],
   "source": [
    "def add_traces(df, x, y,hue, mode, cmap, showlegend=None):\n",
    "    name_map = {1:\"Yes\", 0:\"No\"}\n",
    "    traces = []\n",
    "    for flag in df[hue].unique():\n",
    "        traces.append(\n",
    "            go.Scatter(\n",
    "                x=df[df[hue]==flag][x],\n",
    "                y=df[df[hue]==flag][y],\n",
    "                mode=mode,\n",
    "                marker=dict(color=cmap[flag]),\n",
    "                showlegend=showlegend,\n",
    "                name=name_map[flag]\n",
    "            )\n",
    "        )\n",
    "    return traces"
   ]
  },
  {
   "cell_type": "code",
   "execution_count": null,
   "metadata": {},
   "outputs": [
    {
     "data": {
      "application/vnd.plotly.v1+json": {
       "config": {
        "plotlyServerURL": "https://plot.ly"
       },
       "data": [
        {
         "marker": {
          "color": "#61E50F"
         },
         "mode": "lines",
         "name": "No",
         "showlegend": true,
         "type": "scatter",
         "x": [
          "2019-01-06T00:00:00",
          "2019-01-13T00:00:00",
          "2019-01-20T00:00:00",
          "2019-01-27T00:00:00",
          "2019-02-03T00:00:00",
          "2019-02-10T00:00:00",
          "2019-02-17T00:00:00",
          "2019-02-24T00:00:00",
          "2019-03-03T00:00:00",
          "2019-03-10T00:00:00",
          "2019-03-17T00:00:00",
          "2019-03-24T00:00:00",
          "2019-03-31T00:00:00",
          "2019-04-07T00:00:00",
          "2019-04-14T00:00:00",
          "2019-04-21T00:00:00",
          "2019-04-28T00:00:00",
          "2019-05-05T00:00:00",
          "2019-05-12T00:00:00",
          "2019-05-19T00:00:00",
          "2019-05-26T00:00:00",
          "2019-06-02T00:00:00",
          "2019-06-09T00:00:00",
          "2019-06-16T00:00:00",
          "2019-06-23T00:00:00",
          "2019-06-30T00:00:00",
          "2019-07-07T00:00:00",
          "2019-07-14T00:00:00",
          "2019-07-21T00:00:00",
          "2019-07-28T00:00:00",
          "2019-08-04T00:00:00",
          "2019-08-11T00:00:00",
          "2019-08-18T00:00:00",
          "2019-08-25T00:00:00",
          "2019-09-01T00:00:00",
          "2019-09-08T00:00:00",
          "2019-09-15T00:00:00",
          "2019-09-22T00:00:00",
          "2019-09-29T00:00:00",
          "2019-10-06T00:00:00",
          "2019-10-13T00:00:00",
          "2019-10-20T00:00:00",
          "2019-10-27T00:00:00",
          "2019-11-03T00:00:00",
          "2019-11-10T00:00:00",
          "2019-11-17T00:00:00",
          "2019-11-24T00:00:00",
          "2019-12-01T00:00:00",
          "2019-12-08T00:00:00",
          "2019-12-15T00:00:00",
          "2019-12-22T00:00:00",
          "2019-12-29T00:00:00",
          "2020-01-05T00:00:00",
          "2020-01-12T00:00:00",
          "2020-01-19T00:00:00",
          "2020-01-26T00:00:00",
          "2020-02-02T00:00:00",
          "2020-02-09T00:00:00",
          "2020-02-16T00:00:00",
          "2020-02-23T00:00:00",
          "2020-03-01T00:00:00",
          "2020-03-08T00:00:00",
          "2020-03-15T00:00:00",
          "2020-03-22T00:00:00",
          "2020-03-29T00:00:00",
          "2020-04-05T00:00:00",
          "2020-04-12T00:00:00",
          "2020-04-19T00:00:00",
          "2020-04-26T00:00:00",
          "2020-05-03T00:00:00",
          "2020-05-10T00:00:00",
          "2020-05-17T00:00:00",
          "2020-05-24T00:00:00",
          "2020-05-31T00:00:00",
          "2020-06-07T00:00:00",
          "2020-06-14T00:00:00",
          "2020-06-21T00:00:00",
          "2020-06-28T00:00:00",
          "2020-07-05T00:00:00",
          "2020-07-12T00:00:00",
          "2020-07-19T00:00:00",
          "2020-07-26T00:00:00",
          "2020-08-02T00:00:00",
          "2020-08-09T00:00:00",
          "2020-08-16T00:00:00",
          "2020-08-23T00:00:00",
          "2020-08-30T00:00:00",
          "2020-09-06T00:00:00",
          "2020-09-13T00:00:00",
          "2020-09-20T00:00:00",
          "2020-09-27T00:00:00",
          "2020-10-04T00:00:00",
          "2020-10-11T00:00:00",
          "2020-10-18T00:00:00",
          "2020-10-25T00:00:00",
          "2020-11-01T00:00:00",
          "2020-11-08T00:00:00",
          "2020-11-15T00:00:00",
          "2020-11-22T00:00:00",
          "2020-11-29T00:00:00",
          "2020-12-06T00:00:00",
          "2020-12-13T00:00:00",
          "2020-12-20T00:00:00",
          "2020-12-27T00:00:00",
          "2021-01-03T00:00:00"
         ],
         "xaxis": "x",
         "y": [
          65.67312053976904,
          67.9582153685311,
          67.87320693277312,
          67.17056945183609,
          67.0432324290353,
          68.51407956562598,
          66.91866068634609,
          65.80666807566311,
          68.2390196376922,
          69.0814932232435,
          68.49709805189556,
          66.66405587211143,
          69.31924468169866,
          66.7508726899384,
          65.3262780876494,
          66.49900681134167,
          69.38254435515951,
          68.3674625199362,
          67.66296861411969,
          67.52735253882675,
          67.5432191195327,
          67.4019353401642,
          65.94863694593901,
          68.78000316636059,
          69.9184890057055,
          68.47031469658863,
          67.06458084592911,
          67.42868486352357,
          69.5051606553213,
          67.72543089119038,
          66.11214042821159,
          66.89283014112904,
          66.19048513104838,
          67.04872656796086,
          67.28456366958603,
          68.05882301656496,
          65.15945521551033,
          67.7786358627204,
          66.91591366906475,
          66.19710959548448,
          65.93439163951362,
          68.6364505119454,
          66.83845249368687,
          67.74355562579014,
          66.1718815633636,
          69.13367520674558,
          64.78709234107531,
          70.69866394874782,
          69.32308765255983,
          68.4875200095568,
          67.10959674199472,
          67.19784240225715,
          68.19199194592262,
          69.80787411421426,
          68.63634090673305,
          66.86468872627002,
          65.3592333437925,
          66.26531699520511,
          65.74315961599325,
          66.70142006891511,
          69.05945314411548,
          69.05460403849187,
          66.9154283264479,
          68.11526505929474,
          67.67345037564255,
          66.79484068916686,
          67.73488963681903,
          67.53402985074626,
          69.83780190930788,
          70.27656129032258,
          67.1122536662703,
          66.14066249511146,
          65.59375028812909,
          67.32231593633078,
          65.52713078572329,
          69.70949397287795,
          68.71791748526523,
          66.7136887354879,
          68.01417390210142,
          68.01164886349522,
          68.7015193160228,
          66.52380612567099,
          69.57609706388128,
          68.55157467430297,
          67.19136363636363,
          67.83157445463168,
          65.37561525576601,
          67.43768067584837,
          68.29058006411235,
          66.7545217186765,
          69.16626421697288,
          67.48098894204377,
          66.06635409210213,
          68.72760736677117,
          68.10920799115604,
          69.2511272383056,
          67.52016992017703,
          66.55657860177675,
          67.61935339666321,
          69.31574468085107,
          67.50612152298284,
          67.27059098773199,
          70.07375997484178,
          69.75245522979398,
          66.32431762444489
         ],
         "yaxis": "y"
        },
        {
         "marker": {
          "color": "#D93C1D"
         },
         "mode": "lines",
         "name": "Yes",
         "showlegend": true,
         "type": "scatter",
         "x": [
          "2019-01-06T00:00:00",
          "2019-01-13T00:00:00",
          "2019-01-20T00:00:00",
          "2019-01-27T00:00:00",
          "2019-02-03T00:00:00",
          "2019-02-10T00:00:00",
          "2019-02-17T00:00:00",
          "2019-02-24T00:00:00",
          "2019-03-03T00:00:00",
          "2019-03-10T00:00:00",
          "2019-03-17T00:00:00",
          "2019-03-24T00:00:00",
          "2019-03-31T00:00:00",
          "2019-04-07T00:00:00",
          "2019-04-14T00:00:00",
          "2019-04-21T00:00:00",
          "2019-04-28T00:00:00",
          "2019-05-05T00:00:00",
          "2019-05-12T00:00:00",
          "2019-05-19T00:00:00",
          "2019-05-26T00:00:00",
          "2019-06-02T00:00:00",
          "2019-06-09T00:00:00",
          "2019-06-16T00:00:00",
          "2019-06-23T00:00:00",
          "2019-06-30T00:00:00",
          "2019-07-07T00:00:00",
          "2019-07-14T00:00:00",
          "2019-07-21T00:00:00",
          "2019-07-28T00:00:00",
          "2019-08-04T00:00:00",
          "2019-08-11T00:00:00",
          "2019-08-18T00:00:00",
          "2019-08-25T00:00:00",
          "2019-09-01T00:00:00",
          "2019-09-08T00:00:00",
          "2019-09-15T00:00:00",
          "2019-09-22T00:00:00",
          "2019-09-29T00:00:00",
          "2019-10-06T00:00:00",
          "2019-10-13T00:00:00",
          "2019-10-20T00:00:00",
          "2019-10-27T00:00:00",
          "2019-11-03T00:00:00",
          "2019-11-10T00:00:00",
          "2019-11-17T00:00:00",
          "2019-11-24T00:00:00",
          "2019-12-01T00:00:00",
          "2019-12-08T00:00:00",
          "2019-12-15T00:00:00",
          "2019-12-22T00:00:00",
          "2019-12-29T00:00:00",
          "2020-01-05T00:00:00",
          "2020-01-12T00:00:00",
          "2020-01-19T00:00:00",
          "2020-01-26T00:00:00",
          "2020-02-02T00:00:00",
          "2020-02-09T00:00:00",
          "2020-02-16T00:00:00",
          "2020-02-23T00:00:00",
          "2020-03-01T00:00:00",
          "2020-03-08T00:00:00",
          "2020-03-15T00:00:00",
          "2020-03-22T00:00:00",
          "2020-03-29T00:00:00",
          "2020-04-05T00:00:00",
          "2020-04-12T00:00:00",
          "2020-04-19T00:00:00",
          "2020-04-26T00:00:00",
          "2020-05-03T00:00:00",
          "2020-05-10T00:00:00",
          "2020-05-17T00:00:00",
          "2020-05-24T00:00:00",
          "2020-05-31T00:00:00",
          "2020-06-07T00:00:00",
          "2020-06-14T00:00:00",
          "2020-06-21T00:00:00",
          "2020-06-28T00:00:00",
          "2020-07-05T00:00:00",
          "2020-07-12T00:00:00",
          "2020-07-19T00:00:00",
          "2020-07-26T00:00:00",
          "2020-08-02T00:00:00",
          "2020-08-09T00:00:00",
          "2020-08-16T00:00:00",
          "2020-08-23T00:00:00",
          "2020-08-30T00:00:00",
          "2020-09-06T00:00:00",
          "2020-09-13T00:00:00",
          "2020-09-20T00:00:00",
          "2020-09-27T00:00:00",
          "2020-10-04T00:00:00",
          "2020-10-11T00:00:00",
          "2020-10-18T00:00:00",
          "2020-10-25T00:00:00",
          "2020-11-01T00:00:00",
          "2020-11-08T00:00:00",
          "2020-11-15T00:00:00",
          "2020-11-22T00:00:00",
          "2020-11-29T00:00:00",
          "2020-12-06T00:00:00",
          "2020-12-13T00:00:00",
          "2020-12-20T00:00:00",
          "2020-12-27T00:00:00",
          "2021-01-03T00:00:00"
         ],
         "xaxis": "x",
         "y": [
          510.89500000000004,
          554.8167708333334,
          495.97605633802823,
          553.3849019607843,
          478.86847457627124,
          582.2119540229885,
          583.608947368421,
          466.0048051948052,
          460.08531746031747,
          441.60521739130434,
          577.0393750000001,
          456.8718867924528,
          521.9505633802817,
          528.0605882352942,
          541.3715151515153,
          643.4020547945205,
          510.12831325301204,
          493.8779069767442,
          355.29,
          604.6205813953488,
          522.1011570247933,
          571.675925925926,
          490.29814814814813,
          480.5802531645569,
          473.65164179104477,
          530.5888607594936,
          630.3927868852459,
          641.7193846153847,
          377.93863636363636,
          518.2603124999999,
          559.1382142857143,
          538.317,
          579.582,
          544.5769811320755,
          472.6670297029703,
          517.6487804878049,
          476.9858620689655,
          504.9620895522388,
          583.9367391304348,
          520.2731168831168,
          561.3303409090909,
          559.0300877192982,
          602.8262,
          532.0145360824741,
          633.5825,
          537.1471698113207,
          502.1583928571428,
          503.9537272727273,
          536.8796226415094,
          529.2735714285715,
          633.1077,
          499.55109375,
          563.4022352941176,
          594.386582278481,
          501.5249275362319,
          516.7880434782609,
          500.99794871794865,
          479.24711538461537,
          604.8582692307692,
          602.27175,
          534.6772727272727,
          495.2739655172414,
          601.0524731182795,
          462.22847826086957,
          636.9375,
          555.548,
          390.03844827586204,
          628.0655555555555,
          497.98153846153843,
          451.0841836734694,
          573.3779130434782,
          572.155945945946,
          491.48,
          579.9998795180722,
          665.382985074627,
          544.7161764705882,
          474.9541605839416,
          590.8483928571429,
          450.2872727272727,
          558.3171052631578,
          522.2212000000001,
          464.6797260273973,
          588.1290909090909,
          412.74119266055044,
          610.9620967741936,
          561.8228070175439,
          534.3649367088608,
          624.7895714285714,
          572.5125454545454,
          696.9492682926829,
          475.5866666666667,
          593.170945945946,
          516.9174698795181,
          465.7631868131868,
          572.3285106382979,
          477.72785714285715,
          488.74135593220336,
          449.4156,
          550.8294117647059,
          582.7186486486487,
          557.7682352941176,
          485.95710843373496,
          566.3256862745098,
          517.943125,
          null
         ],
         "yaxis": "y"
        },
        {
         "marker": {
          "color": "#61E50F"
         },
         "mode": "lines",
         "name": "No",
         "showlegend": false,
         "type": "scatter",
         "x": [
          "2019-01-06T00:00:00",
          "2019-01-13T00:00:00",
          "2019-01-20T00:00:00",
          "2019-01-27T00:00:00",
          "2019-02-03T00:00:00",
          "2019-02-10T00:00:00",
          "2019-02-17T00:00:00",
          "2019-02-24T00:00:00",
          "2019-03-03T00:00:00",
          "2019-03-10T00:00:00",
          "2019-03-17T00:00:00",
          "2019-03-24T00:00:00",
          "2019-03-31T00:00:00",
          "2019-04-07T00:00:00",
          "2019-04-14T00:00:00",
          "2019-04-21T00:00:00",
          "2019-04-28T00:00:00",
          "2019-05-05T00:00:00",
          "2019-05-12T00:00:00",
          "2019-05-19T00:00:00",
          "2019-05-26T00:00:00",
          "2019-06-02T00:00:00",
          "2019-06-09T00:00:00",
          "2019-06-16T00:00:00",
          "2019-06-23T00:00:00",
          "2019-06-30T00:00:00",
          "2019-07-07T00:00:00",
          "2019-07-14T00:00:00",
          "2019-07-21T00:00:00",
          "2019-07-28T00:00:00",
          "2019-08-04T00:00:00",
          "2019-08-11T00:00:00",
          "2019-08-18T00:00:00",
          "2019-08-25T00:00:00",
          "2019-09-01T00:00:00",
          "2019-09-08T00:00:00",
          "2019-09-15T00:00:00",
          "2019-09-22T00:00:00",
          "2019-09-29T00:00:00",
          "2019-10-06T00:00:00",
          "2019-10-13T00:00:00",
          "2019-10-20T00:00:00",
          "2019-10-27T00:00:00",
          "2019-11-03T00:00:00",
          "2019-11-10T00:00:00",
          "2019-11-17T00:00:00",
          "2019-11-24T00:00:00",
          "2019-12-01T00:00:00",
          "2019-12-08T00:00:00",
          "2019-12-15T00:00:00",
          "2019-12-22T00:00:00",
          "2019-12-29T00:00:00",
          "2020-01-05T00:00:00",
          "2020-01-12T00:00:00",
          "2020-01-19T00:00:00",
          "2020-01-26T00:00:00",
          "2020-02-02T00:00:00",
          "2020-02-09T00:00:00",
          "2020-02-16T00:00:00",
          "2020-02-23T00:00:00",
          "2020-03-01T00:00:00",
          "2020-03-08T00:00:00",
          "2020-03-15T00:00:00",
          "2020-03-22T00:00:00",
          "2020-03-29T00:00:00",
          "2020-04-05T00:00:00",
          "2020-04-12T00:00:00",
          "2020-04-19T00:00:00",
          "2020-04-26T00:00:00",
          "2020-05-03T00:00:00",
          "2020-05-10T00:00:00",
          "2020-05-17T00:00:00",
          "2020-05-24T00:00:00",
          "2020-05-31T00:00:00",
          "2020-06-07T00:00:00",
          "2020-06-14T00:00:00",
          "2020-06-21T00:00:00",
          "2020-06-28T00:00:00",
          "2020-07-05T00:00:00",
          "2020-07-12T00:00:00",
          "2020-07-19T00:00:00",
          "2020-07-26T00:00:00",
          "2020-08-02T00:00:00",
          "2020-08-09T00:00:00",
          "2020-08-16T00:00:00",
          "2020-08-23T00:00:00",
          "2020-08-30T00:00:00",
          "2020-09-06T00:00:00",
          "2020-09-13T00:00:00",
          "2020-09-20T00:00:00",
          "2020-09-27T00:00:00",
          "2020-10-04T00:00:00",
          "2020-10-11T00:00:00",
          "2020-10-18T00:00:00",
          "2020-10-25T00:00:00",
          "2020-11-01T00:00:00",
          "2020-11-08T00:00:00",
          "2020-11-15T00:00:00",
          "2020-11-22T00:00:00",
          "2020-11-29T00:00:00",
          "2020-12-06T00:00:00",
          "2020-12-13T00:00:00",
          "2020-12-20T00:00:00",
          "2020-12-27T00:00:00",
          "2021-01-03T00:00:00"
         ],
         "xaxis": "x2",
         "y": [
          7707,
          9565,
          9520,
          9395,
          9547,
          9577,
          9587,
          9463,
          13138,
          12838,
          12371,
          12636,
          12551,
          12662,
          12550,
          12626,
          12569,
          12540,
          12649,
          12427,
          14038,
          15713,
          15612,
          15791,
          15599,
          15507,
          15746,
          15717,
          15748,
          15642,
          15880,
          15872,
          15872,
          15737,
          15871,
          12617,
          12482,
          12704,
          12510,
          12756,
          12583,
          12599,
          12672,
          12656,
          12665,
          12334,
          12443,
          17170,
          25236,
          25113,
          25046,
          24810,
          13906,
          9596,
          9639,
          9429,
          9561,
          9385,
          9479,
          9577,
          8174,
          12678,
          12829,
          12733,
          12645,
          12711,
          12776,
          12596,
          12570,
          12400,
          12615,
          12785,
          13015,
          15769,
          15858,
          15928,
          15779,
          15935,
          15894,
          16102,
          15790,
          15835,
          15701,
          15889,
          15598,
          15815,
          15522,
          14086,
          13102,
          12754,
          12573,
          12751,
          12573,
          12760,
          12664,
          12677,
          12653,
          12945,
          12527,
          12408,
          25345,
          25432,
          25439,
          25240,
          15087
         ],
         "yaxis": "y2"
        },
        {
         "marker": {
          "color": "#D93C1D"
         },
         "mode": "lines",
         "name": "Yes",
         "showlegend": false,
         "type": "scatter",
         "x": [
          "2019-01-06T00:00:00",
          "2019-01-13T00:00:00",
          "2019-01-20T00:00:00",
          "2019-01-27T00:00:00",
          "2019-02-03T00:00:00",
          "2019-02-10T00:00:00",
          "2019-02-17T00:00:00",
          "2019-02-24T00:00:00",
          "2019-03-03T00:00:00",
          "2019-03-10T00:00:00",
          "2019-03-17T00:00:00",
          "2019-03-24T00:00:00",
          "2019-03-31T00:00:00",
          "2019-04-07T00:00:00",
          "2019-04-14T00:00:00",
          "2019-04-21T00:00:00",
          "2019-04-28T00:00:00",
          "2019-05-05T00:00:00",
          "2019-05-12T00:00:00",
          "2019-05-19T00:00:00",
          "2019-05-26T00:00:00",
          "2019-06-02T00:00:00",
          "2019-06-09T00:00:00",
          "2019-06-16T00:00:00",
          "2019-06-23T00:00:00",
          "2019-06-30T00:00:00",
          "2019-07-07T00:00:00",
          "2019-07-14T00:00:00",
          "2019-07-21T00:00:00",
          "2019-07-28T00:00:00",
          "2019-08-04T00:00:00",
          "2019-08-11T00:00:00",
          "2019-08-18T00:00:00",
          "2019-08-25T00:00:00",
          "2019-09-01T00:00:00",
          "2019-09-08T00:00:00",
          "2019-09-15T00:00:00",
          "2019-09-22T00:00:00",
          "2019-09-29T00:00:00",
          "2019-10-06T00:00:00",
          "2019-10-13T00:00:00",
          "2019-10-20T00:00:00",
          "2019-10-27T00:00:00",
          "2019-11-03T00:00:00",
          "2019-11-10T00:00:00",
          "2019-11-17T00:00:00",
          "2019-11-24T00:00:00",
          "2019-12-01T00:00:00",
          "2019-12-08T00:00:00",
          "2019-12-15T00:00:00",
          "2019-12-22T00:00:00",
          "2019-12-29T00:00:00",
          "2020-01-05T00:00:00",
          "2020-01-12T00:00:00",
          "2020-01-19T00:00:00",
          "2020-01-26T00:00:00",
          "2020-02-02T00:00:00",
          "2020-02-09T00:00:00",
          "2020-02-16T00:00:00",
          "2020-02-23T00:00:00",
          "2020-03-01T00:00:00",
          "2020-03-08T00:00:00",
          "2020-03-15T00:00:00",
          "2020-03-22T00:00:00",
          "2020-03-29T00:00:00",
          "2020-04-05T00:00:00",
          "2020-04-12T00:00:00",
          "2020-04-19T00:00:00",
          "2020-04-26T00:00:00",
          "2020-05-03T00:00:00",
          "2020-05-10T00:00:00",
          "2020-05-17T00:00:00",
          "2020-05-24T00:00:00",
          "2020-05-31T00:00:00",
          "2020-06-07T00:00:00",
          "2020-06-14T00:00:00",
          "2020-06-21T00:00:00",
          "2020-06-28T00:00:00",
          "2020-07-05T00:00:00",
          "2020-07-12T00:00:00",
          "2020-07-19T00:00:00",
          "2020-07-26T00:00:00",
          "2020-08-02T00:00:00",
          "2020-08-09T00:00:00",
          "2020-08-16T00:00:00",
          "2020-08-23T00:00:00",
          "2020-08-30T00:00:00",
          "2020-09-06T00:00:00",
          "2020-09-13T00:00:00",
          "2020-09-20T00:00:00",
          "2020-09-27T00:00:00",
          "2020-10-04T00:00:00",
          "2020-10-11T00:00:00",
          "2020-10-18T00:00:00",
          "2020-10-25T00:00:00",
          "2020-11-01T00:00:00",
          "2020-11-08T00:00:00",
          "2020-11-15T00:00:00",
          "2020-11-22T00:00:00",
          "2020-11-29T00:00:00",
          "2020-12-06T00:00:00",
          "2020-12-13T00:00:00",
          "2020-12-20T00:00:00",
          "2020-12-27T00:00:00",
          "2021-01-03T00:00:00"
         ],
         "xaxis": "x2",
         "y": [
          36,
          96,
          142,
          51,
          118,
          87,
          95,
          77,
          126,
          92,
          112,
          106,
          71,
          51,
          66,
          73,
          83,
          86,
          50,
          86,
          121,
          27,
          54,
          79,
          67,
          79,
          61,
          65,
          22,
          96,
          56,
          50,
          75,
          53,
          101,
          41,
          116,
          67,
          92,
          77,
          88,
          114,
          50,
          97,
          36,
          53,
          56,
          110,
          106,
          84,
          100,
          128,
          85,
          79,
          69,
          46,
          78,
          52,
          52,
          80,
          66,
          58,
          93,
          138,
          28,
          55,
          58,
          54,
          65,
          98,
          115,
          74,
          84,
          83,
          67,
          68,
          137,
          56,
          88,
          76,
          50,
          73,
          44,
          109,
          62,
          57,
          79,
          70,
          55,
          41,
          87,
          74,
          83,
          91,
          47,
          42,
          59,
          50,
          51,
          74,
          51,
          83,
          51,
          16,
          0
         ],
         "yaxis": "y2"
        },
        {
         "marker": {
          "color": "#61E50F"
         },
         "mode": "markers",
         "name": "No",
         "showlegend": true,
         "type": "scatter",
         "x": [
          7707,
          9565,
          9520,
          9395,
          9547,
          9577,
          9587,
          9463,
          13138,
          12838,
          12371,
          12636,
          12551,
          12662,
          12550,
          12626,
          12569,
          12540,
          12649,
          12427,
          14038,
          15713,
          15612,
          15791,
          15599,
          15507,
          15746,
          15717,
          15748,
          15642,
          15880,
          15872,
          15872,
          15737,
          15871,
          12617,
          12482,
          12704,
          12510,
          12756,
          12583,
          12599,
          12672,
          12656,
          12665,
          12334,
          12443,
          17170,
          25236,
          25113,
          25046,
          24810,
          13906,
          9596,
          9639,
          9429,
          9561,
          9385,
          9479,
          9577,
          8174,
          12678,
          12829,
          12733,
          12645,
          12711,
          12776,
          12596,
          12570,
          12400,
          12615,
          12785,
          13015,
          15769,
          15858,
          15928,
          15779,
          15935,
          15894,
          16102,
          15790,
          15835,
          15701,
          15889,
          15598,
          15815,
          15522,
          14086,
          13102,
          12754,
          12573,
          12751,
          12573,
          12760,
          12664,
          12677,
          12653,
          12945,
          12527,
          12408,
          25345,
          25432,
          25439,
          25240,
          15087
         ],
         "xaxis": "x3",
         "y": [
          65.67312053976904,
          67.9582153685311,
          67.87320693277312,
          67.17056945183609,
          67.0432324290353,
          68.51407956562598,
          66.91866068634609,
          65.80666807566311,
          68.2390196376922,
          69.0814932232435,
          68.49709805189556,
          66.66405587211143,
          69.31924468169866,
          66.7508726899384,
          65.3262780876494,
          66.49900681134167,
          69.38254435515951,
          68.3674625199362,
          67.66296861411969,
          67.52735253882675,
          67.5432191195327,
          67.4019353401642,
          65.94863694593901,
          68.78000316636059,
          69.9184890057055,
          68.47031469658863,
          67.06458084592911,
          67.42868486352357,
          69.5051606553213,
          67.72543089119038,
          66.11214042821159,
          66.89283014112904,
          66.19048513104838,
          67.04872656796086,
          67.28456366958603,
          68.05882301656496,
          65.15945521551033,
          67.7786358627204,
          66.91591366906475,
          66.19710959548448,
          65.93439163951362,
          68.6364505119454,
          66.83845249368687,
          67.74355562579014,
          66.1718815633636,
          69.13367520674558,
          64.78709234107531,
          70.69866394874782,
          69.32308765255983,
          68.4875200095568,
          67.10959674199472,
          67.19784240225715,
          68.19199194592262,
          69.80787411421426,
          68.63634090673305,
          66.86468872627002,
          65.3592333437925,
          66.26531699520511,
          65.74315961599325,
          66.70142006891511,
          69.05945314411548,
          69.05460403849187,
          66.9154283264479,
          68.11526505929474,
          67.67345037564255,
          66.79484068916686,
          67.73488963681903,
          67.53402985074626,
          69.83780190930788,
          70.27656129032258,
          67.1122536662703,
          66.14066249511146,
          65.59375028812909,
          67.32231593633078,
          65.52713078572329,
          69.70949397287795,
          68.71791748526523,
          66.7136887354879,
          68.01417390210142,
          68.01164886349522,
          68.7015193160228,
          66.52380612567099,
          69.57609706388128,
          68.55157467430297,
          67.19136363636363,
          67.83157445463168,
          65.37561525576601,
          67.43768067584837,
          68.29058006411235,
          66.7545217186765,
          69.16626421697288,
          67.48098894204377,
          66.06635409210213,
          68.72760736677117,
          68.10920799115604,
          69.2511272383056,
          67.52016992017703,
          66.55657860177675,
          67.61935339666321,
          69.31574468085107,
          67.50612152298284,
          67.27059098773199,
          70.07375997484178,
          69.75245522979398,
          66.32431762444489
         ],
         "yaxis": "y3"
        },
        {
         "marker": {
          "color": "#D93C1D"
         },
         "mode": "markers",
         "name": "Yes",
         "showlegend": true,
         "type": "scatter",
         "x": [
          36,
          96,
          142,
          51,
          118,
          87,
          95,
          77,
          126,
          92,
          112,
          106,
          71,
          51,
          66,
          73,
          83,
          86,
          50,
          86,
          121,
          27,
          54,
          79,
          67,
          79,
          61,
          65,
          22,
          96,
          56,
          50,
          75,
          53,
          101,
          41,
          116,
          67,
          92,
          77,
          88,
          114,
          50,
          97,
          36,
          53,
          56,
          110,
          106,
          84,
          100,
          128,
          85,
          79,
          69,
          46,
          78,
          52,
          52,
          80,
          66,
          58,
          93,
          138,
          28,
          55,
          58,
          54,
          65,
          98,
          115,
          74,
          84,
          83,
          67,
          68,
          137,
          56,
          88,
          76,
          50,
          73,
          44,
          109,
          62,
          57,
          79,
          70,
          55,
          41,
          87,
          74,
          83,
          91,
          47,
          42,
          59,
          50,
          51,
          74,
          51,
          83,
          51,
          16,
          0
         ],
         "xaxis": "x3",
         "y": [
          510.89500000000004,
          554.8167708333334,
          495.97605633802823,
          553.3849019607843,
          478.86847457627124,
          582.2119540229885,
          583.608947368421,
          466.0048051948052,
          460.08531746031747,
          441.60521739130434,
          577.0393750000001,
          456.8718867924528,
          521.9505633802817,
          528.0605882352942,
          541.3715151515153,
          643.4020547945205,
          510.12831325301204,
          493.8779069767442,
          355.29,
          604.6205813953488,
          522.1011570247933,
          571.675925925926,
          490.29814814814813,
          480.5802531645569,
          473.65164179104477,
          530.5888607594936,
          630.3927868852459,
          641.7193846153847,
          377.93863636363636,
          518.2603124999999,
          559.1382142857143,
          538.317,
          579.582,
          544.5769811320755,
          472.6670297029703,
          517.6487804878049,
          476.9858620689655,
          504.9620895522388,
          583.9367391304348,
          520.2731168831168,
          561.3303409090909,
          559.0300877192982,
          602.8262,
          532.0145360824741,
          633.5825,
          537.1471698113207,
          502.1583928571428,
          503.9537272727273,
          536.8796226415094,
          529.2735714285715,
          633.1077,
          499.55109375,
          563.4022352941176,
          594.386582278481,
          501.5249275362319,
          516.7880434782609,
          500.99794871794865,
          479.24711538461537,
          604.8582692307692,
          602.27175,
          534.6772727272727,
          495.2739655172414,
          601.0524731182795,
          462.22847826086957,
          636.9375,
          555.548,
          390.03844827586204,
          628.0655555555555,
          497.98153846153843,
          451.0841836734694,
          573.3779130434782,
          572.155945945946,
          491.48,
          579.9998795180722,
          665.382985074627,
          544.7161764705882,
          474.9541605839416,
          590.8483928571429,
          450.2872727272727,
          558.3171052631578,
          522.2212000000001,
          464.6797260273973,
          588.1290909090909,
          412.74119266055044,
          610.9620967741936,
          561.8228070175439,
          534.3649367088608,
          624.7895714285714,
          572.5125454545454,
          696.9492682926829,
          475.5866666666667,
          593.170945945946,
          516.9174698795181,
          465.7631868131868,
          572.3285106382979,
          477.72785714285715,
          488.74135593220336,
          449.4156,
          550.8294117647059,
          582.7186486486487,
          557.7682352941176,
          485.95710843373496,
          566.3256862745098,
          517.943125,
          null
         ],
         "yaxis": "y3"
        }
       ],
       "layout": {
        "annotations": [
         {
          "font": {
           "size": 16
          },
          "showarrow": false,
          "text": "Amount(usd) over time",
          "x": 0.225,
          "xanchor": "center",
          "xref": "paper",
          "y": 1,
          "yanchor": "bottom",
          "yref": "paper"
         },
         {
          "font": {
           "size": 16
          },
          "showarrow": false,
          "text": "Number of transactions overtime",
          "x": 0.775,
          "xanchor": "center",
          "xref": "paper",
          "y": 1,
          "yanchor": "bottom",
          "yref": "paper"
         },
         {
          "font": {
           "size": 16
          },
          "showarrow": false,
          "text": "Number of transaction by amount(usd)",
          "x": 0.5,
          "xanchor": "center",
          "xref": "paper",
          "y": 0.375,
          "yanchor": "bottom",
          "yref": "paper"
         }
        ],
        "height": 780,
        "legend": {
         "title": {
          "text": "Is fraud?"
         }
        },
        "plot_bgcolor": "#fafafa",
        "template": {
         "data": {
          "bar": [
           {
            "error_x": {
             "color": "#2a3f5f"
            },
            "error_y": {
             "color": "#2a3f5f"
            },
            "marker": {
             "line": {
              "color": "#E5ECF6",
              "width": 0.5
             },
             "pattern": {
              "fillmode": "overlay",
              "size": 10,
              "solidity": 0.2
             }
            },
            "type": "bar"
           }
          ],
          "barpolar": [
           {
            "marker": {
             "line": {
              "color": "#E5ECF6",
              "width": 0.5
             },
             "pattern": {
              "fillmode": "overlay",
              "size": 10,
              "solidity": 0.2
             }
            },
            "type": "barpolar"
           }
          ],
          "carpet": [
           {
            "aaxis": {
             "endlinecolor": "#2a3f5f",
             "gridcolor": "white",
             "linecolor": "white",
             "minorgridcolor": "white",
             "startlinecolor": "#2a3f5f"
            },
            "baxis": {
             "endlinecolor": "#2a3f5f",
             "gridcolor": "white",
             "linecolor": "white",
             "minorgridcolor": "white",
             "startlinecolor": "#2a3f5f"
            },
            "type": "carpet"
           }
          ],
          "choropleth": [
           {
            "colorbar": {
             "outlinewidth": 0,
             "ticks": ""
            },
            "type": "choropleth"
           }
          ],
          "contour": [
           {
            "colorbar": {
             "outlinewidth": 0,
             "ticks": ""
            },
            "colorscale": [
             [
              0,
              "#0d0887"
             ],
             [
              0.1111111111111111,
              "#46039f"
             ],
             [
              0.2222222222222222,
              "#7201a8"
             ],
             [
              0.3333333333333333,
              "#9c179e"
             ],
             [
              0.4444444444444444,
              "#bd3786"
             ],
             [
              0.5555555555555556,
              "#d8576b"
             ],
             [
              0.6666666666666666,
              "#ed7953"
             ],
             [
              0.7777777777777778,
              "#fb9f3a"
             ],
             [
              0.8888888888888888,
              "#fdca26"
             ],
             [
              1,
              "#f0f921"
             ]
            ],
            "type": "contour"
           }
          ],
          "contourcarpet": [
           {
            "colorbar": {
             "outlinewidth": 0,
             "ticks": ""
            },
            "type": "contourcarpet"
           }
          ],
          "heatmap": [
           {
            "colorbar": {
             "outlinewidth": 0,
             "ticks": ""
            },
            "colorscale": [
             [
              0,
              "#0d0887"
             ],
             [
              0.1111111111111111,
              "#46039f"
             ],
             [
              0.2222222222222222,
              "#7201a8"
             ],
             [
              0.3333333333333333,
              "#9c179e"
             ],
             [
              0.4444444444444444,
              "#bd3786"
             ],
             [
              0.5555555555555556,
              "#d8576b"
             ],
             [
              0.6666666666666666,
              "#ed7953"
             ],
             [
              0.7777777777777778,
              "#fb9f3a"
             ],
             [
              0.8888888888888888,
              "#fdca26"
             ],
             [
              1,
              "#f0f921"
             ]
            ],
            "type": "heatmap"
           }
          ],
          "heatmapgl": [
           {
            "colorbar": {
             "outlinewidth": 0,
             "ticks": ""
            },
            "colorscale": [
             [
              0,
              "#0d0887"
             ],
             [
              0.1111111111111111,
              "#46039f"
             ],
             [
              0.2222222222222222,
              "#7201a8"
             ],
             [
              0.3333333333333333,
              "#9c179e"
             ],
             [
              0.4444444444444444,
              "#bd3786"
             ],
             [
              0.5555555555555556,
              "#d8576b"
             ],
             [
              0.6666666666666666,
              "#ed7953"
             ],
             [
              0.7777777777777778,
              "#fb9f3a"
             ],
             [
              0.8888888888888888,
              "#fdca26"
             ],
             [
              1,
              "#f0f921"
             ]
            ],
            "type": "heatmapgl"
           }
          ],
          "histogram": [
           {
            "marker": {
             "pattern": {
              "fillmode": "overlay",
              "size": 10,
              "solidity": 0.2
             }
            },
            "type": "histogram"
           }
          ],
          "histogram2d": [
           {
            "colorbar": {
             "outlinewidth": 0,
             "ticks": ""
            },
            "colorscale": [
             [
              0,
              "#0d0887"
             ],
             [
              0.1111111111111111,
              "#46039f"
             ],
             [
              0.2222222222222222,
              "#7201a8"
             ],
             [
              0.3333333333333333,
              "#9c179e"
             ],
             [
              0.4444444444444444,
              "#bd3786"
             ],
             [
              0.5555555555555556,
              "#d8576b"
             ],
             [
              0.6666666666666666,
              "#ed7953"
             ],
             [
              0.7777777777777778,
              "#fb9f3a"
             ],
             [
              0.8888888888888888,
              "#fdca26"
             ],
             [
              1,
              "#f0f921"
             ]
            ],
            "type": "histogram2d"
           }
          ],
          "histogram2dcontour": [
           {
            "colorbar": {
             "outlinewidth": 0,
             "ticks": ""
            },
            "colorscale": [
             [
              0,
              "#0d0887"
             ],
             [
              0.1111111111111111,
              "#46039f"
             ],
             [
              0.2222222222222222,
              "#7201a8"
             ],
             [
              0.3333333333333333,
              "#9c179e"
             ],
             [
              0.4444444444444444,
              "#bd3786"
             ],
             [
              0.5555555555555556,
              "#d8576b"
             ],
             [
              0.6666666666666666,
              "#ed7953"
             ],
             [
              0.7777777777777778,
              "#fb9f3a"
             ],
             [
              0.8888888888888888,
              "#fdca26"
             ],
             [
              1,
              "#f0f921"
             ]
            ],
            "type": "histogram2dcontour"
           }
          ],
          "mesh3d": [
           {
            "colorbar": {
             "outlinewidth": 0,
             "ticks": ""
            },
            "type": "mesh3d"
           }
          ],
          "parcoords": [
           {
            "line": {
             "colorbar": {
              "outlinewidth": 0,
              "ticks": ""
             }
            },
            "type": "parcoords"
           }
          ],
          "pie": [
           {
            "automargin": true,
            "type": "pie"
           }
          ],
          "scatter": [
           {
            "fillpattern": {
             "fillmode": "overlay",
             "size": 10,
             "solidity": 0.2
            },
            "type": "scatter"
           }
          ],
          "scatter3d": [
           {
            "line": {
             "colorbar": {
              "outlinewidth": 0,
              "ticks": ""
             }
            },
            "marker": {
             "colorbar": {
              "outlinewidth": 0,
              "ticks": ""
             }
            },
            "type": "scatter3d"
           }
          ],
          "scattercarpet": [
           {
            "marker": {
             "colorbar": {
              "outlinewidth": 0,
              "ticks": ""
             }
            },
            "type": "scattercarpet"
           }
          ],
          "scattergeo": [
           {
            "marker": {
             "colorbar": {
              "outlinewidth": 0,
              "ticks": ""
             }
            },
            "type": "scattergeo"
           }
          ],
          "scattergl": [
           {
            "marker": {
             "colorbar": {
              "outlinewidth": 0,
              "ticks": ""
             }
            },
            "type": "scattergl"
           }
          ],
          "scattermapbox": [
           {
            "marker": {
             "colorbar": {
              "outlinewidth": 0,
              "ticks": ""
             }
            },
            "type": "scattermapbox"
           }
          ],
          "scatterpolar": [
           {
            "marker": {
             "colorbar": {
              "outlinewidth": 0,
              "ticks": ""
             }
            },
            "type": "scatterpolar"
           }
          ],
          "scatterpolargl": [
           {
            "marker": {
             "colorbar": {
              "outlinewidth": 0,
              "ticks": ""
             }
            },
            "type": "scatterpolargl"
           }
          ],
          "scatterternary": [
           {
            "marker": {
             "colorbar": {
              "outlinewidth": 0,
              "ticks": ""
             }
            },
            "type": "scatterternary"
           }
          ],
          "surface": [
           {
            "colorbar": {
             "outlinewidth": 0,
             "ticks": ""
            },
            "colorscale": [
             [
              0,
              "#0d0887"
             ],
             [
              0.1111111111111111,
              "#46039f"
             ],
             [
              0.2222222222222222,
              "#7201a8"
             ],
             [
              0.3333333333333333,
              "#9c179e"
             ],
             [
              0.4444444444444444,
              "#bd3786"
             ],
             [
              0.5555555555555556,
              "#d8576b"
             ],
             [
              0.6666666666666666,
              "#ed7953"
             ],
             [
              0.7777777777777778,
              "#fb9f3a"
             ],
             [
              0.8888888888888888,
              "#fdca26"
             ],
             [
              1,
              "#f0f921"
             ]
            ],
            "type": "surface"
           }
          ],
          "table": [
           {
            "cells": {
             "fill": {
              "color": "#EBF0F8"
             },
             "line": {
              "color": "white"
             }
            },
            "header": {
             "fill": {
              "color": "#C8D4E3"
             },
             "line": {
              "color": "white"
             }
            },
            "type": "table"
           }
          ]
         },
         "layout": {
          "annotationdefaults": {
           "arrowcolor": "#2a3f5f",
           "arrowhead": 0,
           "arrowwidth": 1
          },
          "autotypenumbers": "strict",
          "coloraxis": {
           "colorbar": {
            "outlinewidth": 0,
            "ticks": ""
           }
          },
          "colorscale": {
           "diverging": [
            [
             0,
             "#8e0152"
            ],
            [
             0.1,
             "#c51b7d"
            ],
            [
             0.2,
             "#de77ae"
            ],
            [
             0.3,
             "#f1b6da"
            ],
            [
             0.4,
             "#fde0ef"
            ],
            [
             0.5,
             "#f7f7f7"
            ],
            [
             0.6,
             "#e6f5d0"
            ],
            [
             0.7,
             "#b8e186"
            ],
            [
             0.8,
             "#7fbc41"
            ],
            [
             0.9,
             "#4d9221"
            ],
            [
             1,
             "#276419"
            ]
           ],
           "sequential": [
            [
             0,
             "#0d0887"
            ],
            [
             0.1111111111111111,
             "#46039f"
            ],
            [
             0.2222222222222222,
             "#7201a8"
            ],
            [
             0.3333333333333333,
             "#9c179e"
            ],
            [
             0.4444444444444444,
             "#bd3786"
            ],
            [
             0.5555555555555556,
             "#d8576b"
            ],
            [
             0.6666666666666666,
             "#ed7953"
            ],
            [
             0.7777777777777778,
             "#fb9f3a"
            ],
            [
             0.8888888888888888,
             "#fdca26"
            ],
            [
             1,
             "#f0f921"
            ]
           ],
           "sequentialminus": [
            [
             0,
             "#0d0887"
            ],
            [
             0.1111111111111111,
             "#46039f"
            ],
            [
             0.2222222222222222,
             "#7201a8"
            ],
            [
             0.3333333333333333,
             "#9c179e"
            ],
            [
             0.4444444444444444,
             "#bd3786"
            ],
            [
             0.5555555555555556,
             "#d8576b"
            ],
            [
             0.6666666666666666,
             "#ed7953"
            ],
            [
             0.7777777777777778,
             "#fb9f3a"
            ],
            [
             0.8888888888888888,
             "#fdca26"
            ],
            [
             1,
             "#f0f921"
            ]
           ]
          },
          "colorway": [
           "#636efa",
           "#EF553B",
           "#00cc96",
           "#ab63fa",
           "#FFA15A",
           "#19d3f3",
           "#FF6692",
           "#B6E880",
           "#FF97FF",
           "#FECB52"
          ],
          "font": {
           "color": "#2a3f5f"
          },
          "geo": {
           "bgcolor": "white",
           "lakecolor": "white",
           "landcolor": "#E5ECF6",
           "showlakes": true,
           "showland": true,
           "subunitcolor": "white"
          },
          "hoverlabel": {
           "align": "left"
          },
          "hovermode": "closest",
          "mapbox": {
           "style": "light"
          },
          "paper_bgcolor": "white",
          "plot_bgcolor": "#E5ECF6",
          "polar": {
           "angularaxis": {
            "gridcolor": "white",
            "linecolor": "white",
            "ticks": ""
           },
           "bgcolor": "#E5ECF6",
           "radialaxis": {
            "gridcolor": "white",
            "linecolor": "white",
            "ticks": ""
           }
          },
          "scene": {
           "xaxis": {
            "backgroundcolor": "#E5ECF6",
            "gridcolor": "white",
            "gridwidth": 2,
            "linecolor": "white",
            "showbackground": true,
            "ticks": "",
            "zerolinecolor": "white"
           },
           "yaxis": {
            "backgroundcolor": "#E5ECF6",
            "gridcolor": "white",
            "gridwidth": 2,
            "linecolor": "white",
            "showbackground": true,
            "ticks": "",
            "zerolinecolor": "white"
           },
           "zaxis": {
            "backgroundcolor": "#E5ECF6",
            "gridcolor": "white",
            "gridwidth": 2,
            "linecolor": "white",
            "showbackground": true,
            "ticks": "",
            "zerolinecolor": "white"
           }
          },
          "shapedefaults": {
           "line": {
            "color": "#2a3f5f"
           }
          },
          "ternary": {
           "aaxis": {
            "gridcolor": "white",
            "linecolor": "white",
            "ticks": ""
           },
           "baxis": {
            "gridcolor": "white",
            "linecolor": "white",
            "ticks": ""
           },
           "bgcolor": "#E5ECF6",
           "caxis": {
            "gridcolor": "white",
            "linecolor": "white",
            "ticks": ""
           }
          },
          "title": {
           "x": 0.05
          },
          "xaxis": {
           "automargin": true,
           "gridcolor": "white",
           "linecolor": "white",
           "ticks": "",
           "title": {
            "standoff": 15
           },
           "zerolinecolor": "white",
           "zerolinewidth": 2
          },
          "yaxis": {
           "automargin": true,
           "gridcolor": "white",
           "linecolor": "white",
           "ticks": "",
           "title": {
            "standoff": 15
           },
           "zerolinecolor": "white",
           "zerolinewidth": 2
          }
         }
        },
        "title": {
         "text": "Overview"
        },
        "width": 960,
        "xaxis": {
         "anchor": "y",
         "domain": [
          0,
          0.45
         ]
        },
        "xaxis2": {
         "anchor": "y2",
         "domain": [
          0.55,
          1
         ]
        },
        "xaxis3": {
         "anchor": "y3",
         "domain": [
          0,
          1
         ]
        },
        "yaxis": {
         "anchor": "x",
         "domain": [
          0.625,
          1
         ]
        },
        "yaxis2": {
         "anchor": "x2",
         "domain": [
          0.625,
          1
         ]
        },
        "yaxis3": {
         "anchor": "x3",
         "domain": [
          0,
          0.375
         ]
        }
       }
      }
     },
     "metadata": {},
     "output_type": "display_data"
    }
   ],
   "source": [
    "fig = make_subplots(rows=2, cols=2,\n",
    "                    specs=[\n",
    "                        [{}, {}],\n",
    "                        [{\"colspan\":2}, None]\n",
    "                    ],\n",
    "                    subplot_titles=(\"Amount(usd) over time\", \"Number of transactions overtime\",\n",
    "                                    \"Number of transaction by amount(usd)\")\n",
    "                   )\n",
    "\n",
    "ntraces = add_traces(df=df_,x='transaction_time',y='amount(usd)',hue='is_fraud',mode='lines',\n",
    "                    showlegend=True, cmap=['#61E50F','#D93C1D'])\n",
    "\n",
    "for trace in ntraces:\n",
    "    fig.add_trace(\n",
    "        trace,\n",
    "        row=1,col=1\n",
    "    )\n",
    "    \n",
    "ntraces = add_traces(df=df_,x='transaction_time',y='transaction_id',hue='is_fraud',mode='lines',\n",
    "                    showlegend=False, cmap=['#61E50F','#D93C1D'])\n",
    "for trace in ntraces:\n",
    "    fig.add_trace(\n",
    "        trace,\n",
    "        row=1,col=2\n",
    "    )\n",
    "\n",
    "ntraces = add_traces(df=df_,x='transaction_id',y='amount(usd)',hue='is_fraud',mode='markers',\n",
    "                    showlegend=True, cmap=['#61E50F','#D93C1D'])\n",
    "for trace in ntraces:\n",
    "    fig.add_trace(\n",
    "        trace,\n",
    "        row=2,col=1\n",
    "    )\n",
    "\n",
    "fig.update_layout(height=780,\n",
    "                  width=960,\n",
    "                  legend=dict(title='Is fraud?'),\n",
    "                  plot_bgcolor='#fafafa',\n",
    "                  title='Overview'\n",
    "                 )\n",
    "\n",
    "fig.show()"
   ]
  },
  {
   "cell_type": "code",
   "execution_count": null,
   "metadata": {},
   "outputs": [
    {
     "data": {
      "application/vnd.plotly.v1+json": {
       "config": {
        "plotlyServerURL": "https://plot.ly"
       },
       "data": [
        {
         "hovertemplate": "is_fraud=0<br>category=entertainment<br>transaction_time=%{x}<br>amount(usd)=%{y}<extra></extra>",
         "legendgroup": "0",
         "marker": {
          "color": "#61E50F",
          "symbol": "circle"
         },
         "mode": "markers",
         "name": "0",
         "showlegend": true,
         "type": "scattergl",
         "x": [
          "2019-01-06T00:00:00",
          "2019-01-13T00:00:00",
          "2019-01-20T00:00:00",
          "2019-01-27T00:00:00",
          "2019-02-03T00:00:00",
          "2019-02-10T00:00:00",
          "2019-02-17T00:00:00",
          "2019-02-24T00:00:00",
          "2019-03-03T00:00:00",
          "2019-03-10T00:00:00",
          "2019-03-17T00:00:00",
          "2019-03-24T00:00:00",
          "2019-03-31T00:00:00",
          "2019-04-07T00:00:00",
          "2019-04-14T00:00:00",
          "2019-04-21T00:00:00",
          "2019-04-28T00:00:00",
          "2019-05-05T00:00:00",
          "2019-05-12T00:00:00",
          "2019-05-19T00:00:00",
          "2019-05-26T00:00:00",
          "2019-06-02T00:00:00",
          "2019-06-09T00:00:00",
          "2019-06-16T00:00:00",
          "2019-06-23T00:00:00",
          "2019-06-30T00:00:00",
          "2019-07-07T00:00:00",
          "2019-07-14T00:00:00",
          "2019-07-21T00:00:00",
          "2019-07-28T00:00:00",
          "2019-08-04T00:00:00",
          "2019-08-11T00:00:00",
          "2019-08-18T00:00:00",
          "2019-08-25T00:00:00",
          "2019-09-01T00:00:00",
          "2019-09-08T00:00:00",
          "2019-09-15T00:00:00",
          "2019-09-22T00:00:00",
          "2019-09-29T00:00:00",
          "2019-10-06T00:00:00",
          "2019-10-13T00:00:00",
          "2019-10-20T00:00:00",
          "2019-10-27T00:00:00",
          "2019-11-03T00:00:00",
          "2019-11-10T00:00:00",
          "2019-11-17T00:00:00",
          "2019-11-24T00:00:00",
          "2019-12-01T00:00:00",
          "2019-12-08T00:00:00",
          "2019-12-15T00:00:00",
          "2019-12-22T00:00:00",
          "2019-12-29T00:00:00",
          "2020-01-05T00:00:00",
          "2020-01-12T00:00:00",
          "2020-01-19T00:00:00",
          "2020-01-26T00:00:00",
          "2020-02-02T00:00:00",
          "2020-02-09T00:00:00",
          "2020-02-16T00:00:00",
          "2020-02-23T00:00:00",
          "2020-03-01T00:00:00",
          "2020-03-08T00:00:00",
          "2020-03-15T00:00:00",
          "2020-03-22T00:00:00",
          "2020-03-29T00:00:00",
          "2020-04-05T00:00:00",
          "2020-04-12T00:00:00",
          "2020-04-19T00:00:00",
          "2020-04-26T00:00:00",
          "2020-05-03T00:00:00",
          "2020-05-10T00:00:00",
          "2020-05-17T00:00:00",
          "2020-05-24T00:00:00",
          "2020-05-31T00:00:00",
          "2020-06-07T00:00:00",
          "2020-06-14T00:00:00",
          "2020-06-21T00:00:00",
          "2020-06-28T00:00:00",
          "2020-07-05T00:00:00",
          "2020-07-12T00:00:00",
          "2020-07-19T00:00:00",
          "2020-07-26T00:00:00",
          "2020-08-02T00:00:00",
          "2020-08-09T00:00:00",
          "2020-08-16T00:00:00",
          "2020-08-23T00:00:00",
          "2020-08-30T00:00:00",
          "2020-09-06T00:00:00",
          "2020-09-13T00:00:00",
          "2020-09-20T00:00:00",
          "2020-09-27T00:00:00",
          "2020-10-04T00:00:00",
          "2020-10-11T00:00:00",
          "2020-10-18T00:00:00",
          "2020-10-25T00:00:00",
          "2020-11-01T00:00:00",
          "2020-11-08T00:00:00",
          "2020-11-15T00:00:00",
          "2020-11-22T00:00:00",
          "2020-11-29T00:00:00",
          "2020-12-06T00:00:00",
          "2020-12-13T00:00:00",
          "2020-12-20T00:00:00",
          "2020-12-27T00:00:00",
          "2021-01-03T00:00:00"
         ],
         "xaxis": "x13",
         "y": [
          63.817317518248174,
          63.24597345132743,
          66.28617110799439,
          68.16739663093415,
          63.36,
          66.00428965517241,
          62.96863888888889,
          60.6280693815988,
          64.16893548387097,
          61.01550739957717,
          56.699932049830124,
          62.34515050167224,
          60.41132821075741,
          64.61231182795699,
          63.67084210526316,
          60.989121693121696,
          70.43907582938388,
          65.34833333333333,
          61.823430735930735,
          61.616349892008635,
          62.54395732298739,
          66.01849126034959,
          59.67826408125577,
          61.61,
          62.77213333333333,
          63.553505696757234,
          65.25569661995054,
          57.85614050303556,
          61.99038693035254,
          61.85967450271248,
          63.422344290657435,
          62.56593080724876,
          64.9858565400844,
          65.22279931093884,
          62.47027234042554,
          63.9814382022472,
          63.60617214043035,
          63.57659528907923,
          62.43722958057395,
          61.929767206477734,
          65.75823658269441,
          64.55902976846748,
          67.01154651162791,
          59.61117395944503,
          59.76721132897604,
          60.26502831257078,
          63.71905813953488,
          64.29391135303266,
          64.9897679558011,
          61.481704781704785,
          64.157950310559,
          62.70327057557827,
          63.43771373679155,
          63.74479508196722,
          62.392391629297464,
          65.24036723163842,
          62.90948562783661,
          59.57641025641026,
          60.08884333821376,
          61.903294629898404,
          63.50566265060241,
          64.98916387959866,
          64.2690243902439,
          63.427021276595745,
          65.69641550053821,
          61.85659114315139,
          61.827497155858936,
          63.153571428571425,
          64.51462401795735,
          59.079230769230776,
          61.10488912354805,
          65.68148796498906,
          62.43074034334764,
          66.08137417218543,
          64.74541740674955,
          61.86460559796437,
          65.61890748898679,
          63.48110714285714,
          61.072245943637924,
          65.54087468460892,
          63.77547368421052,
          63.45854293148309,
          62.45049405306496,
          64.10545049063337,
          62.542362204724405,
          60.61076787290379,
          61.7993897996357,
          64.237408477842,
          64.27195464362852,
          64.21454835281615,
          61.899545970488084,
          67.54376332622601,
          62.52095493562231,
          62.67961224489795,
          61.03770581778266,
          64.19331823329559,
          62.773116328708646,
          63.16295031055901,
          61.85724293785311,
          64.9160759493671,
          66.18569536423841,
          61.90989165763814,
          64.10019251925192,
          61.57153888888889,
          61.45419874664279
         ],
         "yaxis": "y13"
        },
        {
         "hovertemplate": "is_fraud=0<br>category=food_dining<br>transaction_time=%{x}<br>amount(usd)=%{y}<extra></extra>",
         "legendgroup": "0",
         "marker": {
          "color": "#61E50F",
          "symbol": "circle"
         },
         "mode": "markers",
         "name": "0",
         "showlegend": false,
         "type": "scattergl",
         "x": [
          "2019-01-06T00:00:00",
          "2019-01-13T00:00:00",
          "2019-01-20T00:00:00",
          "2019-01-27T00:00:00",
          "2019-02-03T00:00:00",
          "2019-02-10T00:00:00",
          "2019-02-17T00:00:00",
          "2019-02-24T00:00:00",
          "2019-03-03T00:00:00",
          "2019-03-10T00:00:00",
          "2019-03-17T00:00:00",
          "2019-03-24T00:00:00",
          "2019-03-31T00:00:00",
          "2019-04-07T00:00:00",
          "2019-04-14T00:00:00",
          "2019-04-21T00:00:00",
          "2019-04-28T00:00:00",
          "2019-05-05T00:00:00",
          "2019-05-12T00:00:00",
          "2019-05-19T00:00:00",
          "2019-05-26T00:00:00",
          "2019-06-02T00:00:00",
          "2019-06-09T00:00:00",
          "2019-06-16T00:00:00",
          "2019-06-23T00:00:00",
          "2019-06-30T00:00:00",
          "2019-07-07T00:00:00",
          "2019-07-14T00:00:00",
          "2019-07-21T00:00:00",
          "2019-07-28T00:00:00",
          "2019-08-04T00:00:00",
          "2019-08-11T00:00:00",
          "2019-08-18T00:00:00",
          "2019-08-25T00:00:00",
          "2019-09-01T00:00:00",
          "2019-09-08T00:00:00",
          "2019-09-15T00:00:00",
          "2019-09-22T00:00:00",
          "2019-09-29T00:00:00",
          "2019-10-06T00:00:00",
          "2019-10-13T00:00:00",
          "2019-10-20T00:00:00",
          "2019-10-27T00:00:00",
          "2019-11-03T00:00:00",
          "2019-11-10T00:00:00",
          "2019-11-17T00:00:00",
          "2019-11-24T00:00:00",
          "2019-12-01T00:00:00",
          "2019-12-08T00:00:00",
          "2019-12-15T00:00:00",
          "2019-12-22T00:00:00",
          "2019-12-29T00:00:00",
          "2020-01-05T00:00:00",
          "2020-01-12T00:00:00",
          "2020-01-19T00:00:00",
          "2020-01-26T00:00:00",
          "2020-02-02T00:00:00",
          "2020-02-09T00:00:00",
          "2020-02-16T00:00:00",
          "2020-02-23T00:00:00",
          "2020-03-01T00:00:00",
          "2020-03-08T00:00:00",
          "2020-03-15T00:00:00",
          "2020-03-22T00:00:00",
          "2020-03-29T00:00:00",
          "2020-04-05T00:00:00",
          "2020-04-12T00:00:00",
          "2020-04-19T00:00:00",
          "2020-04-26T00:00:00",
          "2020-05-03T00:00:00",
          "2020-05-10T00:00:00",
          "2020-05-17T00:00:00",
          "2020-05-24T00:00:00",
          "2020-05-31T00:00:00",
          "2020-06-07T00:00:00",
          "2020-06-14T00:00:00",
          "2020-06-21T00:00:00",
          "2020-06-28T00:00:00",
          "2020-07-05T00:00:00",
          "2020-07-12T00:00:00",
          "2020-07-19T00:00:00",
          "2020-07-26T00:00:00",
          "2020-08-02T00:00:00",
          "2020-08-09T00:00:00",
          "2020-08-16T00:00:00",
          "2020-08-23T00:00:00",
          "2020-08-30T00:00:00",
          "2020-09-06T00:00:00",
          "2020-09-13T00:00:00",
          "2020-09-20T00:00:00",
          "2020-09-27T00:00:00",
          "2020-10-04T00:00:00",
          "2020-10-11T00:00:00",
          "2020-10-18T00:00:00",
          "2020-10-25T00:00:00",
          "2020-11-01T00:00:00",
          "2020-11-08T00:00:00",
          "2020-11-15T00:00:00",
          "2020-11-22T00:00:00",
          "2020-11-29T00:00:00",
          "2020-12-06T00:00:00",
          "2020-12-13T00:00:00",
          "2020-12-20T00:00:00",
          "2020-12-27T00:00:00",
          "2021-01-03T00:00:00"
         ],
         "xaxis": "x14",
         "y": [
          49.101570397111914,
          51.83655270655271,
          52.84378031383737,
          51.15643072289157,
          52.15206842923794,
          51.074088888888895,
          50.22593663911846,
          52.04398809523809,
          52.29971307120085,
          47.29617245005258,
          54.15956775700934,
          50.99006734006734,
          52.119191011235955,
          53.271650717703345,
          50.102274247491636,
          50.1486308871851,
          50.606075550891916,
          51.28643013100437,
          48.96402597402597,
          51.31864618885096,
          52.20001002004008,
          50.46244308231174,
          49.24476702508961,
          50.78256360078278,
          52.16412418906395,
          51.29738138686131,
          51.400193050193046,
          52.27873161764706,
          51.65001793721973,
          49.09383486238532,
          52.754350132625994,
          52.340304347826084,
          52.643850823937555,
          50.65873881932021,
          50.014463229078615,
          50.09827472527473,
          49.932505543237255,
          52.09905251141552,
          53.55577528089888,
          50.04335152838428,
          49.746532170119956,
          49.12782372143634,
          52.47805494505494,
          51.20375667022412,
          50.4520578778135,
          50.88035921205098,
          51.27632064590542,
          49.8387383573243,
          50.94169727323317,
          49.60915759312321,
          50.903657996679584,
          51.346893147502904,
          51.345925925925926,
          48.43769230769231,
          49.78021707670043,
          50.90302839116719,
          50.21954074074075,
          48.787623906705534,
          50.62689024390244,
          51.778499999999994,
          50.47739352640545,
          48.2356111757858,
          50.907672131147535,
          48.896959385290884,
          52.168592132505175,
          50.075189309576835,
          53.51294759825328,
          49.42669703872437,
          52.32185017026107,
          51.7759009009009,
          52.499128919860624,
          48.88641083521445,
          48.654055865921784,
          53.142571182053494,
          49.460207768744354,
          49.66649910233394,
          51.19954095409541,
          50.66326602282704,
          52.510017241379316,
          46.548694516971274,
          50.3441724137931,
          50.73441176470588,
          52.526610619469025,
          51.23231031543052,
          53.48925693822739,
          53.99534259259259,
          48.67304545454545,
          51.90455578512397,
          54.571697905181914,
          51.12835585585586,
          48.79179215270414,
          50.73458193979933,
          50.71075657894737,
          51.013695652173915,
          52.53660850599782,
          52.37229378531074,
          48.438734177215196,
          49.17165178571429,
          51.536876355748376,
          50.92732505643341,
          49.53016203703704,
          49.55337136337707,
          51.09199306759099,
          50.318767990788714,
          49.72409836065574
         ],
         "yaxis": "y14"
        },
        {
         "hovertemplate": "is_fraud=0<br>category=gas_transport<br>transaction_time=%{x}<br>amount(usd)=%{y}<extra></extra>",
         "legendgroup": "0",
         "marker": {
          "color": "#61E50F",
          "symbol": "circle"
         },
         "mode": "markers",
         "name": "0",
         "showlegend": false,
         "type": "scattergl",
         "x": [
          "2019-01-06T00:00:00",
          "2019-01-13T00:00:00",
          "2019-01-20T00:00:00",
          "2019-01-27T00:00:00",
          "2019-02-03T00:00:00",
          "2019-02-10T00:00:00",
          "2019-02-17T00:00:00",
          "2019-02-24T00:00:00",
          "2019-03-03T00:00:00",
          "2019-03-10T00:00:00",
          "2019-03-17T00:00:00",
          "2019-03-24T00:00:00",
          "2019-03-31T00:00:00",
          "2019-04-07T00:00:00",
          "2019-04-14T00:00:00",
          "2019-04-21T00:00:00",
          "2019-04-28T00:00:00",
          "2019-05-05T00:00:00",
          "2019-05-12T00:00:00",
          "2019-05-19T00:00:00",
          "2019-05-26T00:00:00",
          "2019-06-02T00:00:00",
          "2019-06-09T00:00:00",
          "2019-06-16T00:00:00",
          "2019-06-23T00:00:00",
          "2019-06-30T00:00:00",
          "2019-07-07T00:00:00",
          "2019-07-14T00:00:00",
          "2019-07-21T00:00:00",
          "2019-07-28T00:00:00",
          "2019-08-04T00:00:00",
          "2019-08-11T00:00:00",
          "2019-08-18T00:00:00",
          "2019-08-25T00:00:00",
          "2019-09-01T00:00:00",
          "2019-09-08T00:00:00",
          "2019-09-15T00:00:00",
          "2019-09-22T00:00:00",
          "2019-09-29T00:00:00",
          "2019-10-06T00:00:00",
          "2019-10-13T00:00:00",
          "2019-10-20T00:00:00",
          "2019-10-27T00:00:00",
          "2019-11-03T00:00:00",
          "2019-11-10T00:00:00",
          "2019-11-17T00:00:00",
          "2019-11-24T00:00:00",
          "2019-12-01T00:00:00",
          "2019-12-08T00:00:00",
          "2019-12-15T00:00:00",
          "2019-12-22T00:00:00",
          "2019-12-29T00:00:00",
          "2020-01-05T00:00:00",
          "2020-01-12T00:00:00",
          "2020-01-19T00:00:00",
          "2020-01-26T00:00:00",
          "2020-02-02T00:00:00",
          "2020-02-09T00:00:00",
          "2020-02-16T00:00:00",
          "2020-02-23T00:00:00",
          "2020-03-01T00:00:00",
          "2020-03-08T00:00:00",
          "2020-03-15T00:00:00",
          "2020-03-22T00:00:00",
          "2020-03-29T00:00:00",
          "2020-04-05T00:00:00",
          "2020-04-12T00:00:00",
          "2020-04-19T00:00:00",
          "2020-04-26T00:00:00",
          "2020-05-03T00:00:00",
          "2020-05-10T00:00:00",
          "2020-05-17T00:00:00",
          "2020-05-24T00:00:00",
          "2020-05-31T00:00:00",
          "2020-06-07T00:00:00",
          "2020-06-14T00:00:00",
          "2020-06-21T00:00:00",
          "2020-06-28T00:00:00",
          "2020-07-05T00:00:00",
          "2020-07-12T00:00:00",
          "2020-07-19T00:00:00",
          "2020-07-26T00:00:00",
          "2020-08-02T00:00:00",
          "2020-08-09T00:00:00",
          "2020-08-16T00:00:00",
          "2020-08-23T00:00:00",
          "2020-08-30T00:00:00",
          "2020-09-06T00:00:00",
          "2020-09-13T00:00:00",
          "2020-09-20T00:00:00",
          "2020-09-27T00:00:00",
          "2020-10-04T00:00:00",
          "2020-10-11T00:00:00",
          "2020-10-18T00:00:00",
          "2020-10-25T00:00:00",
          "2020-11-01T00:00:00",
          "2020-11-08T00:00:00",
          "2020-11-15T00:00:00",
          "2020-11-22T00:00:00",
          "2020-11-29T00:00:00",
          "2020-12-06T00:00:00",
          "2020-12-13T00:00:00",
          "2020-12-20T00:00:00",
          "2020-12-27T00:00:00",
          "2021-01-03T00:00:00"
         ],
         "xaxis": "x15",
         "y": [
          64.42304347826088,
          64.25258675078864,
          64.15176148796499,
          64.3929343220339,
          64.10343813387423,
          63.268596112311016,
          64.17693059628543,
          63.54168451801363,
          63.03469933184856,
          64.04964539007092,
          63.37921947449769,
          63.70592471358429,
          63.81365028203062,
          63.1611501120239,
          63.76999227799228,
          64.05485092667205,
          63.67216006216007,
          64.7071840873635,
          63.70267128560432,
          63.78619121048574,
          63.79012684989429,
          64.02612883051907,
          63.4226504481434,
          63.26762411347518,
          64.25753246753246,
          63.40810776138551,
          63.64139606396064,
          63.27273303741281,
          63.171473105134474,
          63.604416666666665,
          63.21372442839952,
          63.412725502920175,
          63.174670588235294,
          63.31240798502807,
          63.79278972520908,
          63.93117600631413,
          63.54923374613003,
          62.983292212798766,
          63.432992000000006,
          64.00028022417935,
          64.06168665067945,
          64.02124898621248,
          63.730592648162045,
          64.69273174733388,
          63.17413793103448,
          64.34119318181818,
          63.847909647779474,
          63.25527939464494,
          63.64408131352619,
          63.57526708562451,
          63.328834988540876,
          63.72787554498613,
          63.02704255319149,
          64.64096529284166,
          63.16094008264463,
          64.41518664047152,
          63.00541582150101,
          63.624412070759625,
          63.58803480040942,
          63.366887486855944,
          63.53390547263682,
          63.467890685142414,
          63.76260836501901,
          63.50441935483871,
          63.54737893927748,
          63.933848555815764,
          63.747034428795,
          63.50021621621622,
          63.56814528593508,
          64.00312091503268,
          63.218427299703265,
          63.713117283950616,
          63.984263275991026,
          63.22298342541437,
          63.758629227053135,
          63.831180285343706,
          64.16398101265823,
          63.165478757133805,
          64.30651232711966,
          64.05646882494005,
          63.93239528023599,
          64.08242900302115,
          63.997357449417535,
          63.643965517241384,
          63.377979669631515,
          62.60480620155039,
          63.63575776397516,
          63.91215862068966,
          64.34734244495064,
          63.90981366459627,
          63.394908220271354,
          64.09819745699326,
          63.54526970954357,
          63.24358932902183,
          63.659467110741055,
          63.572839046199704,
          63.32966614906832,
          64.4347987616099,
          62.786027928626844,
          64.07282472613458,
          63.6094299287411,
          64.17422280767784,
          63.61642530487805,
          63.777662437524036,
          63.26525412541254
         ],
         "yaxis": "y15"
        },
        {
         "hovertemplate": "is_fraud=0<br>category=grocery_net<br>transaction_time=%{x}<br>amount(usd)=%{y}<extra></extra>",
         "legendgroup": "0",
         "marker": {
          "color": "#61E50F",
          "symbol": "circle"
         },
         "mode": "markers",
         "name": "0",
         "showlegend": false,
         "type": "scattergl",
         "x": [
          "2019-01-06T00:00:00",
          "2019-01-13T00:00:00",
          "2019-01-20T00:00:00",
          "2019-01-27T00:00:00",
          "2019-02-03T00:00:00",
          "2019-02-10T00:00:00",
          "2019-02-17T00:00:00",
          "2019-02-24T00:00:00",
          "2019-03-03T00:00:00",
          "2019-03-10T00:00:00",
          "2019-03-17T00:00:00",
          "2019-03-24T00:00:00",
          "2019-03-31T00:00:00",
          "2019-04-07T00:00:00",
          "2019-04-14T00:00:00",
          "2019-04-21T00:00:00",
          "2019-04-28T00:00:00",
          "2019-05-05T00:00:00",
          "2019-05-12T00:00:00",
          "2019-05-19T00:00:00",
          "2019-05-26T00:00:00",
          "2019-06-02T00:00:00",
          "2019-06-09T00:00:00",
          "2019-06-16T00:00:00",
          "2019-06-23T00:00:00",
          "2019-06-30T00:00:00",
          "2019-07-07T00:00:00",
          "2019-07-14T00:00:00",
          "2019-07-21T00:00:00",
          "2019-07-28T00:00:00",
          "2019-08-04T00:00:00",
          "2019-08-11T00:00:00",
          "2019-08-18T00:00:00",
          "2019-08-25T00:00:00",
          "2019-09-01T00:00:00",
          "2019-09-08T00:00:00",
          "2019-09-15T00:00:00",
          "2019-09-22T00:00:00",
          "2019-09-29T00:00:00",
          "2019-10-06T00:00:00",
          "2019-10-13T00:00:00",
          "2019-10-20T00:00:00",
          "2019-10-27T00:00:00",
          "2019-11-03T00:00:00",
          "2019-11-10T00:00:00",
          "2019-11-17T00:00:00",
          "2019-11-24T00:00:00",
          "2019-12-01T00:00:00",
          "2019-12-08T00:00:00",
          "2019-12-15T00:00:00",
          "2019-12-22T00:00:00",
          "2019-12-29T00:00:00",
          "2020-01-05T00:00:00",
          "2020-01-12T00:00:00",
          "2020-01-19T00:00:00",
          "2020-01-26T00:00:00",
          "2020-02-02T00:00:00",
          "2020-02-09T00:00:00",
          "2020-02-16T00:00:00",
          "2020-02-23T00:00:00",
          "2020-03-01T00:00:00",
          "2020-03-08T00:00:00",
          "2020-03-15T00:00:00",
          "2020-03-22T00:00:00",
          "2020-03-29T00:00:00",
          "2020-04-05T00:00:00",
          "2020-04-12T00:00:00",
          "2020-04-19T00:00:00",
          "2020-04-26T00:00:00",
          "2020-05-03T00:00:00",
          "2020-05-10T00:00:00",
          "2020-05-17T00:00:00",
          "2020-05-24T00:00:00",
          "2020-05-31T00:00:00",
          "2020-06-07T00:00:00",
          "2020-06-14T00:00:00",
          "2020-06-21T00:00:00",
          "2020-06-28T00:00:00",
          "2020-07-05T00:00:00",
          "2020-07-12T00:00:00",
          "2020-07-19T00:00:00",
          "2020-07-26T00:00:00",
          "2020-08-02T00:00:00",
          "2020-08-09T00:00:00",
          "2020-08-16T00:00:00",
          "2020-08-23T00:00:00",
          "2020-08-30T00:00:00",
          "2020-09-06T00:00:00",
          "2020-09-13T00:00:00",
          "2020-09-20T00:00:00",
          "2020-09-27T00:00:00",
          "2020-10-04T00:00:00",
          "2020-10-11T00:00:00",
          "2020-10-18T00:00:00",
          "2020-10-25T00:00:00",
          "2020-11-01T00:00:00",
          "2020-11-08T00:00:00",
          "2020-11-15T00:00:00",
          "2020-11-22T00:00:00",
          "2020-11-29T00:00:00",
          "2020-12-06T00:00:00",
          "2020-12-13T00:00:00",
          "2020-12-20T00:00:00",
          "2020-12-27T00:00:00",
          "2021-01-03T00:00:00"
         ],
         "xaxis": "x10",
         "y": [
          54.93768060836502,
          55.55462732919255,
          55.55037463976945,
          53.38748466257669,
          53.43850162866449,
          56.700438596491225,
          52.4607570977918,
          51.98566860465116,
          53.63300715990454,
          53.45732905982906,
          55.2886866359447,
          51.94913832199546,
          53.79085585585585,
          52.516767241379306,
          53.935846501128665,
          55.79490740740741,
          52.318407643312106,
          54.17995584988962,
          53.27675736961451,
          53.67917808219178,
          54.26384937238493,
          53.90422018348624,
          52.81424860853433,
          52.77694552529183,
          55.59408525754885,
          53.71294559099437,
          53.53851398601398,
          52.65328273244781,
          54.483672654690615,
          52.8157168784029,
          55.196192170818506,
          52.91519230769231,
          54.04933092224231,
          53.6107299270073,
          53.96039855072463,
          53.564661654135335,
          55.42346511627907,
          52.05282894736842,
          52.65631455399061,
          53.786696035242294,
          55.01848920863309,
          53.55977973568282,
          53.343971631205676,
          55.89349881796691,
          52.98682222222222,
          53.8307345971564,
          53.75537610619469,
          54.95497495826377,
          54.64679180887372,
          54.16883428571429,
          53.28188359788359,
          54.0623414071511,
          54.798309278350516,
          54.63287390029326,
          50.92,
          54.54446808510639,
          53.246448087431695,
          52.78346031746032,
          53.68355685131195,
          54.82671875,
          54.079,
          54.206602409638556,
          54.24752252252252,
          54.98226635514018,
          53.618374164810696,
          52.51661252900232,
          53.524109014675055,
          54.34203309692671,
          52.649367945823926,
          52.715869074492105,
          54.22464692482915,
          51.556518987341775,
          53.533762993763,
          54.48786324786325,
          54.48532467532468,
          52.41614726027397,
          54.55942115768463,
          53.702098138747886,
          53.769547920434,
          53.43876660341556,
          54.94641544117647,
          54.4798023715415,
          53.98759226713532,
          53.16092495636998,
          54.01996226415095,
          53.76211720226843,
          53.72852631578947,
          53.582596899224804,
          52.63325,
          53.52995316159251,
          52.784085778781034,
          55.95115299334812,
          54.82347926267281,
          53.83630196936542,
          53.322890792291226,
          55.08726862302483,
          53.11480263157895,
          55.157621052631576,
          53.05625835189309,
          53.78331081081081,
          54.06190156599552,
          54.05382513661202,
          52.403712035995504,
          53.33050579557429,
          53.48828793774319
         ],
         "yaxis": "y10"
        },
        {
         "hovertemplate": "is_fraud=0<br>category=grocery_pos<br>transaction_time=%{x}<br>amount(usd)=%{y}<extra></extra>",
         "legendgroup": "0",
         "marker": {
          "color": "#61E50F",
          "symbol": "circle"
         },
         "mode": "markers",
         "name": "0",
         "showlegend": false,
         "type": "scattergl",
         "x": [
          "2019-01-06T00:00:00",
          "2019-01-13T00:00:00",
          "2019-01-20T00:00:00",
          "2019-01-27T00:00:00",
          "2019-02-03T00:00:00",
          "2019-02-10T00:00:00",
          "2019-02-17T00:00:00",
          "2019-02-24T00:00:00",
          "2019-03-03T00:00:00",
          "2019-03-10T00:00:00",
          "2019-03-17T00:00:00",
          "2019-03-24T00:00:00",
          "2019-03-31T00:00:00",
          "2019-04-07T00:00:00",
          "2019-04-14T00:00:00",
          "2019-04-21T00:00:00",
          "2019-04-28T00:00:00",
          "2019-05-05T00:00:00",
          "2019-05-12T00:00:00",
          "2019-05-19T00:00:00",
          "2019-05-26T00:00:00",
          "2019-06-02T00:00:00",
          "2019-06-09T00:00:00",
          "2019-06-16T00:00:00",
          "2019-06-23T00:00:00",
          "2019-06-30T00:00:00",
          "2019-07-07T00:00:00",
          "2019-07-14T00:00:00",
          "2019-07-21T00:00:00",
          "2019-07-28T00:00:00",
          "2019-08-04T00:00:00",
          "2019-08-11T00:00:00",
          "2019-08-18T00:00:00",
          "2019-08-25T00:00:00",
          "2019-09-01T00:00:00",
          "2019-09-08T00:00:00",
          "2019-09-15T00:00:00",
          "2019-09-22T00:00:00",
          "2019-09-29T00:00:00",
          "2019-10-06T00:00:00",
          "2019-10-13T00:00:00",
          "2019-10-20T00:00:00",
          "2019-10-27T00:00:00",
          "2019-11-03T00:00:00",
          "2019-11-10T00:00:00",
          "2019-11-17T00:00:00",
          "2019-11-24T00:00:00",
          "2019-12-01T00:00:00",
          "2019-12-08T00:00:00",
          "2019-12-15T00:00:00",
          "2019-12-22T00:00:00",
          "2019-12-29T00:00:00",
          "2020-01-05T00:00:00",
          "2020-01-12T00:00:00",
          "2020-01-19T00:00:00",
          "2020-01-26T00:00:00",
          "2020-02-02T00:00:00",
          "2020-02-09T00:00:00",
          "2020-02-16T00:00:00",
          "2020-02-23T00:00:00",
          "2020-03-01T00:00:00",
          "2020-03-08T00:00:00",
          "2020-03-15T00:00:00",
          "2020-03-22T00:00:00",
          "2020-03-29T00:00:00",
          "2020-04-05T00:00:00",
          "2020-04-12T00:00:00",
          "2020-04-19T00:00:00",
          "2020-04-26T00:00:00",
          "2020-05-03T00:00:00",
          "2020-05-10T00:00:00",
          "2020-05-17T00:00:00",
          "2020-05-24T00:00:00",
          "2020-05-31T00:00:00",
          "2020-06-07T00:00:00",
          "2020-06-14T00:00:00",
          "2020-06-21T00:00:00",
          "2020-06-28T00:00:00",
          "2020-07-05T00:00:00",
          "2020-07-12T00:00:00",
          "2020-07-19T00:00:00",
          "2020-07-26T00:00:00",
          "2020-08-02T00:00:00",
          "2020-08-09T00:00:00",
          "2020-08-16T00:00:00",
          "2020-08-23T00:00:00",
          "2020-08-30T00:00:00",
          "2020-09-06T00:00:00",
          "2020-09-13T00:00:00",
          "2020-09-20T00:00:00",
          "2020-09-27T00:00:00",
          "2020-10-04T00:00:00",
          "2020-10-11T00:00:00",
          "2020-10-18T00:00:00",
          "2020-10-25T00:00:00",
          "2020-11-01T00:00:00",
          "2020-11-08T00:00:00",
          "2020-11-15T00:00:00",
          "2020-11-22T00:00:00",
          "2020-11-29T00:00:00",
          "2020-12-06T00:00:00",
          "2020-12-13T00:00:00",
          "2020-12-20T00:00:00",
          "2020-12-27T00:00:00",
          "2021-01-03T00:00:00"
         ],
         "xaxis": "x11",
         "y": [
          110.26396574440054,
          113.39235915492957,
          114.57544733861835,
          113.4159090909091,
          117.42520631067961,
          113.16543937708565,
          115.4399433106576,
          115.79489561586638,
          115.01739340305711,
          114.36832252836305,
          115.68453124999999,
          114.92857383966246,
          114.24673186634067,
          114.48544032921811,
          114.03593080724876,
          110.98656050955414,
          113.35523569023569,
          114.47205020920502,
          113.78712490180676,
          113.62643926788687,
          113.83135115070526,
          113.6872691292876,
          116.33131224764468,
          114.1358238276299,
          112.2941180507893,
          112.79838245373543,
          114.2713511659808,
          113.62061548643283,
          114.44725888324874,
          114.807521944632,
          113.23957994579945,
          113.56139455782314,
          113.2437422467264,
          116.55285617825793,
          115.0966506520247,
          112.90402859545839,
          111.10907719609583,
          116.06674561403509,
          111.53215071972905,
          113.89287021630616,
          116.14480240549827,
          114.58018136850784,
          114.30932173913044,
          114.6840627580512,
          113.59442372881357,
          113.89547993019197,
          113.23966580976864,
          114.7064694776589,
          114.52127531236536,
          114.19022689075629,
          114.04568093385213,
          116.16346463362981,
          116.44839615668883,
          117.73660069848661,
          114.15167770419426,
          114.70189655172413,
          112.97342391304348,
          111.26170568561874,
          111.87469798657717,
          116.12579596412557,
          116.7852334152334,
          116.31692368839428,
          114.81160000000001,
          114.68110932475884,
          114.33161263507897,
          115.00659966499163,
          113.7810288386594,
          112.90544212218649,
          116.42011834319527,
          115.3987211221122,
          111.66704237288134,
          115.63115187713309,
          114.22908944399677,
          113.1056035665295,
          114.39409694555114,
          112.90436000000001,
          113.74117845117844,
          112.9019,
          113.35458691341705,
          113.85399460188934,
          114.1618820224719,
          114.90036845507433,
          115.82533921302577,
          114.0924650233178,
          111.41485827290705,
          113.80850574712643,
          113.95890550645818,
          114.3029446935725,
          112.71729383506805,
          114.09257538712306,
          114.5832767402377,
          115.35102685624013,
          114.55433866891323,
          113.22259472817134,
          113.03802335279399,
          116.23594776748105,
          113.74104729729729,
          115.05662196144173,
          113.1146475409836,
          115.9842060085837,
          113.44836784409257,
          113.9116238956668,
          115.25319139784945,
          115.02799664006719,
          114.2746488764045
         ],
         "yaxis": "y11"
        },
        {
         "hovertemplate": "is_fraud=0<br>category=health_fitness<br>transaction_time=%{x}<br>amount(usd)=%{y}<extra></extra>",
         "legendgroup": "0",
         "marker": {
          "color": "#61E50F",
          "symbol": "circle"
         },
         "mode": "markers",
         "name": "0",
         "showlegend": false,
         "type": "scattergl",
         "x": [
          "2019-01-06T00:00:00",
          "2019-01-13T00:00:00",
          "2019-01-20T00:00:00",
          "2019-01-27T00:00:00",
          "2019-02-03T00:00:00",
          "2019-02-10T00:00:00",
          "2019-02-17T00:00:00",
          "2019-02-24T00:00:00",
          "2019-03-03T00:00:00",
          "2019-03-10T00:00:00",
          "2019-03-17T00:00:00",
          "2019-03-24T00:00:00",
          "2019-03-31T00:00:00",
          "2019-04-07T00:00:00",
          "2019-04-14T00:00:00",
          "2019-04-21T00:00:00",
          "2019-04-28T00:00:00",
          "2019-05-05T00:00:00",
          "2019-05-12T00:00:00",
          "2019-05-19T00:00:00",
          "2019-05-26T00:00:00",
          "2019-06-02T00:00:00",
          "2019-06-09T00:00:00",
          "2019-06-16T00:00:00",
          "2019-06-23T00:00:00",
          "2019-06-30T00:00:00",
          "2019-07-07T00:00:00",
          "2019-07-14T00:00:00",
          "2019-07-21T00:00:00",
          "2019-07-28T00:00:00",
          "2019-08-04T00:00:00",
          "2019-08-11T00:00:00",
          "2019-08-18T00:00:00",
          "2019-08-25T00:00:00",
          "2019-09-01T00:00:00",
          "2019-09-08T00:00:00",
          "2019-09-15T00:00:00",
          "2019-09-22T00:00:00",
          "2019-09-29T00:00:00",
          "2019-10-06T00:00:00",
          "2019-10-13T00:00:00",
          "2019-10-20T00:00:00",
          "2019-10-27T00:00:00",
          "2019-11-03T00:00:00",
          "2019-11-10T00:00:00",
          "2019-11-17T00:00:00",
          "2019-11-24T00:00:00",
          "2019-12-01T00:00:00",
          "2019-12-08T00:00:00",
          "2019-12-15T00:00:00",
          "2019-12-22T00:00:00",
          "2019-12-29T00:00:00",
          "2020-01-05T00:00:00",
          "2020-01-12T00:00:00",
          "2020-01-19T00:00:00",
          "2020-01-26T00:00:00",
          "2020-02-02T00:00:00",
          "2020-02-09T00:00:00",
          "2020-02-16T00:00:00",
          "2020-02-23T00:00:00",
          "2020-03-01T00:00:00",
          "2020-03-08T00:00:00",
          "2020-03-15T00:00:00",
          "2020-03-22T00:00:00",
          "2020-03-29T00:00:00",
          "2020-04-05T00:00:00",
          "2020-04-12T00:00:00",
          "2020-04-19T00:00:00",
          "2020-04-26T00:00:00",
          "2020-05-03T00:00:00",
          "2020-05-10T00:00:00",
          "2020-05-17T00:00:00",
          "2020-05-24T00:00:00",
          "2020-05-31T00:00:00",
          "2020-06-07T00:00:00",
          "2020-06-14T00:00:00",
          "2020-06-21T00:00:00",
          "2020-06-28T00:00:00",
          "2020-07-05T00:00:00",
          "2020-07-12T00:00:00",
          "2020-07-19T00:00:00",
          "2020-07-26T00:00:00",
          "2020-08-02T00:00:00",
          "2020-08-09T00:00:00",
          "2020-08-16T00:00:00",
          "2020-08-23T00:00:00",
          "2020-08-30T00:00:00",
          "2020-09-06T00:00:00",
          "2020-09-13T00:00:00",
          "2020-09-20T00:00:00",
          "2020-09-27T00:00:00",
          "2020-10-04T00:00:00",
          "2020-10-11T00:00:00",
          "2020-10-18T00:00:00",
          "2020-10-25T00:00:00",
          "2020-11-01T00:00:00",
          "2020-11-08T00:00:00",
          "2020-11-15T00:00:00",
          "2020-11-22T00:00:00",
          "2020-11-29T00:00:00",
          "2020-12-06T00:00:00",
          "2020-12-13T00:00:00",
          "2020-12-20T00:00:00",
          "2020-12-27T00:00:00",
          "2021-01-03T00:00:00"
         ],
         "xaxis": "x12",
         "y": [
          52.215638945233266,
          53.015439393939396,
          56.35025682182985,
          55.22063829787234,
          54.45076923076923,
          51.5422351233672,
          56.50446676970633,
          57.153450920245405,
          55.246763005780345,
          54.72477699530517,
          54.40507334963325,
          50.53609953703704,
          51.36232667450059,
          53.409055745164956,
          55.428173410404625,
          54.985898030127466,
          53.94943679599499,
          54.87568265682657,
          54.473083333333335,
          51.17466750313676,
          56.658033333333336,
          53.56139468690702,
          54.393274582560295,
          54.81649025069638,
          53.91746810598626,
          50.817490421455936,
          54.046554054054056,
          54.52571428571429,
          53.8939778449144,
          56.68077431539188,
          52.61439814814815,
          55.122047846889956,
          55.26576961271102,
          54.5604415823367,
          52.36629455909944,
          52.495463297232256,
          52.979652173913045,
          54.773657927590506,
          54.66311138014528,
          53.25005800464037,
          54.32083138173302,
          51.814234016887816,
          53.26676267281106,
          53.523083140877596,
          52.656530359355635,
          54.6743124165554,
          52.95828715365239,
          54.50820284697509,
          53.14105751391465,
          54.641308868501525,
          53.1902604482132,
          53.98703995157385,
          55.208949079089926,
          49.917138461538464,
          56.586778309409894,
          54.08674107142857,
          53.85604580152672,
          56.558300330033006,
          54.3693427230047,
          55.19035830618892,
          56.18302491103203,
          54.62169942196532,
          53.83922273781903,
          57.25559863169898,
          55.44298245614035,
          55.262410611303345,
          57.654756242568375,
          53.619193548387095,
          55.536302211302214,
          55.553333333333335,
          54.79071688942892,
          52.59552913198573,
          53.54319623971798,
          52.61458812260536,
          50.741565217391305,
          54.796227598566304,
          55.7475329566855,
          54.12686888454012,
          54.25784728610856,
          56.37953831948292,
          52.82457509881423,
          54.48280487804878,
          55.74641762452107,
          54.40494152046784,
          55.839193227091634,
          56.528844317096464,
          50.81503510531594,
          52.570258064516125,
          54.930393873085336,
          52.377885572139306,
          52.692244186046516,
          54.93034441805226,
          51.15577415599534,
          56.87379888268157,
          52.89974148061105,
          53.250269320843095,
          53.07400778210116,
          55.82784919653894,
          54.94283065512979,
          53.383444976076554,
          53.52258871436882,
          53.9297146254459,
          53.87789890377588,
          51.58636744464393,
          55.39722831505483
         ],
         "yaxis": "y12"
        },
        {
         "hovertemplate": "is_fraud=0<br>category=home<br>transaction_time=%{x}<br>amount(usd)=%{y}<extra></extra>",
         "legendgroup": "0",
         "marker": {
          "color": "#61E50F",
          "symbol": "circle"
         },
         "mode": "markers",
         "name": "0",
         "showlegend": false,
         "type": "scattergl",
         "x": [
          "2019-01-06T00:00:00",
          "2019-01-13T00:00:00",
          "2019-01-20T00:00:00",
          "2019-01-27T00:00:00",
          "2019-02-03T00:00:00",
          "2019-02-10T00:00:00",
          "2019-02-17T00:00:00",
          "2019-02-24T00:00:00",
          "2019-03-03T00:00:00",
          "2019-03-10T00:00:00",
          "2019-03-17T00:00:00",
          "2019-03-24T00:00:00",
          "2019-03-31T00:00:00",
          "2019-04-07T00:00:00",
          "2019-04-14T00:00:00",
          "2019-04-21T00:00:00",
          "2019-04-28T00:00:00",
          "2019-05-05T00:00:00",
          "2019-05-12T00:00:00",
          "2019-05-19T00:00:00",
          "2019-05-26T00:00:00",
          "2019-06-02T00:00:00",
          "2019-06-09T00:00:00",
          "2019-06-16T00:00:00",
          "2019-06-23T00:00:00",
          "2019-06-30T00:00:00",
          "2019-07-07T00:00:00",
          "2019-07-14T00:00:00",
          "2019-07-21T00:00:00",
          "2019-07-28T00:00:00",
          "2019-08-04T00:00:00",
          "2019-08-11T00:00:00",
          "2019-08-18T00:00:00",
          "2019-08-25T00:00:00",
          "2019-09-01T00:00:00",
          "2019-09-08T00:00:00",
          "2019-09-15T00:00:00",
          "2019-09-22T00:00:00",
          "2019-09-29T00:00:00",
          "2019-10-06T00:00:00",
          "2019-10-13T00:00:00",
          "2019-10-20T00:00:00",
          "2019-10-27T00:00:00",
          "2019-11-03T00:00:00",
          "2019-11-10T00:00:00",
          "2019-11-17T00:00:00",
          "2019-11-24T00:00:00",
          "2019-12-01T00:00:00",
          "2019-12-08T00:00:00",
          "2019-12-15T00:00:00",
          "2019-12-22T00:00:00",
          "2019-12-29T00:00:00",
          "2020-01-05T00:00:00",
          "2020-01-12T00:00:00",
          "2020-01-19T00:00:00",
          "2020-01-26T00:00:00",
          "2020-02-02T00:00:00",
          "2020-02-09T00:00:00",
          "2020-02-16T00:00:00",
          "2020-02-23T00:00:00",
          "2020-03-01T00:00:00",
          "2020-03-08T00:00:00",
          "2020-03-15T00:00:00",
          "2020-03-22T00:00:00",
          "2020-03-29T00:00:00",
          "2020-04-05T00:00:00",
          "2020-04-12T00:00:00",
          "2020-04-19T00:00:00",
          "2020-04-26T00:00:00",
          "2020-05-03T00:00:00",
          "2020-05-10T00:00:00",
          "2020-05-17T00:00:00",
          "2020-05-24T00:00:00",
          "2020-05-31T00:00:00",
          "2020-06-07T00:00:00",
          "2020-06-14T00:00:00",
          "2020-06-21T00:00:00",
          "2020-06-28T00:00:00",
          "2020-07-05T00:00:00",
          "2020-07-12T00:00:00",
          "2020-07-19T00:00:00",
          "2020-07-26T00:00:00",
          "2020-08-02T00:00:00",
          "2020-08-09T00:00:00",
          "2020-08-16T00:00:00",
          "2020-08-23T00:00:00",
          "2020-08-30T00:00:00",
          "2020-09-06T00:00:00",
          "2020-09-13T00:00:00",
          "2020-09-20T00:00:00",
          "2020-09-27T00:00:00",
          "2020-10-04T00:00:00",
          "2020-10-11T00:00:00",
          "2020-10-18T00:00:00",
          "2020-10-25T00:00:00",
          "2020-11-01T00:00:00",
          "2020-11-08T00:00:00",
          "2020-11-15T00:00:00",
          "2020-11-22T00:00:00",
          "2020-11-29T00:00:00",
          "2020-12-06T00:00:00",
          "2020-12-13T00:00:00",
          "2020-12-20T00:00:00",
          "2020-12-27T00:00:00",
          "2021-01-03T00:00:00"
         ],
         "xaxis": "x7",
         "y": [
          57.16311432325887,
          58.797936842105265,
          58.005861678004536,
          57.777910447761194,
          58.34776814734561,
          59.88306930693069,
          59.80248322147651,
          58.63244994110718,
          60.23652388797364,
          55.876076861489196,
          58.509565217391305,
          57.36758534554538,
          57.99489075630252,
          57.13403171953256,
          57.17824978759558,
          57.465559210526315,
          58.40234641638226,
          58.59039695945946,
          58.046390284757116,
          56.32224364592463,
          57.921431718061676,
          58.34537206266319,
          57.33772602739726,
          59.30879403794038,
          57.31457439896037,
          57.46846870838881,
          57.446677545691905,
          56.85919973975276,
          57.05914478114478,
          57.680439189189194,
          57.9891009771987,
          55.93610204081633,
          58.838818998716306,
          56.30458585858586,
          59.47880330123796,
          57.07914359861592,
          59.22616652926628,
          56.42186579378069,
          58.841526402640255,
          57.89574450772986,
          59.644681778552744,
          58.40849832214764,
          58.562438825448616,
          58.16902928870293,
          56.971123966942145,
          58.293246753246756,
          57.257835570469794,
          58.001911057692304,
          58.285287216828486,
          58.0749895876718,
          57.539581572273875,
          57.44982700421941,
          56.71128593040848,
          58.87648764769066,
          58.93071428571429,
          58.30848173515982,
          58.12468852459016,
          56.087543859649124,
          54.585146898803046,
          55.59444444444445,
          59.84446270543616,
          58.12641430948419,
          58.555738362760835,
          57.635225653206646,
          60.5502107925801,
          57.68060131795717,
          61.31635483870968,
          58.37927826086956,
          57.155616554054056,
          57.78435768261964,
          58.9416792611251,
          55.74611556982344,
          58.47500856164383,
          56.78971525423729,
          58.65319205298014,
          58.857141931302664,
          58.50854952076678,
          57.112035040431266,
          57.23561238223418,
          57.926286293045244,
          56.66689058171745,
          56.576215301286396,
          58.1267784765898,
          58.94951170568562,
          56.630477839335185,
          59.223415584415584,
          59.49745976207137,
          56.37933587786259,
          58.19158567774936,
          57.763540425531914,
          57.41394979079498,
          56.05946353730092,
          60.50295918367347,
          57.55492424242424,
          57.9097124600639,
          59.08804777594728,
          56.82083598726115,
          56.921521739130434,
          60.502491610738254,
          58.45047704770477,
          56.60683284457478,
          57.77722636815921,
          57.875614536545534,
          57.319485263594856,
          57.10415417558887
         ],
         "yaxis": "y7"
        },
        {
         "hovertemplate": "is_fraud=0<br>category=kids_pets<br>transaction_time=%{x}<br>amount(usd)=%{y}<extra></extra>",
         "legendgroup": "0",
         "marker": {
          "color": "#61E50F",
          "symbol": "circle"
         },
         "mode": "markers",
         "name": "0",
         "showlegend": false,
         "type": "scattergl",
         "x": [
          "2019-01-06T00:00:00",
          "2019-01-13T00:00:00",
          "2019-01-20T00:00:00",
          "2019-01-27T00:00:00",
          "2019-02-03T00:00:00",
          "2019-02-10T00:00:00",
          "2019-02-17T00:00:00",
          "2019-02-24T00:00:00",
          "2019-03-03T00:00:00",
          "2019-03-10T00:00:00",
          "2019-03-17T00:00:00",
          "2019-03-24T00:00:00",
          "2019-03-31T00:00:00",
          "2019-04-07T00:00:00",
          "2019-04-14T00:00:00",
          "2019-04-21T00:00:00",
          "2019-04-28T00:00:00",
          "2019-05-05T00:00:00",
          "2019-05-12T00:00:00",
          "2019-05-19T00:00:00",
          "2019-05-26T00:00:00",
          "2019-06-02T00:00:00",
          "2019-06-09T00:00:00",
          "2019-06-16T00:00:00",
          "2019-06-23T00:00:00",
          "2019-06-30T00:00:00",
          "2019-07-07T00:00:00",
          "2019-07-14T00:00:00",
          "2019-07-21T00:00:00",
          "2019-07-28T00:00:00",
          "2019-08-04T00:00:00",
          "2019-08-11T00:00:00",
          "2019-08-18T00:00:00",
          "2019-08-25T00:00:00",
          "2019-09-01T00:00:00",
          "2019-09-08T00:00:00",
          "2019-09-15T00:00:00",
          "2019-09-22T00:00:00",
          "2019-09-29T00:00:00",
          "2019-10-06T00:00:00",
          "2019-10-13T00:00:00",
          "2019-10-20T00:00:00",
          "2019-10-27T00:00:00",
          "2019-11-03T00:00:00",
          "2019-11-10T00:00:00",
          "2019-11-17T00:00:00",
          "2019-11-24T00:00:00",
          "2019-12-01T00:00:00",
          "2019-12-08T00:00:00",
          "2019-12-15T00:00:00",
          "2019-12-22T00:00:00",
          "2019-12-29T00:00:00",
          "2020-01-05T00:00:00",
          "2020-01-12T00:00:00",
          "2020-01-19T00:00:00",
          "2020-01-26T00:00:00",
          "2020-02-02T00:00:00",
          "2020-02-09T00:00:00",
          "2020-02-16T00:00:00",
          "2020-02-23T00:00:00",
          "2020-03-01T00:00:00",
          "2020-03-08T00:00:00",
          "2020-03-15T00:00:00",
          "2020-03-22T00:00:00",
          "2020-03-29T00:00:00",
          "2020-04-05T00:00:00",
          "2020-04-12T00:00:00",
          "2020-04-19T00:00:00",
          "2020-04-26T00:00:00",
          "2020-05-03T00:00:00",
          "2020-05-10T00:00:00",
          "2020-05-17T00:00:00",
          "2020-05-24T00:00:00",
          "2020-05-31T00:00:00",
          "2020-06-07T00:00:00",
          "2020-06-14T00:00:00",
          "2020-06-21T00:00:00",
          "2020-06-28T00:00:00",
          "2020-07-05T00:00:00",
          "2020-07-12T00:00:00",
          "2020-07-19T00:00:00",
          "2020-07-26T00:00:00",
          "2020-08-02T00:00:00",
          "2020-08-09T00:00:00",
          "2020-08-16T00:00:00",
          "2020-08-23T00:00:00",
          "2020-08-30T00:00:00",
          "2020-09-06T00:00:00",
          "2020-09-13T00:00:00",
          "2020-09-20T00:00:00",
          "2020-09-27T00:00:00",
          "2020-10-04T00:00:00",
          "2020-10-11T00:00:00",
          "2020-10-18T00:00:00",
          "2020-10-25T00:00:00",
          "2020-11-01T00:00:00",
          "2020-11-08T00:00:00",
          "2020-11-15T00:00:00",
          "2020-11-22T00:00:00",
          "2020-11-29T00:00:00",
          "2020-12-06T00:00:00",
          "2020-12-13T00:00:00",
          "2020-12-20T00:00:00",
          "2020-12-27T00:00:00",
          "2021-01-03T00:00:00"
         ],
         "xaxis": "x8",
         "y": [
          55.767711213517664,
          56.73431818181818,
          57.57070818070819,
          55.57822800495663,
          56.16787769784173,
          61.55334167709638,
          57.785501770956316,
          58.32405917159763,
          56.26131625441696,
          58.746003649635036,
          57.20163147792706,
          57.329,
          57.224591368227735,
          56.16162911611785,
          59.390120259019426,
          58.936657608695654,
          57.602264995523726,
          57.256948529411765,
          55.54438746438746,
          57.16691829484902,
          58.04055421686748,
          54.604344086021506,
          60.39350915750916,
          56.3378201438849,
          58.188473954512105,
          57.79215917464997,
          58.594352441613594,
          57.32711278195489,
          56.085274170274175,
          58.85912698412698,
          56.54421167883212,
          58.83976961843053,
          55.53762776506484,
          57.021632508833925,
          58.726449534717254,
          56.53279653679653,
          58.61779291553134,
          58.61524324324324,
          56.696072088724584,
          59.26715677590788,
          59.105466063348416,
          55.9514259763851,
          57.16182608695652,
          58.45076198630137,
          55.57297577854671,
          60.317676311030745,
          56.485593376264944,
          60.51565860215054,
          59.45094262295082,
          57.508247903075485,
          56.73032490974729,
          57.91178621659634,
          57.1728968903437,
          57.40375288683603,
          59.10318292682927,
          56.343557814485386,
          59.05571087216248,
          55.2370595382746,
          54.05231515151515,
          58.470268065268066,
          56.87321479374111,
          57.27599824098505,
          55.917068965517245,
          59.15817263544536,
          57.289545454545454,
          59.930036003600364,
          55.39733928571428,
          56.88272474513438,
          58.08182395644283,
          59.756024626209324,
          56.667255605381165,
          57.17502206531333,
          59.74000000000001,
          57.770477590007346,
          58.37890726096333,
          57.742256482130344,
          58.270346607669616,
          59.61411432604093,
          56.4735976928623,
          57.0139942938659,
          59.89785917496444,
          57.82756578947369,
          57.68018142235123,
          54.37413916786227,
          59.55187319884726,
          57.42045293701345,
          58.78059238363893,
          60.44335236541599,
          57.96388123924268,
          57.616379460400346,
          60.71378774016468,
          58.95036264732548,
          56.02689435336976,
          58.08494680851064,
          54.787994428969355,
          57.3466477809254,
          58.11660460992908,
          57.54075850043592,
          56.94202296819788,
          56.376993583868014,
          56.01894689468947,
          56.99927915518824,
          58.23976148409894,
          57.168990362551625,
          58.99258288357749
         ],
         "yaxis": "y8"
        },
        {
         "hovertemplate": "is_fraud=0<br>category=misc_net<br>transaction_time=%{x}<br>amount(usd)=%{y}<extra></extra>",
         "legendgroup": "0",
         "marker": {
          "color": "#61E50F",
          "symbol": "circle"
         },
         "mode": "markers",
         "name": "0",
         "showlegend": false,
         "type": "scattergl",
         "x": [
          "2019-01-06T00:00:00",
          "2019-01-13T00:00:00",
          "2019-01-20T00:00:00",
          "2019-01-27T00:00:00",
          "2019-02-03T00:00:00",
          "2019-02-10T00:00:00",
          "2019-02-17T00:00:00",
          "2019-02-24T00:00:00",
          "2019-03-03T00:00:00",
          "2019-03-10T00:00:00",
          "2019-03-17T00:00:00",
          "2019-03-24T00:00:00",
          "2019-03-31T00:00:00",
          "2019-04-07T00:00:00",
          "2019-04-14T00:00:00",
          "2019-04-21T00:00:00",
          "2019-04-28T00:00:00",
          "2019-05-05T00:00:00",
          "2019-05-12T00:00:00",
          "2019-05-19T00:00:00",
          "2019-05-26T00:00:00",
          "2019-06-02T00:00:00",
          "2019-06-09T00:00:00",
          "2019-06-16T00:00:00",
          "2019-06-23T00:00:00",
          "2019-06-30T00:00:00",
          "2019-07-07T00:00:00",
          "2019-07-14T00:00:00",
          "2019-07-21T00:00:00",
          "2019-07-28T00:00:00",
          "2019-08-04T00:00:00",
          "2019-08-11T00:00:00",
          "2019-08-18T00:00:00",
          "2019-08-25T00:00:00",
          "2019-09-01T00:00:00",
          "2019-09-08T00:00:00",
          "2019-09-15T00:00:00",
          "2019-09-22T00:00:00",
          "2019-09-29T00:00:00",
          "2019-10-06T00:00:00",
          "2019-10-13T00:00:00",
          "2019-10-20T00:00:00",
          "2019-10-27T00:00:00",
          "2019-11-03T00:00:00",
          "2019-11-10T00:00:00",
          "2019-11-17T00:00:00",
          "2019-11-24T00:00:00",
          "2019-12-01T00:00:00",
          "2019-12-08T00:00:00",
          "2019-12-15T00:00:00",
          "2019-12-22T00:00:00",
          "2019-12-29T00:00:00",
          "2020-01-05T00:00:00",
          "2020-01-12T00:00:00",
          "2020-01-19T00:00:00",
          "2020-01-26T00:00:00",
          "2020-02-02T00:00:00",
          "2020-02-09T00:00:00",
          "2020-02-16T00:00:00",
          "2020-02-23T00:00:00",
          "2020-03-01T00:00:00",
          "2020-03-08T00:00:00",
          "2020-03-15T00:00:00",
          "2020-03-22T00:00:00",
          "2020-03-29T00:00:00",
          "2020-04-05T00:00:00",
          "2020-04-12T00:00:00",
          "2020-04-19T00:00:00",
          "2020-04-26T00:00:00",
          "2020-05-03T00:00:00",
          "2020-05-10T00:00:00",
          "2020-05-17T00:00:00",
          "2020-05-24T00:00:00",
          "2020-05-31T00:00:00",
          "2020-06-07T00:00:00",
          "2020-06-14T00:00:00",
          "2020-06-21T00:00:00",
          "2020-06-28T00:00:00",
          "2020-07-05T00:00:00",
          "2020-07-12T00:00:00",
          "2020-07-19T00:00:00",
          "2020-07-26T00:00:00",
          "2020-08-02T00:00:00",
          "2020-08-09T00:00:00",
          "2020-08-16T00:00:00",
          "2020-08-23T00:00:00",
          "2020-08-30T00:00:00",
          "2020-09-06T00:00:00",
          "2020-09-13T00:00:00",
          "2020-09-20T00:00:00",
          "2020-09-27T00:00:00",
          "2020-10-04T00:00:00",
          "2020-10-11T00:00:00",
          "2020-10-18T00:00:00",
          "2020-10-25T00:00:00",
          "2020-11-01T00:00:00",
          "2020-11-08T00:00:00",
          "2020-11-15T00:00:00",
          "2020-11-22T00:00:00",
          "2020-11-29T00:00:00",
          "2020-12-06T00:00:00",
          "2020-12-13T00:00:00",
          "2020-12-20T00:00:00",
          "2020-12-27T00:00:00",
          "2021-01-03T00:00:00"
         ],
         "xaxis": "x9",
         "y": [
          79.15865139949109,
          70.49417355371901,
          61.17377358490566,
          71.27772727272726,
          71.22178571428572,
          60.680623700623705,
          61.91929061784897,
          66.75007407407408,
          77.56415711947626,
          72.60439597315437,
          69.99087912087913,
          64.6382303839733,
          75.70957654723126,
          76.41745362563238,
          60.639419568822554,
          75.45280730897011,
          70.05167521367522,
          70.77864774624375,
          71.91317195325543,
          64.91388254486134,
          68.6873127753304,
          79.80768041237114,
          79.8453470437018,
          76.2551222826087,
          68.80074626865672,
          68.16009162303665,
          71.01037184594954,
          79.01748041775457,
          70.90185185185186,
          70.83955645161289,
          59.24392950391645,
          71.21911027568922,
          72.89339646464646,
          68.08740076824584,
          69.09676431424766,
          72.36372239747634,
          79.29517482517483,
          57.723231441048036,
          61.273390705679866,
          60.54385852090032,
          69.97367380560131,
          77.1340722495895,
          64.87155668358713,
          76.1896572280179,
          80.61967320261438,
          69.25240574506283,
          77.23411359724612,
          63.65377049180328,
          66.19069478908189,
          70.53689595872743,
          73.3293023255814,
          70.00608695652174,
          71.28692068429238,
          76.22068817204301,
          74.36275330396477,
          85.82870897155361,
          73.59067391304347,
          68.03473563218391,
          72.52752783964365,
          78.01311158798283,
          61.418737623762375,
          74.9923344370861,
          67.31883333333334,
          61.86292358803987,
          81.31706840390879,
          63.99271860095389,
          76.89132165605096,
          74.95960413080894,
          83.35591133004927,
          68.15443521594685,
          65.13196850393702,
          68.35634493670887,
          66.98164424514201,
          78.58450534759358,
          61.502168087697925,
          69.92384188626907,
          67.04351213282247,
          73.93649167733675,
          67.06354752342705,
          73.09202937249667,
          61.71911054637866,
          71.6404980842912,
          75.78764629388817,
          77.72713574097136,
          72.85219251336899,
          78.65445178335534,
          67.69530848329049,
          62.089773049645395,
          65.92675968992248,
          62.95423588039866,
          79.15708141321045,
          65.38667774086379,
          74.54920634920634,
          76.85870528109028,
          75.7636936936937,
          64.76572496263078,
          78.09960725075528,
          70.74458074534162,
          66.57672051696284,
          76.76726550079492,
          69.34492442322991,
          69.94447199999999,
          73.734584,
          77.29145513338723,
          82.20205633802817
         ],
         "yaxis": "y9"
        },
        {
         "hovertemplate": "is_fraud=0<br>category=misc_pos<br>transaction_time=%{x}<br>amount(usd)=%{y}<extra></extra>",
         "legendgroup": "0",
         "marker": {
          "color": "#61E50F",
          "symbol": "circle"
         },
         "mode": "markers",
         "name": "0",
         "showlegend": false,
         "type": "scattergl",
         "x": [
          "2019-01-06T00:00:00",
          "2019-01-13T00:00:00",
          "2019-01-20T00:00:00",
          "2019-01-27T00:00:00",
          "2019-02-03T00:00:00",
          "2019-02-10T00:00:00",
          "2019-02-17T00:00:00",
          "2019-02-24T00:00:00",
          "2019-03-03T00:00:00",
          "2019-03-10T00:00:00",
          "2019-03-17T00:00:00",
          "2019-03-24T00:00:00",
          "2019-03-31T00:00:00",
          "2019-04-07T00:00:00",
          "2019-04-14T00:00:00",
          "2019-04-21T00:00:00",
          "2019-04-28T00:00:00",
          "2019-05-05T00:00:00",
          "2019-05-12T00:00:00",
          "2019-05-19T00:00:00",
          "2019-05-26T00:00:00",
          "2019-06-02T00:00:00",
          "2019-06-09T00:00:00",
          "2019-06-16T00:00:00",
          "2019-06-23T00:00:00",
          "2019-06-30T00:00:00",
          "2019-07-07T00:00:00",
          "2019-07-14T00:00:00",
          "2019-07-21T00:00:00",
          "2019-07-28T00:00:00",
          "2019-08-04T00:00:00",
          "2019-08-11T00:00:00",
          "2019-08-18T00:00:00",
          "2019-08-25T00:00:00",
          "2019-09-01T00:00:00",
          "2019-09-08T00:00:00",
          "2019-09-15T00:00:00",
          "2019-09-22T00:00:00",
          "2019-09-29T00:00:00",
          "2019-10-06T00:00:00",
          "2019-10-13T00:00:00",
          "2019-10-20T00:00:00",
          "2019-10-27T00:00:00",
          "2019-11-03T00:00:00",
          "2019-11-10T00:00:00",
          "2019-11-17T00:00:00",
          "2019-11-24T00:00:00",
          "2019-12-01T00:00:00",
          "2019-12-08T00:00:00",
          "2019-12-15T00:00:00",
          "2019-12-22T00:00:00",
          "2019-12-29T00:00:00",
          "2020-01-05T00:00:00",
          "2020-01-12T00:00:00",
          "2020-01-19T00:00:00",
          "2020-01-26T00:00:00",
          "2020-02-02T00:00:00",
          "2020-02-09T00:00:00",
          "2020-02-16T00:00:00",
          "2020-02-23T00:00:00",
          "2020-03-01T00:00:00",
          "2020-03-08T00:00:00",
          "2020-03-15T00:00:00",
          "2020-03-22T00:00:00",
          "2020-03-29T00:00:00",
          "2020-04-05T00:00:00",
          "2020-04-12T00:00:00",
          "2020-04-19T00:00:00",
          "2020-04-26T00:00:00",
          "2020-05-03T00:00:00",
          "2020-05-10T00:00:00",
          "2020-05-17T00:00:00",
          "2020-05-24T00:00:00",
          "2020-05-31T00:00:00",
          "2020-06-07T00:00:00",
          "2020-06-14T00:00:00",
          "2020-06-21T00:00:00",
          "2020-06-28T00:00:00",
          "2020-07-05T00:00:00",
          "2020-07-12T00:00:00",
          "2020-07-19T00:00:00",
          "2020-07-26T00:00:00",
          "2020-08-02T00:00:00",
          "2020-08-09T00:00:00",
          "2020-08-16T00:00:00",
          "2020-08-23T00:00:00",
          "2020-08-30T00:00:00",
          "2020-09-06T00:00:00",
          "2020-09-13T00:00:00",
          "2020-09-20T00:00:00",
          "2020-09-27T00:00:00",
          "2020-10-04T00:00:00",
          "2020-10-11T00:00:00",
          "2020-10-18T00:00:00",
          "2020-10-25T00:00:00",
          "2020-11-01T00:00:00",
          "2020-11-08T00:00:00",
          "2020-11-15T00:00:00",
          "2020-11-22T00:00:00",
          "2020-11-29T00:00:00",
          "2020-12-06T00:00:00",
          "2020-12-13T00:00:00",
          "2020-12-20T00:00:00",
          "2020-12-27T00:00:00",
          "2021-01-03T00:00:00"
         ],
         "xaxis": "x4",
         "y": [
          57.40576190476191,
          58.01110915492957,
          54.55219015280136,
          49.661353251318104,
          61.828154093097915,
          65.72001766784452,
          69.4373611111111,
          54.02370175438596,
          58.77388888888889,
          72.96722147651008,
          57.91769333333333,
          55.30066137566138,
          63.31274007682458,
          58.24189432989691,
          57.19311914323963,
          59.42122830440587,
          60.80962962962963,
          57.826261319534275,
          60.362317708333336,
          61.59621968616262,
          64.56391451068616,
          56.15696842105263,
          67.57965,
          66.20958890030832,
          67.30939759036146,
          64.52350557244174,
          66.34855087358685,
          58.06819214876033,
          68.00813684210526,
          64.50075491209928,
          64.96502895752896,
          60.90627490039841,
          62.42925702811245,
          64.68711702127659,
          62.52668012108981,
          60.10644025157233,
          61.86234159779614,
          58.38252830188679,
          59.28183098591549,
          63.950880420499345,
          57.87097051597052,
          60.27613520408163,
          64.0838940397351,
          60.0677034120735,
          65.07165636588381,
          68.73697156983931,
          64.64194409148666,
          64.507064721969,
          70.49218228498074,
          70.4072606214331,
          58.55265241986172,
          51.92912123155869,
          67.75347457627119,
          74.06584843492587,
          61.376956521739125,
          61.631979865771804,
          55.69794520547945,
          58.85508710801394,
          59.80065546218487,
          57.398085106382986,
          68.31470833333333,
          60.30136423841059,
          71.647987012987,
          55.427674418604646,
          64.05858854860186,
          60.89003764115433,
          56.36764705882353,
          61.62038309114927,
          67.75316883116884,
          68.42599735799207,
          60.51127222982216,
          57.57794676806083,
          58.087941176470586,
          58.17,
          63.04044395116537,
          69.32398109243697,
          63.55607028753994,
          66.9469253438114,
          62.46788441692466,
          63.67800975609756,
          74.62977777777778,
          61.06964503042596,
          57.24021604938272,
          65.3216224814422,
          55.69887755102041,
          55.4508137254902,
          52.767799801783944,
          61.89960427807486,
          59.017758620689655,
          69.48834326579261,
          60.28965006729475,
          55.12680628272251,
          67.525546875,
          65.21877370417194,
          58.150655737704916,
          66.70365058670143,
          69.95813863928113,
          66.96710526315789,
          57.909669749009254,
          63.80378746594006,
          56.34121383647798,
          59.78291318327974,
          71.53916666666666,
          62.372824189526185,
          60.129583333333336
         ],
         "yaxis": "y4"
        },
        {
         "hovertemplate": "is_fraud=0<br>category=personal_care<br>transaction_time=%{x}<br>amount(usd)=%{y}<extra></extra>",
         "legendgroup": "0",
         "marker": {
          "color": "#61E50F",
          "symbol": "circle"
         },
         "mode": "markers",
         "name": "0",
         "showlegend": false,
         "type": "scattergl",
         "x": [
          "2019-01-06T00:00:00",
          "2019-01-13T00:00:00",
          "2019-01-20T00:00:00",
          "2019-01-27T00:00:00",
          "2019-02-03T00:00:00",
          "2019-02-10T00:00:00",
          "2019-02-17T00:00:00",
          "2019-02-24T00:00:00",
          "2019-03-03T00:00:00",
          "2019-03-10T00:00:00",
          "2019-03-17T00:00:00",
          "2019-03-24T00:00:00",
          "2019-03-31T00:00:00",
          "2019-04-07T00:00:00",
          "2019-04-14T00:00:00",
          "2019-04-21T00:00:00",
          "2019-04-28T00:00:00",
          "2019-05-05T00:00:00",
          "2019-05-12T00:00:00",
          "2019-05-19T00:00:00",
          "2019-05-26T00:00:00",
          "2019-06-02T00:00:00",
          "2019-06-09T00:00:00",
          "2019-06-16T00:00:00",
          "2019-06-23T00:00:00",
          "2019-06-30T00:00:00",
          "2019-07-07T00:00:00",
          "2019-07-14T00:00:00",
          "2019-07-21T00:00:00",
          "2019-07-28T00:00:00",
          "2019-08-04T00:00:00",
          "2019-08-11T00:00:00",
          "2019-08-18T00:00:00",
          "2019-08-25T00:00:00",
          "2019-09-01T00:00:00",
          "2019-09-08T00:00:00",
          "2019-09-15T00:00:00",
          "2019-09-22T00:00:00",
          "2019-09-29T00:00:00",
          "2019-10-06T00:00:00",
          "2019-10-13T00:00:00",
          "2019-10-20T00:00:00",
          "2019-10-27T00:00:00",
          "2019-11-03T00:00:00",
          "2019-11-10T00:00:00",
          "2019-11-17T00:00:00",
          "2019-11-24T00:00:00",
          "2019-12-01T00:00:00",
          "2019-12-08T00:00:00",
          "2019-12-15T00:00:00",
          "2019-12-22T00:00:00",
          "2019-12-29T00:00:00",
          "2020-01-05T00:00:00",
          "2020-01-12T00:00:00",
          "2020-01-19T00:00:00",
          "2020-01-26T00:00:00",
          "2020-02-02T00:00:00",
          "2020-02-09T00:00:00",
          "2020-02-16T00:00:00",
          "2020-02-23T00:00:00",
          "2020-03-01T00:00:00",
          "2020-03-08T00:00:00",
          "2020-03-15T00:00:00",
          "2020-03-22T00:00:00",
          "2020-03-29T00:00:00",
          "2020-04-05T00:00:00",
          "2020-04-12T00:00:00",
          "2020-04-19T00:00:00",
          "2020-04-26T00:00:00",
          "2020-05-03T00:00:00",
          "2020-05-10T00:00:00",
          "2020-05-17T00:00:00",
          "2020-05-24T00:00:00",
          "2020-05-31T00:00:00",
          "2020-06-07T00:00:00",
          "2020-06-14T00:00:00",
          "2020-06-21T00:00:00",
          "2020-06-28T00:00:00",
          "2020-07-05T00:00:00",
          "2020-07-12T00:00:00",
          "2020-07-19T00:00:00",
          "2020-07-26T00:00:00",
          "2020-08-02T00:00:00",
          "2020-08-09T00:00:00",
          "2020-08-16T00:00:00",
          "2020-08-23T00:00:00",
          "2020-08-30T00:00:00",
          "2020-09-06T00:00:00",
          "2020-09-13T00:00:00",
          "2020-09-20T00:00:00",
          "2020-09-27T00:00:00",
          "2020-10-04T00:00:00",
          "2020-10-11T00:00:00",
          "2020-10-18T00:00:00",
          "2020-10-25T00:00:00",
          "2020-11-01T00:00:00",
          "2020-11-08T00:00:00",
          "2020-11-15T00:00:00",
          "2020-11-22T00:00:00",
          "2020-11-29T00:00:00",
          "2020-12-06T00:00:00",
          "2020-12-13T00:00:00",
          "2020-12-20T00:00:00",
          "2020-12-27T00:00:00",
          "2021-01-03T00:00:00"
         ],
         "xaxis": "x5",
         "y": [
          48.48460616438356,
          49.42075667655786,
          46.8126158445441,
          47.60575402635432,
          48.14333333333334,
          48.80639751552795,
          50.20861027190332,
          50.5462100456621,
          48.070553709856036,
          48.103228803716604,
          45.99290058479532,
          43.4500695249131,
          49.88525423728813,
          49.0336716077537,
          47.240166112956814,
          49.56740909090909,
          48.675448504983386,
          46.58113738738739,
          51.125395763656634,
          50.551612515042116,
          48.00619335347432,
          46.24879629629629,
          46.634655021834064,
          47.36704324801412,
          46.74436952714536,
          47.95059099437148,
          45.27423592493298,
          48.205156537753226,
          49.29317290552585,
          46.71005347593583,
          45.09178832116788,
          47.82313167259786,
          45.86848594741614,
          52.15324817518248,
          50.14079439252337,
          49.86417486338798,
          46.18874732334047,
          48.32301354401806,
          48.41348351648351,
          48.27821782178218,
          43.42556069364162,
          50.28128923766817,
          48.79483695652174,
          49.03198156682028,
          45.043935185185184,
          50.057913832199546,
          46.901701199563796,
          47.73738095238095,
          47.3691235059761,
          49.94463568559954,
          47.0097203196347,
          47.155460526315785,
          48.62198170731707,
          50.35791788856305,
          49.15141043723554,
          51.57807631160573,
          49.48509259259259,
          46.189781976744186,
          47.69226244343891,
          48.21453996983409,
          47.52800681431005,
          49.6420645905421,
          48.98601351351351,
          47.69804134929271,
          46.04243930635838,
          47.172290249433104,
          45.58784633294528,
          48.83055681818182,
          45.280220417633416,
          51.22680288461538,
          48.624809688581315,
          47.004009163802976,
          48.14045258620689,
          47.146247689463955,
          50.049546599496225,
          47.447666963490654,
          46.3946927871772,
          47.64218918918919,
          49.62615384615385,
          48.300593886462885,
          49.910452127659575,
          47.75447004608295,
          49.35895547945206,
          49.06461471103328,
          48.38833038869257,
          47.8889590747331,
          50.45506012950971,
          47.665335463258785,
          51.89112920738328,
          48.26186307519641,
          46.53645496535797,
          47.17744444444444,
          46.56767045454546,
          47.78995703544575,
          48.339750283768446,
          50.075047619047616,
          48.99943521594684,
          46.8962486602358,
          48.513297491039424,
          46.18791713325868,
          47.654862183020946,
          48.99917225950783,
          47.253554046406336,
          48.63780984719864,
          48.366888111888116
         ],
         "yaxis": "y5"
        },
        {
         "hovertemplate": "is_fraud=0<br>category=shopping_net<br>transaction_time=%{x}<br>amount(usd)=%{y}<extra></extra>",
         "legendgroup": "0",
         "marker": {
          "color": "#61E50F",
          "symbol": "circle"
         },
         "mode": "markers",
         "name": "0",
         "showlegend": false,
         "type": "scattergl",
         "x": [
          "2019-01-06T00:00:00",
          "2019-01-13T00:00:00",
          "2019-01-20T00:00:00",
          "2019-01-27T00:00:00",
          "2019-02-03T00:00:00",
          "2019-02-10T00:00:00",
          "2019-02-17T00:00:00",
          "2019-02-24T00:00:00",
          "2019-03-03T00:00:00",
          "2019-03-10T00:00:00",
          "2019-03-17T00:00:00",
          "2019-03-24T00:00:00",
          "2019-03-31T00:00:00",
          "2019-04-07T00:00:00",
          "2019-04-14T00:00:00",
          "2019-04-21T00:00:00",
          "2019-04-28T00:00:00",
          "2019-05-05T00:00:00",
          "2019-05-12T00:00:00",
          "2019-05-19T00:00:00",
          "2019-05-26T00:00:00",
          "2019-06-02T00:00:00",
          "2019-06-09T00:00:00",
          "2019-06-16T00:00:00",
          "2019-06-23T00:00:00",
          "2019-06-30T00:00:00",
          "2019-07-07T00:00:00",
          "2019-07-14T00:00:00",
          "2019-07-21T00:00:00",
          "2019-07-28T00:00:00",
          "2019-08-04T00:00:00",
          "2019-08-11T00:00:00",
          "2019-08-18T00:00:00",
          "2019-08-25T00:00:00",
          "2019-09-01T00:00:00",
          "2019-09-08T00:00:00",
          "2019-09-15T00:00:00",
          "2019-09-22T00:00:00",
          "2019-09-29T00:00:00",
          "2019-10-06T00:00:00",
          "2019-10-13T00:00:00",
          "2019-10-20T00:00:00",
          "2019-10-27T00:00:00",
          "2019-11-03T00:00:00",
          "2019-11-10T00:00:00",
          "2019-11-17T00:00:00",
          "2019-11-24T00:00:00",
          "2019-12-01T00:00:00",
          "2019-12-08T00:00:00",
          "2019-12-15T00:00:00",
          "2019-12-22T00:00:00",
          "2019-12-29T00:00:00",
          "2020-01-05T00:00:00",
          "2020-01-12T00:00:00",
          "2020-01-19T00:00:00",
          "2020-01-26T00:00:00",
          "2020-02-02T00:00:00",
          "2020-02-09T00:00:00",
          "2020-02-16T00:00:00",
          "2020-02-23T00:00:00",
          "2020-03-01T00:00:00",
          "2020-03-08T00:00:00",
          "2020-03-15T00:00:00",
          "2020-03-22T00:00:00",
          "2020-03-29T00:00:00",
          "2020-04-05T00:00:00",
          "2020-04-12T00:00:00",
          "2020-04-19T00:00:00",
          "2020-04-26T00:00:00",
          "2020-05-03T00:00:00",
          "2020-05-10T00:00:00",
          "2020-05-17T00:00:00",
          "2020-05-24T00:00:00",
          "2020-05-31T00:00:00",
          "2020-06-07T00:00:00",
          "2020-06-14T00:00:00",
          "2020-06-21T00:00:00",
          "2020-06-28T00:00:00",
          "2020-07-05T00:00:00",
          "2020-07-12T00:00:00",
          "2020-07-19T00:00:00",
          "2020-07-26T00:00:00",
          "2020-08-02T00:00:00",
          "2020-08-09T00:00:00",
          "2020-08-16T00:00:00",
          "2020-08-23T00:00:00",
          "2020-08-30T00:00:00",
          "2020-09-06T00:00:00",
          "2020-09-13T00:00:00",
          "2020-09-20T00:00:00",
          "2020-09-27T00:00:00",
          "2020-10-04T00:00:00",
          "2020-10-11T00:00:00",
          "2020-10-18T00:00:00",
          "2020-10-25T00:00:00",
          "2020-11-01T00:00:00",
          "2020-11-08T00:00:00",
          "2020-11-15T00:00:00",
          "2020-11-22T00:00:00",
          "2020-11-29T00:00:00",
          "2020-12-06T00:00:00",
          "2020-12-13T00:00:00",
          "2020-12-20T00:00:00",
          "2020-12-27T00:00:00",
          "2021-01-03T00:00:00"
         ],
         "xaxis": "x6",
         "y": [
          79.42927209705373,
          70.61288461538462,
          83.11410329985652,
          73.72140472878999,
          82.95407202216066,
          68.80399449035812,
          81.13663817663817,
          65.69184523809524,
          63.47141187925998,
          79.1683366935484,
          62.42037115588547,
          67.3561952191235,
          73.295,
          63.77664451827242,
          55.73832271762208,
          68.46372486772486,
          72.31125820568928,
          74.82033226152197,
          78.42126050420167,
          64.85960638297873,
          84.87840621963072,
          72.3492535971223,
          66.46855345911949,
          80.36530386740331,
          78.26669505962522,
          80.86768609865472,
          72.80749999999999,
          82.79625,
          72.50103448275861,
          72.89760888129804,
          72.12468778280542,
          69.27813148788928,
          71.97847899159663,
          69.73486005089057,
          66.5439244951712,
          83.59787974683543,
          58.963547008547,
          82.50714285714285,
          74.6426638917794,
          71.0286036036036,
          64.86394655704008,
          81.01288317256163,
          69.537792746114,
          68.94490586932447,
          63.504869655891554,
          69.96014629049112,
          56.484927536231886,
          73.349464,
          74.63574142480212,
          72.22790331056228,
          77.49754405286345,
          66.39305745914602,
          73.84756859035005,
          89.40291666666667,
          80.4290081521739,
          61.48175757575758,
          65.58356368563686,
          68.1091903409091,
          73.0946348733234,
          71.93585227272727,
          64.42858620689655,
          66.71963599595551,
          59.40535123966942,
          70.97574786324786,
          64.6273055859803,
          71.57574054054054,
          70.74870689655172,
          70.18839958158996,
          82.18019648397105,
          72.91438127090301,
          78.62487093153759,
          65.02582846003898,
          72.82164893617022,
          66.90283898305086,
          67.08786926994907,
          68.89240170940171,
          72.42076858813701,
          74.06649006622517,
          74.18600164203613,
          75.63144101346,
          70.99306282722513,
          69.4988265746333,
          77.68353090601185,
          75.7539446366782,
          76.58147386461012,
          80.12489966555184,
          67.79361373390557,
          76.48532402791625,
          75.25470905172413,
          81.3938888888889,
          68.27962588473206,
          74.71926167209556,
          63.528592283628775,
          75.36832618025751,
          76.08132620320855,
          79.56579004329004,
          67.09002176278564,
          63.71799783549783,
          64.30713646532439,
          67.3481708652793,
          73.10048663101604,
          64.6981543274244,
          80.3225,
          75.50965915338098,
          60.93030068728522
         ],
         "yaxis": "y6"
        },
        {
         "hovertemplate": "is_fraud=0<br>category=shopping_pos<br>transaction_time=%{x}<br>amount(usd)=%{y}<extra></extra>",
         "legendgroup": "0",
         "marker": {
          "color": "#61E50F",
          "symbol": "circle"
         },
         "mode": "markers",
         "name": "0",
         "showlegend": false,
         "type": "scattergl",
         "x": [
          "2019-01-06T00:00:00",
          "2019-01-13T00:00:00",
          "2019-01-20T00:00:00",
          "2019-01-27T00:00:00",
          "2019-02-03T00:00:00",
          "2019-02-10T00:00:00",
          "2019-02-17T00:00:00",
          "2019-02-24T00:00:00",
          "2019-03-03T00:00:00",
          "2019-03-10T00:00:00",
          "2019-03-17T00:00:00",
          "2019-03-24T00:00:00",
          "2019-03-31T00:00:00",
          "2019-04-07T00:00:00",
          "2019-04-14T00:00:00",
          "2019-04-21T00:00:00",
          "2019-04-28T00:00:00",
          "2019-05-05T00:00:00",
          "2019-05-12T00:00:00",
          "2019-05-19T00:00:00",
          "2019-05-26T00:00:00",
          "2019-06-02T00:00:00",
          "2019-06-09T00:00:00",
          "2019-06-16T00:00:00",
          "2019-06-23T00:00:00",
          "2019-06-30T00:00:00",
          "2019-07-07T00:00:00",
          "2019-07-14T00:00:00",
          "2019-07-21T00:00:00",
          "2019-07-28T00:00:00",
          "2019-08-04T00:00:00",
          "2019-08-11T00:00:00",
          "2019-08-18T00:00:00",
          "2019-08-25T00:00:00",
          "2019-09-01T00:00:00",
          "2019-09-08T00:00:00",
          "2019-09-15T00:00:00",
          "2019-09-22T00:00:00",
          "2019-09-29T00:00:00",
          "2019-10-06T00:00:00",
          "2019-10-13T00:00:00",
          "2019-10-20T00:00:00",
          "2019-10-27T00:00:00",
          "2019-11-03T00:00:00",
          "2019-11-10T00:00:00",
          "2019-11-17T00:00:00",
          "2019-11-24T00:00:00",
          "2019-12-01T00:00:00",
          "2019-12-08T00:00:00",
          "2019-12-15T00:00:00",
          "2019-12-22T00:00:00",
          "2019-12-29T00:00:00",
          "2020-01-05T00:00:00",
          "2020-01-12T00:00:00",
          "2020-01-19T00:00:00",
          "2020-01-26T00:00:00",
          "2020-02-02T00:00:00",
          "2020-02-09T00:00:00",
          "2020-02-16T00:00:00",
          "2020-02-23T00:00:00",
          "2020-03-01T00:00:00",
          "2020-03-08T00:00:00",
          "2020-03-15T00:00:00",
          "2020-03-22T00:00:00",
          "2020-03-29T00:00:00",
          "2020-04-05T00:00:00",
          "2020-04-12T00:00:00",
          "2020-04-19T00:00:00",
          "2020-04-26T00:00:00",
          "2020-05-03T00:00:00",
          "2020-05-10T00:00:00",
          "2020-05-17T00:00:00",
          "2020-05-24T00:00:00",
          "2020-05-31T00:00:00",
          "2020-06-07T00:00:00",
          "2020-06-14T00:00:00",
          "2020-06-21T00:00:00",
          "2020-06-28T00:00:00",
          "2020-07-05T00:00:00",
          "2020-07-12T00:00:00",
          "2020-07-19T00:00:00",
          "2020-07-26T00:00:00",
          "2020-08-02T00:00:00",
          "2020-08-09T00:00:00",
          "2020-08-16T00:00:00",
          "2020-08-23T00:00:00",
          "2020-08-30T00:00:00",
          "2020-09-06T00:00:00",
          "2020-09-13T00:00:00",
          "2020-09-20T00:00:00",
          "2020-09-27T00:00:00",
          "2020-10-04T00:00:00",
          "2020-10-11T00:00:00",
          "2020-10-18T00:00:00",
          "2020-10-25T00:00:00",
          "2020-11-01T00:00:00",
          "2020-11-08T00:00:00",
          "2020-11-15T00:00:00",
          "2020-11-22T00:00:00",
          "2020-11-29T00:00:00",
          "2020-12-06T00:00:00",
          "2020-12-13T00:00:00",
          "2020-12-20T00:00:00",
          "2020-12-27T00:00:00",
          "2021-01-03T00:00:00"
         ],
         "xaxis": "x",
         "y": [
          58.85139143730886,
          76.19881036513546,
          76.66617161716172,
          67.54891625615764,
          67.43126927639383,
          72.55520716685331,
          55.28823599523242,
          70.873813459268,
          71.77948428686543,
          73.5745895851721,
          77.31381301558203,
          62.1546102263202,
          62.845405651777575,
          72.85134733158355,
          66.35176199261993,
          64.42147005444647,
          69.2761270670148,
          77.89551094890511,
          72.77456993918332,
          82.30560975609755,
          71.56782679738562,
          65.31990832157969,
          62.91546296296296,
          86.05796622097114,
          77.36112573099416,
          91.09651395848246,
          68.10911330049261,
          58.64547249647391,
          76.00959741193387,
          67.88828135828135,
          67.73535131298793,
          67.38221914008322,
          73.63355099046221,
          78.63138888888888,
          73.89640027797081,
          77.17896729776248,
          69.35476024411508,
          83.36953262786596,
          74.48414700544464,
          65.8754094076655,
          72.19625320786997,
          77.65411247803164,
          71.16166519043402,
          78.87171708185053,
          81.27230699364215,
          77.85007414272474,
          72.36432156133829,
          81.09506501950585,
          74.91688935281837,
          78.6141810918775,
          78.86052320291174,
          82.06490072202166,
          69.3356234915527,
          76.0088622754491,
          73.15915477497256,
          67.87713950762016,
          66.95506682867557,
          76.72806020066889,
          67.52162817551962,
          65.35095563139932,
          82.59265200517464,
          89.80549822064057,
          82.70033419023136,
          85.11977880184332,
          74.04252717391304,
          73.96539019963703,
          65.0260413080895,
          71.34729202037352,
          68.82396325459317,
          88.28363148479428,
          74.03323012552302,
          73.14236889692586,
          64.04463768115941,
          76.96288904899136,
          68.61806034482758,
          92.54962025316456,
          80.14467896174864,
          68.96426015141087,
          82.67947604790419,
          73.6767766323024,
          71.61684135977337,
          59.81455114822547,
          83.96152332361517,
          68.47622614840989,
          74.92050969131371,
          69.50392211404728,
          68.1101229823213,
          76.78535657686211,
          79.05204326923077,
          68.21145869947276,
          77.12617481203007,
          68.710546875,
          69.35215775158657,
          75.38239999999999,
          87.59788858939802,
          77.76861429832303,
          71.37813226094728,
          73.40386989157632,
          75.98642545771578,
          74.31533452274755,
          78.64181368136813,
          76.50789701427954,
          71.60519247219847,
          66.68274332472006,
          76.30436285097191
         ],
         "yaxis": "y"
        },
        {
         "hovertemplate": "is_fraud=0<br>category=travel<br>transaction_time=%{x}<br>amount(usd)=%{y}<extra></extra>",
         "legendgroup": "0",
         "marker": {
          "color": "#61E50F",
          "symbol": "circle"
         },
         "mode": "markers",
         "name": "0",
         "showlegend": false,
         "type": "scattergl",
         "x": [
          "2019-01-06T00:00:00",
          "2019-01-13T00:00:00",
          "2019-01-20T00:00:00",
          "2019-01-27T00:00:00",
          "2019-02-03T00:00:00",
          "2019-02-10T00:00:00",
          "2019-02-17T00:00:00",
          "2019-02-24T00:00:00",
          "2019-03-03T00:00:00",
          "2019-03-10T00:00:00",
          "2019-03-17T00:00:00",
          "2019-03-24T00:00:00",
          "2019-03-31T00:00:00",
          "2019-04-07T00:00:00",
          "2019-04-14T00:00:00",
          "2019-04-21T00:00:00",
          "2019-04-28T00:00:00",
          "2019-05-05T00:00:00",
          "2019-05-12T00:00:00",
          "2019-05-19T00:00:00",
          "2019-05-26T00:00:00",
          "2019-06-02T00:00:00",
          "2019-06-09T00:00:00",
          "2019-06-16T00:00:00",
          "2019-06-23T00:00:00",
          "2019-06-30T00:00:00",
          "2019-07-07T00:00:00",
          "2019-07-14T00:00:00",
          "2019-07-21T00:00:00",
          "2019-07-28T00:00:00",
          "2019-08-04T00:00:00",
          "2019-08-11T00:00:00",
          "2019-08-18T00:00:00",
          "2019-08-25T00:00:00",
          "2019-09-01T00:00:00",
          "2019-09-08T00:00:00",
          "2019-09-15T00:00:00",
          "2019-09-22T00:00:00",
          "2019-09-29T00:00:00",
          "2019-10-06T00:00:00",
          "2019-10-13T00:00:00",
          "2019-10-20T00:00:00",
          "2019-10-27T00:00:00",
          "2019-11-03T00:00:00",
          "2019-11-10T00:00:00",
          "2019-11-17T00:00:00",
          "2019-11-24T00:00:00",
          "2019-12-01T00:00:00",
          "2019-12-08T00:00:00",
          "2019-12-15T00:00:00",
          "2019-12-22T00:00:00",
          "2019-12-29T00:00:00",
          "2020-01-05T00:00:00",
          "2020-01-12T00:00:00",
          "2020-01-19T00:00:00",
          "2020-01-26T00:00:00",
          "2020-02-02T00:00:00",
          "2020-02-09T00:00:00",
          "2020-02-16T00:00:00",
          "2020-02-23T00:00:00",
          "2020-03-01T00:00:00",
          "2020-03-08T00:00:00",
          "2020-03-15T00:00:00",
          "2020-03-22T00:00:00",
          "2020-03-29T00:00:00",
          "2020-04-05T00:00:00",
          "2020-04-12T00:00:00",
          "2020-04-19T00:00:00",
          "2020-04-26T00:00:00",
          "2020-05-03T00:00:00",
          "2020-05-10T00:00:00",
          "2020-05-17T00:00:00",
          "2020-05-24T00:00:00",
          "2020-05-31T00:00:00",
          "2020-06-07T00:00:00",
          "2020-06-14T00:00:00",
          "2020-06-21T00:00:00",
          "2020-06-28T00:00:00",
          "2020-07-05T00:00:00",
          "2020-07-12T00:00:00",
          "2020-07-19T00:00:00",
          "2020-07-26T00:00:00",
          "2020-08-02T00:00:00",
          "2020-08-09T00:00:00",
          "2020-08-16T00:00:00",
          "2020-08-23T00:00:00",
          "2020-08-30T00:00:00",
          "2020-09-06T00:00:00",
          "2020-09-13T00:00:00",
          "2020-09-20T00:00:00",
          "2020-09-27T00:00:00",
          "2020-10-04T00:00:00",
          "2020-10-11T00:00:00",
          "2020-10-18T00:00:00",
          "2020-10-25T00:00:00",
          "2020-11-01T00:00:00",
          "2020-11-08T00:00:00",
          "2020-11-15T00:00:00",
          "2020-11-22T00:00:00",
          "2020-11-29T00:00:00",
          "2020-12-06T00:00:00",
          "2020-12-13T00:00:00",
          "2020-12-20T00:00:00",
          "2020-12-27T00:00:00",
          "2021-01-03T00:00:00"
         ],
         "xaxis": "x2",
         "y": [
          83.94518367346939,
          129.8747266881029,
          97.97962962962963,
          134.46007142857144,
          84.93835443037975,
          140.033201320132,
          104.89850793650793,
          72.67754966887416,
          134.90947368421052,
          123.31011210762331,
          159.59840476190476,
          171.59020512820516,
          187.47031331592692,
          106.92335211267606,
          125.15189111747851,
          109.96121693121692,
          170.80007425742573,
          116.31256410256411,
          94.66754257907543,
          114.22981958762887,
          74.39366515837104,
          128.74646942800788,
          81.5838923395445,
          75.13657587548637,
          157.4982107355865,
          79.83349075975359,
          102.5180612244898,
          129.66676348547716,
          149.3518762886598,
          127.16939834024896,
          107.08024193548388,
          120.94804828973844,
          67.8658431372549,
          73.5827397260274,
          109.08284894837476,
          99.52180327868854,
          81.5994927536232,
          93.41010178117048,
          104.13395522388059,
          108.40365914786967,
          79.98206718346253,
          105.29146835443038,
          101.50622448979593,
          101.19870967741934,
          78.66597435897435,
          130.20906474820143,
          61.82542199488491,
          179.05304964539008,
          141.3465932642487,
          106.03200729927006,
          84.8853007518797,
          102.26518518518519,
          112.90902654867256,
          101.78316129032258,
          112.88566878980892,
          82.97251773049645,
          82.01846416382253,
          112.95804270462634,
          105.64270903010033,
          100.55971786833855,
          126.71003875968992,
          101.8407371007371,
          78.8011224489796,
          119.12148148148148,
          95.76371638141809,
          96.63559902200488,
          129.84002610966056,
          108.92086330935251,
          126.44728337236533,
          127.3972236503856,
          96.96892857142858,
          110.79083123425693,
          85.7746511627907,
          105.34226993865032,
          80.2130297029703,
          131.76978070175437,
          119.75225941422595,
          78.78421359223302,
          106.7138266384778,
          113.94049586776859,
          143.69051792828685,
          111.02548571428571,
          121.89116564417178,
          129.88437858508604,
          89.6526464208243,
          107.3676712328767,
          92.06886868686868,
          91.99710300429184,
          100.92414285714285,
          68.98951276102088,
          156.4830917874396,
          115.72615584415584,
          83.6203488372093,
          123.59369272237197,
          93.62837905236907,
          123.10118279569892,
          112.94879581151834,
          89.66950819672131,
          135.27018666666666,
          167.92796657381615,
          107.91793103448275,
          121.28813924050634,
          149.58210073710075,
          195.41734293193718,
          81.17887614678898
         ],
         "yaxis": "y2"
        },
        {
         "hovertemplate": "is_fraud=1<br>category=entertainment<br>transaction_time=%{x}<br>amount(usd)=%{y}<extra></extra>",
         "legendgroup": "1",
         "marker": {
          "color": "#D93C1D",
          "symbol": "circle"
         },
         "mode": "markers",
         "name": "1",
         "showlegend": true,
         "type": "scattergl",
         "x": [
          "2019-01-06T00:00:00",
          "2019-01-13T00:00:00",
          "2019-01-20T00:00:00",
          "2019-01-27T00:00:00",
          "2019-02-03T00:00:00",
          "2019-02-10T00:00:00",
          "2019-02-17T00:00:00",
          "2019-02-24T00:00:00",
          "2019-03-03T00:00:00",
          "2019-03-10T00:00:00",
          "2019-03-17T00:00:00",
          "2019-03-24T00:00:00",
          "2019-03-31T00:00:00",
          "2019-04-07T00:00:00",
          "2019-04-14T00:00:00",
          "2019-04-21T00:00:00",
          "2019-04-28T00:00:00",
          "2019-05-05T00:00:00",
          "2019-05-12T00:00:00",
          "2019-05-19T00:00:00",
          "2019-05-26T00:00:00",
          "2019-06-02T00:00:00",
          "2019-06-09T00:00:00",
          "2019-06-16T00:00:00",
          "2019-06-23T00:00:00",
          "2019-06-30T00:00:00",
          "2019-07-07T00:00:00",
          "2019-07-14T00:00:00",
          "2019-07-21T00:00:00",
          "2019-07-28T00:00:00",
          "2019-08-04T00:00:00",
          "2019-08-11T00:00:00",
          "2019-08-18T00:00:00",
          "2019-08-25T00:00:00",
          "2019-09-01T00:00:00",
          "2019-09-08T00:00:00",
          "2019-09-15T00:00:00",
          "2019-09-22T00:00:00",
          "2019-09-29T00:00:00",
          "2019-10-06T00:00:00",
          "2019-10-13T00:00:00",
          "2019-10-20T00:00:00",
          "2019-10-27T00:00:00",
          "2019-11-03T00:00:00",
          "2019-11-10T00:00:00",
          "2019-11-17T00:00:00",
          "2019-11-24T00:00:00",
          "2019-12-01T00:00:00",
          "2019-12-08T00:00:00",
          "2019-12-15T00:00:00",
          "2019-12-22T00:00:00",
          "2019-12-29T00:00:00",
          "2020-01-05T00:00:00",
          "2020-01-12T00:00:00",
          "2020-01-19T00:00:00",
          "2020-01-26T00:00:00",
          "2020-02-02T00:00:00",
          "2020-02-09T00:00:00",
          "2020-02-16T00:00:00",
          "2020-02-23T00:00:00",
          "2020-03-01T00:00:00",
          "2020-03-08T00:00:00",
          "2020-03-15T00:00:00",
          "2020-03-22T00:00:00",
          "2020-03-29T00:00:00",
          "2020-04-05T00:00:00",
          "2020-04-12T00:00:00",
          "2020-04-19T00:00:00",
          "2020-04-26T00:00:00",
          "2020-05-03T00:00:00",
          "2020-05-10T00:00:00",
          "2020-05-17T00:00:00",
          "2020-05-24T00:00:00",
          "2020-05-31T00:00:00",
          "2020-06-07T00:00:00",
          "2020-06-14T00:00:00",
          "2020-06-21T00:00:00",
          "2020-06-28T00:00:00",
          "2020-07-05T00:00:00",
          "2020-07-12T00:00:00",
          "2020-07-19T00:00:00",
          "2020-07-26T00:00:00",
          "2020-08-02T00:00:00",
          "2020-08-09T00:00:00",
          "2020-08-16T00:00:00",
          "2020-08-23T00:00:00",
          "2020-08-30T00:00:00",
          "2020-09-06T00:00:00",
          "2020-09-13T00:00:00",
          "2020-09-20T00:00:00",
          "2020-09-27T00:00:00",
          "2020-10-04T00:00:00",
          "2020-10-11T00:00:00",
          "2020-10-18T00:00:00",
          "2020-10-25T00:00:00",
          "2020-11-01T00:00:00",
          "2020-11-08T00:00:00",
          "2020-11-15T00:00:00",
          "2020-11-22T00:00:00",
          "2020-11-29T00:00:00",
          "2020-12-06T00:00:00",
          "2020-12-13T00:00:00",
          "2020-12-20T00:00:00",
          "2020-12-27T00:00:00",
          "2021-01-03T00:00:00"
         ],
         "xaxis": "x13",
         "y": [
          null,
          487.7266666666667,
          512.6883333333334,
          609.41,
          483.6225,
          null,
          552.925,
          479.42,
          528.1899999999999,
          483.85599999999994,
          533.344,
          515.288,
          554.4749999999999,
          null,
          612.5,
          536.365,
          557.02,
          554.94,
          512.8433333333334,
          507.68499999999995,
          514.855,
          null,
          430.735,
          539.05,
          543.7866666666666,
          398.84,
          513.0233333333333,
          434.55,
          497.01,
          521.825,
          569.64,
          null,
          464.74333333333334,
          null,
          468.795,
          468.095,
          454.9925,
          442.135,
          494.83,
          439.89333333333326,
          618.205,
          466.775,
          498.57666666666665,
          576.48,
          546.4366666666666,
          589.97,
          null,
          549.0440000000001,
          512.7275,
          422.6875,
          549.6166666666667,
          527.37125,
          437.52,
          542.85,
          456.81,
          463.41,
          474.434,
          null,
          521.075,
          568.52,
          458.41,
          490.4,
          536.6279999999999,
          510.08500000000004,
          483.02,
          383.42,
          547.1700000000001,
          493.905,
          388.345,
          469.79400000000004,
          427.02,
          486.8,
          432.445,
          573.51,
          null,
          548.9275,
          515.0274999999999,
          614.72,
          508.066,
          576.52,
          520.0799999999999,
          547.99,
          null,
          521.965,
          498.01,
          500.34,
          489.98,
          457.85999999999996,
          539.665,
          null,
          435.774,
          589.72,
          608.22,
          462.4666666666667,
          null,
          null,
          null,
          507.07,
          464.99,
          null,
          500.5425,
          552.04,
          null,
          null,
          null
         ],
         "yaxis": "y13"
        },
        {
         "hovertemplate": "is_fraud=1<br>category=food_dining<br>transaction_time=%{x}<br>amount(usd)=%{y}<extra></extra>",
         "legendgroup": "1",
         "marker": {
          "color": "#D93C1D",
          "symbol": "circle"
         },
         "mode": "markers",
         "name": "1",
         "showlegend": false,
         "type": "scattergl",
         "x": [
          "2019-01-06T00:00:00",
          "2019-01-13T00:00:00",
          "2019-01-20T00:00:00",
          "2019-01-27T00:00:00",
          "2019-02-03T00:00:00",
          "2019-02-10T00:00:00",
          "2019-02-17T00:00:00",
          "2019-02-24T00:00:00",
          "2019-03-03T00:00:00",
          "2019-03-10T00:00:00",
          "2019-03-17T00:00:00",
          "2019-03-24T00:00:00",
          "2019-03-31T00:00:00",
          "2019-04-07T00:00:00",
          "2019-04-14T00:00:00",
          "2019-04-21T00:00:00",
          "2019-04-28T00:00:00",
          "2019-05-05T00:00:00",
          "2019-05-12T00:00:00",
          "2019-05-19T00:00:00",
          "2019-05-26T00:00:00",
          "2019-06-02T00:00:00",
          "2019-06-09T00:00:00",
          "2019-06-16T00:00:00",
          "2019-06-23T00:00:00",
          "2019-06-30T00:00:00",
          "2019-07-07T00:00:00",
          "2019-07-14T00:00:00",
          "2019-07-21T00:00:00",
          "2019-07-28T00:00:00",
          "2019-08-04T00:00:00",
          "2019-08-11T00:00:00",
          "2019-08-18T00:00:00",
          "2019-08-25T00:00:00",
          "2019-09-01T00:00:00",
          "2019-09-08T00:00:00",
          "2019-09-15T00:00:00",
          "2019-09-22T00:00:00",
          "2019-09-29T00:00:00",
          "2019-10-06T00:00:00",
          "2019-10-13T00:00:00",
          "2019-10-20T00:00:00",
          "2019-10-27T00:00:00",
          "2019-11-03T00:00:00",
          "2019-11-10T00:00:00",
          "2019-11-17T00:00:00",
          "2019-11-24T00:00:00",
          "2019-12-01T00:00:00",
          "2019-12-08T00:00:00",
          "2019-12-15T00:00:00",
          "2019-12-22T00:00:00",
          "2019-12-29T00:00:00",
          "2020-01-05T00:00:00",
          "2020-01-12T00:00:00",
          "2020-01-19T00:00:00",
          "2020-01-26T00:00:00",
          "2020-02-02T00:00:00",
          "2020-02-09T00:00:00",
          "2020-02-16T00:00:00",
          "2020-02-23T00:00:00",
          "2020-03-01T00:00:00",
          "2020-03-08T00:00:00",
          "2020-03-15T00:00:00",
          "2020-03-22T00:00:00",
          "2020-03-29T00:00:00",
          "2020-04-05T00:00:00",
          "2020-04-12T00:00:00",
          "2020-04-19T00:00:00",
          "2020-04-26T00:00:00",
          "2020-05-03T00:00:00",
          "2020-05-10T00:00:00",
          "2020-05-17T00:00:00",
          "2020-05-24T00:00:00",
          "2020-05-31T00:00:00",
          "2020-06-07T00:00:00",
          "2020-06-14T00:00:00",
          "2020-06-21T00:00:00",
          "2020-06-28T00:00:00",
          "2020-07-05T00:00:00",
          "2020-07-12T00:00:00",
          "2020-07-19T00:00:00",
          "2020-07-26T00:00:00",
          "2020-08-02T00:00:00",
          "2020-08-09T00:00:00",
          "2020-08-16T00:00:00",
          "2020-08-23T00:00:00",
          "2020-08-30T00:00:00",
          "2020-09-06T00:00:00",
          "2020-09-13T00:00:00",
          "2020-09-20T00:00:00",
          "2020-09-27T00:00:00",
          "2020-10-04T00:00:00",
          "2020-10-11T00:00:00",
          "2020-10-18T00:00:00",
          "2020-10-25T00:00:00",
          "2020-11-01T00:00:00",
          "2020-11-08T00:00:00",
          "2020-11-15T00:00:00",
          "2020-11-22T00:00:00",
          "2020-11-29T00:00:00",
          "2020-12-06T00:00:00",
          "2020-12-13T00:00:00",
          "2020-12-20T00:00:00",
          "2020-12-27T00:00:00",
          "2021-01-03T00:00:00"
         ],
         "xaxis": "x14",
         "y": [
          null,
          120.15,
          118.41199999999999,
          109.69,
          118.69666666666666,
          null,
          123.61,
          120.14666666666666,
          119.2025,
          126.2425,
          null,
          128.2,
          null,
          null,
          103.9,
          114.84,
          null,
          118.245,
          137.27,
          125.725,
          125.835,
          132.79,
          109.77,
          132.49333333333334,
          96.97,
          117.375,
          null,
          null,
          null,
          120.91,
          114.94333333333333,
          104.82,
          null,
          null,
          122.91,
          null,
          123.38200000000002,
          136.29000000000002,
          123.35666666666667,
          134.62,
          null,
          117.34,
          null,
          127.425,
          120.57,
          null,
          128.06,
          115.6925,
          118.91499999999999,
          125.89,
          125.1775,
          103.735,
          124.375,
          null,
          120.13,
          129.5533333333333,
          125.08,
          null,
          112.09,
          124.56,
          null,
          122.59,
          116.33,
          110.53,
          null,
          133.62,
          123.49333333333334,
          null,
          124.195,
          116.95,
          108.12,
          139.015,
          null,
          111.87666666666667,
          127.14500000000001,
          125.21,
          112.06,
          115.66999999999999,
          128.18,
          125.14999999999999,
          110.12,
          119.4325,
          null,
          126.76333333333334,
          97.93,
          136.55,
          116.06333333333333,
          127.81333333333335,
          null,
          null,
          114.62,
          118.24,
          119.1325,
          null,
          140.77,
          null,
          119.035,
          117.23,
          null,
          null,
          133.43,
          117.6825,
          null,
          123.58,
          null
         ],
         "yaxis": "y14"
        },
        {
         "hovertemplate": "is_fraud=1<br>category=gas_transport<br>transaction_time=%{x}<br>amount(usd)=%{y}<extra></extra>",
         "legendgroup": "1",
         "marker": {
          "color": "#D93C1D",
          "symbol": "circle"
         },
         "mode": "markers",
         "name": "1",
         "showlegend": false,
         "type": "scattergl",
         "x": [
          "2019-01-06T00:00:00",
          "2019-01-13T00:00:00",
          "2019-01-20T00:00:00",
          "2019-01-27T00:00:00",
          "2019-02-03T00:00:00",
          "2019-02-10T00:00:00",
          "2019-02-17T00:00:00",
          "2019-02-24T00:00:00",
          "2019-03-03T00:00:00",
          "2019-03-10T00:00:00",
          "2019-03-17T00:00:00",
          "2019-03-24T00:00:00",
          "2019-03-31T00:00:00",
          "2019-04-07T00:00:00",
          "2019-04-14T00:00:00",
          "2019-04-21T00:00:00",
          "2019-04-28T00:00:00",
          "2019-05-05T00:00:00",
          "2019-05-12T00:00:00",
          "2019-05-19T00:00:00",
          "2019-05-26T00:00:00",
          "2019-06-02T00:00:00",
          "2019-06-09T00:00:00",
          "2019-06-16T00:00:00",
          "2019-06-23T00:00:00",
          "2019-06-30T00:00:00",
          "2019-07-07T00:00:00",
          "2019-07-14T00:00:00",
          "2019-07-21T00:00:00",
          "2019-07-28T00:00:00",
          "2019-08-04T00:00:00",
          "2019-08-11T00:00:00",
          "2019-08-18T00:00:00",
          "2019-08-25T00:00:00",
          "2019-09-01T00:00:00",
          "2019-09-08T00:00:00",
          "2019-09-15T00:00:00",
          "2019-09-22T00:00:00",
          "2019-09-29T00:00:00",
          "2019-10-06T00:00:00",
          "2019-10-13T00:00:00",
          "2019-10-20T00:00:00",
          "2019-10-27T00:00:00",
          "2019-11-03T00:00:00",
          "2019-11-10T00:00:00",
          "2019-11-17T00:00:00",
          "2019-11-24T00:00:00",
          "2019-12-01T00:00:00",
          "2019-12-08T00:00:00",
          "2019-12-15T00:00:00",
          "2019-12-22T00:00:00",
          "2019-12-29T00:00:00",
          "2020-01-05T00:00:00",
          "2020-01-12T00:00:00",
          "2020-01-19T00:00:00",
          "2020-01-26T00:00:00",
          "2020-02-02T00:00:00",
          "2020-02-09T00:00:00",
          "2020-02-16T00:00:00",
          "2020-02-23T00:00:00",
          "2020-03-01T00:00:00",
          "2020-03-08T00:00:00",
          "2020-03-15T00:00:00",
          "2020-03-22T00:00:00",
          "2020-03-29T00:00:00",
          "2020-04-05T00:00:00",
          "2020-04-12T00:00:00",
          "2020-04-19T00:00:00",
          "2020-04-26T00:00:00",
          "2020-05-03T00:00:00",
          "2020-05-10T00:00:00",
          "2020-05-17T00:00:00",
          "2020-05-24T00:00:00",
          "2020-05-31T00:00:00",
          "2020-06-07T00:00:00",
          "2020-06-14T00:00:00",
          "2020-06-21T00:00:00",
          "2020-06-28T00:00:00",
          "2020-07-05T00:00:00",
          "2020-07-12T00:00:00",
          "2020-07-19T00:00:00",
          "2020-07-26T00:00:00",
          "2020-08-02T00:00:00",
          "2020-08-09T00:00:00",
          "2020-08-16T00:00:00",
          "2020-08-23T00:00:00",
          "2020-08-30T00:00:00",
          "2020-09-06T00:00:00",
          "2020-09-13T00:00:00",
          "2020-09-20T00:00:00",
          "2020-09-27T00:00:00",
          "2020-10-04T00:00:00",
          "2020-10-11T00:00:00",
          "2020-10-18T00:00:00",
          "2020-10-25T00:00:00",
          "2020-11-01T00:00:00",
          "2020-11-08T00:00:00",
          "2020-11-15T00:00:00",
          "2020-11-22T00:00:00",
          "2020-11-29T00:00:00",
          "2020-12-06T00:00:00",
          "2020-12-13T00:00:00",
          "2020-12-20T00:00:00",
          "2020-12-27T00:00:00",
          "2021-01-03T00:00:00"
         ],
         "xaxis": "x15",
         "y": [
          13.59,
          11.455,
          14.226999999999999,
          10.045,
          9.725714285714286,
          10.12,
          11.747142857142858,
          10.101666666666667,
          11.173333333333334,
          9.26,
          16.105833333333333,
          9.576923076923077,
          11.78125,
          12.11,
          19.705000000000002,
          8.6125,
          12.663,
          14.311428571428573,
          9.388333333333334,
          13.023,
          11.947857142857144,
          8.754999999999999,
          10.12142857142857,
          11.032857142857141,
          13.23,
          17.175,
          15.0175,
          10.622,
          10.7725,
          14.836363636363636,
          16.643333333333334,
          12.746,
          12.46,
          13.05,
          13.598125,
          9.4,
          11.86,
          9.719999999999999,
          11.626666666666667,
          14.790000000000001,
          12.827499999999999,
          12.747272727272728,
          10.82,
          14.935,
          10.08,
          15.34375,
          8.945714285714287,
          13.80181818181818,
          13.953333333333333,
          12.375,
          14.953333333333333,
          13.46375,
          10.24,
          10.761666666666665,
          8.948,
          10.08,
          14.65,
          8.950000000000001,
          20.4,
          11.457777777777778,
          15.13,
          15.575,
          9.959999999999999,
          15.303999999999998,
          10.36,
          11.190000000000001,
          11.504285714285714,
          10.765,
          13.668000000000001,
          11.634,
          9.827777777777778,
          9.101666666666667,
          11.461666666666666,
          10.92,
          13.19,
          17.353333333333335,
          15.618181818181819,
          12.63,
          10.912500000000001,
          13.166666666666666,
          10.276,
          11.758181818181818,
          12.766666666666666,
          11.871666666666668,
          11.17,
          7.86,
          20.535,
          11.647499999999999,
          12.807500000000001,
          null,
          10.244285714285713,
          9.74,
          11.352857142857143,
          12.3225,
          11.685,
          10.145,
          12.032,
          15.65857142857143,
          9.85125,
          9.625714285714285,
          11.988333333333332,
          12.861666666666666,
          12.946666666666665,
          9.195,
          null
         ],
         "yaxis": "y15"
        },
        {
         "hovertemplate": "is_fraud=1<br>category=grocery_net<br>transaction_time=%{x}<br>amount(usd)=%{y}<extra></extra>",
         "legendgroup": "1",
         "marker": {
          "color": "#D93C1D",
          "symbol": "circle"
         },
         "mode": "markers",
         "name": "1",
         "showlegend": false,
         "type": "scattergl",
         "x": [
          "2019-01-06T00:00:00",
          "2019-01-13T00:00:00",
          "2019-01-20T00:00:00",
          "2019-01-27T00:00:00",
          "2019-02-03T00:00:00",
          "2019-02-10T00:00:00",
          "2019-02-17T00:00:00",
          "2019-02-24T00:00:00",
          "2019-03-03T00:00:00",
          "2019-03-10T00:00:00",
          "2019-03-17T00:00:00",
          "2019-03-24T00:00:00",
          "2019-03-31T00:00:00",
          "2019-04-07T00:00:00",
          "2019-04-14T00:00:00",
          "2019-04-21T00:00:00",
          "2019-04-28T00:00:00",
          "2019-05-05T00:00:00",
          "2019-05-12T00:00:00",
          "2019-05-19T00:00:00",
          "2019-05-26T00:00:00",
          "2019-06-02T00:00:00",
          "2019-06-09T00:00:00",
          "2019-06-16T00:00:00",
          "2019-06-23T00:00:00",
          "2019-06-30T00:00:00",
          "2019-07-07T00:00:00",
          "2019-07-14T00:00:00",
          "2019-07-21T00:00:00",
          "2019-07-28T00:00:00",
          "2019-08-04T00:00:00",
          "2019-08-11T00:00:00",
          "2019-08-18T00:00:00",
          "2019-08-25T00:00:00",
          "2019-09-01T00:00:00",
          "2019-09-08T00:00:00",
          "2019-09-15T00:00:00",
          "2019-09-22T00:00:00",
          "2019-09-29T00:00:00",
          "2019-10-06T00:00:00",
          "2019-10-13T00:00:00",
          "2019-10-20T00:00:00",
          "2019-10-27T00:00:00",
          "2019-11-03T00:00:00",
          "2019-11-10T00:00:00",
          "2019-11-17T00:00:00",
          "2019-11-24T00:00:00",
          "2019-12-01T00:00:00",
          "2019-12-08T00:00:00",
          "2019-12-15T00:00:00",
          "2019-12-22T00:00:00",
          "2019-12-29T00:00:00",
          "2020-01-05T00:00:00",
          "2020-01-12T00:00:00",
          "2020-01-19T00:00:00",
          "2020-01-26T00:00:00",
          "2020-02-02T00:00:00",
          "2020-02-09T00:00:00",
          "2020-02-16T00:00:00",
          "2020-02-23T00:00:00",
          "2020-03-01T00:00:00",
          "2020-03-08T00:00:00",
          "2020-03-15T00:00:00",
          "2020-03-22T00:00:00",
          "2020-03-29T00:00:00",
          "2020-04-05T00:00:00",
          "2020-04-12T00:00:00",
          "2020-04-19T00:00:00",
          "2020-04-26T00:00:00",
          "2020-05-03T00:00:00",
          "2020-05-10T00:00:00",
          "2020-05-17T00:00:00",
          "2020-05-24T00:00:00",
          "2020-05-31T00:00:00",
          "2020-06-07T00:00:00",
          "2020-06-14T00:00:00",
          "2020-06-21T00:00:00",
          "2020-06-28T00:00:00",
          "2020-07-05T00:00:00",
          "2020-07-12T00:00:00",
          "2020-07-19T00:00:00",
          "2020-07-26T00:00:00",
          "2020-08-02T00:00:00",
          "2020-08-09T00:00:00",
          "2020-08-16T00:00:00",
          "2020-08-23T00:00:00",
          "2020-08-30T00:00:00",
          "2020-09-06T00:00:00",
          "2020-09-13T00:00:00",
          "2020-09-20T00:00:00",
          "2020-09-27T00:00:00",
          "2020-10-04T00:00:00",
          "2020-10-11T00:00:00",
          "2020-10-18T00:00:00",
          "2020-10-25T00:00:00",
          "2020-11-01T00:00:00",
          "2020-11-08T00:00:00",
          "2020-11-15T00:00:00",
          "2020-11-22T00:00:00",
          "2020-11-29T00:00:00",
          "2020-12-06T00:00:00",
          "2020-12-13T00:00:00",
          "2020-12-20T00:00:00",
          "2020-12-27T00:00:00",
          "2021-01-03T00:00:00"
         ],
         "xaxis": "x10",
         "y": [
          14.37,
          null,
          13.931666666666667,
          null,
          12.23,
          15.99,
          null,
          null,
          11.555,
          9.213333333333333,
          13.856666666666667,
          16.63,
          17.005000000000003,
          null,
          12.403333333333334,
          9.665,
          15.61,
          11.657499999999999,
          11.16,
          null,
          11.5825,
          null,
          12.62,
          11.23,
          null,
          17.61,
          14.682500000000001,
          null,
          null,
          11.0675,
          null,
          9.27,
          12.4875,
          null,
          null,
          null,
          13.49,
          13.22,
          14.76,
          12.1,
          10.49,
          12.68,
          15.33,
          13.13,
          null,
          13.435,
          null,
          12.825,
          12.409999999999998,
          null,
          7.54,
          13.565,
          12.3,
          null,
          null,
          10.59,
          12.765,
          11.375,
          15.55,
          null,
          12.35,
          10.35,
          7.41,
          10.9725,
          null,
          9.25,
          8.59,
          6.48,
          12.3,
          9.946666666666667,
          null,
          null,
          null,
          8.31,
          null,
          11.305,
          15.7225,
          13.25,
          13.13,
          11.7075,
          null,
          null,
          null,
          7.913333333333334,
          null,
          null,
          14.31,
          9.05,
          15.83,
          7.88,
          null,
          15.503333333333336,
          null,
          10.93,
          null,
          null,
          12.105,
          10.27,
          11.82,
          9.39,
          null,
          null,
          7.76,
          null,
          null
         ],
         "yaxis": "y10"
        },
        {
         "hovertemplate": "is_fraud=1<br>category=grocery_pos<br>transaction_time=%{x}<br>amount(usd)=%{y}<extra></extra>",
         "legendgroup": "1",
         "marker": {
          "color": "#D93C1D",
          "symbol": "circle"
         },
         "mode": "markers",
         "name": "1",
         "showlegend": false,
         "type": "scattergl",
         "x": [
          "2019-01-06T00:00:00",
          "2019-01-13T00:00:00",
          "2019-01-20T00:00:00",
          "2019-01-27T00:00:00",
          "2019-02-03T00:00:00",
          "2019-02-10T00:00:00",
          "2019-02-17T00:00:00",
          "2019-02-24T00:00:00",
          "2019-03-03T00:00:00",
          "2019-03-10T00:00:00",
          "2019-03-17T00:00:00",
          "2019-03-24T00:00:00",
          "2019-03-31T00:00:00",
          "2019-04-07T00:00:00",
          "2019-04-14T00:00:00",
          "2019-04-21T00:00:00",
          "2019-04-28T00:00:00",
          "2019-05-05T00:00:00",
          "2019-05-12T00:00:00",
          "2019-05-19T00:00:00",
          "2019-05-26T00:00:00",
          "2019-06-02T00:00:00",
          "2019-06-09T00:00:00",
          "2019-06-16T00:00:00",
          "2019-06-23T00:00:00",
          "2019-06-30T00:00:00",
          "2019-07-07T00:00:00",
          "2019-07-14T00:00:00",
          "2019-07-21T00:00:00",
          "2019-07-28T00:00:00",
          "2019-08-04T00:00:00",
          "2019-08-11T00:00:00",
          "2019-08-18T00:00:00",
          "2019-08-25T00:00:00",
          "2019-09-01T00:00:00",
          "2019-09-08T00:00:00",
          "2019-09-15T00:00:00",
          "2019-09-22T00:00:00",
          "2019-09-29T00:00:00",
          "2019-10-06T00:00:00",
          "2019-10-13T00:00:00",
          "2019-10-20T00:00:00",
          "2019-10-27T00:00:00",
          "2019-11-03T00:00:00",
          "2019-11-10T00:00:00",
          "2019-11-17T00:00:00",
          "2019-11-24T00:00:00",
          "2019-12-01T00:00:00",
          "2019-12-08T00:00:00",
          "2019-12-15T00:00:00",
          "2019-12-22T00:00:00",
          "2019-12-29T00:00:00",
          "2020-01-05T00:00:00",
          "2020-01-12T00:00:00",
          "2020-01-19T00:00:00",
          "2020-01-26T00:00:00",
          "2020-02-02T00:00:00",
          "2020-02-09T00:00:00",
          "2020-02-16T00:00:00",
          "2020-02-23T00:00:00",
          "2020-03-01T00:00:00",
          "2020-03-08T00:00:00",
          "2020-03-15T00:00:00",
          "2020-03-22T00:00:00",
          "2020-03-29T00:00:00",
          "2020-04-05T00:00:00",
          "2020-04-12T00:00:00",
          "2020-04-19T00:00:00",
          "2020-04-26T00:00:00",
          "2020-05-03T00:00:00",
          "2020-05-10T00:00:00",
          "2020-05-17T00:00:00",
          "2020-05-24T00:00:00",
          "2020-05-31T00:00:00",
          "2020-06-07T00:00:00",
          "2020-06-14T00:00:00",
          "2020-06-21T00:00:00",
          "2020-06-28T00:00:00",
          "2020-07-05T00:00:00",
          "2020-07-12T00:00:00",
          "2020-07-19T00:00:00",
          "2020-07-26T00:00:00",
          "2020-08-02T00:00:00",
          "2020-08-09T00:00:00",
          "2020-08-16T00:00:00",
          "2020-08-23T00:00:00",
          "2020-08-30T00:00:00",
          "2020-09-06T00:00:00",
          "2020-09-13T00:00:00",
          "2020-09-20T00:00:00",
          "2020-09-27T00:00:00",
          "2020-10-04T00:00:00",
          "2020-10-11T00:00:00",
          "2020-10-18T00:00:00",
          "2020-10-25T00:00:00",
          "2020-11-01T00:00:00",
          "2020-11-08T00:00:00",
          "2020-11-15T00:00:00",
          "2020-11-22T00:00:00",
          "2020-11-29T00:00:00",
          "2020-12-06T00:00:00",
          "2020-12-13T00:00:00",
          "2020-12-20T00:00:00",
          "2020-12-27T00:00:00",
          "2021-01-03T00:00:00"
         ],
         "xaxis": "x11",
         "y": [
          313.52272727272725,
          312.56458333333336,
          314.1738709677419,
          319.51666666666665,
          296.29,
          301.06083333333333,
          309.985,
          315.03909090909093,
          308.1620833333333,
          325.1542857142857,
          311.2813043478261,
          306.34478260869565,
          309.0891666666667,
          316.6363636363636,
          323.16,
          307.49642857142857,
          298.8948,
          313.9196,
          312.765,
          307.93095238095236,
          320.3259090909091,
          301.7471428571429,
          328.31666666666666,
          304.305,
          325.66076923076923,
          316.0732,
          317.17333333333335,
          307.4888235294118,
          313.79,
          314.474,
          328.44083333333333,
          315.16625,
          331.13500000000005,
          311.6766666666667,
          315.5304,
          301.9275,
          312.00615384615384,
          300.15375,
          322.17555555555555,
          309.32481481481483,
          311.2347368421053,
          318.2595,
          308.1377777777777,
          320.7218181818182,
          313.77666666666664,
          302.70466666666664,
          309.90400000000005,
          321.39363636363635,
          308.8929166666667,
          301.0252380952381,
          314.893125,
          318.29615384615386,
          303.5969230769231,
          297.5228571428571,
          322.3335294117647,
          304.1175,
          304.851,
          301.15,
          305.89416666666665,
          304.8023529411765,
          316.6931578947368,
          330.5936363636364,
          321.98454545454547,
          311.599,
          321.24833333333333,
          308.1063157894737,
          326.09000000000003,
          317.57,
          308.05368421052634,
          309.00714285714287,
          304.2054166666667,
          300.16705882352943,
          312.3233333333333,
          312.3915,
          307.54,
          305.09000000000003,
          325.80538461538464,
          306.71454545454543,
          320.49125,
          308.4144444444444,
          320.1983333333333,
          314.8975,
          312.05571428571426,
          328.0263636363636,
          314.60999999999996,
          338.031,
          303.0552173913043,
          302.6163636363636,
          318.900625,
          298.0809090909091,
          311.0655555555556,
          322.74117647058824,
          326.5826666666666,
          304.9708695652174,
          290.6138888888889,
          316.1990909090909,
          312.31857142857143,
          319.12,
          303.99,
          309.1415789473684,
          313.492,
          324.135,
          296.98400000000004,
          334.0175,
          null
         ],
         "yaxis": "y11"
        },
        {
         "hovertemplate": "is_fraud=1<br>category=health_fitness<br>transaction_time=%{x}<br>amount(usd)=%{y}<extra></extra>",
         "legendgroup": "1",
         "marker": {
          "color": "#D93C1D",
          "symbol": "circle"
         },
         "mode": "markers",
         "name": "1",
         "showlegend": false,
         "type": "scattergl",
         "x": [
          "2019-01-06T00:00:00",
          "2019-01-13T00:00:00",
          "2019-01-20T00:00:00",
          "2019-01-27T00:00:00",
          "2019-02-03T00:00:00",
          "2019-02-10T00:00:00",
          "2019-02-17T00:00:00",
          "2019-02-24T00:00:00",
          "2019-03-03T00:00:00",
          "2019-03-10T00:00:00",
          "2019-03-17T00:00:00",
          "2019-03-24T00:00:00",
          "2019-03-31T00:00:00",
          "2019-04-07T00:00:00",
          "2019-04-14T00:00:00",
          "2019-04-21T00:00:00",
          "2019-04-28T00:00:00",
          "2019-05-05T00:00:00",
          "2019-05-12T00:00:00",
          "2019-05-19T00:00:00",
          "2019-05-26T00:00:00",
          "2019-06-02T00:00:00",
          "2019-06-09T00:00:00",
          "2019-06-16T00:00:00",
          "2019-06-23T00:00:00",
          "2019-06-30T00:00:00",
          "2019-07-07T00:00:00",
          "2019-07-14T00:00:00",
          "2019-07-21T00:00:00",
          "2019-07-28T00:00:00",
          "2019-08-04T00:00:00",
          "2019-08-11T00:00:00",
          "2019-08-18T00:00:00",
          "2019-08-25T00:00:00",
          "2019-09-01T00:00:00",
          "2019-09-08T00:00:00",
          "2019-09-15T00:00:00",
          "2019-09-22T00:00:00",
          "2019-09-29T00:00:00",
          "2019-10-06T00:00:00",
          "2019-10-13T00:00:00",
          "2019-10-20T00:00:00",
          "2019-10-27T00:00:00",
          "2019-11-03T00:00:00",
          "2019-11-10T00:00:00",
          "2019-11-17T00:00:00",
          "2019-11-24T00:00:00",
          "2019-12-01T00:00:00",
          "2019-12-08T00:00:00",
          "2019-12-15T00:00:00",
          "2019-12-22T00:00:00",
          "2019-12-29T00:00:00",
          "2020-01-05T00:00:00",
          "2020-01-12T00:00:00",
          "2020-01-19T00:00:00",
          "2020-01-26T00:00:00",
          "2020-02-02T00:00:00",
          "2020-02-09T00:00:00",
          "2020-02-16T00:00:00",
          "2020-02-23T00:00:00",
          "2020-03-01T00:00:00",
          "2020-03-08T00:00:00",
          "2020-03-15T00:00:00",
          "2020-03-22T00:00:00",
          "2020-03-29T00:00:00",
          "2020-04-05T00:00:00",
          "2020-04-12T00:00:00",
          "2020-04-19T00:00:00",
          "2020-04-26T00:00:00",
          "2020-05-03T00:00:00",
          "2020-05-10T00:00:00",
          "2020-05-17T00:00:00",
          "2020-05-24T00:00:00",
          "2020-05-31T00:00:00",
          "2020-06-07T00:00:00",
          "2020-06-14T00:00:00",
          "2020-06-21T00:00:00",
          "2020-06-28T00:00:00",
          "2020-07-05T00:00:00",
          "2020-07-12T00:00:00",
          "2020-07-19T00:00:00",
          "2020-07-26T00:00:00",
          "2020-08-02T00:00:00",
          "2020-08-09T00:00:00",
          "2020-08-16T00:00:00",
          "2020-08-23T00:00:00",
          "2020-08-30T00:00:00",
          "2020-09-06T00:00:00",
          "2020-09-13T00:00:00",
          "2020-09-20T00:00:00",
          "2020-09-27T00:00:00",
          "2020-10-04T00:00:00",
          "2020-10-11T00:00:00",
          "2020-10-18T00:00:00",
          "2020-10-25T00:00:00",
          "2020-11-01T00:00:00",
          "2020-11-08T00:00:00",
          "2020-11-15T00:00:00",
          "2020-11-22T00:00:00",
          "2020-11-29T00:00:00",
          "2020-12-06T00:00:00",
          "2020-12-13T00:00:00",
          "2020-12-20T00:00:00",
          "2020-12-27T00:00:00",
          "2021-01-03T00:00:00"
         ],
         "xaxis": "x12",
         "y": [
          null,
          21.80666666666667,
          21.47,
          21.365000000000002,
          19.290000000000003,
          null,
          21.37,
          19.2925,
          20.86,
          18.72,
          null,
          21.975,
          18.502499999999998,
          19.3,
          null,
          null,
          20.58,
          null,
          19.91,
          null,
          19.36,
          null,
          18.04,
          21.175,
          19.6075,
          null,
          null,
          null,
          23.83,
          20.585,
          22.585,
          19.26,
          null,
          null,
          21.42,
          null,
          null,
          22.86,
          19.796666666666667,
          null,
          18.79,
          20.997500000000002,
          null,
          18.82,
          null,
          null,
          17.08,
          19.823333333333334,
          22.75,
          18.355,
          19.113999999999997,
          19.972857142857144,
          null,
          null,
          20.81,
          null,
          20.21,
          21.92,
          null,
          null,
          null,
          19.06,
          20.68,
          18.55,
          null,
          null,
          20.42,
          null,
          20.995,
          20.915,
          18.56,
          20.845,
          18.913333333333334,
          null,
          null,
          24.75,
          21.1075,
          21.74,
          19.4525,
          null,
          20.706666666666667,
          16.91,
          18.155,
          21.884999999999998,
          20.0975,
          21.080000000000002,
          18.795,
          null,
          null,
          19.64,
          null,
          26.34,
          20.5775,
          19.683333333333334,
          null,
          null,
          18.44,
          null,
          null,
          null,
          17.45,
          18.78,
          null,
          null,
          null
         ],
         "yaxis": "y12"
        },
        {
         "hovertemplate": "is_fraud=1<br>category=home<br>transaction_time=%{x}<br>amount(usd)=%{y}<extra></extra>",
         "legendgroup": "1",
         "marker": {
          "color": "#D93C1D",
          "symbol": "circle"
         },
         "mode": "markers",
         "name": "1",
         "showlegend": false,
         "type": "scattergl",
         "x": [
          "2019-01-06T00:00:00",
          "2019-01-13T00:00:00",
          "2019-01-20T00:00:00",
          "2019-01-27T00:00:00",
          "2019-02-03T00:00:00",
          "2019-02-10T00:00:00",
          "2019-02-17T00:00:00",
          "2019-02-24T00:00:00",
          "2019-03-03T00:00:00",
          "2019-03-10T00:00:00",
          "2019-03-17T00:00:00",
          "2019-03-24T00:00:00",
          "2019-03-31T00:00:00",
          "2019-04-07T00:00:00",
          "2019-04-14T00:00:00",
          "2019-04-21T00:00:00",
          "2019-04-28T00:00:00",
          "2019-05-05T00:00:00",
          "2019-05-12T00:00:00",
          "2019-05-19T00:00:00",
          "2019-05-26T00:00:00",
          "2019-06-02T00:00:00",
          "2019-06-09T00:00:00",
          "2019-06-16T00:00:00",
          "2019-06-23T00:00:00",
          "2019-06-30T00:00:00",
          "2019-07-07T00:00:00",
          "2019-07-14T00:00:00",
          "2019-07-21T00:00:00",
          "2019-07-28T00:00:00",
          "2019-08-04T00:00:00",
          "2019-08-11T00:00:00",
          "2019-08-18T00:00:00",
          "2019-08-25T00:00:00",
          "2019-09-01T00:00:00",
          "2019-09-08T00:00:00",
          "2019-09-15T00:00:00",
          "2019-09-22T00:00:00",
          "2019-09-29T00:00:00",
          "2019-10-06T00:00:00",
          "2019-10-13T00:00:00",
          "2019-10-20T00:00:00",
          "2019-10-27T00:00:00",
          "2019-11-03T00:00:00",
          "2019-11-10T00:00:00",
          "2019-11-17T00:00:00",
          "2019-11-24T00:00:00",
          "2019-12-01T00:00:00",
          "2019-12-08T00:00:00",
          "2019-12-15T00:00:00",
          "2019-12-22T00:00:00",
          "2019-12-29T00:00:00",
          "2020-01-05T00:00:00",
          "2020-01-12T00:00:00",
          "2020-01-19T00:00:00",
          "2020-01-26T00:00:00",
          "2020-02-02T00:00:00",
          "2020-02-09T00:00:00",
          "2020-02-16T00:00:00",
          "2020-02-23T00:00:00",
          "2020-03-01T00:00:00",
          "2020-03-08T00:00:00",
          "2020-03-15T00:00:00",
          "2020-03-22T00:00:00",
          "2020-03-29T00:00:00",
          "2020-04-05T00:00:00",
          "2020-04-12T00:00:00",
          "2020-04-19T00:00:00",
          "2020-04-26T00:00:00",
          "2020-05-03T00:00:00",
          "2020-05-10T00:00:00",
          "2020-05-17T00:00:00",
          "2020-05-24T00:00:00",
          "2020-05-31T00:00:00",
          "2020-06-07T00:00:00",
          "2020-06-14T00:00:00",
          "2020-06-21T00:00:00",
          "2020-06-28T00:00:00",
          "2020-07-05T00:00:00",
          "2020-07-12T00:00:00",
          "2020-07-19T00:00:00",
          "2020-07-26T00:00:00",
          "2020-08-02T00:00:00",
          "2020-08-09T00:00:00",
          "2020-08-16T00:00:00",
          "2020-08-23T00:00:00",
          "2020-08-30T00:00:00",
          "2020-09-06T00:00:00",
          "2020-09-13T00:00:00",
          "2020-09-20T00:00:00",
          "2020-09-27T00:00:00",
          "2020-10-04T00:00:00",
          "2020-10-11T00:00:00",
          "2020-10-18T00:00:00",
          "2020-10-25T00:00:00",
          "2020-11-01T00:00:00",
          "2020-11-08T00:00:00",
          "2020-11-15T00:00:00",
          "2020-11-22T00:00:00",
          "2020-11-29T00:00:00",
          "2020-12-06T00:00:00",
          "2020-12-13T00:00:00",
          "2020-12-20T00:00:00",
          "2020-12-27T00:00:00",
          "2021-01-03T00:00:00"
         ],
         "xaxis": "x7",
         "y": [
          null,
          244.645,
          240.29666666666665,
          null,
          264.7633333333334,
          320.61,
          228.96,
          200.47,
          245.66,
          252.7675,
          272.25,
          243.445,
          246.09,
          403.93,
          390.85,
          null,
          null,
          239.8,
          238.21499999999997,
          298.97,
          264.77666666666664,
          null,
          266.7875,
          261.32,
          255.20499999999998,
          207.35,
          223.89,
          415.74,
          null,
          null,
          null,
          245.638,
          263.105,
          265.21000000000004,
          229.075,
          242.24,
          242.9425,
          256.0675,
          251.87666666666667,
          null,
          238.59666666666666,
          266.05,
          null,
          262.1675,
          277.15,
          null,
          249.35,
          276.01166666666666,
          267.455,
          265.8566666666666,
          187.37,
          283.4225,
          252.1,
          277.15999999999997,
          243.82999999999998,
          255.3,
          240.94,
          217.24,
          244.03,
          null,
          244.475,
          277.72,
          287.17,
          247.6357142857143,
          null,
          null,
          242.44,
          260.90000000000003,
          null,
          242.22,
          255.135,
          null,
          307.82,
          null,
          240.97,
          253.836,
          261.43125,
          234.89,
          242.365,
          221.99333333333334,
          254.25,
          258.605,
          241.34,
          264.65333333333336,
          254.10999999999999,
          302.67333333333335,
          246.3,
          268.62,
          316.105,
          null,
          258.37,
          253.76,
          null,
          269.962,
          null,
          237.995,
          322.25,
          null,
          235.42,
          null,
          223.49,
          236.38857142857142,
          247.115,
          214.47500000000002,
          null
         ],
         "yaxis": "y7"
        },
        {
         "hovertemplate": "is_fraud=1<br>category=kids_pets<br>transaction_time=%{x}<br>amount(usd)=%{y}<extra></extra>",
         "legendgroup": "1",
         "marker": {
          "color": "#D93C1D",
          "symbol": "circle"
         },
         "mode": "markers",
         "name": "1",
         "showlegend": false,
         "type": "scattergl",
         "x": [
          "2019-01-06T00:00:00",
          "2019-01-13T00:00:00",
          "2019-01-20T00:00:00",
          "2019-01-27T00:00:00",
          "2019-02-03T00:00:00",
          "2019-02-10T00:00:00",
          "2019-02-17T00:00:00",
          "2019-02-24T00:00:00",
          "2019-03-03T00:00:00",
          "2019-03-10T00:00:00",
          "2019-03-17T00:00:00",
          "2019-03-24T00:00:00",
          "2019-03-31T00:00:00",
          "2019-04-07T00:00:00",
          "2019-04-14T00:00:00",
          "2019-04-21T00:00:00",
          "2019-04-28T00:00:00",
          "2019-05-05T00:00:00",
          "2019-05-12T00:00:00",
          "2019-05-19T00:00:00",
          "2019-05-26T00:00:00",
          "2019-06-02T00:00:00",
          "2019-06-09T00:00:00",
          "2019-06-16T00:00:00",
          "2019-06-23T00:00:00",
          "2019-06-30T00:00:00",
          "2019-07-07T00:00:00",
          "2019-07-14T00:00:00",
          "2019-07-21T00:00:00",
          "2019-07-28T00:00:00",
          "2019-08-04T00:00:00",
          "2019-08-11T00:00:00",
          "2019-08-18T00:00:00",
          "2019-08-25T00:00:00",
          "2019-09-01T00:00:00",
          "2019-09-08T00:00:00",
          "2019-09-15T00:00:00",
          "2019-09-22T00:00:00",
          "2019-09-29T00:00:00",
          "2019-10-06T00:00:00",
          "2019-10-13T00:00:00",
          "2019-10-20T00:00:00",
          "2019-10-27T00:00:00",
          "2019-11-03T00:00:00",
          "2019-11-10T00:00:00",
          "2019-11-17T00:00:00",
          "2019-11-24T00:00:00",
          "2019-12-01T00:00:00",
          "2019-12-08T00:00:00",
          "2019-12-15T00:00:00",
          "2019-12-22T00:00:00",
          "2019-12-29T00:00:00",
          "2020-01-05T00:00:00",
          "2020-01-12T00:00:00",
          "2020-01-19T00:00:00",
          "2020-01-26T00:00:00",
          "2020-02-02T00:00:00",
          "2020-02-09T00:00:00",
          "2020-02-16T00:00:00",
          "2020-02-23T00:00:00",
          "2020-03-01T00:00:00",
          "2020-03-08T00:00:00",
          "2020-03-15T00:00:00",
          "2020-03-22T00:00:00",
          "2020-03-29T00:00:00",
          "2020-04-05T00:00:00",
          "2020-04-12T00:00:00",
          "2020-04-19T00:00:00",
          "2020-04-26T00:00:00",
          "2020-05-03T00:00:00",
          "2020-05-10T00:00:00",
          "2020-05-17T00:00:00",
          "2020-05-24T00:00:00",
          "2020-05-31T00:00:00",
          "2020-06-07T00:00:00",
          "2020-06-14T00:00:00",
          "2020-06-21T00:00:00",
          "2020-06-28T00:00:00",
          "2020-07-05T00:00:00",
          "2020-07-12T00:00:00",
          "2020-07-19T00:00:00",
          "2020-07-26T00:00:00",
          "2020-08-02T00:00:00",
          "2020-08-09T00:00:00",
          "2020-08-16T00:00:00",
          "2020-08-23T00:00:00",
          "2020-08-30T00:00:00",
          "2020-09-06T00:00:00",
          "2020-09-13T00:00:00",
          "2020-09-20T00:00:00",
          "2020-09-27T00:00:00",
          "2020-10-04T00:00:00",
          "2020-10-11T00:00:00",
          "2020-10-18T00:00:00",
          "2020-10-25T00:00:00",
          "2020-11-01T00:00:00",
          "2020-11-08T00:00:00",
          "2020-11-15T00:00:00",
          "2020-11-22T00:00:00",
          "2020-11-29T00:00:00",
          "2020-12-06T00:00:00",
          "2020-12-13T00:00:00",
          "2020-12-20T00:00:00",
          "2020-12-27T00:00:00",
          "2021-01-03T00:00:00"
         ],
         "xaxis": "x8",
         "y": [
          4.58,
          20.43,
          13.783333333333333,
          18.616666666666667,
          20.2375,
          null,
          19.825,
          18.983333333333334,
          20.1475,
          19.302222222222223,
          5.21,
          20.598333333333333,
          20.166666666666668,
          19.78,
          null,
          18.62,
          14.896,
          16.580000000000002,
          20.18,
          12.254999999999999,
          15.716666666666669,
          null,
          22.27,
          17.986,
          18.76,
          20.905,
          null,
          4.24,
          2.36,
          17.263333333333332,
          20.34,
          19.85,
          10.97,
          19.6975,
          12.63,
          20.92,
          20.271666666666665,
          19.15,
          null,
          null,
          17.016,
          19.47,
          18.6,
          4.44,
          null,
          null,
          18.025,
          12.31,
          13.030000000000001,
          17.945,
          22.189999999999998,
          15.815555555555555,
          21.67,
          15.71,
          20.15,
          null,
          19.93,
          null,
          6.76,
          19.143333333333334,
          20.066666666666666,
          20.169999999999998,
          20.59,
          20.457142857142856,
          19.44,
          null,
          19.918,
          20.04,
          19.32,
          19.55,
          16.088333333333335,
          null,
          16.38,
          null,
          null,
          22.735,
          19.51875,
          null,
          19.110000000000003,
          21.075000000000003,
          18.134999999999998,
          19.603333333333335,
          19.63,
          20.266666666666666,
          null,
          20.606666666666666,
          3.15,
          null,
          null,
          21.78,
          20.07857142857143,
          21.22,
          19.403333333333332,
          20.125999999999998,
          null,
          21.7025,
          19.57,
          null,
          null,
          18.645,
          null,
          20.016666666666666,
          22.18,
          null,
          null
         ],
         "yaxis": "y8"
        },
        {
         "hovertemplate": "is_fraud=1<br>category=misc_net<br>transaction_time=%{x}<br>amount(usd)=%{y}<extra></extra>",
         "legendgroup": "1",
         "marker": {
          "color": "#D93C1D",
          "symbol": "circle"
         },
         "mode": "markers",
         "name": "1",
         "showlegend": false,
         "type": "scattergl",
         "x": [
          "2019-01-06T00:00:00",
          "2019-01-13T00:00:00",
          "2019-01-20T00:00:00",
          "2019-01-27T00:00:00",
          "2019-02-03T00:00:00",
          "2019-02-10T00:00:00",
          "2019-02-17T00:00:00",
          "2019-02-24T00:00:00",
          "2019-03-03T00:00:00",
          "2019-03-10T00:00:00",
          "2019-03-17T00:00:00",
          "2019-03-24T00:00:00",
          "2019-03-31T00:00:00",
          "2019-04-07T00:00:00",
          "2019-04-14T00:00:00",
          "2019-04-21T00:00:00",
          "2019-04-28T00:00:00",
          "2019-05-05T00:00:00",
          "2019-05-12T00:00:00",
          "2019-05-19T00:00:00",
          "2019-05-26T00:00:00",
          "2019-06-02T00:00:00",
          "2019-06-09T00:00:00",
          "2019-06-16T00:00:00",
          "2019-06-23T00:00:00",
          "2019-06-30T00:00:00",
          "2019-07-07T00:00:00",
          "2019-07-14T00:00:00",
          "2019-07-21T00:00:00",
          "2019-07-28T00:00:00",
          "2019-08-04T00:00:00",
          "2019-08-11T00:00:00",
          "2019-08-18T00:00:00",
          "2019-08-25T00:00:00",
          "2019-09-01T00:00:00",
          "2019-09-08T00:00:00",
          "2019-09-15T00:00:00",
          "2019-09-22T00:00:00",
          "2019-09-29T00:00:00",
          "2019-10-06T00:00:00",
          "2019-10-13T00:00:00",
          "2019-10-20T00:00:00",
          "2019-10-27T00:00:00",
          "2019-11-03T00:00:00",
          "2019-11-10T00:00:00",
          "2019-11-17T00:00:00",
          "2019-11-24T00:00:00",
          "2019-12-01T00:00:00",
          "2019-12-08T00:00:00",
          "2019-12-15T00:00:00",
          "2019-12-22T00:00:00",
          "2019-12-29T00:00:00",
          "2020-01-05T00:00:00",
          "2020-01-12T00:00:00",
          "2020-01-19T00:00:00",
          "2020-01-26T00:00:00",
          "2020-02-02T00:00:00",
          "2020-02-09T00:00:00",
          "2020-02-16T00:00:00",
          "2020-02-23T00:00:00",
          "2020-03-01T00:00:00",
          "2020-03-08T00:00:00",
          "2020-03-15T00:00:00",
          "2020-03-22T00:00:00",
          "2020-03-29T00:00:00",
          "2020-04-05T00:00:00",
          "2020-04-12T00:00:00",
          "2020-04-19T00:00:00",
          "2020-04-26T00:00:00",
          "2020-05-03T00:00:00",
          "2020-05-10T00:00:00",
          "2020-05-17T00:00:00",
          "2020-05-24T00:00:00",
          "2020-05-31T00:00:00",
          "2020-06-07T00:00:00",
          "2020-06-14T00:00:00",
          "2020-06-21T00:00:00",
          "2020-06-28T00:00:00",
          "2020-07-05T00:00:00",
          "2020-07-12T00:00:00",
          "2020-07-19T00:00:00",
          "2020-07-26T00:00:00",
          "2020-08-02T00:00:00",
          "2020-08-09T00:00:00",
          "2020-08-16T00:00:00",
          "2020-08-23T00:00:00",
          "2020-08-30T00:00:00",
          "2020-09-06T00:00:00",
          "2020-09-13T00:00:00",
          "2020-09-20T00:00:00",
          "2020-09-27T00:00:00",
          "2020-10-04T00:00:00",
          "2020-10-11T00:00:00",
          "2020-10-18T00:00:00",
          "2020-10-25T00:00:00",
          "2020-11-01T00:00:00",
          "2020-11-08T00:00:00",
          "2020-11-15T00:00:00",
          "2020-11-22T00:00:00",
          "2020-11-29T00:00:00",
          "2020-12-06T00:00:00",
          "2020-12-13T00:00:00",
          "2020-12-20T00:00:00",
          "2020-12-27T00:00:00",
          "2021-01-03T00:00:00"
         ],
         "xaxis": "x9",
         "y": [
          783.76,
          765.3946153846153,
          761.1825,
          846.8166666666667,
          769.3491666666667,
          784.2321052631579,
          821.5594444444445,
          812.4733333333334,
          794.2376923076923,
          810.5640000000001,
          856.0672727272727,
          805.7616666666667,
          797.3116666666666,
          783.4257142857142,
          828.2872727272727,
          766.41625,
          815.19125,
          837.7245454545454,
          837.3900000000001,
          781.5427272727273,
          806.4184615384615,
          838.6233333333333,
          836.85,
          815.525,
          779.0725,
          811.4322222222222,
          822.03,
          777.0077777777777,
          781.8399999999999,
          830.6227272727273,
          797.339,
          742.7,
          772.2481818181818,
          792.2657142857142,
          808.737,
          792.7583333333333,
          801.7983333333333,
          784.9528571428572,
          795.7925,
          820.618,
          788.7123529411765,
          782.0085714285715,
          784.2345454545455,
          751.4800000000001,
          825.2574999999999,
          811.6822222222222,
          756.5600000000001,
          766.2466666666666,
          802.8053333333334,
          796.2822222222222,
          786.1288888888889,
          817.0854545454546,
          806.445294117647,
          814.8642857142858,
          807.2725,
          796.0975,
          785.5471428571428,
          839.452,
          786.441,
          799.59,
          776.7900000000001,
          848.8657142857144,
          827.8618181818182,
          785.5945454545455,
          789.1666666666666,
          751.35,
          853.475,
          778.2142857142857,
          792.965,
          810.38,
          755.4508333333333,
          841.5707692307692,
          823.1623076923078,
          814.3734999999999,
          773.538,
          784.865,
          788.3011764705883,
          770.5799999999999,
          774.3966666666666,
          769.4316666666667,
          798.1075,
          818.5755555555556,
          826.0833333333334,
          781.4563636363637,
          794.5683333333333,
          895.1528571428572,
          796.687,
          803.4135714285715,
          828.2729999999999,
          849.41,
          844.0550000000001,
          819.1624999999999,
          821.2085714285714,
          804.0761538461538,
          779.71,
          792.3242857142858,
          809.9699999999999,
          734.028,
          849.3671428571428,
          839.7169230769231,
          760.966,
          814.0475,
          822.3077777777777,
          766.38,
          null
         ],
         "yaxis": "y9"
        },
        {
         "hovertemplate": "is_fraud=1<br>category=misc_pos<br>transaction_time=%{x}<br>amount(usd)=%{y}<extra></extra>",
         "legendgroup": "1",
         "marker": {
          "color": "#D93C1D",
          "symbol": "circle"
         },
         "mode": "markers",
         "name": "1",
         "showlegend": false,
         "type": "scattergl",
         "x": [
          "2019-01-06T00:00:00",
          "2019-01-13T00:00:00",
          "2019-01-20T00:00:00",
          "2019-01-27T00:00:00",
          "2019-02-03T00:00:00",
          "2019-02-10T00:00:00",
          "2019-02-17T00:00:00",
          "2019-02-24T00:00:00",
          "2019-03-03T00:00:00",
          "2019-03-10T00:00:00",
          "2019-03-17T00:00:00",
          "2019-03-24T00:00:00",
          "2019-03-31T00:00:00",
          "2019-04-07T00:00:00",
          "2019-04-14T00:00:00",
          "2019-04-21T00:00:00",
          "2019-04-28T00:00:00",
          "2019-05-05T00:00:00",
          "2019-05-12T00:00:00",
          "2019-05-19T00:00:00",
          "2019-05-26T00:00:00",
          "2019-06-02T00:00:00",
          "2019-06-09T00:00:00",
          "2019-06-16T00:00:00",
          "2019-06-23T00:00:00",
          "2019-06-30T00:00:00",
          "2019-07-07T00:00:00",
          "2019-07-14T00:00:00",
          "2019-07-21T00:00:00",
          "2019-07-28T00:00:00",
          "2019-08-04T00:00:00",
          "2019-08-11T00:00:00",
          "2019-08-18T00:00:00",
          "2019-08-25T00:00:00",
          "2019-09-01T00:00:00",
          "2019-09-08T00:00:00",
          "2019-09-15T00:00:00",
          "2019-09-22T00:00:00",
          "2019-09-29T00:00:00",
          "2019-10-06T00:00:00",
          "2019-10-13T00:00:00",
          "2019-10-20T00:00:00",
          "2019-10-27T00:00:00",
          "2019-11-03T00:00:00",
          "2019-11-10T00:00:00",
          "2019-11-17T00:00:00",
          "2019-11-24T00:00:00",
          "2019-12-01T00:00:00",
          "2019-12-08T00:00:00",
          "2019-12-15T00:00:00",
          "2019-12-22T00:00:00",
          "2019-12-29T00:00:00",
          "2020-01-05T00:00:00",
          "2020-01-12T00:00:00",
          "2020-01-19T00:00:00",
          "2020-01-26T00:00:00",
          "2020-02-02T00:00:00",
          "2020-02-09T00:00:00",
          "2020-02-16T00:00:00",
          "2020-02-23T00:00:00",
          "2020-03-01T00:00:00",
          "2020-03-08T00:00:00",
          "2020-03-15T00:00:00",
          "2020-03-22T00:00:00",
          "2020-03-29T00:00:00",
          "2020-04-05T00:00:00",
          "2020-04-12T00:00:00",
          "2020-04-19T00:00:00",
          "2020-04-26T00:00:00",
          "2020-05-03T00:00:00",
          "2020-05-10T00:00:00",
          "2020-05-17T00:00:00",
          "2020-05-24T00:00:00",
          "2020-05-31T00:00:00",
          "2020-06-07T00:00:00",
          "2020-06-14T00:00:00",
          "2020-06-21T00:00:00",
          "2020-06-28T00:00:00",
          "2020-07-05T00:00:00",
          "2020-07-12T00:00:00",
          "2020-07-19T00:00:00",
          "2020-07-26T00:00:00",
          "2020-08-02T00:00:00",
          "2020-08-09T00:00:00",
          "2020-08-16T00:00:00",
          "2020-08-23T00:00:00",
          "2020-08-30T00:00:00",
          "2020-09-06T00:00:00",
          "2020-09-13T00:00:00",
          "2020-09-20T00:00:00",
          "2020-09-27T00:00:00",
          "2020-10-04T00:00:00",
          "2020-10-11T00:00:00",
          "2020-10-18T00:00:00",
          "2020-10-25T00:00:00",
          "2020-11-01T00:00:00",
          "2020-11-08T00:00:00",
          "2020-11-15T00:00:00",
          "2020-11-22T00:00:00",
          "2020-11-29T00:00:00",
          "2020-12-06T00:00:00",
          "2020-12-13T00:00:00",
          "2020-12-20T00:00:00",
          "2020-12-27T00:00:00",
          "2021-01-03T00:00:00"
         ],
         "xaxis": "x4",
         "y": [
          49.61,
          747.655,
          174.178,
          311.68,
          481.456,
          7.72,
          23.096666666666664,
          7.826666666666667,
          8.0075,
          153.63833333333332,
          39.025,
          284.17,
          7.52,
          795.73,
          49.83,
          8.005,
          8.57,
          49.49,
          304.06666666666666,
          464.945,
          16.324,
          null,
          851.05,
          328.3471428571429,
          509.845,
          18.517500000000002,
          null,
          null,
          null,
          21.52,
          null,
          6.98,
          7.64,
          7.21,
          7.6933333333333325,
          8.27,
          146.09166666666667,
          28.35,
          856.01,
          28.835,
          8.206666666666667,
          317.8516666666667,
          9.12,
          8.3125,
          null,
          null,
          8.4,
          288.726,
          921.7349999999999,
          7.196666666666666,
          610.2366666666667,
          396.38750000000005,
          51.41,
          9.79,
          395.685,
          49.835,
          7.25,
          7.73,
          8.51,
          669.15,
          807.09,
          388.4275,
          8.925,
          227.59545454545457,
          null,
          8.75,
          9.235,
          829.8499999999999,
          8,
          393.22499999999997,
          7.576666666666667,
          337.06,
          199.5775,
          null,
          50.53,
          507.71999999999997,
          485.44375,
          8.39,
          22.496666666666666,
          174.2425,
          null,
          282.24666666666667,
          null,
          180.0011111111111,
          812.95,
          385.495,
          740.835,
          null,
          48.95,
          871.31,
          18.515,
          33.368,
          18.96,
          274.78333333333336,
          null,
          8.39,
          22.723333333333333,
          52.18,
          null,
          6.97,
          9.02,
          370.0275,
          null,
          null,
          null
         ],
         "yaxis": "y4"
        },
        {
         "hovertemplate": "is_fraud=1<br>category=personal_care<br>transaction_time=%{x}<br>amount(usd)=%{y}<extra></extra>",
         "legendgroup": "1",
         "marker": {
          "color": "#D93C1D",
          "symbol": "circle"
         },
         "mode": "markers",
         "name": "1",
         "showlegend": false,
         "type": "scattergl",
         "x": [
          "2019-01-06T00:00:00",
          "2019-01-13T00:00:00",
          "2019-01-20T00:00:00",
          "2019-01-27T00:00:00",
          "2019-02-03T00:00:00",
          "2019-02-10T00:00:00",
          "2019-02-17T00:00:00",
          "2019-02-24T00:00:00",
          "2019-03-03T00:00:00",
          "2019-03-10T00:00:00",
          "2019-03-17T00:00:00",
          "2019-03-24T00:00:00",
          "2019-03-31T00:00:00",
          "2019-04-07T00:00:00",
          "2019-04-14T00:00:00",
          "2019-04-21T00:00:00",
          "2019-04-28T00:00:00",
          "2019-05-05T00:00:00",
          "2019-05-12T00:00:00",
          "2019-05-19T00:00:00",
          "2019-05-26T00:00:00",
          "2019-06-02T00:00:00",
          "2019-06-09T00:00:00",
          "2019-06-16T00:00:00",
          "2019-06-23T00:00:00",
          "2019-06-30T00:00:00",
          "2019-07-07T00:00:00",
          "2019-07-14T00:00:00",
          "2019-07-21T00:00:00",
          "2019-07-28T00:00:00",
          "2019-08-04T00:00:00",
          "2019-08-11T00:00:00",
          "2019-08-18T00:00:00",
          "2019-08-25T00:00:00",
          "2019-09-01T00:00:00",
          "2019-09-08T00:00:00",
          "2019-09-15T00:00:00",
          "2019-09-22T00:00:00",
          "2019-09-29T00:00:00",
          "2019-10-06T00:00:00",
          "2019-10-13T00:00:00",
          "2019-10-20T00:00:00",
          "2019-10-27T00:00:00",
          "2019-11-03T00:00:00",
          "2019-11-10T00:00:00",
          "2019-11-17T00:00:00",
          "2019-11-24T00:00:00",
          "2019-12-01T00:00:00",
          "2019-12-08T00:00:00",
          "2019-12-15T00:00:00",
          "2019-12-22T00:00:00",
          "2019-12-29T00:00:00",
          "2020-01-05T00:00:00",
          "2020-01-12T00:00:00",
          "2020-01-19T00:00:00",
          "2020-01-26T00:00:00",
          "2020-02-02T00:00:00",
          "2020-02-09T00:00:00",
          "2020-02-16T00:00:00",
          "2020-02-23T00:00:00",
          "2020-03-01T00:00:00",
          "2020-03-08T00:00:00",
          "2020-03-15T00:00:00",
          "2020-03-22T00:00:00",
          "2020-03-29T00:00:00",
          "2020-04-05T00:00:00",
          "2020-04-12T00:00:00",
          "2020-04-19T00:00:00",
          "2020-04-26T00:00:00",
          "2020-05-03T00:00:00",
          "2020-05-10T00:00:00",
          "2020-05-17T00:00:00",
          "2020-05-24T00:00:00",
          "2020-05-31T00:00:00",
          "2020-06-07T00:00:00",
          "2020-06-14T00:00:00",
          "2020-06-21T00:00:00",
          "2020-06-28T00:00:00",
          "2020-07-05T00:00:00",
          "2020-07-12T00:00:00",
          "2020-07-19T00:00:00",
          "2020-07-26T00:00:00",
          "2020-08-02T00:00:00",
          "2020-08-09T00:00:00",
          "2020-08-16T00:00:00",
          "2020-08-23T00:00:00",
          "2020-08-30T00:00:00",
          "2020-09-06T00:00:00",
          "2020-09-13T00:00:00",
          "2020-09-20T00:00:00",
          "2020-09-27T00:00:00",
          "2020-10-04T00:00:00",
          "2020-10-11T00:00:00",
          "2020-10-18T00:00:00",
          "2020-10-25T00:00:00",
          "2020-11-01T00:00:00",
          "2020-11-08T00:00:00",
          "2020-11-15T00:00:00",
          "2020-11-22T00:00:00",
          "2020-11-29T00:00:00",
          "2020-12-06T00:00:00",
          "2020-12-13T00:00:00",
          "2020-12-20T00:00:00",
          "2020-12-27T00:00:00",
          "2021-01-03T00:00:00"
         ],
         "xaxis": "x5",
         "y": [
          null,
          null,
          25.55,
          50.66,
          20.55142857142857,
          35.12,
          20.25,
          19.97666666666667,
          26.55,
          18.6,
          43.315,
          20.627499999999998,
          21.96,
          35.739999999999995,
          22.51,
          19.41,
          20.51,
          20.096666666666664,
          30.683333333333334,
          null,
          21.0425,
          19.79,
          30.726666666666663,
          53.19,
          23.325,
          50.8,
          20.439999999999998,
          null,
          17.95,
          49.8,
          22.866666666666664,
          19.02,
          17.005,
          19.055,
          18.965,
          17.49,
          18.38,
          19.95,
          34.93,
          30.603333333333335,
          30.816666666666666,
          35.980000000000004,
          20.01,
          39.25,
          23.09,
          null,
          19.73,
          20.91,
          24.43625,
          19.765,
          34.225,
          21.835,
          19.354999999999997,
          20.656666666666666,
          21.21,
          20.816666666666666,
          18.58,
          null,
          null,
          49.1,
          null,
          21.25,
          22.1,
          19.77375,
          null,
          48.8,
          19.58,
          null,
          20.04,
          26.564999999999998,
          34.8925,
          20.3125,
          33.69,
          35.47,
          21.62,
          21.02,
          25.906666666666666,
          34.14,
          20.9025,
          null,
          20.895,
          20.335,
          null,
          26.445999999999998,
          19.35,
          null,
          28.59,
          19.023333333333333,
          null,
          null,
          20.572,
          null,
          19.988,
          52.83,
          20.94,
          21.630000000000003,
          20.72,
          34.37,
          null,
          null,
          30.826666666666668,
          21.71,
          21.595,
          null,
          null
         ],
         "yaxis": "y5"
        },
        {
         "hovertemplate": "is_fraud=1<br>category=shopping_net<br>transaction_time=%{x}<br>amount(usd)=%{y}<extra></extra>",
         "legendgroup": "1",
         "marker": {
          "color": "#D93C1D",
          "symbol": "circle"
         },
         "mode": "markers",
         "name": "1",
         "showlegend": false,
         "type": "scattergl",
         "x": [
          "2019-01-06T00:00:00",
          "2019-01-13T00:00:00",
          "2019-01-20T00:00:00",
          "2019-01-27T00:00:00",
          "2019-02-03T00:00:00",
          "2019-02-10T00:00:00",
          "2019-02-17T00:00:00",
          "2019-02-24T00:00:00",
          "2019-03-03T00:00:00",
          "2019-03-10T00:00:00",
          "2019-03-17T00:00:00",
          "2019-03-24T00:00:00",
          "2019-03-31T00:00:00",
          "2019-04-07T00:00:00",
          "2019-04-14T00:00:00",
          "2019-04-21T00:00:00",
          "2019-04-28T00:00:00",
          "2019-05-05T00:00:00",
          "2019-05-12T00:00:00",
          "2019-05-19T00:00:00",
          "2019-05-26T00:00:00",
          "2019-06-02T00:00:00",
          "2019-06-09T00:00:00",
          "2019-06-16T00:00:00",
          "2019-06-23T00:00:00",
          "2019-06-30T00:00:00",
          "2019-07-07T00:00:00",
          "2019-07-14T00:00:00",
          "2019-07-21T00:00:00",
          "2019-07-28T00:00:00",
          "2019-08-04T00:00:00",
          "2019-08-11T00:00:00",
          "2019-08-18T00:00:00",
          "2019-08-25T00:00:00",
          "2019-09-01T00:00:00",
          "2019-09-08T00:00:00",
          "2019-09-15T00:00:00",
          "2019-09-22T00:00:00",
          "2019-09-29T00:00:00",
          "2019-10-06T00:00:00",
          "2019-10-13T00:00:00",
          "2019-10-20T00:00:00",
          "2019-10-27T00:00:00",
          "2019-11-03T00:00:00",
          "2019-11-10T00:00:00",
          "2019-11-17T00:00:00",
          "2019-11-24T00:00:00",
          "2019-12-01T00:00:00",
          "2019-12-08T00:00:00",
          "2019-12-15T00:00:00",
          "2019-12-22T00:00:00",
          "2019-12-29T00:00:00",
          "2020-01-05T00:00:00",
          "2020-01-12T00:00:00",
          "2020-01-19T00:00:00",
          "2020-01-26T00:00:00",
          "2020-02-02T00:00:00",
          "2020-02-09T00:00:00",
          "2020-02-16T00:00:00",
          "2020-02-23T00:00:00",
          "2020-03-01T00:00:00",
          "2020-03-08T00:00:00",
          "2020-03-15T00:00:00",
          "2020-03-22T00:00:00",
          "2020-03-29T00:00:00",
          "2020-04-05T00:00:00",
          "2020-04-12T00:00:00",
          "2020-04-19T00:00:00",
          "2020-04-26T00:00:00",
          "2020-05-03T00:00:00",
          "2020-05-10T00:00:00",
          "2020-05-17T00:00:00",
          "2020-05-24T00:00:00",
          "2020-05-31T00:00:00",
          "2020-06-07T00:00:00",
          "2020-06-14T00:00:00",
          "2020-06-21T00:00:00",
          "2020-06-28T00:00:00",
          "2020-07-05T00:00:00",
          "2020-07-12T00:00:00",
          "2020-07-19T00:00:00",
          "2020-07-26T00:00:00",
          "2020-08-02T00:00:00",
          "2020-08-09T00:00:00",
          "2020-08-16T00:00:00",
          "2020-08-23T00:00:00",
          "2020-08-30T00:00:00",
          "2020-09-06T00:00:00",
          "2020-09-13T00:00:00",
          "2020-09-20T00:00:00",
          "2020-09-27T00:00:00",
          "2020-10-04T00:00:00",
          "2020-10-11T00:00:00",
          "2020-10-18T00:00:00",
          "2020-10-25T00:00:00",
          "2020-11-01T00:00:00",
          "2020-11-08T00:00:00",
          "2020-11-15T00:00:00",
          "2020-11-22T00:00:00",
          "2020-11-29T00:00:00",
          "2020-12-06T00:00:00",
          "2020-12-13T00:00:00",
          "2020-12-20T00:00:00",
          "2020-12-27T00:00:00",
          "2021-01-03T00:00:00"
         ],
         "xaxis": "x6",
         "y": [
          947.2811111111109,
          991.2516,
          1008.0169444444444,
          1040.1583333333333,
          1005.4004761904762,
          1002.7126315789474,
          981.1629166666667,
          1001.7961538461539,
          987.3469230769231,
          1010.0478571428572,
          987.6927777777778,
          1065.314375,
          1022.7790476190477,
          945.7716666666666,
          980.9914285714286,
          987.0238461538461,
          996.3305555555556,
          1017.4749999999999,
          993.6914285714286,
          1026.9111111111113,
          988.0973333333334,
          981.327,
          997.3791666666666,
          1006.36125,
          1021.664,
          960.78125,
          1023.0409090909092,
          1008.7522222222223,
          963.425,
          1000.2577272727272,
          1010.5092857142856,
          999.62,
          963.3933333333334,
          1017.0307142857143,
          986.9283333333333,
          994.024,
          985.7395,
          1009.9238461538462,
          992.9595833333333,
          981.7811764705882,
          978.1225000000001,
          1033.7584375,
          1018.4662500000001,
          1012.7145833333334,
          1037.5040000000001,
          958.3433333333334,
          948.2184615384615,
          1007.2833333333333,
          995.835,
          1017.8023529411764,
          1049.4335483870968,
          1004.3924999999999,
          997.0236842105263,
          1013.4589473684211,
          958.044,
          932.893,
          994.3819047619048,
          992.6029999999998,
          938.2535714285714,
          1030.9004761904762,
          1033.5475,
          966.875,
          1038.2033333333334,
          977.6889285714286,
          962.317,
          997.04,
          1039.9025,
          969.7805882352941,
          1009.0046153846154,
          966.37625,
          1012.12125,
          1052.2328571428573,
          956.9946153846154,
          982.7564705882353,
          1008.7738095238095,
          977.0305882352941,
          1009.3435714285714,
          1012.44125,
          1004.39625,
          999.1315000000001,
          970.3266666666666,
          1014.825,
          1014.8225000000001,
          1019.2938461538462,
          1009.436875,
          986.2225,
          981.89625,
          1031.5072727272727,
          977.1821428571428,
          980.1964705882353,
          1021.080909090909,
          1018.6903703703704,
          1002.418,
          962.1835714285714,
          969.0028571428571,
          957.366,
          975.963125,
          1032.2455555555555,
          1011.5735714285714,
          980.4616666666667,
          998.9958333333333,
          999.5973333333333,
          974.1584615384616,
          926.03,
          null
         ],
         "yaxis": "y6"
        },
        {
         "hovertemplate": "is_fraud=1<br>category=shopping_pos<br>transaction_time=%{x}<br>amount(usd)=%{y}<extra></extra>",
         "legendgroup": "1",
         "marker": {
          "color": "#D93C1D",
          "symbol": "circle"
         },
         "mode": "markers",
         "name": "1",
         "showlegend": false,
         "type": "scattergl",
         "x": [
          "2019-01-06T00:00:00",
          "2019-01-13T00:00:00",
          "2019-01-20T00:00:00",
          "2019-01-27T00:00:00",
          "2019-02-03T00:00:00",
          "2019-02-10T00:00:00",
          "2019-02-17T00:00:00",
          "2019-02-24T00:00:00",
          "2019-03-03T00:00:00",
          "2019-03-10T00:00:00",
          "2019-03-17T00:00:00",
          "2019-03-24T00:00:00",
          "2019-03-31T00:00:00",
          "2019-04-07T00:00:00",
          "2019-04-14T00:00:00",
          "2019-04-21T00:00:00",
          "2019-04-28T00:00:00",
          "2019-05-05T00:00:00",
          "2019-05-12T00:00:00",
          "2019-05-19T00:00:00",
          "2019-05-26T00:00:00",
          "2019-06-02T00:00:00",
          "2019-06-09T00:00:00",
          "2019-06-16T00:00:00",
          "2019-06-23T00:00:00",
          "2019-06-30T00:00:00",
          "2019-07-07T00:00:00",
          "2019-07-14T00:00:00",
          "2019-07-21T00:00:00",
          "2019-07-28T00:00:00",
          "2019-08-04T00:00:00",
          "2019-08-11T00:00:00",
          "2019-08-18T00:00:00",
          "2019-08-25T00:00:00",
          "2019-09-01T00:00:00",
          "2019-09-08T00:00:00",
          "2019-09-15T00:00:00",
          "2019-09-22T00:00:00",
          "2019-09-29T00:00:00",
          "2019-10-06T00:00:00",
          "2019-10-13T00:00:00",
          "2019-10-20T00:00:00",
          "2019-10-27T00:00:00",
          "2019-11-03T00:00:00",
          "2019-11-10T00:00:00",
          "2019-11-17T00:00:00",
          "2019-11-24T00:00:00",
          "2019-12-01T00:00:00",
          "2019-12-08T00:00:00",
          "2019-12-15T00:00:00",
          "2019-12-22T00:00:00",
          "2019-12-29T00:00:00",
          "2020-01-05T00:00:00",
          "2020-01-12T00:00:00",
          "2020-01-19T00:00:00",
          "2020-01-26T00:00:00",
          "2020-02-02T00:00:00",
          "2020-02-09T00:00:00",
          "2020-02-16T00:00:00",
          "2020-02-23T00:00:00",
          "2020-03-01T00:00:00",
          "2020-03-08T00:00:00",
          "2020-03-15T00:00:00",
          "2020-03-22T00:00:00",
          "2020-03-29T00:00:00",
          "2020-04-05T00:00:00",
          "2020-04-12T00:00:00",
          "2020-04-19T00:00:00",
          "2020-04-26T00:00:00",
          "2020-05-03T00:00:00",
          "2020-05-10T00:00:00",
          "2020-05-17T00:00:00",
          "2020-05-24T00:00:00",
          "2020-05-31T00:00:00",
          "2020-06-07T00:00:00",
          "2020-06-14T00:00:00",
          "2020-06-21T00:00:00",
          "2020-06-28T00:00:00",
          "2020-07-05T00:00:00",
          "2020-07-12T00:00:00",
          "2020-07-19T00:00:00",
          "2020-07-26T00:00:00",
          "2020-08-02T00:00:00",
          "2020-08-09T00:00:00",
          "2020-08-16T00:00:00",
          "2020-08-23T00:00:00",
          "2020-08-30T00:00:00",
          "2020-09-06T00:00:00",
          "2020-09-13T00:00:00",
          "2020-09-20T00:00:00",
          "2020-09-27T00:00:00",
          "2020-10-04T00:00:00",
          "2020-10-11T00:00:00",
          "2020-10-18T00:00:00",
          "2020-10-25T00:00:00",
          "2020-11-01T00:00:00",
          "2020-11-08T00:00:00",
          "2020-11-15T00:00:00",
          "2020-11-22T00:00:00",
          "2020-11-29T00:00:00",
          "2020-12-06T00:00:00",
          "2020-12-13T00:00:00",
          "2020-12-20T00:00:00",
          "2020-12-27T00:00:00",
          "2021-01-03T00:00:00"
         ],
         "xaxis": "x",
         "y": [
          786.5975,
          883.9525,
          879.865,
          846.07,
          891.5257142857143,
          864.878,
          857.39125,
          866.7618181818181,
          914.1741666666667,
          947.1036363636363,
          897.2209999999999,
          954.0530000000001,
          822.1083333333332,
          865.015,
          888.186,
          859.9290909090909,
          870.7709090909091,
          954.9683333333334,
          768.3520000000001,
          935.1885714285714,
          943.6772727272728,
          806.28,
          826.202,
          926.7116666666667,
          853.5875,
          849.5475,
          875.9475,
          946.1336363636364,
          null,
          820.7453846153846,
          888.7575,
          923.569090909091,
          838.75,
          921.936,
          853.1366666666667,
          929.3466666666667,
          930.211,
          891.7988888888889,
          829.98875,
          848.8983333333334,
          827.811,
          875.961,
          828.04,
          875.0415384615385,
          845.726,
          874.2940000000001,
          846.485,
          837.028,
          832.1473333333334,
          899.565,
          930.9566666666667,
          864.100625,
          852.3785714285714,
          975.1766666666667,
          800.255,
          815.324,
          889.4575,
          935.6833333333334,
          884.8249999999999,
          800.975,
          843.9957142857144,
          850.5219999999999,
          834.8923076923077,
          814.03,
          966.2933333333334,
          968.664,
          869.8328571428572,
          830.7216666666667,
          896.91875,
          851.2027272727272,
          874.6550000000001,
          896.3960000000001,
          901.425,
          866.8811111111112,
          918.0383333333333,
          958.125,
          866.1442857142857,
          890.7075,
          847.2616666666667,
          893.6472727272726,
          799.2766666666666,
          831.184,
          930.2771428571428,
          954.3254545454546,
          903.8466666666667,
          862.8971428571429,
          912.5237500000001,
          895.005,
          859.5733333333334,
          862.8879999999999,
          943.1540000000001,
          960.33,
          850.9966666666666,
          940.35,
          1071.8799999999999,
          812.79,
          791.9675,
          766.48,
          804.9925000000001,
          945.0844444444444,
          995.5014285714286,
          858.518,
          865.605,
          954.8,
          null
         ],
         "yaxis": "y"
        },
        {
         "hovertemplate": "is_fraud=1<br>category=travel<br>transaction_time=%{x}<br>amount(usd)=%{y}<extra></extra>",
         "legendgroup": "1",
         "marker": {
          "color": "#D93C1D",
          "symbol": "circle"
         },
         "mode": "markers",
         "name": "1",
         "showlegend": false,
         "type": "scattergl",
         "x": [
          "2019-01-06T00:00:00",
          "2019-01-13T00:00:00",
          "2019-01-20T00:00:00",
          "2019-01-27T00:00:00",
          "2019-02-03T00:00:00",
          "2019-02-10T00:00:00",
          "2019-02-17T00:00:00",
          "2019-02-24T00:00:00",
          "2019-03-03T00:00:00",
          "2019-03-10T00:00:00",
          "2019-03-17T00:00:00",
          "2019-03-24T00:00:00",
          "2019-03-31T00:00:00",
          "2019-04-07T00:00:00",
          "2019-04-14T00:00:00",
          "2019-04-21T00:00:00",
          "2019-04-28T00:00:00",
          "2019-05-05T00:00:00",
          "2019-05-12T00:00:00",
          "2019-05-19T00:00:00",
          "2019-05-26T00:00:00",
          "2019-06-02T00:00:00",
          "2019-06-09T00:00:00",
          "2019-06-16T00:00:00",
          "2019-06-23T00:00:00",
          "2019-06-30T00:00:00",
          "2019-07-07T00:00:00",
          "2019-07-14T00:00:00",
          "2019-07-21T00:00:00",
          "2019-07-28T00:00:00",
          "2019-08-04T00:00:00",
          "2019-08-11T00:00:00",
          "2019-08-18T00:00:00",
          "2019-08-25T00:00:00",
          "2019-09-01T00:00:00",
          "2019-09-08T00:00:00",
          "2019-09-15T00:00:00",
          "2019-09-22T00:00:00",
          "2019-09-29T00:00:00",
          "2019-10-06T00:00:00",
          "2019-10-13T00:00:00",
          "2019-10-20T00:00:00",
          "2019-10-27T00:00:00",
          "2019-11-03T00:00:00",
          "2019-11-10T00:00:00",
          "2019-11-17T00:00:00",
          "2019-11-24T00:00:00",
          "2019-12-01T00:00:00",
          "2019-12-08T00:00:00",
          "2019-12-15T00:00:00",
          "2019-12-22T00:00:00",
          "2019-12-29T00:00:00",
          "2020-01-05T00:00:00",
          "2020-01-12T00:00:00",
          "2020-01-19T00:00:00",
          "2020-01-26T00:00:00",
          "2020-02-02T00:00:00",
          "2020-02-09T00:00:00",
          "2020-02-16T00:00:00",
          "2020-02-23T00:00:00",
          "2020-03-01T00:00:00",
          "2020-03-08T00:00:00",
          "2020-03-15T00:00:00",
          "2020-03-22T00:00:00",
          "2020-03-29T00:00:00",
          "2020-04-05T00:00:00",
          "2020-04-12T00:00:00",
          "2020-04-19T00:00:00",
          "2020-04-26T00:00:00",
          "2020-05-03T00:00:00",
          "2020-05-10T00:00:00",
          "2020-05-17T00:00:00",
          "2020-05-24T00:00:00",
          "2020-05-31T00:00:00",
          "2020-06-07T00:00:00",
          "2020-06-14T00:00:00",
          "2020-06-21T00:00:00",
          "2020-06-28T00:00:00",
          "2020-07-05T00:00:00",
          "2020-07-12T00:00:00",
          "2020-07-19T00:00:00",
          "2020-07-26T00:00:00",
          "2020-08-02T00:00:00",
          "2020-08-09T00:00:00",
          "2020-08-16T00:00:00",
          "2020-08-23T00:00:00",
          "2020-08-30T00:00:00",
          "2020-09-06T00:00:00",
          "2020-09-13T00:00:00",
          "2020-09-20T00:00:00",
          "2020-09-27T00:00:00",
          "2020-10-04T00:00:00",
          "2020-10-11T00:00:00",
          "2020-10-18T00:00:00",
          "2020-10-25T00:00:00",
          "2020-11-01T00:00:00",
          "2020-11-08T00:00:00",
          "2020-11-15T00:00:00",
          "2020-11-22T00:00:00",
          "2020-11-29T00:00:00",
          "2020-12-06T00:00:00",
          "2020-12-13T00:00:00",
          "2020-12-20T00:00:00",
          "2020-12-27T00:00:00",
          "2021-01-03T00:00:00"
         ],
         "xaxis": "x2",
         "y": [
          null,
          10.53,
          9.706666666666665,
          10.184999999999999,
          9.22,
          null,
          11.04,
          null,
          10.07,
          8.809999999999999,
          7.335000000000001,
          11.176666666666668,
          7.55,
          9.99,
          null,
          null,
          10.92,
          4.013333333333333,
          5.6450000000000005,
          10.51,
          9.52,
          null,
          null,
          9.25,
          10.065000000000001,
          null,
          11.25,
          9.364999999999998,
          11.62,
          11.075,
          6.41,
          null,
          11.433333333333332,
          10.879999999999999,
          10.09,
          null,
          8.546666666666667,
          6.176666666666667,
          10.23,
          null,
          null,
          7.9775,
          5.1,
          10.204999999999998,
          null,
          11.91,
          null,
          11.35,
          9.42,
          10.875,
          8.73,
          7.84,
          null,
          9.469999999999999,
          10.16,
          8.93,
          9.97,
          7.82,
          3.1,
          12.32,
          null,
          10.62,
          11.56,
          11.04,
          11.01,
          null,
          10.76,
          5.87,
          9.82,
          9.09,
          10.64,
          10.96,
          12.36,
          9.23,
          null,
          10.263333333333334,
          9.72,
          9.99,
          9.585,
          7.9,
          9,
          null,
          5.26,
          10.535,
          9.469999999999999,
          10.23,
          10.3,
          10.344999999999999,
          8.115,
          null,
          11.76,
          7.736666666666667,
          1.78,
          9.16,
          null,
          10.53,
          7.15,
          7.93,
          10,
          null,
          null,
          8.42,
          9.27,
          null,
          null
         ],
         "yaxis": "y2"
        }
       ],
       "layout": {
        "annotations": [
         {
          "font": {},
          "showarrow": false,
          "text": "category=shopping_pos",
          "x": 0.15333333333333332,
          "xanchor": "center",
          "xref": "paper",
          "y": 0.144,
          "yanchor": "bottom",
          "yref": "paper"
         },
         {
          "font": {},
          "showarrow": false,
          "text": "category=travel",
          "x": 0.5,
          "xanchor": "center",
          "xref": "paper",
          "y": 0.144,
          "yanchor": "bottom",
          "yref": "paper"
         },
         {
          "font": {},
          "showarrow": false,
          "text": "category=misc_pos",
          "x": 0.15333333333333332,
          "xanchor": "center",
          "xref": "paper",
          "y": 0.358,
          "yanchor": "bottom",
          "yref": "paper"
         },
         {
          "font": {},
          "showarrow": false,
          "text": "category=personal_care",
          "x": 0.5,
          "xanchor": "center",
          "xref": "paper",
          "y": 0.358,
          "yanchor": "bottom",
          "yref": "paper"
         },
         {
          "font": {},
          "showarrow": false,
          "text": "category=shopping_net",
          "x": 0.8466666666666666,
          "xanchor": "center",
          "xref": "paper",
          "y": 0.358,
          "yanchor": "bottom",
          "yref": "paper"
         },
         {
          "font": {},
          "showarrow": false,
          "text": "category=home",
          "x": 0.15333333333333332,
          "xanchor": "center",
          "xref": "paper",
          "y": 0.572,
          "yanchor": "bottom",
          "yref": "paper"
         },
         {
          "font": {},
          "showarrow": false,
          "text": "category=kids_pets",
          "x": 0.5,
          "xanchor": "center",
          "xref": "paper",
          "y": 0.572,
          "yanchor": "bottom",
          "yref": "paper"
         },
         {
          "font": {},
          "showarrow": false,
          "text": "category=misc_net",
          "x": 0.8466666666666666,
          "xanchor": "center",
          "xref": "paper",
          "y": 0.572,
          "yanchor": "bottom",
          "yref": "paper"
         },
         {
          "font": {},
          "showarrow": false,
          "text": "category=grocery_net",
          "x": 0.15333333333333332,
          "xanchor": "center",
          "xref": "paper",
          "y": 0.7859999999999999,
          "yanchor": "bottom",
          "yref": "paper"
         },
         {
          "font": {},
          "showarrow": false,
          "text": "category=grocery_pos",
          "x": 0.5,
          "xanchor": "center",
          "xref": "paper",
          "y": 0.7859999999999999,
          "yanchor": "bottom",
          "yref": "paper"
         },
         {
          "font": {},
          "showarrow": false,
          "text": "category=health_fitness",
          "x": 0.8466666666666666,
          "xanchor": "center",
          "xref": "paper",
          "y": 0.7859999999999999,
          "yanchor": "bottom",
          "yref": "paper"
         },
         {
          "font": {},
          "showarrow": false,
          "text": "category=entertainment",
          "x": 0.15333333333333332,
          "xanchor": "center",
          "xref": "paper",
          "y": 1,
          "yanchor": "bottom",
          "yref": "paper"
         },
         {
          "font": {},
          "showarrow": false,
          "text": "category=food_dining",
          "x": 0.5,
          "xanchor": "center",
          "xref": "paper",
          "y": 1,
          "yanchor": "bottom",
          "yref": "paper"
         },
         {
          "font": {},
          "showarrow": false,
          "text": "category=gas_transport",
          "x": 0.8466666666666666,
          "xanchor": "center",
          "xref": "paper",
          "y": 1,
          "yanchor": "bottom",
          "yref": "paper"
         }
        ],
        "height": 1400,
        "legend": {
         "title": {
          "text": "Is fraud?"
         },
         "tracegroupgap": 0
        },
        "margin": {
         "t": 60
        },
        "plot_bgcolor": "#fafafa",
        "template": {
         "data": {
          "bar": [
           {
            "error_x": {
             "color": "#2a3f5f"
            },
            "error_y": {
             "color": "#2a3f5f"
            },
            "marker": {
             "line": {
              "color": "#E5ECF6",
              "width": 0.5
             },
             "pattern": {
              "fillmode": "overlay",
              "size": 10,
              "solidity": 0.2
             }
            },
            "type": "bar"
           }
          ],
          "barpolar": [
           {
            "marker": {
             "line": {
              "color": "#E5ECF6",
              "width": 0.5
             },
             "pattern": {
              "fillmode": "overlay",
              "size": 10,
              "solidity": 0.2
             }
            },
            "type": "barpolar"
           }
          ],
          "carpet": [
           {
            "aaxis": {
             "endlinecolor": "#2a3f5f",
             "gridcolor": "white",
             "linecolor": "white",
             "minorgridcolor": "white",
             "startlinecolor": "#2a3f5f"
            },
            "baxis": {
             "endlinecolor": "#2a3f5f",
             "gridcolor": "white",
             "linecolor": "white",
             "minorgridcolor": "white",
             "startlinecolor": "#2a3f5f"
            },
            "type": "carpet"
           }
          ],
          "choropleth": [
           {
            "colorbar": {
             "outlinewidth": 0,
             "ticks": ""
            },
            "type": "choropleth"
           }
          ],
          "contour": [
           {
            "colorbar": {
             "outlinewidth": 0,
             "ticks": ""
            },
            "colorscale": [
             [
              0,
              "#0d0887"
             ],
             [
              0.1111111111111111,
              "#46039f"
             ],
             [
              0.2222222222222222,
              "#7201a8"
             ],
             [
              0.3333333333333333,
              "#9c179e"
             ],
             [
              0.4444444444444444,
              "#bd3786"
             ],
             [
              0.5555555555555556,
              "#d8576b"
             ],
             [
              0.6666666666666666,
              "#ed7953"
             ],
             [
              0.7777777777777778,
              "#fb9f3a"
             ],
             [
              0.8888888888888888,
              "#fdca26"
             ],
             [
              1,
              "#f0f921"
             ]
            ],
            "type": "contour"
           }
          ],
          "contourcarpet": [
           {
            "colorbar": {
             "outlinewidth": 0,
             "ticks": ""
            },
            "type": "contourcarpet"
           }
          ],
          "heatmap": [
           {
            "colorbar": {
             "outlinewidth": 0,
             "ticks": ""
            },
            "colorscale": [
             [
              0,
              "#0d0887"
             ],
             [
              0.1111111111111111,
              "#46039f"
             ],
             [
              0.2222222222222222,
              "#7201a8"
             ],
             [
              0.3333333333333333,
              "#9c179e"
             ],
             [
              0.4444444444444444,
              "#bd3786"
             ],
             [
              0.5555555555555556,
              "#d8576b"
             ],
             [
              0.6666666666666666,
              "#ed7953"
             ],
             [
              0.7777777777777778,
              "#fb9f3a"
             ],
             [
              0.8888888888888888,
              "#fdca26"
             ],
             [
              1,
              "#f0f921"
             ]
            ],
            "type": "heatmap"
           }
          ],
          "heatmapgl": [
           {
            "colorbar": {
             "outlinewidth": 0,
             "ticks": ""
            },
            "colorscale": [
             [
              0,
              "#0d0887"
             ],
             [
              0.1111111111111111,
              "#46039f"
             ],
             [
              0.2222222222222222,
              "#7201a8"
             ],
             [
              0.3333333333333333,
              "#9c179e"
             ],
             [
              0.4444444444444444,
              "#bd3786"
             ],
             [
              0.5555555555555556,
              "#d8576b"
             ],
             [
              0.6666666666666666,
              "#ed7953"
             ],
             [
              0.7777777777777778,
              "#fb9f3a"
             ],
             [
              0.8888888888888888,
              "#fdca26"
             ],
             [
              1,
              "#f0f921"
             ]
            ],
            "type": "heatmapgl"
           }
          ],
          "histogram": [
           {
            "marker": {
             "pattern": {
              "fillmode": "overlay",
              "size": 10,
              "solidity": 0.2
             }
            },
            "type": "histogram"
           }
          ],
          "histogram2d": [
           {
            "colorbar": {
             "outlinewidth": 0,
             "ticks": ""
            },
            "colorscale": [
             [
              0,
              "#0d0887"
             ],
             [
              0.1111111111111111,
              "#46039f"
             ],
             [
              0.2222222222222222,
              "#7201a8"
             ],
             [
              0.3333333333333333,
              "#9c179e"
             ],
             [
              0.4444444444444444,
              "#bd3786"
             ],
             [
              0.5555555555555556,
              "#d8576b"
             ],
             [
              0.6666666666666666,
              "#ed7953"
             ],
             [
              0.7777777777777778,
              "#fb9f3a"
             ],
             [
              0.8888888888888888,
              "#fdca26"
             ],
             [
              1,
              "#f0f921"
             ]
            ],
            "type": "histogram2d"
           }
          ],
          "histogram2dcontour": [
           {
            "colorbar": {
             "outlinewidth": 0,
             "ticks": ""
            },
            "colorscale": [
             [
              0,
              "#0d0887"
             ],
             [
              0.1111111111111111,
              "#46039f"
             ],
             [
              0.2222222222222222,
              "#7201a8"
             ],
             [
              0.3333333333333333,
              "#9c179e"
             ],
             [
              0.4444444444444444,
              "#bd3786"
             ],
             [
              0.5555555555555556,
              "#d8576b"
             ],
             [
              0.6666666666666666,
              "#ed7953"
             ],
             [
              0.7777777777777778,
              "#fb9f3a"
             ],
             [
              0.8888888888888888,
              "#fdca26"
             ],
             [
              1,
              "#f0f921"
             ]
            ],
            "type": "histogram2dcontour"
           }
          ],
          "mesh3d": [
           {
            "colorbar": {
             "outlinewidth": 0,
             "ticks": ""
            },
            "type": "mesh3d"
           }
          ],
          "parcoords": [
           {
            "line": {
             "colorbar": {
              "outlinewidth": 0,
              "ticks": ""
             }
            },
            "type": "parcoords"
           }
          ],
          "pie": [
           {
            "automargin": true,
            "type": "pie"
           }
          ],
          "scatter": [
           {
            "fillpattern": {
             "fillmode": "overlay",
             "size": 10,
             "solidity": 0.2
            },
            "type": "scatter"
           }
          ],
          "scatter3d": [
           {
            "line": {
             "colorbar": {
              "outlinewidth": 0,
              "ticks": ""
             }
            },
            "marker": {
             "colorbar": {
              "outlinewidth": 0,
              "ticks": ""
             }
            },
            "type": "scatter3d"
           }
          ],
          "scattercarpet": [
           {
            "marker": {
             "colorbar": {
              "outlinewidth": 0,
              "ticks": ""
             }
            },
            "type": "scattercarpet"
           }
          ],
          "scattergeo": [
           {
            "marker": {
             "colorbar": {
              "outlinewidth": 0,
              "ticks": ""
             }
            },
            "type": "scattergeo"
           }
          ],
          "scattergl": [
           {
            "marker": {
             "colorbar": {
              "outlinewidth": 0,
              "ticks": ""
             }
            },
            "type": "scattergl"
           }
          ],
          "scattermapbox": [
           {
            "marker": {
             "colorbar": {
              "outlinewidth": 0,
              "ticks": ""
             }
            },
            "type": "scattermapbox"
           }
          ],
          "scatterpolar": [
           {
            "marker": {
             "colorbar": {
              "outlinewidth": 0,
              "ticks": ""
             }
            },
            "type": "scatterpolar"
           }
          ],
          "scatterpolargl": [
           {
            "marker": {
             "colorbar": {
              "outlinewidth": 0,
              "ticks": ""
             }
            },
            "type": "scatterpolargl"
           }
          ],
          "scatterternary": [
           {
            "marker": {
             "colorbar": {
              "outlinewidth": 0,
              "ticks": ""
             }
            },
            "type": "scatterternary"
           }
          ],
          "surface": [
           {
            "colorbar": {
             "outlinewidth": 0,
             "ticks": ""
            },
            "colorscale": [
             [
              0,
              "#0d0887"
             ],
             [
              0.1111111111111111,
              "#46039f"
             ],
             [
              0.2222222222222222,
              "#7201a8"
             ],
             [
              0.3333333333333333,
              "#9c179e"
             ],
             [
              0.4444444444444444,
              "#bd3786"
             ],
             [
              0.5555555555555556,
              "#d8576b"
             ],
             [
              0.6666666666666666,
              "#ed7953"
             ],
             [
              0.7777777777777778,
              "#fb9f3a"
             ],
             [
              0.8888888888888888,
              "#fdca26"
             ],
             [
              1,
              "#f0f921"
             ]
            ],
            "type": "surface"
           }
          ],
          "table": [
           {
            "cells": {
             "fill": {
              "color": "#EBF0F8"
             },
             "line": {
              "color": "white"
             }
            },
            "header": {
             "fill": {
              "color": "#C8D4E3"
             },
             "line": {
              "color": "white"
             }
            },
            "type": "table"
           }
          ]
         },
         "layout": {
          "annotationdefaults": {
           "arrowcolor": "#2a3f5f",
           "arrowhead": 0,
           "arrowwidth": 1
          },
          "autotypenumbers": "strict",
          "coloraxis": {
           "colorbar": {
            "outlinewidth": 0,
            "ticks": ""
           }
          },
          "colorscale": {
           "diverging": [
            [
             0,
             "#8e0152"
            ],
            [
             0.1,
             "#c51b7d"
            ],
            [
             0.2,
             "#de77ae"
            ],
            [
             0.3,
             "#f1b6da"
            ],
            [
             0.4,
             "#fde0ef"
            ],
            [
             0.5,
             "#f7f7f7"
            ],
            [
             0.6,
             "#e6f5d0"
            ],
            [
             0.7,
             "#b8e186"
            ],
            [
             0.8,
             "#7fbc41"
            ],
            [
             0.9,
             "#4d9221"
            ],
            [
             1,
             "#276419"
            ]
           ],
           "sequential": [
            [
             0,
             "#0d0887"
            ],
            [
             0.1111111111111111,
             "#46039f"
            ],
            [
             0.2222222222222222,
             "#7201a8"
            ],
            [
             0.3333333333333333,
             "#9c179e"
            ],
            [
             0.4444444444444444,
             "#bd3786"
            ],
            [
             0.5555555555555556,
             "#d8576b"
            ],
            [
             0.6666666666666666,
             "#ed7953"
            ],
            [
             0.7777777777777778,
             "#fb9f3a"
            ],
            [
             0.8888888888888888,
             "#fdca26"
            ],
            [
             1,
             "#f0f921"
            ]
           ],
           "sequentialminus": [
            [
             0,
             "#0d0887"
            ],
            [
             0.1111111111111111,
             "#46039f"
            ],
            [
             0.2222222222222222,
             "#7201a8"
            ],
            [
             0.3333333333333333,
             "#9c179e"
            ],
            [
             0.4444444444444444,
             "#bd3786"
            ],
            [
             0.5555555555555556,
             "#d8576b"
            ],
            [
             0.6666666666666666,
             "#ed7953"
            ],
            [
             0.7777777777777778,
             "#fb9f3a"
            ],
            [
             0.8888888888888888,
             "#fdca26"
            ],
            [
             1,
             "#f0f921"
            ]
           ]
          },
          "colorway": [
           "#636efa",
           "#EF553B",
           "#00cc96",
           "#ab63fa",
           "#FFA15A",
           "#19d3f3",
           "#FF6692",
           "#B6E880",
           "#FF97FF",
           "#FECB52"
          ],
          "font": {
           "color": "#2a3f5f"
          },
          "geo": {
           "bgcolor": "white",
           "lakecolor": "white",
           "landcolor": "#E5ECF6",
           "showlakes": true,
           "showland": true,
           "subunitcolor": "white"
          },
          "hoverlabel": {
           "align": "left"
          },
          "hovermode": "closest",
          "mapbox": {
           "style": "light"
          },
          "paper_bgcolor": "white",
          "plot_bgcolor": "#E5ECF6",
          "polar": {
           "angularaxis": {
            "gridcolor": "white",
            "linecolor": "white",
            "ticks": ""
           },
           "bgcolor": "#E5ECF6",
           "radialaxis": {
            "gridcolor": "white",
            "linecolor": "white",
            "ticks": ""
           }
          },
          "scene": {
           "xaxis": {
            "backgroundcolor": "#E5ECF6",
            "gridcolor": "white",
            "gridwidth": 2,
            "linecolor": "white",
            "showbackground": true,
            "ticks": "",
            "zerolinecolor": "white"
           },
           "yaxis": {
            "backgroundcolor": "#E5ECF6",
            "gridcolor": "white",
            "gridwidth": 2,
            "linecolor": "white",
            "showbackground": true,
            "ticks": "",
            "zerolinecolor": "white"
           },
           "zaxis": {
            "backgroundcolor": "#E5ECF6",
            "gridcolor": "white",
            "gridwidth": 2,
            "linecolor": "white",
            "showbackground": true,
            "ticks": "",
            "zerolinecolor": "white"
           }
          },
          "shapedefaults": {
           "line": {
            "color": "#2a3f5f"
           }
          },
          "ternary": {
           "aaxis": {
            "gridcolor": "white",
            "linecolor": "white",
            "ticks": ""
           },
           "baxis": {
            "gridcolor": "white",
            "linecolor": "white",
            "ticks": ""
           },
           "bgcolor": "#E5ECF6",
           "caxis": {
            "gridcolor": "white",
            "linecolor": "white",
            "ticks": ""
           }
          },
          "title": {
           "x": 0.05
          },
          "xaxis": {
           "automargin": true,
           "gridcolor": "white",
           "linecolor": "white",
           "ticks": "",
           "title": {
            "standoff": 15
           },
           "zerolinecolor": "white",
           "zerolinewidth": 2
          },
          "yaxis": {
           "automargin": true,
           "gridcolor": "white",
           "linecolor": "white",
           "ticks": "",
           "title": {
            "standoff": 15
           },
           "zerolinecolor": "white",
           "zerolinewidth": 2
          }
         }
        },
        "width": 960,
        "xaxis": {
         "anchor": "y",
         "domain": [
          0,
          0.30666666666666664
         ],
         "showticklabels": true,
         "title": {
          "text": ""
         }
        },
        "xaxis10": {
         "anchor": "y10",
         "domain": [
          0,
          0.30666666666666664
         ],
         "matches": "x",
         "showticklabels": true,
         "title": {
          "text": ""
         }
        },
        "xaxis11": {
         "anchor": "y11",
         "domain": [
          0.3466666666666666,
          0.6533333333333333
         ],
         "matches": "x",
         "showticklabels": true,
         "title": {
          "text": ""
         }
        },
        "xaxis12": {
         "anchor": "y12",
         "domain": [
          0.6933333333333332,
          0.9999999999999999
         ],
         "matches": "x",
         "showticklabels": true,
         "title": {
          "text": ""
         }
        },
        "xaxis13": {
         "anchor": "y13",
         "domain": [
          0,
          0.30666666666666664
         ],
         "matches": "x",
         "showticklabels": true,
         "title": {
          "text": ""
         }
        },
        "xaxis14": {
         "anchor": "y14",
         "domain": [
          0.3466666666666666,
          0.6533333333333333
         ],
         "matches": "x",
         "showticklabels": true,
         "title": {
          "text": ""
         }
        },
        "xaxis15": {
         "anchor": "y15",
         "domain": [
          0.6933333333333332,
          0.9999999999999999
         ],
         "matches": "x",
         "showticklabels": true,
         "title": {
          "text": ""
         }
        },
        "xaxis2": {
         "anchor": "y2",
         "domain": [
          0.3466666666666666,
          0.6533333333333333
         ],
         "matches": "x",
         "showticklabels": true,
         "title": {
          "text": ""
         }
        },
        "xaxis3": {
         "anchor": "y3",
         "domain": [
          0.6933333333333332,
          0.9999999999999999
         ],
         "matches": "x",
         "showticklabels": true,
         "title": {
          "text": ""
         }
        },
        "xaxis4": {
         "anchor": "y4",
         "domain": [
          0,
          0.30666666666666664
         ],
         "matches": "x",
         "showticklabels": true,
         "title": {
          "text": ""
         }
        },
        "xaxis5": {
         "anchor": "y5",
         "domain": [
          0.3466666666666666,
          0.6533333333333333
         ],
         "matches": "x",
         "showticklabels": true,
         "title": {
          "text": ""
         }
        },
        "xaxis6": {
         "anchor": "y6",
         "domain": [
          0.6933333333333332,
          0.9999999999999999
         ],
         "matches": "x",
         "showticklabels": true,
         "title": {
          "text": ""
         }
        },
        "xaxis7": {
         "anchor": "y7",
         "domain": [
          0,
          0.30666666666666664
         ],
         "matches": "x",
         "showticklabels": true,
         "title": {
          "text": ""
         }
        },
        "xaxis8": {
         "anchor": "y8",
         "domain": [
          0.3466666666666666,
          0.6533333333333333
         ],
         "matches": "x",
         "showticklabels": true,
         "title": {
          "text": ""
         }
        },
        "xaxis9": {
         "anchor": "y9",
         "domain": [
          0.6933333333333332,
          0.9999999999999999
         ],
         "matches": "x",
         "showticklabels": true,
         "title": {
          "text": ""
         }
        },
        "yaxis": {
         "anchor": "x",
         "domain": [
          0,
          0.144
         ],
         "showticklabels": true,
         "title": {
          "text": "amount(usd)"
         }
        },
        "yaxis10": {
         "anchor": "x10",
         "domain": [
          0.6419999999999999,
          0.7859999999999999
         ],
         "showticklabels": true,
         "title": {
          "text": "amount(usd)"
         }
        },
        "yaxis11": {
         "anchor": "x11",
         "domain": [
          0.6419999999999999,
          0.7859999999999999
         ],
         "showticklabels": true
        },
        "yaxis12": {
         "anchor": "x12",
         "domain": [
          0.6419999999999999,
          0.7859999999999999
         ],
         "showticklabels": true
        },
        "yaxis13": {
         "anchor": "x13",
         "domain": [
          0.856,
          1
         ],
         "showticklabels": true,
         "title": {
          "text": "amount(usd)"
         }
        },
        "yaxis14": {
         "anchor": "x14",
         "domain": [
          0.856,
          1
         ],
         "showticklabels": true
        },
        "yaxis15": {
         "anchor": "x15",
         "domain": [
          0.856,
          1
         ],
         "showticklabels": true
        },
        "yaxis2": {
         "anchor": "x2",
         "domain": [
          0,
          0.144
         ],
         "showticklabels": true
        },
        "yaxis3": {
         "anchor": "x3",
         "domain": [
          0,
          0.144
         ],
         "showticklabels": true
        },
        "yaxis4": {
         "anchor": "x4",
         "domain": [
          0.214,
          0.358
         ],
         "showticklabels": true,
         "title": {
          "text": "amount(usd)"
         }
        },
        "yaxis5": {
         "anchor": "x5",
         "domain": [
          0.214,
          0.358
         ],
         "showticklabels": true
        },
        "yaxis6": {
         "anchor": "x6",
         "domain": [
          0.214,
          0.358
         ],
         "showticklabels": true
        },
        "yaxis7": {
         "anchor": "x7",
         "domain": [
          0.428,
          0.572
         ],
         "showticklabels": true,
         "title": {
          "text": "amount(usd)"
         }
        },
        "yaxis8": {
         "anchor": "x8",
         "domain": [
          0.428,
          0.572
         ],
         "showticklabels": true
        },
        "yaxis9": {
         "anchor": "x9",
         "domain": [
          0.428,
          0.572
         ],
         "showticklabels": true
        }
       }
      }
     },
     "metadata": {},
     "output_type": "display_data"
    }
   ],
   "source": [
    "# The category of the fraudulent transactions was plotted.\n",
    "df_ = df_train.groupby(by=[pd.Grouper(key=\"transaction_time\", freq=\"1W\"),\n",
    "                           'is_fraud','category']).agg({\"amount(usd)\":'mean',\"transaction_id\":\"count\"}).reset_index()\n",
    "fig = px.scatter(df_,\n",
    "        x='transaction_time',\n",
    "        y='amount(usd)',\n",
    "        color='is_fraud',\n",
    "        facet_col ='category',\n",
    "        facet_col_wrap=3,\n",
    "        facet_col_spacing=.04,\n",
    "        color_discrete_map={0:'#61E50F', 1:'#D93C1D'}\n",
    ")\n",
    "fig.update_layout(height=1400,\n",
    "                  width=960,\n",
    "                  legend=dict(title='Is fraud?'),\n",
    "                  plot_bgcolor='#fafafa'\n",
    "                 )\n",
    "fig.update_yaxes(matches=None)\n",
    "fig.for_each_yaxis(lambda yaxis: yaxis.update(showticklabels=True))\n",
    "fig.for_each_xaxis(lambda xaxis: xaxis.update(showticklabels=True, title=''))\n",
    "fig.show();"
   ]
  },
  {
   "cell_type": "code",
   "execution_count": null,
   "metadata": {},
   "outputs": [
    {
     "data": {
      "application/vnd.plotly.v1+json": {
       "config": {
        "plotlyServerURL": "https://plot.ly"
       },
       "data": [
        {
         "fillpattern": {
          "shape": ""
         },
         "hovertemplate": "category=entertainment<br>transaction_time=%{x}<br>amount(usd)=%{y}<extra></extra>",
         "legendgroup": "entertainment",
         "line": {
          "color": "#2E91E5"
         },
         "marker": {
          "symbol": "circle"
         },
         "mode": "lines",
         "name": "entertainment",
         "orientation": "v",
         "showlegend": true,
         "stackgroup": "1",
         "type": "scatter",
         "x": [
          "2019-01-31T00:00:00",
          "2019-02-28T00:00:00",
          "2019-03-31T00:00:00",
          "2019-04-30T00:00:00",
          "2019-05-31T00:00:00",
          "2019-06-30T00:00:00",
          "2019-07-31T00:00:00",
          "2019-08-31T00:00:00",
          "2019-09-30T00:00:00",
          "2019-10-31T00:00:00",
          "2019-11-30T00:00:00",
          "2019-12-31T00:00:00",
          "2020-01-31T00:00:00",
          "2020-02-29T00:00:00",
          "2020-03-31T00:00:00",
          "2020-04-30T00:00:00",
          "2020-05-31T00:00:00",
          "2020-06-30T00:00:00",
          "2020-07-31T00:00:00",
          "2020-08-31T00:00:00",
          "2020-09-30T00:00:00",
          "2020-10-31T00:00:00",
          "2020-11-30T00:00:00",
          "2020-12-31T00:00:00"
         ],
         "xaxis": "x",
         "y": [
          7083.21,
          3681.6,
          9365.48,
          2797.19,
          6672.74,
          3430.72,
          3514.2799999999997,
          3971.91,
          5561.7,
          5918.92,
          6703.9400000000005,
          9609.48,
          4231.38,
          3135.79,
          7053.74,
          4306.23,
          4227.4,
          6317.8099999999995,
          3257.73,
          7047.49,
          5599.41,
          3273.51,
          972.06,
          2554.21
         ],
         "yaxis": "y"
        },
        {
         "fillpattern": {
          "shape": ""
         },
         "hovertemplate": "category=food_dining<br>transaction_time=%{x}<br>amount(usd)=%{y}<extra></extra>",
         "legendgroup": "food_dining",
         "line": {
          "color": "#E15F99"
         },
         "marker": {
          "symbol": "circle"
         },
         "mode": "lines",
         "name": "food_dining",
         "orientation": "v",
         "showlegend": true,
         "stackgroup": "1",
         "type": "scatter",
         "x": [
          "2019-01-31T00:00:00",
          "2019-02-28T00:00:00",
          "2019-03-31T00:00:00",
          "2019-04-30T00:00:00",
          "2019-05-31T00:00:00",
          "2019-06-30T00:00:00",
          "2019-07-31T00:00:00",
          "2019-08-31T00:00:00",
          "2019-09-30T00:00:00",
          "2019-10-31T00:00:00",
          "2019-11-30T00:00:00",
          "2019-12-31T00:00:00",
          "2020-01-31T00:00:00",
          "2020-02-29T00:00:00",
          "2020-03-31T00:00:00",
          "2020-04-30T00:00:00",
          "2020-05-31T00:00:00",
          "2020-06-30T00:00:00",
          "2020-07-31T00:00:00",
          "2020-08-31T00:00:00",
          "2020-09-30T00:00:00",
          "2020-10-31T00:00:00",
          "2020-11-30T00:00:00",
          "2020-12-31T00:00:00"
         ],
         "xaxis": "x",
         "y": [
          1298.1399999999999,
          830.78,
          891.45,
          453,
          890.25,
          948.74,
          347.55,
          468.83,
          1394.18,
          223.31,
          901.04,
          1285.99,
          997.8,
          361.73,
          698.9,
          1351.73,
          721.78,
          973.3199999999999,
          1347.84,
          962.96,
          841.9200000000001,
          735.54,
          355.3,
          727.74
         ],
         "yaxis": "y"
        },
        {
         "fillpattern": {
          "shape": ""
         },
         "hovertemplate": "category=gas_transport<br>transaction_time=%{x}<br>amount(usd)=%{y}<extra></extra>",
         "legendgroup": "gas_transport",
         "line": {
          "color": "#1CA71C"
         },
         "marker": {
          "symbol": "circle"
         },
         "mode": "lines",
         "name": "gas_transport",
         "orientation": "v",
         "showlegend": true,
         "stackgroup": "1",
         "type": "scatter",
         "x": [
          "2019-01-31T00:00:00",
          "2019-02-28T00:00:00",
          "2019-03-31T00:00:00",
          "2019-04-30T00:00:00",
          "2019-05-31T00:00:00",
          "2019-06-30T00:00:00",
          "2019-07-31T00:00:00",
          "2019-08-31T00:00:00",
          "2019-09-30T00:00:00",
          "2019-10-31T00:00:00",
          "2019-11-30T00:00:00",
          "2019-12-31T00:00:00",
          "2020-01-31T00:00:00",
          "2020-02-29T00:00:00",
          "2020-03-31T00:00:00",
          "2020-04-30T00:00:00",
          "2020-05-31T00:00:00",
          "2020-06-30T00:00:00",
          "2020-07-31T00:00:00",
          "2020-08-31T00:00:00",
          "2020-09-30T00:00:00",
          "2020-10-31T00:00:00",
          "2020-11-30T00:00:00",
          "2020-12-31T00:00:00"
         ],
         "xaxis": "x",
         "y": [
          383.35,
          409.67,
          501.2,
          426.22,
          426.89,
          243.24,
          343.5,
          296.53,
          321.85,
          369.91,
          394.54,
          321.1,
          209.62,
          291.79,
          325.14,
          205.79999999999998,
          486.45,
          377.55,
          265.51,
          202.56,
          198.75,
          237,
          324.04,
          245.17
         ],
         "yaxis": "y"
        },
        {
         "fillpattern": {
          "shape": ""
         },
         "hovertemplate": "category=grocery_net<br>transaction_time=%{x}<br>amount(usd)=%{y}<extra></extra>",
         "legendgroup": "grocery_net",
         "line": {
          "color": "#FB0D0D"
         },
         "marker": {
          "symbol": "circle"
         },
         "mode": "lines",
         "name": "grocery_net",
         "orientation": "v",
         "showlegend": true,
         "stackgroup": "1",
         "type": "scatter",
         "x": [
          "2019-01-31T00:00:00",
          "2019-02-28T00:00:00",
          "2019-03-31T00:00:00",
          "2019-04-30T00:00:00",
          "2019-05-31T00:00:00",
          "2019-06-30T00:00:00",
          "2019-07-31T00:00:00",
          "2019-08-31T00:00:00",
          "2019-09-30T00:00:00",
          "2019-10-31T00:00:00",
          "2019-11-30T00:00:00",
          "2019-12-31T00:00:00",
          "2020-01-31T00:00:00",
          "2020-02-29T00:00:00",
          "2020-03-31T00:00:00",
          "2020-04-30T00:00:00",
          "2020-05-31T00:00:00",
          "2020-06-30T00:00:00",
          "2020-07-31T00:00:00",
          "2020-08-31T00:00:00",
          "2020-09-30T00:00:00",
          "2020-10-31T00:00:00",
          "2020-11-30T00:00:00",
          "2020-12-31T00:00:00"
         ],
         "xaxis": "x",
         "y": [
          109.28999999999999,
          52.76,
          142.43,
          104.44999999999999,
          71.82,
          41.46,
          103,
          59.22,
          41.47,
          50.6,
          65.65,
          79.44,
          42.99,
          79.65,
          92.97,
          39.67,
          38.15,
          98.75,
          59.96000000000001,
          38.05,
          32.76,
          79.3,
          96.56,
          7.76
         ],
         "yaxis": "y"
        },
        {
         "fillpattern": {
          "shape": ""
         },
         "hovertemplate": "category=grocery_pos<br>transaction_time=%{x}<br>amount(usd)=%{y}<extra></extra>",
         "legendgroup": "grocery_pos",
         "line": {
          "color": "#DA16FF"
         },
         "marker": {
          "symbol": "circle"
         },
         "mode": "lines",
         "name": "grocery_pos",
         "orientation": "v",
         "showlegend": true,
         "stackgroup": "1",
         "type": "scatter",
         "x": [
          "2019-01-31T00:00:00",
          "2019-02-28T00:00:00",
          "2019-03-31T00:00:00",
          "2019-04-30T00:00:00",
          "2019-05-31T00:00:00",
          "2019-06-30T00:00:00",
          "2019-07-31T00:00:00",
          "2019-08-31T00:00:00",
          "2019-09-30T00:00:00",
          "2019-10-31T00:00:00",
          "2019-11-30T00:00:00",
          "2019-12-31T00:00:00",
          "2020-01-31T00:00:00",
          "2020-02-29T00:00:00",
          "2020-03-31T00:00:00",
          "2020-04-30T00:00:00",
          "2020-05-31T00:00:00",
          "2020-06-30T00:00:00",
          "2020-07-31T00:00:00",
          "2020-08-31T00:00:00",
          "2020-09-30T00:00:00",
          "2020-10-31T00:00:00",
          "2020-11-30T00:00:00",
          "2020-12-31T00:00:00"
         ],
         "xaxis": "x",
         "y": [
          27756.96,
          32222.58,
          25023.9,
          26802.71,
          20917.66,
          20567.76,
          17934.15,
          20746.27,
          25485.84,
          25937.02,
          22957.35,
          31951.19,
          20193.93,
          21131.89,
          26482.66,
          21303.14,
          29771.88,
          23777.8,
          18415.78,
          22894.92,
          18589.87,
          23894.26,
          19638.14,
          13275.26
         ],
         "yaxis": "y"
        },
        {
         "fillpattern": {
          "shape": ""
         },
         "hovertemplate": "category=health_fitness<br>transaction_time=%{x}<br>amount(usd)=%{y}<extra></extra>",
         "legendgroup": "health_fitness",
         "line": {
          "color": "#222A2A"
         },
         "marker": {
          "symbol": "circle"
         },
         "mode": "lines",
         "name": "health_fitness",
         "orientation": "v",
         "showlegend": true,
         "stackgroup": "1",
         "type": "scatter",
         "x": [
          "2019-01-31T00:00:00",
          "2019-02-28T00:00:00",
          "2019-03-31T00:00:00",
          "2019-04-30T00:00:00",
          "2019-05-31T00:00:00",
          "2019-06-30T00:00:00",
          "2019-07-31T00:00:00",
          "2019-08-31T00:00:00",
          "2019-09-30T00:00:00",
          "2019-10-31T00:00:00",
          "2019-11-30T00:00:00",
          "2019-12-31T00:00:00",
          "2020-01-31T00:00:00",
          "2020-02-29T00:00:00",
          "2020-03-31T00:00:00",
          "2020-04-30T00:00:00",
          "2020-05-31T00:00:00",
          "2020-06-30T00:00:00",
          "2020-07-31T00:00:00",
          "2020-08-31T00:00:00",
          "2020-09-30T00:00:00",
          "2020-10-31T00:00:00",
          "2020-11-30T00:00:00",
          "2020-12-31T00:00:00"
         ],
         "xaxis": "x",
         "y": [
          129.62,
          177.96,
          219.52,
          39.879999999999995,
          118.91,
          138.82,
          87.56,
          60.260000000000005,
          106.7,
          121.53,
          95.44,
          294.84,
          62.43,
          84.26,
          58.29,
          126.08,
          154.55,
          257.11,
          134.1,
          284.44,
          19.64,
          167.7,
          18.44,
          92.57
         ],
         "yaxis": "y"
        },
        {
         "fillpattern": {
          "shape": ""
         },
         "hovertemplate": "category=home<br>transaction_time=%{x}<br>amount(usd)=%{y}<extra></extra>",
         "legendgroup": "home",
         "line": {
          "color": "#B68100"
         },
         "marker": {
          "symbol": "circle"
         },
         "mode": "lines",
         "name": "home",
         "orientation": "v",
         "showlegend": true,
         "stackgroup": "1",
         "type": "scatter",
         "x": [
          "2019-01-31T00:00:00",
          "2019-02-28T00:00:00",
          "2019-03-31T00:00:00",
          "2019-04-30T00:00:00",
          "2019-05-31T00:00:00",
          "2019-06-30T00:00:00",
          "2019-07-31T00:00:00",
          "2019-08-31T00:00:00",
          "2019-09-30T00:00:00",
          "2019-10-31T00:00:00",
          "2019-11-30T00:00:00",
          "2019-12-31T00:00:00",
          "2020-01-31T00:00:00",
          "2020-02-29T00:00:00",
          "2020-03-31T00:00:00",
          "2020-04-30T00:00:00",
          "2020-05-31T00:00:00",
          "2020-06-30T00:00:00",
          "2020-07-31T00:00:00",
          "2020-08-31T00:00:00",
          "2020-09-30T00:00:00",
          "2020-10-31T00:00:00",
          "2020-11-30T00:00:00",
          "2020-12-31T00:00:00"
         ],
         "xaxis": "x",
         "y": [
          2725.36,
          1748.8000000000002,
          3500.33,
          794.78,
          1809.53,
          2568.87,
          639.63,
          2742.9700000000003,
          3749.54,
          1770.51,
          2691.92,
          3974.6,
          2297.7200000000003,
          1439.17,
          2872.68,
          1267.58,
          1610.35,
          4071.38,
          2439.38,
          2951.95,
          1681.58,
          1825.8,
          557.67,
          2801.39
         ],
         "yaxis": "y"
        },
        {
         "fillpattern": {
          "shape": ""
         },
         "hovertemplate": "category=kids_pets<br>transaction_time=%{x}<br>amount(usd)=%{y}<extra></extra>",
         "legendgroup": "kids_pets",
         "line": {
          "color": "#750D86"
         },
         "marker": {
          "symbol": "circle"
         },
         "mode": "lines",
         "name": "kids_pets",
         "orientation": "v",
         "showlegend": true,
         "stackgroup": "1",
         "type": "scatter",
         "x": [
          "2019-01-31T00:00:00",
          "2019-02-28T00:00:00",
          "2019-03-31T00:00:00",
          "2019-04-30T00:00:00",
          "2019-05-31T00:00:00",
          "2019-06-30T00:00:00",
          "2019-07-31T00:00:00",
          "2019-08-31T00:00:00",
          "2019-09-30T00:00:00",
          "2019-10-31T00:00:00",
          "2019-11-30T00:00:00",
          "2019-12-31T00:00:00",
          "2020-01-31T00:00:00",
          "2020-02-29T00:00:00",
          "2020-03-31T00:00:00",
          "2020-04-30T00:00:00",
          "2020-05-31T00:00:00",
          "2020-06-30T00:00:00",
          "2020-07-31T00:00:00",
          "2020-08-31T00:00:00",
          "2020-09-30T00:00:00",
          "2020-10-31T00:00:00",
          "2020-11-30T00:00:00",
          "2020-12-31T00:00:00"
         ],
         "xaxis": "x",
         "y": [
          363.47,
          201.67000000000002,
          382.25,
          132.66,
          218.7,
          232.56,
          58.39,
          199.15,
          203.54,
          187,
          64.11,
          261.7,
          139.09,
          142.22,
          304.49,
          158.99,
          132.45999999999998,
          260.68,
          173.72,
          267,
          162.32999999999998,
          221.46,
          139.56,
          82.23
         ],
         "yaxis": "y"
        },
        {
         "fillpattern": {
          "shape": ""
         },
         "hovertemplate": "category=misc_net<br>transaction_time=%{x}<br>amount(usd)=%{y}<extra></extra>",
         "legendgroup": "misc_net",
         "line": {
          "color": "#EB663B"
         },
         "marker": {
          "symbol": "circle"
         },
         "mode": "lines",
         "name": "misc_net",
         "orientation": "v",
         "showlegend": true,
         "stackgroup": "1",
         "type": "scatter",
         "x": [
          "2019-01-31T00:00:00",
          "2019-02-28T00:00:00",
          "2019-03-31T00:00:00",
          "2019-04-30T00:00:00",
          "2019-05-31T00:00:00",
          "2019-06-30T00:00:00",
          "2019-07-31T00:00:00",
          "2019-08-31T00:00:00",
          "2019-09-30T00:00:00",
          "2019-10-31T00:00:00",
          "2019-11-30T00:00:00",
          "2019-12-31T00:00:00",
          "2020-01-31T00:00:00",
          "2020-02-29T00:00:00",
          "2020-03-31T00:00:00",
          "2020-04-30T00:00:00",
          "2020-05-31T00:00:00",
          "2020-06-30T00:00:00",
          "2020-07-31T00:00:00",
          "2020-08-31T00:00:00",
          "2020-09-30T00:00:00",
          "2020-10-31T00:00:00",
          "2020-11-30T00:00:00",
          "2020-12-31T00:00:00"
         ],
         "xaxis": "x",
         "y": [
          31795.3,
          45422.1,
          29585.58,
          32425.97,
          26530.62,
          21905.07,
          24149.27,
          28474.49,
          28608.7,
          42634.52,
          27551.65,
          44612.85,
          30558.09,
          35972.03,
          29100.6,
          15620.77,
          51066.92,
          36758.49,
          19767.23,
          29279.21,
          33912.73,
          27417.35,
          27677.13,
          18484.36
         ],
         "yaxis": "y"
        },
        {
         "fillpattern": {
          "shape": ""
         },
         "hovertemplate": "category=misc_pos<br>transaction_time=%{x}<br>amount(usd)=%{y}<extra></extra>",
         "legendgroup": "misc_pos",
         "line": {
          "color": "#511CFB"
         },
         "marker": {
          "symbol": "circle"
         },
         "mode": "lines",
         "name": "misc_pos",
         "orientation": "v",
         "showlegend": true,
         "stackgroup": "1",
         "type": "scatter",
         "x": [
          "2019-01-31T00:00:00",
          "2019-02-28T00:00:00",
          "2019-03-31T00:00:00",
          "2019-04-30T00:00:00",
          "2019-05-31T00:00:00",
          "2019-06-30T00:00:00",
          "2019-07-31T00:00:00",
          "2019-08-31T00:00:00",
          "2019-09-30T00:00:00",
          "2019-10-31T00:00:00",
          "2019-11-30T00:00:00",
          "2019-12-31T00:00:00",
          "2020-01-31T00:00:00",
          "2020-02-29T00:00:00",
          "2020-03-31T00:00:00",
          "2020-04-30T00:00:00",
          "2020-05-31T00:00:00",
          "2020-06-30T00:00:00",
          "2020-07-31T00:00:00",
          "2020-08-31T00:00:00",
          "2020-09-30T00:00:00",
          "2020-10-31T00:00:00",
          "2020-11-30T00:00:00",
          "2020-12-31T00:00:00"
         ],
         "xaxis": "x",
         "y": [
          4923.55,
          967.1,
          1945.48,
          919.63,
          1923.71,
          6282.62,
          64.56,
          51.89,
          1797.53,
          2007.6200000000001,
          1476.1799999999998,
          5332.73,
          1699.45,
          1515.67,
          4083.86,
          2526.7,
          3013.98,
          6481.07,
          1611.2,
          4685.62,
          994.3199999999999,
          1074.86,
          136.27,
          1489.1299999999999
         ],
         "yaxis": "y"
        },
        {
         "fillpattern": {
          "shape": ""
         },
         "hovertemplate": "category=personal_care<br>transaction_time=%{x}<br>amount(usd)=%{y}<extra></extra>",
         "legendgroup": "personal_care",
         "line": {
          "color": "#00A08B"
         },
         "marker": {
          "symbol": "circle"
         },
         "mode": "lines",
         "name": "personal_care",
         "orientation": "v",
         "showlegend": true,
         "stackgroup": "1",
         "type": "scatter",
         "x": [
          "2019-01-31T00:00:00",
          "2019-02-28T00:00:00",
          "2019-03-31T00:00:00",
          "2019-04-30T00:00:00",
          "2019-05-31T00:00:00",
          "2019-06-30T00:00:00",
          "2019-07-31T00:00:00",
          "2019-08-31T00:00:00",
          "2019-09-30T00:00:00",
          "2019-10-31T00:00:00",
          "2019-11-30T00:00:00",
          "2019-12-31T00:00:00",
          "2020-01-31T00:00:00",
          "2020-02-29T00:00:00",
          "2020-03-31T00:00:00",
          "2020-04-30T00:00:00",
          "2020-05-31T00:00:00",
          "2020-06-30T00:00:00",
          "2020-07-31T00:00:00",
          "2020-08-31T00:00:00",
          "2020-09-30T00:00:00",
          "2020-10-31T00:00:00",
          "2020-11-30T00:00:00",
          "2020-12-31T00:00:00"
         ],
         "xaxis": "x",
         "y": [
          239.70999999999998,
          326.16,
          354.5,
          152.72,
          237.49,
          386.92,
          222.13,
          193.87,
          125.68,
          276.23,
          181.48,
          494.65,
          184.34,
          67.68,
          250.34,
          126.42999999999999,
          398.17,
          311.15,
          163.07,
          304.64,
          159.93,
          195.57999999999998,
          152.29,
          157.38
         ],
         "yaxis": "y"
        },
        {
         "fillpattern": {
          "shape": ""
         },
         "hovertemplate": "category=shopping_net<br>transaction_time=%{x}<br>amount(usd)=%{y}<extra></extra>",
         "legendgroup": "shopping_net",
         "line": {
          "color": "#FB00D1"
         },
         "marker": {
          "symbol": "circle"
         },
         "mode": "lines",
         "name": "shopping_net",
         "orientation": "v",
         "showlegend": true,
         "stackgroup": "1",
         "type": "scatter",
         "x": [
          "2019-01-31T00:00:00",
          "2019-02-28T00:00:00",
          "2019-03-31T00:00:00",
          "2019-04-30T00:00:00",
          "2019-05-31T00:00:00",
          "2019-06-30T00:00:00",
          "2019-07-31T00:00:00",
          "2019-08-31T00:00:00",
          "2019-09-30T00:00:00",
          "2019-10-31T00:00:00",
          "2019-11-30T00:00:00",
          "2019-12-31T00:00:00",
          "2020-01-31T00:00:00",
          "2020-02-29T00:00:00",
          "2020-03-31T00:00:00",
          "2020-04-30T00:00:00",
          "2020-05-31T00:00:00",
          "2020-06-30T00:00:00",
          "2020-07-31T00:00:00",
          "2020-08-31T00:00:00",
          "2020-09-30T00:00:00",
          "2020-10-31T00:00:00",
          "2020-11-30T00:00:00",
          "2020-12-31T00:00:00"
         ],
         "xaxis": "x",
         "y": [
          89112.78,
          94311.01,
          89281.77,
          72606.08,
          86303.6,
          50774.36,
          68760.12,
          73429.75,
          72371.65,
          96007.97,
          68222.39,
          108301.74,
          63444.56,
          60897.99,
          83541.98,
          52022.18,
          84809.41,
          92438.1,
          61902.8,
          63037.08,
          73715.15,
          77544.86,
          57716.83,
          43350.09
         ],
         "yaxis": "y"
        },
        {
         "fillpattern": {
          "shape": ""
         },
         "hovertemplate": "category=shopping_pos<br>transaction_time=%{x}<br>amount(usd)=%{y}<extra></extra>",
         "legendgroup": "shopping_pos",
         "line": {
          "color": "#FC0080"
         },
         "marker": {
          "symbol": "circle"
         },
         "mode": "lines",
         "name": "shopping_pos",
         "orientation": "v",
         "showlegend": true,
         "stackgroup": "1",
         "type": "scatter",
         "x": [
          "2019-01-31T00:00:00",
          "2019-02-28T00:00:00",
          "2019-03-31T00:00:00",
          "2019-04-30T00:00:00",
          "2019-05-31T00:00:00",
          "2019-06-30T00:00:00",
          "2019-07-31T00:00:00",
          "2019-08-31T00:00:00",
          "2019-09-30T00:00:00",
          "2019-10-31T00:00:00",
          "2019-11-30T00:00:00",
          "2019-12-31T00:00:00",
          "2020-01-31T00:00:00",
          "2020-02-29T00:00:00",
          "2020-03-31T00:00:00",
          "2020-04-30T00:00:00",
          "2020-05-31T00:00:00",
          "2020-06-30T00:00:00",
          "2020-07-31T00:00:00",
          "2020-08-31T00:00:00",
          "2020-09-30T00:00:00",
          "2020-10-31T00:00:00",
          "2020-11-30T00:00:00",
          "2020-12-31T00:00:00"
         ],
         "xaxis": "x",
         "y": [
          33555.11,
          39664.94,
          36614.58,
          30782.42,
          25190.920000000002,
          33543.25,
          29097.57,
          32406.29,
          35247.08,
          27169.04,
          26629.95,
          56062.75,
          24421.1,
          23239.52,
          34192.590000000004,
          22588.39,
          47621.7,
          33390.87,
          21850.239999999998,
          38127.61,
          22255.11,
          19256.010000000002,
          19538.79,
          22656.92
         ],
         "yaxis": "y"
        },
        {
         "fillpattern": {
          "shape": ""
         },
         "hovertemplate": "category=travel<br>transaction_time=%{x}<br>amount(usd)=%{y}<extra></extra>",
         "legendgroup": "travel",
         "line": {
          "color": "#B2828D"
         },
         "marker": {
          "symbol": "circle"
         },
         "mode": "lines",
         "name": "travel",
         "orientation": "v",
         "showlegend": true,
         "stackgroup": "1",
         "type": "scatter",
         "x": [
          "2019-01-31T00:00:00",
          "2019-02-28T00:00:00",
          "2019-03-31T00:00:00",
          "2019-04-30T00:00:00",
          "2019-05-31T00:00:00",
          "2019-06-30T00:00:00",
          "2019-07-31T00:00:00",
          "2019-08-31T00:00:00",
          "2019-09-30T00:00:00",
          "2019-10-31T00:00:00",
          "2019-11-30T00:00:00",
          "2019-12-31T00:00:00",
          "2020-01-31T00:00:00",
          "2020-02-29T00:00:00",
          "2020-03-31T00:00:00",
          "2020-04-30T00:00:00",
          "2020-05-31T00:00:00",
          "2020-06-30T00:00:00",
          "2020-07-31T00:00:00",
          "2020-08-31T00:00:00",
          "2020-09-30T00:00:00",
          "2020-10-31T00:00:00",
          "2020-11-30T00:00:00",
          "2020-12-31T00:00:00"
         ],
         "xaxis": "x",
         "y": [
          78.28,
          50.65,
          73.37,
          23.04,
          41.230000000000004,
          29.380000000000003,
          63.75,
          72.94,
          64.11,
          57.42,
          45.96,
          47.74,
          48,
          38.879999999999995,
          44.23,
          35.54,
          43.19,
          59.35,
          32.480000000000004,
          70.84,
          58.71,
          43.81,
          33.010000000000005,
          26.11
         ],
         "yaxis": "y"
        }
       ],
       "layout": {
        "height": 600,
        "legend": {
         "title": {
          "text": "Type of business"
         },
         "tracegroupgap": 0
        },
        "margin": {
         "t": 60
        },
        "plot_bgcolor": "#fafafa",
        "template": {
         "data": {
          "bar": [
           {
            "error_x": {
             "color": "#2a3f5f"
            },
            "error_y": {
             "color": "#2a3f5f"
            },
            "marker": {
             "line": {
              "color": "#E5ECF6",
              "width": 0.5
             },
             "pattern": {
              "fillmode": "overlay",
              "size": 10,
              "solidity": 0.2
             }
            },
            "type": "bar"
           }
          ],
          "barpolar": [
           {
            "marker": {
             "line": {
              "color": "#E5ECF6",
              "width": 0.5
             },
             "pattern": {
              "fillmode": "overlay",
              "size": 10,
              "solidity": 0.2
             }
            },
            "type": "barpolar"
           }
          ],
          "carpet": [
           {
            "aaxis": {
             "endlinecolor": "#2a3f5f",
             "gridcolor": "white",
             "linecolor": "white",
             "minorgridcolor": "white",
             "startlinecolor": "#2a3f5f"
            },
            "baxis": {
             "endlinecolor": "#2a3f5f",
             "gridcolor": "white",
             "linecolor": "white",
             "minorgridcolor": "white",
             "startlinecolor": "#2a3f5f"
            },
            "type": "carpet"
           }
          ],
          "choropleth": [
           {
            "colorbar": {
             "outlinewidth": 0,
             "ticks": ""
            },
            "type": "choropleth"
           }
          ],
          "contour": [
           {
            "colorbar": {
             "outlinewidth": 0,
             "ticks": ""
            },
            "colorscale": [
             [
              0,
              "#0d0887"
             ],
             [
              0.1111111111111111,
              "#46039f"
             ],
             [
              0.2222222222222222,
              "#7201a8"
             ],
             [
              0.3333333333333333,
              "#9c179e"
             ],
             [
              0.4444444444444444,
              "#bd3786"
             ],
             [
              0.5555555555555556,
              "#d8576b"
             ],
             [
              0.6666666666666666,
              "#ed7953"
             ],
             [
              0.7777777777777778,
              "#fb9f3a"
             ],
             [
              0.8888888888888888,
              "#fdca26"
             ],
             [
              1,
              "#f0f921"
             ]
            ],
            "type": "contour"
           }
          ],
          "contourcarpet": [
           {
            "colorbar": {
             "outlinewidth": 0,
             "ticks": ""
            },
            "type": "contourcarpet"
           }
          ],
          "heatmap": [
           {
            "colorbar": {
             "outlinewidth": 0,
             "ticks": ""
            },
            "colorscale": [
             [
              0,
              "#0d0887"
             ],
             [
              0.1111111111111111,
              "#46039f"
             ],
             [
              0.2222222222222222,
              "#7201a8"
             ],
             [
              0.3333333333333333,
              "#9c179e"
             ],
             [
              0.4444444444444444,
              "#bd3786"
             ],
             [
              0.5555555555555556,
              "#d8576b"
             ],
             [
              0.6666666666666666,
              "#ed7953"
             ],
             [
              0.7777777777777778,
              "#fb9f3a"
             ],
             [
              0.8888888888888888,
              "#fdca26"
             ],
             [
              1,
              "#f0f921"
             ]
            ],
            "type": "heatmap"
           }
          ],
          "heatmapgl": [
           {
            "colorbar": {
             "outlinewidth": 0,
             "ticks": ""
            },
            "colorscale": [
             [
              0,
              "#0d0887"
             ],
             [
              0.1111111111111111,
              "#46039f"
             ],
             [
              0.2222222222222222,
              "#7201a8"
             ],
             [
              0.3333333333333333,
              "#9c179e"
             ],
             [
              0.4444444444444444,
              "#bd3786"
             ],
             [
              0.5555555555555556,
              "#d8576b"
             ],
             [
              0.6666666666666666,
              "#ed7953"
             ],
             [
              0.7777777777777778,
              "#fb9f3a"
             ],
             [
              0.8888888888888888,
              "#fdca26"
             ],
             [
              1,
              "#f0f921"
             ]
            ],
            "type": "heatmapgl"
           }
          ],
          "histogram": [
           {
            "marker": {
             "pattern": {
              "fillmode": "overlay",
              "size": 10,
              "solidity": 0.2
             }
            },
            "type": "histogram"
           }
          ],
          "histogram2d": [
           {
            "colorbar": {
             "outlinewidth": 0,
             "ticks": ""
            },
            "colorscale": [
             [
              0,
              "#0d0887"
             ],
             [
              0.1111111111111111,
              "#46039f"
             ],
             [
              0.2222222222222222,
              "#7201a8"
             ],
             [
              0.3333333333333333,
              "#9c179e"
             ],
             [
              0.4444444444444444,
              "#bd3786"
             ],
             [
              0.5555555555555556,
              "#d8576b"
             ],
             [
              0.6666666666666666,
              "#ed7953"
             ],
             [
              0.7777777777777778,
              "#fb9f3a"
             ],
             [
              0.8888888888888888,
              "#fdca26"
             ],
             [
              1,
              "#f0f921"
             ]
            ],
            "type": "histogram2d"
           }
          ],
          "histogram2dcontour": [
           {
            "colorbar": {
             "outlinewidth": 0,
             "ticks": ""
            },
            "colorscale": [
             [
              0,
              "#0d0887"
             ],
             [
              0.1111111111111111,
              "#46039f"
             ],
             [
              0.2222222222222222,
              "#7201a8"
             ],
             [
              0.3333333333333333,
              "#9c179e"
             ],
             [
              0.4444444444444444,
              "#bd3786"
             ],
             [
              0.5555555555555556,
              "#d8576b"
             ],
             [
              0.6666666666666666,
              "#ed7953"
             ],
             [
              0.7777777777777778,
              "#fb9f3a"
             ],
             [
              0.8888888888888888,
              "#fdca26"
             ],
             [
              1,
              "#f0f921"
             ]
            ],
            "type": "histogram2dcontour"
           }
          ],
          "mesh3d": [
           {
            "colorbar": {
             "outlinewidth": 0,
             "ticks": ""
            },
            "type": "mesh3d"
           }
          ],
          "parcoords": [
           {
            "line": {
             "colorbar": {
              "outlinewidth": 0,
              "ticks": ""
             }
            },
            "type": "parcoords"
           }
          ],
          "pie": [
           {
            "automargin": true,
            "type": "pie"
           }
          ],
          "scatter": [
           {
            "fillpattern": {
             "fillmode": "overlay",
             "size": 10,
             "solidity": 0.2
            },
            "type": "scatter"
           }
          ],
          "scatter3d": [
           {
            "line": {
             "colorbar": {
              "outlinewidth": 0,
              "ticks": ""
             }
            },
            "marker": {
             "colorbar": {
              "outlinewidth": 0,
              "ticks": ""
             }
            },
            "type": "scatter3d"
           }
          ],
          "scattercarpet": [
           {
            "marker": {
             "colorbar": {
              "outlinewidth": 0,
              "ticks": ""
             }
            },
            "type": "scattercarpet"
           }
          ],
          "scattergeo": [
           {
            "marker": {
             "colorbar": {
              "outlinewidth": 0,
              "ticks": ""
             }
            },
            "type": "scattergeo"
           }
          ],
          "scattergl": [
           {
            "marker": {
             "colorbar": {
              "outlinewidth": 0,
              "ticks": ""
             }
            },
            "type": "scattergl"
           }
          ],
          "scattermapbox": [
           {
            "marker": {
             "colorbar": {
              "outlinewidth": 0,
              "ticks": ""
             }
            },
            "type": "scattermapbox"
           }
          ],
          "scatterpolar": [
           {
            "marker": {
             "colorbar": {
              "outlinewidth": 0,
              "ticks": ""
             }
            },
            "type": "scatterpolar"
           }
          ],
          "scatterpolargl": [
           {
            "marker": {
             "colorbar": {
              "outlinewidth": 0,
              "ticks": ""
             }
            },
            "type": "scatterpolargl"
           }
          ],
          "scatterternary": [
           {
            "marker": {
             "colorbar": {
              "outlinewidth": 0,
              "ticks": ""
             }
            },
            "type": "scatterternary"
           }
          ],
          "surface": [
           {
            "colorbar": {
             "outlinewidth": 0,
             "ticks": ""
            },
            "colorscale": [
             [
              0,
              "#0d0887"
             ],
             [
              0.1111111111111111,
              "#46039f"
             ],
             [
              0.2222222222222222,
              "#7201a8"
             ],
             [
              0.3333333333333333,
              "#9c179e"
             ],
             [
              0.4444444444444444,
              "#bd3786"
             ],
             [
              0.5555555555555556,
              "#d8576b"
             ],
             [
              0.6666666666666666,
              "#ed7953"
             ],
             [
              0.7777777777777778,
              "#fb9f3a"
             ],
             [
              0.8888888888888888,
              "#fdca26"
             ],
             [
              1,
              "#f0f921"
             ]
            ],
            "type": "surface"
           }
          ],
          "table": [
           {
            "cells": {
             "fill": {
              "color": "#EBF0F8"
             },
             "line": {
              "color": "white"
             }
            },
            "header": {
             "fill": {
              "color": "#C8D4E3"
             },
             "line": {
              "color": "white"
             }
            },
            "type": "table"
           }
          ]
         },
         "layout": {
          "annotationdefaults": {
           "arrowcolor": "#2a3f5f",
           "arrowhead": 0,
           "arrowwidth": 1
          },
          "autotypenumbers": "strict",
          "coloraxis": {
           "colorbar": {
            "outlinewidth": 0,
            "ticks": ""
           }
          },
          "colorscale": {
           "diverging": [
            [
             0,
             "#8e0152"
            ],
            [
             0.1,
             "#c51b7d"
            ],
            [
             0.2,
             "#de77ae"
            ],
            [
             0.3,
             "#f1b6da"
            ],
            [
             0.4,
             "#fde0ef"
            ],
            [
             0.5,
             "#f7f7f7"
            ],
            [
             0.6,
             "#e6f5d0"
            ],
            [
             0.7,
             "#b8e186"
            ],
            [
             0.8,
             "#7fbc41"
            ],
            [
             0.9,
             "#4d9221"
            ],
            [
             1,
             "#276419"
            ]
           ],
           "sequential": [
            [
             0,
             "#0d0887"
            ],
            [
             0.1111111111111111,
             "#46039f"
            ],
            [
             0.2222222222222222,
             "#7201a8"
            ],
            [
             0.3333333333333333,
             "#9c179e"
            ],
            [
             0.4444444444444444,
             "#bd3786"
            ],
            [
             0.5555555555555556,
             "#d8576b"
            ],
            [
             0.6666666666666666,
             "#ed7953"
            ],
            [
             0.7777777777777778,
             "#fb9f3a"
            ],
            [
             0.8888888888888888,
             "#fdca26"
            ],
            [
             1,
             "#f0f921"
            ]
           ],
           "sequentialminus": [
            [
             0,
             "#0d0887"
            ],
            [
             0.1111111111111111,
             "#46039f"
            ],
            [
             0.2222222222222222,
             "#7201a8"
            ],
            [
             0.3333333333333333,
             "#9c179e"
            ],
            [
             0.4444444444444444,
             "#bd3786"
            ],
            [
             0.5555555555555556,
             "#d8576b"
            ],
            [
             0.6666666666666666,
             "#ed7953"
            ],
            [
             0.7777777777777778,
             "#fb9f3a"
            ],
            [
             0.8888888888888888,
             "#fdca26"
            ],
            [
             1,
             "#f0f921"
            ]
           ]
          },
          "colorway": [
           "#636efa",
           "#EF553B",
           "#00cc96",
           "#ab63fa",
           "#FFA15A",
           "#19d3f3",
           "#FF6692",
           "#B6E880",
           "#FF97FF",
           "#FECB52"
          ],
          "font": {
           "color": "#2a3f5f"
          },
          "geo": {
           "bgcolor": "white",
           "lakecolor": "white",
           "landcolor": "#E5ECF6",
           "showlakes": true,
           "showland": true,
           "subunitcolor": "white"
          },
          "hoverlabel": {
           "align": "left"
          },
          "hovermode": "closest",
          "mapbox": {
           "style": "light"
          },
          "paper_bgcolor": "white",
          "plot_bgcolor": "#E5ECF6",
          "polar": {
           "angularaxis": {
            "gridcolor": "white",
            "linecolor": "white",
            "ticks": ""
           },
           "bgcolor": "#E5ECF6",
           "radialaxis": {
            "gridcolor": "white",
            "linecolor": "white",
            "ticks": ""
           }
          },
          "scene": {
           "xaxis": {
            "backgroundcolor": "#E5ECF6",
            "gridcolor": "white",
            "gridwidth": 2,
            "linecolor": "white",
            "showbackground": true,
            "ticks": "",
            "zerolinecolor": "white"
           },
           "yaxis": {
            "backgroundcolor": "#E5ECF6",
            "gridcolor": "white",
            "gridwidth": 2,
            "linecolor": "white",
            "showbackground": true,
            "ticks": "",
            "zerolinecolor": "white"
           },
           "zaxis": {
            "backgroundcolor": "#E5ECF6",
            "gridcolor": "white",
            "gridwidth": 2,
            "linecolor": "white",
            "showbackground": true,
            "ticks": "",
            "zerolinecolor": "white"
           }
          },
          "shapedefaults": {
           "line": {
            "color": "#2a3f5f"
           }
          },
          "ternary": {
           "aaxis": {
            "gridcolor": "white",
            "linecolor": "white",
            "ticks": ""
           },
           "baxis": {
            "gridcolor": "white",
            "linecolor": "white",
            "ticks": ""
           },
           "bgcolor": "#E5ECF6",
           "caxis": {
            "gridcolor": "white",
            "linecolor": "white",
            "ticks": ""
           }
          },
          "title": {
           "x": 0.05
          },
          "xaxis": {
           "automargin": true,
           "gridcolor": "white",
           "linecolor": "white",
           "ticks": "",
           "title": {
            "standoff": 15
           },
           "zerolinecolor": "white",
           "zerolinewidth": 2
          },
          "yaxis": {
           "automargin": true,
           "gridcolor": "white",
           "linecolor": "white",
           "ticks": "",
           "title": {
            "standoff": 15
           },
           "zerolinecolor": "white",
           "zerolinewidth": 2
          }
         }
        },
        "width": 960,
        "xaxis": {
         "anchor": "y",
         "domain": [
          0,
          1
         ],
         "title": {
          "text": "transaction_time"
         }
        },
        "yaxis": {
         "anchor": "x",
         "domain": [
          0,
          1
         ],
         "title": {
          "text": "amount(usd)"
         }
        }
       }
      }
     },
     "metadata": {},
     "output_type": "display_data"
    }
   ],
   "source": [
    "df_ = df_train.groupby(by=[pd.Grouper(key=\"transaction_time\", freq=\"1M\"),\n",
    "                           'is_fraud','category']).agg({\"amount(usd)\":'sum',\"transaction_id\":\"count\"}).reset_index()\n",
    "fig = px.area(\n",
    "    df_[df_.is_fraud==1],\n",
    "    x='transaction_time',\n",
    "    y='amount(usd)',\n",
    "    color='category',\n",
    "    color_discrete_sequence=px.colors.qualitative.Dark24\n",
    ")\n",
    "\n",
    "fig.update_layout(height=600,\n",
    "                  width=960,\n",
    "                  legend=dict(title='Type of business'),\n",
    "                  plot_bgcolor='#fafafa'\n",
    "                 )\n",
    "fig.show();"
   ]
  },
  {
   "cell_type": "code",
   "execution_count": null,
   "metadata": {},
   "outputs": [
    {
     "data": {
      "application/vnd.plotly.v1+json": {
       "config": {
        "plotlyServerURL": "https://plot.ly"
       },
       "data": [
        {
         "hovertemplate": "is_fraud=0<br>merchant=fraud_Kilback LLC<br>transaction_time=%{x}<br>amount(usd)=%{y}<extra></extra>",
         "legendgroup": "0",
         "marker": {
          "color": "#D93C1D",
          "symbol": "circle"
         },
         "mode": "markers",
         "name": "0",
         "showlegend": true,
         "type": "scattergl",
         "x": [
          "2019-01-06T00:00:00",
          "2019-01-13T00:00:00",
          "2019-01-20T00:00:00",
          "2019-01-27T00:00:00",
          "2019-02-03T00:00:00",
          "2019-02-10T00:00:00",
          "2019-02-17T00:00:00",
          "2019-02-24T00:00:00",
          "2019-03-03T00:00:00",
          "2019-03-10T00:00:00",
          "2019-03-17T00:00:00",
          "2019-03-24T00:00:00",
          "2019-03-31T00:00:00",
          "2019-04-07T00:00:00",
          "2019-04-14T00:00:00",
          "2019-04-21T00:00:00",
          "2019-04-28T00:00:00",
          "2019-05-05T00:00:00",
          "2019-05-12T00:00:00",
          "2019-05-19T00:00:00",
          "2019-05-26T00:00:00",
          "2019-06-02T00:00:00",
          "2019-06-09T00:00:00",
          "2019-06-16T00:00:00",
          "2019-06-23T00:00:00",
          "2019-06-30T00:00:00",
          "2019-07-07T00:00:00",
          "2019-07-14T00:00:00",
          "2019-07-21T00:00:00",
          "2019-07-28T00:00:00",
          "2019-08-04T00:00:00",
          "2019-08-11T00:00:00",
          "2019-08-18T00:00:00",
          "2019-08-25T00:00:00",
          "2019-09-01T00:00:00",
          "2019-09-08T00:00:00",
          "2019-09-15T00:00:00",
          "2019-09-22T00:00:00",
          "2019-09-29T00:00:00",
          "2019-10-06T00:00:00",
          "2019-10-13T00:00:00",
          "2019-10-20T00:00:00",
          "2019-10-27T00:00:00",
          "2019-11-03T00:00:00",
          "2019-11-10T00:00:00",
          "2019-11-17T00:00:00",
          "2019-11-24T00:00:00",
          "2019-12-01T00:00:00",
          "2019-12-08T00:00:00",
          "2019-12-15T00:00:00",
          "2019-12-22T00:00:00",
          "2019-12-29T00:00:00",
          "2020-01-05T00:00:00",
          "2020-01-12T00:00:00",
          "2020-01-19T00:00:00",
          "2020-01-26T00:00:00",
          "2020-02-02T00:00:00",
          "2020-02-09T00:00:00",
          "2020-02-16T00:00:00",
          "2020-02-23T00:00:00",
          "2020-03-01T00:00:00",
          "2020-03-08T00:00:00",
          "2020-03-15T00:00:00",
          "2020-03-22T00:00:00",
          "2020-03-29T00:00:00",
          "2020-04-05T00:00:00",
          "2020-04-12T00:00:00",
          "2020-04-19T00:00:00",
          "2020-04-26T00:00:00",
          "2020-05-03T00:00:00",
          "2020-05-10T00:00:00",
          "2020-05-17T00:00:00",
          "2020-05-24T00:00:00",
          "2020-05-31T00:00:00",
          "2020-06-07T00:00:00",
          "2020-06-14T00:00:00",
          "2020-06-21T00:00:00",
          "2020-06-28T00:00:00",
          "2020-07-05T00:00:00",
          "2020-07-12T00:00:00",
          "2020-07-19T00:00:00",
          "2020-07-26T00:00:00",
          "2020-08-02T00:00:00",
          "2020-08-09T00:00:00",
          "2020-08-16T00:00:00",
          "2020-08-23T00:00:00",
          "2020-08-30T00:00:00",
          "2020-09-06T00:00:00",
          "2020-09-13T00:00:00",
          "2020-09-20T00:00:00",
          "2020-09-27T00:00:00",
          "2020-10-04T00:00:00",
          "2020-10-11T00:00:00",
          "2020-10-18T00:00:00",
          "2020-10-25T00:00:00",
          "2020-11-01T00:00:00",
          "2020-11-08T00:00:00",
          "2020-11-15T00:00:00",
          "2020-11-22T00:00:00",
          "2020-11-29T00:00:00",
          "2020-12-06T00:00:00",
          "2020-12-13T00:00:00",
          "2020-12-20T00:00:00",
          "2020-12-27T00:00:00",
          "2021-01-03T00:00:00"
         ],
         "xaxis": "x10",
         "y": [
          70.17615384615384,
          95.02875,
          94.25533333333333,
          89.011,
          95.51958333333333,
          82.36724137931034,
          87.06214285714285,
          108.07411764705883,
          79.14565217391305,
          86.0275,
          89.59520833333333,
          78.10527777777777,
          76.62918367346938,
          87.99871794871794,
          88.29577777777777,
          83.76027027027027,
          90.61732142857143,
          81.93531914893617,
          85.6315909090909,
          88.69581395348837,
          77.87340909090909,
          101.02078431372549,
          93.84621212121212,
          91.45641509433962,
          86.19047619047619,
          73.1876,
          83.88431818181817,
          86.04966101694916,
          97.67754385964912,
          86.94702127659575,
          75.72224137931035,
          87.66909090909091,
          97.48872727272727,
          86.9876923076923,
          89.45083333333334,
          80.24090909090908,
          74.00589743589744,
          84.00285714285714,
          102.3652380952381,
          100.11945945945946,
          85.13863636363637,
          77.66886363636364,
          101.48736842105264,
          89.53326530612244,
          78.80162790697675,
          89.70836734693877,
          81.5830303030303,
          84.82469387755101,
          94.42817204301075,
          80.498875,
          93.2176404494382,
          85.8985393258427,
          100.05603174603173,
          76.8,
          88.64695652173914,
          74.15969696969697,
          83.14222222222223,
          79.95242424242424,
          95.7575,
          101.25085714285714,
          85.865,
          98.70166666666667,
          86.70880952380952,
          85.16615384615385,
          82.42365384615384,
          87.9352380952381,
          76.03404761904761,
          77.76121951219513,
          85.86045454545454,
          93.17305555555555,
          81.76019607843138,
          81.70676470588236,
          86.40404761904763,
          90.56924528301887,
          88.29209677419354,
          78.95984615384616,
          88.94213114754099,
          82.32829787234043,
          79.9862,
          78.55,
          101.95444444444443,
          79.90017543859648,
          106.79148936170212,
          73.64653846153846,
          91.50821428571429,
          84.30693548387096,
          86.09444444444445,
          85.42782608695651,
          99.92826923076922,
          88.89487804878048,
          75.6146511627907,
          97.69510638297872,
          100.434,
          86.9829268292683,
          82.76894736842105,
          90.16357142857143,
          75.08076923076922,
          87.24,
          82.80999999999999,
          95.45358974358975,
          83.04202247191012,
          81.2095,
          102.18686046511628,
          99.71761363636364,
          107.701
         ],
         "yaxis": "y10"
        },
        {
         "hovertemplate": "is_fraud=0<br>merchant=fraud_Cormier LLC<br>transaction_time=%{x}<br>amount(usd)=%{y}<extra></extra>",
         "legendgroup": "0",
         "marker": {
          "color": "#D93C1D",
          "symbol": "circle"
         },
         "mode": "markers",
         "name": "0",
         "showlegend": false,
         "type": "scattergl",
         "x": [
          "2019-01-06T00:00:00",
          "2019-01-13T00:00:00",
          "2019-01-20T00:00:00",
          "2019-01-27T00:00:00",
          "2019-02-03T00:00:00",
          "2019-02-10T00:00:00",
          "2019-02-17T00:00:00",
          "2019-02-24T00:00:00",
          "2019-03-03T00:00:00",
          "2019-03-10T00:00:00",
          "2019-03-17T00:00:00",
          "2019-03-24T00:00:00",
          "2019-03-31T00:00:00",
          "2019-04-07T00:00:00",
          "2019-04-14T00:00:00",
          "2019-04-21T00:00:00",
          "2019-04-28T00:00:00",
          "2019-05-05T00:00:00",
          "2019-05-12T00:00:00",
          "2019-05-19T00:00:00",
          "2019-05-26T00:00:00",
          "2019-06-02T00:00:00",
          "2019-06-09T00:00:00",
          "2019-06-16T00:00:00",
          "2019-06-23T00:00:00",
          "2019-06-30T00:00:00",
          "2019-07-07T00:00:00",
          "2019-07-14T00:00:00",
          "2019-07-21T00:00:00",
          "2019-07-28T00:00:00",
          "2019-08-04T00:00:00",
          "2019-08-11T00:00:00",
          "2019-08-18T00:00:00",
          "2019-08-25T00:00:00",
          "2019-09-01T00:00:00",
          "2019-09-08T00:00:00",
          "2019-09-15T00:00:00",
          "2019-09-22T00:00:00",
          "2019-09-29T00:00:00",
          "2019-10-06T00:00:00",
          "2019-10-13T00:00:00",
          "2019-10-20T00:00:00",
          "2019-10-27T00:00:00",
          "2019-11-03T00:00:00",
          "2019-11-10T00:00:00",
          "2019-11-17T00:00:00",
          "2019-11-24T00:00:00",
          "2019-12-01T00:00:00",
          "2019-12-08T00:00:00",
          "2019-12-15T00:00:00",
          "2019-12-22T00:00:00",
          "2019-12-29T00:00:00",
          "2020-01-05T00:00:00",
          "2020-01-12T00:00:00",
          "2020-01-19T00:00:00",
          "2020-01-26T00:00:00",
          "2020-02-02T00:00:00",
          "2020-02-09T00:00:00",
          "2020-02-16T00:00:00",
          "2020-02-23T00:00:00",
          "2020-03-01T00:00:00",
          "2020-03-08T00:00:00",
          "2020-03-15T00:00:00",
          "2020-03-22T00:00:00",
          "2020-03-29T00:00:00",
          "2020-04-05T00:00:00",
          "2020-04-12T00:00:00",
          "2020-04-19T00:00:00",
          "2020-04-26T00:00:00",
          "2020-05-03T00:00:00",
          "2020-05-10T00:00:00",
          "2020-05-17T00:00:00",
          "2020-05-24T00:00:00",
          "2020-05-31T00:00:00",
          "2020-06-07T00:00:00",
          "2020-06-14T00:00:00",
          "2020-06-21T00:00:00",
          "2020-06-28T00:00:00",
          "2020-07-05T00:00:00",
          "2020-07-12T00:00:00",
          "2020-07-19T00:00:00",
          "2020-07-26T00:00:00",
          "2020-08-02T00:00:00",
          "2020-08-09T00:00:00",
          "2020-08-16T00:00:00",
          "2020-08-23T00:00:00",
          "2020-08-30T00:00:00",
          "2020-09-06T00:00:00",
          "2020-09-13T00:00:00",
          "2020-09-20T00:00:00",
          "2020-09-27T00:00:00",
          "2020-10-04T00:00:00",
          "2020-10-11T00:00:00",
          "2020-10-18T00:00:00",
          "2020-10-25T00:00:00",
          "2020-11-01T00:00:00",
          "2020-11-08T00:00:00",
          "2020-11-15T00:00:00",
          "2020-11-22T00:00:00",
          "2020-11-29T00:00:00",
          "2020-12-06T00:00:00",
          "2020-12-13T00:00:00",
          "2020-12-20T00:00:00",
          "2020-12-27T00:00:00",
          "2021-01-03T00:00:00"
         ],
         "xaxis": "x11",
         "y": [
          67.11619047619047,
          71.26321428571428,
          53.02068965517241,
          64.42236842105264,
          38.13722222222222,
          40.04130434782609,
          55.50538461538462,
          57.059999999999995,
          121.72357142857142,
          35.50125,
          84.80238095238094,
          45.4595744680851,
          42.55794871794872,
          43.9003125,
          56.18416666666666,
          29.951470588235296,
          76.61636363636364,
          66.42068965517241,
          33.04805555555556,
          54.76975609756097,
          79.95384615384614,
          41.399302325581395,
          55.190000000000005,
          44.085142857142856,
          69.92407407407407,
          55.78578947368421,
          91.4406976744186,
          77.34813559322033,
          69.23958333333333,
          69.51946428571429,
          44.534615384615385,
          132.29117647058825,
          49.448181818181816,
          49.193421052631585,
          59.92808510638297,
          67.58613636363636,
          63.65848484848485,
          53.04303030303031,
          49.24894736842106,
          44.868199999999995,
          63.63370370370371,
          89.03742857142856,
          54.08730769230769,
          72.76950000000001,
          56.964687500000004,
          59.901875,
          48.77366666666667,
          51.71600000000001,
          69.00228571428572,
          66.29213114754099,
          54.12246753246754,
          70.01515625,
          47.80714285714286,
          43.1588,
          30.638636363636362,
          42.8751724137931,
          35.365,
          55.626296296296296,
          48.691,
          63.99518518518518,
          74.15392857142857,
          38.75111111111111,
          89.7208,
          59.71942857142858,
          39.0140909090909,
          68.51533333333333,
          69.7709756097561,
          64.52,
          50.83939393939394,
          57.01678571428572,
          45.67944444444444,
          45.27857142857143,
          51.191219512195126,
          69.41815789473684,
          138.2578125,
          60.67863636363636,
          43.989318181818184,
          47.52191489361702,
          75.98100000000001,
          55.991136363636365,
          69.84877551020408,
          62.964878048780484,
          88.29743589743589,
          83.10709677419355,
          49.88325,
          46.67173076923076,
          49.41826086956521,
          55.277837837837836,
          36.714375000000004,
          76.76423076923078,
          38.03707317073171,
          82.44725,
          43.03341463414634,
          53.98208333333333,
          37.34,
          92.78357142857142,
          41.61423076923077,
          37.422820512820515,
          70.32166666666666,
          29.315333333333335,
          55.82626666666667,
          67.9134375,
          35.42426470588235,
          63.54432432432432,
          49.282222222222224
         ],
         "yaxis": "y11"
        },
        {
         "hovertemplate": "is_fraud=0<br>merchant=fraud_Schumm PLC<br>transaction_time=%{x}<br>amount(usd)=%{y}<extra></extra>",
         "legendgroup": "0",
         "marker": {
          "color": "#D93C1D",
          "symbol": "circle"
         },
         "mode": "markers",
         "name": "0",
         "showlegend": false,
         "type": "scattergl",
         "x": [
          "2019-01-06T00:00:00",
          "2019-01-13T00:00:00",
          "2019-01-20T00:00:00",
          "2019-01-27T00:00:00",
          "2019-02-03T00:00:00",
          "2019-02-10T00:00:00",
          "2019-02-17T00:00:00",
          "2019-02-24T00:00:00",
          "2019-03-03T00:00:00",
          "2019-03-10T00:00:00",
          "2019-03-17T00:00:00",
          "2019-03-24T00:00:00",
          "2019-03-31T00:00:00",
          "2019-04-07T00:00:00",
          "2019-04-14T00:00:00",
          "2019-04-21T00:00:00",
          "2019-04-28T00:00:00",
          "2019-05-05T00:00:00",
          "2019-05-12T00:00:00",
          "2019-05-19T00:00:00",
          "2019-05-26T00:00:00",
          "2019-06-02T00:00:00",
          "2019-06-09T00:00:00",
          "2019-06-16T00:00:00",
          "2019-06-23T00:00:00",
          "2019-06-30T00:00:00",
          "2019-07-07T00:00:00",
          "2019-07-14T00:00:00",
          "2019-07-21T00:00:00",
          "2019-07-28T00:00:00",
          "2019-08-04T00:00:00",
          "2019-08-11T00:00:00",
          "2019-08-18T00:00:00",
          "2019-08-25T00:00:00",
          "2019-09-01T00:00:00",
          "2019-09-08T00:00:00",
          "2019-09-15T00:00:00",
          "2019-09-22T00:00:00",
          "2019-09-29T00:00:00",
          "2019-10-06T00:00:00",
          "2019-10-13T00:00:00",
          "2019-10-20T00:00:00",
          "2019-10-27T00:00:00",
          "2019-11-03T00:00:00",
          "2019-11-10T00:00:00",
          "2019-11-17T00:00:00",
          "2019-11-24T00:00:00",
          "2019-12-01T00:00:00",
          "2019-12-08T00:00:00",
          "2019-12-15T00:00:00",
          "2019-12-22T00:00:00",
          "2019-12-29T00:00:00",
          "2020-01-05T00:00:00",
          "2020-01-12T00:00:00",
          "2020-01-19T00:00:00",
          "2020-01-26T00:00:00",
          "2020-02-02T00:00:00",
          "2020-02-09T00:00:00",
          "2020-02-16T00:00:00",
          "2020-02-23T00:00:00",
          "2020-03-01T00:00:00",
          "2020-03-08T00:00:00",
          "2020-03-15T00:00:00",
          "2020-03-22T00:00:00",
          "2020-03-29T00:00:00",
          "2020-04-05T00:00:00",
          "2020-04-12T00:00:00",
          "2020-04-19T00:00:00",
          "2020-04-26T00:00:00",
          "2020-05-03T00:00:00",
          "2020-05-10T00:00:00",
          "2020-05-17T00:00:00",
          "2020-05-24T00:00:00",
          "2020-05-31T00:00:00",
          "2020-06-07T00:00:00",
          "2020-06-14T00:00:00",
          "2020-06-21T00:00:00",
          "2020-06-28T00:00:00",
          "2020-07-05T00:00:00",
          "2020-07-12T00:00:00",
          "2020-07-19T00:00:00",
          "2020-07-26T00:00:00",
          "2020-08-02T00:00:00",
          "2020-08-09T00:00:00",
          "2020-08-16T00:00:00",
          "2020-08-23T00:00:00",
          "2020-08-30T00:00:00",
          "2020-09-06T00:00:00",
          "2020-09-13T00:00:00",
          "2020-09-20T00:00:00",
          "2020-09-27T00:00:00",
          "2020-10-04T00:00:00",
          "2020-10-11T00:00:00",
          "2020-10-18T00:00:00",
          "2020-10-25T00:00:00",
          "2020-11-01T00:00:00",
          "2020-11-08T00:00:00",
          "2020-11-15T00:00:00",
          "2020-11-22T00:00:00",
          "2020-11-29T00:00:00",
          "2020-12-06T00:00:00",
          "2020-12-13T00:00:00",
          "2020-12-20T00:00:00",
          "2020-12-27T00:00:00",
          "2021-01-03T00:00:00"
         ],
         "xaxis": "x12",
         "y": [
          81.66722222222222,
          79.77173913043478,
          39.6265,
          44.566875,
          70.18705882352941,
          58.22317073170732,
          85.90735294117647,
          44.12766666666666,
          52.47488372093024,
          67.675,
          37.88325,
          50.64236842105263,
          51.284705882352945,
          78.54923076923077,
          45.988214285714285,
          37.597500000000004,
          48.89142857142857,
          34.485,
          39.71825,
          47.85641025641026,
          38.65457142857143,
          44.759499999999996,
          49.34307692307693,
          51.23571428571429,
          59.511250000000004,
          47.56961538461538,
          87.73702702702703,
          61.088181818181816,
          51.39028571428572,
          59.44375,
          61.86263157894737,
          62.20471698113207,
          64.58954545454546,
          45.40102564102564,
          49.82755555555555,
          106.64285714285714,
          49.12266666666667,
          28.75142857142857,
          43.961379310344824,
          52.5521875,
          76.61195121951219,
          71.83,
          78.964,
          103.45199999999998,
          63.66210526315789,
          27.195357142857144,
          35.61763157894737,
          53.76318181818181,
          96.80624999999999,
          72.84608695652175,
          61.953709677419354,
          56.708260869565216,
          73.1419512195122,
          51.56944444444444,
          50.48210526315789,
          85.88807692307692,
          70.22708333333334,
          62.9778125,
          46.005,
          48.212916666666665,
          75.1024,
          83.69764705882352,
          37.81216216216216,
          43.19243243243243,
          62.17478260869565,
          115.70475000000002,
          54.05866666666667,
          36.729032258064514,
          87.94555555555556,
          91.28945945945947,
          101.23942857142858,
          81.4063043478261,
          50.40054054054054,
          44.813095238095244,
          57.48682926829268,
          72.06955555555555,
          34.4847619047619,
          78.31146341463415,
          55.115111111111105,
          104.59386363636364,
          53.20155555555556,
          37.174285714285716,
          37.48317073170732,
          68.64760869565217,
          86.77238095238096,
          65.66913043478262,
          47.36042553191489,
          52.34475,
          39.84307692307692,
          38.49785714285714,
          126.71000000000001,
          86.3775,
          60.00837209302326,
          105.45322580645161,
          47.26833333333333,
          86.378,
          40.462,
          53.31782608695652,
          82.01243902439025,
          72.35666666666665,
          57.825,
          70.88108433734939,
          60.93239436619718,
          72.43875,
          56.4365
         ],
         "yaxis": "y12"
        },
        {
         "hovertemplate": "is_fraud=0<br>merchant=fraud_Kuhn LLC<br>transaction_time=%{x}<br>amount(usd)=%{y}<extra></extra>",
         "legendgroup": "0",
         "marker": {
          "color": "#D93C1D",
          "symbol": "circle"
         },
         "mode": "markers",
         "name": "0",
         "showlegend": false,
         "type": "scattergl",
         "x": [
          "2019-01-06T00:00:00",
          "2019-01-13T00:00:00",
          "2019-01-20T00:00:00",
          "2019-01-27T00:00:00",
          "2019-02-03T00:00:00",
          "2019-02-10T00:00:00",
          "2019-02-17T00:00:00",
          "2019-02-24T00:00:00",
          "2019-03-03T00:00:00",
          "2019-03-10T00:00:00",
          "2019-03-17T00:00:00",
          "2019-03-24T00:00:00",
          "2019-03-31T00:00:00",
          "2019-04-07T00:00:00",
          "2019-04-14T00:00:00",
          "2019-04-21T00:00:00",
          "2019-04-28T00:00:00",
          "2019-05-05T00:00:00",
          "2019-05-12T00:00:00",
          "2019-05-19T00:00:00",
          "2019-05-26T00:00:00",
          "2019-06-02T00:00:00",
          "2019-06-09T00:00:00",
          "2019-06-16T00:00:00",
          "2019-06-23T00:00:00",
          "2019-06-30T00:00:00",
          "2019-07-07T00:00:00",
          "2019-07-14T00:00:00",
          "2019-07-21T00:00:00",
          "2019-07-28T00:00:00",
          "2019-08-04T00:00:00",
          "2019-08-11T00:00:00",
          "2019-08-18T00:00:00",
          "2019-08-25T00:00:00",
          "2019-09-01T00:00:00",
          "2019-09-08T00:00:00",
          "2019-09-15T00:00:00",
          "2019-09-22T00:00:00",
          "2019-09-29T00:00:00",
          "2019-10-06T00:00:00",
          "2019-10-13T00:00:00",
          "2019-10-20T00:00:00",
          "2019-10-27T00:00:00",
          "2019-11-03T00:00:00",
          "2019-11-10T00:00:00",
          "2019-11-17T00:00:00",
          "2019-11-24T00:00:00",
          "2019-12-01T00:00:00",
          "2019-12-08T00:00:00",
          "2019-12-15T00:00:00",
          "2019-12-22T00:00:00",
          "2019-12-29T00:00:00",
          "2020-01-05T00:00:00",
          "2020-01-12T00:00:00",
          "2020-01-19T00:00:00",
          "2020-01-26T00:00:00",
          "2020-02-02T00:00:00",
          "2020-02-09T00:00:00",
          "2020-02-16T00:00:00",
          "2020-02-23T00:00:00",
          "2020-03-01T00:00:00",
          "2020-03-08T00:00:00",
          "2020-03-15T00:00:00",
          "2020-03-22T00:00:00",
          "2020-03-29T00:00:00",
          "2020-04-05T00:00:00",
          "2020-04-12T00:00:00",
          "2020-04-19T00:00:00",
          "2020-04-26T00:00:00",
          "2020-05-03T00:00:00",
          "2020-05-10T00:00:00",
          "2020-05-17T00:00:00",
          "2020-05-24T00:00:00",
          "2020-05-31T00:00:00",
          "2020-06-07T00:00:00",
          "2020-06-14T00:00:00",
          "2020-06-21T00:00:00",
          "2020-06-28T00:00:00",
          "2020-07-05T00:00:00",
          "2020-07-12T00:00:00",
          "2020-07-19T00:00:00",
          "2020-07-26T00:00:00",
          "2020-08-02T00:00:00",
          "2020-08-09T00:00:00",
          "2020-08-16T00:00:00",
          "2020-08-23T00:00:00",
          "2020-08-30T00:00:00",
          "2020-09-06T00:00:00",
          "2020-09-13T00:00:00",
          "2020-09-20T00:00:00",
          "2020-09-27T00:00:00",
          "2020-10-04T00:00:00",
          "2020-10-11T00:00:00",
          "2020-10-18T00:00:00",
          "2020-10-25T00:00:00",
          "2020-11-01T00:00:00",
          "2020-11-08T00:00:00",
          "2020-11-15T00:00:00",
          "2020-11-22T00:00:00",
          "2020-11-29T00:00:00",
          "2020-12-06T00:00:00",
          "2020-12-13T00:00:00",
          "2020-12-20T00:00:00",
          "2020-12-27T00:00:00",
          "2021-01-03T00:00:00"
         ],
         "xaxis": "x7",
         "y": [
          69.03416666666666,
          74.0295,
          64.15892857142858,
          49.76608695652175,
          116.39258064516129,
          35.69888888888889,
          66.61473684210527,
          81.2218181818182,
          37.997096774193544,
          33.28529411764706,
          111.31206896551724,
          67.38257142857142,
          71.94535714285715,
          125.37485714285714,
          46.87903225806452,
          56.56814814814815,
          41.66477272727273,
          29.142666666666667,
          40.10733333333334,
          61.26925,
          95.514,
          62.0406976744186,
          55.25675,
          67.35411764705883,
          76.7201923076923,
          68.01772727272727,
          33.238461538461536,
          136.12333333333336,
          78.38192307692307,
          68.5142105263158,
          47.36176470588235,
          67.08171428571428,
          33.38530612244898,
          48.02179487179487,
          44.95403846153847,
          72.85340425531915,
          35.48828571428571,
          41.9771875,
          49.029999999999994,
          58.53054054054054,
          71.7884,
          49.358437499999994,
          92.91363636363636,
          92.40950000000001,
          50.817058823529415,
          140.0608695652174,
          79.83033333333333,
          84.88157894736842,
          79.44128205128206,
          93.56424657534247,
          34.332394366197185,
          63.56151515151516,
          54.68775000000001,
          70.716,
          54.8216,
          62.191515151515155,
          82.81466666666667,
          24.03291666666667,
          79.53085714285714,
          231.98090909090908,
          149.4425,
          62.151250000000005,
          47.567692307692305,
          73.902,
          155.24222222222224,
          64.34055555555557,
          44.79965517241379,
          197.78241379310344,
          67.91194444444444,
          52.34024390243902,
          96.47233333333334,
          57.37972972972973,
          42.729565217391304,
          50.80444444444445,
          32.703947368421055,
          58.446052631578944,
          87.94372549019609,
          43.87583333333333,
          39.81880952380952,
          45.404250000000005,
          46.76277777777778,
          68.9136,
          91.3006976744186,
          87.35885714285715,
          47.227169811320756,
          61.98604651162791,
          69.63292682926829,
          83.41562499999999,
          34.71046511627907,
          49.47710526315789,
          63.24615384615385,
          97.21499999999999,
          31.968723404255318,
          55.303124999999994,
          56.10659574468085,
          81.84105263157895,
          28.7725,
          53.077894736842104,
          69.95216216216217,
          55.25527777777778,
          60.63310810810811,
          63.952769230769235,
          93.24111111111112,
          54.20603773584906,
          80.04604166666667
         ],
         "yaxis": "y7"
        },
        {
         "hovertemplate": "is_fraud=0<br>merchant=fraud_Boyer PLC<br>transaction_time=%{x}<br>amount(usd)=%{y}<extra></extra>",
         "legendgroup": "0",
         "marker": {
          "color": "#D93C1D",
          "symbol": "circle"
         },
         "mode": "markers",
         "name": "0",
         "showlegend": false,
         "type": "scattergl",
         "x": [
          "2019-01-06T00:00:00",
          "2019-01-13T00:00:00",
          "2019-01-20T00:00:00",
          "2019-01-27T00:00:00",
          "2019-02-03T00:00:00",
          "2019-02-10T00:00:00",
          "2019-02-17T00:00:00",
          "2019-02-24T00:00:00",
          "2019-03-03T00:00:00",
          "2019-03-10T00:00:00",
          "2019-03-17T00:00:00",
          "2019-03-24T00:00:00",
          "2019-03-31T00:00:00",
          "2019-04-07T00:00:00",
          "2019-04-14T00:00:00",
          "2019-04-21T00:00:00",
          "2019-04-28T00:00:00",
          "2019-05-05T00:00:00",
          "2019-05-12T00:00:00",
          "2019-05-19T00:00:00",
          "2019-05-26T00:00:00",
          "2019-06-02T00:00:00",
          "2019-06-09T00:00:00",
          "2019-06-16T00:00:00",
          "2019-06-23T00:00:00",
          "2019-06-30T00:00:00",
          "2019-07-07T00:00:00",
          "2019-07-14T00:00:00",
          "2019-07-21T00:00:00",
          "2019-07-28T00:00:00",
          "2019-08-04T00:00:00",
          "2019-08-11T00:00:00",
          "2019-08-18T00:00:00",
          "2019-08-25T00:00:00",
          "2019-09-01T00:00:00",
          "2019-09-08T00:00:00",
          "2019-09-15T00:00:00",
          "2019-09-22T00:00:00",
          "2019-09-29T00:00:00",
          "2019-10-06T00:00:00",
          "2019-10-13T00:00:00",
          "2019-10-20T00:00:00",
          "2019-10-27T00:00:00",
          "2019-11-03T00:00:00",
          "2019-11-10T00:00:00",
          "2019-11-17T00:00:00",
          "2019-11-24T00:00:00",
          "2019-12-01T00:00:00",
          "2019-12-08T00:00:00",
          "2019-12-15T00:00:00",
          "2019-12-22T00:00:00",
          "2019-12-29T00:00:00",
          "2020-01-05T00:00:00",
          "2020-01-12T00:00:00",
          "2020-01-19T00:00:00",
          "2020-01-26T00:00:00",
          "2020-02-02T00:00:00",
          "2020-02-09T00:00:00",
          "2020-02-16T00:00:00",
          "2020-02-23T00:00:00",
          "2020-03-01T00:00:00",
          "2020-03-08T00:00:00",
          "2020-03-15T00:00:00",
          "2020-03-22T00:00:00",
          "2020-03-29T00:00:00",
          "2020-04-05T00:00:00",
          "2020-04-12T00:00:00",
          "2020-04-19T00:00:00",
          "2020-04-26T00:00:00",
          "2020-05-03T00:00:00",
          "2020-05-10T00:00:00",
          "2020-05-17T00:00:00",
          "2020-05-24T00:00:00",
          "2020-05-31T00:00:00",
          "2020-06-07T00:00:00",
          "2020-06-14T00:00:00",
          "2020-06-21T00:00:00",
          "2020-06-28T00:00:00",
          "2020-07-05T00:00:00",
          "2020-07-12T00:00:00",
          "2020-07-19T00:00:00",
          "2020-07-26T00:00:00",
          "2020-08-02T00:00:00",
          "2020-08-09T00:00:00",
          "2020-08-16T00:00:00",
          "2020-08-23T00:00:00",
          "2020-08-30T00:00:00",
          "2020-09-06T00:00:00",
          "2020-09-13T00:00:00",
          "2020-09-20T00:00:00",
          "2020-09-27T00:00:00",
          "2020-10-04T00:00:00",
          "2020-10-11T00:00:00",
          "2020-10-18T00:00:00",
          "2020-10-25T00:00:00",
          "2020-11-01T00:00:00",
          "2020-11-08T00:00:00",
          "2020-11-15T00:00:00",
          "2020-11-22T00:00:00",
          "2020-11-29T00:00:00",
          "2020-12-06T00:00:00",
          "2020-12-13T00:00:00",
          "2020-12-20T00:00:00",
          "2020-12-27T00:00:00",
          "2021-01-03T00:00:00"
         ],
         "xaxis": "x8",
         "y": [
          45.93944444444444,
          44.79931034482759,
          75.96714285714286,
          59.439090909090915,
          65.08964285714286,
          61.19034482758621,
          136.1517391304348,
          53.166333333333334,
          145.92166666666668,
          57.858285714285714,
          58.15275862068966,
          38.34967741935483,
          42.376666666666665,
          52.4515625,
          63.95964285714285,
          73.12333333333333,
          35.153999999999996,
          60.75944444444445,
          79.32823529411766,
          78.44535714285715,
          85.02236842105263,
          46.36897435897436,
          48.597096774193545,
          89.30384615384615,
          59.94563636363637,
          75.81256410256411,
          73.87948717948719,
          61.46131578947369,
          122.91148936170212,
          74.29761904761905,
          106.49,
          40.55294117647059,
          46.638536585365856,
          53.10729166666667,
          39.19521739130435,
          188.37699999999998,
          58.693333333333335,
          45.5475,
          58.59567567567567,
          81.35605263157895,
          48.808571428571426,
          81.37882352941176,
          58.942702702702704,
          49.6746875,
          45.9346875,
          46.90840909090909,
          61.13512195121951,
          35.855961538461536,
          54.799,
          75.4333870967742,
          78.78101694915254,
          82.77779411764706,
          80.0428125,
          84.86107142857144,
          57.95217391304348,
          33.60272727272727,
          52.20236842105263,
          82.28217391304348,
          41.75857142857143,
          20.18227272727273,
          109.5685,
          33.52,
          42.49545454545454,
          163.2844,
          69.395,
          66.49884615384616,
          69.94459459459459,
          55.546129032258065,
          98.49942857142857,
          112.07027027027029,
          84.86888888888889,
          60.37088235294118,
          70.97361111111111,
          46.914918032786886,
          54.78837837837838,
          40.53384615384615,
          40.037142857142854,
          53.03181818181818,
          62.81166666666667,
          84.9434,
          84.69761904761906,
          70.35571428571428,
          21.689473684210526,
          34.93638888888889,
          145.28454545454545,
          108.92177777777776,
          61.177708333333335,
          80.79216216216216,
          135.5313953488372,
          51.22512820512821,
          69.79676470588235,
          72.42454545454547,
          90.6541379310345,
          63.680540540540534,
          28.55714285714286,
          27.246296296296297,
          92.48666666666666,
          34.231904761904765,
          45.915,
          87.59029411764706,
          83.64083333333333,
          123.62410958904108,
          47.38376811594203,
          45.99029411764706,
          41.236666666666665
         ],
         "yaxis": "y8"
        },
        {
         "hovertemplate": "is_fraud=0<br>merchant=fraud_Dickinson Ltd<br>transaction_time=%{x}<br>amount(usd)=%{y}<extra></extra>",
         "legendgroup": "0",
         "marker": {
          "color": "#D93C1D",
          "symbol": "circle"
         },
         "mode": "markers",
         "name": "0",
         "showlegend": false,
         "type": "scattergl",
         "x": [
          "2019-01-06T00:00:00",
          "2019-01-13T00:00:00",
          "2019-01-20T00:00:00",
          "2019-01-27T00:00:00",
          "2019-02-03T00:00:00",
          "2019-02-10T00:00:00",
          "2019-02-17T00:00:00",
          "2019-02-24T00:00:00",
          "2019-03-03T00:00:00",
          "2019-03-10T00:00:00",
          "2019-03-17T00:00:00",
          "2019-03-24T00:00:00",
          "2019-03-31T00:00:00",
          "2019-04-07T00:00:00",
          "2019-04-14T00:00:00",
          "2019-04-21T00:00:00",
          "2019-04-28T00:00:00",
          "2019-05-05T00:00:00",
          "2019-05-12T00:00:00",
          "2019-05-19T00:00:00",
          "2019-05-26T00:00:00",
          "2019-06-02T00:00:00",
          "2019-06-09T00:00:00",
          "2019-06-16T00:00:00",
          "2019-06-23T00:00:00",
          "2019-06-30T00:00:00",
          "2019-07-07T00:00:00",
          "2019-07-14T00:00:00",
          "2019-07-21T00:00:00",
          "2019-07-28T00:00:00",
          "2019-08-04T00:00:00",
          "2019-08-11T00:00:00",
          "2019-08-18T00:00:00",
          "2019-08-25T00:00:00",
          "2019-09-01T00:00:00",
          "2019-09-08T00:00:00",
          "2019-09-15T00:00:00",
          "2019-09-22T00:00:00",
          "2019-09-29T00:00:00",
          "2019-10-06T00:00:00",
          "2019-10-13T00:00:00",
          "2019-10-20T00:00:00",
          "2019-10-27T00:00:00",
          "2019-11-03T00:00:00",
          "2019-11-10T00:00:00",
          "2019-11-17T00:00:00",
          "2019-11-24T00:00:00",
          "2019-12-01T00:00:00",
          "2019-12-08T00:00:00",
          "2019-12-15T00:00:00",
          "2019-12-22T00:00:00",
          "2019-12-29T00:00:00",
          "2020-01-05T00:00:00",
          "2020-01-12T00:00:00",
          "2020-01-19T00:00:00",
          "2020-01-26T00:00:00",
          "2020-02-02T00:00:00",
          "2020-02-09T00:00:00",
          "2020-02-16T00:00:00",
          "2020-02-23T00:00:00",
          "2020-03-01T00:00:00",
          "2020-03-08T00:00:00",
          "2020-03-15T00:00:00",
          "2020-03-22T00:00:00",
          "2020-03-29T00:00:00",
          "2020-04-05T00:00:00",
          "2020-04-12T00:00:00",
          "2020-04-19T00:00:00",
          "2020-04-26T00:00:00",
          "2020-05-03T00:00:00",
          "2020-05-10T00:00:00",
          "2020-05-17T00:00:00",
          "2020-05-24T00:00:00",
          "2020-05-31T00:00:00",
          "2020-06-07T00:00:00",
          "2020-06-14T00:00:00",
          "2020-06-21T00:00:00",
          "2020-06-28T00:00:00",
          "2020-07-05T00:00:00",
          "2020-07-12T00:00:00",
          "2020-07-19T00:00:00",
          "2020-07-26T00:00:00",
          "2020-08-02T00:00:00",
          "2020-08-09T00:00:00",
          "2020-08-16T00:00:00",
          "2020-08-23T00:00:00",
          "2020-08-30T00:00:00",
          "2020-09-06T00:00:00",
          "2020-09-13T00:00:00",
          "2020-09-20T00:00:00",
          "2020-09-27T00:00:00",
          "2020-10-04T00:00:00",
          "2020-10-11T00:00:00",
          "2020-10-18T00:00:00",
          "2020-10-25T00:00:00",
          "2020-11-01T00:00:00",
          "2020-11-08T00:00:00",
          "2020-11-15T00:00:00",
          "2020-11-22T00:00:00",
          "2020-11-29T00:00:00",
          "2020-12-06T00:00:00",
          "2020-12-13T00:00:00",
          "2020-12-20T00:00:00",
          "2020-12-27T00:00:00",
          "2021-01-03T00:00:00"
         ],
         "xaxis": "x9",
         "y": [
          42.18727272727273,
          38.04375,
          39.338888888888896,
          45.05166666666667,
          55.440999999999995,
          81.74100000000001,
          61.059230769230766,
          36.08724137931034,
          55.563,
          93.03676470588235,
          41.74363636363636,
          49.8095,
          56.31935483870968,
          39.33107142857143,
          35.83914285714285,
          60.87064516129032,
          69.393125,
          43.33117647058823,
          49.96682926829268,
          47.06586206896552,
          33.82611111111111,
          56.738571428571426,
          42.070851063829785,
          54.70131578947369,
          65.4428947368421,
          55.02135135135135,
          49.61348837209302,
          68.61205128205128,
          123.1832258064516,
          93.23869565217392,
          32.39892857142857,
          44.07820512820513,
          50.58651162790697,
          52.60941176470588,
          28.770727272727274,
          48.14613636363636,
          61.04821428571428,
          42.18052631578948,
          75.18833333333333,
          35.85372093023256,
          44.98166666666666,
          33.28942857142857,
          51.679259259259254,
          65.24607142857143,
          28.439615384615383,
          39.55413793103448,
          52.04129032258064,
          79.30688888888889,
          57.14818181818182,
          48.20131578947369,
          60.443396226415096,
          58.48983606557377,
          61.050000000000004,
          59.62444444444444,
          46.89954545454545,
          62.1075,
          56.21380952380952,
          58.49470588235294,
          53.87133333333334,
          39.55266666666667,
          46.396842105263154,
          64.3171875,
          59.861,
          73.94682926829269,
          81.02133333333333,
          57.884375,
          56.50682926829268,
          71.95178571428572,
          55.254999999999995,
          62.42192307692308,
          35.25866666666666,
          64.05875,
          43.849347826086955,
          97.19975,
          75.03228571428572,
          46.21085714285714,
          49.803714285714285,
          39.084999999999994,
          77.45947368421052,
          72.74924999999999,
          56.58813953488372,
          40.376296296296296,
          43.84264705882353,
          48.824,
          54.094545454545454,
          32.23022727272728,
          60.88333333333333,
          37.102619047619044,
          70.2441304347826,
          45.266875,
          67.99116279069767,
          38.50405405405406,
          34.74184210526316,
          102.74814814814816,
          69.72107142857143,
          69.11372093023256,
          72.5148,
          48.57857142857143,
          53.342580645161284,
          43.20807692307692,
          73.00487179487179,
          60.51180327868853,
          54.50521126760563,
          63.88333333333333,
          57.12861111111111
         ],
         "yaxis": "y9"
        },
        {
         "hovertemplate": "is_fraud=0<br>merchant=fraud_Kling Inc<br>transaction_time=%{x}<br>amount(usd)=%{y}<extra></extra>",
         "legendgroup": "0",
         "marker": {
          "color": "#D93C1D",
          "symbol": "circle"
         },
         "mode": "markers",
         "name": "0",
         "showlegend": false,
         "type": "scattergl",
         "x": [
          "2019-01-06T00:00:00",
          "2019-01-13T00:00:00",
          "2019-01-20T00:00:00",
          "2019-01-27T00:00:00",
          "2019-02-03T00:00:00",
          "2019-02-10T00:00:00",
          "2019-02-17T00:00:00",
          "2019-02-24T00:00:00",
          "2019-03-03T00:00:00",
          "2019-03-10T00:00:00",
          "2019-03-17T00:00:00",
          "2019-03-24T00:00:00",
          "2019-03-31T00:00:00",
          "2019-04-07T00:00:00",
          "2019-04-14T00:00:00",
          "2019-04-21T00:00:00",
          "2019-04-28T00:00:00",
          "2019-05-05T00:00:00",
          "2019-05-12T00:00:00",
          "2019-05-19T00:00:00",
          "2019-05-26T00:00:00",
          "2019-06-02T00:00:00",
          "2019-06-09T00:00:00",
          "2019-06-16T00:00:00",
          "2019-06-23T00:00:00",
          "2019-06-30T00:00:00",
          "2019-07-07T00:00:00",
          "2019-07-14T00:00:00",
          "2019-07-21T00:00:00",
          "2019-07-28T00:00:00",
          "2019-08-04T00:00:00",
          "2019-08-11T00:00:00",
          "2019-08-18T00:00:00",
          "2019-08-25T00:00:00",
          "2019-09-01T00:00:00",
          "2019-09-08T00:00:00",
          "2019-09-15T00:00:00",
          "2019-09-22T00:00:00",
          "2019-09-29T00:00:00",
          "2019-10-06T00:00:00",
          "2019-10-13T00:00:00",
          "2019-10-20T00:00:00",
          "2019-10-27T00:00:00",
          "2019-11-03T00:00:00",
          "2019-11-10T00:00:00",
          "2019-11-17T00:00:00",
          "2019-11-24T00:00:00",
          "2019-12-01T00:00:00",
          "2019-12-08T00:00:00",
          "2019-12-15T00:00:00",
          "2019-12-22T00:00:00",
          "2019-12-29T00:00:00",
          "2020-01-05T00:00:00",
          "2020-01-12T00:00:00",
          "2020-01-19T00:00:00",
          "2020-01-26T00:00:00",
          "2020-02-02T00:00:00",
          "2020-02-09T00:00:00",
          "2020-02-16T00:00:00",
          "2020-02-23T00:00:00",
          "2020-03-01T00:00:00",
          "2020-03-08T00:00:00",
          "2020-03-15T00:00:00",
          "2020-03-22T00:00:00",
          "2020-03-29T00:00:00",
          "2020-04-05T00:00:00",
          "2020-04-12T00:00:00",
          "2020-04-19T00:00:00",
          "2020-04-26T00:00:00",
          "2020-05-03T00:00:00",
          "2020-05-10T00:00:00",
          "2020-05-17T00:00:00",
          "2020-05-24T00:00:00",
          "2020-05-31T00:00:00",
          "2020-06-07T00:00:00",
          "2020-06-14T00:00:00",
          "2020-06-21T00:00:00",
          "2020-06-28T00:00:00",
          "2020-07-05T00:00:00",
          "2020-07-12T00:00:00",
          "2020-07-19T00:00:00",
          "2020-07-26T00:00:00",
          "2020-08-02T00:00:00",
          "2020-08-09T00:00:00",
          "2020-08-16T00:00:00",
          "2020-08-23T00:00:00",
          "2020-08-30T00:00:00",
          "2020-09-06T00:00:00",
          "2020-09-13T00:00:00",
          "2020-09-20T00:00:00",
          "2020-09-27T00:00:00",
          "2020-10-04T00:00:00",
          "2020-10-11T00:00:00",
          "2020-10-18T00:00:00",
          "2020-10-25T00:00:00",
          "2020-11-01T00:00:00",
          "2020-11-08T00:00:00",
          "2020-11-15T00:00:00",
          "2020-11-22T00:00:00",
          "2020-11-29T00:00:00",
          "2020-12-06T00:00:00",
          "2020-12-13T00:00:00",
          "2020-12-20T00:00:00",
          "2020-12-27T00:00:00",
          "2021-01-03T00:00:00"
         ],
         "xaxis": "x4",
         "y": [
          59.57076923076923,
          62.48533333333333,
          63.22636363636364,
          66.208125,
          70.71117647058823,
          65.9595,
          69.08714285714287,
          59.95,
          63.18388888888889,
          63.744800000000005,
          64.58,
          62.71434782608696,
          64.28,
          61.76347826086956,
          62.2375,
          65.7159090909091,
          60.46,
          66.0408,
          58.87615384615385,
          63.02214285714285,
          63.57181818181818,
          68.61538461538461,
          63.67999999999999,
          65.84081081081081,
          70.04520000000001,
          65.79090909090908,
          62.341875,
          65.06365853658536,
          64.02787878787879,
          60.5968,
          60.278292682926825,
          60.83620689655172,
          64.1502380952381,
          63.696052631578944,
          65.51032258064517,
          63.315666666666665,
          63.6125,
          59.90128205128205,
          59.508,
          69.2904347826087,
          61.10896551724138,
          61.86828571428571,
          62.29441176470589,
          60.396086956521735,
          61.7984,
          59.041818181818186,
          64.04666666666667,
          62.268787878787876,
          61.22480769230769,
          63.43484375,
          62.80882352941177,
          64.29907407407407,
          64.5658064516129,
          64.48157894736842,
          61.36800000000001,
          64.95428571428572,
          62.57904761904762,
          64.78777777777778,
          65.01222222222222,
          57.48238095238096,
          66.31692307692308,
          60.058928571428574,
          59.417142857142856,
          66.37814814814816,
          65.17956521739131,
          63.830357142857146,
          64.83769230769231,
          58.721923076923076,
          62.51809523809524,
          56.809999999999995,
          65.88703703703703,
          63.763448275862075,
          65.2662962962963,
          63.66142857142857,
          68.82689655172413,
          64.29805555555555,
          65.5890625,
          65.17114285714285,
          63.78966666666667,
          63.61324324324325,
          58.688620689655174,
          66.05953488372093,
          65.63355555555556,
          61.75705882352942,
          62.2271875,
          55.39896551724138,
          64.74655172413793,
          63.305925925925926,
          66.12032258064517,
          69.15615384615384,
          60.8624,
          61.8878125,
          60.398,
          66.74041666666666,
          63.98592592592592,
          64.12714285714286,
          64.92607142857143,
          66.87038461538462,
          65.9525,
          68.301875,
          65.47833333333332,
          65.25,
          63.98367346938775,
          64.13418604651163,
          63.31813953488372
         ],
         "yaxis": "y4"
        },
        {
         "hovertemplate": "is_fraud=0<br>merchant=fraud_Rodriguez Group<br>transaction_time=%{x}<br>amount(usd)=%{y}<extra></extra>",
         "legendgroup": "0",
         "marker": {
          "color": "#D93C1D",
          "symbol": "circle"
         },
         "mode": "markers",
         "name": "0",
         "showlegend": false,
         "type": "scattergl",
         "x": [
          "2019-01-06T00:00:00",
          "2019-01-13T00:00:00",
          "2019-01-20T00:00:00",
          "2019-01-27T00:00:00",
          "2019-02-03T00:00:00",
          "2019-02-10T00:00:00",
          "2019-02-17T00:00:00",
          "2019-02-24T00:00:00",
          "2019-03-03T00:00:00",
          "2019-03-10T00:00:00",
          "2019-03-17T00:00:00",
          "2019-03-24T00:00:00",
          "2019-03-31T00:00:00",
          "2019-04-07T00:00:00",
          "2019-04-14T00:00:00",
          "2019-04-21T00:00:00",
          "2019-04-28T00:00:00",
          "2019-05-05T00:00:00",
          "2019-05-12T00:00:00",
          "2019-05-19T00:00:00",
          "2019-05-26T00:00:00",
          "2019-06-02T00:00:00",
          "2019-06-09T00:00:00",
          "2019-06-16T00:00:00",
          "2019-06-23T00:00:00",
          "2019-06-30T00:00:00",
          "2019-07-07T00:00:00",
          "2019-07-14T00:00:00",
          "2019-07-21T00:00:00",
          "2019-07-28T00:00:00",
          "2019-08-04T00:00:00",
          "2019-08-11T00:00:00",
          "2019-08-18T00:00:00",
          "2019-08-25T00:00:00",
          "2019-09-01T00:00:00",
          "2019-09-08T00:00:00",
          "2019-09-15T00:00:00",
          "2019-09-22T00:00:00",
          "2019-09-29T00:00:00",
          "2019-10-06T00:00:00",
          "2019-10-13T00:00:00",
          "2019-10-20T00:00:00",
          "2019-10-27T00:00:00",
          "2019-11-03T00:00:00",
          "2019-11-10T00:00:00",
          "2019-11-17T00:00:00",
          "2019-11-24T00:00:00",
          "2019-12-01T00:00:00",
          "2019-12-08T00:00:00",
          "2019-12-15T00:00:00",
          "2019-12-22T00:00:00",
          "2019-12-29T00:00:00",
          "2020-01-05T00:00:00",
          "2020-01-12T00:00:00",
          "2020-01-19T00:00:00",
          "2020-01-26T00:00:00",
          "2020-02-02T00:00:00",
          "2020-02-09T00:00:00",
          "2020-02-16T00:00:00",
          "2020-02-23T00:00:00",
          "2020-03-01T00:00:00",
          "2020-03-08T00:00:00",
          "2020-03-15T00:00:00",
          "2020-03-22T00:00:00",
          "2020-03-29T00:00:00",
          "2020-04-05T00:00:00",
          "2020-04-12T00:00:00",
          "2020-04-19T00:00:00",
          "2020-04-26T00:00:00",
          "2020-05-03T00:00:00",
          "2020-05-10T00:00:00",
          "2020-05-17T00:00:00",
          "2020-05-24T00:00:00",
          "2020-05-31T00:00:00",
          "2020-06-07T00:00:00",
          "2020-06-14T00:00:00",
          "2020-06-21T00:00:00",
          "2020-06-28T00:00:00",
          "2020-07-05T00:00:00",
          "2020-07-12T00:00:00",
          "2020-07-19T00:00:00",
          "2020-07-26T00:00:00",
          "2020-08-02T00:00:00",
          "2020-08-09T00:00:00",
          "2020-08-16T00:00:00",
          "2020-08-23T00:00:00",
          "2020-08-30T00:00:00",
          "2020-09-06T00:00:00",
          "2020-09-13T00:00:00",
          "2020-09-20T00:00:00",
          "2020-09-27T00:00:00",
          "2020-10-04T00:00:00",
          "2020-10-11T00:00:00",
          "2020-10-18T00:00:00",
          "2020-10-25T00:00:00",
          "2020-11-01T00:00:00",
          "2020-11-08T00:00:00",
          "2020-11-15T00:00:00",
          "2020-11-22T00:00:00",
          "2020-11-29T00:00:00",
          "2020-12-06T00:00:00",
          "2020-12-13T00:00:00",
          "2020-12-20T00:00:00",
          "2020-12-27T00:00:00",
          "2021-01-03T00:00:00"
         ],
         "xaxis": "x5",
         "y": [
          59.04333333333333,
          65.5055,
          58.51666666666667,
          61.74545454545455,
          61.63161290322581,
          59.089333333333336,
          65.8908,
          62.81666666666666,
          66.26222222222222,
          58.73714285714286,
          64.43166666666666,
          65.89103448275863,
          58.44586206896552,
          60.387297297297295,
          63.08911764705883,
          63.05222222222223,
          67.66653846153847,
          61.153214285714284,
          65.02870967741936,
          72.0904,
          62.291875,
          62.033500000000004,
          63.00289473684211,
          63.58107142857143,
          65.82472222222222,
          66.31428571428572,
          63.44883720930233,
          66.60472222222222,
          62.371428571428574,
          64.4825,
          63.44857142857143,
          62.347948717948725,
          62.51950000000001,
          62.119375,
          65.78121212121212,
          65.2875,
          67.72749999999999,
          61.071290322580644,
          62.46318181818182,
          65.134,
          64.037,
          61.7196,
          62.9105,
          66.04571428571428,
          63.276785714285715,
          57.67833333333333,
          58.280833333333334,
          60.87052631578947,
          62.56096774193548,
          64.86245283018869,
          63.218936170212764,
          64.8362962962963,
          64.845,
          62.476190476190474,
          66.96230769230769,
          62.5415,
          63.3384,
          63.62111111111111,
          64.80933333333333,
          63.60875,
          68.1029411764706,
          71.88909090909091,
          65.63181818181819,
          63.103571428571435,
          67.24190476190476,
          61.5230303030303,
          64.67823529411764,
          65.5608695652174,
          65.92652173913044,
          64.90233333333333,
          60.2296,
          63.35,
          65.74103448275862,
          63.23162162162161,
          63.77655172413793,
          59.9730303030303,
          64.39178571428572,
          59.0884,
          67.4290625,
          57.47714285714286,
          66.0375,
          67.40055555555556,
          61.5396875,
          65.12727272727273,
          59.41233333333333,
          64.21461538461539,
          66.815625,
          63.93761904761905,
          64.14096774193548,
          58.474333333333334,
          60.65571428571428,
          64.93137931034482,
          62.82285714285714,
          61.68958333333333,
          59.6145,
          61.085,
          61.498695652173915,
          62.74138888888889,
          63.37285714285714,
          66.49136363636363,
          63.25916666666667,
          61.9476,
          64.76408163265306,
          60.272241379310344,
          65.70111111111112
         ],
         "yaxis": "y5"
        },
        {
         "hovertemplate": "is_fraud=0<br>merchant=fraud_Emard Inc<br>transaction_time=%{x}<br>amount(usd)=%{y}<extra></extra>",
         "legendgroup": "0",
         "marker": {
          "color": "#D93C1D",
          "symbol": "circle"
         },
         "mode": "markers",
         "name": "0",
         "showlegend": false,
         "type": "scattergl",
         "x": [
          "2019-01-06T00:00:00",
          "2019-01-13T00:00:00",
          "2019-01-20T00:00:00",
          "2019-01-27T00:00:00",
          "2019-02-03T00:00:00",
          "2019-02-10T00:00:00",
          "2019-02-17T00:00:00",
          "2019-02-24T00:00:00",
          "2019-03-03T00:00:00",
          "2019-03-10T00:00:00",
          "2019-03-17T00:00:00",
          "2019-03-24T00:00:00",
          "2019-03-31T00:00:00",
          "2019-04-07T00:00:00",
          "2019-04-14T00:00:00",
          "2019-04-21T00:00:00",
          "2019-04-28T00:00:00",
          "2019-05-05T00:00:00",
          "2019-05-12T00:00:00",
          "2019-05-19T00:00:00",
          "2019-05-26T00:00:00",
          "2019-06-02T00:00:00",
          "2019-06-09T00:00:00",
          "2019-06-16T00:00:00",
          "2019-06-23T00:00:00",
          "2019-06-30T00:00:00",
          "2019-07-07T00:00:00",
          "2019-07-14T00:00:00",
          "2019-07-21T00:00:00",
          "2019-07-28T00:00:00",
          "2019-08-04T00:00:00",
          "2019-08-11T00:00:00",
          "2019-08-18T00:00:00",
          "2019-08-25T00:00:00",
          "2019-09-01T00:00:00",
          "2019-09-08T00:00:00",
          "2019-09-15T00:00:00",
          "2019-09-22T00:00:00",
          "2019-09-29T00:00:00",
          "2019-10-06T00:00:00",
          "2019-10-13T00:00:00",
          "2019-10-20T00:00:00",
          "2019-10-27T00:00:00",
          "2019-11-03T00:00:00",
          "2019-11-10T00:00:00",
          "2019-11-17T00:00:00",
          "2019-11-24T00:00:00",
          "2019-12-01T00:00:00",
          "2019-12-08T00:00:00",
          "2019-12-15T00:00:00",
          "2019-12-22T00:00:00",
          "2019-12-29T00:00:00",
          "2020-01-05T00:00:00",
          "2020-01-12T00:00:00",
          "2020-01-19T00:00:00",
          "2020-01-26T00:00:00",
          "2020-02-02T00:00:00",
          "2020-02-09T00:00:00",
          "2020-02-16T00:00:00",
          "2020-02-23T00:00:00",
          "2020-03-01T00:00:00",
          "2020-03-08T00:00:00",
          "2020-03-15T00:00:00",
          "2020-03-22T00:00:00",
          "2020-03-29T00:00:00",
          "2020-04-05T00:00:00",
          "2020-04-12T00:00:00",
          "2020-04-19T00:00:00",
          "2020-04-26T00:00:00",
          "2020-05-03T00:00:00",
          "2020-05-10T00:00:00",
          "2020-05-17T00:00:00",
          "2020-05-24T00:00:00",
          "2020-05-31T00:00:00",
          "2020-06-07T00:00:00",
          "2020-06-14T00:00:00",
          "2020-06-21T00:00:00",
          "2020-06-28T00:00:00",
          "2020-07-05T00:00:00",
          "2020-07-12T00:00:00",
          "2020-07-19T00:00:00",
          "2020-07-26T00:00:00",
          "2020-08-02T00:00:00",
          "2020-08-09T00:00:00",
          "2020-08-16T00:00:00",
          "2020-08-23T00:00:00",
          "2020-08-30T00:00:00",
          "2020-09-06T00:00:00",
          "2020-09-13T00:00:00",
          "2020-09-20T00:00:00",
          "2020-09-27T00:00:00",
          "2020-10-04T00:00:00",
          "2020-10-11T00:00:00",
          "2020-10-18T00:00:00",
          "2020-10-25T00:00:00",
          "2020-11-01T00:00:00",
          "2020-11-08T00:00:00",
          "2020-11-15T00:00:00",
          "2020-11-22T00:00:00",
          "2020-11-29T00:00:00",
          "2020-12-06T00:00:00",
          "2020-12-13T00:00:00",
          "2020-12-20T00:00:00",
          "2020-12-27T00:00:00",
          "2021-01-03T00:00:00"
         ],
         "xaxis": "x6",
         "y": [
          63.176874999999995,
          63.5175,
          65.3656,
          76.33315789473684,
          67.03176470588235,
          55.41428571428572,
          65.50228571428572,
          62.9125,
          61.553,
          62.3625,
          64.88187500000001,
          69.00391304347826,
          63.49823529411765,
          60.029999999999994,
          63.45142857142857,
          59.47727272727273,
          62.5634375,
          61.04904761904762,
          66.47749999999999,
          63.66833333333333,
          66.31217391304348,
          59.078,
          67.16606060606061,
          61.84205882352941,
          62.03583333333333,
          67.83190476190477,
          66.77,
          63.03387096774193,
          66.59871794871795,
          63.87078947368421,
          65.635,
          67.60285714285713,
          66.16030303030303,
          64.3108,
          64.38676470588236,
          61.557037037037034,
          66.34519999999999,
          61.340625,
          62.08166666666667,
          68.30857142857143,
          67.226,
          68.23739130434782,
          63.57322580645161,
          67.01380952380953,
          64.79230769230769,
          64.78086956521739,
          66.153125,
          61.857,
          63.54245283018868,
          62.046400000000006,
          65.85673469387756,
          62.755322580645164,
          54.472,
          71.70166666666667,
          58.730000000000004,
          69.60333333333334,
          60.90380952380953,
          57.14450000000001,
          63.7115,
          70.8847619047619,
          62.111875,
          63.99272727272727,
          62.442962962962966,
          67.93375,
          65.44800000000001,
          64.60153846153847,
          65.56692307692308,
          61.85476190476191,
          65.05645161290323,
          59.715769230769226,
          63.56823529411765,
          57.705555555555556,
          64.355,
          62.321176470588235,
          68.58000000000001,
          64.91,
          66.09212121212121,
          62.52344827586207,
          62.82102564102564,
          62.222,
          62.024,
          62.8165625,
          62.05309523809524,
          61.83837837837838,
          65.09875,
          58.222,
          62.53234042553191,
          65.07806451612903,
          72.3056,
          65.73375,
          61.400999999999996,
          61.77363636363636,
          67.26714285714286,
          64.90285714285714,
          69.79083333333332,
          62.15657142857143,
          61.08324324324324,
          60.59935483870967,
          63.711724137931036,
          61.268125,
          66.04271186440678,
          63.480363636363634,
          65.08166666666666,
          61.39430555555556,
          64.54527777777778
         ],
         "yaxis": "y6"
        },
        {
         "hovertemplate": "is_fraud=0<br>merchant=fraud_Huels-Hahn<br>transaction_time=%{x}<br>amount(usd)=%{y}<extra></extra>",
         "legendgroup": "0",
         "marker": {
          "color": "#D93C1D",
          "symbol": "circle"
         },
         "mode": "markers",
         "name": "0",
         "showlegend": false,
         "type": "scattergl",
         "x": [
          "2019-01-06T00:00:00",
          "2019-01-13T00:00:00",
          "2019-01-20T00:00:00",
          "2019-01-27T00:00:00",
          "2019-02-03T00:00:00",
          "2019-02-10T00:00:00",
          "2019-02-17T00:00:00",
          "2019-02-24T00:00:00",
          "2019-03-03T00:00:00",
          "2019-03-10T00:00:00",
          "2019-03-17T00:00:00",
          "2019-03-24T00:00:00",
          "2019-03-31T00:00:00",
          "2019-04-07T00:00:00",
          "2019-04-14T00:00:00",
          "2019-04-21T00:00:00",
          "2019-04-28T00:00:00",
          "2019-05-05T00:00:00",
          "2019-05-12T00:00:00",
          "2019-05-19T00:00:00",
          "2019-05-26T00:00:00",
          "2019-06-02T00:00:00",
          "2019-06-09T00:00:00",
          "2019-06-16T00:00:00",
          "2019-06-23T00:00:00",
          "2019-06-30T00:00:00",
          "2019-07-07T00:00:00",
          "2019-07-14T00:00:00",
          "2019-07-21T00:00:00",
          "2019-07-28T00:00:00",
          "2019-08-04T00:00:00",
          "2019-08-11T00:00:00",
          "2019-08-18T00:00:00",
          "2019-08-25T00:00:00",
          "2019-09-01T00:00:00",
          "2019-09-08T00:00:00",
          "2019-09-15T00:00:00",
          "2019-09-22T00:00:00",
          "2019-09-29T00:00:00",
          "2019-10-06T00:00:00",
          "2019-10-13T00:00:00",
          "2019-10-20T00:00:00",
          "2019-10-27T00:00:00",
          "2019-11-03T00:00:00",
          "2019-11-10T00:00:00",
          "2019-11-17T00:00:00",
          "2019-11-24T00:00:00",
          "2019-12-01T00:00:00",
          "2019-12-08T00:00:00",
          "2019-12-15T00:00:00",
          "2019-12-22T00:00:00",
          "2019-12-29T00:00:00",
          "2020-01-05T00:00:00",
          "2020-01-12T00:00:00",
          "2020-01-19T00:00:00",
          "2020-01-26T00:00:00",
          "2020-02-02T00:00:00",
          "2020-02-09T00:00:00",
          "2020-02-16T00:00:00",
          "2020-02-23T00:00:00",
          "2020-03-01T00:00:00",
          "2020-03-08T00:00:00",
          "2020-03-15T00:00:00",
          "2020-03-22T00:00:00",
          "2020-03-29T00:00:00",
          "2020-04-05T00:00:00",
          "2020-04-12T00:00:00",
          "2020-04-19T00:00:00",
          "2020-04-26T00:00:00",
          "2020-05-03T00:00:00",
          "2020-05-10T00:00:00",
          "2020-05-17T00:00:00",
          "2020-05-24T00:00:00",
          "2020-05-31T00:00:00",
          "2020-06-07T00:00:00",
          "2020-06-14T00:00:00",
          "2020-06-21T00:00:00",
          "2020-06-28T00:00:00",
          "2020-07-05T00:00:00",
          "2020-07-12T00:00:00",
          "2020-07-19T00:00:00",
          "2020-07-26T00:00:00",
          "2020-08-02T00:00:00",
          "2020-08-09T00:00:00",
          "2020-08-16T00:00:00",
          "2020-08-23T00:00:00",
          "2020-08-30T00:00:00",
          "2020-09-06T00:00:00",
          "2020-09-13T00:00:00",
          "2020-09-20T00:00:00",
          "2020-09-27T00:00:00",
          "2020-10-04T00:00:00",
          "2020-10-11T00:00:00",
          "2020-10-18T00:00:00",
          "2020-10-25T00:00:00",
          "2020-11-01T00:00:00",
          "2020-11-08T00:00:00",
          "2020-11-15T00:00:00",
          "2020-11-22T00:00:00",
          "2020-11-29T00:00:00",
          "2020-12-06T00:00:00",
          "2020-12-13T00:00:00",
          "2020-12-20T00:00:00",
          "2020-12-27T00:00:00",
          "2021-01-03T00:00:00"
         ],
         "xaxis": "x",
         "y": [
          63.49444444444444,
          65.558,
          60.70928571428572,
          65.63380952380952,
          70.79052631578948,
          64.20882352941176,
          63.614117647058826,
          60.59777777777778,
          60.94304347826087,
          61.656666666666666,
          58.47708333333333,
          60.05758620689655,
          64.37828571428571,
          63.451875,
          65.57538461538462,
          56.15814814814815,
          63.24740740740741,
          64.91821428571428,
          61.709117647058825,
          66.908,
          66.69690476190476,
          65.1474193548387,
          64.46884615384616,
          61.07448979591837,
          63.03000000000001,
          61.29147058823529,
          64.17735294117648,
          64.89973684210527,
          63.17735294117648,
          59.89241379310345,
          64.51775,
          68.60413793103449,
          63.32757575757576,
          66.22416666666668,
          65.652,
          63.1432,
          63.83076923076923,
          63.04136363636364,
          60.711999999999996,
          64.7748,
          64.47458333333333,
          65.06333333333333,
          67.43161290322581,
          66.51769230769231,
          64.75633333333333,
          65.27148148148147,
          64.02590909090908,
          64.64882352941176,
          67.35386363636364,
          64.68717391304348,
          63.15190476190477,
          65.60574074074074,
          59.326,
          61.763125,
          67.31782608695652,
          64.3652380952381,
          63.989375,
          68.98125,
          62.90681818181818,
          61.24722222222223,
          59.25526315789473,
          63.57173913043478,
          61.307,
          62.90793103448276,
          61.175714285714285,
          57.79947368421053,
          64.77384615384615,
          61.205357142857146,
          66.92541666666666,
          66.86533333333334,
          63.45481481481482,
          62.56892857142857,
          66.72407407407407,
          64.5204255319149,
          63.266875,
          59.943461538461534,
          65.4932,
          62.1565625,
          66.13666666666667,
          66.53,
          61.51317073170732,
          66.59533333333333,
          61.60657142857143,
          60.62129032258064,
          64.082,
          62.92541666666667,
          62.51032258064516,
          61.281136363636364,
          61.9412,
          61.33323529411764,
          72.13166666666667,
          64.98894736842105,
          63.32555555555555,
          63.681290322580644,
          60.12173913043478,
          68.18407407407408,
          65.28733333333334,
          62.42896551724138,
          61.49130434782609,
          63.28210526315789,
          65.30018181818183,
          65.12877192982457,
          62.59936507936508,
          65.45362068965517,
          60.71868421052631
         ],
         "yaxis": "y"
        },
        {
         "hovertemplate": "is_fraud=0<br>merchant=fraud_Corwin-Collins<br>transaction_time=%{x}<br>amount(usd)=%{y}<extra></extra>",
         "legendgroup": "0",
         "marker": {
          "color": "#D93C1D",
          "symbol": "circle"
         },
         "mode": "markers",
         "name": "0",
         "showlegend": false,
         "type": "scattergl",
         "x": [
          "2019-01-06T00:00:00",
          "2019-01-13T00:00:00",
          "2019-01-20T00:00:00",
          "2019-01-27T00:00:00",
          "2019-02-03T00:00:00",
          "2019-02-10T00:00:00",
          "2019-02-17T00:00:00",
          "2019-02-24T00:00:00",
          "2019-03-03T00:00:00",
          "2019-03-10T00:00:00",
          "2019-03-17T00:00:00",
          "2019-03-24T00:00:00",
          "2019-03-31T00:00:00",
          "2019-04-07T00:00:00",
          "2019-04-14T00:00:00",
          "2019-04-21T00:00:00",
          "2019-04-28T00:00:00",
          "2019-05-05T00:00:00",
          "2019-05-12T00:00:00",
          "2019-05-19T00:00:00",
          "2019-05-26T00:00:00",
          "2019-06-02T00:00:00",
          "2019-06-09T00:00:00",
          "2019-06-16T00:00:00",
          "2019-06-23T00:00:00",
          "2019-06-30T00:00:00",
          "2019-07-07T00:00:00",
          "2019-07-14T00:00:00",
          "2019-07-21T00:00:00",
          "2019-07-28T00:00:00",
          "2019-08-04T00:00:00",
          "2019-08-11T00:00:00",
          "2019-08-18T00:00:00",
          "2019-08-25T00:00:00",
          "2019-09-01T00:00:00",
          "2019-09-08T00:00:00",
          "2019-09-15T00:00:00",
          "2019-09-22T00:00:00",
          "2019-09-29T00:00:00",
          "2019-10-06T00:00:00",
          "2019-10-13T00:00:00",
          "2019-10-20T00:00:00",
          "2019-10-27T00:00:00",
          "2019-11-03T00:00:00",
          "2019-11-10T00:00:00",
          "2019-11-17T00:00:00",
          "2019-11-24T00:00:00",
          "2019-12-01T00:00:00",
          "2019-12-08T00:00:00",
          "2019-12-15T00:00:00",
          "2019-12-22T00:00:00",
          "2019-12-29T00:00:00",
          "2020-01-05T00:00:00",
          "2020-01-12T00:00:00",
          "2020-01-19T00:00:00",
          "2020-01-26T00:00:00",
          "2020-02-02T00:00:00",
          "2020-02-09T00:00:00",
          "2020-02-16T00:00:00",
          "2020-02-23T00:00:00",
          "2020-03-01T00:00:00",
          "2020-03-08T00:00:00",
          "2020-03-15T00:00:00",
          "2020-03-22T00:00:00",
          "2020-03-29T00:00:00",
          "2020-04-05T00:00:00",
          "2020-04-12T00:00:00",
          "2020-04-19T00:00:00",
          "2020-04-26T00:00:00",
          "2020-05-03T00:00:00",
          "2020-05-10T00:00:00",
          "2020-05-17T00:00:00",
          "2020-05-24T00:00:00",
          "2020-05-31T00:00:00",
          "2020-06-07T00:00:00",
          "2020-06-14T00:00:00",
          "2020-06-21T00:00:00",
          "2020-06-28T00:00:00",
          "2020-07-05T00:00:00",
          "2020-07-12T00:00:00",
          "2020-07-19T00:00:00",
          "2020-07-26T00:00:00",
          "2020-08-02T00:00:00",
          "2020-08-09T00:00:00",
          "2020-08-16T00:00:00",
          "2020-08-23T00:00:00",
          "2020-08-30T00:00:00",
          "2020-09-06T00:00:00",
          "2020-09-13T00:00:00",
          "2020-09-20T00:00:00",
          "2020-09-27T00:00:00",
          "2020-10-04T00:00:00",
          "2020-10-11T00:00:00",
          "2020-10-18T00:00:00",
          "2020-10-25T00:00:00",
          "2020-11-01T00:00:00",
          "2020-11-08T00:00:00",
          "2020-11-15T00:00:00",
          "2020-11-22T00:00:00",
          "2020-11-29T00:00:00",
          "2020-12-06T00:00:00",
          "2020-12-13T00:00:00",
          "2020-12-20T00:00:00",
          "2020-12-27T00:00:00",
          "2021-01-03T00:00:00"
         ],
         "xaxis": "x2",
         "y": [
          63.09739130434782,
          59.281666666666666,
          61.239999999999995,
          64.61705882352942,
          71.821875,
          57.08869565217391,
          63.90392857142857,
          63.27428571428571,
          62.43179487179488,
          66.80592592592592,
          64.44347826086957,
          61.940714285714286,
          61.92590909090909,
          59.92625,
          62.883428571428574,
          63.43,
          67.14481481481482,
          61.90793103448276,
          62.219500000000004,
          63.302903225806446,
          67.16869565217392,
          66.8125,
          64.23666666666666,
          58.333125,
          60.05724137931034,
          61.737073170731705,
          61.662,
          66.27387096774193,
          61.36451612903225,
          60.98935483870968,
          63.67369565217392,
          65.97500000000001,
          62.60421052631579,
          64.35384615384616,
          59.13641025641026,
          62.405789473684216,
          64.81400000000001,
          66.58347826086957,
          66.72185185185185,
          67.8016,
          64.53115384615384,
          64.47115384615384,
          60.797407407407405,
          64.6995,
          60.08043478260869,
          62.888125,
          58.09125,
          58.286944444444444,
          64.55163636363636,
          61.224999999999994,
          64.58018518518519,
          60.094468085106385,
          62.5088,
          63.04909090909091,
          60.05714285714286,
          67.91214285714285,
          60.842,
          67.19142857142857,
          65.06619047619047,
          55.91809523809523,
          65.52066666666667,
          64.27250000000001,
          65.07357142857143,
          65.6952,
          59.23416666666666,
          65.4152,
          64.79612903225807,
          66.01575757575758,
          70.86653846153845,
          66.16722222222222,
          64.06620689655173,
          61.135200000000005,
          67.3303448275862,
          65.06451612903226,
          64.95,
          63.30916666666667,
          61.37882352941177,
          62.06428571428571,
          65.11771428571429,
          65.29081632653062,
          68.05705882352942,
          63.897600000000004,
          67.83025,
          63.70882352941176,
          60.95333333333334,
          58.018055555555556,
          65.37,
          66.77333333333333,
          62.990303030303025,
          68.13173913043478,
          65.63107142857143,
          59.8253125,
          66.9316,
          67.16136363636363,
          68.31409090909091,
          57.8772,
          66.33624999999999,
          66.62346153846154,
          65.06666666666668,
          70.13304347826087,
          64.51893617021277,
          62.7836,
          62.748387096774195,
          62.2940625,
          64.5690625
         ],
         "yaxis": "y2"
        },
        {
         "hovertemplate": "is_fraud=0<br>merchant=fraud_Greenholt, Jacobi and Gleason<br>transaction_time=%{x}<br>amount(usd)=%{y}<extra></extra>",
         "legendgroup": "0",
         "marker": {
          "color": "#D93C1D",
          "symbol": "circle"
         },
         "mode": "markers",
         "name": "0",
         "showlegend": false,
         "type": "scattergl",
         "x": [
          "2019-01-06T00:00:00",
          "2019-01-13T00:00:00",
          "2019-01-20T00:00:00",
          "2019-01-27T00:00:00",
          "2019-02-03T00:00:00",
          "2019-02-10T00:00:00",
          "2019-02-17T00:00:00",
          "2019-02-24T00:00:00",
          "2019-03-03T00:00:00",
          "2019-03-10T00:00:00",
          "2019-03-17T00:00:00",
          "2019-03-24T00:00:00",
          "2019-03-31T00:00:00",
          "2019-04-07T00:00:00",
          "2019-04-14T00:00:00",
          "2019-04-21T00:00:00",
          "2019-04-28T00:00:00",
          "2019-05-05T00:00:00",
          "2019-05-12T00:00:00",
          "2019-05-19T00:00:00",
          "2019-05-26T00:00:00",
          "2019-06-02T00:00:00",
          "2019-06-09T00:00:00",
          "2019-06-16T00:00:00",
          "2019-06-23T00:00:00",
          "2019-06-30T00:00:00",
          "2019-07-07T00:00:00",
          "2019-07-14T00:00:00",
          "2019-07-21T00:00:00",
          "2019-07-28T00:00:00",
          "2019-08-04T00:00:00",
          "2019-08-11T00:00:00",
          "2019-08-18T00:00:00",
          "2019-08-25T00:00:00",
          "2019-09-01T00:00:00",
          "2019-09-08T00:00:00",
          "2019-09-15T00:00:00",
          "2019-09-22T00:00:00",
          "2019-09-29T00:00:00",
          "2019-10-06T00:00:00",
          "2019-10-13T00:00:00",
          "2019-10-20T00:00:00",
          "2019-10-27T00:00:00",
          "2019-11-03T00:00:00",
          "2019-11-10T00:00:00",
          "2019-11-17T00:00:00",
          "2019-11-24T00:00:00",
          "2019-12-01T00:00:00",
          "2019-12-08T00:00:00",
          "2019-12-15T00:00:00",
          "2019-12-22T00:00:00",
          "2019-12-29T00:00:00",
          "2020-01-05T00:00:00",
          "2020-01-12T00:00:00",
          "2020-01-19T00:00:00",
          "2020-01-26T00:00:00",
          "2020-02-02T00:00:00",
          "2020-02-09T00:00:00",
          "2020-02-16T00:00:00",
          "2020-02-23T00:00:00",
          "2020-03-01T00:00:00",
          "2020-03-08T00:00:00",
          "2020-03-15T00:00:00",
          "2020-03-22T00:00:00",
          "2020-03-29T00:00:00",
          "2020-04-05T00:00:00",
          "2020-04-12T00:00:00",
          "2020-04-19T00:00:00",
          "2020-04-26T00:00:00",
          "2020-05-03T00:00:00",
          "2020-05-10T00:00:00",
          "2020-05-17T00:00:00",
          "2020-05-24T00:00:00",
          "2020-05-31T00:00:00",
          "2020-06-07T00:00:00",
          "2020-06-14T00:00:00",
          "2020-06-21T00:00:00",
          "2020-06-28T00:00:00",
          "2020-07-05T00:00:00",
          "2020-07-12T00:00:00",
          "2020-07-19T00:00:00",
          "2020-07-26T00:00:00",
          "2020-08-02T00:00:00",
          "2020-08-09T00:00:00",
          "2020-08-16T00:00:00",
          "2020-08-23T00:00:00",
          "2020-08-30T00:00:00",
          "2020-09-06T00:00:00",
          "2020-09-13T00:00:00",
          "2020-09-20T00:00:00",
          "2020-09-27T00:00:00",
          "2020-10-04T00:00:00",
          "2020-10-11T00:00:00",
          "2020-10-18T00:00:00",
          "2020-10-25T00:00:00",
          "2020-11-01T00:00:00",
          "2020-11-08T00:00:00",
          "2020-11-15T00:00:00",
          "2020-11-22T00:00:00",
          "2020-11-29T00:00:00",
          "2020-12-06T00:00:00",
          "2020-12-13T00:00:00",
          "2020-12-20T00:00:00",
          "2020-12-27T00:00:00",
          "2021-01-03T00:00:00"
         ],
         "xaxis": "x3",
         "y": [
          64.60000000000001,
          64.20555555555556,
          76.1123076923077,
          67.8457894736842,
          63.579375,
          63.58,
          66.454,
          59.56625,
          62.92896551724138,
          62.418125,
          63.744516129032256,
          58.63035714285714,
          65.46285714285715,
          67.41833333333334,
          63.817727272727275,
          63.68846153846154,
          65.19677419354838,
          68.0948,
          62.815185185185186,
          63.435806451612905,
          62.65535714285714,
          66.34,
          64.39242424242424,
          65.5227027027027,
          65.604,
          60.52764705882353,
          59.65558139534884,
          65.74,
          72.01809523809524,
          71.52967741935484,
          66.3828947368421,
          61.30266666666667,
          62.587380952380954,
          60.6390909090909,
          64.24694444444444,
          64.12125,
          64.99454545454546,
          60.344545454545454,
          58.72692307692308,
          62.21529411764706,
          61.12952380952381,
          64.40238095238095,
          66.46272727272728,
          67.37607142857142,
          65.7704347826087,
          60.952222222222225,
          68.45360000000001,
          63.104375,
          62.446481481481484,
          60.58271186440678,
          65.35075757575757,
          64.44519230769231,
          59.79838709677419,
          68.071,
          58.3812,
          68.19464285714285,
          59.210909090909084,
          64.28041666666667,
          64.73294117647059,
          63.39928571428572,
          68.74,
          62.08060606060606,
          59.510384615384616,
          63.472727272727276,
          60.99814814814815,
          66.3712,
          60.94708333333333,
          59.63142857142857,
          69.6135,
          60.31578947368421,
          66.8075,
          62.934999999999995,
          64.1784,
          62.9148275862069,
          60.85193548387097,
          61.128461538461536,
          59.045853658536586,
          65.8437037037037,
          62.442702702702704,
          64.4709756097561,
          65.236,
          65.71,
          64.44928571428571,
          61.587105263157895,
          62.355000000000004,
          55.773548387096774,
          62.71486486486486,
          61.53130434782609,
          64.6965,
          67.42863636363636,
          63.314230769230775,
          65.426,
          64.20333333333333,
          63.52787878787879,
          58.614799999999995,
          60.08,
          62.27956521739131,
          65.37222222222222,
          66.67538461538462,
          63.7284375,
          63.03942307692308,
          66.06134328358209,
          63.89387096774194,
          64.69487179487179,
          61.69344827586207
         ],
         "yaxis": "y3"
        },
        {
         "hovertemplate": "is_fraud=1<br>merchant=fraud_Kilback LLC<br>transaction_time=%{x}<br>amount(usd)=%{y}<extra></extra>",
         "legendgroup": "1",
         "marker": {
          "color": "#61E50F",
          "symbol": "circle"
         },
         "mode": "markers",
         "name": "1",
         "showlegend": true,
         "type": "scattergl",
         "x": [
          "2019-01-06T00:00:00",
          "2019-01-13T00:00:00",
          "2019-01-20T00:00:00",
          "2019-01-27T00:00:00",
          "2019-02-03T00:00:00",
          "2019-02-10T00:00:00",
          "2019-02-17T00:00:00",
          "2019-02-24T00:00:00",
          "2019-03-03T00:00:00",
          "2019-03-10T00:00:00",
          "2019-03-17T00:00:00",
          "2019-03-24T00:00:00",
          "2019-03-31T00:00:00",
          "2019-04-07T00:00:00",
          "2019-04-14T00:00:00",
          "2019-04-21T00:00:00",
          "2019-04-28T00:00:00",
          "2019-05-05T00:00:00",
          "2019-05-12T00:00:00",
          "2019-05-19T00:00:00",
          "2019-05-26T00:00:00",
          "2019-06-02T00:00:00",
          "2019-06-09T00:00:00",
          "2019-06-16T00:00:00",
          "2019-06-23T00:00:00",
          "2019-06-30T00:00:00",
          "2019-07-07T00:00:00",
          "2019-07-14T00:00:00",
          "2019-07-21T00:00:00",
          "2019-07-28T00:00:00",
          "2019-08-04T00:00:00",
          "2019-08-11T00:00:00",
          "2019-08-18T00:00:00",
          "2019-08-25T00:00:00",
          "2019-09-01T00:00:00",
          "2019-09-08T00:00:00",
          "2019-09-15T00:00:00",
          "2019-09-22T00:00:00",
          "2019-09-29T00:00:00",
          "2019-10-06T00:00:00",
          "2019-10-13T00:00:00",
          "2019-10-20T00:00:00",
          "2019-10-27T00:00:00",
          "2019-11-03T00:00:00",
          "2019-11-10T00:00:00",
          "2019-11-17T00:00:00",
          "2019-11-24T00:00:00",
          "2019-12-01T00:00:00",
          "2019-12-08T00:00:00",
          "2019-12-15T00:00:00",
          "2019-12-22T00:00:00",
          "2019-12-29T00:00:00",
          "2020-01-05T00:00:00",
          "2020-01-12T00:00:00",
          "2020-01-19T00:00:00",
          "2020-01-26T00:00:00",
          "2020-02-02T00:00:00",
          "2020-02-09T00:00:00",
          "2020-02-16T00:00:00",
          "2020-02-23T00:00:00",
          "2020-03-01T00:00:00",
          "2020-03-08T00:00:00",
          "2020-03-15T00:00:00",
          "2020-03-22T00:00:00",
          "2020-03-29T00:00:00",
          "2020-04-05T00:00:00",
          "2020-04-12T00:00:00",
          "2020-04-19T00:00:00",
          "2020-04-26T00:00:00",
          "2020-05-03T00:00:00",
          "2020-05-10T00:00:00",
          "2020-05-17T00:00:00",
          "2020-05-24T00:00:00",
          "2020-05-31T00:00:00",
          "2020-06-07T00:00:00",
          "2020-06-14T00:00:00",
          "2020-06-21T00:00:00",
          "2020-06-28T00:00:00",
          "2020-07-05T00:00:00",
          "2020-07-12T00:00:00",
          "2020-07-19T00:00:00",
          "2020-07-26T00:00:00",
          "2020-08-02T00:00:00",
          "2020-08-09T00:00:00",
          "2020-08-16T00:00:00",
          "2020-08-23T00:00:00",
          "2020-08-30T00:00:00",
          "2020-09-06T00:00:00",
          "2020-09-13T00:00:00",
          "2020-09-20T00:00:00",
          "2020-09-27T00:00:00",
          "2020-10-04T00:00:00",
          "2020-10-11T00:00:00",
          "2020-10-18T00:00:00",
          "2020-10-25T00:00:00",
          "2020-11-01T00:00:00",
          "2020-11-08T00:00:00",
          "2020-11-15T00:00:00",
          "2020-11-22T00:00:00",
          "2020-11-29T00:00:00",
          "2020-12-06T00:00:00",
          "2020-12-13T00:00:00",
          "2020-12-20T00:00:00",
          "2020-12-27T00:00:00",
          "2021-01-03T00:00:00"
         ],
         "xaxis": "x10",
         "y": [
          null,
          null,
          null,
          null,
          292.42499999999995,
          null,
          293.97333333333336,
          232.01,
          null,
          281.28,
          null,
          115.73,
          320.93,
          null,
          340.41,
          307.42,
          304.1,
          341.8,
          null,
          259.24,
          null,
          null,
          null,
          238.78,
          null,
          null,
          null,
          null,
          null,
          333.31,
          242.73499999999999,
          null,
          null,
          null,
          311.63,
          null,
          247.85000000000002,
          null,
          null,
          null,
          null,
          329.83,
          null,
          null,
          null,
          null,
          null,
          null,
          259.55333333333334,
          297.42,
          null,
          null,
          null,
          null,
          123.43,
          null,
          null,
          298.98,
          null,
          null,
          null,
          null,
          311.02,
          null,
          null,
          null,
          345.7,
          274.87,
          278.37,
          null,
          null,
          null,
          null,
          320.85,
          null,
          null,
          262.15,
          null,
          null,
          102.42,
          null,
          314.36,
          291.8,
          null,
          262.6,
          336.94,
          285.635,
          null,
          null,
          294.39,
          null,
          null,
          342.03,
          306.95,
          null,
          null,
          null,
          null,
          null,
          null,
          296.27,
          null,
          null,
          null,
          null
         ],
         "yaxis": "y10"
        },
        {
         "hovertemplate": "is_fraud=1<br>merchant=fraud_Cormier LLC<br>transaction_time=%{x}<br>amount(usd)=%{y}<extra></extra>",
         "legendgroup": "1",
         "marker": {
          "color": "#61E50F",
          "symbol": "circle"
         },
         "mode": "markers",
         "name": "1",
         "showlegend": false,
         "type": "scattergl",
         "x": [
          "2019-01-06T00:00:00",
          "2019-01-13T00:00:00",
          "2019-01-20T00:00:00",
          "2019-01-27T00:00:00",
          "2019-02-03T00:00:00",
          "2019-02-10T00:00:00",
          "2019-02-17T00:00:00",
          "2019-02-24T00:00:00",
          "2019-03-03T00:00:00",
          "2019-03-10T00:00:00",
          "2019-03-17T00:00:00",
          "2019-03-24T00:00:00",
          "2019-03-31T00:00:00",
          "2019-04-07T00:00:00",
          "2019-04-14T00:00:00",
          "2019-04-21T00:00:00",
          "2019-04-28T00:00:00",
          "2019-05-05T00:00:00",
          "2019-05-12T00:00:00",
          "2019-05-19T00:00:00",
          "2019-05-26T00:00:00",
          "2019-06-02T00:00:00",
          "2019-06-09T00:00:00",
          "2019-06-16T00:00:00",
          "2019-06-23T00:00:00",
          "2019-06-30T00:00:00",
          "2019-07-07T00:00:00",
          "2019-07-14T00:00:00",
          "2019-07-21T00:00:00",
          "2019-07-28T00:00:00",
          "2019-08-04T00:00:00",
          "2019-08-11T00:00:00",
          "2019-08-18T00:00:00",
          "2019-08-25T00:00:00",
          "2019-09-01T00:00:00",
          "2019-09-08T00:00:00",
          "2019-09-15T00:00:00",
          "2019-09-22T00:00:00",
          "2019-09-29T00:00:00",
          "2019-10-06T00:00:00",
          "2019-10-13T00:00:00",
          "2019-10-20T00:00:00",
          "2019-10-27T00:00:00",
          "2019-11-03T00:00:00",
          "2019-11-10T00:00:00",
          "2019-11-17T00:00:00",
          "2019-11-24T00:00:00",
          "2019-12-01T00:00:00",
          "2019-12-08T00:00:00",
          "2019-12-15T00:00:00",
          "2019-12-22T00:00:00",
          "2019-12-29T00:00:00",
          "2020-01-05T00:00:00",
          "2020-01-12T00:00:00",
          "2020-01-19T00:00:00",
          "2020-01-26T00:00:00",
          "2020-02-02T00:00:00",
          "2020-02-09T00:00:00",
          "2020-02-16T00:00:00",
          "2020-02-23T00:00:00",
          "2020-03-01T00:00:00",
          "2020-03-08T00:00:00",
          "2020-03-15T00:00:00",
          "2020-03-22T00:00:00",
          "2020-03-29T00:00:00",
          "2020-04-05T00:00:00",
          "2020-04-12T00:00:00",
          "2020-04-19T00:00:00",
          "2020-04-26T00:00:00",
          "2020-05-03T00:00:00",
          "2020-05-10T00:00:00",
          "2020-05-17T00:00:00",
          "2020-05-24T00:00:00",
          "2020-05-31T00:00:00",
          "2020-06-07T00:00:00",
          "2020-06-14T00:00:00",
          "2020-06-21T00:00:00",
          "2020-06-28T00:00:00",
          "2020-07-05T00:00:00",
          "2020-07-12T00:00:00",
          "2020-07-19T00:00:00",
          "2020-07-26T00:00:00",
          "2020-08-02T00:00:00",
          "2020-08-09T00:00:00",
          "2020-08-16T00:00:00",
          "2020-08-23T00:00:00",
          "2020-08-30T00:00:00",
          "2020-09-06T00:00:00",
          "2020-09-13T00:00:00",
          "2020-09-20T00:00:00",
          "2020-09-27T00:00:00",
          "2020-10-04T00:00:00",
          "2020-10-11T00:00:00",
          "2020-10-18T00:00:00",
          "2020-10-25T00:00:00",
          "2020-11-01T00:00:00",
          "2020-11-08T00:00:00",
          "2020-11-15T00:00:00",
          "2020-11-22T00:00:00",
          "2020-11-29T00:00:00",
          "2020-12-06T00:00:00",
          "2020-12-13T00:00:00",
          "2020-12-20T00:00:00",
          "2020-12-27T00:00:00",
          "2021-01-03T00:00:00"
         ],
         "xaxis": "x11",
         "y": [
          null,
          1065.6399999999999,
          null,
          1155.71,
          null,
          null,
          null,
          17.7,
          1008.735,
          null,
          null,
          973.84,
          null,
          897.66,
          null,
          1082.005,
          942.855,
          null,
          17.38,
          null,
          957.51,
          null,
          null,
          null,
          null,
          935.03,
          null,
          887.08,
          null,
          936.56,
          null,
          null,
          null,
          null,
          null,
          null,
          1063.42,
          22.86,
          1047.43,
          null,
          891.9749999999999,
          null,
          944.06,
          null,
          1210.19,
          null,
          null,
          null,
          null,
          null,
          974.87,
          null,
          null,
          null,
          902.1,
          null,
          936.55,
          1001.38,
          null,
          null,
          null,
          null,
          938.92,
          1044.445,
          989.585,
          null,
          null,
          798.62,
          1020.51,
          null,
          null,
          1037.865,
          null,
          null,
          null,
          null,
          null,
          null,
          null,
          null,
          null,
          null,
          null,
          null,
          null,
          null,
          null,
          null,
          957.83,
          null,
          null,
          null,
          null,
          null,
          null,
          null,
          null,
          null,
          null,
          963.57,
          null,
          1044.34,
          null,
          null,
          null
         ],
         "yaxis": "y11"
        },
        {
         "hovertemplate": "is_fraud=1<br>merchant=fraud_Schumm PLC<br>transaction_time=%{x}<br>amount(usd)=%{y}<extra></extra>",
         "legendgroup": "1",
         "marker": {
          "color": "#61E50F",
          "symbol": "circle"
         },
         "mode": "markers",
         "name": "1",
         "showlegend": false,
         "type": "scattergl",
         "x": [
          "2019-01-06T00:00:00",
          "2019-01-13T00:00:00",
          "2019-01-20T00:00:00",
          "2019-01-27T00:00:00",
          "2019-02-03T00:00:00",
          "2019-02-10T00:00:00",
          "2019-02-17T00:00:00",
          "2019-02-24T00:00:00",
          "2019-03-03T00:00:00",
          "2019-03-10T00:00:00",
          "2019-03-17T00:00:00",
          "2019-03-24T00:00:00",
          "2019-03-31T00:00:00",
          "2019-04-07T00:00:00",
          "2019-04-14T00:00:00",
          "2019-04-21T00:00:00",
          "2019-04-28T00:00:00",
          "2019-05-05T00:00:00",
          "2019-05-12T00:00:00",
          "2019-05-19T00:00:00",
          "2019-05-26T00:00:00",
          "2019-06-02T00:00:00",
          "2019-06-09T00:00:00",
          "2019-06-16T00:00:00",
          "2019-06-23T00:00:00",
          "2019-06-30T00:00:00",
          "2019-07-07T00:00:00",
          "2019-07-14T00:00:00",
          "2019-07-21T00:00:00",
          "2019-07-28T00:00:00",
          "2019-08-04T00:00:00",
          "2019-08-11T00:00:00",
          "2019-08-18T00:00:00",
          "2019-08-25T00:00:00",
          "2019-09-01T00:00:00",
          "2019-09-08T00:00:00",
          "2019-09-15T00:00:00",
          "2019-09-22T00:00:00",
          "2019-09-29T00:00:00",
          "2019-10-06T00:00:00",
          "2019-10-13T00:00:00",
          "2019-10-20T00:00:00",
          "2019-10-27T00:00:00",
          "2019-11-03T00:00:00",
          "2019-11-10T00:00:00",
          "2019-11-17T00:00:00",
          "2019-11-24T00:00:00",
          "2019-12-01T00:00:00",
          "2019-12-08T00:00:00",
          "2019-12-15T00:00:00",
          "2019-12-22T00:00:00",
          "2019-12-29T00:00:00",
          "2020-01-05T00:00:00",
          "2020-01-12T00:00:00",
          "2020-01-19T00:00:00",
          "2020-01-26T00:00:00",
          "2020-02-02T00:00:00",
          "2020-02-09T00:00:00",
          "2020-02-16T00:00:00",
          "2020-02-23T00:00:00",
          "2020-03-01T00:00:00",
          "2020-03-08T00:00:00",
          "2020-03-15T00:00:00",
          "2020-03-22T00:00:00",
          "2020-03-29T00:00:00",
          "2020-04-05T00:00:00",
          "2020-04-12T00:00:00",
          "2020-04-19T00:00:00",
          "2020-04-26T00:00:00",
          "2020-05-03T00:00:00",
          "2020-05-10T00:00:00",
          "2020-05-17T00:00:00",
          "2020-05-24T00:00:00",
          "2020-05-31T00:00:00",
          "2020-06-07T00:00:00",
          "2020-06-14T00:00:00",
          "2020-06-21T00:00:00",
          "2020-06-28T00:00:00",
          "2020-07-05T00:00:00",
          "2020-07-12T00:00:00",
          "2020-07-19T00:00:00",
          "2020-07-26T00:00:00",
          "2020-08-02T00:00:00",
          "2020-08-09T00:00:00",
          "2020-08-16T00:00:00",
          "2020-08-23T00:00:00",
          "2020-08-30T00:00:00",
          "2020-09-06T00:00:00",
          "2020-09-13T00:00:00",
          "2020-09-20T00:00:00",
          "2020-09-27T00:00:00",
          "2020-10-04T00:00:00",
          "2020-10-11T00:00:00",
          "2020-10-18T00:00:00",
          "2020-10-25T00:00:00",
          "2020-11-01T00:00:00",
          "2020-11-08T00:00:00",
          "2020-11-15T00:00:00",
          "2020-11-22T00:00:00",
          "2020-11-29T00:00:00",
          "2020-12-06T00:00:00",
          "2020-12-13T00:00:00",
          "2020-12-20T00:00:00",
          "2020-12-27T00:00:00",
          "2021-01-03T00:00:00"
         ],
         "xaxis": "x12",
         "y": [
          null,
          null,
          1022.11,
          917.52,
          null,
          1286.27,
          1292.21,
          18.79,
          null,
          null,
          null,
          null,
          null,
          null,
          null,
          null,
          null,
          null,
          null,
          null,
          null,
          null,
          null,
          null,
          null,
          822.01,
          null,
          null,
          null,
          null,
          null,
          1004.6,
          null,
          null,
          null,
          null,
          1040.08,
          null,
          1003.92,
          null,
          null,
          null,
          null,
          null,
          null,
          null,
          null,
          null,
          931.28,
          1122.06,
          null,
          null,
          null,
          null,
          1019.25,
          null,
          1001.9,
          null,
          1036.15,
          1121.57,
          null,
          null,
          1065.73,
          null,
          null,
          null,
          null,
          null,
          null,
          1009.39,
          971.53,
          null,
          null,
          null,
          1000.015,
          null,
          1210.91,
          944.9499999999999,
          null,
          null,
          null,
          null,
          null,
          918.58,
          null,
          23.06,
          834.55,
          null,
          null,
          null,
          null,
          null,
          1012.1,
          null,
          null,
          null,
          null,
          null,
          1187.73,
          null,
          null,
          null,
          1093.47,
          null,
          null
         ],
         "yaxis": "y12"
        },
        {
         "hovertemplate": "is_fraud=1<br>merchant=fraud_Kuhn LLC<br>transaction_time=%{x}<br>amount(usd)=%{y}<extra></extra>",
         "legendgroup": "1",
         "marker": {
          "color": "#61E50F",
          "symbol": "circle"
         },
         "mode": "markers",
         "name": "1",
         "showlegend": false,
         "type": "scattergl",
         "x": [
          "2019-01-06T00:00:00",
          "2019-01-13T00:00:00",
          "2019-01-20T00:00:00",
          "2019-01-27T00:00:00",
          "2019-02-03T00:00:00",
          "2019-02-10T00:00:00",
          "2019-02-17T00:00:00",
          "2019-02-24T00:00:00",
          "2019-03-03T00:00:00",
          "2019-03-10T00:00:00",
          "2019-03-17T00:00:00",
          "2019-03-24T00:00:00",
          "2019-03-31T00:00:00",
          "2019-04-07T00:00:00",
          "2019-04-14T00:00:00",
          "2019-04-21T00:00:00",
          "2019-04-28T00:00:00",
          "2019-05-05T00:00:00",
          "2019-05-12T00:00:00",
          "2019-05-19T00:00:00",
          "2019-05-26T00:00:00",
          "2019-06-02T00:00:00",
          "2019-06-09T00:00:00",
          "2019-06-16T00:00:00",
          "2019-06-23T00:00:00",
          "2019-06-30T00:00:00",
          "2019-07-07T00:00:00",
          "2019-07-14T00:00:00",
          "2019-07-21T00:00:00",
          "2019-07-28T00:00:00",
          "2019-08-04T00:00:00",
          "2019-08-11T00:00:00",
          "2019-08-18T00:00:00",
          "2019-08-25T00:00:00",
          "2019-09-01T00:00:00",
          "2019-09-08T00:00:00",
          "2019-09-15T00:00:00",
          "2019-09-22T00:00:00",
          "2019-09-29T00:00:00",
          "2019-10-06T00:00:00",
          "2019-10-13T00:00:00",
          "2019-10-20T00:00:00",
          "2019-10-27T00:00:00",
          "2019-11-03T00:00:00",
          "2019-11-10T00:00:00",
          "2019-11-17T00:00:00",
          "2019-11-24T00:00:00",
          "2019-12-01T00:00:00",
          "2019-12-08T00:00:00",
          "2019-12-15T00:00:00",
          "2019-12-22T00:00:00",
          "2019-12-29T00:00:00",
          "2020-01-05T00:00:00",
          "2020-01-12T00:00:00",
          "2020-01-19T00:00:00",
          "2020-01-26T00:00:00",
          "2020-02-02T00:00:00",
          "2020-02-09T00:00:00",
          "2020-02-16T00:00:00",
          "2020-02-23T00:00:00",
          "2020-03-01T00:00:00",
          "2020-03-08T00:00:00",
          "2020-03-15T00:00:00",
          "2020-03-22T00:00:00",
          "2020-03-29T00:00:00",
          "2020-04-05T00:00:00",
          "2020-04-12T00:00:00",
          "2020-04-19T00:00:00",
          "2020-04-26T00:00:00",
          "2020-05-03T00:00:00",
          "2020-05-10T00:00:00",
          "2020-05-17T00:00:00",
          "2020-05-24T00:00:00",
          "2020-05-31T00:00:00",
          "2020-06-07T00:00:00",
          "2020-06-14T00:00:00",
          "2020-06-21T00:00:00",
          "2020-06-28T00:00:00",
          "2020-07-05T00:00:00",
          "2020-07-12T00:00:00",
          "2020-07-19T00:00:00",
          "2020-07-26T00:00:00",
          "2020-08-02T00:00:00",
          "2020-08-09T00:00:00",
          "2020-08-16T00:00:00",
          "2020-08-23T00:00:00",
          "2020-08-30T00:00:00",
          "2020-09-06T00:00:00",
          "2020-09-13T00:00:00",
          "2020-09-20T00:00:00",
          "2020-09-27T00:00:00",
          "2020-10-04T00:00:00",
          "2020-10-11T00:00:00",
          "2020-10-18T00:00:00",
          "2020-10-25T00:00:00",
          "2020-11-01T00:00:00",
          "2020-11-08T00:00:00",
          "2020-11-15T00:00:00",
          "2020-11-22T00:00:00",
          "2020-11-29T00:00:00",
          "2020-12-06T00:00:00",
          "2020-12-13T00:00:00",
          "2020-12-20T00:00:00",
          "2020-12-27T00:00:00",
          "2021-01-03T00:00:00"
         ],
         "xaxis": "x7",
         "y": [
          null,
          null,
          null,
          null,
          905.96,
          802.15,
          null,
          null,
          749.98,
          null,
          null,
          null,
          917.64,
          907.76,
          null,
          765.365,
          null,
          null,
          null,
          null,
          1017.4350000000001,
          null,
          null,
          791.6,
          902.67,
          null,
          null,
          843.3,
          null,
          null,
          780.63,
          null,
          654.83,
          null,
          854.0799999999999,
          863.065,
          953.49,
          null,
          null,
          null,
          null,
          799.5,
          642.43,
          null,
          null,
          734.3,
          null,
          null,
          678.9,
          837.3199999999999,
          null,
          null,
          814.54,
          null,
          null,
          null,
          null,
          null,
          null,
          null,
          905.07,
          null,
          null,
          null,
          null,
          null,
          null,
          null,
          970.97,
          null,
          778.53,
          911.0550000000001,
          null,
          656,
          null,
          1376.04,
          852.69,
          777.45,
          null,
          null,
          null,
          null,
          null,
          null,
          590.22,
          null,
          null,
          null,
          935.6,
          914.68,
          805.5250000000001,
          null,
          814.7,
          null,
          821.96,
          null,
          null,
          null,
          null,
          null,
          null,
          null,
          777.27,
          868.09,
          null
         ],
         "yaxis": "y7"
        },
        {
         "hovertemplate": "is_fraud=1<br>merchant=fraud_Boyer PLC<br>transaction_time=%{x}<br>amount(usd)=%{y}<extra></extra>",
         "legendgroup": "1",
         "marker": {
          "color": "#61E50F",
          "symbol": "circle"
         },
         "mode": "markers",
         "name": "1",
         "showlegend": false,
         "type": "scattergl",
         "x": [
          "2019-01-06T00:00:00",
          "2019-01-13T00:00:00",
          "2019-01-20T00:00:00",
          "2019-01-27T00:00:00",
          "2019-02-03T00:00:00",
          "2019-02-10T00:00:00",
          "2019-02-17T00:00:00",
          "2019-02-24T00:00:00",
          "2019-03-03T00:00:00",
          "2019-03-10T00:00:00",
          "2019-03-17T00:00:00",
          "2019-03-24T00:00:00",
          "2019-03-31T00:00:00",
          "2019-04-07T00:00:00",
          "2019-04-14T00:00:00",
          "2019-04-21T00:00:00",
          "2019-04-28T00:00:00",
          "2019-05-05T00:00:00",
          "2019-05-12T00:00:00",
          "2019-05-19T00:00:00",
          "2019-05-26T00:00:00",
          "2019-06-02T00:00:00",
          "2019-06-09T00:00:00",
          "2019-06-16T00:00:00",
          "2019-06-23T00:00:00",
          "2019-06-30T00:00:00",
          "2019-07-07T00:00:00",
          "2019-07-14T00:00:00",
          "2019-07-21T00:00:00",
          "2019-07-28T00:00:00",
          "2019-08-04T00:00:00",
          "2019-08-11T00:00:00",
          "2019-08-18T00:00:00",
          "2019-08-25T00:00:00",
          "2019-09-01T00:00:00",
          "2019-09-08T00:00:00",
          "2019-09-15T00:00:00",
          "2019-09-22T00:00:00",
          "2019-09-29T00:00:00",
          "2019-10-06T00:00:00",
          "2019-10-13T00:00:00",
          "2019-10-20T00:00:00",
          "2019-10-27T00:00:00",
          "2019-11-03T00:00:00",
          "2019-11-10T00:00:00",
          "2019-11-17T00:00:00",
          "2019-11-24T00:00:00",
          "2019-12-01T00:00:00",
          "2019-12-08T00:00:00",
          "2019-12-15T00:00:00",
          "2019-12-22T00:00:00",
          "2019-12-29T00:00:00",
          "2020-01-05T00:00:00",
          "2020-01-12T00:00:00",
          "2020-01-19T00:00:00",
          "2020-01-26T00:00:00",
          "2020-02-02T00:00:00",
          "2020-02-09T00:00:00",
          "2020-02-16T00:00:00",
          "2020-02-23T00:00:00",
          "2020-03-01T00:00:00",
          "2020-03-08T00:00:00",
          "2020-03-15T00:00:00",
          "2020-03-22T00:00:00",
          "2020-03-29T00:00:00",
          "2020-04-05T00:00:00",
          "2020-04-12T00:00:00",
          "2020-04-19T00:00:00",
          "2020-04-26T00:00:00",
          "2020-05-03T00:00:00",
          "2020-05-10T00:00:00",
          "2020-05-17T00:00:00",
          "2020-05-24T00:00:00",
          "2020-05-31T00:00:00",
          "2020-06-07T00:00:00",
          "2020-06-14T00:00:00",
          "2020-06-21T00:00:00",
          "2020-06-28T00:00:00",
          "2020-07-05T00:00:00",
          "2020-07-12T00:00:00",
          "2020-07-19T00:00:00",
          "2020-07-26T00:00:00",
          "2020-08-02T00:00:00",
          "2020-08-09T00:00:00",
          "2020-08-16T00:00:00",
          "2020-08-23T00:00:00",
          "2020-08-30T00:00:00",
          "2020-09-06T00:00:00",
          "2020-09-13T00:00:00",
          "2020-09-20T00:00:00",
          "2020-09-27T00:00:00",
          "2020-10-04T00:00:00",
          "2020-10-11T00:00:00",
          "2020-10-18T00:00:00",
          "2020-10-25T00:00:00",
          "2020-11-01T00:00:00",
          "2020-11-08T00:00:00",
          "2020-11-15T00:00:00",
          "2020-11-22T00:00:00",
          "2020-11-29T00:00:00",
          "2020-12-06T00:00:00",
          "2020-12-13T00:00:00",
          "2020-12-20T00:00:00",
          "2020-12-27T00:00:00",
          "2021-01-03T00:00:00"
         ],
         "xaxis": "x8",
         "y": [
          null,
          847.72,
          954.4300000000001,
          null,
          null,
          null,
          null,
          null,
          901.2,
          1039.27,
          null,
          null,
          null,
          null,
          918.24,
          974.335,
          944.92,
          null,
          null,
          null,
          null,
          null,
          957.11,
          null,
          null,
          null,
          1086.75,
          null,
          null,
          1009.68,
          null,
          1120.05,
          935.22,
          null,
          977.82,
          1191.33,
          941.63,
          null,
          1012.31,
          null,
          null,
          1105.82,
          983.28,
          null,
          null,
          null,
          null,
          989.81,
          1089.82,
          521.02,
          null,
          885.44,
          877.23,
          1136.81,
          null,
          48.99,
          1011.34,
          null,
          null,
          null,
          null,
          null,
          null,
          964.42,
          null,
          931.21,
          null,
          null,
          8,
          958.27,
          null,
          null,
          990.3,
          null,
          null,
          null,
          null,
          935.06,
          null,
          null,
          null,
          995.02,
          null,
          null,
          null,
          1017.67,
          976.1,
          1159.44,
          null,
          null,
          1203.92,
          null,
          null,
          null,
          1041.54,
          1046.08,
          null,
          null,
          null,
          907.77,
          1073.81,
          null,
          null,
          null,
          null
         ],
         "yaxis": "y8"
        },
        {
         "hovertemplate": "is_fraud=1<br>merchant=fraud_Dickinson Ltd<br>transaction_time=%{x}<br>amount(usd)=%{y}<extra></extra>",
         "legendgroup": "1",
         "marker": {
          "color": "#61E50F",
          "symbol": "circle"
         },
         "mode": "markers",
         "name": "1",
         "showlegend": false,
         "type": "scattergl",
         "x": [
          "2019-01-06T00:00:00",
          "2019-01-13T00:00:00",
          "2019-01-20T00:00:00",
          "2019-01-27T00:00:00",
          "2019-02-03T00:00:00",
          "2019-02-10T00:00:00",
          "2019-02-17T00:00:00",
          "2019-02-24T00:00:00",
          "2019-03-03T00:00:00",
          "2019-03-10T00:00:00",
          "2019-03-17T00:00:00",
          "2019-03-24T00:00:00",
          "2019-03-31T00:00:00",
          "2019-04-07T00:00:00",
          "2019-04-14T00:00:00",
          "2019-04-21T00:00:00",
          "2019-04-28T00:00:00",
          "2019-05-05T00:00:00",
          "2019-05-12T00:00:00",
          "2019-05-19T00:00:00",
          "2019-05-26T00:00:00",
          "2019-06-02T00:00:00",
          "2019-06-09T00:00:00",
          "2019-06-16T00:00:00",
          "2019-06-23T00:00:00",
          "2019-06-30T00:00:00",
          "2019-07-07T00:00:00",
          "2019-07-14T00:00:00",
          "2019-07-21T00:00:00",
          "2019-07-28T00:00:00",
          "2019-08-04T00:00:00",
          "2019-08-11T00:00:00",
          "2019-08-18T00:00:00",
          "2019-08-25T00:00:00",
          "2019-09-01T00:00:00",
          "2019-09-08T00:00:00",
          "2019-09-15T00:00:00",
          "2019-09-22T00:00:00",
          "2019-09-29T00:00:00",
          "2019-10-06T00:00:00",
          "2019-10-13T00:00:00",
          "2019-10-20T00:00:00",
          "2019-10-27T00:00:00",
          "2019-11-03T00:00:00",
          "2019-11-10T00:00:00",
          "2019-11-17T00:00:00",
          "2019-11-24T00:00:00",
          "2019-12-01T00:00:00",
          "2019-12-08T00:00:00",
          "2019-12-15T00:00:00",
          "2019-12-22T00:00:00",
          "2019-12-29T00:00:00",
          "2020-01-05T00:00:00",
          "2020-01-12T00:00:00",
          "2020-01-19T00:00:00",
          "2020-01-26T00:00:00",
          "2020-02-02T00:00:00",
          "2020-02-09T00:00:00",
          "2020-02-16T00:00:00",
          "2020-02-23T00:00:00",
          "2020-03-01T00:00:00",
          "2020-03-08T00:00:00",
          "2020-03-15T00:00:00",
          "2020-03-22T00:00:00",
          "2020-03-29T00:00:00",
          "2020-04-05T00:00:00",
          "2020-04-12T00:00:00",
          "2020-04-19T00:00:00",
          "2020-04-26T00:00:00",
          "2020-05-03T00:00:00",
          "2020-05-10T00:00:00",
          "2020-05-17T00:00:00",
          "2020-05-24T00:00:00",
          "2020-05-31T00:00:00",
          "2020-06-07T00:00:00",
          "2020-06-14T00:00:00",
          "2020-06-21T00:00:00",
          "2020-06-28T00:00:00",
          "2020-07-05T00:00:00",
          "2020-07-12T00:00:00",
          "2020-07-19T00:00:00",
          "2020-07-26T00:00:00",
          "2020-08-02T00:00:00",
          "2020-08-09T00:00:00",
          "2020-08-16T00:00:00",
          "2020-08-23T00:00:00",
          "2020-08-30T00:00:00",
          "2020-09-06T00:00:00",
          "2020-09-13T00:00:00",
          "2020-09-20T00:00:00",
          "2020-09-27T00:00:00",
          "2020-10-04T00:00:00",
          "2020-10-11T00:00:00",
          "2020-10-18T00:00:00",
          "2020-10-25T00:00:00",
          "2020-11-01T00:00:00",
          "2020-11-08T00:00:00",
          "2020-11-15T00:00:00",
          "2020-11-22T00:00:00",
          "2020-11-29T00:00:00",
          "2020-12-06T00:00:00",
          "2020-12-13T00:00:00",
          "2020-12-20T00:00:00",
          "2020-12-27T00:00:00",
          "2021-01-03T00:00:00"
         ],
         "xaxis": "x9",
         "y": [
          null,
          null,
          null,
          null,
          null,
          null,
          null,
          null,
          null,
          null,
          null,
          null,
          null,
          null,
          null,
          null,
          null,
          18.81,
          null,
          null,
          null,
          null,
          null,
          null,
          null,
          null,
          null,
          null,
          null,
          null,
          null,
          null,
          null,
          null,
          null,
          null,
          null,
          null,
          null,
          null,
          null,
          22.43,
          null,
          null,
          null,
          null,
          19.73,
          null,
          null,
          null,
          null,
          null,
          null,
          null,
          7.99,
          null,
          null,
          null,
          null,
          null,
          null,
          null,
          null,
          null,
          null,
          null,
          null,
          null,
          null,
          717.73,
          null,
          null,
          null,
          null,
          null,
          939.91,
          null,
          null,
          null,
          null,
          null,
          null,
          null,
          null,
          null,
          null,
          null,
          null,
          null,
          null,
          null,
          null,
          null,
          null,
          null,
          null,
          null,
          null,
          null,
          null,
          null,
          null,
          null,
          null,
          null
         ],
         "yaxis": "y9"
        },
        {
         "hovertemplate": "is_fraud=1<br>merchant=fraud_Kling Inc<br>transaction_time=%{x}<br>amount(usd)=%{y}<extra></extra>",
         "legendgroup": "1",
         "marker": {
          "color": "#61E50F",
          "symbol": "circle"
         },
         "mode": "markers",
         "name": "1",
         "showlegend": false,
         "type": "scattergl",
         "x": [
          "2019-01-06T00:00:00",
          "2019-01-13T00:00:00",
          "2019-01-20T00:00:00",
          "2019-01-27T00:00:00",
          "2019-02-03T00:00:00",
          "2019-02-10T00:00:00",
          "2019-02-17T00:00:00",
          "2019-02-24T00:00:00",
          "2019-03-03T00:00:00",
          "2019-03-10T00:00:00",
          "2019-03-17T00:00:00",
          "2019-03-24T00:00:00",
          "2019-03-31T00:00:00",
          "2019-04-07T00:00:00",
          "2019-04-14T00:00:00",
          "2019-04-21T00:00:00",
          "2019-04-28T00:00:00",
          "2019-05-05T00:00:00",
          "2019-05-12T00:00:00",
          "2019-05-19T00:00:00",
          "2019-05-26T00:00:00",
          "2019-06-02T00:00:00",
          "2019-06-09T00:00:00",
          "2019-06-16T00:00:00",
          "2019-06-23T00:00:00",
          "2019-06-30T00:00:00",
          "2019-07-07T00:00:00",
          "2019-07-14T00:00:00",
          "2019-07-21T00:00:00",
          "2019-07-28T00:00:00",
          "2019-08-04T00:00:00",
          "2019-08-11T00:00:00",
          "2019-08-18T00:00:00",
          "2019-08-25T00:00:00",
          "2019-09-01T00:00:00",
          "2019-09-08T00:00:00",
          "2019-09-15T00:00:00",
          "2019-09-22T00:00:00",
          "2019-09-29T00:00:00",
          "2019-10-06T00:00:00",
          "2019-10-13T00:00:00",
          "2019-10-20T00:00:00",
          "2019-10-27T00:00:00",
          "2019-11-03T00:00:00",
          "2019-11-10T00:00:00",
          "2019-11-17T00:00:00",
          "2019-11-24T00:00:00",
          "2019-12-01T00:00:00",
          "2019-12-08T00:00:00",
          "2019-12-15T00:00:00",
          "2019-12-22T00:00:00",
          "2019-12-29T00:00:00",
          "2020-01-05T00:00:00",
          "2020-01-12T00:00:00",
          "2020-01-19T00:00:00",
          "2020-01-26T00:00:00",
          "2020-02-02T00:00:00",
          "2020-02-09T00:00:00",
          "2020-02-16T00:00:00",
          "2020-02-23T00:00:00",
          "2020-03-01T00:00:00",
          "2020-03-08T00:00:00",
          "2020-03-15T00:00:00",
          "2020-03-22T00:00:00",
          "2020-03-29T00:00:00",
          "2020-04-05T00:00:00",
          "2020-04-12T00:00:00",
          "2020-04-19T00:00:00",
          "2020-04-26T00:00:00",
          "2020-05-03T00:00:00",
          "2020-05-10T00:00:00",
          "2020-05-17T00:00:00",
          "2020-05-24T00:00:00",
          "2020-05-31T00:00:00",
          "2020-06-07T00:00:00",
          "2020-06-14T00:00:00",
          "2020-06-21T00:00:00",
          "2020-06-28T00:00:00",
          "2020-07-05T00:00:00",
          "2020-07-12T00:00:00",
          "2020-07-19T00:00:00",
          "2020-07-26T00:00:00",
          "2020-08-02T00:00:00",
          "2020-08-09T00:00:00",
          "2020-08-16T00:00:00",
          "2020-08-23T00:00:00",
          "2020-08-30T00:00:00",
          "2020-09-06T00:00:00",
          "2020-09-13T00:00:00",
          "2020-09-20T00:00:00",
          "2020-09-27T00:00:00",
          "2020-10-04T00:00:00",
          "2020-10-11T00:00:00",
          "2020-10-18T00:00:00",
          "2020-10-25T00:00:00",
          "2020-11-01T00:00:00",
          "2020-11-08T00:00:00",
          "2020-11-15T00:00:00",
          "2020-11-22T00:00:00",
          "2020-11-29T00:00:00",
          "2020-12-06T00:00:00",
          "2020-12-13T00:00:00",
          "2020-12-20T00:00:00",
          "2020-12-27T00:00:00",
          "2021-01-03T00:00:00"
         ],
         "xaxis": "x4",
         "y": [
          null,
          null,
          null,
          null,
          null,
          null,
          null,
          null,
          6.93,
          10.87,
          null,
          null,
          null,
          null,
          null,
          null,
          11.87,
          null,
          null,
          null,
          null,
          null,
          null,
          null,
          null,
          null,
          null,
          null,
          null,
          null,
          null,
          null,
          null,
          null,
          7.41,
          null,
          null,
          null,
          null,
          null,
          null,
          null,
          null,
          null,
          null,
          20.57,
          null,
          null,
          null,
          null,
          null,
          null,
          null,
          null,
          null,
          null,
          null,
          null,
          null,
          null,
          null,
          null,
          null,
          null,
          null,
          null,
          null,
          null,
          13.12,
          null,
          8.66,
          null,
          null,
          null,
          null,
          null,
          7.24,
          null,
          null,
          null,
          null,
          null,
          null,
          null,
          null,
          null,
          null,
          null,
          null,
          null,
          null,
          null,
          9.85,
          null,
          null,
          null,
          null,
          null,
          null,
          null,
          null,
          9.09,
          null,
          null,
          null
         ],
         "yaxis": "y4"
        },
        {
         "hovertemplate": "is_fraud=1<br>merchant=fraud_Rodriguez Group<br>transaction_time=%{x}<br>amount(usd)=%{y}<extra></extra>",
         "legendgroup": "1",
         "marker": {
          "color": "#61E50F",
          "symbol": "circle"
         },
         "mode": "markers",
         "name": "1",
         "showlegend": false,
         "type": "scattergl",
         "x": [
          "2019-01-06T00:00:00",
          "2019-01-13T00:00:00",
          "2019-01-20T00:00:00",
          "2019-01-27T00:00:00",
          "2019-02-03T00:00:00",
          "2019-02-10T00:00:00",
          "2019-02-17T00:00:00",
          "2019-02-24T00:00:00",
          "2019-03-03T00:00:00",
          "2019-03-10T00:00:00",
          "2019-03-17T00:00:00",
          "2019-03-24T00:00:00",
          "2019-03-31T00:00:00",
          "2019-04-07T00:00:00",
          "2019-04-14T00:00:00",
          "2019-04-21T00:00:00",
          "2019-04-28T00:00:00",
          "2019-05-05T00:00:00",
          "2019-05-12T00:00:00",
          "2019-05-19T00:00:00",
          "2019-05-26T00:00:00",
          "2019-06-02T00:00:00",
          "2019-06-09T00:00:00",
          "2019-06-16T00:00:00",
          "2019-06-23T00:00:00",
          "2019-06-30T00:00:00",
          "2019-07-07T00:00:00",
          "2019-07-14T00:00:00",
          "2019-07-21T00:00:00",
          "2019-07-28T00:00:00",
          "2019-08-04T00:00:00",
          "2019-08-11T00:00:00",
          "2019-08-18T00:00:00",
          "2019-08-25T00:00:00",
          "2019-09-01T00:00:00",
          "2019-09-08T00:00:00",
          "2019-09-15T00:00:00",
          "2019-09-22T00:00:00",
          "2019-09-29T00:00:00",
          "2019-10-06T00:00:00",
          "2019-10-13T00:00:00",
          "2019-10-20T00:00:00",
          "2019-10-27T00:00:00",
          "2019-11-03T00:00:00",
          "2019-11-10T00:00:00",
          "2019-11-17T00:00:00",
          "2019-11-24T00:00:00",
          "2019-12-01T00:00:00",
          "2019-12-08T00:00:00",
          "2019-12-15T00:00:00",
          "2019-12-22T00:00:00",
          "2019-12-29T00:00:00",
          "2020-01-05T00:00:00",
          "2020-01-12T00:00:00",
          "2020-01-19T00:00:00",
          "2020-01-26T00:00:00",
          "2020-02-02T00:00:00",
          "2020-02-09T00:00:00",
          "2020-02-16T00:00:00",
          "2020-02-23T00:00:00",
          "2020-03-01T00:00:00",
          "2020-03-08T00:00:00",
          "2020-03-15T00:00:00",
          "2020-03-22T00:00:00",
          "2020-03-29T00:00:00",
          "2020-04-05T00:00:00",
          "2020-04-12T00:00:00",
          "2020-04-19T00:00:00",
          "2020-04-26T00:00:00",
          "2020-05-03T00:00:00",
          "2020-05-10T00:00:00",
          "2020-05-17T00:00:00",
          "2020-05-24T00:00:00",
          "2020-05-31T00:00:00",
          "2020-06-07T00:00:00",
          "2020-06-14T00:00:00",
          "2020-06-21T00:00:00",
          "2020-06-28T00:00:00",
          "2020-07-05T00:00:00",
          "2020-07-12T00:00:00",
          "2020-07-19T00:00:00",
          "2020-07-26T00:00:00",
          "2020-08-02T00:00:00",
          "2020-08-09T00:00:00",
          "2020-08-16T00:00:00",
          "2020-08-23T00:00:00",
          "2020-08-30T00:00:00",
          "2020-09-06T00:00:00",
          "2020-09-13T00:00:00",
          "2020-09-20T00:00:00",
          "2020-09-27T00:00:00",
          "2020-10-04T00:00:00",
          "2020-10-11T00:00:00",
          "2020-10-18T00:00:00",
          "2020-10-25T00:00:00",
          "2020-11-01T00:00:00",
          "2020-11-08T00:00:00",
          "2020-11-15T00:00:00",
          "2020-11-22T00:00:00",
          "2020-11-29T00:00:00",
          "2020-12-06T00:00:00",
          "2020-12-13T00:00:00",
          "2020-12-20T00:00:00",
          "2020-12-27T00:00:00",
          "2021-01-03T00:00:00"
         ],
         "xaxis": "x5",
         "y": [
          null,
          null,
          null,
          null,
          null,
          null,
          9.76,
          null,
          null,
          null,
          null,
          null,
          null,
          null,
          null,
          null,
          null,
          null,
          null,
          null,
          null,
          6.84,
          null,
          null,
          null,
          20.06,
          null,
          null,
          null,
          11.83,
          null,
          null,
          null,
          null,
          10.72,
          null,
          null,
          null,
          null,
          null,
          null,
          null,
          null,
          null,
          null,
          null,
          10.03,
          null,
          null,
          null,
          null,
          null,
          null,
          null,
          null,
          null,
          null,
          null,
          null,
          null,
          null,
          null,
          null,
          9.84,
          null,
          null,
          null,
          null,
          null,
          11.005,
          null,
          null,
          null,
          null,
          null,
          13.48,
          null,
          null,
          null,
          null,
          null,
          null,
          null,
          null,
          null,
          null,
          null,
          null,
          null,
          null,
          null,
          null,
          null,
          null,
          null,
          null,
          8.74,
          null,
          null,
          10.64,
          null,
          19.74,
          null,
          null,
          null
         ],
         "yaxis": "y5"
        },
        {
         "hovertemplate": "is_fraud=1<br>merchant=fraud_Emard Inc<br>transaction_time=%{x}<br>amount(usd)=%{y}<extra></extra>",
         "legendgroup": "1",
         "marker": {
          "color": "#61E50F",
          "symbol": "circle"
         },
         "mode": "markers",
         "name": "1",
         "showlegend": false,
         "type": "scattergl",
         "x": [
          "2019-01-06T00:00:00",
          "2019-01-13T00:00:00",
          "2019-01-20T00:00:00",
          "2019-01-27T00:00:00",
          "2019-02-03T00:00:00",
          "2019-02-10T00:00:00",
          "2019-02-17T00:00:00",
          "2019-02-24T00:00:00",
          "2019-03-03T00:00:00",
          "2019-03-10T00:00:00",
          "2019-03-17T00:00:00",
          "2019-03-24T00:00:00",
          "2019-03-31T00:00:00",
          "2019-04-07T00:00:00",
          "2019-04-14T00:00:00",
          "2019-04-21T00:00:00",
          "2019-04-28T00:00:00",
          "2019-05-05T00:00:00",
          "2019-05-12T00:00:00",
          "2019-05-19T00:00:00",
          "2019-05-26T00:00:00",
          "2019-06-02T00:00:00",
          "2019-06-09T00:00:00",
          "2019-06-16T00:00:00",
          "2019-06-23T00:00:00",
          "2019-06-30T00:00:00",
          "2019-07-07T00:00:00",
          "2019-07-14T00:00:00",
          "2019-07-21T00:00:00",
          "2019-07-28T00:00:00",
          "2019-08-04T00:00:00",
          "2019-08-11T00:00:00",
          "2019-08-18T00:00:00",
          "2019-08-25T00:00:00",
          "2019-09-01T00:00:00",
          "2019-09-08T00:00:00",
          "2019-09-15T00:00:00",
          "2019-09-22T00:00:00",
          "2019-09-29T00:00:00",
          "2019-10-06T00:00:00",
          "2019-10-13T00:00:00",
          "2019-10-20T00:00:00",
          "2019-10-27T00:00:00",
          "2019-11-03T00:00:00",
          "2019-11-10T00:00:00",
          "2019-11-17T00:00:00",
          "2019-11-24T00:00:00",
          "2019-12-01T00:00:00",
          "2019-12-08T00:00:00",
          "2019-12-15T00:00:00",
          "2019-12-22T00:00:00",
          "2019-12-29T00:00:00",
          "2020-01-05T00:00:00",
          "2020-01-12T00:00:00",
          "2020-01-19T00:00:00",
          "2020-01-26T00:00:00",
          "2020-02-02T00:00:00",
          "2020-02-09T00:00:00",
          "2020-02-16T00:00:00",
          "2020-02-23T00:00:00",
          "2020-03-01T00:00:00",
          "2020-03-08T00:00:00",
          "2020-03-15T00:00:00",
          "2020-03-22T00:00:00",
          "2020-03-29T00:00:00",
          "2020-04-05T00:00:00",
          "2020-04-12T00:00:00",
          "2020-04-19T00:00:00",
          "2020-04-26T00:00:00",
          "2020-05-03T00:00:00",
          "2020-05-10T00:00:00",
          "2020-05-17T00:00:00",
          "2020-05-24T00:00:00",
          "2020-05-31T00:00:00",
          "2020-06-07T00:00:00",
          "2020-06-14T00:00:00",
          "2020-06-21T00:00:00",
          "2020-06-28T00:00:00",
          "2020-07-05T00:00:00",
          "2020-07-12T00:00:00",
          "2020-07-19T00:00:00",
          "2020-07-26T00:00:00",
          "2020-08-02T00:00:00",
          "2020-08-09T00:00:00",
          "2020-08-16T00:00:00",
          "2020-08-23T00:00:00",
          "2020-08-30T00:00:00",
          "2020-09-06T00:00:00",
          "2020-09-13T00:00:00",
          "2020-09-20T00:00:00",
          "2020-09-27T00:00:00",
          "2020-10-04T00:00:00",
          "2020-10-11T00:00:00",
          "2020-10-18T00:00:00",
          "2020-10-25T00:00:00",
          "2020-11-01T00:00:00",
          "2020-11-08T00:00:00",
          "2020-11-15T00:00:00",
          "2020-11-22T00:00:00",
          "2020-11-29T00:00:00",
          "2020-12-06T00:00:00",
          "2020-12-13T00:00:00",
          "2020-12-20T00:00:00",
          "2020-12-27T00:00:00",
          "2021-01-03T00:00:00"
         ],
         "xaxis": "x6",
         "y": [
          null,
          null,
          null,
          null,
          11.1,
          null,
          null,
          null,
          null,
          null,
          null,
          7.31,
          null,
          10.345,
          null,
          null,
          null,
          null,
          null,
          null,
          null,
          null,
          null,
          null,
          null,
          null,
          null,
          null,
          null,
          null,
          null,
          19.38,
          null,
          null,
          null,
          null,
          null,
          null,
          null,
          null,
          null,
          null,
          null,
          null,
          null,
          null,
          null,
          null,
          null,
          null,
          null,
          null,
          null,
          null,
          null,
          null,
          6.65,
          null,
          null,
          7.73,
          null,
          null,
          16.44,
          null,
          null,
          null,
          null,
          null,
          null,
          null,
          null,
          null,
          null,
          null,
          14.86,
          null,
          null,
          null,
          null,
          null,
          null,
          null,
          null,
          null,
          null,
          null,
          null,
          10.69,
          null,
          null,
          null,
          null,
          null,
          null,
          null,
          null,
          null,
          null,
          null,
          null,
          null,
          null,
          null,
          null,
          null
         ],
         "yaxis": "y6"
        },
        {
         "hovertemplate": "is_fraud=1<br>merchant=fraud_Huels-Hahn<br>transaction_time=%{x}<br>amount(usd)=%{y}<extra></extra>",
         "legendgroup": "1",
         "marker": {
          "color": "#61E50F",
          "symbol": "circle"
         },
         "mode": "markers",
         "name": "1",
         "showlegend": false,
         "type": "scattergl",
         "x": [
          "2019-01-06T00:00:00",
          "2019-01-13T00:00:00",
          "2019-01-20T00:00:00",
          "2019-01-27T00:00:00",
          "2019-02-03T00:00:00",
          "2019-02-10T00:00:00",
          "2019-02-17T00:00:00",
          "2019-02-24T00:00:00",
          "2019-03-03T00:00:00",
          "2019-03-10T00:00:00",
          "2019-03-17T00:00:00",
          "2019-03-24T00:00:00",
          "2019-03-31T00:00:00",
          "2019-04-07T00:00:00",
          "2019-04-14T00:00:00",
          "2019-04-21T00:00:00",
          "2019-04-28T00:00:00",
          "2019-05-05T00:00:00",
          "2019-05-12T00:00:00",
          "2019-05-19T00:00:00",
          "2019-05-26T00:00:00",
          "2019-06-02T00:00:00",
          "2019-06-09T00:00:00",
          "2019-06-16T00:00:00",
          "2019-06-23T00:00:00",
          "2019-06-30T00:00:00",
          "2019-07-07T00:00:00",
          "2019-07-14T00:00:00",
          "2019-07-21T00:00:00",
          "2019-07-28T00:00:00",
          "2019-08-04T00:00:00",
          "2019-08-11T00:00:00",
          "2019-08-18T00:00:00",
          "2019-08-25T00:00:00",
          "2019-09-01T00:00:00",
          "2019-09-08T00:00:00",
          "2019-09-15T00:00:00",
          "2019-09-22T00:00:00",
          "2019-09-29T00:00:00",
          "2019-10-06T00:00:00",
          "2019-10-13T00:00:00",
          "2019-10-20T00:00:00",
          "2019-10-27T00:00:00",
          "2019-11-03T00:00:00",
          "2019-11-10T00:00:00",
          "2019-11-17T00:00:00",
          "2019-11-24T00:00:00",
          "2019-12-01T00:00:00",
          "2019-12-08T00:00:00",
          "2019-12-15T00:00:00",
          "2019-12-22T00:00:00",
          "2019-12-29T00:00:00",
          "2020-01-05T00:00:00",
          "2020-01-12T00:00:00",
          "2020-01-19T00:00:00",
          "2020-01-26T00:00:00",
          "2020-02-02T00:00:00",
          "2020-02-09T00:00:00",
          "2020-02-16T00:00:00",
          "2020-02-23T00:00:00",
          "2020-03-01T00:00:00",
          "2020-03-08T00:00:00",
          "2020-03-15T00:00:00",
          "2020-03-22T00:00:00",
          "2020-03-29T00:00:00",
          "2020-04-05T00:00:00",
          "2020-04-12T00:00:00",
          "2020-04-19T00:00:00",
          "2020-04-26T00:00:00",
          "2020-05-03T00:00:00",
          "2020-05-10T00:00:00",
          "2020-05-17T00:00:00",
          "2020-05-24T00:00:00",
          "2020-05-31T00:00:00",
          "2020-06-07T00:00:00",
          "2020-06-14T00:00:00",
          "2020-06-21T00:00:00",
          "2020-06-28T00:00:00",
          "2020-07-05T00:00:00",
          "2020-07-12T00:00:00",
          "2020-07-19T00:00:00",
          "2020-07-26T00:00:00",
          "2020-08-02T00:00:00",
          "2020-08-09T00:00:00",
          "2020-08-16T00:00:00",
          "2020-08-23T00:00:00",
          "2020-08-30T00:00:00",
          "2020-09-06T00:00:00",
          "2020-09-13T00:00:00",
          "2020-09-20T00:00:00",
          "2020-09-27T00:00:00",
          "2020-10-04T00:00:00",
          "2020-10-11T00:00:00",
          "2020-10-18T00:00:00",
          "2020-10-25T00:00:00",
          "2020-11-01T00:00:00",
          "2020-11-08T00:00:00",
          "2020-11-15T00:00:00",
          "2020-11-22T00:00:00",
          "2020-11-29T00:00:00",
          "2020-12-06T00:00:00",
          "2020-12-13T00:00:00",
          "2020-12-20T00:00:00",
          "2020-12-27T00:00:00",
          "2021-01-03T00:00:00"
         ],
         "xaxis": "x",
         "y": [
          null,
          null,
          null,
          null,
          null,
          9.13,
          null,
          null,
          null,
          11.08,
          10.86,
          null,
          null,
          null,
          null,
          9.07,
          null,
          null,
          null,
          null,
          null,
          null,
          null,
          null,
          null,
          null,
          null,
          null,
          null,
          null,
          null,
          null,
          null,
          null,
          null,
          null,
          null,
          null,
          null,
          null,
          null,
          null,
          14.39,
          20.07,
          null,
          null,
          null,
          null,
          null,
          null,
          null,
          null,
          null,
          null,
          null,
          null,
          null,
          null,
          null,
          null,
          null,
          null,
          null,
          null,
          null,
          null,
          null,
          null,
          null,
          null,
          null,
          10.32,
          null,
          null,
          null,
          18.32,
          null,
          7.82,
          null,
          null,
          null,
          null,
          null,
          null,
          null,
          null,
          null,
          null,
          null,
          null,
          null,
          null,
          null,
          null,
          null,
          null,
          null,
          null,
          9.36,
          null,
          null,
          null,
          null,
          null,
          null
         ],
         "yaxis": "y"
        },
        {
         "hovertemplate": "is_fraud=1<br>merchant=fraud_Corwin-Collins<br>transaction_time=%{x}<br>amount(usd)=%{y}<extra></extra>",
         "legendgroup": "1",
         "marker": {
          "color": "#61E50F",
          "symbol": "circle"
         },
         "mode": "markers",
         "name": "1",
         "showlegend": false,
         "type": "scattergl",
         "x": [
          "2019-01-06T00:00:00",
          "2019-01-13T00:00:00",
          "2019-01-20T00:00:00",
          "2019-01-27T00:00:00",
          "2019-02-03T00:00:00",
          "2019-02-10T00:00:00",
          "2019-02-17T00:00:00",
          "2019-02-24T00:00:00",
          "2019-03-03T00:00:00",
          "2019-03-10T00:00:00",
          "2019-03-17T00:00:00",
          "2019-03-24T00:00:00",
          "2019-03-31T00:00:00",
          "2019-04-07T00:00:00",
          "2019-04-14T00:00:00",
          "2019-04-21T00:00:00",
          "2019-04-28T00:00:00",
          "2019-05-05T00:00:00",
          "2019-05-12T00:00:00",
          "2019-05-19T00:00:00",
          "2019-05-26T00:00:00",
          "2019-06-02T00:00:00",
          "2019-06-09T00:00:00",
          "2019-06-16T00:00:00",
          "2019-06-23T00:00:00",
          "2019-06-30T00:00:00",
          "2019-07-07T00:00:00",
          "2019-07-14T00:00:00",
          "2019-07-21T00:00:00",
          "2019-07-28T00:00:00",
          "2019-08-04T00:00:00",
          "2019-08-11T00:00:00",
          "2019-08-18T00:00:00",
          "2019-08-25T00:00:00",
          "2019-09-01T00:00:00",
          "2019-09-08T00:00:00",
          "2019-09-15T00:00:00",
          "2019-09-22T00:00:00",
          "2019-09-29T00:00:00",
          "2019-10-06T00:00:00",
          "2019-10-13T00:00:00",
          "2019-10-20T00:00:00",
          "2019-10-27T00:00:00",
          "2019-11-03T00:00:00",
          "2019-11-10T00:00:00",
          "2019-11-17T00:00:00",
          "2019-11-24T00:00:00",
          "2019-12-01T00:00:00",
          "2019-12-08T00:00:00",
          "2019-12-15T00:00:00",
          "2019-12-22T00:00:00",
          "2019-12-29T00:00:00",
          "2020-01-05T00:00:00",
          "2020-01-12T00:00:00",
          "2020-01-19T00:00:00",
          "2020-01-26T00:00:00",
          "2020-02-02T00:00:00",
          "2020-02-09T00:00:00",
          "2020-02-16T00:00:00",
          "2020-02-23T00:00:00",
          "2020-03-01T00:00:00",
          "2020-03-08T00:00:00",
          "2020-03-15T00:00:00",
          "2020-03-22T00:00:00",
          "2020-03-29T00:00:00",
          "2020-04-05T00:00:00",
          "2020-04-12T00:00:00",
          "2020-04-19T00:00:00",
          "2020-04-26T00:00:00",
          "2020-05-03T00:00:00",
          "2020-05-10T00:00:00",
          "2020-05-17T00:00:00",
          "2020-05-24T00:00:00",
          "2020-05-31T00:00:00",
          "2020-06-07T00:00:00",
          "2020-06-14T00:00:00",
          "2020-06-21T00:00:00",
          "2020-06-28T00:00:00",
          "2020-07-05T00:00:00",
          "2020-07-12T00:00:00",
          "2020-07-19T00:00:00",
          "2020-07-26T00:00:00",
          "2020-08-02T00:00:00",
          "2020-08-09T00:00:00",
          "2020-08-16T00:00:00",
          "2020-08-23T00:00:00",
          "2020-08-30T00:00:00",
          "2020-09-06T00:00:00",
          "2020-09-13T00:00:00",
          "2020-09-20T00:00:00",
          "2020-09-27T00:00:00",
          "2020-10-04T00:00:00",
          "2020-10-11T00:00:00",
          "2020-10-18T00:00:00",
          "2020-10-25T00:00:00",
          "2020-11-01T00:00:00",
          "2020-11-08T00:00:00",
          "2020-11-15T00:00:00",
          "2020-11-22T00:00:00",
          "2020-11-29T00:00:00",
          "2020-12-06T00:00:00",
          "2020-12-13T00:00:00",
          "2020-12-20T00:00:00",
          "2020-12-27T00:00:00",
          "2021-01-03T00:00:00"
         ],
         "xaxis": "x2",
         "y": [
          null,
          null,
          null,
          null,
          null,
          null,
          null,
          null,
          11.683333333333332,
          null,
          null,
          null,
          null,
          null,
          17.65,
          null,
          null,
          6.02,
          6.38,
          9.63,
          null,
          null,
          null,
          null,
          null,
          null,
          null,
          null,
          null,
          15.07,
          10.12,
          null,
          null,
          null,
          null,
          null,
          null,
          null,
          null,
          null,
          null,
          null,
          null,
          null,
          null,
          null,
          null,
          null,
          null,
          null,
          null,
          null,
          null,
          null,
          null,
          null,
          null,
          null,
          null,
          null,
          null,
          null,
          null,
          null,
          null,
          null,
          null,
          null,
          null,
          null,
          null,
          null,
          null,
          null,
          null,
          null,
          21.69,
          null,
          null,
          null,
          null,
          null,
          null,
          null,
          null,
          null,
          null,
          null,
          null,
          null,
          null,
          null,
          null,
          7.27,
          null,
          null,
          null,
          null,
          null,
          null,
          18.54,
          null,
          null,
          null,
          null
         ],
         "yaxis": "y2"
        },
        {
         "hovertemplate": "is_fraud=1<br>merchant=fraud_Greenholt, Jacobi and Gleason<br>transaction_time=%{x}<br>amount(usd)=%{y}<extra></extra>",
         "legendgroup": "1",
         "marker": {
          "color": "#61E50F",
          "symbol": "circle"
         },
         "mode": "markers",
         "name": "1",
         "showlegend": false,
         "type": "scattergl",
         "x": [
          "2019-01-06T00:00:00",
          "2019-01-13T00:00:00",
          "2019-01-20T00:00:00",
          "2019-01-27T00:00:00",
          "2019-02-03T00:00:00",
          "2019-02-10T00:00:00",
          "2019-02-17T00:00:00",
          "2019-02-24T00:00:00",
          "2019-03-03T00:00:00",
          "2019-03-10T00:00:00",
          "2019-03-17T00:00:00",
          "2019-03-24T00:00:00",
          "2019-03-31T00:00:00",
          "2019-04-07T00:00:00",
          "2019-04-14T00:00:00",
          "2019-04-21T00:00:00",
          "2019-04-28T00:00:00",
          "2019-05-05T00:00:00",
          "2019-05-12T00:00:00",
          "2019-05-19T00:00:00",
          "2019-05-26T00:00:00",
          "2019-06-02T00:00:00",
          "2019-06-09T00:00:00",
          "2019-06-16T00:00:00",
          "2019-06-23T00:00:00",
          "2019-06-30T00:00:00",
          "2019-07-07T00:00:00",
          "2019-07-14T00:00:00",
          "2019-07-21T00:00:00",
          "2019-07-28T00:00:00",
          "2019-08-04T00:00:00",
          "2019-08-11T00:00:00",
          "2019-08-18T00:00:00",
          "2019-08-25T00:00:00",
          "2019-09-01T00:00:00",
          "2019-09-08T00:00:00",
          "2019-09-15T00:00:00",
          "2019-09-22T00:00:00",
          "2019-09-29T00:00:00",
          "2019-10-06T00:00:00",
          "2019-10-13T00:00:00",
          "2019-10-20T00:00:00",
          "2019-10-27T00:00:00",
          "2019-11-03T00:00:00",
          "2019-11-10T00:00:00",
          "2019-11-17T00:00:00",
          "2019-11-24T00:00:00",
          "2019-12-01T00:00:00",
          "2019-12-08T00:00:00",
          "2019-12-15T00:00:00",
          "2019-12-22T00:00:00",
          "2019-12-29T00:00:00",
          "2020-01-05T00:00:00",
          "2020-01-12T00:00:00",
          "2020-01-19T00:00:00",
          "2020-01-26T00:00:00",
          "2020-02-02T00:00:00",
          "2020-02-09T00:00:00",
          "2020-02-16T00:00:00",
          "2020-02-23T00:00:00",
          "2020-03-01T00:00:00",
          "2020-03-08T00:00:00",
          "2020-03-15T00:00:00",
          "2020-03-22T00:00:00",
          "2020-03-29T00:00:00",
          "2020-04-05T00:00:00",
          "2020-04-12T00:00:00",
          "2020-04-19T00:00:00",
          "2020-04-26T00:00:00",
          "2020-05-03T00:00:00",
          "2020-05-10T00:00:00",
          "2020-05-17T00:00:00",
          "2020-05-24T00:00:00",
          "2020-05-31T00:00:00",
          "2020-06-07T00:00:00",
          "2020-06-14T00:00:00",
          "2020-06-21T00:00:00",
          "2020-06-28T00:00:00",
          "2020-07-05T00:00:00",
          "2020-07-12T00:00:00",
          "2020-07-19T00:00:00",
          "2020-07-26T00:00:00",
          "2020-08-02T00:00:00",
          "2020-08-09T00:00:00",
          "2020-08-16T00:00:00",
          "2020-08-23T00:00:00",
          "2020-08-30T00:00:00",
          "2020-09-06T00:00:00",
          "2020-09-13T00:00:00",
          "2020-09-20T00:00:00",
          "2020-09-27T00:00:00",
          "2020-10-04T00:00:00",
          "2020-10-11T00:00:00",
          "2020-10-18T00:00:00",
          "2020-10-25T00:00:00",
          "2020-11-01T00:00:00",
          "2020-11-08T00:00:00",
          "2020-11-15T00:00:00",
          "2020-11-22T00:00:00",
          "2020-11-29T00:00:00",
          "2020-12-06T00:00:00",
          "2020-12-13T00:00:00",
          "2020-12-20T00:00:00",
          "2020-12-27T00:00:00",
          "2021-01-03T00:00:00"
         ],
         "xaxis": "x3",
         "y": [
          null,
          null,
          null,
          null,
          null,
          null,
          null,
          null,
          16.6,
          9.16,
          null,
          9.549999999999999,
          null,
          null,
          null,
          null,
          null,
          20.3,
          null,
          null,
          11.15,
          null,
          null,
          10.34,
          null,
          null,
          null,
          null,
          null,
          null,
          null,
          null,
          null,
          null,
          null,
          null,
          null,
          null,
          10.23,
          null,
          null,
          null,
          null,
          null,
          null,
          null,
          null,
          null,
          22.98,
          null,
          null,
          null,
          null,
          null,
          null,
          null,
          null,
          null,
          null,
          null,
          null,
          null,
          null,
          null,
          null,
          null,
          null,
          null,
          null,
          8.77,
          6.67,
          8.84,
          null,
          null,
          null,
          null,
          null,
          null,
          null,
          null,
          null,
          null,
          11.21,
          null,
          null,
          null,
          null,
          null,
          11.7,
          null,
          9.34,
          null,
          null,
          null,
          null,
          null,
          null,
          null,
          null,
          null,
          null,
          null,
          null,
          null,
          null
         ],
         "yaxis": "y3"
        }
       ],
       "layout": {
        "annotations": [
         {
          "font": {},
          "showarrow": false,
          "text": "merchant=fraud_Huels-Hahn",
          "x": 0.14666666666666667,
          "xanchor": "center",
          "xref": "paper",
          "y": 0.1975,
          "yanchor": "bottom",
          "yref": "paper"
         },
         {
          "font": {},
          "showarrow": false,
          "text": "merchant=fraud_Corwin-Collins",
          "x": 0.5,
          "xanchor": "center",
          "xref": "paper",
          "y": 0.1975,
          "yanchor": "bottom",
          "yref": "paper"
         },
         {
          "font": {},
          "showarrow": false,
          "text": "merchant=fraud_Greenholt, Jacobi and Gleason",
          "x": 0.8533333333333333,
          "xanchor": "center",
          "xref": "paper",
          "y": 0.1975,
          "yanchor": "bottom",
          "yref": "paper"
         },
         {
          "font": {},
          "showarrow": false,
          "text": "merchant=fraud_Kling Inc",
          "x": 0.14666666666666667,
          "xanchor": "center",
          "xref": "paper",
          "y": 0.465,
          "yanchor": "bottom",
          "yref": "paper"
         },
         {
          "font": {},
          "showarrow": false,
          "text": "merchant=fraud_Rodriguez Group",
          "x": 0.5,
          "xanchor": "center",
          "xref": "paper",
          "y": 0.465,
          "yanchor": "bottom",
          "yref": "paper"
         },
         {
          "font": {},
          "showarrow": false,
          "text": "merchant=fraud_Emard Inc",
          "x": 0.8533333333333333,
          "xanchor": "center",
          "xref": "paper",
          "y": 0.465,
          "yanchor": "bottom",
          "yref": "paper"
         },
         {
          "font": {},
          "showarrow": false,
          "text": "merchant=fraud_Kuhn LLC",
          "x": 0.14666666666666667,
          "xanchor": "center",
          "xref": "paper",
          "y": 0.7325,
          "yanchor": "bottom",
          "yref": "paper"
         },
         {
          "font": {},
          "showarrow": false,
          "text": "merchant=fraud_Boyer PLC",
          "x": 0.5,
          "xanchor": "center",
          "xref": "paper",
          "y": 0.7325,
          "yanchor": "bottom",
          "yref": "paper"
         },
         {
          "font": {},
          "showarrow": false,
          "text": "merchant=fraud_Dickinson Ltd",
          "x": 0.8533333333333333,
          "xanchor": "center",
          "xref": "paper",
          "y": 0.7325,
          "yanchor": "bottom",
          "yref": "paper"
         },
         {
          "font": {},
          "showarrow": false,
          "text": "merchant=fraud_Kilback LLC",
          "x": 0.14666666666666667,
          "xanchor": "center",
          "xref": "paper",
          "y": 1,
          "yanchor": "bottom",
          "yref": "paper"
         },
         {
          "font": {},
          "showarrow": false,
          "text": "merchant=fraud_Cormier LLC",
          "x": 0.5,
          "xanchor": "center",
          "xref": "paper",
          "y": 1,
          "yanchor": "bottom",
          "yref": "paper"
         },
         {
          "font": {},
          "showarrow": false,
          "text": "merchant=fraud_Schumm PLC",
          "x": 0.8533333333333333,
          "xanchor": "center",
          "xref": "paper",
          "y": 1,
          "yanchor": "bottom",
          "yref": "paper"
         }
        ],
        "height": 1200,
        "legend": {
         "title": {
          "text": "Is fraud?"
         },
         "tracegroupgap": 0
        },
        "margin": {
         "t": 60
        },
        "plot_bgcolor": "#fafafa",
        "template": {
         "data": {
          "bar": [
           {
            "error_x": {
             "color": "#2a3f5f"
            },
            "error_y": {
             "color": "#2a3f5f"
            },
            "marker": {
             "line": {
              "color": "#E5ECF6",
              "width": 0.5
             },
             "pattern": {
              "fillmode": "overlay",
              "size": 10,
              "solidity": 0.2
             }
            },
            "type": "bar"
           }
          ],
          "barpolar": [
           {
            "marker": {
             "line": {
              "color": "#E5ECF6",
              "width": 0.5
             },
             "pattern": {
              "fillmode": "overlay",
              "size": 10,
              "solidity": 0.2
             }
            },
            "type": "barpolar"
           }
          ],
          "carpet": [
           {
            "aaxis": {
             "endlinecolor": "#2a3f5f",
             "gridcolor": "white",
             "linecolor": "white",
             "minorgridcolor": "white",
             "startlinecolor": "#2a3f5f"
            },
            "baxis": {
             "endlinecolor": "#2a3f5f",
             "gridcolor": "white",
             "linecolor": "white",
             "minorgridcolor": "white",
             "startlinecolor": "#2a3f5f"
            },
            "type": "carpet"
           }
          ],
          "choropleth": [
           {
            "colorbar": {
             "outlinewidth": 0,
             "ticks": ""
            },
            "type": "choropleth"
           }
          ],
          "contour": [
           {
            "colorbar": {
             "outlinewidth": 0,
             "ticks": ""
            },
            "colorscale": [
             [
              0,
              "#0d0887"
             ],
             [
              0.1111111111111111,
              "#46039f"
             ],
             [
              0.2222222222222222,
              "#7201a8"
             ],
             [
              0.3333333333333333,
              "#9c179e"
             ],
             [
              0.4444444444444444,
              "#bd3786"
             ],
             [
              0.5555555555555556,
              "#d8576b"
             ],
             [
              0.6666666666666666,
              "#ed7953"
             ],
             [
              0.7777777777777778,
              "#fb9f3a"
             ],
             [
              0.8888888888888888,
              "#fdca26"
             ],
             [
              1,
              "#f0f921"
             ]
            ],
            "type": "contour"
           }
          ],
          "contourcarpet": [
           {
            "colorbar": {
             "outlinewidth": 0,
             "ticks": ""
            },
            "type": "contourcarpet"
           }
          ],
          "heatmap": [
           {
            "colorbar": {
             "outlinewidth": 0,
             "ticks": ""
            },
            "colorscale": [
             [
              0,
              "#0d0887"
             ],
             [
              0.1111111111111111,
              "#46039f"
             ],
             [
              0.2222222222222222,
              "#7201a8"
             ],
             [
              0.3333333333333333,
              "#9c179e"
             ],
             [
              0.4444444444444444,
              "#bd3786"
             ],
             [
              0.5555555555555556,
              "#d8576b"
             ],
             [
              0.6666666666666666,
              "#ed7953"
             ],
             [
              0.7777777777777778,
              "#fb9f3a"
             ],
             [
              0.8888888888888888,
              "#fdca26"
             ],
             [
              1,
              "#f0f921"
             ]
            ],
            "type": "heatmap"
           }
          ],
          "heatmapgl": [
           {
            "colorbar": {
             "outlinewidth": 0,
             "ticks": ""
            },
            "colorscale": [
             [
              0,
              "#0d0887"
             ],
             [
              0.1111111111111111,
              "#46039f"
             ],
             [
              0.2222222222222222,
              "#7201a8"
             ],
             [
              0.3333333333333333,
              "#9c179e"
             ],
             [
              0.4444444444444444,
              "#bd3786"
             ],
             [
              0.5555555555555556,
              "#d8576b"
             ],
             [
              0.6666666666666666,
              "#ed7953"
             ],
             [
              0.7777777777777778,
              "#fb9f3a"
             ],
             [
              0.8888888888888888,
              "#fdca26"
             ],
             [
              1,
              "#f0f921"
             ]
            ],
            "type": "heatmapgl"
           }
          ],
          "histogram": [
           {
            "marker": {
             "pattern": {
              "fillmode": "overlay",
              "size": 10,
              "solidity": 0.2
             }
            },
            "type": "histogram"
           }
          ],
          "histogram2d": [
           {
            "colorbar": {
             "outlinewidth": 0,
             "ticks": ""
            },
            "colorscale": [
             [
              0,
              "#0d0887"
             ],
             [
              0.1111111111111111,
              "#46039f"
             ],
             [
              0.2222222222222222,
              "#7201a8"
             ],
             [
              0.3333333333333333,
              "#9c179e"
             ],
             [
              0.4444444444444444,
              "#bd3786"
             ],
             [
              0.5555555555555556,
              "#d8576b"
             ],
             [
              0.6666666666666666,
              "#ed7953"
             ],
             [
              0.7777777777777778,
              "#fb9f3a"
             ],
             [
              0.8888888888888888,
              "#fdca26"
             ],
             [
              1,
              "#f0f921"
             ]
            ],
            "type": "histogram2d"
           }
          ],
          "histogram2dcontour": [
           {
            "colorbar": {
             "outlinewidth": 0,
             "ticks": ""
            },
            "colorscale": [
             [
              0,
              "#0d0887"
             ],
             [
              0.1111111111111111,
              "#46039f"
             ],
             [
              0.2222222222222222,
              "#7201a8"
             ],
             [
              0.3333333333333333,
              "#9c179e"
             ],
             [
              0.4444444444444444,
              "#bd3786"
             ],
             [
              0.5555555555555556,
              "#d8576b"
             ],
             [
              0.6666666666666666,
              "#ed7953"
             ],
             [
              0.7777777777777778,
              "#fb9f3a"
             ],
             [
              0.8888888888888888,
              "#fdca26"
             ],
             [
              1,
              "#f0f921"
             ]
            ],
            "type": "histogram2dcontour"
           }
          ],
          "mesh3d": [
           {
            "colorbar": {
             "outlinewidth": 0,
             "ticks": ""
            },
            "type": "mesh3d"
           }
          ],
          "parcoords": [
           {
            "line": {
             "colorbar": {
              "outlinewidth": 0,
              "ticks": ""
             }
            },
            "type": "parcoords"
           }
          ],
          "pie": [
           {
            "automargin": true,
            "type": "pie"
           }
          ],
          "scatter": [
           {
            "fillpattern": {
             "fillmode": "overlay",
             "size": 10,
             "solidity": 0.2
            },
            "type": "scatter"
           }
          ],
          "scatter3d": [
           {
            "line": {
             "colorbar": {
              "outlinewidth": 0,
              "ticks": ""
             }
            },
            "marker": {
             "colorbar": {
              "outlinewidth": 0,
              "ticks": ""
             }
            },
            "type": "scatter3d"
           }
          ],
          "scattercarpet": [
           {
            "marker": {
             "colorbar": {
              "outlinewidth": 0,
              "ticks": ""
             }
            },
            "type": "scattercarpet"
           }
          ],
          "scattergeo": [
           {
            "marker": {
             "colorbar": {
              "outlinewidth": 0,
              "ticks": ""
             }
            },
            "type": "scattergeo"
           }
          ],
          "scattergl": [
           {
            "marker": {
             "colorbar": {
              "outlinewidth": 0,
              "ticks": ""
             }
            },
            "type": "scattergl"
           }
          ],
          "scattermapbox": [
           {
            "marker": {
             "colorbar": {
              "outlinewidth": 0,
              "ticks": ""
             }
            },
            "type": "scattermapbox"
           }
          ],
          "scatterpolar": [
           {
            "marker": {
             "colorbar": {
              "outlinewidth": 0,
              "ticks": ""
             }
            },
            "type": "scatterpolar"
           }
          ],
          "scatterpolargl": [
           {
            "marker": {
             "colorbar": {
              "outlinewidth": 0,
              "ticks": ""
             }
            },
            "type": "scatterpolargl"
           }
          ],
          "scatterternary": [
           {
            "marker": {
             "colorbar": {
              "outlinewidth": 0,
              "ticks": ""
             }
            },
            "type": "scatterternary"
           }
          ],
          "surface": [
           {
            "colorbar": {
             "outlinewidth": 0,
             "ticks": ""
            },
            "colorscale": [
             [
              0,
              "#0d0887"
             ],
             [
              0.1111111111111111,
              "#46039f"
             ],
             [
              0.2222222222222222,
              "#7201a8"
             ],
             [
              0.3333333333333333,
              "#9c179e"
             ],
             [
              0.4444444444444444,
              "#bd3786"
             ],
             [
              0.5555555555555556,
              "#d8576b"
             ],
             [
              0.6666666666666666,
              "#ed7953"
             ],
             [
              0.7777777777777778,
              "#fb9f3a"
             ],
             [
              0.8888888888888888,
              "#fdca26"
             ],
             [
              1,
              "#f0f921"
             ]
            ],
            "type": "surface"
           }
          ],
          "table": [
           {
            "cells": {
             "fill": {
              "color": "#EBF0F8"
             },
             "line": {
              "color": "white"
             }
            },
            "header": {
             "fill": {
              "color": "#C8D4E3"
             },
             "line": {
              "color": "white"
             }
            },
            "type": "table"
           }
          ]
         },
         "layout": {
          "annotationdefaults": {
           "arrowcolor": "#2a3f5f",
           "arrowhead": 0,
           "arrowwidth": 1
          },
          "autotypenumbers": "strict",
          "coloraxis": {
           "colorbar": {
            "outlinewidth": 0,
            "ticks": ""
           }
          },
          "colorscale": {
           "diverging": [
            [
             0,
             "#8e0152"
            ],
            [
             0.1,
             "#c51b7d"
            ],
            [
             0.2,
             "#de77ae"
            ],
            [
             0.3,
             "#f1b6da"
            ],
            [
             0.4,
             "#fde0ef"
            ],
            [
             0.5,
             "#f7f7f7"
            ],
            [
             0.6,
             "#e6f5d0"
            ],
            [
             0.7,
             "#b8e186"
            ],
            [
             0.8,
             "#7fbc41"
            ],
            [
             0.9,
             "#4d9221"
            ],
            [
             1,
             "#276419"
            ]
           ],
           "sequential": [
            [
             0,
             "#0d0887"
            ],
            [
             0.1111111111111111,
             "#46039f"
            ],
            [
             0.2222222222222222,
             "#7201a8"
            ],
            [
             0.3333333333333333,
             "#9c179e"
            ],
            [
             0.4444444444444444,
             "#bd3786"
            ],
            [
             0.5555555555555556,
             "#d8576b"
            ],
            [
             0.6666666666666666,
             "#ed7953"
            ],
            [
             0.7777777777777778,
             "#fb9f3a"
            ],
            [
             0.8888888888888888,
             "#fdca26"
            ],
            [
             1,
             "#f0f921"
            ]
           ],
           "sequentialminus": [
            [
             0,
             "#0d0887"
            ],
            [
             0.1111111111111111,
             "#46039f"
            ],
            [
             0.2222222222222222,
             "#7201a8"
            ],
            [
             0.3333333333333333,
             "#9c179e"
            ],
            [
             0.4444444444444444,
             "#bd3786"
            ],
            [
             0.5555555555555556,
             "#d8576b"
            ],
            [
             0.6666666666666666,
             "#ed7953"
            ],
            [
             0.7777777777777778,
             "#fb9f3a"
            ],
            [
             0.8888888888888888,
             "#fdca26"
            ],
            [
             1,
             "#f0f921"
            ]
           ]
          },
          "colorway": [
           "#636efa",
           "#EF553B",
           "#00cc96",
           "#ab63fa",
           "#FFA15A",
           "#19d3f3",
           "#FF6692",
           "#B6E880",
           "#FF97FF",
           "#FECB52"
          ],
          "font": {
           "color": "#2a3f5f"
          },
          "geo": {
           "bgcolor": "white",
           "lakecolor": "white",
           "landcolor": "#E5ECF6",
           "showlakes": true,
           "showland": true,
           "subunitcolor": "white"
          },
          "hoverlabel": {
           "align": "left"
          },
          "hovermode": "closest",
          "mapbox": {
           "style": "light"
          },
          "paper_bgcolor": "white",
          "plot_bgcolor": "#E5ECF6",
          "polar": {
           "angularaxis": {
            "gridcolor": "white",
            "linecolor": "white",
            "ticks": ""
           },
           "bgcolor": "#E5ECF6",
           "radialaxis": {
            "gridcolor": "white",
            "linecolor": "white",
            "ticks": ""
           }
          },
          "scene": {
           "xaxis": {
            "backgroundcolor": "#E5ECF6",
            "gridcolor": "white",
            "gridwidth": 2,
            "linecolor": "white",
            "showbackground": true,
            "ticks": "",
            "zerolinecolor": "white"
           },
           "yaxis": {
            "backgroundcolor": "#E5ECF6",
            "gridcolor": "white",
            "gridwidth": 2,
            "linecolor": "white",
            "showbackground": true,
            "ticks": "",
            "zerolinecolor": "white"
           },
           "zaxis": {
            "backgroundcolor": "#E5ECF6",
            "gridcolor": "white",
            "gridwidth": 2,
            "linecolor": "white",
            "showbackground": true,
            "ticks": "",
            "zerolinecolor": "white"
           }
          },
          "shapedefaults": {
           "line": {
            "color": "#2a3f5f"
           }
          },
          "ternary": {
           "aaxis": {
            "gridcolor": "white",
            "linecolor": "white",
            "ticks": ""
           },
           "baxis": {
            "gridcolor": "white",
            "linecolor": "white",
            "ticks": ""
           },
           "bgcolor": "#E5ECF6",
           "caxis": {
            "gridcolor": "white",
            "linecolor": "white",
            "ticks": ""
           }
          },
          "title": {
           "x": 0.05
          },
          "xaxis": {
           "automargin": true,
           "gridcolor": "white",
           "linecolor": "white",
           "ticks": "",
           "title": {
            "standoff": 15
           },
           "zerolinecolor": "white",
           "zerolinewidth": 2
          },
          "yaxis": {
           "automargin": true,
           "gridcolor": "white",
           "linecolor": "white",
           "ticks": "",
           "title": {
            "standoff": 15
           },
           "zerolinecolor": "white",
           "zerolinewidth": 2
          }
         }
        },
        "title": {
         "text": "Top 12 merchants with highest number of transactions per week"
        },
        "width": 960,
        "xaxis": {
         "anchor": "y",
         "domain": [
          0,
          0.29333333333333333
         ],
         "showticklabels": true,
         "title": {
          "text": ""
         }
        },
        "xaxis10": {
         "anchor": "y10",
         "domain": [
          0,
          0.29333333333333333
         ],
         "matches": "x",
         "showticklabels": true,
         "title": {
          "text": ""
         }
        },
        "xaxis11": {
         "anchor": "y11",
         "domain": [
          0.35333333333333333,
          0.6466666666666667
         ],
         "matches": "x",
         "showticklabels": true,
         "title": {
          "text": ""
         }
        },
        "xaxis12": {
         "anchor": "y12",
         "domain": [
          0.7066666666666667,
          1
         ],
         "matches": "x",
         "showticklabels": true,
         "title": {
          "text": ""
         }
        },
        "xaxis2": {
         "anchor": "y2",
         "domain": [
          0.35333333333333333,
          0.6466666666666667
         ],
         "matches": "x",
         "showticklabels": true,
         "title": {
          "text": ""
         }
        },
        "xaxis3": {
         "anchor": "y3",
         "domain": [
          0.7066666666666667,
          1
         ],
         "matches": "x",
         "showticklabels": true,
         "title": {
          "text": ""
         }
        },
        "xaxis4": {
         "anchor": "y4",
         "domain": [
          0,
          0.29333333333333333
         ],
         "matches": "x",
         "showticklabels": true,
         "title": {
          "text": ""
         }
        },
        "xaxis5": {
         "anchor": "y5",
         "domain": [
          0.35333333333333333,
          0.6466666666666667
         ],
         "matches": "x",
         "showticklabels": true,
         "title": {
          "text": ""
         }
        },
        "xaxis6": {
         "anchor": "y6",
         "domain": [
          0.7066666666666667,
          1
         ],
         "matches": "x",
         "showticklabels": true,
         "title": {
          "text": ""
         }
        },
        "xaxis7": {
         "anchor": "y7",
         "domain": [
          0,
          0.29333333333333333
         ],
         "matches": "x",
         "showticklabels": true,
         "title": {
          "text": ""
         }
        },
        "xaxis8": {
         "anchor": "y8",
         "domain": [
          0.35333333333333333,
          0.6466666666666667
         ],
         "matches": "x",
         "showticklabels": true,
         "title": {
          "text": ""
         }
        },
        "xaxis9": {
         "anchor": "y9",
         "domain": [
          0.7066666666666667,
          1
         ],
         "matches": "x",
         "showticklabels": true,
         "title": {
          "text": ""
         }
        },
        "yaxis": {
         "anchor": "x",
         "domain": [
          0,
          0.1975
         ],
         "showticklabels": true,
         "title": {
          "text": "amount(usd)"
         }
        },
        "yaxis10": {
         "anchor": "x10",
         "domain": [
          0.8025,
          1
         ],
         "showticklabels": true,
         "title": {
          "text": "amount(usd)"
         }
        },
        "yaxis11": {
         "anchor": "x11",
         "domain": [
          0.8025,
          1
         ],
         "showticklabels": true
        },
        "yaxis12": {
         "anchor": "x12",
         "domain": [
          0.8025,
          1
         ],
         "showticklabels": true
        },
        "yaxis2": {
         "anchor": "x2",
         "domain": [
          0,
          0.1975
         ],
         "showticklabels": true
        },
        "yaxis3": {
         "anchor": "x3",
         "domain": [
          0,
          0.1975
         ],
         "showticklabels": true
        },
        "yaxis4": {
         "anchor": "x4",
         "domain": [
          0.2675,
          0.465
         ],
         "showticklabels": true,
         "title": {
          "text": "amount(usd)"
         }
        },
        "yaxis5": {
         "anchor": "x5",
         "domain": [
          0.2675,
          0.465
         ],
         "showticklabels": true
        },
        "yaxis6": {
         "anchor": "x6",
         "domain": [
          0.2675,
          0.465
         ],
         "showticklabels": true
        },
        "yaxis7": {
         "anchor": "x7",
         "domain": [
          0.535,
          0.7325
         ],
         "showticklabels": true,
         "title": {
          "text": "amount(usd)"
         }
        },
        "yaxis8": {
         "anchor": "x8",
         "domain": [
          0.535,
          0.7325
         ],
         "showticklabels": true
        },
        "yaxis9": {
         "anchor": "x9",
         "domain": [
          0.535,
          0.7325
         ],
         "showticklabels": true
        }
       }
      }
     },
     "metadata": {},
     "output_type": "display_data"
    }
   ],
   "source": [
    "# Specified list of 10 business with the highest number of transactions.\n",
    "top12_merchants = df_train.merchant.value_counts()[:12]\n",
    "df_ = df_train.groupby(by=[pd.Grouper(key=\"transaction_time\", freq=\"1W\"),'is_fraud',\n",
    "                           'merchant']).agg({\"amount(usd)\":'mean',\"transaction_id\":\"count\"}).reset_index()\n",
    "df_ = df_[df_.merchant.isin(top12_merchants.index)]\n",
    "fig = px.scatter(df_,\n",
    "        x='transaction_time',\n",
    "        y='amount(usd)',\n",
    "        color='is_fraud',\n",
    "        facet_col ='merchant',\n",
    "        facet_col_wrap=3,\n",
    "        facet_col_spacing=.06,\n",
    "        category_orders={'merchant': top12_merchants.index}, # order the subplots\n",
    "        color_discrete_map={1:'#61E50F', 0:'#D93C1D'}\n",
    ")\n",
    "fig.update_layout(height=1200,\n",
    "                  width=960,\n",
    "                  title='Top 12 merchants with highest number of transactions per week',\n",
    "                  legend=dict(title='Is fraud?'),\n",
    "                  plot_bgcolor='#fafafa'\n",
    "                 )\n",
    "fig.update_yaxes(matches=None)\n",
    "fig.for_each_yaxis(lambda yaxis: yaxis.update(showticklabels=True))\n",
    "fig.for_each_xaxis(lambda xaxis: xaxis.update(showticklabels=True, title=''))\n",
    "fig.show();"
   ]
  },
  {
   "cell_type": "code",
   "execution_count": null,
   "metadata": {},
   "outputs": [
    {
     "data": {
      "text/html": [
       "<div>\n",
       "<style scoped>\n",
       "    .dataframe tbody tr th:only-of-type {\n",
       "        vertical-align: middle;\n",
       "    }\n",
       "\n",
       "    .dataframe tbody tr th {\n",
       "        vertical-align: top;\n",
       "    }\n",
       "\n",
       "    .dataframe thead th {\n",
       "        text-align: right;\n",
       "    }\n",
       "</style>\n",
       "<table border=\"1\" class=\"dataframe\">\n",
       "  <thead>\n",
       "    <tr style=\"text-align: right;\">\n",
       "      <th></th>\n",
       "      <th>is_fraud</th>\n",
       "      <th>job</th>\n",
       "      <th>amount(usd)</th>\n",
       "      <th>transaction_id</th>\n",
       "    </tr>\n",
       "  </thead>\n",
       "  <tbody>\n",
       "    <tr>\n",
       "      <th>880</th>\n",
       "      <td>1</td>\n",
       "      <td>Quantity surveyor</td>\n",
       "      <td>678.778704</td>\n",
       "      <td>54</td>\n",
       "    </tr>\n",
       "    <tr>\n",
       "      <th>806</th>\n",
       "      <td>1</td>\n",
       "      <td>Naval architect</td>\n",
       "      <td>689.476852</td>\n",
       "      <td>54</td>\n",
       "    </tr>\n",
       "    <tr>\n",
       "      <th>784</th>\n",
       "      <td>1</td>\n",
       "      <td>Materials engineer</td>\n",
       "      <td>559.441538</td>\n",
       "      <td>52</td>\n",
       "    </tr>\n",
       "    <tr>\n",
       "      <th>843</th>\n",
       "      <td>1</td>\n",
       "      <td>Podiatrist</td>\n",
       "      <td>448.335319</td>\n",
       "      <td>47</td>\n",
       "    </tr>\n",
       "    <tr>\n",
       "      <th>539</th>\n",
       "      <td>1</td>\n",
       "      <td>Audiological scientist</td>\n",
       "      <td>639.151333</td>\n",
       "      <td>45</td>\n",
       "    </tr>\n",
       "    <tr>\n",
       "      <th>977</th>\n",
       "      <td>1</td>\n",
       "      <td>Trading standards officer</td>\n",
       "      <td>465.482955</td>\n",
       "      <td>44</td>\n",
       "    </tr>\n",
       "    <tr>\n",
       "      <th>691</th>\n",
       "      <td>1</td>\n",
       "      <td>Film/video editor</td>\n",
       "      <td>507.837907</td>\n",
       "      <td>43</td>\n",
       "    </tr>\n",
       "    <tr>\n",
       "      <th>685</th>\n",
       "      <td>1</td>\n",
       "      <td>Exhibition designer</td>\n",
       "      <td>551.193488</td>\n",
       "      <td>43</td>\n",
       "    </tr>\n",
       "    <tr>\n",
       "      <th>918</th>\n",
       "      <td>1</td>\n",
       "      <td>Senior tax professional/tax inspector</td>\n",
       "      <td>581.038837</td>\n",
       "      <td>43</td>\n",
       "    </tr>\n",
       "    <tr>\n",
       "      <th>527</th>\n",
       "      <td>1</td>\n",
       "      <td>Archaeologist</td>\n",
       "      <td>377.083250</td>\n",
       "      <td>40</td>\n",
       "    </tr>\n",
       "  </tbody>\n",
       "</table>\n",
       "</div>"
      ],
      "text/plain": [
       "    is_fraud                                    job  amount(usd)  \\\n",
       "880        1                      Quantity surveyor   678.778704   \n",
       "806        1                        Naval architect   689.476852   \n",
       "784        1                     Materials engineer   559.441538   \n",
       "843        1                             Podiatrist   448.335319   \n",
       "539        1                 Audiological scientist   639.151333   \n",
       "977        1              Trading standards officer   465.482955   \n",
       "691        1                      Film/video editor   507.837907   \n",
       "685        1                    Exhibition designer   551.193488   \n",
       "918        1  Senior tax professional/tax inspector   581.038837   \n",
       "527        1                          Archaeologist   377.083250   \n",
       "\n",
       "     transaction_id  \n",
       "880              54  \n",
       "806              54  \n",
       "784              52  \n",
       "843              47  \n",
       "539              45  \n",
       "977              44  \n",
       "691              43  \n",
       "685              43  \n",
       "918              43  \n",
       "527              40  "
      ]
     },
     "execution_count": 27,
     "metadata": {},
     "output_type": "execute_result"
    }
   ],
   "source": [
    "# Top 10 jobs had most fraud transactions.\n",
    "groups = ['is_fraud','job']\n",
    "df_ = df_train.groupby(by=groups).agg({\"amount(usd)\":'mean',\"transaction_id\":\"count\"}).fillna(0).reset_index()\n",
    "df_ = df_[df_.is_fraud==1].sort_values(by='transaction_id',\n",
    "                                       ascending=False).drop_duplicates('job', keep='first').iloc[:10, :]\n",
    "df_"
   ]
  },
  {
   "cell_type": "code",
   "execution_count": null,
   "metadata": {},
   "outputs": [
    {
     "data": {
      "application/vnd.plotly.v1+json": {
       "config": {
        "plotlyServerURL": "https://plot.ly"
       },
       "data": [
        {
         "alignmentgroup": "True",
         "hovertemplate": "Number of fraud transactions=%{x}<br>Job title=%{y}<br>amount(usd)=%{marker.color}<extra></extra>",
         "legendgroup": "",
         "marker": {
          "color": [
           678.7787037037037,
           689.4768518518518,
           559.4415384615385,
           448.33531914893615,
           639.1513333333334,
           465.48295454545456,
           507.83790697674414,
           551.193488372093,
           581.0388372093023,
           377.08325
          ],
          "coloraxis": "coloraxis",
          "pattern": {
           "shape": ""
          }
         },
         "name": "",
         "offsetgroup": "",
         "orientation": "h",
         "showlegend": false,
         "textposition": "auto",
         "type": "bar",
         "x": [
          54,
          54,
          52,
          47,
          45,
          44,
          43,
          43,
          43,
          40
         ],
         "xaxis": "x",
         "y": [
          "Quantity surveyor",
          "Naval architect",
          "Materials engineer",
          "Podiatrist",
          "Audiological scientist",
          "Trading standards officer",
          "Film/video editor",
          "Exhibition designer",
          "Senior tax professional/tax inspector",
          "Archaeologist"
         ],
         "yaxis": "y"
        }
       ],
       "layout": {
        "barmode": "relative",
        "coloraxis": {
         "colorbar": {
          "orientation": "h",
          "title": {
           "text": "Amount(usd) of transactions"
          },
          "x": 1
         },
         "colorscale": [
          [
           0,
           "#000004"
          ],
          [
           0.1111111111111111,
           "#180f3d"
          ],
          [
           0.2222222222222222,
           "#440f76"
          ],
          [
           0.3333333333333333,
           "#721f81"
          ],
          [
           0.4444444444444444,
           "#9e2f7f"
          ],
          [
           0.5555555555555556,
           "#cd4071"
          ],
          [
           0.6666666666666666,
           "#f1605d"
          ],
          [
           0.7777777777777778,
           "#fd9668"
          ],
          [
           0.8888888888888888,
           "#feca8d"
          ],
          [
           1,
           "#fcfdbf"
          ]
         ],
         "reversescale": true
        },
        "height": 600,
        "legend": {
         "tracegroupgap": 0
        },
        "margin": {
         "t": 60
        },
        "plot_bgcolor": "#fafafa",
        "template": {
         "data": {
          "bar": [
           {
            "error_x": {
             "color": "#2a3f5f"
            },
            "error_y": {
             "color": "#2a3f5f"
            },
            "marker": {
             "line": {
              "color": "#E5ECF6",
              "width": 0.5
             },
             "pattern": {
              "fillmode": "overlay",
              "size": 10,
              "solidity": 0.2
             }
            },
            "type": "bar"
           }
          ],
          "barpolar": [
           {
            "marker": {
             "line": {
              "color": "#E5ECF6",
              "width": 0.5
             },
             "pattern": {
              "fillmode": "overlay",
              "size": 10,
              "solidity": 0.2
             }
            },
            "type": "barpolar"
           }
          ],
          "carpet": [
           {
            "aaxis": {
             "endlinecolor": "#2a3f5f",
             "gridcolor": "white",
             "linecolor": "white",
             "minorgridcolor": "white",
             "startlinecolor": "#2a3f5f"
            },
            "baxis": {
             "endlinecolor": "#2a3f5f",
             "gridcolor": "white",
             "linecolor": "white",
             "minorgridcolor": "white",
             "startlinecolor": "#2a3f5f"
            },
            "type": "carpet"
           }
          ],
          "choropleth": [
           {
            "colorbar": {
             "outlinewidth": 0,
             "ticks": ""
            },
            "type": "choropleth"
           }
          ],
          "contour": [
           {
            "colorbar": {
             "outlinewidth": 0,
             "ticks": ""
            },
            "colorscale": [
             [
              0,
              "#0d0887"
             ],
             [
              0.1111111111111111,
              "#46039f"
             ],
             [
              0.2222222222222222,
              "#7201a8"
             ],
             [
              0.3333333333333333,
              "#9c179e"
             ],
             [
              0.4444444444444444,
              "#bd3786"
             ],
             [
              0.5555555555555556,
              "#d8576b"
             ],
             [
              0.6666666666666666,
              "#ed7953"
             ],
             [
              0.7777777777777778,
              "#fb9f3a"
             ],
             [
              0.8888888888888888,
              "#fdca26"
             ],
             [
              1,
              "#f0f921"
             ]
            ],
            "type": "contour"
           }
          ],
          "contourcarpet": [
           {
            "colorbar": {
             "outlinewidth": 0,
             "ticks": ""
            },
            "type": "contourcarpet"
           }
          ],
          "heatmap": [
           {
            "colorbar": {
             "outlinewidth": 0,
             "ticks": ""
            },
            "colorscale": [
             [
              0,
              "#0d0887"
             ],
             [
              0.1111111111111111,
              "#46039f"
             ],
             [
              0.2222222222222222,
              "#7201a8"
             ],
             [
              0.3333333333333333,
              "#9c179e"
             ],
             [
              0.4444444444444444,
              "#bd3786"
             ],
             [
              0.5555555555555556,
              "#d8576b"
             ],
             [
              0.6666666666666666,
              "#ed7953"
             ],
             [
              0.7777777777777778,
              "#fb9f3a"
             ],
             [
              0.8888888888888888,
              "#fdca26"
             ],
             [
              1,
              "#f0f921"
             ]
            ],
            "type": "heatmap"
           }
          ],
          "heatmapgl": [
           {
            "colorbar": {
             "outlinewidth": 0,
             "ticks": ""
            },
            "colorscale": [
             [
              0,
              "#0d0887"
             ],
             [
              0.1111111111111111,
              "#46039f"
             ],
             [
              0.2222222222222222,
              "#7201a8"
             ],
             [
              0.3333333333333333,
              "#9c179e"
             ],
             [
              0.4444444444444444,
              "#bd3786"
             ],
             [
              0.5555555555555556,
              "#d8576b"
             ],
             [
              0.6666666666666666,
              "#ed7953"
             ],
             [
              0.7777777777777778,
              "#fb9f3a"
             ],
             [
              0.8888888888888888,
              "#fdca26"
             ],
             [
              1,
              "#f0f921"
             ]
            ],
            "type": "heatmapgl"
           }
          ],
          "histogram": [
           {
            "marker": {
             "pattern": {
              "fillmode": "overlay",
              "size": 10,
              "solidity": 0.2
             }
            },
            "type": "histogram"
           }
          ],
          "histogram2d": [
           {
            "colorbar": {
             "outlinewidth": 0,
             "ticks": ""
            },
            "colorscale": [
             [
              0,
              "#0d0887"
             ],
             [
              0.1111111111111111,
              "#46039f"
             ],
             [
              0.2222222222222222,
              "#7201a8"
             ],
             [
              0.3333333333333333,
              "#9c179e"
             ],
             [
              0.4444444444444444,
              "#bd3786"
             ],
             [
              0.5555555555555556,
              "#d8576b"
             ],
             [
              0.6666666666666666,
              "#ed7953"
             ],
             [
              0.7777777777777778,
              "#fb9f3a"
             ],
             [
              0.8888888888888888,
              "#fdca26"
             ],
             [
              1,
              "#f0f921"
             ]
            ],
            "type": "histogram2d"
           }
          ],
          "histogram2dcontour": [
           {
            "colorbar": {
             "outlinewidth": 0,
             "ticks": ""
            },
            "colorscale": [
             [
              0,
              "#0d0887"
             ],
             [
              0.1111111111111111,
              "#46039f"
             ],
             [
              0.2222222222222222,
              "#7201a8"
             ],
             [
              0.3333333333333333,
              "#9c179e"
             ],
             [
              0.4444444444444444,
              "#bd3786"
             ],
             [
              0.5555555555555556,
              "#d8576b"
             ],
             [
              0.6666666666666666,
              "#ed7953"
             ],
             [
              0.7777777777777778,
              "#fb9f3a"
             ],
             [
              0.8888888888888888,
              "#fdca26"
             ],
             [
              1,
              "#f0f921"
             ]
            ],
            "type": "histogram2dcontour"
           }
          ],
          "mesh3d": [
           {
            "colorbar": {
             "outlinewidth": 0,
             "ticks": ""
            },
            "type": "mesh3d"
           }
          ],
          "parcoords": [
           {
            "line": {
             "colorbar": {
              "outlinewidth": 0,
              "ticks": ""
             }
            },
            "type": "parcoords"
           }
          ],
          "pie": [
           {
            "automargin": true,
            "type": "pie"
           }
          ],
          "scatter": [
           {
            "fillpattern": {
             "fillmode": "overlay",
             "size": 10,
             "solidity": 0.2
            },
            "type": "scatter"
           }
          ],
          "scatter3d": [
           {
            "line": {
             "colorbar": {
              "outlinewidth": 0,
              "ticks": ""
             }
            },
            "marker": {
             "colorbar": {
              "outlinewidth": 0,
              "ticks": ""
             }
            },
            "type": "scatter3d"
           }
          ],
          "scattercarpet": [
           {
            "marker": {
             "colorbar": {
              "outlinewidth": 0,
              "ticks": ""
             }
            },
            "type": "scattercarpet"
           }
          ],
          "scattergeo": [
           {
            "marker": {
             "colorbar": {
              "outlinewidth": 0,
              "ticks": ""
             }
            },
            "type": "scattergeo"
           }
          ],
          "scattergl": [
           {
            "marker": {
             "colorbar": {
              "outlinewidth": 0,
              "ticks": ""
             }
            },
            "type": "scattergl"
           }
          ],
          "scattermapbox": [
           {
            "marker": {
             "colorbar": {
              "outlinewidth": 0,
              "ticks": ""
             }
            },
            "type": "scattermapbox"
           }
          ],
          "scatterpolar": [
           {
            "marker": {
             "colorbar": {
              "outlinewidth": 0,
              "ticks": ""
             }
            },
            "type": "scatterpolar"
           }
          ],
          "scatterpolargl": [
           {
            "marker": {
             "colorbar": {
              "outlinewidth": 0,
              "ticks": ""
             }
            },
            "type": "scatterpolargl"
           }
          ],
          "scatterternary": [
           {
            "marker": {
             "colorbar": {
              "outlinewidth": 0,
              "ticks": ""
             }
            },
            "type": "scatterternary"
           }
          ],
          "surface": [
           {
            "colorbar": {
             "outlinewidth": 0,
             "ticks": ""
            },
            "colorscale": [
             [
              0,
              "#0d0887"
             ],
             [
              0.1111111111111111,
              "#46039f"
             ],
             [
              0.2222222222222222,
              "#7201a8"
             ],
             [
              0.3333333333333333,
              "#9c179e"
             ],
             [
              0.4444444444444444,
              "#bd3786"
             ],
             [
              0.5555555555555556,
              "#d8576b"
             ],
             [
              0.6666666666666666,
              "#ed7953"
             ],
             [
              0.7777777777777778,
              "#fb9f3a"
             ],
             [
              0.8888888888888888,
              "#fdca26"
             ],
             [
              1,
              "#f0f921"
             ]
            ],
            "type": "surface"
           }
          ],
          "table": [
           {
            "cells": {
             "fill": {
              "color": "#EBF0F8"
             },
             "line": {
              "color": "white"
             }
            },
            "header": {
             "fill": {
              "color": "#C8D4E3"
             },
             "line": {
              "color": "white"
             }
            },
            "type": "table"
           }
          ]
         },
         "layout": {
          "annotationdefaults": {
           "arrowcolor": "#2a3f5f",
           "arrowhead": 0,
           "arrowwidth": 1
          },
          "autotypenumbers": "strict",
          "coloraxis": {
           "colorbar": {
            "outlinewidth": 0,
            "ticks": ""
           }
          },
          "colorscale": {
           "diverging": [
            [
             0,
             "#8e0152"
            ],
            [
             0.1,
             "#c51b7d"
            ],
            [
             0.2,
             "#de77ae"
            ],
            [
             0.3,
             "#f1b6da"
            ],
            [
             0.4,
             "#fde0ef"
            ],
            [
             0.5,
             "#f7f7f7"
            ],
            [
             0.6,
             "#e6f5d0"
            ],
            [
             0.7,
             "#b8e186"
            ],
            [
             0.8,
             "#7fbc41"
            ],
            [
             0.9,
             "#4d9221"
            ],
            [
             1,
             "#276419"
            ]
           ],
           "sequential": [
            [
             0,
             "#0d0887"
            ],
            [
             0.1111111111111111,
             "#46039f"
            ],
            [
             0.2222222222222222,
             "#7201a8"
            ],
            [
             0.3333333333333333,
             "#9c179e"
            ],
            [
             0.4444444444444444,
             "#bd3786"
            ],
            [
             0.5555555555555556,
             "#d8576b"
            ],
            [
             0.6666666666666666,
             "#ed7953"
            ],
            [
             0.7777777777777778,
             "#fb9f3a"
            ],
            [
             0.8888888888888888,
             "#fdca26"
            ],
            [
             1,
             "#f0f921"
            ]
           ],
           "sequentialminus": [
            [
             0,
             "#0d0887"
            ],
            [
             0.1111111111111111,
             "#46039f"
            ],
            [
             0.2222222222222222,
             "#7201a8"
            ],
            [
             0.3333333333333333,
             "#9c179e"
            ],
            [
             0.4444444444444444,
             "#bd3786"
            ],
            [
             0.5555555555555556,
             "#d8576b"
            ],
            [
             0.6666666666666666,
             "#ed7953"
            ],
            [
             0.7777777777777778,
             "#fb9f3a"
            ],
            [
             0.8888888888888888,
             "#fdca26"
            ],
            [
             1,
             "#f0f921"
            ]
           ]
          },
          "colorway": [
           "#636efa",
           "#EF553B",
           "#00cc96",
           "#ab63fa",
           "#FFA15A",
           "#19d3f3",
           "#FF6692",
           "#B6E880",
           "#FF97FF",
           "#FECB52"
          ],
          "font": {
           "color": "#2a3f5f"
          },
          "geo": {
           "bgcolor": "white",
           "lakecolor": "white",
           "landcolor": "#E5ECF6",
           "showlakes": true,
           "showland": true,
           "subunitcolor": "white"
          },
          "hoverlabel": {
           "align": "left"
          },
          "hovermode": "closest",
          "mapbox": {
           "style": "light"
          },
          "paper_bgcolor": "white",
          "plot_bgcolor": "#E5ECF6",
          "polar": {
           "angularaxis": {
            "gridcolor": "white",
            "linecolor": "white",
            "ticks": ""
           },
           "bgcolor": "#E5ECF6",
           "radialaxis": {
            "gridcolor": "white",
            "linecolor": "white",
            "ticks": ""
           }
          },
          "scene": {
           "xaxis": {
            "backgroundcolor": "#E5ECF6",
            "gridcolor": "white",
            "gridwidth": 2,
            "linecolor": "white",
            "showbackground": true,
            "ticks": "",
            "zerolinecolor": "white"
           },
           "yaxis": {
            "backgroundcolor": "#E5ECF6",
            "gridcolor": "white",
            "gridwidth": 2,
            "linecolor": "white",
            "showbackground": true,
            "ticks": "",
            "zerolinecolor": "white"
           },
           "zaxis": {
            "backgroundcolor": "#E5ECF6",
            "gridcolor": "white",
            "gridwidth": 2,
            "linecolor": "white",
            "showbackground": true,
            "ticks": "",
            "zerolinecolor": "white"
           }
          },
          "shapedefaults": {
           "line": {
            "color": "#2a3f5f"
           }
          },
          "ternary": {
           "aaxis": {
            "gridcolor": "white",
            "linecolor": "white",
            "ticks": ""
           },
           "baxis": {
            "gridcolor": "white",
            "linecolor": "white",
            "ticks": ""
           },
           "bgcolor": "#E5ECF6",
           "caxis": {
            "gridcolor": "white",
            "linecolor": "white",
            "ticks": ""
           }
          },
          "title": {
           "x": 0.05
          },
          "xaxis": {
           "automargin": true,
           "gridcolor": "white",
           "linecolor": "white",
           "ticks": "",
           "title": {
            "standoff": 15
           },
           "zerolinecolor": "white",
           "zerolinewidth": 2
          },
          "yaxis": {
           "automargin": true,
           "gridcolor": "white",
           "linecolor": "white",
           "ticks": "",
           "title": {
            "standoff": 15
           },
           "zerolinecolor": "white",
           "zerolinewidth": 2
          }
         }
        },
        "title": {
         "text": "Amount in USD among top 10 jobs with the most fraud transactions"
        },
        "width": 960,
        "xaxis": {
         "anchor": "y",
         "domain": [
          0,
          1
         ],
         "title": {
          "text": "Number of fraud transactions"
         }
        },
        "yaxis": {
         "anchor": "x",
         "categoryarray": [
          "Archaeologist",
          "Senior tax professional/tax inspector",
          "Exhibition designer",
          "Film/video editor",
          "Trading standards officer",
          "Audiological scientist",
          "Podiatrist",
          "Materials engineer",
          "Naval architect",
          "Quantity surveyor"
         ],
         "categoryorder": "array",
         "domain": [
          0,
          1
         ],
         "title": {
          "text": "Job title"
         }
        }
       }
      }
     },
     "metadata": {},
     "output_type": "display_data"
    }
   ],
   "source": [
    "# The professions with the highest amount of fraudulent transactions were plotted.\n",
    "fig = px.bar(df_,\n",
    "             y='job', x='transaction_id',\n",
    "             color='amount(usd)',\n",
    "             color_continuous_scale=px.colors.sequential.Magma,\n",
    "             labels={'job':'Job title', \n",
    "                     'transaction_id': 'Number of fraud transactions'},\n",
    "             category_orders = {\"job\": df_.job.values},\n",
    "             width=960,\n",
    "             height=600)\n",
    "\n",
    "fig.update_layout(\n",
    "    title=dict(\n",
    "        text='Amount in USD among top 10 jobs with the most fraud transactions'\n",
    "    ),\n",
    "    plot_bgcolor='#fafafa'\n",
    ")\n",
    "\n",
    "fig.update_coloraxes(\n",
    "    colorbar=dict(\n",
    "        title='Amount(usd) of transactions',\n",
    "        orientation='h',\n",
    "        x=1\n",
    "    ),\n",
    "    reversescale=True\n",
    ")\n",
    "\n",
    "fig.show()"
   ]
  },
  {
   "cell_type": "code",
   "execution_count": null,
   "metadata": {},
   "outputs": [],
   "source": [
    "# Plotting the credit card numbers and card holders with the highest amount of fraudulent transactions.\n",
    "groups = ['credit_card_number']\n",
    "df_ = df_train.groupby(by=groups).agg({\"amount(usd)\":'mean',\"transaction_id\":\"count\"}).fillna(0).reset_index()\n",
    "df_.sort_values('transaction_id', ascending=False, inplace=True)\n",
    "df_ = df_.head(10)"
   ]
  },
  {
   "cell_type": "code",
   "execution_count": null,
   "metadata": {},
   "outputs": [
    {
     "data": {
      "application/vnd.plotly.v1+json": {
       "config": {
        "plotlyServerURL": "https://plot.ly"
       },
       "data": [
        {
         "alignmentgroup": "True",
         "hovertemplate": "hour_of_day=%{x}<br>Number of transaction=%{y}<extra></extra>",
         "legendgroup": "",
         "marker": {
          "color": "#636efa",
          "pattern": {
           "shape": ""
          }
         },
         "name": "",
         "offsetgroup": "",
         "orientation": "v",
         "showlegend": false,
         "textposition": "auto",
         "type": "bar",
         "x": [
          0,
          1,
          2,
          3,
          4,
          5,
          6,
          7,
          8,
          9,
          10,
          11,
          12,
          13,
          14,
          15,
          16,
          17,
          18,
          19,
          20,
          21,
          22,
          23
         ],
         "xaxis": "x",
         "y": [
          660,
          668,
          646,
          655,
          49,
          66,
          44,
          53,
          48,
          52,
          43,
          46,
          61,
          76,
          85,
          86,
          74,
          75,
          90,
          84,
          81,
          77,
          2005,
          1902
         ],
         "yaxis": "y"
        }
       ],
       "layout": {
        "barmode": "relative",
        "legend": {
         "tracegroupgap": 0
        },
        "margin": {
         "t": 60
        },
        "plot_bgcolor": "#fafafa",
        "template": {
         "data": {
          "bar": [
           {
            "error_x": {
             "color": "#2a3f5f"
            },
            "error_y": {
             "color": "#2a3f5f"
            },
            "marker": {
             "line": {
              "color": "#E5ECF6",
              "width": 0.5
             },
             "pattern": {
              "fillmode": "overlay",
              "size": 10,
              "solidity": 0.2
             }
            },
            "type": "bar"
           }
          ],
          "barpolar": [
           {
            "marker": {
             "line": {
              "color": "#E5ECF6",
              "width": 0.5
             },
             "pattern": {
              "fillmode": "overlay",
              "size": 10,
              "solidity": 0.2
             }
            },
            "type": "barpolar"
           }
          ],
          "carpet": [
           {
            "aaxis": {
             "endlinecolor": "#2a3f5f",
             "gridcolor": "white",
             "linecolor": "white",
             "minorgridcolor": "white",
             "startlinecolor": "#2a3f5f"
            },
            "baxis": {
             "endlinecolor": "#2a3f5f",
             "gridcolor": "white",
             "linecolor": "white",
             "minorgridcolor": "white",
             "startlinecolor": "#2a3f5f"
            },
            "type": "carpet"
           }
          ],
          "choropleth": [
           {
            "colorbar": {
             "outlinewidth": 0,
             "ticks": ""
            },
            "type": "choropleth"
           }
          ],
          "contour": [
           {
            "colorbar": {
             "outlinewidth": 0,
             "ticks": ""
            },
            "colorscale": [
             [
              0,
              "#0d0887"
             ],
             [
              0.1111111111111111,
              "#46039f"
             ],
             [
              0.2222222222222222,
              "#7201a8"
             ],
             [
              0.3333333333333333,
              "#9c179e"
             ],
             [
              0.4444444444444444,
              "#bd3786"
             ],
             [
              0.5555555555555556,
              "#d8576b"
             ],
             [
              0.6666666666666666,
              "#ed7953"
             ],
             [
              0.7777777777777778,
              "#fb9f3a"
             ],
             [
              0.8888888888888888,
              "#fdca26"
             ],
             [
              1,
              "#f0f921"
             ]
            ],
            "type": "contour"
           }
          ],
          "contourcarpet": [
           {
            "colorbar": {
             "outlinewidth": 0,
             "ticks": ""
            },
            "type": "contourcarpet"
           }
          ],
          "heatmap": [
           {
            "colorbar": {
             "outlinewidth": 0,
             "ticks": ""
            },
            "colorscale": [
             [
              0,
              "#0d0887"
             ],
             [
              0.1111111111111111,
              "#46039f"
             ],
             [
              0.2222222222222222,
              "#7201a8"
             ],
             [
              0.3333333333333333,
              "#9c179e"
             ],
             [
              0.4444444444444444,
              "#bd3786"
             ],
             [
              0.5555555555555556,
              "#d8576b"
             ],
             [
              0.6666666666666666,
              "#ed7953"
             ],
             [
              0.7777777777777778,
              "#fb9f3a"
             ],
             [
              0.8888888888888888,
              "#fdca26"
             ],
             [
              1,
              "#f0f921"
             ]
            ],
            "type": "heatmap"
           }
          ],
          "heatmapgl": [
           {
            "colorbar": {
             "outlinewidth": 0,
             "ticks": ""
            },
            "colorscale": [
             [
              0,
              "#0d0887"
             ],
             [
              0.1111111111111111,
              "#46039f"
             ],
             [
              0.2222222222222222,
              "#7201a8"
             ],
             [
              0.3333333333333333,
              "#9c179e"
             ],
             [
              0.4444444444444444,
              "#bd3786"
             ],
             [
              0.5555555555555556,
              "#d8576b"
             ],
             [
              0.6666666666666666,
              "#ed7953"
             ],
             [
              0.7777777777777778,
              "#fb9f3a"
             ],
             [
              0.8888888888888888,
              "#fdca26"
             ],
             [
              1,
              "#f0f921"
             ]
            ],
            "type": "heatmapgl"
           }
          ],
          "histogram": [
           {
            "marker": {
             "pattern": {
              "fillmode": "overlay",
              "size": 10,
              "solidity": 0.2
             }
            },
            "type": "histogram"
           }
          ],
          "histogram2d": [
           {
            "colorbar": {
             "outlinewidth": 0,
             "ticks": ""
            },
            "colorscale": [
             [
              0,
              "#0d0887"
             ],
             [
              0.1111111111111111,
              "#46039f"
             ],
             [
              0.2222222222222222,
              "#7201a8"
             ],
             [
              0.3333333333333333,
              "#9c179e"
             ],
             [
              0.4444444444444444,
              "#bd3786"
             ],
             [
              0.5555555555555556,
              "#d8576b"
             ],
             [
              0.6666666666666666,
              "#ed7953"
             ],
             [
              0.7777777777777778,
              "#fb9f3a"
             ],
             [
              0.8888888888888888,
              "#fdca26"
             ],
             [
              1,
              "#f0f921"
             ]
            ],
            "type": "histogram2d"
           }
          ],
          "histogram2dcontour": [
           {
            "colorbar": {
             "outlinewidth": 0,
             "ticks": ""
            },
            "colorscale": [
             [
              0,
              "#0d0887"
             ],
             [
              0.1111111111111111,
              "#46039f"
             ],
             [
              0.2222222222222222,
              "#7201a8"
             ],
             [
              0.3333333333333333,
              "#9c179e"
             ],
             [
              0.4444444444444444,
              "#bd3786"
             ],
             [
              0.5555555555555556,
              "#d8576b"
             ],
             [
              0.6666666666666666,
              "#ed7953"
             ],
             [
              0.7777777777777778,
              "#fb9f3a"
             ],
             [
              0.8888888888888888,
              "#fdca26"
             ],
             [
              1,
              "#f0f921"
             ]
            ],
            "type": "histogram2dcontour"
           }
          ],
          "mesh3d": [
           {
            "colorbar": {
             "outlinewidth": 0,
             "ticks": ""
            },
            "type": "mesh3d"
           }
          ],
          "parcoords": [
           {
            "line": {
             "colorbar": {
              "outlinewidth": 0,
              "ticks": ""
             }
            },
            "type": "parcoords"
           }
          ],
          "pie": [
           {
            "automargin": true,
            "type": "pie"
           }
          ],
          "scatter": [
           {
            "fillpattern": {
             "fillmode": "overlay",
             "size": 10,
             "solidity": 0.2
            },
            "type": "scatter"
           }
          ],
          "scatter3d": [
           {
            "line": {
             "colorbar": {
              "outlinewidth": 0,
              "ticks": ""
             }
            },
            "marker": {
             "colorbar": {
              "outlinewidth": 0,
              "ticks": ""
             }
            },
            "type": "scatter3d"
           }
          ],
          "scattercarpet": [
           {
            "marker": {
             "colorbar": {
              "outlinewidth": 0,
              "ticks": ""
             }
            },
            "type": "scattercarpet"
           }
          ],
          "scattergeo": [
           {
            "marker": {
             "colorbar": {
              "outlinewidth": 0,
              "ticks": ""
             }
            },
            "type": "scattergeo"
           }
          ],
          "scattergl": [
           {
            "marker": {
             "colorbar": {
              "outlinewidth": 0,
              "ticks": ""
             }
            },
            "type": "scattergl"
           }
          ],
          "scattermapbox": [
           {
            "marker": {
             "colorbar": {
              "outlinewidth": 0,
              "ticks": ""
             }
            },
            "type": "scattermapbox"
           }
          ],
          "scatterpolar": [
           {
            "marker": {
             "colorbar": {
              "outlinewidth": 0,
              "ticks": ""
             }
            },
            "type": "scatterpolar"
           }
          ],
          "scatterpolargl": [
           {
            "marker": {
             "colorbar": {
              "outlinewidth": 0,
              "ticks": ""
             }
            },
            "type": "scatterpolargl"
           }
          ],
          "scatterternary": [
           {
            "marker": {
             "colorbar": {
              "outlinewidth": 0,
              "ticks": ""
             }
            },
            "type": "scatterternary"
           }
          ],
          "surface": [
           {
            "colorbar": {
             "outlinewidth": 0,
             "ticks": ""
            },
            "colorscale": [
             [
              0,
              "#0d0887"
             ],
             [
              0.1111111111111111,
              "#46039f"
             ],
             [
              0.2222222222222222,
              "#7201a8"
             ],
             [
              0.3333333333333333,
              "#9c179e"
             ],
             [
              0.4444444444444444,
              "#bd3786"
             ],
             [
              0.5555555555555556,
              "#d8576b"
             ],
             [
              0.6666666666666666,
              "#ed7953"
             ],
             [
              0.7777777777777778,
              "#fb9f3a"
             ],
             [
              0.8888888888888888,
              "#fdca26"
             ],
             [
              1,
              "#f0f921"
             ]
            ],
            "type": "surface"
           }
          ],
          "table": [
           {
            "cells": {
             "fill": {
              "color": "#EBF0F8"
             },
             "line": {
              "color": "white"
             }
            },
            "header": {
             "fill": {
              "color": "#C8D4E3"
             },
             "line": {
              "color": "white"
             }
            },
            "type": "table"
           }
          ]
         },
         "layout": {
          "annotationdefaults": {
           "arrowcolor": "#2a3f5f",
           "arrowhead": 0,
           "arrowwidth": 1
          },
          "autotypenumbers": "strict",
          "coloraxis": {
           "colorbar": {
            "outlinewidth": 0,
            "ticks": ""
           }
          },
          "colorscale": {
           "diverging": [
            [
             0,
             "#8e0152"
            ],
            [
             0.1,
             "#c51b7d"
            ],
            [
             0.2,
             "#de77ae"
            ],
            [
             0.3,
             "#f1b6da"
            ],
            [
             0.4,
             "#fde0ef"
            ],
            [
             0.5,
             "#f7f7f7"
            ],
            [
             0.6,
             "#e6f5d0"
            ],
            [
             0.7,
             "#b8e186"
            ],
            [
             0.8,
             "#7fbc41"
            ],
            [
             0.9,
             "#4d9221"
            ],
            [
             1,
             "#276419"
            ]
           ],
           "sequential": [
            [
             0,
             "#0d0887"
            ],
            [
             0.1111111111111111,
             "#46039f"
            ],
            [
             0.2222222222222222,
             "#7201a8"
            ],
            [
             0.3333333333333333,
             "#9c179e"
            ],
            [
             0.4444444444444444,
             "#bd3786"
            ],
            [
             0.5555555555555556,
             "#d8576b"
            ],
            [
             0.6666666666666666,
             "#ed7953"
            ],
            [
             0.7777777777777778,
             "#fb9f3a"
            ],
            [
             0.8888888888888888,
             "#fdca26"
            ],
            [
             1,
             "#f0f921"
            ]
           ],
           "sequentialminus": [
            [
             0,
             "#0d0887"
            ],
            [
             0.1111111111111111,
             "#46039f"
            ],
            [
             0.2222222222222222,
             "#7201a8"
            ],
            [
             0.3333333333333333,
             "#9c179e"
            ],
            [
             0.4444444444444444,
             "#bd3786"
            ],
            [
             0.5555555555555556,
             "#d8576b"
            ],
            [
             0.6666666666666666,
             "#ed7953"
            ],
            [
             0.7777777777777778,
             "#fb9f3a"
            ],
            [
             0.8888888888888888,
             "#fdca26"
            ],
            [
             1,
             "#f0f921"
            ]
           ]
          },
          "colorway": [
           "#636efa",
           "#EF553B",
           "#00cc96",
           "#ab63fa",
           "#FFA15A",
           "#19d3f3",
           "#FF6692",
           "#B6E880",
           "#FF97FF",
           "#FECB52"
          ],
          "font": {
           "color": "#2a3f5f"
          },
          "geo": {
           "bgcolor": "white",
           "lakecolor": "white",
           "landcolor": "#E5ECF6",
           "showlakes": true,
           "showland": true,
           "subunitcolor": "white"
          },
          "hoverlabel": {
           "align": "left"
          },
          "hovermode": "closest",
          "mapbox": {
           "style": "light"
          },
          "paper_bgcolor": "white",
          "plot_bgcolor": "#E5ECF6",
          "polar": {
           "angularaxis": {
            "gridcolor": "white",
            "linecolor": "white",
            "ticks": ""
           },
           "bgcolor": "#E5ECF6",
           "radialaxis": {
            "gridcolor": "white",
            "linecolor": "white",
            "ticks": ""
           }
          },
          "scene": {
           "xaxis": {
            "backgroundcolor": "#E5ECF6",
            "gridcolor": "white",
            "gridwidth": 2,
            "linecolor": "white",
            "showbackground": true,
            "ticks": "",
            "zerolinecolor": "white"
           },
           "yaxis": {
            "backgroundcolor": "#E5ECF6",
            "gridcolor": "white",
            "gridwidth": 2,
            "linecolor": "white",
            "showbackground": true,
            "ticks": "",
            "zerolinecolor": "white"
           },
           "zaxis": {
            "backgroundcolor": "#E5ECF6",
            "gridcolor": "white",
            "gridwidth": 2,
            "linecolor": "white",
            "showbackground": true,
            "ticks": "",
            "zerolinecolor": "white"
           }
          },
          "shapedefaults": {
           "line": {
            "color": "#2a3f5f"
           }
          },
          "ternary": {
           "aaxis": {
            "gridcolor": "white",
            "linecolor": "white",
            "ticks": ""
           },
           "baxis": {
            "gridcolor": "white",
            "linecolor": "white",
            "ticks": ""
           },
           "bgcolor": "#E5ECF6",
           "caxis": {
            "gridcolor": "white",
            "linecolor": "white",
            "ticks": ""
           }
          },
          "title": {
           "x": 0.05
          },
          "xaxis": {
           "automargin": true,
           "gridcolor": "white",
           "linecolor": "white",
           "ticks": "",
           "title": {
            "standoff": 15
           },
           "zerolinecolor": "white",
           "zerolinewidth": 2
          },
          "yaxis": {
           "automargin": true,
           "gridcolor": "white",
           "linecolor": "white",
           "ticks": "",
           "title": {
            "standoff": 15
           },
           "zerolinecolor": "white",
           "zerolinewidth": 2
          }
         }
        },
        "title": {
         "text": "Number of FRAUD transactions by hours of day"
        },
        "xaxis": {
         "anchor": "y",
         "domain": [
          0,
          1
         ],
         "title": {
          "text": "hour_of_day"
         },
         "type": "category"
        },
        "yaxis": {
         "anchor": "x",
         "domain": [
          0,
          1
         ],
         "title": {
          "text": "Number of transaction"
         }
        }
       }
      }
     },
     "metadata": {},
     "output_type": "display_data"
    }
   ],
   "source": [
    "df_ = df_train[df_train.is_fraud==1].groupby(by='hour_of_day').agg({'transaction_id':'count'}).reset_index()\n",
    "\n",
    "fig = px.bar(data_frame=df_,\n",
    "       x='hour_of_day',\n",
    "       y='transaction_id',\n",
    "       labels={'transaction_id':'Number of transaction'})\n",
    "\n",
    "fig.update_layout(\n",
    "    title=dict(\n",
    "        text='Number of FRAUD transactions by hours of day'\n",
    "    ),\n",
    "    plot_bgcolor='#fafafa'\n",
    ")\n",
    "\n",
    "fig.update_xaxes(type='category')"
   ]
  },
  {
   "cell_type": "code",
   "execution_count": null,
   "metadata": {},
   "outputs": [],
   "source": [
    "# The correlations of each variable were checked."
   ]
  },
  {
   "cell_type": "code",
   "execution_count": null,
   "metadata": {},
   "outputs": [
    {
     "name": "stderr",
     "output_type": "stream",
     "text": [
      "/var/folders/1p/27jszvps12x14r9hnwf07w240000gn/T/ipykernel_90998/60512005.py:3: FutureWarning:\n",
      "\n",
      "The default value of numeric_only in DataFrame.corr is deprecated. In a future version, it will default to False. Select only valid columns or specify the value of numeric_only to silence this warning.\n",
      "\n",
      "/var/folders/1p/27jszvps12x14r9hnwf07w240000gn/T/ipykernel_90998/60512005.py:4: FutureWarning:\n",
      "\n",
      "The default value of numeric_only in DataFrame.corr is deprecated. In a future version, it will default to False. Select only valid columns or specify the value of numeric_only to silence this warning.\n",
      "\n"
     ]
    },
    {
     "data": {
      "text/plain": [
       "<AxesSubplot: >"
      ]
     },
     "execution_count": 32,
     "metadata": {},
     "output_type": "execute_result"
    },
    {
     "data": {
      "image/png": "[encoded data removed]",
      "text/plain": [
       "<Figure size 1800x900 with 2 Axes>"
      ]
     },
     "metadata": {},
     "output_type": "display_data"
    }
   ],
   "source": [
    "%matplotlib inline\n",
    "fig = plt.figure(figsize = (18,9))\n",
    "mask = np.triu(np.ones_like(df_train.corr()))\n",
    "sns.heatmap(df_train.corr(), mask = mask, cmap = 'coolwarm', annot = True)"
   ]
  }
 ],
 "metadata": {
  "kernelspec": {
   "display_name": "Python 3",
   "language": "python",
   "name": "python3"
  },
  "language_info": {
   "codemirror_mode": {
    "name": "ipython",
    "version": 3
   },
   "file_extension": ".py",
   "mimetype": "text/x-python",
   "name": "python",
   "nbconvert_exporter": "python",
   "pygments_lexer": "ipython3",
   "version": "3.11.2"
  },
  "orig_nbformat": 4,
  "vscode": {
   "interpreter": {
    "hash": "31f2aee4e71d21fbe5cf8b01ff0e069b9275f58929596ceb00d14d90e3e16cd6"
   }
  }
 },
 "nbformat": 4,
 "nbformat_minor": 2
}
