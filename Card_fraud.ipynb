{
 "cells": [
  {
   "cell_type": "code",
   "execution_count": 1,
   "metadata": {},
   "outputs": [],
   "source": [
    "#               __  ___  _      __                ___              _     ___                    _      ___     _            _   _             \n",
    "#              /__\\/   \\/_\\    / _| ___  _ __    / __\\__ _ _ __ __| |   / __\\ __ __ _ _   _  __| |    /   \\___| |_ ___  ___| |_(_) ___  _ __  \n",
    "#             /_\\ / /\\ //_\\\\  | |_ / _ \\| '__|  / /  / _` | '__/ _` |  / _\\| '__/ _` | | | |/ _` |   / /\\ / _ \\ __/ _ \\/ __| __| |/ _ \\| '_ \\ \n",
    "#            //__/ /_//  _  \\ |  _| (_) | |    / /__| (_| | | | (_| | / /  | | | (_| | |_| | (_| |  / /_//  __/ ||  __/ (__| |_| | (_) | | | |\n",
    "#            \\__/___,'\\_/ \\_/ |_|  \\___/|_|    \\____/\\__,_|_|  \\__,_| \\/   |_|  \\__,_|\\__,_|\\__,_| /___,' \\___|\\__\\___|\\___|\\__|_|\\___/|_| |_|"
   ]
  },
  {
   "attachments": {},
   "cell_type": "markdown",
   "metadata": {},
   "source": [
    "Credit Card Fraud Detection is a classic class-imbalance problem where the number of fraud transactions is much lesser than the number of legitimate transaction for any bank. Most of the approaches involve building model on such imbalanced data, and thus fails to produce results on real-time new data because of overfitting on training data and a bias towards the majoritarian class of legitimate transactions. Thus, we can see this as an anomaly detection problem.\n",
    "\n",
    "1. What time does the Credit Card Frauds usually take place?\n",
    "2. What are the general trends of amounts for Credit Card Fraud Transactions?\n",
    "3. How do we balance the data to not let the model overfit on legitimate transactions?"
   ]
  },
  {
   "cell_type": "code",
   "execution_count": 2,
   "metadata": {},
   "outputs": [],
   "source": [
    "# Libraries are imported.\n",
    "from matplotlib import pyplot as plt\n",
    "from datetime import datetime\n",
    "import plotly.express as px\n",
    "import seaborn as sns\n",
    "import pandas as pd\n",
    "import numpy as np"
   ]
  },
  {
   "cell_type": "code",
   "execution_count": 3,
   "metadata": {},
   "outputs": [],
   "source": [
    "# -------------------------------------------------------------------------------------------------------------------------------------------------\n",
    "# -------------------------------------------------------------------> Data pre-processing <-------------------------------------------------------\n",
    "# -------------------------------------------------------------------------------------------------------------------------------------------------"
   ]
  },
  {
   "cell_type": "code",
   "execution_count": 4,
   "metadata": {},
   "outputs": [],
   "source": [
    "# Reading the dataset.\n",
    "df_train = pd.read_csv('/Volumes/ALEJANDRO/S.E./Credit-Card-Fraud-Detection/Datasets/training.csv')\n",
    "# The column with the index number is being deleted.\n",
    "df_train.drop(df_train.columns[0], axis = 1, inplace = True)"
   ]
  },
  {
   "cell_type": "code",
   "execution_count": 5,
   "metadata": {},
   "outputs": [
    {
     "name": "stdout",
     "output_type": "stream",
     "text": [
      "  trans_date_trans_time               cc_num  \\\n",
      "0   2019-08-08 06:53:43  4503101193493052864   \n",
      "1   2020-03-04 01:33:46        4198470814557   \n",
      "2   2019-12-20 08:16:46     3560318482131952   \n",
      "3   2019-09-08 16:13:21     4683520018489354   \n",
      "4   2019-12-13 11:27:09      377993105397617   \n",
      "5   2020-08-11 08:20:16      345389171551808   \n",
      "6   2020-03-05 19:39:47      371034293500716   \n",
      "7   2019-10-31 16:39:47     4610050989831291   \n",
      "8   2019-05-26 12:43:25     4509142395811241   \n",
      "9   2020-12-18 06:29:16      372246459334925   \n",
      "\n",
      "                                      merchant        category     amt  \\\n",
      "0                       fraud_Bahringer-Larson     grocery_net   46.65   \n",
      "1                              fraud_Brown PLC        misc_net  873.73   \n",
      "2                        fraud_Cummerata-Jones   gas_transport   75.98   \n",
      "3                             fraud_Fisher Inc    shopping_net    4.70   \n",
      "4  fraud_Christiansen, Goyette and Schamberger   gas_transport   72.31   \n",
      "5                              fraud_Kling Inc   gas_transport   74.92   \n",
      "6                      fraud_Champlin and Sons            home    8.00   \n",
      "7                          fraud_Daugherty LLC       kids_pets   50.87   \n",
      "8                          fraud_Fadel-Hilpert  health_fitness   28.30   \n",
      "9                        fraud_Brekke and Sons   gas_transport   52.05   \n",
      "\n",
      "       first        last gender                           street  \\\n",
      "0  Katherine      Tucker      F         670 Le Meadows Suite 250   \n",
      "1   Christie  Williamson      F                  519 Jerry Views   \n",
      "2    William     Skinner      M           524 Wu Spurs Suite 894   \n",
      "3    Charles    Carrillo      M  17547 Stephen Turnpike Apt. 846   \n",
      "4     Nathan    Martinez      M                586 Thomas Cliffs   \n",
      "5     Justin      Fowler      M      5569 Phillips Neck Apt. 003   \n",
      "6     Jeremy       Jones      M                5758 Yates Center   \n",
      "7      James       Lynch      M        5155 Mary Common Apt. 927   \n",
      "8   Margaret    Williams      F      165 Jerry Meadows Suite 460   \n",
      "9       Rick    Martinez      M        062 Poole Hollow Apt. 815   \n",
      "\n",
      "           city  ...      lat      long  city_pop  \\\n",
      "0      Lakeland  ...  27.9865  -82.0139    237282   \n",
      "1         Avoca  ...  41.4768  -95.3509      2036   \n",
      "2    Mount Hope  ...  34.4793  -87.4769      1312   \n",
      "3     Hawthorne  ...  33.9143 -118.3493     93193   \n",
      "4  Oconto Falls  ...  44.8755  -88.1555      5548   \n",
      "5   Coffeeville  ...  33.9215  -89.6782      3451   \n",
      "6        Vinton  ...  40.0235 -120.7986       128   \n",
      "7         Utica  ...  41.4798  -79.9403      1102   \n",
      "8      Surrency  ...  31.6489  -82.1982      1324   \n",
      "9      Deadwood  ...  44.3566 -103.6999      1979   \n",
      "\n",
      "                             job         dob  \\\n",
      "0  Clothing/textile technologist  1979-07-03   \n",
      "1          Engineering geologist  1971-08-20   \n",
      "2            Librarian, academic  1955-02-01   \n",
      "3      Editor, magazine features  1995-04-19   \n",
      "4                Mining engineer  1975-09-11   \n",
      "5               Financial trader  1984-05-19   \n",
      "6        Education administrator  1966-02-21   \n",
      "7   Garment/textile technologist  1989-07-08   \n",
      "8      Engineer, technical sales  1926-07-12   \n",
      "9          Multimedia programmer  1970-03-13   \n",
      "\n",
      "                          trans_num   unix_time  merch_lat  merch_long  \\\n",
      "0  6996df91c261a5998edbe311c6eb8992  1344408823  27.637707  -82.200919   \n",
      "1  a426e95b8941aef42c9233656c2fe041  1362360826  41.922502  -94.562264   \n",
      "2  63690ef05981fe4529be2e9536fcb2cd  1355991406  34.363867  -88.288125   \n",
      "3  60a7ef07077ff0102944a96263526f54  1347120801  33.803475 -119.016000   \n",
      "4  3e3137de922050aa948b996f4fbe5644  1355398029  45.714717  -87.744602   \n",
      "5  ae6c2e48baf231cd2ae2b1dc91576ed9  1376209216  33.298929  -90.443014   \n",
      "6  120f27e43d5ad6c06855989caf186f9d  1362512387  39.440880 -121.164308   \n",
      "7  13579513661c1c0ccecb48c9beb8f8fe  1351701587  42.234359  -80.811821   \n",
      "8  4223cf883221eb12f28af0f2416bc43a  1338036205  31.404961  -82.026677   \n",
      "9  466ffa4a8c2ca7defbc5b925a488a721  1387348156  44.080348 -104.346749   \n",
      "\n",
      "   is_fraud  \n",
      "0         0  \n",
      "1         1  \n",
      "2         0  \n",
      "3         0  \n",
      "4         0  \n",
      "5         0  \n",
      "6         0  \n",
      "7         0  \n",
      "8         0  \n",
      "9         0  \n",
      "\n",
      "[10 rows x 22 columns]\n"
     ]
    }
   ],
   "source": [
    "# The first 10 rows were printed.\n",
    "print(df_train.head(10))"
   ]
  },
  {
   "cell_type": "code",
   "execution_count": 6,
   "metadata": {},
   "outputs": [
    {
     "name": "stdout",
     "output_type": "stream",
     "text": [
      "Index(['trans_date_trans_time', 'cc_num', 'merchant', 'category', 'amt',\n",
      "       'first', 'last', 'gender', 'street', 'city', 'state', 'zip', 'lat',\n",
      "       'long', 'city_pop', 'job', 'dob', 'trans_num', 'unix_time', 'merch_lat',\n",
      "       'merch_long', 'is_fraud'],\n",
      "      dtype='object')\n"
     ]
    }
   ],
   "source": [
    "# The columns were printed.\n",
    "print(df_train.columns)"
   ]
  },
  {
   "cell_type": "code",
   "execution_count": 7,
   "metadata": {},
   "outputs": [
    {
     "name": "stdout",
     "output_type": "stream",
     "text": [
      "Duplicated values dropped successfully\n"
     ]
    }
   ],
   "source": [
    "# First it is necessary to drop all the duplicate values. Although, the shell script is in charge of that.\n",
    "df_train = df_train.copy()\n",
    "df_train.drop_duplicates(inplace = True)\n",
    "print(\"Duplicated values dropped successfully\")"
   ]
  },
  {
   "cell_type": "code",
   "execution_count": 8,
   "metadata": {},
   "outputs": [],
   "source": [
    "# Some columns get renamed.\n",
    "df_train.rename(columns = {'trans_date_trans_time':'transaction_time',\n",
    "                         'cc_num':'credit_card_number',\n",
    "                         'amt':'amount(usd)',\n",
    "                         'trans_num':'transaction_id'},\n",
    "                inplace = True)"
   ]
  },
  {
   "cell_type": "code",
   "execution_count": 9,
   "metadata": {},
   "outputs": [],
   "source": [
    "# The datetime columns were converted.\n",
    "# transaction_time and dob should be in pd.datetime format and we also convert unix_time to exact timestamp\n",
    "df_train['transaction_time'] = pd.to_datetime(df_train['transaction_time'], infer_datetime_format = True)\n",
    "df_train['dob'] = pd.to_datetime(df_train['dob'], infer_datetime_format = True)"
   ]
  },
  {
   "cell_type": "code",
   "execution_count": 10,
   "metadata": {},
   "outputs": [],
   "source": [
    "# A function was applied utcfromtimestamp and was dropped column unix_time\n",
    "df_train['time'] = df_train['unix_time'].apply(datetime.utcfromtimestamp)\n",
    "df_train.drop('unix_time', axis=1)\n",
    "# A column with hour of day was added.\n",
    "df_train['hour_of_day'] = df_train.time.dt.hour"
   ]
  },
  {
   "cell_type": "code",
   "execution_count": 16,
   "metadata": {},
   "outputs": [
    {
     "name": "stdout",
     "output_type": "stream",
     "text": [
      "<class 'pandas.core.frame.DataFrame'>\n",
      "Int64Index: 1481915 entries, 0 to 1481914\n",
      "Data columns (total 24 columns):\n",
      " #   Column              Non-Null Count    Dtype         \n",
      "---  ------              --------------    -----         \n",
      " 0   transaction_time    1481915 non-null  datetime64[ns]\n",
      " 1   credit_card_number  1481915 non-null  category      \n",
      " 2   merchant            1481915 non-null  object        \n",
      " 3   category            1481915 non-null  object        \n",
      " 4   amount(usd)         1481915 non-null  float64       \n",
      " 5   first               1481915 non-null  object        \n",
      " 6   last                1481915 non-null  object        \n",
      " 7   gender              1481915 non-null  object        \n",
      " 8   street              1481915 non-null  object        \n",
      " 9   city                1481915 non-null  object        \n",
      " 10  state               1481915 non-null  object        \n",
      " 11  zip                 1481915 non-null  int64         \n",
      " 12  lat                 1481915 non-null  float64       \n",
      " 13  long                1481915 non-null  float64       \n",
      " 14  city_pop            1481915 non-null  int64         \n",
      " 15  job                 1481915 non-null  object        \n",
      " 16  dob                 1481915 non-null  datetime64[ns]\n",
      " 17  transaction_id      1481915 non-null  object        \n",
      " 18  unix_time           1481915 non-null  int64         \n",
      " 19  merch_lat           1481915 non-null  float64       \n",
      " 20  merch_long          1481915 non-null  float64       \n",
      " 21  is_fraud            1481915 non-null  category      \n",
      " 22  time                1481915 non-null  datetime64[ns]\n",
      " 23  hour_of_day         1481915 non-null  category      \n",
      "dtypes: category(3), datetime64[ns](3), float64(5), int64(3), object(10)\n",
      "memory usage: 254.4+ MB\n"
     ]
    }
   ],
   "source": [
    "# Credit card number should be integers not dtypes.\n",
    "# Change dtypes\n",
    "df_train.credit_card_number = df_train.credit_card_number.astype('category')\n",
    "df_train.is_fraud = df_train.is_fraud.astype('category')\n",
    "df_train.hour_of_day = df_train.hour_of_day.astype('category')\n",
    "# Check\n",
    "df_train.info()"
   ]
  },
  {
   "cell_type": "code",
   "execution_count": null,
   "metadata": {},
   "outputs": [],
   "source": [
    "# -------------------------------------------------------------------------------------------------------------------------------------------------\n",
    "# -------------------------------------------------------------------> End or data preprocessing <-------------------------------------------------\n",
    "# -------------------------------------------------------------------------------------------------------------------------------------------------"
   ]
  },
  {
   "cell_type": "code",
   "execution_count": 11,
   "metadata": {},
   "outputs": [],
   "source": [
    "# -------------------------------------------------------------------------------------------------------------------------------------------------\n",
    "# ------------------------------------------------------------------> Unbalanced data check <------------------------------------------------------\n",
    "# -------------------------------------------------------------------------------------------------------------------------------------------------"
   ]
  },
  {
   "cell_type": "code",
   "execution_count": 12,
   "metadata": {},
   "outputs": [
    {
     "data": {
      "text/plain": [
       "0    1474189\n",
       "1       7726\n",
       "Name: is_fraud, dtype: int64"
      ]
     },
     "execution_count": 12,
     "metadata": {},
     "output_type": "execute_result"
    }
   ],
   "source": [
    "# The  number of classes got counted, in this case, fraudulent or not.\n",
    "df_train['is_fraud'].value_counts()"
   ]
  },
  {
   "cell_type": "code",
   "execution_count": 13,
   "metadata": {},
   "outputs": [
    {
     "data": {
      "application/vnd.plotly.v1+json": {
       "config": {
        "plotlyServerURL": "https://plot.ly"
       },
       "data": [
        {
         "domain": {
          "x": [
           0,
           1
          ],
          "y": [
           0,
           1
          ]
         },
         "hovertemplate": "label=%{label}<br>value=%{value}<extra></extra>",
         "labels": [
          "Genuine",
          "Fraud"
         ],
         "legendgroup": "",
         "name": "",
         "showlegend": true,
         "type": "pie",
         "values": [
          1474189,
          7726
         ]
        }
       ],
       "layout": {
        "height": 400,
        "legend": {
         "tracegroupgap": 0
        },
        "piecolorway": [
         "skyblue",
         "black"
        ],
        "template": {
         "data": {
          "bar": [
           {
            "error_x": {
             "color": "#2a3f5f"
            },
            "error_y": {
             "color": "#2a3f5f"
            },
            "marker": {
             "line": {
              "color": "#E5ECF6",
              "width": 0.5
             },
             "pattern": {
              "fillmode": "overlay",
              "size": 10,
              "solidity": 0.2
             }
            },
            "type": "bar"
           }
          ],
          "barpolar": [
           {
            "marker": {
             "line": {
              "color": "#E5ECF6",
              "width": 0.5
             },
             "pattern": {
              "fillmode": "overlay",
              "size": 10,
              "solidity": 0.2
             }
            },
            "type": "barpolar"
           }
          ],
          "carpet": [
           {
            "aaxis": {
             "endlinecolor": "#2a3f5f",
             "gridcolor": "white",
             "linecolor": "white",
             "minorgridcolor": "white",
             "startlinecolor": "#2a3f5f"
            },
            "baxis": {
             "endlinecolor": "#2a3f5f",
             "gridcolor": "white",
             "linecolor": "white",
             "minorgridcolor": "white",
             "startlinecolor": "#2a3f5f"
            },
            "type": "carpet"
           }
          ],
          "choropleth": [
           {
            "colorbar": {
             "outlinewidth": 0,
             "ticks": ""
            },
            "type": "choropleth"
           }
          ],
          "contour": [
           {
            "colorbar": {
             "outlinewidth": 0,
             "ticks": ""
            },
            "colorscale": [
             [
              0,
              "#0d0887"
             ],
             [
              0.1111111111111111,
              "#46039f"
             ],
             [
              0.2222222222222222,
              "#7201a8"
             ],
             [
              0.3333333333333333,
              "#9c179e"
             ],
             [
              0.4444444444444444,
              "#bd3786"
             ],
             [
              0.5555555555555556,
              "#d8576b"
             ],
             [
              0.6666666666666666,
              "#ed7953"
             ],
             [
              0.7777777777777778,
              "#fb9f3a"
             ],
             [
              0.8888888888888888,
              "#fdca26"
             ],
             [
              1,
              "#f0f921"
             ]
            ],
            "type": "contour"
           }
          ],
          "contourcarpet": [
           {
            "colorbar": {
             "outlinewidth": 0,
             "ticks": ""
            },
            "type": "contourcarpet"
           }
          ],
          "heatmap": [
           {
            "colorbar": {
             "outlinewidth": 0,
             "ticks": ""
            },
            "colorscale": [
             [
              0,
              "#0d0887"
             ],
             [
              0.1111111111111111,
              "#46039f"
             ],
             [
              0.2222222222222222,
              "#7201a8"
             ],
             [
              0.3333333333333333,
              "#9c179e"
             ],
             [
              0.4444444444444444,
              "#bd3786"
             ],
             [
              0.5555555555555556,
              "#d8576b"
             ],
             [
              0.6666666666666666,
              "#ed7953"
             ],
             [
              0.7777777777777778,
              "#fb9f3a"
             ],
             [
              0.8888888888888888,
              "#fdca26"
             ],
             [
              1,
              "#f0f921"
             ]
            ],
            "type": "heatmap"
           }
          ],
          "heatmapgl": [
           {
            "colorbar": {
             "outlinewidth": 0,
             "ticks": ""
            },
            "colorscale": [
             [
              0,
              "#0d0887"
             ],
             [
              0.1111111111111111,
              "#46039f"
             ],
             [
              0.2222222222222222,
              "#7201a8"
             ],
             [
              0.3333333333333333,
              "#9c179e"
             ],
             [
              0.4444444444444444,
              "#bd3786"
             ],
             [
              0.5555555555555556,
              "#d8576b"
             ],
             [
              0.6666666666666666,
              "#ed7953"
             ],
             [
              0.7777777777777778,
              "#fb9f3a"
             ],
             [
              0.8888888888888888,
              "#fdca26"
             ],
             [
              1,
              "#f0f921"
             ]
            ],
            "type": "heatmapgl"
           }
          ],
          "histogram": [
           {
            "marker": {
             "pattern": {
              "fillmode": "overlay",
              "size": 10,
              "solidity": 0.2
             }
            },
            "type": "histogram"
           }
          ],
          "histogram2d": [
           {
            "colorbar": {
             "outlinewidth": 0,
             "ticks": ""
            },
            "colorscale": [
             [
              0,
              "#0d0887"
             ],
             [
              0.1111111111111111,
              "#46039f"
             ],
             [
              0.2222222222222222,
              "#7201a8"
             ],
             [
              0.3333333333333333,
              "#9c179e"
             ],
             [
              0.4444444444444444,
              "#bd3786"
             ],
             [
              0.5555555555555556,
              "#d8576b"
             ],
             [
              0.6666666666666666,
              "#ed7953"
             ],
             [
              0.7777777777777778,
              "#fb9f3a"
             ],
             [
              0.8888888888888888,
              "#fdca26"
             ],
             [
              1,
              "#f0f921"
             ]
            ],
            "type": "histogram2d"
           }
          ],
          "histogram2dcontour": [
           {
            "colorbar": {
             "outlinewidth": 0,
             "ticks": ""
            },
            "colorscale": [
             [
              0,
              "#0d0887"
             ],
             [
              0.1111111111111111,
              "#46039f"
             ],
             [
              0.2222222222222222,
              "#7201a8"
             ],
             [
              0.3333333333333333,
              "#9c179e"
             ],
             [
              0.4444444444444444,
              "#bd3786"
             ],
             [
              0.5555555555555556,
              "#d8576b"
             ],
             [
              0.6666666666666666,
              "#ed7953"
             ],
             [
              0.7777777777777778,
              "#fb9f3a"
             ],
             [
              0.8888888888888888,
              "#fdca26"
             ],
             [
              1,
              "#f0f921"
             ]
            ],
            "type": "histogram2dcontour"
           }
          ],
          "mesh3d": [
           {
            "colorbar": {
             "outlinewidth": 0,
             "ticks": ""
            },
            "type": "mesh3d"
           }
          ],
          "parcoords": [
           {
            "line": {
             "colorbar": {
              "outlinewidth": 0,
              "ticks": ""
             }
            },
            "type": "parcoords"
           }
          ],
          "pie": [
           {
            "automargin": true,
            "type": "pie"
           }
          ],
          "scatter": [
           {
            "fillpattern": {
             "fillmode": "overlay",
             "size": 10,
             "solidity": 0.2
            },
            "type": "scatter"
           }
          ],
          "scatter3d": [
           {
            "line": {
             "colorbar": {
              "outlinewidth": 0,
              "ticks": ""
             }
            },
            "marker": {
             "colorbar": {
              "outlinewidth": 0,
              "ticks": ""
             }
            },
            "type": "scatter3d"
           }
          ],
          "scattercarpet": [
           {
            "marker": {
             "colorbar": {
              "outlinewidth": 0,
              "ticks": ""
             }
            },
            "type": "scattercarpet"
           }
          ],
          "scattergeo": [
           {
            "marker": {
             "colorbar": {
              "outlinewidth": 0,
              "ticks": ""
             }
            },
            "type": "scattergeo"
           }
          ],
          "scattergl": [
           {
            "marker": {
             "colorbar": {
              "outlinewidth": 0,
              "ticks": ""
             }
            },
            "type": "scattergl"
           }
          ],
          "scattermapbox": [
           {
            "marker": {
             "colorbar": {
              "outlinewidth": 0,
              "ticks": ""
             }
            },
            "type": "scattermapbox"
           }
          ],
          "scatterpolar": [
           {
            "marker": {
             "colorbar": {
              "outlinewidth": 0,
              "ticks": ""
             }
            },
            "type": "scatterpolar"
           }
          ],
          "scatterpolargl": [
           {
            "marker": {
             "colorbar": {
              "outlinewidth": 0,
              "ticks": ""
             }
            },
            "type": "scatterpolargl"
           }
          ],
          "scatterternary": [
           {
            "marker": {
             "colorbar": {
              "outlinewidth": 0,
              "ticks": ""
             }
            },
            "type": "scatterternary"
           }
          ],
          "surface": [
           {
            "colorbar": {
             "outlinewidth": 0,
             "ticks": ""
            },
            "colorscale": [
             [
              0,
              "#0d0887"
             ],
             [
              0.1111111111111111,
              "#46039f"
             ],
             [
              0.2222222222222222,
              "#7201a8"
             ],
             [
              0.3333333333333333,
              "#9c179e"
             ],
             [
              0.4444444444444444,
              "#bd3786"
             ],
             [
              0.5555555555555556,
              "#d8576b"
             ],
             [
              0.6666666666666666,
              "#ed7953"
             ],
             [
              0.7777777777777778,
              "#fb9f3a"
             ],
             [
              0.8888888888888888,
              "#fdca26"
             ],
             [
              1,
              "#f0f921"
             ]
            ],
            "type": "surface"
           }
          ],
          "table": [
           {
            "cells": {
             "fill": {
              "color": "#EBF0F8"
             },
             "line": {
              "color": "white"
             }
            },
            "header": {
             "fill": {
              "color": "#C8D4E3"
             },
             "line": {
              "color": "white"
             }
            },
            "type": "table"
           }
          ]
         },
         "layout": {
          "annotationdefaults": {
           "arrowcolor": "#2a3f5f",
           "arrowhead": 0,
           "arrowwidth": 1
          },
          "autotypenumbers": "strict",
          "coloraxis": {
           "colorbar": {
            "outlinewidth": 0,
            "ticks": ""
           }
          },
          "colorscale": {
           "diverging": [
            [
             0,
             "#8e0152"
            ],
            [
             0.1,
             "#c51b7d"
            ],
            [
             0.2,
             "#de77ae"
            ],
            [
             0.3,
             "#f1b6da"
            ],
            [
             0.4,
             "#fde0ef"
            ],
            [
             0.5,
             "#f7f7f7"
            ],
            [
             0.6,
             "#e6f5d0"
            ],
            [
             0.7,
             "#b8e186"
            ],
            [
             0.8,
             "#7fbc41"
            ],
            [
             0.9,
             "#4d9221"
            ],
            [
             1,
             "#276419"
            ]
           ],
           "sequential": [
            [
             0,
             "#0d0887"
            ],
            [
             0.1111111111111111,
             "#46039f"
            ],
            [
             0.2222222222222222,
             "#7201a8"
            ],
            [
             0.3333333333333333,
             "#9c179e"
            ],
            [
             0.4444444444444444,
             "#bd3786"
            ],
            [
             0.5555555555555556,
             "#d8576b"
            ],
            [
             0.6666666666666666,
             "#ed7953"
            ],
            [
             0.7777777777777778,
             "#fb9f3a"
            ],
            [
             0.8888888888888888,
             "#fdca26"
            ],
            [
             1,
             "#f0f921"
            ]
           ],
           "sequentialminus": [
            [
             0,
             "#0d0887"
            ],
            [
             0.1111111111111111,
             "#46039f"
            ],
            [
             0.2222222222222222,
             "#7201a8"
            ],
            [
             0.3333333333333333,
             "#9c179e"
            ],
            [
             0.4444444444444444,
             "#bd3786"
            ],
            [
             0.5555555555555556,
             "#d8576b"
            ],
            [
             0.6666666666666666,
             "#ed7953"
            ],
            [
             0.7777777777777778,
             "#fb9f3a"
            ],
            [
             0.8888888888888888,
             "#fdca26"
            ],
            [
             1,
             "#f0f921"
            ]
           ]
          },
          "colorway": [
           "#636efa",
           "#EF553B",
           "#00cc96",
           "#ab63fa",
           "#FFA15A",
           "#19d3f3",
           "#FF6692",
           "#B6E880",
           "#FF97FF",
           "#FECB52"
          ],
          "font": {
           "color": "#2a3f5f"
          },
          "geo": {
           "bgcolor": "white",
           "lakecolor": "white",
           "landcolor": "#E5ECF6",
           "showlakes": true,
           "showland": true,
           "subunitcolor": "white"
          },
          "hoverlabel": {
           "align": "left"
          },
          "hovermode": "closest",
          "mapbox": {
           "style": "light"
          },
          "paper_bgcolor": "white",
          "plot_bgcolor": "#E5ECF6",
          "polar": {
           "angularaxis": {
            "gridcolor": "white",
            "linecolor": "white",
            "ticks": ""
           },
           "bgcolor": "#E5ECF6",
           "radialaxis": {
            "gridcolor": "white",
            "linecolor": "white",
            "ticks": ""
           }
          },
          "scene": {
           "xaxis": {
            "backgroundcolor": "#E5ECF6",
            "gridcolor": "white",
            "gridwidth": 2,
            "linecolor": "white",
            "showbackground": true,
            "ticks": "",
            "zerolinecolor": "white"
           },
           "yaxis": {
            "backgroundcolor": "#E5ECF6",
            "gridcolor": "white",
            "gridwidth": 2,
            "linecolor": "white",
            "showbackground": true,
            "ticks": "",
            "zerolinecolor": "white"
           },
           "zaxis": {
            "backgroundcolor": "#E5ECF6",
            "gridcolor": "white",
            "gridwidth": 2,
            "linecolor": "white",
            "showbackground": true,
            "ticks": "",
            "zerolinecolor": "white"
           }
          },
          "shapedefaults": {
           "line": {
            "color": "#2a3f5f"
           }
          },
          "ternary": {
           "aaxis": {
            "gridcolor": "white",
            "linecolor": "white",
            "ticks": ""
           },
           "baxis": {
            "gridcolor": "white",
            "linecolor": "white",
            "ticks": ""
           },
           "bgcolor": "#E5ECF6",
           "caxis": {
            "gridcolor": "white",
            "linecolor": "white",
            "ticks": ""
           }
          },
          "title": {
           "x": 0.05
          },
          "xaxis": {
           "automargin": true,
           "gridcolor": "white",
           "linecolor": "white",
           "ticks": "",
           "title": {
            "standoff": 15
           },
           "zerolinecolor": "white",
           "zerolinewidth": 2
          },
          "yaxis": {
           "automargin": true,
           "gridcolor": "white",
           "linecolor": "white",
           "ticks": "",
           "title": {
            "standoff": 15
           },
           "zerolinecolor": "white",
           "zerolinewidth": 2
          }
         }
        },
        "title": {
         "text": "Fraud vs Genuine transactions"
        },
        "width": 700
       }
      }
     },
     "metadata": {},
     "output_type": "display_data"
    }
   ],
   "source": [
    "# Labeling the data in genuine and fraudulent transactions, this way it is easier to observe that the data is unbalanced.\n",
    "labels=[\"Genuine\", \"Fraud\"]\n",
    "fraud_or_not = df_train['is_fraud'].value_counts().tolist()\n",
    "values = [fraud_or_not[0], fraud_or_not[1]]\n",
    "# Plotting the values.\n",
    "fig = px.pie(values = df_train['is_fraud'].value_counts(), names = labels , width = 700, height = 400, color_discrete_sequence = [\"skyblue\", \"black\"]\n",
    "             ,title = \"Fraud vs Genuine transactions\")\n",
    "fig.show()"
   ]
  },
  {
   "cell_type": "code",
   "execution_count": 14,
   "metadata": {},
   "outputs": [
    {
     "data": {
      "image/png": "[encoded data removed]",
      "text/plain": [
       "<Figure size 300x400 with 1 Axes>"
      ]
     },
     "metadata": {},
     "output_type": "display_data"
    }
   ],
   "source": [
    "# Unbalance data represented with bars.\n",
    "plt.figure(figsize = (3,4))\n",
    "ax = sns.countplot(x = 'is_fraud', data = df_train, palette = \"pastel\")\n",
    "for i in ax.containers:\n",
    "    ax.bar_label(i,)"
   ]
  },
  {
   "cell_type": "code",
   "execution_count": 15,
   "metadata": {},
   "outputs": [
    {
     "name": "stdout",
     "output_type": "stream",
     "text": [
      "Genuine transactions: 99.48 % of the dataset\n",
      "Fraudulent transactions: 0.52 % of the dataset\n"
     ]
    }
   ],
   "source": [
    "# Percentage of data.\n",
    "print('Genuine transactions:', round(df_train['is_fraud'].value_counts()[0]/len(df_train) * 100,2), '% of the dataset')\n",
    "print('Fraudulent transactions:', round(df_train['is_fraud'].value_counts()[1]/len(df_train) * 100,2), '% of the dataset')"
   ]
  }
 ],
 "metadata": {
  "kernelspec": {
   "display_name": "Python 3",
   "language": "python",
   "name": "python3"
  },
  "language_info": {
   "codemirror_mode": {
    "name": "ipython",
    "version": 3
   },
   "file_extension": ".py",
   "mimetype": "text/x-python",
   "name": "python",
   "nbconvert_exporter": "python",
   "pygments_lexer": "ipython3",
   "version": "3.9.6"
  },
  "orig_nbformat": 4,
  "vscode": {
   "interpreter": {
    "hash": "31f2aee4e71d21fbe5cf8b01ff0e069b9275f58929596ceb00d14d90e3e16cd6"
   }
  }
 },
 "nbformat": 4,
 "nbformat_minor": 2
}
