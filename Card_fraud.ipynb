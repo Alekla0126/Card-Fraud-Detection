{
 "cells": [
  {
   "cell_type": "code",
   "execution_count": 5,
   "metadata": {},
   "outputs": [],
   "source": [
    "#               __  ___  _      __                ___              _     ___                    _      ___     _            _   _             \n",
    "#              /__\\/   \\/_\\    / _| ___  _ __    / __\\__ _ _ __ __| |   / __\\ __ __ _ _   _  __| |    /   \\___| |_ ___  ___| |_(_) ___  _ __  \n",
    "#             /_\\ / /\\ //_\\\\  | |_ / _ \\| '__|  / /  / _` | '__/ _` |  / _\\| '__/ _` | | | |/ _` |   / /\\ / _ \\ __/ _ \\/ __| __| |/ _ \\| '_ \\ \n",
    "#            //__/ /_//  _  \\ |  _| (_) | |    / /__| (_| | | | (_| | / /  | | | (_| | |_| | (_| |  / /_//  __/ ||  __/ (__| |_| | (_) | | | |\n",
    "#            \\__/___,'\\_/ \\_/ |_|  \\___/|_|    \\____/\\__,_|_|  \\__,_| \\/   |_|  \\__,_|\\__,_|\\__,_| /___,' \\___|\\__\\___|\\___|\\__|_|\\___/|_| |_|"
   ]
  },
  {
   "attachments": {},
   "cell_type": "markdown",
   "metadata": {},
   "source": [
    "Credit Card Fraud Detection is a classic class-imbalance problem where the number of fraud transactions is much lesser than the number of legitimate transaction for any bank. Most of the approaches involve building model on such imbalanced data, and thus fails to produce results on real-time new data because of overfitting on training data and a bias towards the majoritarian class of legitimate transactions. Thus, we can see this as an anomaly detection problem.\n",
    "\n",
    "1. What time does the Credit Card Frauds usually take place?\n",
    "2. What are the general trends of amounts for Credit Card Fraud Transactions?\n",
    "3. How do we balance the data to not let the model overfit on legitimate transactions?"
   ]
  },
  {
   "cell_type": "code",
   "execution_count": 6,
   "metadata": {},
   "outputs": [],
   "source": [
    "# Libraries are imported.\n",
    "import plotly.express as px\n",
    "import pandas as pd\n",
    "import numpy as np"
   ]
  },
  {
   "cell_type": "code",
   "execution_count": 7,
   "metadata": {},
   "outputs": [
    {
     "name": "stderr",
     "output_type": "stream",
     "text": [
      "/var/folders/1p/27jszvps12x14r9hnwf07w240000gn/T/ipykernel_53048/1586269619.py:2: DtypeWarning: Columns (2,5,12,13,14,15,19,20,21,22) have mixed types. Specify dtype option on import or set low_memory=False.\n",
      "  raw_df = pd.read_csv('/Volumes/ALEJANDRO/S.E./Credit-Card-Fraud-Detection/Datasets/fraudDataset.csv')\n"
     ]
    }
   ],
   "source": [
    "# Reading the dataset, dd is quicker.\n",
    "raw_df = pd.read_csv('/Volumes/ALEJANDRO/S.E./Credit-Card-Fraud-Detection/Datasets/fraudDataset.csv')"
   ]
  },
  {
   "cell_type": "code",
   "execution_count": 8,
   "metadata": {},
   "outputs": [
    {
     "name": "stdout",
     "output_type": "stream",
     "text": [
      "         Unnamed: 0 trans_date_trans_time               cc_num  \\\n",
      "0               0.0   2020-06-21 12:14:25     2291163933867244   \n",
      "1               1.0   2020-06-21 12:14:33     3573030041201292   \n",
      "2               2.0   2020-06-21 12:14:53     3598215285024754   \n",
      "3               3.0   2020-06-21 12:15:15     3591919803438423   \n",
      "4               4.0   2020-06-21 12:15:17     3526826139003047   \n",
      "...             ...                   ...                  ...   \n",
      "1852390   1296670.0   2020-06-21 12:12:08       30263540414123   \n",
      "1852391   1296671.0   2020-06-21 12:12:19     6011149206456997   \n",
      "1852392   1296672.0   2020-06-21 12:12:32     3514865930894695   \n",
      "1852393   1296673.0   2020-06-21 12:13:36     2720012583106919   \n",
      "1852394   1296674.0   2020-06-21 12:13:37  4292902571056973207   \n",
      "\n",
      "                                     merchant        category     amt  \\\n",
      "0                       fraud_Kirlin and Sons   personal_care    2.86   \n",
      "1                        fraud_Sporer-Keebler   personal_care   29.84   \n",
      "2        fraud_Swaniawski, Nitzsche and Welch  health_fitness   41.28   \n",
      "3                           fraud_Haley Group        misc_pos   60.05   \n",
      "4                       fraud_Johnston-Casper          travel    3.19   \n",
      "...                                       ...             ...     ...   \n",
      "1852390                     fraud_Reichel Inc   entertainment   15.56   \n",
      "1852391              fraud_Abernathy and Sons     food_dining    51.7   \n",
      "1852392                  fraud_Stiedemann Ltd     food_dining  105.93   \n",
      "1852393   fraud_Reinger, Weissnat and Strosin     food_dining    74.9   \n",
      "1852394   fraud_Langosh, Wintheiser and Hyatt     food_dining     4.3   \n",
      "\n",
      "               first       last gender                         street  ...  \\\n",
      "0               Jeff    Elliott      M              351 Darlene Green  ...   \n",
      "1             Joanne   Williams      F               3638 Marsh Union  ...   \n",
      "2             Ashley      Lopez      F           9333 Valentine Point  ...   \n",
      "3              Brian   Williams      M    32941 Krystal Mill Apt. 552  ...   \n",
      "4             Nathan     Massey      M       5783 Evan Roads Apt. 465  ...   \n",
      "...              ...        ...    ...                            ...  ...   \n",
      "1852390         Erik  Patterson      M       162 Jessica Row Apt. 072  ...   \n",
      "1852391      Jeffrey      White      M  8617 Holmes Terrace Suite 651  ...   \n",
      "1852392  Christopher  Castaneda      M     1632 Cohen Drive Suite 639  ...   \n",
      "1852393       Joseph     Murray      M           42933 Ryan Underpass  ...   \n",
      "1852394      Jeffrey      Smith      M           135 Joseph Mountains  ...   \n",
      "\n",
      "             lat      long city_pop                               job  \\\n",
      "0        33.9659  -80.9355   333497               Mechanical engineer   \n",
      "1        40.3207  -110.436      302            Sales professional, IT   \n",
      "2        40.6729  -73.5365    34496                 Librarian, public   \n",
      "3        28.5697  -80.8191    54767                      Set designer   \n",
      "4        44.2529   -85.017     1126                Furniture designer   \n",
      "...          ...       ...      ...                               ...   \n",
      "1852390  37.7175 -112.4777      258                      Geoscientist   \n",
      "1852391  39.2667  -77.5101      100  Production assistant, television   \n",
      "1852392  32.9396 -105.8189      899                   Naval architect   \n",
      "1852393  43.3526 -102.5411     1126             Volunteer coordinator   \n",
      "1852394  45.8433 -113.8748      218          Therapist, horticultural   \n",
      "\n",
      "                dob                         trans_num   unix_time  merch_lat  \\\n",
      "0        1968-03-19  2da90c7d74bd46a0caf3777415b3ebd3  1371816865  33.986391   \n",
      "1        1990-01-17  324cc204407e99f51b0d6ca0055005e7  1371816873  39.450498   \n",
      "2        1970-10-21  c81755dbbbea9d5c77f094348a7579be  1371816893   40.49581   \n",
      "3        1987-07-25  2159175b9efe66dc301f149d3d5abf8c  1371816915  28.812398   \n",
      "4        1955-07-06  57ff021bd3f328f8738bb535c302a31b  1371816917  44.959148   \n",
      "...             ...                               ...         ...        ...   \n",
      "1852390  1961-11-24  440b587732da4dc1a6395aba5fb41669  1371816728  36.841266   \n",
      "1852391  1979-12-11  278000d2e0d2277d1de2f890067dcc0a  1371816739  38.906881   \n",
      "1852392  1967-08-30  483f52fe67fabef353d552c1e662974c  1371816752  33.619513   \n",
      "1852393  1980-08-18  d667cdcbadaaed3da3f4020e83591c83  1371816816   42.78894   \n",
      "1852394  1995-08-16  8f7c8e4ab7f25875d753b422917c98c9  1371816817  46.565983   \n",
      "\n",
      "         merch_long is_fraud  \n",
      "0        -81.200714        0  \n",
      "1       -109.960431        0  \n",
      "2        -74.196111        0  \n",
      "3        -80.883061        0  \n",
      "4        -85.884734        0  \n",
      "...             ...      ...  \n",
      "1852390 -111.690765        0  \n",
      "1852391  -78.246528        0  \n",
      "1852392 -105.130529        0  \n",
      "1852393  -103.24116        0  \n",
      "1852394  -114.18611        0  \n",
      "\n",
      "[1852395 rows x 23 columns]\n"
     ]
    }
   ],
   "source": [
    "# The Dataset is printed.\n",
    "print(raw_df)"
   ]
  },
  {
   "cell_type": "code",
   "execution_count": 9,
   "metadata": {},
   "outputs": [
    {
     "ename": "ValueError",
     "evalue": "All arguments should have the same length. The length of argument `values` is 4, whereas the length of  previously-processed arguments ['names'] is 2",
     "output_type": "error",
     "traceback": [
      "\u001b[0;31m---------------------------------------------------------------------------\u001b[0m",
      "\u001b[0;31mValueError\u001b[0m                                Traceback (most recent call last)",
      "Cell \u001b[0;32mIn[9], line 6\u001b[0m\n\u001b[1;32m      4\u001b[0m values \u001b[39m=\u001b[39m [fraud_or_not[\u001b[39m0\u001b[39m], fraud_or_not[\u001b[39m1\u001b[39m]]\n\u001b[1;32m      5\u001b[0m \u001b[39m# Plotting the values.\u001b[39;00m\n\u001b[0;32m----> 6\u001b[0m fig \u001b[39m=\u001b[39m px\u001b[39m.\u001b[39;49mpie(values \u001b[39m=\u001b[39;49m raw_df[\u001b[39m'\u001b[39;49m\u001b[39mis_fraud\u001b[39;49m\u001b[39m'\u001b[39;49m]\u001b[39m.\u001b[39;49mvalue_counts(), names \u001b[39m=\u001b[39;49m labels , width \u001b[39m=\u001b[39;49m \u001b[39m700\u001b[39;49m, height \u001b[39m=\u001b[39;49m \u001b[39m400\u001b[39;49m, color_discrete_sequence \u001b[39m=\u001b[39;49m [\u001b[39m\"\u001b[39;49m\u001b[39mskyblue\u001b[39;49m\u001b[39m\"\u001b[39;49m, \u001b[39m\"\u001b[39;49m\u001b[39mblack\u001b[39;49m\u001b[39m\"\u001b[39;49m]\n\u001b[1;32m      7\u001b[0m              ,title \u001b[39m=\u001b[39;49m \u001b[39m\"\u001b[39;49m\u001b[39mFraud vs Genuine transactions\u001b[39;49m\u001b[39m\"\u001b[39;49m)\n\u001b[1;32m      8\u001b[0m fig\u001b[39m.\u001b[39mshow()\n",
      "File \u001b[0;32m~/Library/Python/3.9/lib/python/site-packages/plotly/express/_chart_types.py:1482\u001b[0m, in \u001b[0;36mpie\u001b[0;34m(data_frame, names, values, color, facet_row, facet_col, facet_col_wrap, facet_row_spacing, facet_col_spacing, color_discrete_sequence, color_discrete_map, hover_name, hover_data, custom_data, category_orders, labels, title, template, width, height, opacity, hole)\u001b[0m\n\u001b[1;32m   1480\u001b[0m \u001b[39melse\u001b[39;00m:\n\u001b[1;32m   1481\u001b[0m     layout_patch \u001b[39m=\u001b[39m {}\n\u001b[0;32m-> 1482\u001b[0m \u001b[39mreturn\u001b[39;00m make_figure(\n\u001b[1;32m   1483\u001b[0m     args\u001b[39m=\u001b[39;49m\u001b[39mlocals\u001b[39;49m(),\n\u001b[1;32m   1484\u001b[0m     constructor\u001b[39m=\u001b[39;49mgo\u001b[39m.\u001b[39;49mPie,\n\u001b[1;32m   1485\u001b[0m     trace_patch\u001b[39m=\u001b[39;49m\u001b[39mdict\u001b[39;49m(showlegend\u001b[39m=\u001b[39;49m(names \u001b[39mis\u001b[39;49;00m \u001b[39mnot\u001b[39;49;00m \u001b[39mNone\u001b[39;49;00m), hole\u001b[39m=\u001b[39;49mhole),\n\u001b[1;32m   1486\u001b[0m     layout_patch\u001b[39m=\u001b[39;49mlayout_patch,\n\u001b[1;32m   1487\u001b[0m )\n",
      "File \u001b[0;32m~/Library/Python/3.9/lib/python/site-packages/plotly/express/_core.py:1991\u001b[0m, in \u001b[0;36mmake_figure\u001b[0;34m(args, constructor, trace_patch, layout_patch)\u001b[0m\n\u001b[1;32m   1988\u001b[0m layout_patch \u001b[39m=\u001b[39m layout_patch \u001b[39mor\u001b[39;00m {}\n\u001b[1;32m   1989\u001b[0m apply_default_cascade(args)\n\u001b[0;32m-> 1991\u001b[0m args \u001b[39m=\u001b[39m build_dataframe(args, constructor)\n\u001b[1;32m   1992\u001b[0m \u001b[39mif\u001b[39;00m constructor \u001b[39min\u001b[39;00m [go\u001b[39m.\u001b[39mTreemap, go\u001b[39m.\u001b[39mSunburst, go\u001b[39m.\u001b[39mIcicle] \u001b[39mand\u001b[39;00m args[\u001b[39m\"\u001b[39m\u001b[39mpath\u001b[39m\u001b[39m\"\u001b[39m] \u001b[39mis\u001b[39;00m \u001b[39mnot\u001b[39;00m \u001b[39mNone\u001b[39;00m:\n\u001b[1;32m   1993\u001b[0m     args \u001b[39m=\u001b[39m process_dataframe_hierarchy(args)\n",
      "File \u001b[0;32m~/Library/Python/3.9/lib/python/site-packages/plotly/express/_core.py:1406\u001b[0m, in \u001b[0;36mbuild_dataframe\u001b[0;34m(args, constructor)\u001b[0m\n\u001b[1;32m   1403\u001b[0m     args[\u001b[39m\"\u001b[39m\u001b[39mcolor\u001b[39m\u001b[39m\"\u001b[39m] \u001b[39m=\u001b[39m \u001b[39mNone\u001b[39;00m\n\u001b[1;32m   1404\u001b[0m \u001b[39m# now that things have been prepped, we do the systematic rewriting of `args`\u001b[39;00m\n\u001b[0;32m-> 1406\u001b[0m df_output, wide_id_vars \u001b[39m=\u001b[39m process_args_into_dataframe(\n\u001b[1;32m   1407\u001b[0m     args, wide_mode, var_name, value_name\n\u001b[1;32m   1408\u001b[0m )\n\u001b[1;32m   1410\u001b[0m \u001b[39m# now that `df_output` exists and `args` contains only references, we complete\u001b[39;00m\n\u001b[1;32m   1411\u001b[0m \u001b[39m# the special-case and wide-mode handling by further rewriting args and/or mutating\u001b[39;00m\n\u001b[1;32m   1412\u001b[0m \u001b[39m# df_output\u001b[39;00m\n\u001b[1;32m   1414\u001b[0m count_name \u001b[39m=\u001b[39m _escape_col_name(df_output, \u001b[39m\"\u001b[39m\u001b[39mcount\u001b[39m\u001b[39m\"\u001b[39m, [var_name, value_name])\n",
      "File \u001b[0;32m~/Library/Python/3.9/lib/python/site-packages/plotly/express/_core.py:1246\u001b[0m, in \u001b[0;36mprocess_args_into_dataframe\u001b[0;34m(args, wide_mode, var_name, value_name)\u001b[0m\n\u001b[1;32m   1243\u001b[0m         col_name \u001b[39m=\u001b[39m _check_name_not_reserved(field, reserved_names)\n\u001b[1;32m   1245\u001b[0m     \u001b[39mif\u001b[39;00m length \u001b[39mand\u001b[39;00m \u001b[39mlen\u001b[39m(argument) \u001b[39m!=\u001b[39m length:\n\u001b[0;32m-> 1246\u001b[0m         \u001b[39mraise\u001b[39;00m \u001b[39mValueError\u001b[39;00m(\n\u001b[1;32m   1247\u001b[0m             \u001b[39m\"\u001b[39m\u001b[39mAll arguments should have the same length. \u001b[39m\u001b[39m\"\u001b[39m\n\u001b[1;32m   1248\u001b[0m             \u001b[39m\"\u001b[39m\u001b[39mThe length of argument `\u001b[39m\u001b[39m%s\u001b[39;00m\u001b[39m` is \u001b[39m\u001b[39m%d\u001b[39;00m\u001b[39m, whereas the \u001b[39m\u001b[39m\"\u001b[39m\n\u001b[1;32m   1249\u001b[0m             \u001b[39m\"\u001b[39m\u001b[39mlength of  previously-processed arguments \u001b[39m\u001b[39m%s\u001b[39;00m\u001b[39m is \u001b[39m\u001b[39m%d\u001b[39;00m\u001b[39m\"\u001b[39m\n\u001b[1;32m   1250\u001b[0m             \u001b[39m%\u001b[39m (field, \u001b[39mlen\u001b[39m(argument), \u001b[39mstr\u001b[39m(\u001b[39mlist\u001b[39m(df_output\u001b[39m.\u001b[39mcolumns)), length)\n\u001b[1;32m   1251\u001b[0m         )\n\u001b[1;32m   1252\u001b[0m     df_output[\u001b[39mstr\u001b[39m(col_name)] \u001b[39m=\u001b[39m to_unindexed_series(argument)\n\u001b[1;32m   1254\u001b[0m \u001b[39m# Finally, update argument with column name now that column exists\u001b[39;00m\n",
      "\u001b[0;31mValueError\u001b[0m: All arguments should have the same length. The length of argument `values` is 4, whereas the length of  previously-processed arguments ['names'] is 2"
     ]
    }
   ],
   "source": [
    "# Labeling the data.\n",
    "labels=[\"Genuine\", \"Fraud\"]\n",
    "fraud_or_not = raw_df['is_fraud'].value_counts().tolist()\n",
    "values = [fraud_or_not[0], fraud_or_not[1]]\n",
    "# Plotting the values.\n",
    "fig = px.pie(values = raw_df['is_fraud'].value_counts(), names = labels , width = 700, height = 400, color_discrete_sequence = [\"skyblue\", \"black\"]\n",
    "             ,title = \"Fraud vs Genuine transactions\")\n",
    "fig.show()"
   ]
  }
 ],
 "metadata": {
  "kernelspec": {
   "display_name": "Python 3",
   "language": "python",
   "name": "python3"
  },
  "language_info": {
   "codemirror_mode": {
    "name": "ipython",
    "version": 3
   },
   "file_extension": ".py",
   "mimetype": "text/x-python",
   "name": "python",
   "nbconvert_exporter": "python",
   "pygments_lexer": "ipython3",
   "version": "3.9.6"
  },
  "orig_nbformat": 4,
  "vscode": {
   "interpreter": {
    "hash": "5edc29c2ed010d6458d71a83433b383a96a8cbd3efe8531bc90c4b8a5b8bcec9"
   }
  }
 },
 "nbformat": 4,
 "nbformat_minor": 2
}
